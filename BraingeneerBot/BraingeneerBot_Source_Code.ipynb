{
 "cells": [
  {
   "cell_type": "markdown",
   "id": "33550c8d",
   "metadata": {},
   "source": [
    "<font size=7 face=\"courier\"> Source Code"
   ]
  },
  {
   "cell_type": "markdown",
   "id": "2e92de01",
   "metadata": {},
   "source": [
    "This code creates a emailer bot that sends people warnings when devices that are part of live experiments fail."
   ]
  },
  {
   "cell_type": "markdown",
   "id": "0b2f01cd",
   "metadata": {
    "heading_collapsed": true
   },
   "source": [
    "# <font color=\"gray\">setup notebook"
   ]
  },
  {
   "cell_type": "markdown",
   "id": "a51c9f4e",
   "metadata": {
    "hidden": true
   },
   "source": [
    "import stuff"
   ]
  },
  {
   "cell_type": "code",
   "execution_count": 1,
   "id": "31fe5b64",
   "metadata": {
    "hidden": true
   },
   "outputs": [],
   "source": [
    "#!pip install ipydatetime"
   ]
  },
  {
   "cell_type": "code",
   "execution_count": 2,
   "id": "4b7f2fac",
   "metadata": {
    "hidden": true
   },
   "outputs": [],
   "source": [
    "import smtplib as smtp\n",
    "from email.mime.text import MIMEText\n",
    "import ipywidgets as w\n",
    "from IPython.core.display import HTML, display, Javascript, clear_output\n",
    "import time\n",
    "from braingeneers import iot\n",
    "from  datetime import datetime,timedelta\n",
    "import traceback\n",
    "import schedule"
   ]
  },
  {
   "cell_type": "code",
   "execution_count": 3,
   "id": "e9b6f82b",
   "metadata": {
    "hidden": true
   },
   "outputs": [],
   "source": [
    "#import ipydatetime"
   ]
  },
  {
   "cell_type": "markdown",
   "id": "17611eed",
   "metadata": {
    "heading_collapsed": true,
    "hidden": true
   },
   "source": [
    "## <font color=\"gray\"> Change Computer time zone"
   ]
  },
  {
   "cell_type": "markdown",
   "id": "a96d2fcb",
   "metadata": {
    "hidden": true
   },
   "source": [
    "type these commands in the terminal to set the time zone. Solution from [here](https://dev.to/0xbf/set-timezone-in-your-docker-image-d22)"
   ]
  },
  {
   "cell_type": "markdown",
   "id": "05cc11d3",
   "metadata": {
    "hidden": true
   },
   "source": [
    "```\n",
    "ln -fs /usr/share/zoneinfo/America/Los_Angeles /etc/localtime\n",
    "dpkg-reconfigure -f noninteractive tzdata\n",
    "```"
   ]
  },
  {
   "cell_type": "markdown",
   "id": "6ed9824a",
   "metadata": {},
   "source": [
    "# <font color=\"green\">Gui App"
   ]
  },
  {
   "cell_type": "markdown",
   "id": "26ad195d",
   "metadata": {
    "heading_collapsed": true
   },
   "source": [
    "## <font color=\"green\"> widgets"
   ]
  },
  {
   "cell_type": "markdown",
   "id": "9d82a78f",
   "metadata": {
    "hidden": true
   },
   "source": [
    "we create all the necessary widgets for creating GUI that user uses to set up emailer bot"
   ]
  },
  {
   "cell_type": "markdown",
   "id": "21d750f9",
   "metadata": {
    "heading_collapsed": true,
    "hidden": true
   },
   "source": [
    "### <font color=\"green\"> Email Recipeints"
   ]
  },
  {
   "cell_type": "markdown",
   "id": "57d93f69",
   "metadata": {
    "hidden": true
   },
   "source": [
    "Where the use types who they want to have receive emails"
   ]
  },
  {
   "cell_type": "code",
   "execution_count": 4,
   "id": "0b9aa3c0",
   "metadata": {
    "hidden": true
   },
   "outputs": [
    {
     "data": {
      "application/vnd.jupyter.widget-view+json": {
       "model_id": "5b56e60b19c845d4ac38ca6dae412615",
       "version_major": 2,
       "version_minor": 0
      },
      "text/plain": [
       "HTML(value='<p>Type the emails for people you want <code>BraingeneersBot</code> to notify. Use commas and no s…"
      ]
     },
     "metadata": {},
     "output_type": "display_data"
    }
   ],
   "source": [
    "w_emails_txt = w.HTML( \"\"\"<p>Type the emails for people you want <code>BraingeneersBot</code> to notify. Use commas and no spaces! Example: <code>me@gmail.com,you@gmail.com</code></p>\"\"\" )\n",
    "w_emails_txt\n",
    "#<h3>Type Emails</h3>\n"
   ]
  },
  {
   "cell_type": "code",
   "execution_count": 5,
   "id": "eb661024",
   "metadata": {
    "hidden": true
   },
   "outputs": [
    {
     "data": {
      "application/vnd.jupyter.widget-view+json": {
       "model_id": "b69d17a94e2040ba843532f9c56bd1aa",
       "version_major": 2,
       "version_minor": 0
      },
      "text/plain": [
       "Text(value='', description='Emails', layout=Layout(width='80%'))"
      ]
     },
     "metadata": {},
     "output_type": "display_data"
    }
   ],
   "source": [
    "w_emails = w.Text(description=\"Emails\",  layout= w.Layout(width='80%'))\n",
    "w_emails"
   ]
  },
  {
   "cell_type": "markdown",
   "id": "e74c2a4f",
   "metadata": {
    "heading_collapsed": true,
    "hidden": true
   },
   "source": [
    "### <font color=\"green\">Experiment Name"
   ]
  },
  {
   "cell_type": "markdown",
   "id": "fb706326",
   "metadata": {
    "hidden": true
   },
   "source": [
    "This is the name of the experimetn as it appears in emails"
   ]
  },
  {
   "cell_type": "code",
   "execution_count": 6,
   "id": "1ea364c1",
   "metadata": {
    "hidden": true
   },
   "outputs": [
    {
     "data": {
      "application/vnd.jupyter.widget-view+json": {
       "model_id": "0f2cfe735e074dffadfd69343b3e1386",
       "version_major": 2,
       "version_minor": 0
      },
      "text/plain": [
       "Text(value='', description='Experiment', layout=Layout(width='450px'))"
      ]
     },
     "metadata": {},
     "output_type": "display_data"
    }
   ],
   "source": [
    "w_experiment = w.Text(description=\"Experiment\",  layout= w.Layout(width='450px'))\n",
    "w_experiment"
   ]
  },
  {
   "cell_type": "markdown",
   "id": "394eb8ba",
   "metadata": {
    "heading_collapsed": true,
    "hidden": true
   },
   "source": [
    "### <font color=\"green\">IoT Devices"
   ]
  },
  {
   "cell_type": "markdown",
   "id": "c1527a19",
   "metadata": {
    "hidden": true
   },
   "source": [
    "This is where the use types the names of the IoT devices that they want `braingeneersBot` to check on."
   ]
  },
  {
   "cell_type": "code",
   "execution_count": 7,
   "id": "716f3555",
   "metadata": {
    "hidden": true
   },
   "outputs": [
    {
     "data": {
      "application/vnd.jupyter.widget-view+json": {
       "model_id": "925be6e49fe147d38d42624d7d17032c",
       "version_major": 2,
       "version_minor": 0
      },
      "text/plain": [
       "HTML(value='<p>Choose the name of your experiment as it will appear in emails. Specify all the devices that ar…"
      ]
     },
     "metadata": {},
     "output_type": "display_data"
    }
   ],
   "source": [
    "w_devices_txt = w.HTML( \"\"\"<p>Choose the name of your experiment as it will appear in emails. Specify all the devices that are part of this experiment and and how often you want <code>BraingeneersBot</code> to check on them. For devices, use commas and no spaces! Example: <code>flow_1,pic_1</code></p>\"\"\" )\n",
    "w_devices_txt\n"
   ]
  },
  {
   "cell_type": "code",
   "execution_count": 8,
   "id": "0ada3367",
   "metadata": {
    "hidden": true
   },
   "outputs": [
    {
     "data": {
      "application/vnd.jupyter.widget-view+json": {
       "model_id": "dadd1ce6809f43e095438c3d4974e5f1",
       "version_major": 2,
       "version_minor": 0
      },
      "text/plain": [
       "Text(value='', description='Devices', layout=Layout(width='450px'))"
      ]
     },
     "metadata": {},
     "output_type": "display_data"
    }
   ],
   "source": [
    "w_devices = w.Text(description=\"Devices\",  layout= w.Layout(width='450px'))\n",
    "w_devices"
   ]
  },
  {
   "cell_type": "markdown",
   "id": "446645d6",
   "metadata": {
    "heading_collapsed": true,
    "hidden": true
   },
   "source": [
    "### <font color=\"green\"> Check time"
   ]
  },
  {
   "cell_type": "markdown",
   "id": "20bf89fb",
   "metadata": {
    "hidden": true
   },
   "source": [
    "Where user speciefies how how much time much pass before `bot` sends warming. This is also how often the bot will send a warning message."
   ]
  },
  {
   "cell_type": "code",
   "execution_count": 9,
   "id": "8891e821",
   "metadata": {
    "hidden": true
   },
   "outputs": [
    {
     "data": {
      "application/vnd.jupyter.widget-view+json": {
       "model_id": "febc3749e6564d8d998309f55f10d93f",
       "version_major": 2,
       "version_minor": 0
      },
      "text/plain": [
       "IntText(value=2, description='Hours')"
      ]
     },
     "metadata": {},
     "output_type": "display_data"
    }
   ],
   "source": [
    "w_interval = w.IntText( value=2, description='Hours' )\n",
    "w_interval"
   ]
  },
  {
   "cell_type": "markdown",
   "id": "4fa7a8a0",
   "metadata": {
    "heading_collapsed": true,
    "hidden": true
   },
   "source": [
    "### <font color=\"green\"> Start/Stop Button"
   ]
  },
  {
   "cell_type": "markdown",
   "id": "26ef8248",
   "metadata": {
    "hidden": true
   },
   "source": [
    "Button which starts `bot`"
   ]
  },
  {
   "cell_type": "code",
   "execution_count": 10,
   "id": "ab171d1c",
   "metadata": {
    "hidden": true
   },
   "outputs": [
    {
     "data": {
      "application/vnd.jupyter.widget-view+json": {
       "model_id": "6c162da9aed44871bf549d9fd81ade54",
       "version_major": 2,
       "version_minor": 0
      },
      "text/plain": [
       "Button(button_style='success', description='Start', layout=Layout(width='auto'), style=ButtonStyle())"
      ]
     },
     "metadata": {},
     "output_type": "display_data"
    }
   ],
   "source": [
    "w_start_btn = w.Button( description=\"Start\", button_style='success',  layout= w.Layout(width='auto') )\n",
    "w_start_btn"
   ]
  },
  {
   "cell_type": "markdown",
   "id": "6a6f575d",
   "metadata": {
    "hidden": true
   },
   "source": [
    "Button that stops `bot`"
   ]
  },
  {
   "cell_type": "code",
   "execution_count": 11,
   "id": "8297f3b4",
   "metadata": {
    "hidden": true
   },
   "outputs": [
    {
     "data": {
      "application/vnd.jupyter.widget-view+json": {
       "model_id": "e7a61039d95c42379dc8f42d6d053612",
       "version_major": 2,
       "version_minor": 0
      },
      "text/plain": [
       "Button(button_style='danger', description='Stop', layout=Layout(width='auto'), style=ButtonStyle())"
      ]
     },
     "metadata": {},
     "output_type": "display_data"
    }
   ],
   "source": [
    "w_stop_btn = w.Button( description=\"Stop\", button_style='danger',  layout= w.Layout(width='auto') )\n",
    "w_stop_btn"
   ]
  },
  {
   "cell_type": "markdown",
   "id": "1ebc2526",
   "metadata": {
    "heading_collapsed": true,
    "hidden": true
   },
   "source": [
    "### <font color=\"green\">Date/time picker"
   ]
  },
  {
   "cell_type": "markdown",
   "id": "c9a39d89",
   "metadata": {
    "hidden": true
   },
   "source": [
    "these widgets are used to set the stop time of `braingeneerbot`"
   ]
  },
  {
   "cell_type": "code",
   "execution_count": 12,
   "id": "b30854e0",
   "metadata": {
    "hidden": true
   },
   "outputs": [],
   "source": [
    "w_date_txt = w.HTML( \"\"\"<p>Select the final day and time of the experiment. <code>BraingeneerBot</code> will stop checking for device updates after this time has been reached. <code>BraingeneerBot</code> uses military time.</p>\"\"\" )\n",
    "\n"
   ]
  },
  {
   "cell_type": "code",
   "execution_count": 13,
   "id": "1c24c88e",
   "metadata": {
    "hidden": true
   },
   "outputs": [
    {
     "data": {
      "application/vnd.jupyter.widget-view+json": {
       "model_id": "a62fafec0110438e9d4ae4bef4535410",
       "version_major": 2,
       "version_minor": 0
      },
      "text/plain": [
       "DatePicker(value=None)"
      ]
     },
     "metadata": {},
     "output_type": "display_data"
    }
   ],
   "source": [
    "w_date = w.DatePicker()\n",
    "w_date"
   ]
  },
  {
   "cell_type": "code",
   "execution_count": 14,
   "id": "d23e2bd2",
   "metadata": {
    "hidden": true
   },
   "outputs": [
    {
     "data": {
      "application/vnd.jupyter.widget-view+json": {
       "model_id": "a6338ea563b9497ba27c141da01e9e37",
       "version_major": 2,
       "version_minor": 0
      },
      "text/plain": [
       "IntSlider(value=7, description='hour', max=23)"
      ]
     },
     "metadata": {},
     "output_type": "display_data"
    }
   ],
   "source": [
    "w_hour = w.IntSlider( value=7,description='hour', min=0, max=23)\n",
    "w_hour "
   ]
  },
  {
   "cell_type": "code",
   "execution_count": 15,
   "id": "6154dc59",
   "metadata": {
    "hidden": true
   },
   "outputs": [
    {
     "data": {
      "application/vnd.jupyter.widget-view+json": {
       "model_id": "147c423936f045939217613805be3200",
       "version_major": 2,
       "version_minor": 0
      },
      "text/plain": [
       "IntSlider(value=7, description='minute', max=59)"
      ]
     },
     "metadata": {},
     "output_type": "display_data"
    }
   ],
   "source": [
    "w_minute = w.IntSlider( value=7,description='minute', min=0, max=59)\n",
    "w_minute"
   ]
  },
  {
   "cell_type": "markdown",
   "id": "8c7d0fae",
   "metadata": {},
   "source": [
    "## <font color=\"green\">Widget Boxes"
   ]
  },
  {
   "cell_type": "markdown",
   "id": "85a4370d",
   "metadata": {},
   "source": [
    "These boxes hold multiple widgets."
   ]
  },
  {
   "cell_type": "markdown",
   "id": "e24a48d3",
   "metadata": {},
   "source": [
    "### <font color=\"green\">Start Box"
   ]
  },
  {
   "cell_type": "code",
   "execution_count": 16,
   "id": "60d4dd90",
   "metadata": {},
   "outputs": [
    {
     "data": {
      "application/vnd.jupyter.widget-view+json": {
       "model_id": "eb17420cbd984d19a118f771eed79bfa",
       "version_major": 2,
       "version_minor": 0
      },
      "text/plain": [
       "VBox(children=(HTML(value='<p>Type the emails for people you want <code>BraingeneersBot</code> to notify. Use …"
      ]
     },
     "metadata": {},
     "output_type": "display_data"
    }
   ],
   "source": [
    "box_start = w.VBox([ w_emails_txt, w_emails, w_devices_txt, w_experiment, w_devices,w_interval,w_date_txt, w_date,w_hour,w_minute, w.HBox([w_start_btn])   ])\n",
    "box_start\n"
   ]
  },
  {
   "cell_type": "markdown",
   "id": "010cf004",
   "metadata": {
    "heading_collapsed": true
   },
   "source": [
    "### <font color=\"green\">?Stop Box?"
   ]
  },
  {
   "cell_type": "code",
   "execution_count": null,
   "id": "47c0fd4c",
   "metadata": {
    "hidden": true
   },
   "outputs": [],
   "source": []
  },
  {
   "cell_type": "markdown",
   "id": "20f74caa",
   "metadata": {
    "heading_collapsed": true
   },
   "source": [
    "# <font color=\"blue\">Send Email"
   ]
  },
  {
   "cell_type": "markdown",
   "id": "dc5df916",
   "metadata": {
    "hidden": true
   },
   "source": [
    "A helper function that to easily send emails."
   ]
  },
  {
   "cell_type": "code",
   "execution_count": 17,
   "id": "feda2c64",
   "metadata": {
    "hidden": true
   },
   "outputs": [],
   "source": [
    "def email(subject, message):\n",
    "    s = smtp.SMTP_SSL('smtp.gmail.com', 465)\n",
    "    s.login('braingeneerbot@gmail.com', 'injkvmljhfhjdutr')\n",
    "    emails = w_emails.value.replace(\" \", \"\").split(\",\") + [\"braingeneerbot@gmail.com\"]\n",
    "\n",
    "    msg = MIMEText(message)\n",
    "    msg['Subject'] = subject\n",
    "    msg['From'] = 'braingeneerbot@gmail.com'\n",
    "    msg['To'] = \", \".join(emails)\n",
    "\n",
    "    s.sendmail('braingeneerbot@gmail.com', emails, msg.as_string())\n",
    "    s.close()"
   ]
  },
  {
   "cell_type": "code",
   "execution_count": 18,
   "id": "a8005c9b",
   "metadata": {
    "hidden": true
   },
   "outputs": [],
   "source": [
    "#email(\"First Function\", \"this email was created with the function, email.\")"
   ]
  },
  {
   "cell_type": "markdown",
   "id": "a453c326",
   "metadata": {
    "heading_collapsed": true
   },
   "source": [
    "# <font color=\"orange\">Check IoT States"
   ]
  },
  {
   "cell_type": "markdown",
   "id": "4006ecfb",
   "metadata": {
    "hidden": true
   },
   "source": [
    "Checks if IoT devices are running properly. Sends error message if there are any problems."
   ]
  },
  {
   "cell_type": "code",
   "execution_count": 19,
   "id": "b476a64d",
   "metadata": {
    "hidden": true
   },
   "outputs": [],
   "source": [
    "def checkDevices():\n",
    "    emails = w_emails.value.replace(\" \", \"\").split(\",\") + [\"braingeneerbot@gmail.com\"]\n",
    "    devices = w_devices.value.replace(\" \", \"\").split(\",\")\n",
    "\n",
    "    for device in devices:\n",
    "        try: \n",
    "            history = iot.get_history(device)\n",
    "            last_run = datetime.fromisoformat( history[-1][:19] )\n",
    "            too_long = (datetime.now() - last_run) > timedelta( hours= w_interval.value )\n",
    "\n",
    "            if too_long:\n",
    "                message = f\"\"\"An IoT device has been offline for more than {w_interval.value} hours. This likely means that an error occured on the device and it is no longer running. This should be looked into immediately!\n",
    "\n",
    "                Experiment: {w_experiment.value}\n",
    "                Device: {device}\"\"\"\n",
    "                email( \"WARNING: IoT Experiment Device is Offline \", message )\n",
    "                \n",
    "        except Exception as e:\n",
    "            message = f\"\"\"An error occured when checking the status of an IoT device. This likely means the device shutdown prematurely or hasn't started running. The device name could also be incorreclty typed into BraingeneerBot. This should be looked into immediately!\n",
    "\n",
    "            Experiment: {w_experiment.value}\n",
    "            Device: {device}\n",
    "            Error:\n",
    "            {traceback.format_exc()}\"\"\"\n",
    "            email( \"WARNING: IoT Experiment Device Status Check Error\", message )\n",
    "            \n",
    "        "
   ]
  },
  {
   "cell_type": "markdown",
   "id": "6ea5bc64",
   "metadata": {
    "heading_collapsed": true,
    "hidden": true
   },
   "source": [
    "## <font color=\"brown\"> Scratch Paper"
   ]
  },
  {
   "cell_type": "raw",
   "id": "8a4c25be",
   "metadata": {
    "hidden": true
   },
   "source": [
    "device"
   ]
  },
  {
   "cell_type": "raw",
   "id": "23faac6e",
   "metadata": {
    "hidden": true
   },
   "source": [
    "subject = \"WARNING: IoT Experiment Device is Offline \""
   ]
  },
  {
   "cell_type": "raw",
   "id": "015ede36",
   "metadata": {
    "hidden": true
   },
   "source": [
    "message = f\"\"\"An IoT device has been offline for more than {w_interval.value} hours. This likely means that an error occured and the device is no longer running. This should be looked into immediately!\n",
    "\n",
    "Experiment: {w_experiment.value}\n",
    "Device: {device}\n",
    "\"\"\"\n"
   ]
  },
  {
   "cell_type": "raw",
   "id": "354c3a92",
   "metadata": {
    "hidden": true
   },
   "source": [
    "message"
   ]
  },
  {
   "cell_type": "raw",
   "id": "02b1ac7b",
   "metadata": {
    "hidden": true
   },
   "source": [
    "print( message )"
   ]
  },
  {
   "cell_type": "raw",
   "id": "f6c2fabb",
   "metadata": {
    "hidden": true
   },
   "source": [
    "(datetime.now() - last_run)"
   ]
  },
  {
   "cell_type": "raw",
   "id": "d5ed15a0",
   "metadata": {
    "hidden": true
   },
   "source": [
    "(datetime.now() - last_run).total_seconds() // 3600"
   ]
  },
  {
   "cell_type": "raw",
   "id": "a19276f2",
   "metadata": {
    "hidden": true
   },
   "source": [
    "email(subject, message)"
   ]
  },
  {
   "cell_type": "markdown",
   "id": "c572c439",
   "metadata": {
    "heading_collapsed": true
   },
   "source": [
    "# <font color=\"purple\"> Set up Schedule"
   ]
  },
  {
   "cell_type": "raw",
   "id": "7268853e",
   "metadata": {
    "hidden": true
   },
   "source": [
    "# Create Scheduled event and run it\n",
    "schedule.every( w_interval.value ).hours.do( checkDevices )\n",
    "end_time= datetime.combine( w_date.value, datetime.min.time() ) + timedelta(hours=w_hour.value, minutes=w_minute.value)\n",
    "while datetime.now() < end_time:\n",
    "    schedule.run_pending()\n",
    "    time.sleep(20)"
   ]
  },
  {
   "cell_type": "markdown",
   "id": "7cee53bc",
   "metadata": {
    "heading_collapsed": true,
    "hidden": true
   },
   "source": [
    "## <font color=\"brown\">Scratch Paper"
   ]
  },
  {
   "cell_type": "markdown",
   "id": "e84eface",
   "metadata": {
    "hidden": true
   },
   "source": [
    "testit.today()"
   ]
  },
  {
   "cell_type": "markdown",
   "id": "a6ed0d42",
   "metadata": {
    "hidden": true
   },
   "source": [
    "history[-1][:19]"
   ]
  },
  {
   "cell_type": "markdown",
   "id": "0dc9aa5d",
   "metadata": {
    "hidden": true
   },
   "source": [
    "testit = w_date.value"
   ]
  },
  {
   "cell_type": "markdown",
   "id": "ac8d50dd",
   "metadata": {
    "hidden": true
   },
   "source": [
    "testit"
   ]
  },
  {
   "cell_type": "markdown",
   "id": "0fb5b590",
   "metadata": {
    "hidden": true
   },
   "source": [
    "testit + timedelta(hours=5)"
   ]
  },
  {
   "cell_type": "markdown",
   "id": "f5e508cc",
   "metadata": {
    "hidden": true
   },
   "source": [
    " end_time= datetime.combine( w_date.value, datetime.min.time() ) + timedelta(hours=w_hour.value, minutes=w_minute.value)"
   ]
  },
  {
   "cell_type": "markdown",
   "id": "3e2253ba",
   "metadata": {
    "hidden": true
   },
   "source": [
    "w_minute.value"
   ]
  },
  {
   "cell_type": "markdown",
   "id": "0069e1d8",
   "metadata": {
    "hidden": true
   },
   "source": [
    "w_minute.value"
   ]
  },
  {
   "cell_type": "markdown",
   "id": "5cfd9ec3",
   "metadata": {
    "hidden": true
   },
   "source": [
    "end_time"
   ]
  },
  {
   "cell_type": "markdown",
   "id": "2d594dfd",
   "metadata": {},
   "source": [
    "# <font color=\"green\">Start Function"
   ]
  },
  {
   "cell_type": "markdown",
   "id": "5d1979f2",
   "metadata": {},
   "source": [
    "This is the function that start the program when the user clicks the start button"
   ]
  },
  {
   "cell_type": "code",
   "execution_count": 20,
   "id": "bd99eff1",
   "metadata": {},
   "outputs": [],
   "source": [
    "def startBot(b):\n",
    "    \n",
    "    # Display new output\n",
    "    clear_output()   \n",
    "    display( w.HTML( \"\"\"<p><code>BraingeneerBot</code> has been started! You should receive an email now confirming this. <code>BraingeneerBot</code> will continue to run until either the stop time of the experiment, or until you click the <code>Kernel->Restart & Clear Output</code> at the top of this page. Closing this window will not stop <code>BraingeneerBot</code> from continuing to run.</p>\"\"\") )\n",
    "\n",
    "    # Send Email notfication to recipients\n",
    "    end_time= datetime.combine( w_date.value, datetime.min.time() ) + timedelta(hours=w_hour.value, minutes=w_minute.value)\n",
    "    message = f\"\"\"A new Braingeneers IoT experiment has been launched! BraingeneerBot will notify you if any devices have catastrophic issues. BraingeneerBot has been programmed to check on the experiment every {w_interval.value} hours. Please make sure any BraingeneerBot notifications are immediately addressed.\n",
    "\n",
    "    Experiment: {w_experiment.value}\n",
    "    Devices: {w_devices.value}\n",
    "    End Time: {end_time.strftime(\"%m/%d/%Y, %H:%M\") }\"\"\"\n",
    "    email( \"New IoT Experiment is Online\", message )\n",
    "    \n",
    "    # Create Scheduled event and run it\n",
    "    schedule.every( w_interval.value ).hours.do( checkDevices )\n",
    "    while datetime.now() < end_time:\n",
    "        schedule.run_pending()\n",
    "        time.sleep(20)\n",
    "        \n",
    "w_start_btn.on_click( startBot )    \n",
    "    "
   ]
  },
  {
   "cell_type": "markdown",
   "id": "944c8e05",
   "metadata": {
    "heading_collapsed": true
   },
   "source": [
    "## <font color='brown'>Scratch Paper"
   ]
  },
  {
   "cell_type": "raw",
   "id": "603fe244",
   "metadata": {
    "hidden": true
   },
   "source": [
    "emails = w_emails.value.replace(\" \", \"\").split(\",\") + [\"braingeneerbot@gmail.com\"]\n",
    "devices = w_devices.value.replace(\" \", \"\").split(\",\")"
   ]
  },
  {
   "cell_type": "raw",
   "id": "a1f735e2",
   "metadata": {
    "hidden": true
   },
   "source": [
    "emails"
   ]
  },
  {
   "cell_type": "raw",
   "id": "b8a734b6",
   "metadata": {
    "hidden": true
   },
   "source": [
    "devices"
   ]
  },
  {
   "cell_type": "raw",
   "id": "4e0f7101",
   "metadata": {
    "hidden": true
   },
   "source": [
    "w_interval.value"
   ]
  },
  {
   "cell_type": "markdown",
   "id": "ffee53d2",
   "metadata": {
    "heading_collapsed": true
   },
   "source": [
    "## <font color=\"brown\">scratch paper"
   ]
  },
  {
   "cell_type": "raw",
   "id": "7ca2b11e",
   "metadata": {
    "hidden": true
   },
   "source": [
    "s = smtp.SMTP_SSL('smtp.gmail.com', 465)\n",
    "s.login('braingeneerbot@gmail.com', 'injkvmljhfhjdutr')\n",
    "\n",
    "msg = MIMEText(\"\"\"body\"\"\")\n",
    "msg['Subject'] = \"subject line\"\n",
    "msg['From'] = 'braingeneerbot@gmail.com'\n",
    "msg['To'] = \", \".join(emails)\n",
    "\n",
    "s.sendmail(email_addr, emails, msg.as_string())\n",
    "s.close()"
   ]
  },
  {
   "cell_type": "markdown",
   "id": "165b7bd3",
   "metadata": {
    "heading_collapsed": true
   },
   "source": [
    "# <font color=\"brown\">Scratch Paper"
   ]
  },
  {
   "cell_type": "markdown",
   "id": "fff699b1",
   "metadata": {
    "heading_collapsed": true,
    "hidden": true
   },
   "source": [
    "## <font color=\"green\">Test online code 1"
   ]
  },
  {
   "cell_type": "markdown",
   "id": "8cc8b19d",
   "metadata": {
    "hidden": true
   },
   "source": [
    "[code from here](https://stackoverflow.com/questions/72480454/sending-email-with-python-google-disables-less-secure-apps)"
   ]
  },
  {
   "cell_type": "raw",
   "id": "defb0ab6",
   "metadata": {
    "hidden": true
   },
   "source": [
    "connection = smtp.SMTP_SSL('smtp.gmail.com', 465)\n",
    "email_addr = 'braingeneerbot@gmail.com'\n",
    "email_passwd = 'injkvmljhfhjdutr'\n",
    "connection.login(email_addr, email_passwd)\n",
    "\n",
    "message = 'Subject: {}\\n\\n{}'.format(\"My First Test Message\", \"Sent from my IDE. Hehe\")\n",
    "connection.sendmail(from_addr=email_addr, to_addrs='melliot1@ucsc.edu', msg=message)\n",
    "connection.close()"
   ]
  },
  {
   "cell_type": "markdown",
   "id": "bd70dd8a",
   "metadata": {
    "heading_collapsed": true,
    "hidden": true
   },
   "source": [
    "## <font color=\"green\">Test online code 2"
   ]
  },
  {
   "cell_type": "markdown",
   "id": "ec529789",
   "metadata": {
    "hidden": true
   },
   "source": [
    "[code from here](https://stackoverflow.com/questions/8856117/how-to-send-email-to-multiple-recipients-using-python-smtplib)"
   ]
  },
  {
   "cell_type": "raw",
   "id": "83cc5e1d",
   "metadata": {
    "hidden": true
   },
   "source": [
    "s = smtp.SMTP_SSL('smtp.gmail.com', 465)\n",
    "email_addr = 'braingeneerbot@gmail.com'\n",
    "email_passwd = 'injkvmljhfhjdutr'\n",
    "s.login(email_addr, email_passwd)\n",
    "\n",
    "msg = MIMEText(\"\"\"body\"\"\")\n",
    "recipients = [email_addr, 'melliot1@ucsc.edu']\n",
    "msg['Subject'] = \"subject line\"\n",
    "msg['From'] = email_addr\n",
    "msg['To'] = \", \".join(recipients)\n",
    "\n",
    "s.sendmail(email_addr, recipients, msg.as_string())\n",
    "s.close()"
   ]
  }
 ],
 "metadata": {
  "hide_input": false,
  "kernelspec": {
   "display_name": "Python 3",
   "language": "python",
   "name": "python3"
  },
  "language_info": {
   "codemirror_mode": {
    "name": "ipython",
    "version": 3
   },
   "file_extension": ".py",
   "mimetype": "text/x-python",
   "name": "python",
   "nbconvert_exporter": "python",
   "pygments_lexer": "ipython3",
   "version": "3.8.8"
  },
  "toc": {
   "base_numbering": 1,
   "nav_menu": {},
   "number_sections": false,
   "sideBar": true,
   "skip_h1_title": false,
   "title_cell": "Table of Contents",
   "title_sidebar": "Contents",
   "toc_cell": false,
   "toc_position": {},
   "toc_section_display": true,
   "toc_window_display": false
  },
  "widgets": {
   "application/vnd.jupyter.widget-state+json": {
    "state": {
     "14323bda83f840a7aadb2facf078dafa": {
      "model_module": "@jupyter-widgets/controls",
      "model_module_version": "1.5.0",
      "model_name": "DescriptionStyleModel",
      "state": {
       "description_width": ""
      }
     },
     "24fb554d9e254ec28e32615ad77cc58c": {
      "model_module": "@jupyter-widgets/controls",
      "model_module_version": "1.5.0",
      "model_name": "DescriptionStyleModel",
      "state": {
       "description_width": ""
      }
     },
     "25c0e6261d234584ad61045051a21b47": {
      "model_module": "@jupyter-widgets/controls",
      "model_module_version": "1.5.0",
      "model_name": "IntTextModel",
      "state": {
       "description": "Minutes",
       "layout": "IPY_MODEL_97caf99d3e8b46dba4d0d22d469ae5c1",
       "step": 1,
       "style": "IPY_MODEL_e1762e09012d4b55a48edf02bd673de4",
       "value": 120
      }
     },
     "347cea676a964294ab9fb9487536859c": {
      "model_module": "@jupyter-widgets/controls",
      "model_module_version": "1.5.0",
      "model_name": "DescriptionStyleModel",
      "state": {
       "description_width": ""
      }
     },
     "3b07f1eddb6d422386f22df86e23c3f8": {
      "model_module": "@jupyter-widgets/controls",
      "model_module_version": "1.5.0",
      "model_name": "IntTextModel",
      "state": {
       "description": "Hours",
       "layout": "IPY_MODEL_e2b97f8f9b46426ba6947c214f7d21b1",
       "step": 1,
       "style": "IPY_MODEL_c28127131ac34f7690c306a3d0c1fbaa",
       "value": 2
      }
     },
     "45f6451fd57c477fab0d021faae2e26d": {
      "model_module": "@jupyter-widgets/controls",
      "model_module_version": "1.5.0",
      "model_name": "IntTextModel",
      "state": {
       "description": "Minutes",
       "layout": "IPY_MODEL_e4f00837e78d4789b3e537edba2478d4",
       "step": 1,
       "style": "IPY_MODEL_7f71aef6884446769d4ec910a096414d",
       "value": 2
      }
     },
     "46de34d1312044ee87f5068e2e48d9b3": {
      "model_module": "@jupyter-widgets/base",
      "model_module_version": "1.2.0",
      "model_name": "LayoutModel",
      "state": {}
     },
     "48d79f61fa4f48e5970fb0fb2b96c57f": {
      "model_module": "@jupyter-widgets/controls",
      "model_module_version": "1.5.0",
      "model_name": "DescriptionStyleModel",
      "state": {
       "description_width": ""
      }
     },
     "4f405153c23e41969787e57ae1797135": {
      "model_module": "@jupyter-widgets/controls",
      "model_module_version": "1.5.0",
      "model_name": "HTMLModel",
      "state": {
       "layout": "IPY_MODEL_46de34d1312044ee87f5068e2e48d9b3",
       "style": "IPY_MODEL_24fb554d9e254ec28e32615ad77cc58c",
       "value": "<h3>Type Emails</h3><p>Type the emails for people you want <code>BraingeneersBot</code> to notify. Use a comma to seperate them and no spaces! Example: <code>me@gmail.com,you@gmail.com</code></p>"
      }
     },
     "5a2f0005a22744bea1fe0dd31e6d86fc": {
      "model_module": "@jupyter-widgets/controls",
      "model_module_version": "1.5.0",
      "model_name": "TextModel",
      "state": {
       "description": "Emails",
       "layout": "IPY_MODEL_716fe3859f3b49f281e639ab87857066",
       "style": "IPY_MODEL_347cea676a964294ab9fb9487536859c"
      }
     },
     "5bc93215e279454aaa5761b6e2ca9895": {
      "model_module": "@jupyter-widgets/controls",
      "model_module_version": "1.5.0",
      "model_name": "DescriptionStyleModel",
      "state": {
       "description_width": ""
      }
     },
     "6137bd7b564d4cb99bde3f03dc5e4973": {
      "model_module": "@jupyter-widgets/controls",
      "model_module_version": "1.5.0",
      "model_name": "HTMLModel",
      "state": {
       "layout": "IPY_MODEL_d343fcbf3984468d8330fbb207b7be19",
       "style": "IPY_MODEL_d44cd45a0b274d81b4ea481c56484e39",
       "value": "<h3>Type Emails</h3><p>Type the emails for people you want <code>BraingeneersBot</code> to notify.</p><p>Use a comma to seperate them and no spaces! Example: <code>me@gmail.com,you@gmail.com</code></p>"
      }
     },
     "62661c30279c4c4485f56eb8d2f758f5": {
      "model_module": "@jupyter-widgets/controls",
      "model_module_version": "1.5.0",
      "model_name": "HTMLModel",
      "state": {
       "layout": "IPY_MODEL_7aa91455839c42799431b79a87a2dc3f",
       "style": "IPY_MODEL_14323bda83f840a7aadb2facf078dafa",
       "value": "<h3>Type Emails</h3><p>Type the emails for people you want <code>BraingeneersBot</code> to notify. Use a commas and no spaces! Example: <code>me@gmail.com,you@gmail.com</code></p>"
      }
     },
     "716fe3859f3b49f281e639ab87857066": {
      "model_module": "@jupyter-widgets/base",
      "model_module_version": "1.2.0",
      "model_name": "LayoutModel",
      "state": {
       "width": "450px"
      }
     },
     "7a26e5f011b64211a849da4bc45b7707": {
      "model_module": "@jupyter-widgets/base",
      "model_module_version": "1.2.0",
      "model_name": "LayoutModel",
      "state": {}
     },
     "7aa91455839c42799431b79a87a2dc3f": {
      "model_module": "@jupyter-widgets/base",
      "model_module_version": "1.2.0",
      "model_name": "LayoutModel",
      "state": {}
     },
     "7f71aef6884446769d4ec910a096414d": {
      "model_module": "@jupyter-widgets/controls",
      "model_module_version": "1.5.0",
      "model_name": "DescriptionStyleModel",
      "state": {
       "description_width": ""
      }
     },
     "835f0b8527624b6b98971389abdeb14a": {
      "model_module": "@jupyter-widgets/controls",
      "model_module_version": "1.5.0",
      "model_name": "DescriptionStyleModel",
      "state": {
       "description_width": ""
      }
     },
     "8c9fa8ede0f043469e01ac0d5a3cc43c": {
      "model_module": "@jupyter-widgets/base",
      "model_module_version": "1.2.0",
      "model_name": "LayoutModel",
      "state": {}
     },
     "97caf99d3e8b46dba4d0d22d469ae5c1": {
      "model_module": "@jupyter-widgets/base",
      "model_module_version": "1.2.0",
      "model_name": "LayoutModel",
      "state": {}
     },
     "9b6d2fef69c247cabb77fc81615a810e": {
      "model_module": "@jupyter-widgets/controls",
      "model_module_version": "1.5.0",
      "model_name": "HTMLModel",
      "state": {
       "layout": "IPY_MODEL_8c9fa8ede0f043469e01ac0d5a3cc43c",
       "style": "IPY_MODEL_d063819eaf624718a8c79a4bfa545fe4",
       "value": "<h3>Type Emails</h3><p>Type the emails for peopleyou want <code>BraingeneersBot</code> to notify.</p><p>Use a comma to seperate them and no spaces! Example: <code>me@gmail.com,you@gmail.com</code></p>"
      }
     },
     "9ec8cb1fc6814caa8fe10482aecdaac5": {
      "model_module": "@jupyter-widgets/controls",
      "model_module_version": "1.5.0",
      "model_name": "DescriptionStyleModel",
      "state": {
       "description_width": ""
      }
     },
     "a435fd81080542c08e5533ec52c42246": {
      "model_module": "@jupyter-widgets/base",
      "model_module_version": "1.2.0",
      "model_name": "LayoutModel",
      "state": {
       "width": "450px"
      }
     },
     "b35e50c1e3ca49a293d3654ad504cefe": {
      "model_module": "@jupyter-widgets/controls",
      "model_module_version": "1.5.0",
      "model_name": "IntTextModel",
      "state": {
       "description": "Minutes",
       "layout": "IPY_MODEL_f621db9815c74e1393b61f3124fcd484",
       "step": 1,
       "style": "IPY_MODEL_48d79f61fa4f48e5970fb0fb2b96c57f",
       "value": 120
      }
     },
     "b9735089179f4ee6b6770a3be175a5b9": {
      "model_module": "@jupyter-widgets/base",
      "model_module_version": "1.2.0",
      "model_name": "LayoutModel",
      "state": {}
     },
     "bf858690010e49a58e497cd1420772cd": {
      "model_module": "@jupyter-widgets/controls",
      "model_module_version": "1.5.0",
      "model_name": "HTMLModel",
      "state": {
       "layout": "IPY_MODEL_b9735089179f4ee6b6770a3be175a5b9",
       "style": "IPY_MODEL_5bc93215e279454aaa5761b6e2ca9895",
       "value": "<h3>Type Emails</h3><p>Type the emails for people you want <code>BraingeneersBot</code> to notify. Use a commas and no spaces! Example: <code>me@gmail.com,you@gmail.com</code></p>"
      }
     },
     "c28127131ac34f7690c306a3d0c1fbaa": {
      "model_module": "@jupyter-widgets/controls",
      "model_module_version": "1.5.0",
      "model_name": "DescriptionStyleModel",
      "state": {
       "description_width": ""
      }
     },
     "c4e013a2e05e4a81bc9511188912fd94": {
      "model_module": "@jupyter-widgets/controls",
      "model_module_version": "1.5.0",
      "model_name": "TextModel",
      "state": {
       "description": "Emails",
       "layout": "IPY_MODEL_f6fb018fc7aa40c1b30197eab069f134",
       "style": "IPY_MODEL_c70f7bbc3b174004b399c51f61c2cc68"
      }
     },
     "c70f7bbc3b174004b399c51f61c2cc68": {
      "model_module": "@jupyter-widgets/controls",
      "model_module_version": "1.5.0",
      "model_name": "DescriptionStyleModel",
      "state": {
       "description_width": ""
      }
     },
     "d063819eaf624718a8c79a4bfa545fe4": {
      "model_module": "@jupyter-widgets/controls",
      "model_module_version": "1.5.0",
      "model_name": "DescriptionStyleModel",
      "state": {
       "description_width": ""
      }
     },
     "d343fcbf3984468d8330fbb207b7be19": {
      "model_module": "@jupyter-widgets/base",
      "model_module_version": "1.2.0",
      "model_name": "LayoutModel",
      "state": {}
     },
     "d44cd45a0b274d81b4ea481c56484e39": {
      "model_module": "@jupyter-widgets/controls",
      "model_module_version": "1.5.0",
      "model_name": "DescriptionStyleModel",
      "state": {
       "description_width": ""
      }
     },
     "e14b2eac525b4ec28d053a42026c0f07": {
      "model_module": "@jupyter-widgets/controls",
      "model_module_version": "1.5.0",
      "model_name": "TextModel",
      "state": {
       "description": "Emails",
       "layout": "IPY_MODEL_a435fd81080542c08e5533ec52c42246",
       "style": "IPY_MODEL_9ec8cb1fc6814caa8fe10482aecdaac5"
      }
     },
     "e1762e09012d4b55a48edf02bd673de4": {
      "model_module": "@jupyter-widgets/controls",
      "model_module_version": "1.5.0",
      "model_name": "DescriptionStyleModel",
      "state": {
       "description_width": ""
      }
     },
     "e2b97f8f9b46426ba6947c214f7d21b1": {
      "model_module": "@jupyter-widgets/base",
      "model_module_version": "1.2.0",
      "model_name": "LayoutModel",
      "state": {}
     },
     "e4f00837e78d4789b3e537edba2478d4": {
      "model_module": "@jupyter-widgets/base",
      "model_module_version": "1.2.0",
      "model_name": "LayoutModel",
      "state": {}
     },
     "f621db9815c74e1393b61f3124fcd484": {
      "model_module": "@jupyter-widgets/base",
      "model_module_version": "1.2.0",
      "model_name": "LayoutModel",
      "state": {}
     },
     "f6fb018fc7aa40c1b30197eab069f134": {
      "model_module": "@jupyter-widgets/base",
      "model_module_version": "1.2.0",
      "model_name": "LayoutModel",
      "state": {
       "width": "450px"
      }
     },
     "fd2ddf5501f94e93a0219c59415dba2c": {
      "model_module": "@jupyter-widgets/controls",
      "model_module_version": "1.5.0",
      "model_name": "HTMLModel",
      "state": {
       "layout": "IPY_MODEL_7a26e5f011b64211a849da4bc45b7707",
       "style": "IPY_MODEL_835f0b8527624b6b98971389abdeb14a",
       "value": "<h3>Select Devices</h3><p>Type the name of the devices you wish to view.</p><p>Use a comma to seperate them and no spaces! Example: <code>flow_1,pic_1</code></p>"
      }
     }
    },
    "version_major": 2,
    "version_minor": 0
   }
  }
 },
 "nbformat": 4,
 "nbformat_minor": 5
}
