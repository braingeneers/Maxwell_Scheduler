{
 "cells": [
  {
   "cell_type": "markdown",
   "id": "06861c70",
   "metadata": {},
   "source": [
    "<font size=7 color=\"magenta\"><i>Braingeneer Bot"
   ]
  },
  {
   "cell_type": "markdown",
   "id": "7c38bdc1",
   "metadata": {},
   "source": [
    "The <code>BraingeneerBot</code> app is used to launch an automated experiment checker which notifies you by email if any of the devices have catastrophic failures. Use the tool below to set up <code>BraingeneerBot</code>. You should specify who should receive emails, how often <code>BraingeneerBot</code> checks on your experiment's devices, and when the experiment should end."
   ]
  },
  {
   "cell_type": "code",
   "execution_count": 1,
   "id": "8d093c92",
   "metadata": {},
   "outputs": [],
   "source": [
    "%run BraingeneerBot_Source_Code.ipynb"
   ]
  },
  {
   "cell_type": "code",
   "execution_count": 2,
   "id": "ab85711e",
   "metadata": {},
   "outputs": [
    {
     "data": {
      "application/vnd.jupyter.widget-view+json": {
       "model_id": "e3938ce2704643ff82b58fe4f4d1c83f",
       "version_major": 2,
       "version_minor": 0
      },
      "text/plain": [
       "VBox(children=(HTML(value='<p>Type the emails for people you want <code>BraingeneersBot</code> to notify. Use …"
      ]
     },
     "metadata": {},
     "output_type": "display_data"
    }
   ],
   "source": [
    "box_start"
   ]
  },
  {
   "cell_type": "code",
   "execution_count": null,
   "id": "2beef7f0",
   "metadata": {},
   "outputs": [],
   "source": []
  }
 ],
 "metadata": {
  "hide_input": true,
  "kernelspec": {
   "display_name": "Python 3",
   "language": "python",
   "name": "python3"
  },
  "language_info": {
   "codemirror_mode": {
    "name": "ipython",
    "version": 3
   },
   "file_extension": ".py",
   "mimetype": "text/x-python",
   "name": "python",
   "nbconvert_exporter": "python",
   "pygments_lexer": "ipython3",
   "version": "3.8.8"
  },
  "toc": {
   "base_numbering": 1,
   "nav_menu": {},
   "number_sections": false,
   "sideBar": true,
   "skip_h1_title": false,
   "title_cell": "Table of Contents",
   "title_sidebar": "Contents",
   "toc_cell": false,
   "toc_position": {},
   "toc_section_display": true,
   "toc_window_display": false
  },
  "widgets": {
   "application/vnd.jupyter.widget-state+json": {
    "state": {},
    "version_major": 2,
    "version_minor": 0
   }
  }
 },
 "nbformat": 4,
 "nbformat_minor": 5
}
