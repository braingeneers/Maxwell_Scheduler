{
 "cells": [
  {
   "cell_type": "markdown",
   "id": "9a66b275",
   "metadata": {},
   "source": [
    "<i><font color=\"fuchsia\" size=7>IoT Device Manager"
   ]
  },
  {
   "cell_type": "markdown",
   "id": "7d22e0cc",
   "metadata": {},
   "source": [
    "This app allows to to view information from devices and control them."
   ]
  },
  {
   "cell_type": "code",
   "execution_count": 7,
   "id": "e2c6d3a3",
   "metadata": {},
   "outputs": [],
   "source": [
    "%run \"Interface Code.ipynb\""
   ]
  },
  {
   "cell_type": "code",
   "execution_count": 8,
   "id": "c061e290",
   "metadata": {},
   "outputs": [],
   "source": [
    "#send(\"nile\", \"movePlunger(centris_pump)\")\n",
    "#shutdown(\"flow_1\", hard=True)"
   ]
  },
  {
   "cell_type": "code",
   "execution_count": 9,
   "id": "4d8f7e67",
   "metadata": {},
   "outputs": [],
   "source": [
    "# my_id ='db2bd247-a67d-4024-bbe9-2f8e2b9c8d51'\n",
    "# mbb = messaging.MessageBroker(my_id)                             # spin up iot\n",
    "# mbb.publish_message( topic=f\"devices/dummy/flow_1\", message={\"command\": \"x='hello'\",\"id\":my_id} )    # send command to listening device\n",
    "# mbb.shutdown()                                                             # shutdown iot"
   ]
  },
  {
   "cell_type": "markdown",
   "id": "e46df4a8",
   "metadata": {},
   "source": [
    "# <font color=\"SteelBlue\">Device Controller"
   ]
  },
  {
   "cell_type": "markdown",
   "id": "f3a539c1",
   "metadata": {},
   "source": [
    "This tool allows you to to change what commands run on your device. It also allows you to pause experiments and shut them down when your done."
   ]
  },
  {
   "cell_type": "code",
   "execution_count": 10,
   "id": "5c79e5f7",
   "metadata": {},
   "outputs": [
    {
     "data": {
      "application/vnd.jupyter.widget-view+json": {
       "model_id": "bba5eea15b5c41f8bf64334d6ca3fdf9",
       "version_major": 2,
       "version_minor": 0
      },
      "text/plain": [
       "HTML(value=\"<h4>What do you want to do?</h4><p>You can send a new command to the device or change it's status …"
      ]
     },
     "metadata": {},
     "output_type": "display_data"
    },
    {
     "data": {
      "application/vnd.jupyter.widget-view+json": {
       "model_id": "f3cc0898d8724abf9bc8e261f1461d12",
       "version_major": 2,
       "version_minor": 0
      },
      "text/plain": [
       "HBox(children=(Button(button_style='success', description='Send Command', layout=Layout(margin='2px 20px 0 0')…"
      ]
     },
     "metadata": {},
     "output_type": "display_data"
    },
    {
     "ename": "KeyError",
     "evalue": "'status'",
     "output_type": "error",
     "traceback": [
      "\u001b[0;31m---------------------------------------------------------------------------\u001b[0m",
      "\u001b[0;31mKeyError\u001b[0m                                  Traceback (most recent call last)",
      "\u001b[0;32m<ipython-input-7-718e6264aaaa>\u001b[0m in \u001b[0;36mctrl_options_status_func\u001b[0;34m(b)\u001b[0m\n\u001b[1;32m      1\u001b[0m \u001b[0;32mdef\u001b[0m \u001b[0mctrl_options_status_func\u001b[0m\u001b[0;34m(\u001b[0m\u001b[0mb\u001b[0m\u001b[0;34m)\u001b[0m\u001b[0;34m:\u001b[0m\u001b[0;34m\u001b[0m\u001b[0;34m\u001b[0m\u001b[0m\n\u001b[0;32m----> 2\u001b[0;31m     \u001b[0mstatus\u001b[0m \u001b[0;34m=\u001b[0m \u001b[0mget_status\u001b[0m\u001b[0;34m(\u001b[0m\u001b[0mctrl_device_txt\u001b[0m\u001b[0;34m.\u001b[0m\u001b[0mvalue\u001b[0m\u001b[0;34m)\u001b[0m\u001b[0;34m\u001b[0m\u001b[0;34m\u001b[0m\u001b[0m\n\u001b[0m\u001b[1;32m      3\u001b[0m     \u001b[0mclear_output\u001b[0m\u001b[0;34m(\u001b[0m\u001b[0;34m)\u001b[0m\u001b[0;34m\u001b[0m\u001b[0;34m\u001b[0m\u001b[0m\n\u001b[1;32m      4\u001b[0m     \u001b[0mdisplay\u001b[0m\u001b[0;34m(\u001b[0m\u001b[0mw\u001b[0m\u001b[0;34m.\u001b[0m\u001b[0mHTML\u001b[0m\u001b[0;34m(\u001b[0m\u001b[0;34mf\"\"\"<h4>Current {ctrl_device_txt.value} status: <font color='green'>{status}</font> </h4><p>User the buttons below to change the status</p>\"\"\"\u001b[0m\u001b[0;34m)\u001b[0m\u001b[0;34m)\u001b[0m\u001b[0;34m\u001b[0m\u001b[0;34m\u001b[0m\u001b[0m\n\u001b[1;32m      5\u001b[0m     \u001b[0mdisplay\u001b[0m\u001b[0;34m(\u001b[0m\u001b[0mctrl_status\u001b[0m\u001b[0;34m)\u001b[0m\u001b[0;34m\u001b[0m\u001b[0;34m\u001b[0m\u001b[0m\n",
      "\u001b[0;32m<ipython-input-7-1b91f2537201>\u001b[0m in \u001b[0;36mget_status\u001b[0;34m(device_name)\u001b[0m\n\u001b[1;32m      3\u001b[0m     \u001b[0mwarnings\u001b[0m\u001b[0;34m.\u001b[0m\u001b[0mfilterwarnings\u001b[0m\u001b[0;34m(\u001b[0m\u001b[0;34m\"ignore\"\u001b[0m\u001b[0;34m)\u001b[0m\u001b[0;34m\u001b[0m\u001b[0;34m\u001b[0m\u001b[0m\n\u001b[1;32m      4\u001b[0m     \u001b[0mmb\u001b[0m \u001b[0;34m=\u001b[0m \u001b[0mmessaging\u001b[0m\u001b[0;34m.\u001b[0m\u001b[0mMessageBroker\u001b[0m\u001b[0;34m(\u001b[0m\u001b[0mstr\u001b[0m\u001b[0;34m(\u001b[0m\u001b[0muuid\u001b[0m\u001b[0;34m.\u001b[0m\u001b[0muuid4\u001b[0m\u001b[0;34m)\u001b[0m\u001b[0;34m)\u001b[0m                        \u001b[0;31m# spin up iot\u001b[0m\u001b[0;34m\u001b[0m\u001b[0;34m\u001b[0m\u001b[0m\n\u001b[0;32m----> 5\u001b[0;31m     \u001b[0mstatus\u001b[0m \u001b[0;34m=\u001b[0m \u001b[0mmb\u001b[0m\u001b[0;34m.\u001b[0m\u001b[0mget_device_state\u001b[0m\u001b[0;34m(\u001b[0m \u001b[0mdevice_name\u001b[0m \u001b[0;34m)\u001b[0m\u001b[0;34m[\u001b[0m\u001b[0;34m\"status\"\u001b[0m\u001b[0;34m]\u001b[0m                \u001b[0;31m# get schedule for device\u001b[0m\u001b[0;34m\u001b[0m\u001b[0;34m\u001b[0m\u001b[0m\n\u001b[0m\u001b[1;32m      6\u001b[0m     \u001b[0mmb\u001b[0m\u001b[0;34m.\u001b[0m\u001b[0mshutdown\u001b[0m\u001b[0;34m(\u001b[0m\u001b[0;34m)\u001b[0m                                                        \u001b[0;31m# shutdown iot\u001b[0m\u001b[0;34m\u001b[0m\u001b[0;34m\u001b[0m\u001b[0m\n\u001b[1;32m      7\u001b[0m     \u001b[0;32mreturn\u001b[0m \u001b[0mstatus\u001b[0m                                                        \u001b[0;31m# return schedule to user\u001b[0m\u001b[0;34m\u001b[0m\u001b[0;34m\u001b[0m\u001b[0m\n",
      "\u001b[0;31mKeyError\u001b[0m: 'status'"
     ]
    }
   ],
   "source": [
    "ctrl_device"
   ]
  },
  {
   "cell_type": "markdown",
   "id": "cf2b5f58",
   "metadata": {
    "heading_collapsed": true
   },
   "source": [
    "# <font color=\"DarkOrchid\"> Device Viewer "
   ]
  },
  {
   "cell_type": "markdown",
   "id": "95dd56b8",
   "metadata": {
    "heading_collapsed": true,
    "hidden": true
   },
   "source": [
    "## <font color=\"DarkOrchid\"> Draw Schedule"
   ]
  },
  {
   "cell_type": "code",
   "execution_count": 11,
   "id": "698f7614",
   "metadata": {
    "hidden": true
   },
   "outputs": [
    {
     "data": {
      "application/vnd.jupyter.widget-view+json": {
       "model_id": "5d1c810a77fd4445bb004861586e570a",
       "version_major": 2,
       "version_minor": 0
      },
      "text/plain": [
       "VBox(children=(HTML(value='<h3>Select Devices</h3><p>Type the name of the devices you wish to view.</p><p>Use …"
      ]
     },
     "metadata": {},
     "output_type": "display_data"
    }
   ],
   "source": [
    "cal_device"
   ]
  },
  {
   "cell_type": "markdown",
   "id": "078697b6",
   "metadata": {
    "heading_collapsed": true,
    "hidden": true
   },
   "source": [
    "## <font color=\"DarkOrchid\"> View History"
   ]
  },
  {
   "cell_type": "code",
   "execution_count": 12,
   "id": "a90395b1",
   "metadata": {
    "hidden": true,
    "scrolled": false
   },
   "outputs": [
    {
     "data": {
      "application/vnd.jupyter.widget-view+json": {
       "model_id": "f27ba76e7a0f4e08ac257cc0694a8555",
       "version_major": 2,
       "version_minor": 0
      },
      "text/plain": [
       "VBox(children=(HTML(value=\"<h3>Select Device</h3><p>Type the name of the device to see it's history. Example: …"
      ]
     },
     "metadata": {},
     "output_type": "display_data"
    }
   ],
   "source": [
    "hist_device"
   ]
  },
  {
   "cell_type": "code",
   "execution_count": null,
   "id": "9ed943be",
   "metadata": {
    "hidden": true
   },
   "outputs": [],
   "source": []
  },
  {
   "cell_type": "code",
   "execution_count": null,
   "id": "6f24ccfa",
   "metadata": {
    "hidden": true
   },
   "outputs": [],
   "source": []
  },
  {
   "cell_type": "code",
   "execution_count": null,
   "id": "cbe0aa4f",
   "metadata": {
    "hidden": true
   },
   "outputs": [],
   "source": []
  }
 ],
 "metadata": {
  "hide_input": true,
  "kernelspec": {
   "display_name": "Python 3",
   "language": "python",
   "name": "python3"
  },
  "language_info": {
   "codemirror_mode": {
    "name": "ipython",
    "version": 3
   },
   "file_extension": ".py",
   "mimetype": "text/x-python",
   "name": "python",
   "nbconvert_exporter": "python",
   "pygments_lexer": "ipython3",
   "version": "3.8.8"
  },
  "toc": {
   "base_numbering": 1,
   "nav_menu": {},
   "number_sections": true,
   "sideBar": true,
   "skip_h1_title": false,
   "title_cell": "Table of Contents",
   "title_sidebar": "Contents",
   "toc_cell": false,
   "toc_position": {},
   "toc_section_display": true,
   "toc_window_display": false
  },
  "widgets": {
   "application/vnd.jupyter.widget-state+json": {
    "state": {
     "00bcdb7534224a848258c7e9d5ec183b": {
      "model_module": "@jupyter-widgets/controls",
      "model_module_version": "1.5.0",
      "model_name": "HTMLModel",
      "state": {
       "layout": "IPY_MODEL_3c5b17a5364d4b26a1215a0b59153343",
       "style": "IPY_MODEL_688cc1f968f44befac500518b1041674",
       "value": "<h4>What do you want to do?</h4><p>You can send a new command to the device or change it's status between running, paused, and shutdown. </p> "
      }
     },
     "0255bb68781b4b0abbca5a75e3123820": {
      "model_module": "@jupyter-widgets/controls",
      "model_module_version": "1.5.0",
      "model_name": "HTMLModel",
      "state": {
       "layout": "IPY_MODEL_2458c0a0239a48169eeb3ac1387fdfde",
       "style": "IPY_MODEL_54a808e1bd944f87b0c6db3372500989",
       "value": "<h3>Select Device</h3><p>Type the name of the device to see it's history. Example: <code>flow_1</code></p>"
      }
     },
     "02c2e350b95c408abd5597103031e137": {
      "model_module": "@jupyter-widgets/controls",
      "model_module_version": "1.5.0",
      "model_name": "HTMLModel",
      "state": {
       "layout": "IPY_MODEL_445d318cde884e3896faab6696d87231",
       "style": "IPY_MODEL_908c57b7feca49fbb6f48465ed1c3a7c",
       "value": "<h3>Enter Command</h3><p>Type your device command below. It will be sent to <b>congo</b>. To schedule commands, check out <a href='https://schedule.readthedocs.io/en/stable/examples.html' target='_blank'>this reference</a></p>"
      }
     },
     "050030f958844fc3aac66dce2fdabd5e": {
      "model_module": "@jupyter-widgets/controls",
      "model_module_version": "1.5.0",
      "model_name": "VBoxModel",
      "state": {
       "children": [
        "IPY_MODEL_64878f71da954bb6a79224845cfa3053",
        "IPY_MODEL_32feaf78360f44ebaf0bc2dd724ae533"
       ],
       "layout": "IPY_MODEL_e0c8d04cd46d4b50a31c8ec607a7ffab"
      }
     },
     "069e003f58014a2da391ea9e616cc229": {
      "model_module": "@jupyter-widgets/controls",
      "model_module_version": "1.5.0",
      "model_name": "DescriptionStyleModel",
      "state": {
       "description_width": ""
      }
     },
     "07e1896d95fe473dada3775a95e81dbd": {
      "model_module": "@jupyter-widgets/base",
      "model_module_version": "1.2.0",
      "model_name": "LayoutModel",
      "state": {
       "margin": "2px 20px 0 0"
      }
     },
     "0bf2df6bfdc84cb99c1e2bc7244f711a": {
      "model_module": "@jupyter-widgets/controls",
      "model_module_version": "1.5.0",
      "model_name": "ButtonModel",
      "state": {
       "button_style": "info",
       "icon": "refresh",
       "layout": "IPY_MODEL_2d036ef110a145589f9b9d6948df74d4",
       "style": "IPY_MODEL_629e5a14d56b49b8bc863cadd1b56ded"
      }
     },
     "0de2479b7c004f7db4ff0892aebfa480": {
      "model_module": "@jupyter-widgets/controls",
      "model_module_version": "1.5.0",
      "model_name": "HBoxModel",
      "state": {
       "children": [
        "IPY_MODEL_d924b94182404107a5226a998b569b8d",
        "IPY_MODEL_bd14fb2d02bf4eb5bf26ac76f5a9035f"
       ],
       "layout": "IPY_MODEL_90cd285749a34e8da80feb9384f4e3a2"
      }
     },
     "10d7f0e2899a4a33a64968f593b2206d": {
      "model_module": "@jupyter-widgets/controls",
      "model_module_version": "1.5.0",
      "model_name": "ButtonModel",
      "state": {
       "button_style": "success",
       "description": "Send",
       "layout": "IPY_MODEL_616ac915ecc94e9d9ba8356f273e1dfd",
       "style": "IPY_MODEL_1da4a5c91ed04cb0bf0c1c7dfb85f6b7"
      }
     },
     "110b41f5427d47d5b1a2288c47c04bac": {
      "model_module": "@jupyter-widgets/controls",
      "model_module_version": "1.5.0",
      "model_name": "ButtonStyleModel",
      "state": {}
     },
     "1139d0bf71b7488fbdba5e60793886d7": {
      "model_module": "@jupyter-widgets/controls",
      "model_module_version": "1.5.0",
      "model_name": "DescriptionStyleModel",
      "state": {
       "description_width": ""
      }
     },
     "1447319075894264a8864f17e5682e6e": {
      "model_module": "@jupyter-widgets/controls",
      "model_module_version": "1.5.0",
      "model_name": "HBoxModel",
      "state": {
       "children": [
        "IPY_MODEL_af4fbca650354c9b95bbf622b559811b",
        "IPY_MODEL_32925faabb7147e88a9e2d0992f4c596",
        "IPY_MODEL_87848290c2a04137be2a973608bf6206",
        "IPY_MODEL_392af5625aa942a48e5ab54ee6fe1326"
       ],
       "layout": "IPY_MODEL_a3186565c54b4397a4f819d9708eee41"
      }
     },
     "15f2f395a572407e90f68c4f9fec1c0b": {
      "model_module": "@jupyter-widgets/base",
      "model_module_version": "1.2.0",
      "model_name": "LayoutModel",
      "state": {
       "margin": "2px 50px 0 0",
       "width": "auto"
      }
     },
     "1c48a9b52467435b97b57b2b200054bb": {
      "model_module": "@jupyter-widgets/base",
      "model_module_version": "1.2.0",
      "model_name": "LayoutModel",
      "state": {
       "margin": "2px 20px 0 0",
       "width": "auto"
      }
     },
     "1da4a5c91ed04cb0bf0c1c7dfb85f6b7": {
      "model_module": "@jupyter-widgets/controls",
      "model_module_version": "1.5.0",
      "model_name": "ButtonStyleModel",
      "state": {}
     },
     "1fb4da5c46e743259f9b1869caa5c203": {
      "model_module": "@jupyter-widgets/controls",
      "model_module_version": "1.5.0",
      "model_name": "ButtonModel",
      "state": {
       "button_style": "info",
       "icon": "refresh",
       "layout": "IPY_MODEL_b08488160e0b44b3a2406edaf9576fab",
       "style": "IPY_MODEL_58688780f0524c3dbe31d0a4317a615d"
      }
     },
     "200f920891574cdba3e73dbb3893bd9d": {
      "model_module": "@jupyter-widgets/controls",
      "model_module_version": "1.5.0",
      "model_name": "HBoxModel",
      "state": {
       "children": [
        "IPY_MODEL_ba6adaa36658483b939a2d134cab95cb",
        "IPY_MODEL_f8f751960deb4cebb766f89fcc2b1125",
        "IPY_MODEL_392af5625aa942a48e5ab54ee6fe1326"
       ],
       "layout": "IPY_MODEL_9bd3b480e8aa4b5284be726bb2537dd7"
      }
     },
     "236b43aac7a342618457116fbc09faa6": {
      "model_module": "@jupyter-widgets/base",
      "model_module_version": "1.2.0",
      "model_name": "LayoutModel",
      "state": {}
     },
     "2458c0a0239a48169eeb3ac1387fdfde": {
      "model_module": "@jupyter-widgets/base",
      "model_module_version": "1.2.0",
      "model_name": "LayoutModel",
      "state": {}
     },
     "252b34b6251546f3a399c201e8a02866": {
      "model_module": "@jupyter-widgets/controls",
      "model_module_version": "1.5.0",
      "model_name": "DescriptionStyleModel",
      "state": {
       "description_width": ""
      }
     },
     "2d036ef110a145589f9b9d6948df74d4": {
      "model_module": "@jupyter-widgets/base",
      "model_module_version": "1.2.0",
      "model_name": "LayoutModel",
      "state": {
       "width": "auto"
      }
     },
     "2d3be0726f9f467da2f0c75f7cf0d7d8": {
      "model_module": "@jupyter-widgets/controls",
      "model_module_version": "1.5.0",
      "model_name": "DescriptionStyleModel",
      "state": {
       "description_width": ""
      }
     },
     "2d989ef59d90478fb90ec2153415f70a": {
      "model_module": "@jupyter-widgets/base",
      "model_module_version": "1.2.0",
      "model_name": "LayoutModel",
      "state": {
       "width": "auto"
      }
     },
     "301dd2913a9e4f0e908a6a6179d699ff": {
      "model_module": "@jupyter-widgets/controls",
      "model_module_version": "1.5.0",
      "model_name": "DescriptionStyleModel",
      "state": {
       "description_width": ""
      }
     },
     "325e097954644b6db8f522e9b865410b": {
      "model_module": "@jupyter-widgets/controls",
      "model_module_version": "1.5.0",
      "model_name": "ButtonStyleModel",
      "state": {}
     },
     "32925faabb7147e88a9e2d0992f4c596": {
      "model_module": "@jupyter-widgets/controls",
      "model_module_version": "1.5.0",
      "model_name": "ButtonModel",
      "state": {
       "button_style": "warning",
       "description": "Pause",
       "layout": "IPY_MODEL_37374503d9d64540922391149764978a",
       "style": "IPY_MODEL_325e097954644b6db8f522e9b865410b"
      }
     },
     "32feaf78360f44ebaf0bc2dd724ae533": {
      "model_module": "@jupyter-widgets/controls",
      "model_module_version": "1.5.0",
      "model_name": "HBoxModel",
      "state": {
       "children": [
        "IPY_MODEL_51a5b15266d94a0c851d3a23b7494522",
        "IPY_MODEL_53336ff4be084651904e05db3f0b0732"
       ],
       "layout": "IPY_MODEL_cc27eda40dde4e09b56c4e6afb31cda6"
      }
     },
     "37374503d9d64540922391149764978a": {
      "model_module": "@jupyter-widgets/base",
      "model_module_version": "1.2.0",
      "model_name": "LayoutModel",
      "state": {
       "margin": "2px 20px 0 0"
      }
     },
     "392af5625aa942a48e5ab54ee6fe1326": {
      "model_module": "@jupyter-widgets/controls",
      "model_module_version": "1.5.0",
      "model_name": "ButtonModel",
      "state": {
       "button_style": "info",
       "icon": "refresh",
       "layout": "IPY_MODEL_5a59db9d0b8a491f9acf94d6be2fcef0",
       "style": "IPY_MODEL_110b41f5427d47d5b1a2288c47c04bac"
      }
     },
     "3c5b17a5364d4b26a1215a0b59153343": {
      "model_module": "@jupyter-widgets/base",
      "model_module_version": "1.2.0",
      "model_name": "LayoutModel",
      "state": {}
     },
     "3e10930e756e4bd2941fdc0a0b52ac0b": {
      "model_module": "@jupyter-widgets/controls",
      "model_module_version": "1.5.0",
      "model_name": "TextModel",
      "state": {
       "description": "Devices",
       "layout": "IPY_MODEL_55aa699a879c478c8d1156c1f750c458",
       "style": "IPY_MODEL_2d3be0726f9f467da2f0c75f7cf0d7d8"
      }
     },
     "4403a82c89fa48b6bb4c675bdfabb563": {
      "model_module": "@jupyter-widgets/base",
      "model_module_version": "1.2.0",
      "model_name": "LayoutModel",
      "state": {}
     },
     "445d318cde884e3896faab6696d87231": {
      "model_module": "@jupyter-widgets/base",
      "model_module_version": "1.2.0",
      "model_name": "LayoutModel",
      "state": {}
     },
     "47ea0a4fb878481793aab9e1570b329b": {
      "model_module": "@jupyter-widgets/base",
      "model_module_version": "1.2.0",
      "model_name": "LayoutModel",
      "state": {
       "width": "750px"
      }
     },
     "4cdb13e3a659449cbdbf4e8a309e5ec7": {
      "model_module": "@jupyter-widgets/controls",
      "model_module_version": "1.5.0",
      "model_name": "HTMLModel",
      "state": {
       "layout": "IPY_MODEL_5621a9a917ab46ccbe04c5d5e77e49a3",
       "style": "IPY_MODEL_9ac29bfe1a15425988d74357308603ec",
       "value": "<h4>What do you want to do?</h4><p>You can send a new command to the device or change it's status between running, paused, and shutdown. </p> "
      }
     },
     "4fe7d6138efd4a4992758c87ceaee67d": {
      "model_module": "@jupyter-widgets/base",
      "model_module_version": "1.2.0",
      "model_name": "LayoutModel",
      "state": {}
     },
     "51a5b15266d94a0c851d3a23b7494522": {
      "model_module": "@jupyter-widgets/controls",
      "model_module_version": "1.5.0",
      "model_name": "TextModel",
      "state": {
       "description": "Device",
       "layout": "IPY_MODEL_ab142660ef9e43bc85ac73d30b6d3ede",
       "style": "IPY_MODEL_301dd2913a9e4f0e908a6a6179d699ff",
       "value": "congo"
      }
     },
     "52e5ad4d35b34bedb5ba090166cb66c1": {
      "model_module": "@jupyter-widgets/controls",
      "model_module_version": "1.5.0",
      "model_name": "ButtonStyleModel",
      "state": {}
     },
     "53336ff4be084651904e05db3f0b0732": {
      "model_module": "@jupyter-widgets/controls",
      "model_module_version": "1.5.0",
      "model_name": "ButtonModel",
      "state": {
       "button_style": "success",
       "description": "Select",
       "layout": "IPY_MODEL_86d203fc5dfe4668ba75f456a555f1cc",
       "style": "IPY_MODEL_e286dcc22c104a07900b1895a1e8fe00"
      }
     },
     "54a808e1bd944f87b0c6db3372500989": {
      "model_module": "@jupyter-widgets/controls",
      "model_module_version": "1.5.0",
      "model_name": "DescriptionStyleModel",
      "state": {
       "description_width": ""
      }
     },
     "55aa699a879c478c8d1156c1f750c458": {
      "model_module": "@jupyter-widgets/base",
      "model_module_version": "1.2.0",
      "model_name": "LayoutModel",
      "state": {
       "width": "450px"
      }
     },
     "5621a9a917ab46ccbe04c5d5e77e49a3": {
      "model_module": "@jupyter-widgets/base",
      "model_module_version": "1.2.0",
      "model_name": "LayoutModel",
      "state": {}
     },
     "58688780f0524c3dbe31d0a4317a615d": {
      "model_module": "@jupyter-widgets/controls",
      "model_module_version": "1.5.0",
      "model_name": "ButtonStyleModel",
      "state": {}
     },
     "5a59db9d0b8a491f9acf94d6be2fcef0": {
      "model_module": "@jupyter-widgets/base",
      "model_module_version": "1.2.0",
      "model_name": "LayoutModel",
      "state": {
       "width": "auto"
      }
     },
     "60c8f5e52fdf4152b914a7ae0f35df02": {
      "model_module": "@jupyter-widgets/controls",
      "model_module_version": "1.5.0",
      "model_name": "HTMLModel",
      "state": {
       "layout": "IPY_MODEL_4403a82c89fa48b6bb4c675bdfabb563",
       "style": "IPY_MODEL_069e003f58014a2da391ea9e616cc229",
       "value": "<h4>Command sent to congo</h4>"
      }
     },
     "616ac915ecc94e9d9ba8356f273e1dfd": {
      "model_module": "@jupyter-widgets/base",
      "model_module_version": "1.2.0",
      "model_name": "LayoutModel",
      "state": {
       "margin": "2px 20px 0 0",
       "width": "auto"
      }
     },
     "61a4fd63c93b4953bc8f8a58f1b406e8": {
      "model_module": "@jupyter-widgets/controls",
      "model_module_version": "1.5.0",
      "model_name": "ButtonStyleModel",
      "state": {}
     },
     "629e5a14d56b49b8bc863cadd1b56ded": {
      "model_module": "@jupyter-widgets/controls",
      "model_module_version": "1.5.0",
      "model_name": "ButtonStyleModel",
      "state": {}
     },
     "64878f71da954bb6a79224845cfa3053": {
      "model_module": "@jupyter-widgets/controls",
      "model_module_version": "1.5.0",
      "model_name": "HTMLModel",
      "state": {
       "layout": "IPY_MODEL_e2828064703d474fa6126b811f67918d",
       "style": "IPY_MODEL_cb6e0bd4be864714ae643e91bf3f10f1",
       "value": "<h3>Select Device to Control</h3><p>Type the name of the device you wish to controle. Example: <code>flow_1</code></p>"
      }
     },
     "688cc1f968f44befac500518b1041674": {
      "model_module": "@jupyter-widgets/controls",
      "model_module_version": "1.5.0",
      "model_name": "DescriptionStyleModel",
      "state": {
       "description_width": ""
      }
     },
     "7aa9e4a870124cd8b9e8ede76a7e8b2b": {
      "model_module": "@jupyter-widgets/controls",
      "model_module_version": "1.5.0",
      "model_name": "ButtonStyleModel",
      "state": {}
     },
     "82bfdd16bf5247098854119d35ee8f40": {
      "model_module": "@jupyter-widgets/base",
      "model_module_version": "1.2.0",
      "model_name": "LayoutModel",
      "state": {
       "margin": "2px 20px 0 0"
      }
     },
     "85d9431059ec45c39811861da310d30b": {
      "model_module": "@jupyter-widgets/controls",
      "model_module_version": "1.5.0",
      "model_name": "VBoxModel",
      "state": {
       "children": [
        "IPY_MODEL_0255bb68781b4b0abbca5a75e3123820",
        "IPY_MODEL_0de2479b7c004f7db4ff0892aebfa480"
       ],
       "layout": "IPY_MODEL_8efc3c939ad54fa58f764d7c6955cbf2"
      }
     },
     "8699fa09dca14df99c7fbef8f9915764": {
      "model_module": "@jupyter-widgets/base",
      "model_module_version": "1.2.0",
      "model_name": "LayoutModel",
      "state": {}
     },
     "86d203fc5dfe4668ba75f456a555f1cc": {
      "model_module": "@jupyter-widgets/base",
      "model_module_version": "1.2.0",
      "model_name": "LayoutModel",
      "state": {
       "width": "auto"
      }
     },
     "87848290c2a04137be2a973608bf6206": {
      "model_module": "@jupyter-widgets/controls",
      "model_module_version": "1.5.0",
      "model_name": "ButtonModel",
      "state": {
       "button_style": "danger",
       "description": "Shutdown",
       "layout": "IPY_MODEL_15f2f395a572407e90f68c4f9fec1c0b",
       "style": "IPY_MODEL_daa6056596c7439ab076c23bac984d8f"
      }
     },
     "895e9e88d5374851a4215f8b916b5325": {
      "model_module": "@jupyter-widgets/controls",
      "model_module_version": "1.5.0",
      "model_name": "TextModel",
      "state": {
       "description": "Command",
       "layout": "IPY_MODEL_47ea0a4fb878481793aab9e1570b329b",
       "style": "IPY_MODEL_1139d0bf71b7488fbdba5e60793886d7"
      }
     },
     "8d61237edadb48e6b61af2341d29f6cd": {
      "model_module": "@jupyter-widgets/controls",
      "model_module_version": "1.5.0",
      "model_name": "ButtonModel",
      "state": {
       "button_style": "success",
       "description": "Draw",
       "layout": "IPY_MODEL_2d989ef59d90478fb90ec2153415f70a",
       "style": "IPY_MODEL_9762deb29199432ea119f42c6e0a092a"
      }
     },
     "8efc3c939ad54fa58f764d7c6955cbf2": {
      "model_module": "@jupyter-widgets/base",
      "model_module_version": "1.2.0",
      "model_name": "LayoutModel",
      "state": {}
     },
     "908c57b7feca49fbb6f48465ed1c3a7c": {
      "model_module": "@jupyter-widgets/controls",
      "model_module_version": "1.5.0",
      "model_name": "DescriptionStyleModel",
      "state": {
       "description_width": ""
      }
     },
     "90cd285749a34e8da80feb9384f4e3a2": {
      "model_module": "@jupyter-widgets/base",
      "model_module_version": "1.2.0",
      "model_name": "LayoutModel",
      "state": {}
     },
     "9762deb29199432ea119f42c6e0a092a": {
      "model_module": "@jupyter-widgets/controls",
      "model_module_version": "1.5.0",
      "model_name": "ButtonStyleModel",
      "state": {}
     },
     "9ac29bfe1a15425988d74357308603ec": {
      "model_module": "@jupyter-widgets/controls",
      "model_module_version": "1.5.0",
      "model_name": "DescriptionStyleModel",
      "state": {
       "description_width": ""
      }
     },
     "9bd3b480e8aa4b5284be726bb2537dd7": {
      "model_module": "@jupyter-widgets/base",
      "model_module_version": "1.2.0",
      "model_name": "LayoutModel",
      "state": {}
     },
     "9c46cb1186c64a56aa74c6dad014dee6": {
      "model_module": "@jupyter-widgets/controls",
      "model_module_version": "1.5.0",
      "model_name": "HTMLModel",
      "state": {
       "layout": "IPY_MODEL_fd9b1d0780674381a5394a0f32ebaf43",
       "style": "IPY_MODEL_252b34b6251546f3a399c201e8a02866",
       "value": "<h3>Select Devices</h3><p>Type the name of the devices you wish to view.</p><p>Use a comma to seperate them and no spaces! Example: <code>flow_1,pic_1</code></p>"
      }
     },
     "a251cc02ff4b46bcb65feafcbeebc73c": {
      "model_module": "@jupyter-widgets/controls",
      "model_module_version": "1.5.0",
      "model_name": "HBoxModel",
      "state": {
       "children": [
        "IPY_MODEL_895e9e88d5374851a4215f8b916b5325",
        "IPY_MODEL_10d7f0e2899a4a33a64968f593b2206d",
        "IPY_MODEL_392af5625aa942a48e5ab54ee6fe1326"
       ],
       "layout": "IPY_MODEL_236b43aac7a342618457116fbc09faa6"
      }
     },
     "a2b2f22118784d65af4f2444fdabf06c": {
      "model_module": "@jupyter-widgets/controls",
      "model_module_version": "1.5.0",
      "model_name": "DescriptionStyleModel",
      "state": {
       "description_width": ""
      }
     },
     "a3186565c54b4397a4f819d9708eee41": {
      "model_module": "@jupyter-widgets/base",
      "model_module_version": "1.2.0",
      "model_name": "LayoutModel",
      "state": {}
     },
     "ab142660ef9e43bc85ac73d30b6d3ede": {
      "model_module": "@jupyter-widgets/base",
      "model_module_version": "1.2.0",
      "model_name": "LayoutModel",
      "state": {}
     },
     "af4fbca650354c9b95bbf622b559811b": {
      "model_module": "@jupyter-widgets/controls",
      "model_module_version": "1.5.0",
      "model_name": "ButtonModel",
      "state": {
       "button_style": "success",
       "description": "Run",
       "layout": "IPY_MODEL_82bfdd16bf5247098854119d35ee8f40",
       "style": "IPY_MODEL_ff52499a71c848b881baf55523b60c84"
      }
     },
     "b08488160e0b44b3a2406edaf9576fab": {
      "model_module": "@jupyter-widgets/base",
      "model_module_version": "1.2.0",
      "model_name": "LayoutModel",
      "state": {
       "width": "auto"
      }
     },
     "b44990c7701b42478422a01d367a0590": {
      "model_module": "@jupyter-widgets/base",
      "model_module_version": "1.2.0",
      "model_name": "LayoutModel",
      "state": {
       "width": "auto"
      }
     },
     "ba6adaa36658483b939a2d134cab95cb": {
      "model_module": "@jupyter-widgets/controls",
      "model_module_version": "1.5.0",
      "model_name": "ButtonModel",
      "state": {
       "button_style": "success",
       "description": "Send Command",
       "layout": "IPY_MODEL_07e1896d95fe473dada3775a95e81dbd",
       "style": "IPY_MODEL_7aa9e4a870124cd8b9e8ede76a7e8b2b"
      }
     },
     "bd14fb2d02bf4eb5bf26ac76f5a9035f": {
      "model_module": "@jupyter-widgets/controls",
      "model_module_version": "1.5.0",
      "model_name": "ButtonModel",
      "state": {
       "button_style": "success",
       "description": "Get",
       "layout": "IPY_MODEL_b44990c7701b42478422a01d367a0590",
       "style": "IPY_MODEL_52e5ad4d35b34bedb5ba090166cb66c1"
      }
     },
     "c6c73344768a465287a060f899ac881a": {
      "model_module": "@jupyter-widgets/base",
      "model_module_version": "1.2.0",
      "model_name": "LayoutModel",
      "state": {}
     },
     "cb6e0bd4be864714ae643e91bf3f10f1": {
      "model_module": "@jupyter-widgets/controls",
      "model_module_version": "1.5.0",
      "model_name": "DescriptionStyleModel",
      "state": {
       "description_width": ""
      }
     },
     "cc27eda40dde4e09b56c4e6afb31cda6": {
      "model_module": "@jupyter-widgets/base",
      "model_module_version": "1.2.0",
      "model_name": "LayoutModel",
      "state": {}
     },
     "d924b94182404107a5226a998b569b8d": {
      "model_module": "@jupyter-widgets/controls",
      "model_module_version": "1.5.0",
      "model_name": "TextModel",
      "state": {
       "description": "Device",
       "layout": "IPY_MODEL_8699fa09dca14df99c7fbef8f9915764",
       "style": "IPY_MODEL_a2b2f22118784d65af4f2444fdabf06c"
      }
     },
     "daa6056596c7439ab076c23bac984d8f": {
      "model_module": "@jupyter-widgets/controls",
      "model_module_version": "1.5.0",
      "model_name": "ButtonStyleModel",
      "state": {}
     },
     "e0c8d04cd46d4b50a31c8ec607a7ffab": {
      "model_module": "@jupyter-widgets/base",
      "model_module_version": "1.2.0",
      "model_name": "LayoutModel",
      "state": {}
     },
     "e2828064703d474fa6126b811f67918d": {
      "model_module": "@jupyter-widgets/base",
      "model_module_version": "1.2.0",
      "model_name": "LayoutModel",
      "state": {}
     },
     "e286dcc22c104a07900b1895a1e8fe00": {
      "model_module": "@jupyter-widgets/controls",
      "model_module_version": "1.5.0",
      "model_name": "ButtonStyleModel",
      "state": {}
     },
     "eb1af159e30048b990d9becacd98d03d": {
      "model_module": "@jupyter-widgets/controls",
      "model_module_version": "1.5.0",
      "model_name": "HBoxModel",
      "state": {
       "children": [
        "IPY_MODEL_3e10930e756e4bd2941fdc0a0b52ac0b",
        "IPY_MODEL_8d61237edadb48e6b61af2341d29f6cd"
       ],
       "layout": "IPY_MODEL_4fe7d6138efd4a4992758c87ceaee67d"
      }
     },
     "f8c750af97c64ca2a0fed3293972dde7": {
      "model_module": "@jupyter-widgets/controls",
      "model_module_version": "1.5.0",
      "model_name": "VBoxModel",
      "state": {
       "children": [
        "IPY_MODEL_9c46cb1186c64a56aa74c6dad014dee6",
        "IPY_MODEL_eb1af159e30048b990d9becacd98d03d"
       ],
       "layout": "IPY_MODEL_c6c73344768a465287a060f899ac881a"
      }
     },
     "f8f751960deb4cebb766f89fcc2b1125": {
      "model_module": "@jupyter-widgets/controls",
      "model_module_version": "1.5.0",
      "model_name": "ButtonModel",
      "state": {
       "button_style": "warning",
       "description": "Change Status",
       "layout": "IPY_MODEL_1c48a9b52467435b97b57b2b200054bb",
       "style": "IPY_MODEL_61a4fd63c93b4953bc8f8a58f1b406e8"
      }
     },
     "fd9b1d0780674381a5394a0f32ebaf43": {
      "model_module": "@jupyter-widgets/base",
      "model_module_version": "1.2.0",
      "model_name": "LayoutModel",
      "state": {}
     },
     "ff52499a71c848b881baf55523b60c84": {
      "model_module": "@jupyter-widgets/controls",
      "model_module_version": "1.5.0",
      "model_name": "ButtonStyleModel",
      "state": {}
     }
    },
    "version_major": 2,
    "version_minor": 0
   }
  }
 },
 "nbformat": 4,
 "nbformat_minor": 5
}
