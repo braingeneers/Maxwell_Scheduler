{
 "cells": [
  {
   "cell_type": "markdown",
   "id": "9a66b275",
   "metadata": {},
   "source": [
    "<i><font color=\"fuchsia\" size=7>IoT Device Manager"
   ]
  },
  {
   "cell_type": "markdown",
   "id": "7d22e0cc",
   "metadata": {},
   "source": [
    "This app allows to to view information from devices and control them."
   ]
  },
  {
   "cell_type": "code",
   "execution_count": 1,
   "id": "e2c6d3a3",
   "metadata": {},
   "outputs": [],
   "source": [
    "%run \"Interface Code.ipynb\""
   ]
  },
  {
   "cell_type": "code",
   "execution_count": 2,
   "id": "c061e290",
   "metadata": {},
   "outputs": [],
   "source": [
    "#send(\"nile\", \"movePlunger(centris_pump)\")\n",
    "#shutdown(\"flow_1\", hard=True)"
   ]
  },
  {
   "cell_type": "code",
   "execution_count": 3,
   "id": "4d8f7e67",
   "metadata": {},
   "outputs": [],
   "source": [
    "# my_id ='db2bd247-a67d-4024-bbe9-2f8e2b9c8d51'\n",
    "# mbb = messaging.MessageBroker(my_id)                             # spin up iot\n",
    "# mbb.publish_message( topic=f\"devices/dummy/flow_1\", message={\"command\": \"x='hello'\",\"id\":my_id} )    # send command to listening device\n",
    "# mbb.shutdown()                                                             # shutdown iot"
   ]
  },
  {
   "cell_type": "markdown",
   "id": "e46df4a8",
   "metadata": {},
   "source": [
    "# <font color=\"SteelBlue\">Device Controller"
   ]
  },
  {
   "cell_type": "markdown",
   "id": "f3a539c1",
   "metadata": {},
   "source": [
    "This tool allows you to to change what commands run on your device. It also allows you to pause experiments and shut them down when your done."
   ]
  },
  {
   "cell_type": "code",
   "execution_count": 4,
   "id": "5c79e5f7",
   "metadata": {},
   "outputs": [
    {
     "data": {
      "application/vnd.jupyter.widget-view+json": {
       "model_id": "ad4fc47e37384c4884734511ca34614a",
       "version_major": 2,
       "version_minor": 0
      },
      "text/plain": [
       "VBox(children=(HTML(value='<h3>Select Device to Control</h3><p>Type the name of the device you wish to control…"
      ]
     },
     "metadata": {},
     "output_type": "display_data"
    }
   ],
   "source": [
    "ctrl_device"
   ]
  },
  {
   "cell_type": "markdown",
   "id": "cf2b5f58",
   "metadata": {
    "heading_collapsed": true
   },
   "source": [
    "# <font color=\"DarkOrchid\"> Device Viewer "
   ]
  },
  {
   "cell_type": "markdown",
   "id": "95dd56b8",
   "metadata": {
    "heading_collapsed": true,
    "hidden": true
   },
   "source": [
    "## <font color=\"DarkOrchid\"> Draw Schedule"
   ]
  },
  {
   "cell_type": "code",
   "execution_count": 5,
   "id": "c0d547bd",
   "metadata": {
    "hidden": true
   },
   "outputs": [
    {
     "data": {
      "application/vnd.jupyter.widget-view+json": {
       "model_id": "82aefaced28c42e2994a2c942715468b",
       "version_major": 2,
       "version_minor": 0
      },
      "text/plain": [
       "VBox(children=(HTML(value='<h3>Select Devices</h3><p>Type the name of the devices you wish to view.</p><p>Use …"
      ]
     },
     "metadata": {},
     "output_type": "display_data"
    }
   ],
   "source": [
    "cal_device"
   ]
  },
  {
   "cell_type": "markdown",
   "id": "078697b6",
   "metadata": {
    "heading_collapsed": true,
    "hidden": true
   },
   "source": [
    "## <font color=\"DarkOrchid\"> View History"
   ]
  },
  {
   "cell_type": "code",
   "execution_count": 6,
   "id": "a90395b1",
   "metadata": {
    "hidden": true,
    "scrolled": false
   },
   "outputs": [
    {
     "data": {
      "application/vnd.jupyter.widget-view+json": {
       "model_id": "6644ca76b180466f857337f43d5be51e",
       "version_major": 2,
       "version_minor": 0
      },
      "text/plain": [
       "VBox(children=(HTML(value=\"<h3>Select Device</h3><p>Type the name of the device to see it's history. Example: …"
      ]
     },
     "metadata": {},
     "output_type": "display_data"
    }
   ],
   "source": [
    "hist_device"
   ]
  },
  {
   "cell_type": "code",
   "execution_count": null,
   "id": "9ed943be",
   "metadata": {
    "hidden": true
   },
   "outputs": [],
   "source": []
  }
 ],
 "metadata": {
  "hide_input": false,
  "kernelspec": {
   "display_name": "Python 3",
   "language": "python",
   "name": "python3"
  },
  "language_info": {
   "codemirror_mode": {
    "name": "ipython",
    "version": 3
   },
   "file_extension": ".py",
   "mimetype": "text/x-python",
   "name": "python",
   "nbconvert_exporter": "python",
   "pygments_lexer": "ipython3",
   "version": "3.8.8"
  },
  "toc": {
   "base_numbering": 1,
   "nav_menu": {},
   "number_sections": true,
   "sideBar": true,
   "skip_h1_title": false,
   "title_cell": "Table of Contents",
   "title_sidebar": "Contents",
   "toc_cell": false,
   "toc_position": {},
   "toc_section_display": true,
   "toc_window_display": false
  },
  "widgets": {
   "application/vnd.jupyter.widget-state+json": {
    "state": {
     "00c79cc5c87e42cdb5c4220631449462": {
      "model_module": "@jupyter-widgets/controls",
      "model_module_version": "1.5.0",
      "model_name": "ButtonStyleModel",
      "state": {}
     },
     "00e6fbcb182e43058033586767ab7349": {
      "model_module": "@jupyter-widgets/controls",
      "model_module_version": "1.5.0",
      "model_name": "DescriptionStyleModel",
      "state": {
       "description_width": ""
      }
     },
     "01f1e5ddc6fa4677bf6c538163fb7ef2": {
      "model_module": "@jupyter-widgets/controls",
      "model_module_version": "1.5.0",
      "model_name": "ButtonModel",
      "state": {
       "button_style": "danger",
       "description": "Shutdown",
       "layout": "IPY_MODEL_9214663908f84136b96c4f109db2a2e5",
       "style": "IPY_MODEL_9799783b80fc4a398898e19200141e77"
      }
     },
     "025c26140610452aa28bef06d21309f6": {
      "model_module": "@jupyter-widgets/base",
      "model_module_version": "1.2.0",
      "model_name": "LayoutModel",
      "state": {
       "width": "auto"
      }
     },
     "02a3a55a792d4a378ce948ed4f98aada": {
      "model_module": "@jupyter-widgets/controls",
      "model_module_version": "1.5.0",
      "model_name": "HTMLModel",
      "state": {
       "layout": "IPY_MODEL_3641de02a0b24d4fb959cddf0b8aa416",
       "style": "IPY_MODEL_b8c2c36c40e2430897b043e65ad3937a",
       "value": "<h4>What do you want to do?</h4><p>You can send a new command to the device or change it's status between running, paused, and shutdown. </p> "
      }
     },
     "02be2e7f1ce948038a7c1fe45e56a9a4": {
      "model_module": "@jupyter-widgets/base",
      "model_module_version": "1.2.0",
      "model_name": "LayoutModel",
      "state": {}
     },
     "02ef8c67e970469fbcecc347aed85df9": {
      "model_module": "@jupyter-widgets/controls",
      "model_module_version": "1.5.0",
      "model_name": "ButtonModel",
      "state": {
       "button_style": "success",
       "description": "Get",
       "layout": "IPY_MODEL_f6cbb4df02b34ed6b2a17cfa3eecb9c5",
       "style": "IPY_MODEL_b5c94c0dab0e4a96b915224c6b791b64"
      }
     },
     "045a40f50e164f9a91a0c13086d28340": {
      "model_module": "@jupyter-widgets/controls",
      "model_module_version": "1.5.0",
      "model_name": "HTMLModel",
      "state": {
       "layout": "IPY_MODEL_f249794b01a04992b3254d7891f340d3",
       "style": "IPY_MODEL_b782defb5e0646b5be2494ca1eabbaf7",
       "value": "<p>2023-02-16 16:28:49 PST - Frame 84487294, Spike</p>"
      }
     },
     "053fc4f0eb164c22aff19962c263dd71": {
      "model_module": "@jupyter-widgets/controls",
      "model_module_version": "1.5.0",
      "model_name": "TextModel",
      "state": {
       "description": "Command",
       "layout": "IPY_MODEL_7ea1b1b62ac24cdb830a4e184b3011cf",
       "style": "IPY_MODEL_720b966b4a5a4d3e9fa121c84a70aa35",
       "value": "schedule.every().hour.do(sayHello, name='Alice')"
      }
     },
     "066fd35cfe4c493e9c0ed879a4ebc915": {
      "model_module": "@jupyter-widgets/controls",
      "model_module_version": "1.5.0",
      "model_name": "ButtonModel",
      "state": {
       "button_style": "info",
       "icon": "refresh",
       "layout": "IPY_MODEL_ae5e90add663464b9e00384511f8109e",
       "style": "IPY_MODEL_b5c5e53cec6342fcb7b6f5bc910eb173"
      }
     },
     "06935d651bb44613aebb0cb26cb418cf": {
      "model_module": "@jupyter-widgets/base",
      "model_module_version": "1.2.0",
      "model_name": "LayoutModel",
      "state": {}
     },
     "069452526ea041eea04f2195ed914c4f": {
      "model_module": "@jupyter-widgets/controls",
      "model_module_version": "1.5.0",
      "model_name": "HTMLModel",
      "state": {
       "layout": "IPY_MODEL_62a07155536b4e3ea6d3967995030c37",
       "style": "IPY_MODEL_77d2cdb3249f4d4ebe14aff9ad07de80",
       "value": "<p>2023-01-20 15:25:56 PST - Run Command: my_count.add_one()</p>"
      }
     },
     "07025696fb054cf1b8f1bc66fa9a18b8": {
      "model_module": "@jupyter-widgets/controls",
      "model_module_version": "1.5.0",
      "model_name": "DescriptionStyleModel",
      "state": {
       "description_width": ""
      }
     },
     "0730f922433c451ebd2c09bf41573a65": {
      "model_module": "@jupyter-widgets/controls",
      "model_module_version": "1.5.0",
      "model_name": "DescriptionStyleModel",
      "state": {
       "description_width": ""
      }
     },
     "080334b1a6bc4c2ba7441385fc90f0e4": {
      "model_module": "@jupyter-widgets/base",
      "model_module_version": "1.2.0",
      "model_name": "LayoutModel",
      "state": {}
     },
     "088c0cd4b4194b6dafafab995e544f11": {
      "model_module": "@jupyter-widgets/base",
      "model_module_version": "1.2.0",
      "model_name": "LayoutModel",
      "state": {}
     },
     "08caae73637e43378ef69914332992ad": {
      "model_module": "@jupyter-widgets/controls",
      "model_module_version": "1.5.0",
      "model_name": "DescriptionStyleModel",
      "state": {
       "description_width": ""
      }
     },
     "098a76891bb541238907abd9ff54fc69": {
      "model_module": "@jupyter-widgets/base",
      "model_module_version": "1.2.0",
      "model_name": "LayoutModel",
      "state": {}
     },
     "09983e2aafcb44798364716f69a4cea7": {
      "model_module": "@jupyter-widgets/controls",
      "model_module_version": "1.5.0",
      "model_name": "HTMLModel",
      "state": {
       "layout": "IPY_MODEL_dc69ad2ed87042f49cddcebce5dce193",
       "style": "IPY_MODEL_00e6fbcb182e43058033586767ab7349",
       "value": "<p>2023-01-20 15:25:56 PST - Run Command: my_count.add_one()</p>"
      }
     },
     "099d0687698547b685b02a4cacc9a010": {
      "model_module": "@jupyter-widgets/base",
      "model_module_version": "1.2.0",
      "model_name": "LayoutModel",
      "state": {
       "width": "auto"
      }
     },
     "0ae029a62da741c0bca1a66872cd2105": {
      "model_module": "@jupyter-widgets/controls",
      "model_module_version": "1.5.0",
      "model_name": "ButtonStyleModel",
      "state": {}
     },
     "0b11aef795894f73a4347ea5817e20b0": {
      "model_module": "@jupyter-widgets/base",
      "model_module_version": "1.2.0",
      "model_name": "LayoutModel",
      "state": {}
     },
     "0b8c53e9c6e142b1b1225730c3def8f9": {
      "model_module": "@jupyter-widgets/controls",
      "model_module_version": "1.5.0",
      "model_name": "DescriptionStyleModel",
      "state": {
       "description_width": ""
      }
     },
     "0bddf6e57a7d4c57ae40a150d88b0b98": {
      "model_module": "@jupyter-widgets/base",
      "model_module_version": "1.2.0",
      "model_name": "LayoutModel",
      "state": {}
     },
     "0c421a6858ef4c48ab8333cae2bd76df": {
      "model_module": "@jupyter-widgets/base",
      "model_module_version": "1.2.0",
      "model_name": "LayoutModel",
      "state": {}
     },
     "0dab48d9e2354a0d8859bffc4d8a0ee4": {
      "model_module": "@jupyter-widgets/controls",
      "model_module_version": "1.5.0",
      "model_name": "HTMLModel",
      "state": {
       "layout": "IPY_MODEL_aff943139704460da08a81e4837d90b7",
       "style": "IPY_MODEL_2134573d2bae4621938e552972082c19",
       "value": "<h3>Enter Command</h3><p>Type your device command below. It will be sent to <b>ash_test</b>. To schedule commands, check out <a href='https://schedule.readthedocs.io/en/stable/examples.html' target='_blank'>this reference</a></p>"
      }
     },
     "0f3adbd28e154b5083d618da9573d854": {
      "model_module": "@jupyter-widgets/controls",
      "model_module_version": "1.5.0",
      "model_name": "DescriptionStyleModel",
      "state": {
       "description_width": ""
      }
     },
     "1056e42429c747d8bbe4fd8c08d3da70": {
      "model_module": "@jupyter-widgets/controls",
      "model_module_version": "1.5.0",
      "model_name": "DescriptionStyleModel",
      "state": {
       "description_width": ""
      }
     },
     "10a6d3552f7f4abe869f9bab60b3149b": {
      "model_module": "@jupyter-widgets/controls",
      "model_module_version": "1.5.0",
      "model_name": "DescriptionStyleModel",
      "state": {
       "description_width": ""
      }
     },
     "123970c3ba0f4d16b01c6cde0d6c6ec5": {
      "model_module": "@jupyter-widgets/controls",
      "model_module_version": "1.5.0",
      "model_name": "HTMLModel",
      "state": {
       "layout": "IPY_MODEL_2c127ee830af488b8794a6b36aeff281",
       "style": "IPY_MODEL_ba544b0b98ee482988255460e002ccbf",
       "value": "<p>2023-01-20 15:30:01 PST - Run Command: schedule.every().hour.do(sayHello, name='Alice')</p>"
      }
     },
     "1241af9a13684b38ae24ab21b7e5f807": {
      "model_module": "@jupyter-widgets/controls",
      "model_module_version": "1.5.0",
      "model_name": "HTMLModel",
      "state": {
       "layout": "IPY_MODEL_f8b50b7fb30a49b4b09f28e313d07e67",
       "style": "IPY_MODEL_34488f36f4fc4d54906fb0c56c51bbb7",
       "value": "<p>2023-02-16 16:28:51 PST - Frame 84543638, Spike</p>"
      }
     },
     "13bb82569347457ca6e048433cafe098": {
      "model_module": "@jupyter-widgets/base",
      "model_module_version": "1.2.0",
      "model_name": "LayoutModel",
      "state": {}
     },
     "13c54ee811714e749a762d46f13942e8": {
      "model_module": "@jupyter-widgets/controls",
      "model_module_version": "1.5.0",
      "model_name": "DescriptionStyleModel",
      "state": {
       "description_width": ""
      }
     },
     "13d4aaa0591040078090f5dadfdac628": {
      "model_module": "@jupyter-widgets/base",
      "model_module_version": "1.2.0",
      "model_name": "LayoutModel",
      "state": {
       "margin": "2px 20px 0 0",
       "width": "auto"
      }
     },
     "13eab847a23245b3af9fad36a0672ad1": {
      "model_module": "@jupyter-widgets/controls",
      "model_module_version": "1.5.0",
      "model_name": "HTMLModel",
      "state": {
       "layout": "IPY_MODEL_340bfd0d36684322a6d0e26931f06284",
       "style": "IPY_MODEL_a3b6f3c4032045658ccd562e3ca50bed",
       "value": "<p>2023-02-16 16:28:50 PST - Frame 84522825, Spike</p>"
      }
     },
     "145d49ababcb4e32936ba7881a416527": {
      "model_module": "@jupyter-widgets/controls",
      "model_module_version": "1.5.0",
      "model_name": "HTMLModel",
      "state": {
       "layout": "IPY_MODEL_1ddff3838983447f9867b80cbd4078f1",
       "style": "IPY_MODEL_da6b09de999c4e429f092efc8e58a934",
       "value": "<h3>Enter Command</h3><p>Type your device command below. It will be sent to <b>ash_test_2</b>. To schedule commands, check out <a href='https://schedule.readthedocs.io/en/stable/examples.html' target='_blank'>this reference</a></p>"
      }
     },
     "1663c5c30b39426584de437e08c7c57c": {
      "model_module": "@jupyter-widgets/base",
      "model_module_version": "1.2.0",
      "model_name": "LayoutModel",
      "state": {
       "margin": "2px 20px 0 0"
      }
     },
     "168011b4ab374e60b18682bdfcea6f91": {
      "model_module": "@jupyter-widgets/controls",
      "model_module_version": "1.5.0",
      "model_name": "DescriptionStyleModel",
      "state": {
       "description_width": ""
      }
     },
     "1734ab48d9f64d1da4434ea0cdcc853f": {
      "model_module": "@jupyter-widgets/controls",
      "model_module_version": "1.5.0",
      "model_name": "ButtonModel",
      "state": {
       "button_style": "success",
       "description": "Send",
       "layout": "IPY_MODEL_328a883f470a456ca1471a5bc5443645",
       "style": "IPY_MODEL_aefe3944dc744ae5b37ace209555438f"
      }
     },
     "17979248dde944438e7c35dbaf18dcb6": {
      "model_module": "@jupyter-widgets/controls",
      "model_module_version": "1.5.0",
      "model_name": "HTMLModel",
      "state": {
       "layout": "IPY_MODEL_281bfc72725f4d0180574f25967ad522",
       "style": "IPY_MODEL_2435e49049d44d9da9493899aa952314",
       "value": "<p>2023-02-16 16:28:50 PST - Frame 84510294, Spike</p>"
      }
     },
     "180771b3ff15453c90133ace613b1053": {
      "model_module": "@jupyter-widgets/controls",
      "model_module_version": "1.5.0",
      "model_name": "DescriptionStyleModel",
      "state": {
       "description_width": ""
      }
     },
     "1852e92463544a6b8536b43ce769b2a0": {
      "model_module": "@jupyter-widgets/controls",
      "model_module_version": "1.5.0",
      "model_name": "HTMLModel",
      "state": {
       "layout": "IPY_MODEL_c00bdb27dbc04e038f8c3e6d1e5327ed",
       "style": "IPY_MODEL_712a3635c1284860aa87ebeacb6a6074",
       "value": "<h3>Select Device to Control</h3><p>Type the name of the device you wish to controle. Example: <code>flow_1</code></p>"
      }
     },
     "18b53981d1b14d88a077e0f110f3085b": {
      "model_module": "@jupyter-widgets/base",
      "model_module_version": "1.2.0",
      "model_name": "LayoutModel",
      "state": {}
     },
     "193a0e123ed040d0ac1b2c475a1e0ffd": {
      "model_module": "@jupyter-widgets/controls",
      "model_module_version": "1.5.0",
      "model_name": "HTMLModel",
      "state": {
       "layout": "IPY_MODEL_a4aa66c53ad449b9bb713c9c87e56800",
       "style": "IPY_MODEL_3d43be5b21ac4e6980e9e6a2fb0eb449",
       "value": "<p>2023-01-20 15:24:24 PST - Run Command: sayHello( \"bob\" )</p>"
      }
     },
     "1985c560108844d09e01ec80fa451042": {
      "model_module": "@jupyter-widgets/controls",
      "model_module_version": "1.5.0",
      "model_name": "VBoxModel",
      "state": {
       "children": [
        "IPY_MODEL_8d19e402f23e4812a427203d32fb58b0",
        "IPY_MODEL_fdb667c5bd844d87be61b1610b7e88c9"
       ],
       "layout": "IPY_MODEL_ec1a5b4f5fc54093afe6eb972d7e43b8"
      }
     },
     "19b8f2c0af7b41f8ac6e1a3685e2abfc": {
      "model_module": "@jupyter-widgets/controls",
      "model_module_version": "1.5.0",
      "model_name": "DescriptionStyleModel",
      "state": {
       "description_width": ""
      }
     },
     "19da1322df0c4d6f80833b490cdcf437": {
      "model_module": "@jupyter-widgets/controls",
      "model_module_version": "1.5.0",
      "model_name": "ButtonStyleModel",
      "state": {}
     },
     "1a2f4b87b21643b48880bb1102212e27": {
      "model_module": "@jupyter-widgets/controls",
      "model_module_version": "1.5.0",
      "model_name": "ButtonStyleModel",
      "state": {}
     },
     "1a5b2677941a483eb31f5cdfb513d7cb": {
      "model_module": "@jupyter-widgets/base",
      "model_module_version": "1.2.0",
      "model_name": "LayoutModel",
      "state": {}
     },
     "1bc162931b0b4593978f99bbe5cbc5ec": {
      "model_module": "@jupyter-widgets/controls",
      "model_module_version": "1.5.0",
      "model_name": "DescriptionStyleModel",
      "state": {
       "description_width": ""
      }
     },
     "1c0fd5b672334dfdbbc4f3311a9aa067": {
      "model_module": "@jupyter-widgets/controls",
      "model_module_version": "1.5.0",
      "model_name": "DescriptionStyleModel",
      "state": {
       "description_width": ""
      }
     },
     "1c19ee4fe74540d7ba43e575a03974f2": {
      "model_module": "@jupyter-widgets/controls",
      "model_module_version": "1.5.0",
      "model_name": "ButtonModel",
      "state": {
       "button_style": "success",
       "description": "Send Command",
       "layout": "IPY_MODEL_1663c5c30b39426584de437e08c7c57c",
       "style": "IPY_MODEL_39283c3775ac428dac31410eca6300b8"
      }
     },
     "1ddff3838983447f9867b80cbd4078f1": {
      "model_module": "@jupyter-widgets/base",
      "model_module_version": "1.2.0",
      "model_name": "LayoutModel",
      "state": {}
     },
     "1e7f088a27794beabc7024d53e1b441c": {
      "model_module": "@jupyter-widgets/controls",
      "model_module_version": "1.5.0",
      "model_name": "ButtonStyleModel",
      "state": {}
     },
     "1ea93c7b12ff490e8652b829c49a2419": {
      "model_module": "@jupyter-widgets/controls",
      "model_module_version": "1.5.0",
      "model_name": "DescriptionStyleModel",
      "state": {
       "description_width": ""
      }
     },
     "1f3f10fb88d64c46a6a00bab76f25ae8": {
      "model_module": "@jupyter-widgets/controls",
      "model_module_version": "1.5.0",
      "model_name": "HTMLModel",
      "state": {
       "layout": "IPY_MODEL_18b53981d1b14d88a077e0f110f3085b",
       "style": "IPY_MODEL_757e52432dca437baa423ba703119b80",
       "value": "<p>2023-02-16 16:28:49 PST - Frame 84478662, Spike</p>"
      }
     },
     "1f75613a3614436e8cbd15de1f2256e2": {
      "model_module": "@jupyter-widgets/controls",
      "model_module_version": "1.5.0",
      "model_name": "HTMLModel",
      "state": {
       "layout": "IPY_MODEL_cb5540d2dceb474ea6be47717518d16e",
       "style": "IPY_MODEL_bb8c16d595f14b2898be349cbbd58c51",
       "value": "<p>2023-01-20 15:25:56 PST - Run Command: my_count.add_one()</p>"
      }
     },
     "20d30bf4c1c0479e866fd60115fd2216": {
      "model_module": "@jupyter-widgets/controls",
      "model_module_version": "1.5.0",
      "model_name": "DescriptionStyleModel",
      "state": {
       "description_width": ""
      }
     },
     "20d68cb2dfc540e8a1949437bf139728": {
      "model_module": "@jupyter-widgets/controls",
      "model_module_version": "1.5.0",
      "model_name": "ButtonModel",
      "state": {
       "button_style": "success",
       "description": "Draw",
       "layout": "IPY_MODEL_5853a4d23ffd4350835d268a3170c54c",
       "style": "IPY_MODEL_e8770eb471f6441eb4656377ae431a4a"
      }
     },
     "211f4bfcf7b84266bddff07e8a0fab24": {
      "model_module": "@jupyter-widgets/controls",
      "model_module_version": "1.5.0",
      "model_name": "DescriptionStyleModel",
      "state": {
       "description_width": ""
      }
     },
     "2134573d2bae4621938e552972082c19": {
      "model_module": "@jupyter-widgets/controls",
      "model_module_version": "1.5.0",
      "model_name": "DescriptionStyleModel",
      "state": {
       "description_width": ""
      }
     },
     "21f99e0ca8ca4788b0ebdeaaf8d8aff1": {
      "model_module": "@jupyter-widgets/base",
      "model_module_version": "1.2.0",
      "model_name": "LayoutModel",
      "state": {}
     },
     "2272bb1924264d4eaecd899dd69b34d1": {
      "model_module": "@jupyter-widgets/base",
      "model_module_version": "1.2.0",
      "model_name": "LayoutModel",
      "state": {}
     },
     "22ab99725cd04bab9be9d03fcfb6dfe4": {
      "model_module": "@jupyter-widgets/base",
      "model_module_version": "1.2.0",
      "model_name": "LayoutModel",
      "state": {}
     },
     "22de87440cf9446c9aa3d3b4f5d4b994": {
      "model_module": "@jupyter-widgets/base",
      "model_module_version": "1.2.0",
      "model_name": "LayoutModel",
      "state": {}
     },
     "238ad45aceec4571b4e5ad281d1f8422": {
      "model_module": "@jupyter-widgets/controls",
      "model_module_version": "1.5.0",
      "model_name": "ButtonModel",
      "state": {
       "button_style": "warning",
       "description": "Change Status",
       "layout": "IPY_MODEL_682ab9f988ee4192954ccbf892bbacce",
       "style": "IPY_MODEL_9f6c41e94bb044159adf43beb8d87ff6"
      }
     },
     "2420414e8ee04e21947fce63eb9d13ac": {
      "model_module": "@jupyter-widgets/controls",
      "model_module_version": "1.5.0",
      "model_name": "HTMLModel",
      "state": {
       "layout": "IPY_MODEL_63ccd390c8314403913245f612ff9ae5",
       "style": "IPY_MODEL_6b9e20a4ba4e48f4b6c91420c3878af0",
       "value": "<p>2023-01-20 15:26:37 PST - 1</p>"
      }
     },
     "2435e49049d44d9da9493899aa952314": {
      "model_module": "@jupyter-widgets/controls",
      "model_module_version": "1.5.0",
      "model_name": "DescriptionStyleModel",
      "state": {
       "description_width": ""
      }
     },
     "24706ae87f7547759f038f2bcdfe0579": {
      "model_module": "@jupyter-widgets/controls",
      "model_module_version": "1.5.0",
      "model_name": "DescriptionStyleModel",
      "state": {
       "description_width": ""
      }
     },
     "249ac6fcb77945a89909c08ccd1d1e7b": {
      "model_module": "@jupyter-widgets/controls",
      "model_module_version": "1.5.0",
      "model_name": "HBoxModel",
      "state": {
       "children": [
        "IPY_MODEL_2a631d9a04a447b9b7ee9be370bebaa2",
        "IPY_MODEL_d9192898e33c4a8e8b689a59acbe356a"
       ],
       "layout": "IPY_MODEL_0c421a6858ef4c48ab8333cae2bd76df"
      }
     },
     "2530eaad2ff743a3b50df9610fedb136": {
      "model_module": "@jupyter-widgets/controls",
      "model_module_version": "1.5.0",
      "model_name": "TextModel",
      "state": {
       "description": "Device",
       "layout": "IPY_MODEL_55ba812b9d8a4080b4ca657a9191e0d8",
       "style": "IPY_MODEL_1056e42429c747d8bbe4fd8c08d3da70",
       "value": "ash_test_3"
      }
     },
     "25475fd273df45af9ffd3d7ec7896e1b": {
      "model_module": "@jupyter-widgets/base",
      "model_module_version": "1.2.0",
      "model_name": "LayoutModel",
      "state": {}
     },
     "25eeddcbfd724698b6342bcda3ba96ca": {
      "model_module": "@jupyter-widgets/base",
      "model_module_version": "1.2.0",
      "model_name": "LayoutModel",
      "state": {}
     },
     "25f8ef78c28f4c61895c1968b556de3c": {
      "model_module": "@jupyter-widgets/base",
      "model_module_version": "1.2.0",
      "model_name": "LayoutModel",
      "state": {}
     },
     "267e70b0448a49e6982df3e1f0b8ad06": {
      "model_module": "@jupyter-widgets/controls",
      "model_module_version": "1.5.0",
      "model_name": "HTMLModel",
      "state": {
       "layout": "IPY_MODEL_8e5a293c79cb42979cd37251a8d5b4fe",
       "style": "IPY_MODEL_5740654974b040cc88da20a245ee8923",
       "value": "<p>2023-01-20 15:26:37 PST - 1</p>"
      }
     },
     "26c5acc6dcc8492b8826bf80d6381fe7": {
      "model_module": "@jupyter-widgets/controls",
      "model_module_version": "1.5.0",
      "model_name": "HBoxModel",
      "state": {
       "children": [
        "IPY_MODEL_efbbd665184848b0aa45e55172544504",
        "IPY_MODEL_3e856b4824d749e291f68c1d6921a57d"
       ],
       "layout": "IPY_MODEL_48b8df0eba074b04b39deefed5446ed1"
      }
     },
     "26d351e29dc8479d977dcdfd36f6f1cb": {
      "model_module": "@jupyter-widgets/base",
      "model_module_version": "1.2.0",
      "model_name": "LayoutModel",
      "state": {}
     },
     "2739b6f689ea41259904423255043ce5": {
      "model_module": "@jupyter-widgets/controls",
      "model_module_version": "1.5.0",
      "model_name": "ButtonStyleModel",
      "state": {}
     },
     "275ad3f69af04e3398a46f0b77d1402b": {
      "model_module": "@jupyter-widgets/controls",
      "model_module_version": "1.5.0",
      "model_name": "HTMLModel",
      "state": {
       "layout": "IPY_MODEL_f5b8ac101517443abc2943024c4784c5",
       "style": "IPY_MODEL_1ea93c7b12ff490e8652b829c49a2419",
       "value": "<h3>History</h3><hr>"
      }
     },
     "279fb21586ea434db3be087cb7a12b8e": {
      "model_module": "@jupyter-widgets/base",
      "model_module_version": "1.2.0",
      "model_name": "LayoutModel",
      "state": {}
     },
     "27a5d10cc3444d4394629efab048ad2c": {
      "model_module": "@jupyter-widgets/controls",
      "model_module_version": "1.5.0",
      "model_name": "HTMLModel",
      "state": {
       "layout": "IPY_MODEL_286203e394e24a9481e39e6ccf3f7ac6",
       "style": "IPY_MODEL_94b6263c56be4a44895600aa0d6f5aee",
       "value": "<h4>Command sent to ash_test_2</h4>"
      }
     },
     "27b8b54355db40bca5108316f40f926b": {
      "model_module": "@jupyter-widgets/base",
      "model_module_version": "1.2.0",
      "model_name": "LayoutModel",
      "state": {}
     },
     "27c0ea9bc9154ba59f02591bf6d9314b": {
      "model_module": "@jupyter-widgets/controls",
      "model_module_version": "1.5.0",
      "model_name": "HTMLModel",
      "state": {
       "layout": "IPY_MODEL_6de9344427204e8aa051c4452b6114f6",
       "style": "IPY_MODEL_407ebec41d68446682b1dc5fb6da3afb",
       "value": "<p>2023-01-20 15:24:24 PST - Run Command: sayHello( \"bob\" )</p>"
      }
     },
     "27e09420275b48ddb6b38c4e954a14d1": {
      "model_module": "@jupyter-widgets/base",
      "model_module_version": "1.2.0",
      "model_name": "LayoutModel",
      "state": {}
     },
     "281bfc72725f4d0180574f25967ad522": {
      "model_module": "@jupyter-widgets/base",
      "model_module_version": "1.2.0",
      "model_name": "LayoutModel",
      "state": {}
     },
     "286203e394e24a9481e39e6ccf3f7ac6": {
      "model_module": "@jupyter-widgets/base",
      "model_module_version": "1.2.0",
      "model_name": "LayoutModel",
      "state": {}
     },
     "28dde9f0cbf94a72b506cef2bf1e3f4f": {
      "model_module": "@jupyter-widgets/base",
      "model_module_version": "1.2.0",
      "model_name": "LayoutModel",
      "state": {}
     },
     "28e56997f72541b186bd8ede007684c7": {
      "model_module": "@jupyter-widgets/base",
      "model_module_version": "1.2.0",
      "model_name": "LayoutModel",
      "state": {}
     },
     "297ba79b74774a62bac0de2665249cf5": {
      "model_module": "@jupyter-widgets/controls",
      "model_module_version": "1.5.0",
      "model_name": "DescriptionStyleModel",
      "state": {
       "description_width": ""
      }
     },
     "2a631d9a04a447b9b7ee9be370bebaa2": {
      "model_module": "@jupyter-widgets/controls",
      "model_module_version": "1.5.0",
      "model_name": "TextModel",
      "state": {
       "description": "Devices",
       "layout": "IPY_MODEL_69a72a27dada4c96b0355d3fbdb9e3c2",
       "style": "IPY_MODEL_bb8d3745fde4467f94e29fc164596afa"
      }
     },
     "2afbc5004d98441e9b4e4147494e09e1": {
      "model_module": "@jupyter-widgets/controls",
      "model_module_version": "1.5.0",
      "model_name": "HBoxModel",
      "state": {
       "children": [
        "IPY_MODEL_9a75f9459bb9475691d6670592bdd2dd",
        "IPY_MODEL_5a6cddced4c94617ad05f0d950d1a7b8"
       ],
       "layout": "IPY_MODEL_7e82080da11a4bda9f232236048f3e86"
      }
     },
     "2b44d4aaba5c4da0b998414d7704b96b": {
      "model_module": "@jupyter-widgets/base",
      "model_module_version": "1.2.0",
      "model_name": "LayoutModel",
      "state": {}
     },
     "2babf1dd512441f0952e29a8f8587195": {
      "model_module": "@jupyter-widgets/controls",
      "model_module_version": "1.5.0",
      "model_name": "DescriptionStyleModel",
      "state": {
       "description_width": ""
      }
     },
     "2bec79b2b10e4aad8f030ee4b0c99016": {
      "model_module": "@jupyter-widgets/controls",
      "model_module_version": "1.5.0",
      "model_name": "HTMLModel",
      "state": {
       "layout": "IPY_MODEL_636720f0b4034491a7ee6e2d681f4e4c",
       "style": "IPY_MODEL_0f3adbd28e154b5083d618da9573d854",
       "value": "<h3>Enter Command</h3><p>Type your device command below. It will be sent to <b>ash_test_3</b>. To schedule commands, check out <a href='https://schedule.readthedocs.io/en/stable/examples.html' target='_blank'>this reference</a></p>"
      }
     },
     "2c127ee830af488b8794a6b36aeff281": {
      "model_module": "@jupyter-widgets/base",
      "model_module_version": "1.2.0",
      "model_name": "LayoutModel",
      "state": {}
     },
     "2cce5a0b61264bcfbaa99bedb24f6db6": {
      "model_module": "@jupyter-widgets/controls",
      "model_module_version": "1.5.0",
      "model_name": "HTMLModel",
      "state": {
       "layout": "IPY_MODEL_8e16f2b4b50a424abd37c3b757915698",
       "style": "IPY_MODEL_598abf69fe574228b85beb39c5c3e59c",
       "value": "<h3>History</h3><hr>"
      }
     },
     "2ce2ddba31f34e37a520cc0ed716e88b": {
      "model_module": "@jupyter-widgets/controls",
      "model_module_version": "1.5.0",
      "model_name": "HTMLModel",
      "state": {
       "layout": "IPY_MODEL_55877dd5163a45a2805d29e532125952",
       "style": "IPY_MODEL_cbbdc244c3434642b534c78c619ccc54",
       "value": "<p>2023-01-20 15:25:56 PST - Run Command: my_count.add_one()</p>"
      }
     },
     "2d6ba28a8a114c028cfe6c4cfbad3dc4": {
      "model_module": "@jupyter-widgets/controls",
      "model_module_version": "1.5.0",
      "model_name": "DescriptionStyleModel",
      "state": {
       "description_width": ""
      }
     },
     "2e16c39693ae4a7c96ced6a37a564407": {
      "model_module": "@jupyter-widgets/controls",
      "model_module_version": "1.5.0",
      "model_name": "DescriptionStyleModel",
      "state": {
       "description_width": ""
      }
     },
     "2e60905c2e69420ca45f29071095210b": {
      "model_module": "@jupyter-widgets/base",
      "model_module_version": "1.2.0",
      "model_name": "LayoutModel",
      "state": {}
     },
     "2e736f77a3cd43eb81344e5df6e9a0c1": {
      "model_module": "@jupyter-widgets/base",
      "model_module_version": "1.2.0",
      "model_name": "LayoutModel",
      "state": {}
     },
     "2e9872b2c0eb4635940115068d453e49": {
      "model_module": "@jupyter-widgets/controls",
      "model_module_version": "1.5.0",
      "model_name": "ButtonModel",
      "state": {
       "button_style": "success",
       "description": "Send",
       "layout": "IPY_MODEL_6ba1664f9d3a42dc9b7e2c081bccb6d5",
       "style": "IPY_MODEL_b132a85684294ff887a9c9416cdac96f"
      }
     },
     "2ebbadb746ff4abf9d18f30461f6cafa": {
      "model_module": "@jupyter-widgets/controls",
      "model_module_version": "1.5.0",
      "model_name": "ButtonModel",
      "state": {
       "button_style": "warning",
       "description": "Change Status",
       "layout": "IPY_MODEL_5169e86131ab4efd807b0d5ed7dd2d1b",
       "style": "IPY_MODEL_ffbd474e32654f05bd206618660bcd47"
      }
     },
     "2f2034c1f5374a25aeae1e3e5cff1dca": {
      "model_module": "@jupyter-widgets/controls",
      "model_module_version": "1.5.0",
      "model_name": "DescriptionStyleModel",
      "state": {
       "description_width": ""
      }
     },
     "2f254c2b496141a1ab1fcfb6db924e75": {
      "model_module": "@jupyter-widgets/controls",
      "model_module_version": "1.5.0",
      "model_name": "ButtonModel",
      "state": {
       "button_style": "info",
       "icon": "refresh",
       "layout": "IPY_MODEL_99e7107826124ac0baa3e16997574b6d",
       "style": "IPY_MODEL_79b060dd69df414b97cc4304f6bfa724"
      }
     },
     "2fb727601271486084c71a52147e0c05": {
      "model_module": "@jupyter-widgets/controls",
      "model_module_version": "1.5.0",
      "model_name": "DescriptionStyleModel",
      "state": {
       "description_width": ""
      }
     },
     "30211faea5a4494fbc4c7fc6b38b7ef6": {
      "model_module": "@jupyter-widgets/base",
      "model_module_version": "1.2.0",
      "model_name": "LayoutModel",
      "state": {}
     },
     "310201f49a704397923b63cc65699439": {
      "model_module": "@jupyter-widgets/controls",
      "model_module_version": "1.5.0",
      "model_name": "ButtonStyleModel",
      "state": {}
     },
     "319e3ea247a644e4acca98df9e844f30": {
      "model_module": "@jupyter-widgets/base",
      "model_module_version": "1.2.0",
      "model_name": "LayoutModel",
      "state": {}
     },
     "31b47ee441124cb595b5b61d03a47288": {
      "model_module": "@jupyter-widgets/controls",
      "model_module_version": "1.5.0",
      "model_name": "HTMLModel",
      "state": {
       "layout": "IPY_MODEL_4106ca0c6dcf44afb1e8a942ff2e2fd7",
       "style": "IPY_MODEL_80702121c7ca47e4b76298196bff6a52",
       "value": "<h3>Select Device</h3><p>Type the name of the device to see it's history. Example: <code>flow_1</code></p>"
      }
     },
     "328a883f470a456ca1471a5bc5443645": {
      "model_module": "@jupyter-widgets/base",
      "model_module_version": "1.2.0",
      "model_name": "LayoutModel",
      "state": {
       "margin": "2px 20px 0 0",
       "width": "auto"
      }
     },
     "3290c2a970654d42a2ebb08bb4064d5b": {
      "model_module": "@jupyter-widgets/controls",
      "model_module_version": "1.5.0",
      "model_name": "ButtonStyleModel",
      "state": {}
     },
     "3389fa1d0f4b4cad896e3cafd1210e98": {
      "model_module": "@jupyter-widgets/controls",
      "model_module_version": "1.5.0",
      "model_name": "VBoxModel",
      "state": {
       "children": [
        "IPY_MODEL_a701bb81d9db4dbbb10e6fafbea995f1",
        "IPY_MODEL_9e0046db5f3a4191b2916c884021948e"
       ],
       "layout": "IPY_MODEL_3e43c47a7e704a08b16bdf44074aee1b"
      }
     },
     "33b8f7924e824d2b9896e3e0763e3521": {
      "model_module": "@jupyter-widgets/base",
      "model_module_version": "1.2.0",
      "model_name": "LayoutModel",
      "state": {}
     },
     "33e548ce401f4350b6ce39e5d3d8ef36": {
      "model_module": "@jupyter-widgets/base",
      "model_module_version": "1.2.0",
      "model_name": "LayoutModel",
      "state": {
       "width": "750px"
      }
     },
     "33f087453cf14c2fa4b355b6f2a95f5f": {
      "model_module": "@jupyter-widgets/controls",
      "model_module_version": "1.5.0",
      "model_name": "ButtonStyleModel",
      "state": {}
     },
     "33fea8063aeb45e885cc8b70af8af7af": {
      "model_module": "@jupyter-widgets/base",
      "model_module_version": "1.2.0",
      "model_name": "LayoutModel",
      "state": {
       "width": "auto"
      }
     },
     "340bfd0d36684322a6d0e26931f06284": {
      "model_module": "@jupyter-widgets/base",
      "model_module_version": "1.2.0",
      "model_name": "LayoutModel",
      "state": {}
     },
     "34488f36f4fc4d54906fb0c56c51bbb7": {
      "model_module": "@jupyter-widgets/controls",
      "model_module_version": "1.5.0",
      "model_name": "DescriptionStyleModel",
      "state": {
       "description_width": ""
      }
     },
     "349042c45d594f0d8a83da51788fbd88": {
      "model_module": "@jupyter-widgets/base",
      "model_module_version": "1.2.0",
      "model_name": "LayoutModel",
      "state": {
       "margin": "2px 20px 0 0"
      }
     },
     "34f40a831d79426a96baeea49605651e": {
      "model_module": "@jupyter-widgets/base",
      "model_module_version": "1.2.0",
      "model_name": "LayoutModel",
      "state": {}
     },
     "3514879cdd064b18ad80356f28798212": {
      "model_module": "@jupyter-widgets/controls",
      "model_module_version": "1.5.0",
      "model_name": "HTMLModel",
      "state": {
       "layout": "IPY_MODEL_f4cfef708c324dfebc6c14d7ae081923",
       "style": "IPY_MODEL_37340c80fbde430e816574cede613bda",
       "value": "<p>2023-02-16 16:28:50 PST - Frame 84498647, Spike</p>"
      }
     },
     "3641de02a0b24d4fb959cddf0b8aa416": {
      "model_module": "@jupyter-widgets/base",
      "model_module_version": "1.2.0",
      "model_name": "LayoutModel",
      "state": {}
     },
     "369bea86973f49d18090da9a35b77975": {
      "model_module": "@jupyter-widgets/controls",
      "model_module_version": "1.5.0",
      "model_name": "ButtonModel",
      "state": {
       "button_style": "success",
       "description": "Run",
       "layout": "IPY_MODEL_965e00481db64b0aab15328c73c22460",
       "style": "IPY_MODEL_5e9c298df66249e2928c670c5bcf485a"
      }
     },
     "36b37664b4474626897e6658e09c729e": {
      "model_module": "@jupyter-widgets/controls",
      "model_module_version": "1.5.0",
      "model_name": "DescriptionStyleModel",
      "state": {
       "description_width": ""
      }
     },
     "37340c80fbde430e816574cede613bda": {
      "model_module": "@jupyter-widgets/controls",
      "model_module_version": "1.5.0",
      "model_name": "DescriptionStyleModel",
      "state": {
       "description_width": ""
      }
     },
     "37715f62714a44e99e464e2b898edc0c": {
      "model_module": "@jupyter-widgets/base",
      "model_module_version": "1.2.0",
      "model_name": "LayoutModel",
      "state": {}
     },
     "37a1426bbea844ae93dafd42563e7166": {
      "model_module": "@jupyter-widgets/controls",
      "model_module_version": "1.5.0",
      "model_name": "TextModel",
      "state": {
       "description": "Command",
       "layout": "IPY_MODEL_33e548ce401f4350b6ce39e5d3d8ef36",
       "style": "IPY_MODEL_cf1a3c5987ae4c73ae2cd758980bde65"
      }
     },
     "37d8fcca9bab408a9335bdf93b89023a": {
      "model_module": "@jupyter-widgets/controls",
      "model_module_version": "1.5.0",
      "model_name": "ButtonModel",
      "state": {
       "button_style": "success",
       "description": "Select",
       "layout": "IPY_MODEL_d404e328094441798349a4639c03b8d2",
       "style": "IPY_MODEL_4936572207d4477faae1577c1e0d5542"
      }
     },
     "391361b57bf04f4db462d503300d1a19": {
      "model_module": "@jupyter-widgets/base",
      "model_module_version": "1.2.0",
      "model_name": "LayoutModel",
      "state": {
       "width": "auto"
      }
     },
     "39283c3775ac428dac31410eca6300b8": {
      "model_module": "@jupyter-widgets/controls",
      "model_module_version": "1.5.0",
      "model_name": "ButtonStyleModel",
      "state": {}
     },
     "39c5f57c56eb4fafb060ccaa1e76cf12": {
      "model_module": "@jupyter-widgets/controls",
      "model_module_version": "1.5.0",
      "model_name": "HTMLModel",
      "state": {
       "layout": "IPY_MODEL_d96e6b2103f540fcaa03b450c19b0523",
       "style": "IPY_MODEL_8f2dc7b157e34f29b017269a705f7187",
       "value": "<h4>What do you want to do?</h4><p>You can send a new command to the device or change it's status between running, paused, and shutdown. </p> "
      }
     },
     "3a7642e3468a44989f761efedc0a57b8": {
      "model_module": "@jupyter-widgets/controls",
      "model_module_version": "1.5.0",
      "model_name": "DescriptionStyleModel",
      "state": {
       "description_width": ""
      }
     },
     "3ac337bd5cae40b88d81edf6afebf110": {
      "model_module": "@jupyter-widgets/base",
      "model_module_version": "1.2.0",
      "model_name": "LayoutModel",
      "state": {}
     },
     "3bb58d988511467d95b7b2ee46ddaaab": {
      "model_module": "@jupyter-widgets/controls",
      "model_module_version": "1.5.0",
      "model_name": "TextModel",
      "state": {
       "description": "Device",
       "layout": "IPY_MODEL_964055456b4c4e65930559751043cab5",
       "style": "IPY_MODEL_6217ef39528c4efcaf30ace60a2a1bd9"
      }
     },
     "3be2d4586c3a4fb79bb3684450cb5cc5": {
      "model_module": "@jupyter-widgets/base",
      "model_module_version": "1.2.0",
      "model_name": "LayoutModel",
      "state": {}
     },
     "3bfcd33ec839459496f8dde0df12236a": {
      "model_module": "@jupyter-widgets/controls",
      "model_module_version": "1.5.0",
      "model_name": "ButtonModel",
      "state": {
       "button_style": "info",
       "icon": "refresh",
       "layout": "IPY_MODEL_025c26140610452aa28bef06d21309f6",
       "style": "IPY_MODEL_bb91b93daf214a108226473c55b4d00e"
      }
     },
     "3ca5ce32bd904684a78f3b33d512ed15": {
      "model_module": "@jupyter-widgets/base",
      "model_module_version": "1.2.0",
      "model_name": "LayoutModel",
      "state": {
       "margin": "2px 20px 0 0"
      }
     },
     "3cb62a0945c74a8eb1a529c167c4594b": {
      "model_module": "@jupyter-widgets/controls",
      "model_module_version": "1.5.0",
      "model_name": "HTMLModel",
      "state": {
       "layout": "IPY_MODEL_81606ff170d74815a3f532e2ea4a7548",
       "style": "IPY_MODEL_6431db3696a140c69f5dcbc17104f8fa",
       "value": "<p>2023-02-16 16:28:49 PST - Frame 84479001, Spike</p>"
      }
     },
     "3cb65995a58147f7841e96bdc1f8ba0e": {
      "model_module": "@jupyter-widgets/controls",
      "model_module_version": "1.5.0",
      "model_name": "HTMLModel",
      "state": {
       "layout": "IPY_MODEL_8bb5ab4c69a1482ba28c0ada8340f316",
       "style": "IPY_MODEL_445c87e29b914ee1b14c57b1209150ea",
       "value": "<p>2023-01-20 15:26:37 PST - Run Command: print(my_count.count)</p>"
      }
     },
     "3cd0f73c2e664de69026295c3fe88ca3": {
      "model_module": "@jupyter-widgets/base",
      "model_module_version": "1.2.0",
      "model_name": "LayoutModel",
      "state": {}
     },
     "3d43be5b21ac4e6980e9e6a2fb0eb449": {
      "model_module": "@jupyter-widgets/controls",
      "model_module_version": "1.5.0",
      "model_name": "DescriptionStyleModel",
      "state": {
       "description_width": ""
      }
     },
     "3dcaae9171464f1b9742b331c37d25fa": {
      "model_module": "@jupyter-widgets/controls",
      "model_module_version": "1.5.0",
      "model_name": "HBoxModel",
      "state": {
       "children": [
        "IPY_MODEL_d0223500802c45088aaafa29e116398e",
        "IPY_MODEL_37d8fcca9bab408a9335bdf93b89023a"
       ],
       "layout": "IPY_MODEL_926652bbab274bde8ac0ac7612e040ae"
      }
     },
     "3dcb14d249114bf3a1b240570a9c99c6": {
      "model_module": "@jupyter-widgets/controls",
      "model_module_version": "1.5.0",
      "model_name": "HTMLModel",
      "state": {
       "layout": "IPY_MODEL_c409a6c83071417885ca98d90223d8f1",
       "style": "IPY_MODEL_2f2034c1f5374a25aeae1e3e5cff1dca",
       "value": "<p>2023-01-20 15:24:24 PST - Run Command: sayHello( \"bob\" )</p>"
      }
     },
     "3de3845eaf634df39ec12035c7e30509": {
      "model_module": "@jupyter-widgets/controls",
      "model_module_version": "1.5.0",
      "model_name": "ButtonStyleModel",
      "state": {}
     },
     "3e43c47a7e704a08b16bdf44074aee1b": {
      "model_module": "@jupyter-widgets/base",
      "model_module_version": "1.2.0",
      "model_name": "LayoutModel",
      "state": {}
     },
     "3e4c177d0a9449cbb47df8d37c61684d": {
      "model_module": "@jupyter-widgets/base",
      "model_module_version": "1.2.0",
      "model_name": "LayoutModel",
      "state": {}
     },
     "3e856b4824d749e291f68c1d6921a57d": {
      "model_module": "@jupyter-widgets/controls",
      "model_module_version": "1.5.0",
      "model_name": "ButtonModel",
      "state": {
       "button_style": "success",
       "description": "Select",
       "layout": "IPY_MODEL_33fea8063aeb45e885cc8b70af8af7af",
       "style": "IPY_MODEL_e5fef362ffb846f98ed939fe31f1b989"
      }
     },
     "3f07e163b4144b51b8bf4ec057b176d3": {
      "model_module": "@jupyter-widgets/controls",
      "model_module_version": "1.5.0",
      "model_name": "HBoxModel",
      "state": {
       "children": [
        "IPY_MODEL_37a1426bbea844ae93dafd42563e7166",
        "IPY_MODEL_1734ab48d9f64d1da4434ea0cdcc853f",
        "IPY_MODEL_066fd35cfe4c493e9c0ed879a4ebc915"
       ],
       "layout": "IPY_MODEL_e9fbd02cae09441cae44c0dc02376b56"
      }
     },
     "40638f80693c49b0afe2cb5fafcaaf4c": {
      "model_module": "@jupyter-widgets/controls",
      "model_module_version": "1.5.0",
      "model_name": "ButtonModel",
      "state": {
       "button_style": "success",
       "description": "Run",
       "layout": "IPY_MODEL_3ca5ce32bd904684a78f3b33d512ed15",
       "style": "IPY_MODEL_3de3845eaf634df39ec12035c7e30509"
      }
     },
     "4069ab79c3a44c4fab03c96deeb8bcd6": {
      "model_module": "@jupyter-widgets/base",
      "model_module_version": "1.2.0",
      "model_name": "LayoutModel",
      "state": {}
     },
     "407116d3a8364776aed8eeb94b13dec1": {
      "model_module": "@jupyter-widgets/controls",
      "model_module_version": "1.5.0",
      "model_name": "HTMLModel",
      "state": {
       "layout": "IPY_MODEL_4cdec392095345f1bbc993baecdb13e2",
       "style": "IPY_MODEL_a2dc9b3c8c8f4b739f5ed108424a925e",
       "value": "<p>2023-02-16 16:28:49 PST - Frame 84475246, Spike</p>"
      }
     },
     "407ebec41d68446682b1dc5fb6da3afb": {
      "model_module": "@jupyter-widgets/controls",
      "model_module_version": "1.5.0",
      "model_name": "DescriptionStyleModel",
      "state": {
       "description_width": ""
      }
     },
     "40822aea72f7458aa4061e426c99b550": {
      "model_module": "@jupyter-widgets/controls",
      "model_module_version": "1.5.0",
      "model_name": "DescriptionStyleModel",
      "state": {
       "description_width": ""
      }
     },
     "4106ca0c6dcf44afb1e8a942ff2e2fd7": {
      "model_module": "@jupyter-widgets/base",
      "model_module_version": "1.2.0",
      "model_name": "LayoutModel",
      "state": {}
     },
     "41a18a8dab8e4e77b3ee8926b978cb4e": {
      "model_module": "@jupyter-widgets/controls",
      "model_module_version": "1.5.0",
      "model_name": "ButtonModel",
      "state": {
       "button_style": "warning",
       "description": "Change Status",
       "layout": "IPY_MODEL_77945578f78845dea1242ee00486e7e5",
       "style": "IPY_MODEL_86321702f6cf44cf829951d8a5bab298"
      }
     },
     "41d2c4c82fa843589554108256d24a60": {
      "model_module": "@jupyter-widgets/controls",
      "model_module_version": "1.5.0",
      "model_name": "ButtonModel",
      "state": {
       "button_style": "danger",
       "description": "Shutdown",
       "layout": "IPY_MODEL_fe052fde1cc649b0943cbb2ea34c7383",
       "style": "IPY_MODEL_19da1322df0c4d6f80833b490cdcf437"
      }
     },
     "4303c64819b647d4901b1b01a8143f23": {
      "model_module": "@jupyter-widgets/base",
      "model_module_version": "1.2.0",
      "model_name": "LayoutModel",
      "state": {
       "width": "auto"
      }
     },
     "433aff3efb3a4751b43e4bfb84a0b236": {
      "model_module": "@jupyter-widgets/controls",
      "model_module_version": "1.5.0",
      "model_name": "HBoxModel",
      "state": {
       "children": [
        "IPY_MODEL_c3496735f8c044c397724a70038789af",
        "IPY_MODEL_dc0ca0417fcb4b0a8cc82159e06ccf2f"
       ],
       "layout": "IPY_MODEL_d04e14b67dfc4da79c8e216f510fbae9"
      }
     },
     "445c87e29b914ee1b14c57b1209150ea": {
      "model_module": "@jupyter-widgets/controls",
      "model_module_version": "1.5.0",
      "model_name": "DescriptionStyleModel",
      "state": {
       "description_width": ""
      }
     },
     "44af8a653a5d43d082628ae30870ca27": {
      "model_module": "@jupyter-widgets/base",
      "model_module_version": "1.2.0",
      "model_name": "LayoutModel",
      "state": {
       "width": "450px"
      }
     },
     "44c97e49ef8b4c4883326e540d5a4214": {
      "model_module": "@jupyter-widgets/controls",
      "model_module_version": "1.5.0",
      "model_name": "ButtonStyleModel",
      "state": {}
     },
     "457d8fed16db4ef3818f7b981663aeab": {
      "model_module": "@jupyter-widgets/base",
      "model_module_version": "1.2.0",
      "model_name": "LayoutModel",
      "state": {}
     },
     "46437c8ecb7a47b3832c7de1657254fa": {
      "model_module": "@jupyter-widgets/controls",
      "model_module_version": "1.5.0",
      "model_name": "DescriptionStyleModel",
      "state": {
       "description_width": ""
      }
     },
     "4668a46810e94c6cac633ce7456a048a": {
      "model_module": "@jupyter-widgets/controls",
      "model_module_version": "1.5.0",
      "model_name": "HTMLModel",
      "state": {
       "layout": "IPY_MODEL_965478e8e82643eb8622c345208d20a4",
       "style": "IPY_MODEL_aadcd468029b48d6a4b36313d69cd6b4",
       "value": "<h4>What do you want to do?</h4><p>You can send a new command to the device or change it's status between running, paused, and shutdown. </p> "
      }
     },
     "469be25df938428b959a8270aa42e62f": {
      "model_module": "@jupyter-widgets/controls",
      "model_module_version": "1.5.0",
      "model_name": "HBoxModel",
      "state": {
       "children": [
        "IPY_MODEL_982160834b8b4cebb9106e2a6d7e9cbf",
        "IPY_MODEL_8452a6698a2147bb9aa8550b2acf3efa"
       ],
       "layout": "IPY_MODEL_672e13c39dff47d9aedbc85a8ab487c3"
      }
     },
     "46c91af066c64ad9a3257edeffe43d54": {
      "model_module": "@jupyter-widgets/base",
      "model_module_version": "1.2.0",
      "model_name": "LayoutModel",
      "state": {}
     },
     "46d20ef2f4be406d8ee661a0d6b91f19": {
      "model_module": "@jupyter-widgets/controls",
      "model_module_version": "1.5.0",
      "model_name": "HTMLModel",
      "state": {
       "layout": "IPY_MODEL_34f40a831d79426a96baeea49605651e",
       "style": "IPY_MODEL_d7ef24685935490291d94f27cb26085e",
       "value": "<p>2023-01-20 15:30:01 PST - Run Command: schedule.every().hour.do(sayHello, name='Alice')</p>"
      }
     },
     "4822a0bd616f4d9692b17b28c75af584": {
      "model_module": "@jupyter-widgets/base",
      "model_module_version": "1.2.0",
      "model_name": "LayoutModel",
      "state": {}
     },
     "482e2dc0fbef463395472f77b4f8ad81": {
      "model_module": "@jupyter-widgets/controls",
      "model_module_version": "1.5.0",
      "model_name": "HTMLModel",
      "state": {
       "layout": "IPY_MODEL_695d5bfd00bd415a86e5b2cd6a4b377d",
       "style": "IPY_MODEL_2e16c39693ae4a7c96ced6a37a564407",
       "value": "<p>2023-02-16 16:28:50 PST - Frame 84499841, Spike</p>"
      }
     },
     "4866191ab28c4311a9512e579611e6ec": {
      "model_module": "@jupyter-widgets/controls",
      "model_module_version": "1.5.0",
      "model_name": "HTMLModel",
      "state": {
       "layout": "IPY_MODEL_51fa16a7487146a7bf63c412f86739a8",
       "style": "IPY_MODEL_e06d874eb07e425bb56e96a6905aa68d",
       "value": "<p>2023-02-16 16:28:51 PST - Frame 84546189, Spike</p>"
      }
     },
     "486f47daed6340958c3bf2bdd26da32b": {
      "model_module": "@jupyter-widgets/controls",
      "model_module_version": "1.5.0",
      "model_name": "HTMLModel",
      "state": {
       "layout": "IPY_MODEL_79ab222412744db0b1bd05adc7cec6e9",
       "style": "IPY_MODEL_6a374702e2944bdf819da7242e85858f",
       "value": "<p>2023-01-20 15:24:24 PST - Run Command: sayHello( \"bob\" )</p>"
      }
     },
     "48b8df0eba074b04b39deefed5446ed1": {
      "model_module": "@jupyter-widgets/base",
      "model_module_version": "1.2.0",
      "model_name": "LayoutModel",
      "state": {}
     },
     "4936572207d4477faae1577c1e0d5542": {
      "model_module": "@jupyter-widgets/controls",
      "model_module_version": "1.5.0",
      "model_name": "ButtonStyleModel",
      "state": {}
     },
     "4a067eb2aba84524b8f5d2c401d00f11": {
      "model_module": "@jupyter-widgets/controls",
      "model_module_version": "1.5.0",
      "model_name": "HTMLModel",
      "state": {
       "layout": "IPY_MODEL_080334b1a6bc4c2ba7441385fc90f0e4",
       "style": "IPY_MODEL_c4781176752a46389f6a40e73fb16768",
       "value": "<h4>Command sent to ash_test</h4>"
      }
     },
     "4ad91317a83147de9b2dec45b5df1d82": {
      "model_module": "@jupyter-widgets/controls",
      "model_module_version": "1.5.0",
      "model_name": "DescriptionStyleModel",
      "state": {
       "description_width": ""
      }
     },
     "4ae21613e6be455fb15220cc8b94786e": {
      "model_module": "@jupyter-widgets/controls",
      "model_module_version": "1.5.0",
      "model_name": "DescriptionStyleModel",
      "state": {
       "description_width": ""
      }
     },
     "4b6f7ebd69e5428b950f3cd2e445662f": {
      "model_module": "@jupyter-widgets/controls",
      "model_module_version": "1.5.0",
      "model_name": "HTMLModel",
      "state": {
       "layout": "IPY_MODEL_0bddf6e57a7d4c57ae40a150d88b0b98",
       "style": "IPY_MODEL_da6ab65b5b654a138ac55ea7811bd39f",
       "value": "<h4>What do you want to do?</h4><p>You can send a new command to the device or change it's status between running, paused, and shutdown. </p> "
      }
     },
     "4c80294a57d1462abc8b6707736ee632": {
      "model_module": "@jupyter-widgets/controls",
      "model_module_version": "1.5.0",
      "model_name": "DescriptionStyleModel",
      "state": {
       "description_width": ""
      }
     },
     "4cdec392095345f1bbc993baecdb13e2": {
      "model_module": "@jupyter-widgets/base",
      "model_module_version": "1.2.0",
      "model_name": "LayoutModel",
      "state": {}
     },
     "4d866ba7a416499896355b53eb0950bd": {
      "model_module": "@jupyter-widgets/controls",
      "model_module_version": "1.5.0",
      "model_name": "HTMLModel",
      "state": {
       "layout": "IPY_MODEL_8937fed2b7974f74b833c5a6b721f80f",
       "style": "IPY_MODEL_864d750272584d7b98d4df318baa4241",
       "value": "<p>2023-02-16 16:28:49 PST - Frame 84477412, Spike</p>"
      }
     },
     "4de37c53c7b54fd5984095537176ea4d": {
      "model_module": "@jupyter-widgets/controls",
      "model_module_version": "1.5.0",
      "model_name": "HTMLModel",
      "state": {
       "layout": "IPY_MODEL_22de87440cf9446c9aa3d3b4f5d4b994",
       "style": "IPY_MODEL_f2a52e20eadd45658b442481a570bd21",
       "value": "<p>2023-02-16 16:28:50 PST - Frame 84505726, Spike</p>"
      }
     },
     "4e23ecb6ae2b4838b4447220d4b53df6": {
      "model_module": "@jupyter-widgets/controls",
      "model_module_version": "1.5.0",
      "model_name": "ButtonStyleModel",
      "state": {}
     },
     "4f6bcaf11c59423b9bdab33cd652763a": {
      "model_module": "@jupyter-widgets/base",
      "model_module_version": "1.2.0",
      "model_name": "LayoutModel",
      "state": {}
     },
     "5169e86131ab4efd807b0d5ed7dd2d1b": {
      "model_module": "@jupyter-widgets/base",
      "model_module_version": "1.2.0",
      "model_name": "LayoutModel",
      "state": {
       "margin": "2px 20px 0 0",
       "width": "auto"
      }
     },
     "517da9da4b8445a2ab566a7b188ea08b": {
      "model_module": "@jupyter-widgets/controls",
      "model_module_version": "1.5.0",
      "model_name": "HBoxModel",
      "state": {
       "children": [
        "IPY_MODEL_1c19ee4fe74540d7ba43e575a03974f2",
        "IPY_MODEL_2ebbadb746ff4abf9d18f30461f6cafa",
        "IPY_MODEL_c22b56187003475b930345a316b72993"
       ],
       "layout": "IPY_MODEL_6458213c5d5048a49865663d4bd2317b"
      }
     },
     "51fa16a7487146a7bf63c412f86739a8": {
      "model_module": "@jupyter-widgets/base",
      "model_module_version": "1.2.0",
      "model_name": "LayoutModel",
      "state": {}
     },
     "524c9457193447c68e3ca86b4da879c4": {
      "model_module": "@jupyter-widgets/base",
      "model_module_version": "1.2.0",
      "model_name": "LayoutModel",
      "state": {}
     },
     "52640c960e7b46f9a51dbacc7c3e550a": {
      "model_module": "@jupyter-widgets/base",
      "model_module_version": "1.2.0",
      "model_name": "LayoutModel",
      "state": {}
     },
     "52d1cd71bbb44f4f9a61d5b66e0b8514": {
      "model_module": "@jupyter-widgets/base",
      "model_module_version": "1.2.0",
      "model_name": "LayoutModel",
      "state": {}
     },
     "54022d547fd14936a987ecdded340b16": {
      "model_module": "@jupyter-widgets/controls",
      "model_module_version": "1.5.0",
      "model_name": "HBoxModel",
      "state": {
       "children": [
        "IPY_MODEL_daabfdd39c944aa39a3bdd6029ae5e95",
        "IPY_MODEL_fc43cf48501247f6a0a57186565494bb",
        "IPY_MODEL_8d90221cd7284ec999fab087dd39e9c9",
        "IPY_MODEL_c22b56187003475b930345a316b72993"
       ],
       "layout": "IPY_MODEL_bf68471ad9aa4a028b851f66f187aeef"
      }
     },
     "5420556cf3744532b30890d63b004d42": {
      "model_module": "@jupyter-widgets/base",
      "model_module_version": "1.2.0",
      "model_name": "LayoutModel",
      "state": {}
     },
     "54651242a4814128a10f15257aa178ff": {
      "model_module": "@jupyter-widgets/base",
      "model_module_version": "1.2.0",
      "model_name": "LayoutModel",
      "state": {
       "width": "750px"
      }
     },
     "549dd905864340dfa287433278e61aa9": {
      "model_module": "@jupyter-widgets/base",
      "model_module_version": "1.2.0",
      "model_name": "LayoutModel",
      "state": {
       "margin": "2px 50px 0 0",
       "width": "auto"
      }
     },
     "5575f130d20e47c1886588b3ea37d507": {
      "model_module": "@jupyter-widgets/controls",
      "model_module_version": "1.5.0",
      "model_name": "DescriptionStyleModel",
      "state": {
       "description_width": ""
      }
     },
     "55877dd5163a45a2805d29e532125952": {
      "model_module": "@jupyter-widgets/base",
      "model_module_version": "1.2.0",
      "model_name": "LayoutModel",
      "state": {}
     },
     "55aea3585ecb4b2e8d9dc938194958e2": {
      "model_module": "@jupyter-widgets/controls",
      "model_module_version": "1.5.0",
      "model_name": "HTMLModel",
      "state": {
       "layout": "IPY_MODEL_26d351e29dc8479d977dcdfd36f6f1cb",
       "style": "IPY_MODEL_94ee1d4e62394edca89cab71e4b58b1d",
       "value": "<p>2023-01-20 15:26:37 PST - Run Command: print(my_count.count)</p>"
      }
     },
     "55b7b64ccccd46f59625b6d0beb88d62": {
      "model_module": "@jupyter-widgets/base",
      "model_module_version": "1.2.0",
      "model_name": "LayoutModel",
      "state": {}
     },
     "55ba812b9d8a4080b4ca657a9191e0d8": {
      "model_module": "@jupyter-widgets/base",
      "model_module_version": "1.2.0",
      "model_name": "LayoutModel",
      "state": {}
     },
     "562f7947ec9f4eaea718a1530fb76b72": {
      "model_module": "@jupyter-widgets/base",
      "model_module_version": "1.2.0",
      "model_name": "LayoutModel",
      "state": {}
     },
     "56bb7b74d8624f9da0afa69a8415f717": {
      "model_module": "@jupyter-widgets/base",
      "model_module_version": "1.2.0",
      "model_name": "LayoutModel",
      "state": {
       "width": "auto"
      }
     },
     "5740654974b040cc88da20a245ee8923": {
      "model_module": "@jupyter-widgets/controls",
      "model_module_version": "1.5.0",
      "model_name": "DescriptionStyleModel",
      "state": {
       "description_width": ""
      }
     },
     "57544700753a4c84acada711c01b75e2": {
      "model_module": "@jupyter-widgets/controls",
      "model_module_version": "1.5.0",
      "model_name": "HTMLModel",
      "state": {
       "layout": "IPY_MODEL_4822a0bd616f4d9692b17b28c75af584",
       "style": "IPY_MODEL_20d30bf4c1c0479e866fd60115fd2216",
       "value": "<p>2023-02-16 16:28:51 PST - Frame 84546520, Spike</p>"
      }
     },
     "5853a4d23ffd4350835d268a3170c54c": {
      "model_module": "@jupyter-widgets/base",
      "model_module_version": "1.2.0",
      "model_name": "LayoutModel",
      "state": {
       "width": "auto"
      }
     },
     "598abf69fe574228b85beb39c5c3e59c": {
      "model_module": "@jupyter-widgets/controls",
      "model_module_version": "1.5.0",
      "model_name": "DescriptionStyleModel",
      "state": {
       "description_width": ""
      }
     },
     "599b064fdac6480a88530efa6f9d0003": {
      "model_module": "@jupyter-widgets/base",
      "model_module_version": "1.2.0",
      "model_name": "LayoutModel",
      "state": {
       "width": "750px"
      }
     },
     "59b3a162757f4a0493610a8df7927bc8": {
      "model_module": "@jupyter-widgets/controls",
      "model_module_version": "1.5.0",
      "model_name": "HTMLModel",
      "state": {
       "layout": "IPY_MODEL_ab860b1114ec4311b6b06c6bf962054c",
       "style": "IPY_MODEL_24706ae87f7547759f038f2bcdfe0579",
       "value": "<h4>Command sent to microscopy2</h4>"
      }
     },
     "59e2fa8569634c879ff2c3da6de3734d": {
      "model_module": "@jupyter-widgets/controls",
      "model_module_version": "1.5.0",
      "model_name": "DescriptionStyleModel",
      "state": {
       "description_width": ""
      }
     },
     "59e3e11a665c41ac9533f20df8f9d090": {
      "model_module": "@jupyter-widgets/base",
      "model_module_version": "1.2.0",
      "model_name": "LayoutModel",
      "state": {
       "margin": "2px 20px 0 0"
      }
     },
     "5a38ad2113ef44f8840fb7e32e1bbd34": {
      "model_module": "@jupyter-widgets/controls",
      "model_module_version": "1.5.0",
      "model_name": "DescriptionStyleModel",
      "state": {
       "description_width": ""
      }
     },
     "5a68f22f8f2b4005ab087c19abf4c395": {
      "model_module": "@jupyter-widgets/controls",
      "model_module_version": "1.5.0",
      "model_name": "HTMLModel",
      "state": {
       "layout": "IPY_MODEL_763d60d0d34742e78521ce043598cce6",
       "style": "IPY_MODEL_fe970820a91d4367822e70ce4c85ba92",
       "value": "<p>2023-01-20 15:26:37 PST - Run Command: print(my_count.count)</p>"
      }
     },
     "5a6cddced4c94617ad05f0d950d1a7b8": {
      "model_module": "@jupyter-widgets/controls",
      "model_module_version": "1.5.0",
      "model_name": "ButtonModel",
      "state": {
       "button_style": "success",
       "description": "Select",
       "layout": "IPY_MODEL_ec2d2adf002a4d5eae253794644d5009",
       "style": "IPY_MODEL_b2007810f1224d21854ae33b7fc612e3"
      }
     },
     "5b1afe67b5654869a95521826e61773a": {
      "model_module": "@jupyter-widgets/controls",
      "model_module_version": "1.5.0",
      "model_name": "DescriptionStyleModel",
      "state": {
       "description_width": ""
      }
     },
     "5b25eb52c06b418f802393a38fd15ba7": {
      "model_module": "@jupyter-widgets/base",
      "model_module_version": "1.2.0",
      "model_name": "LayoutModel",
      "state": {
       "margin": "2px 20px 0 0"
      }
     },
     "5b9bd9d38bf64b95b6e7b0debb94f23c": {
      "model_module": "@jupyter-widgets/controls",
      "model_module_version": "1.5.0",
      "model_name": "HBoxModel",
      "state": {
       "children": [
        "IPY_MODEL_3bb58d988511467d95b7b2ee46ddaaab",
        "IPY_MODEL_700ae90f58d945f6968220ec2bd20375"
       ],
       "layout": "IPY_MODEL_46c91af066c64ad9a3257edeffe43d54"
      }
     },
     "5ca48ee32975478c8739b3fbf369a321": {
      "model_module": "@jupyter-widgets/controls",
      "model_module_version": "1.5.0",
      "model_name": "HTMLModel",
      "state": {
       "layout": "IPY_MODEL_319e3ea247a644e4acca98df9e844f30",
       "style": "IPY_MODEL_8f745f489f7d4a1e998e1dc4e295d322",
       "value": "<p>2023-02-16 16:28:51 PST - Frame 84553090, Spike</p>"
      }
     },
     "5cbd15b6558c4d7e93722a10706863a8": {
      "model_module": "@jupyter-widgets/controls",
      "model_module_version": "1.5.0",
      "model_name": "DescriptionStyleModel",
      "state": {
       "description_width": ""
      }
     },
     "5d002828257848b98ef71a13ee84f488": {
      "model_module": "@jupyter-widgets/base",
      "model_module_version": "1.2.0",
      "model_name": "LayoutModel",
      "state": {}
     },
     "5e9c298df66249e2928c670c5bcf485a": {
      "model_module": "@jupyter-widgets/controls",
      "model_module_version": "1.5.0",
      "model_name": "ButtonStyleModel",
      "state": {}
     },
     "5ee79c750aa64c19ae57b20249ce8149": {
      "model_module": "@jupyter-widgets/controls",
      "model_module_version": "1.5.0",
      "model_name": "DescriptionStyleModel",
      "state": {
       "description_width": ""
      }
     },
     "5f21357248014f2a907ca2c08cc0562e": {
      "model_module": "@jupyter-widgets/controls",
      "model_module_version": "1.5.0",
      "model_name": "DescriptionStyleModel",
      "state": {
       "description_width": ""
      }
     },
     "5f35d395da3e4db998bdff96b402c61d": {
      "model_module": "@jupyter-widgets/controls",
      "model_module_version": "1.5.0",
      "model_name": "DescriptionStyleModel",
      "state": {
       "description_width": ""
      }
     },
     "5fe2de8f340d4f80a87efbd05be260ee": {
      "model_module": "@jupyter-widgets/controls",
      "model_module_version": "1.5.0",
      "model_name": "ButtonModel",
      "state": {
       "button_style": "info",
       "icon": "refresh",
       "layout": "IPY_MODEL_886bedd46cb84cac8e03743b36ad5d86",
       "style": "IPY_MODEL_00c79cc5c87e42cdb5c4220631449462"
      }
     },
     "60168400cf5a487cbb0379d4b241b5ba": {
      "model_module": "@jupyter-widgets/controls",
      "model_module_version": "1.5.0",
      "model_name": "DescriptionStyleModel",
      "state": {
       "description_width": ""
      }
     },
     "601b51d853f44c498e1b1b3a27b8e3f5": {
      "model_module": "@jupyter-widgets/controls",
      "model_module_version": "1.5.0",
      "model_name": "DescriptionStyleModel",
      "state": {
       "description_width": ""
      }
     },
     "603d5772a1a9418091343b7e794753cc": {
      "model_module": "@jupyter-widgets/controls",
      "model_module_version": "1.5.0",
      "model_name": "ButtonStyleModel",
      "state": {}
     },
     "605b1ecd935842cfa1872dcc59509167": {
      "model_module": "@jupyter-widgets/controls",
      "model_module_version": "1.5.0",
      "model_name": "DescriptionStyleModel",
      "state": {
       "description_width": ""
      }
     },
     "607b90ea4fa84f569a801ab4e5e4ac17": {
      "model_module": "@jupyter-widgets/base",
      "model_module_version": "1.2.0",
      "model_name": "LayoutModel",
      "state": {}
     },
     "60c471a1998547ec83a1164f2d6059b4": {
      "model_module": "@jupyter-widgets/base",
      "model_module_version": "1.2.0",
      "model_name": "LayoutModel",
      "state": {
       "width": "auto"
      }
     },
     "61d95797e08643d79e5f0b24c50cf755": {
      "model_module": "@jupyter-widgets/base",
      "model_module_version": "1.2.0",
      "model_name": "LayoutModel",
      "state": {}
     },
     "61dc8992288d4e8fbf3ebc4c09dd09ef": {
      "model_module": "@jupyter-widgets/controls",
      "model_module_version": "1.5.0",
      "model_name": "TextModel",
      "state": {
       "description": "Device",
       "layout": "IPY_MODEL_efed32edf31447c4bb2369e999dcb5ca",
       "style": "IPY_MODEL_95e64faffc634d4f9d08da3e572996ba"
      }
     },
     "6217ef39528c4efcaf30ace60a2a1bd9": {
      "model_module": "@jupyter-widgets/controls",
      "model_module_version": "1.5.0",
      "model_name": "DescriptionStyleModel",
      "state": {
       "description_width": ""
      }
     },
     "629bba25b186424b8e29862ca2d69cd2": {
      "model_module": "@jupyter-widgets/controls",
      "model_module_version": "1.5.0",
      "model_name": "ButtonStyleModel",
      "state": {}
     },
     "62a07155536b4e3ea6d3967995030c37": {
      "model_module": "@jupyter-widgets/base",
      "model_module_version": "1.2.0",
      "model_name": "LayoutModel",
      "state": {}
     },
     "62cd566e44334635bf8e765ad5fc4989": {
      "model_module": "@jupyter-widgets/base",
      "model_module_version": "1.2.0",
      "model_name": "LayoutModel",
      "state": {}
     },
     "63215c76e3a246df8e9d1f615e9b0df8": {
      "model_module": "@jupyter-widgets/controls",
      "model_module_version": "1.5.0",
      "model_name": "ButtonModel",
      "state": {
       "button_style": "success",
       "description": "Get",
       "layout": "IPY_MODEL_56bb7b74d8624f9da0afa69a8415f717",
       "style": "IPY_MODEL_44c97e49ef8b4c4883326e540d5a4214"
      }
     },
     "632b22ec5b074361adae08c88cfecbf2": {
      "model_module": "@jupyter-widgets/controls",
      "model_module_version": "1.5.0",
      "model_name": "HTMLModel",
      "state": {
       "layout": "IPY_MODEL_22ab99725cd04bab9be9d03fcfb6dfe4",
       "style": "IPY_MODEL_2d6ba28a8a114c028cfe6c4cfbad3dc4",
       "value": "<h4>Command sent to ash_test_3</h4>"
      }
     },
     "636720f0b4034491a7ee6e2d681f4e4c": {
      "model_module": "@jupyter-widgets/base",
      "model_module_version": "1.2.0",
      "model_name": "LayoutModel",
      "state": {}
     },
     "63ccd390c8314403913245f612ff9ae5": {
      "model_module": "@jupyter-widgets/base",
      "model_module_version": "1.2.0",
      "model_name": "LayoutModel",
      "state": {}
     },
     "6431db3696a140c69f5dcbc17104f8fa": {
      "model_module": "@jupyter-widgets/controls",
      "model_module_version": "1.5.0",
      "model_name": "DescriptionStyleModel",
      "state": {
       "description_width": ""
      }
     },
     "6454b2d383e646dc8dd205fba7f86536": {
      "model_module": "@jupyter-widgets/controls",
      "model_module_version": "1.5.0",
      "model_name": "DescriptionStyleModel",
      "state": {
       "description_width": ""
      }
     },
     "6458213c5d5048a49865663d4bd2317b": {
      "model_module": "@jupyter-widgets/base",
      "model_module_version": "1.2.0",
      "model_name": "LayoutModel",
      "state": {}
     },
     "64d2371e85c14c8d8f709b490a0af714": {
      "model_module": "@jupyter-widgets/controls",
      "model_module_version": "1.5.0",
      "model_name": "DescriptionStyleModel",
      "state": {
       "description_width": ""
      }
     },
     "66d676265adb44d4b0c7aa6ca237e1c7": {
      "model_module": "@jupyter-widgets/controls",
      "model_module_version": "1.5.0",
      "model_name": "DescriptionStyleModel",
      "state": {
       "description_width": ""
      }
     },
     "670a41fab6724ecaa0b165e109d4ddb3": {
      "model_module": "@jupyter-widgets/controls",
      "model_module_version": "1.5.0",
      "model_name": "HTMLModel",
      "state": {
       "layout": "IPY_MODEL_3ac337bd5cae40b88d81edf6afebf110",
       "style": "IPY_MODEL_75560757cf3c47e3adda65e3cb481f90",
       "value": "<p>2023-02-16 16:28:50 PST - Frame 84521261, Spike</p>"
      }
     },
     "672e13c39dff47d9aedbc85a8ab487c3": {
      "model_module": "@jupyter-widgets/base",
      "model_module_version": "1.2.0",
      "model_name": "LayoutModel",
      "state": {}
     },
     "67801aa7eae04a04a3f124f406035250": {
      "model_module": "@jupyter-widgets/base",
      "model_module_version": "1.2.0",
      "model_name": "LayoutModel",
      "state": {}
     },
     "682ab9f988ee4192954ccbf892bbacce": {
      "model_module": "@jupyter-widgets/base",
      "model_module_version": "1.2.0",
      "model_name": "LayoutModel",
      "state": {
       "margin": "2px 20px 0 0",
       "width": "auto"
      }
     },
     "684b5d6d2f3e4279a0c83ca1e453e5dd": {
      "model_module": "@jupyter-widgets/controls",
      "model_module_version": "1.5.0",
      "model_name": "ButtonModel",
      "state": {
       "button_style": "success",
       "description": "Run",
       "layout": "IPY_MODEL_8bd70faf415f4e238f103139d7835c7a",
       "style": "IPY_MODEL_75224def18774654bcf854aec74f1526"
      }
     },
     "68db5286475546758fe808440f2b06b9": {
      "model_module": "@jupyter-widgets/controls",
      "model_module_version": "1.5.0",
      "model_name": "HTMLModel",
      "state": {
       "layout": "IPY_MODEL_700673d2d2844cd6aec031f8838e716a",
       "style": "IPY_MODEL_abb810c2b5d840959a6424636f59a3a5",
       "value": "<p>2023-01-20 15:26:37 PST - 1</p>"
      }
     },
     "68f72ec3ea9f459292774230828b6010": {
      "model_module": "@jupyter-widgets/controls",
      "model_module_version": "1.5.0",
      "model_name": "ButtonStyleModel",
      "state": {}
     },
     "69374fcb14fc44cba5bdc0505e3b2b56": {
      "model_module": "@jupyter-widgets/controls",
      "model_module_version": "1.5.0",
      "model_name": "HTMLModel",
      "state": {
       "layout": "IPY_MODEL_bfaf67f66da541a08e99e0eb7eee018a",
       "style": "IPY_MODEL_9a6054bceeed4959a80347efdc6c5a27",
       "value": "<h3>Enter Command</h3><p>Type your device command below. It will be sent to <b>ash_test</b>. To schedule commands, check out <a href='https://schedule.readthedocs.io/en/stable/examples.html' target='_blank'>this reference</a></p>"
      }
     },
     "695d5bfd00bd415a86e5b2cd6a4b377d": {
      "model_module": "@jupyter-widgets/base",
      "model_module_version": "1.2.0",
      "model_name": "LayoutModel",
      "state": {}
     },
     "69a72a27dada4c96b0355d3fbdb9e3c2": {
      "model_module": "@jupyter-widgets/base",
      "model_module_version": "1.2.0",
      "model_name": "LayoutModel",
      "state": {
       "width": "450px"
      }
     },
     "6a374702e2944bdf819da7242e85858f": {
      "model_module": "@jupyter-widgets/controls",
      "model_module_version": "1.5.0",
      "model_name": "DescriptionStyleModel",
      "state": {
       "description_width": ""
      }
     },
     "6ad706d93c12400a9df6d49c6f7b9163": {
      "model_module": "@jupyter-widgets/base",
      "model_module_version": "1.2.0",
      "model_name": "LayoutModel",
      "state": {}
     },
     "6b6ec92ae48e4b4fb922ce7fd4e2529f": {
      "model_module": "@jupyter-widgets/base",
      "model_module_version": "1.2.0",
      "model_name": "LayoutModel",
      "state": {
       "width": "auto"
      }
     },
     "6b9e20a4ba4e48f4b6c91420c3878af0": {
      "model_module": "@jupyter-widgets/controls",
      "model_module_version": "1.5.0",
      "model_name": "DescriptionStyleModel",
      "state": {
       "description_width": ""
      }
     },
     "6ba1664f9d3a42dc9b7e2c081bccb6d5": {
      "model_module": "@jupyter-widgets/base",
      "model_module_version": "1.2.0",
      "model_name": "LayoutModel",
      "state": {
       "margin": "2px 20px 0 0",
       "width": "auto"
      }
     },
     "6ce93f09f5ed47ef88bb9602208911e4": {
      "model_module": "@jupyter-widgets/controls",
      "model_module_version": "1.5.0",
      "model_name": "HTMLModel",
      "state": {
       "layout": "IPY_MODEL_457d8fed16db4ef3818f7b981663aeab",
       "style": "IPY_MODEL_72f8252dab814916a442c7cf1e74f472",
       "value": "<p>2023-02-16 16:28:50 PST - Frame 84508156, Spike</p>"
      }
     },
     "6d00ec4309894b7e9102f393e2186dde": {
      "model_module": "@jupyter-widgets/controls",
      "model_module_version": "1.5.0",
      "model_name": "HTMLModel",
      "state": {
       "layout": "IPY_MODEL_6dcc31c8834f45edafd73aa0d072cca0",
       "style": "IPY_MODEL_2fb727601271486084c71a52147e0c05",
       "value": "<h4>What do you want to do?</h4><p>You can send a new command to the device or change it's status between running, paused, and shutdown. </p> "
      }
     },
     "6d03526b7e9348dfbd9165993330f4f9": {
      "model_module": "@jupyter-widgets/controls",
      "model_module_version": "1.5.0",
      "model_name": "HTMLModel",
      "state": {
       "layout": "IPY_MODEL_ba4621bfe107478abd60a6dfee55621b",
       "style": "IPY_MODEL_64d2371e85c14c8d8f709b490a0af714",
       "value": "<p>2023-02-16 16:28:51 PST - Stop recording</p>"
      }
     },
     "6dcc31c8834f45edafd73aa0d072cca0": {
      "model_module": "@jupyter-widgets/base",
      "model_module_version": "1.2.0",
      "model_name": "LayoutModel",
      "state": {}
     },
     "6de9344427204e8aa051c4452b6114f6": {
      "model_module": "@jupyter-widgets/base",
      "model_module_version": "1.2.0",
      "model_name": "LayoutModel",
      "state": {}
     },
     "6df87241962a487a95fe3f002f7f2d4f": {
      "model_module": "@jupyter-widgets/controls",
      "model_module_version": "1.5.0",
      "model_name": "HTMLModel",
      "state": {
       "layout": "IPY_MODEL_9509f76c48d64b1e8751511719b07930",
       "style": "IPY_MODEL_66d676265adb44d4b0c7aa6ca237e1c7",
       "value": "<p>2023-01-20 15:24:24 PST - Run Command: sayHello( \"bob\" )</p>"
      }
     },
     "6e01800dd3eb49c58ede465883462a4d": {
      "model_module": "@jupyter-widgets/base",
      "model_module_version": "1.2.0",
      "model_name": "LayoutModel",
      "state": {}
     },
     "6f5c93363ca04e048d6d355e619172dc": {
      "model_module": "@jupyter-widgets/base",
      "model_module_version": "1.2.0",
      "model_name": "LayoutModel",
      "state": {
       "width": "450px"
      }
     },
     "6f96e87d8f4f4853b57882aa3783733e": {
      "model_module": "@jupyter-widgets/base",
      "model_module_version": "1.2.0",
      "model_name": "LayoutModel",
      "state": {}
     },
     "6ff4ffaa7ea1480b8d707f8fcd31b802": {
      "model_module": "@jupyter-widgets/base",
      "model_module_version": "1.2.0",
      "model_name": "LayoutModel",
      "state": {}
     },
     "6ff5734f915942a286cd4aecd8e63b40": {
      "model_module": "@jupyter-widgets/base",
      "model_module_version": "1.2.0",
      "model_name": "LayoutModel",
      "state": {}
     },
     "700673d2d2844cd6aec031f8838e716a": {
      "model_module": "@jupyter-widgets/base",
      "model_module_version": "1.2.0",
      "model_name": "LayoutModel",
      "state": {}
     },
     "700ae90f58d945f6968220ec2bd20375": {
      "model_module": "@jupyter-widgets/controls",
      "model_module_version": "1.5.0",
      "model_name": "ButtonModel",
      "state": {
       "button_style": "success",
       "description": "Get",
       "layout": "IPY_MODEL_d351dd4dd5a5453d88ea999bb5722654",
       "style": "IPY_MODEL_3290c2a970654d42a2ebb08bb4064d5b"
      }
     },
     "7022dae4e6ec4c72b80602d65c39934a": {
      "model_module": "@jupyter-widgets/controls",
      "model_module_version": "1.5.0",
      "model_name": "ButtonModel",
      "state": {
       "button_style": "success",
       "description": "Send",
       "layout": "IPY_MODEL_ddba541a8be348748a3d341a7d87f710",
       "style": "IPY_MODEL_fdf8e18c06e44caa93ef8c1ad8341f00"
      }
     },
     "70ba1a3db7ab48e19635a08948cecdff": {
      "model_module": "@jupyter-widgets/controls",
      "model_module_version": "1.5.0",
      "model_name": "TextModel",
      "state": {
       "description": "Device",
       "layout": "IPY_MODEL_dfe8b02b5d594980ba3a4ff0863fd237",
       "style": "IPY_MODEL_e7087fd5b56745dbb340b151d18f197e",
       "value": "microscopy2"
      }
     },
     "712a3635c1284860aa87ebeacb6a6074": {
      "model_module": "@jupyter-widgets/controls",
      "model_module_version": "1.5.0",
      "model_name": "DescriptionStyleModel",
      "state": {
       "description_width": ""
      }
     },
     "71e6ece06f88487dabf351f07c84e766": {
      "model_module": "@jupyter-widgets/controls",
      "model_module_version": "1.5.0",
      "model_name": "HTMLModel",
      "state": {
       "layout": "IPY_MODEL_30211faea5a4494fbc4c7fc6b38b7ef6",
       "style": "IPY_MODEL_168011b4ab374e60b18682bdfcea6f91",
       "value": "<p>2023-01-20 15:30:01 PST - Run Command: schedule.every().hour.do(sayHello, name='Alice')</p>"
      }
     },
     "720b966b4a5a4d3e9fa121c84a70aa35": {
      "model_module": "@jupyter-widgets/controls",
      "model_module_version": "1.5.0",
      "model_name": "DescriptionStyleModel",
      "state": {
       "description_width": ""
      }
     },
     "7241813db5cc4f5f9f28e832a6a6c266": {
      "model_module": "@jupyter-widgets/controls",
      "model_module_version": "1.5.0",
      "model_name": "HTMLModel",
      "state": {
       "layout": "IPY_MODEL_52d1cd71bbb44f4f9a61d5b66e0b8514",
       "style": "IPY_MODEL_f993de7c2f6240d7b1ffae73fcade300",
       "value": "<h4>Command sent to microscopy2</h4>"
      }
     },
     "7269a45e666a49d49ef8fcfb668a6406": {
      "model_module": "@jupyter-widgets/controls",
      "model_module_version": "1.5.0",
      "model_name": "HTMLModel",
      "state": {
       "layout": "IPY_MODEL_b3d84f3bf744415187d6cf3d5def0665",
       "style": "IPY_MODEL_8aa43ad4613841d998dec8c72d13311f",
       "value": "<p>2023-01-20 15:25:56 PST - Run Command: my_count.add_one()</p>"
      }
     },
     "72f8252dab814916a442c7cf1e74f472": {
      "model_module": "@jupyter-widgets/controls",
      "model_module_version": "1.5.0",
      "model_name": "DescriptionStyleModel",
      "state": {
       "description_width": ""
      }
     },
     "747e76636ebf47549fc9eaae1b1e714f": {
      "model_module": "@jupyter-widgets/base",
      "model_module_version": "1.2.0",
      "model_name": "LayoutModel",
      "state": {}
     },
     "75224def18774654bcf854aec74f1526": {
      "model_module": "@jupyter-widgets/controls",
      "model_module_version": "1.5.0",
      "model_name": "ButtonStyleModel",
      "state": {}
     },
     "7542ea38656d48209e9a22ca0e0e4a7d": {
      "model_module": "@jupyter-widgets/controls",
      "model_module_version": "1.5.0",
      "model_name": "ButtonModel",
      "state": {
       "button_style": "success",
       "description": "Send Command",
       "layout": "IPY_MODEL_59e3e11a665c41ac9533f20df8f9d090",
       "style": "IPY_MODEL_a103edfdd0764f97ace5fa674b97e7cd"
      }
     },
     "75560757cf3c47e3adda65e3cb481f90": {
      "model_module": "@jupyter-widgets/controls",
      "model_module_version": "1.5.0",
      "model_name": "DescriptionStyleModel",
      "state": {
       "description_width": ""
      }
     },
     "75755facbdb546cda2e67d8d589f144b": {
      "model_module": "@jupyter-widgets/controls",
      "model_module_version": "1.5.0",
      "model_name": "HTMLModel",
      "state": {
       "layout": "IPY_MODEL_b15b8735ce0f4feeafa8869b43fc6289",
       "style": "IPY_MODEL_eea3be96b7b94f50bd9e11eb170243ff",
       "value": "<p>2023-02-16 16:28:51 PST - Finished ~stim~</p>"
      }
     },
     "757e52432dca437baa423ba703119b80": {
      "model_module": "@jupyter-widgets/controls",
      "model_module_version": "1.5.0",
      "model_name": "DescriptionStyleModel",
      "state": {
       "description_width": ""
      }
     },
     "763d60d0d34742e78521ce043598cce6": {
      "model_module": "@jupyter-widgets/base",
      "model_module_version": "1.2.0",
      "model_name": "LayoutModel",
      "state": {}
     },
     "76cc6711148c485fb1f46c8590c70c26": {
      "model_module": "@jupyter-widgets/base",
      "model_module_version": "1.2.0",
      "model_name": "LayoutModel",
      "state": {}
     },
     "775aca77eb18498cadc36407c85b9b31": {
      "model_module": "@jupyter-widgets/controls",
      "model_module_version": "1.5.0",
      "model_name": "HBoxModel",
      "state": {
       "children": [
        "IPY_MODEL_369bea86973f49d18090da9a35b77975",
        "IPY_MODEL_f3f3abc9333c47e793456b2693935431",
        "IPY_MODEL_01f1e5ddc6fa4677bf6c538163fb7ef2",
        "IPY_MODEL_066fd35cfe4c493e9c0ed879a4ebc915"
       ],
       "layout": "IPY_MODEL_bd37fe7c9bc84a1aaa18ef8380b042fd"
      }
     },
     "77945578f78845dea1242ee00486e7e5": {
      "model_module": "@jupyter-widgets/base",
      "model_module_version": "1.2.0",
      "model_name": "LayoutModel",
      "state": {
       "margin": "2px 20px 0 0",
       "width": "auto"
      }
     },
     "77d2cdb3249f4d4ebe14aff9ad07de80": {
      "model_module": "@jupyter-widgets/controls",
      "model_module_version": "1.5.0",
      "model_name": "DescriptionStyleModel",
      "state": {
       "description_width": ""
      }
     },
     "787da7d4fc1f480e99f7db927cd160a9": {
      "model_module": "@jupyter-widgets/controls",
      "model_module_version": "1.5.0",
      "model_name": "HTMLModel",
      "state": {
       "layout": "IPY_MODEL_c3cac43c197444968addd578e22e4b02",
       "style": "IPY_MODEL_f5f8591d474f4966828cc58ea81cab14",
       "value": "<h3>Enter Command</h3><p>Type your device command below. It will be sent to <b>microscopy2</b>. To schedule commands, check out <a href='https://schedule.readthedocs.io/en/stable/examples.html' target='_blank'>this reference</a></p>"
      }
     },
     "7925751a6e8444e883dffd6f7878a6bd": {
      "model_module": "@jupyter-widgets/base",
      "model_module_version": "1.2.0",
      "model_name": "LayoutModel",
      "state": {}
     },
     "79ab222412744db0b1bd05adc7cec6e9": {
      "model_module": "@jupyter-widgets/base",
      "model_module_version": "1.2.0",
      "model_name": "LayoutModel",
      "state": {}
     },
     "79b060dd69df414b97cc4304f6bfa724": {
      "model_module": "@jupyter-widgets/controls",
      "model_module_version": "1.5.0",
      "model_name": "ButtonStyleModel",
      "state": {}
     },
     "7a2297c35ee2489381a2da4a469037f4": {
      "model_module": "@jupyter-widgets/controls",
      "model_module_version": "1.5.0",
      "model_name": "VBoxModel",
      "state": {
       "children": [
        "IPY_MODEL_e9978185fa5c4b3f9193cabcf177ef60",
        "IPY_MODEL_3dcaae9171464f1b9742b331c37d25fa"
       ],
       "layout": "IPY_MODEL_747e76636ebf47549fc9eaae1b1e714f"
      }
     },
     "7aa6538ff15546a096e081d77d742567": {
      "model_module": "@jupyter-widgets/controls",
      "model_module_version": "1.5.0",
      "model_name": "HTMLModel",
      "state": {
       "layout": "IPY_MODEL_e9a0f313f9e94954b5b95f8abe13c895",
       "style": "IPY_MODEL_3a7642e3468a44989f761efedc0a57b8",
       "value": "Job 0: Every 1 hour do sayHello(name='Alice') (last run: [never], next run: 2023-01-20 16:30:01)"
      }
     },
     "7adb86442034421baa140a9af664b8f8": {
      "model_module": "@jupyter-widgets/base",
      "model_module_version": "1.2.0",
      "model_name": "LayoutModel",
      "state": {}
     },
     "7b303bec2fae4d3e84655ea3b8885ec9": {
      "model_module": "@jupyter-widgets/controls",
      "model_module_version": "1.5.0",
      "model_name": "HBoxModel",
      "state": {
       "children": [
        "IPY_MODEL_b18d2969d54f4cabb55aad02d23b062c",
        "IPY_MODEL_bf70b76507904237ad7bb6c063fe669d"
       ],
       "layout": "IPY_MODEL_1a5b2677941a483eb31f5cdfb513d7cb"
      }
     },
     "7b90290455aa482a8522d4046b8422cf": {
      "model_module": "@jupyter-widgets/controls",
      "model_module_version": "1.5.0",
      "model_name": "ButtonModel",
      "state": {
       "button_style": "success",
       "description": "Get",
       "layout": "IPY_MODEL_c178a4b4f2ad44e0a61af38b6a6ab097",
       "style": "IPY_MODEL_9bf8196b07bd4d308d50682d51c4399f"
      }
     },
     "7b94e3ffa90b4c5db9bd4bfebfcfb7a1": {
      "model_module": "@jupyter-widgets/controls",
      "model_module_version": "1.5.0",
      "model_name": "ButtonModel",
      "state": {
       "button_style": "info",
       "icon": "refresh",
       "layout": "IPY_MODEL_4303c64819b647d4901b1b01a8143f23",
       "style": "IPY_MODEL_4e23ecb6ae2b4838b4447220d4b53df6"
      }
     },
     "7cbc7fcc9a494914b13cd4f9c8e3744f": {
      "model_module": "@jupyter-widgets/controls",
      "model_module_version": "1.5.0",
      "model_name": "HTMLModel",
      "state": {
       "layout": "IPY_MODEL_67801aa7eae04a04a3f124f406035250",
       "style": "IPY_MODEL_46437c8ecb7a47b3832c7de1657254fa",
       "value": "<h3>History</h3><hr>"
      }
     },
     "7dc82342d5f74698a8cf7903c50a944c": {
      "model_module": "@jupyter-widgets/base",
      "model_module_version": "1.2.0",
      "model_name": "LayoutModel",
      "state": {
       "margin": "2px 20px 0 0"
      }
     },
     "7e82080da11a4bda9f232236048f3e86": {
      "model_module": "@jupyter-widgets/base",
      "model_module_version": "1.2.0",
      "model_name": "LayoutModel",
      "state": {}
     },
     "7ea1b1b62ac24cdb830a4e184b3011cf": {
      "model_module": "@jupyter-widgets/base",
      "model_module_version": "1.2.0",
      "model_name": "LayoutModel",
      "state": {
       "width": "750px"
      }
     },
     "7f9e67702aaa48f29be394f904a35b90": {
      "model_module": "@jupyter-widgets/controls",
      "model_module_version": "1.5.0",
      "model_name": "HTMLModel",
      "state": {
       "layout": "IPY_MODEL_e50d8abed8604de982eae89a9b494e17",
       "style": "IPY_MODEL_1bc162931b0b4593978f99bbe5cbc5ec",
       "value": "<p>2023-01-20 15:26:37 PST - 1</p>"
      }
     },
     "80702121c7ca47e4b76298196bff6a52": {
      "model_module": "@jupyter-widgets/controls",
      "model_module_version": "1.5.0",
      "model_name": "DescriptionStyleModel",
      "state": {
       "description_width": ""
      }
     },
     "80ab6f49c1784436b5373a1e7adb7d51": {
      "model_module": "@jupyter-widgets/controls",
      "model_module_version": "1.5.0",
      "model_name": "HTMLModel",
      "state": {
       "layout": "IPY_MODEL_a921e69f91084e0a89143b5ad0240d3b",
       "style": "IPY_MODEL_5f21357248014f2a907ca2c08cc0562e",
       "value": "<p>2023-01-20 15:26:37 PST - Run Command: print(my_count.count)</p>"
      }
     },
     "81606ff170d74815a3f532e2ea4a7548": {
      "model_module": "@jupyter-widgets/base",
      "model_module_version": "1.2.0",
      "model_name": "LayoutModel",
      "state": {}
     },
     "81706619fcd745d898aaa54490809210": {
      "model_module": "@jupyter-widgets/controls",
      "model_module_version": "1.5.0",
      "model_name": "ButtonStyleModel",
      "state": {}
     },
     "81c0913a76ff4b068119f4da7df7b549": {
      "model_module": "@jupyter-widgets/controls",
      "model_module_version": "1.5.0",
      "model_name": "DescriptionStyleModel",
      "state": {
       "description_width": ""
      }
     },
     "828b0e2b62ef45c6a82595c69433281e": {
      "model_module": "@jupyter-widgets/controls",
      "model_module_version": "1.5.0",
      "model_name": "TextModel",
      "state": {
       "description": "Devices",
       "layout": "IPY_MODEL_99581d33b0694279ba80cb4ddd12a232",
       "style": "IPY_MODEL_ea60033f2c1b4d5daf7431d5277aa5c1",
       "value": "microscopy2"
      }
     },
     "83be569c59a64b91b84dc4919edf1f70": {
      "model_module": "@jupyter-widgets/base",
      "model_module_version": "1.2.0",
      "model_name": "LayoutModel",
      "state": {}
     },
     "84478a8d178a47b49f30b9967abcd596": {
      "model_module": "@jupyter-widgets/controls",
      "model_module_version": "1.5.0",
      "model_name": "HTMLModel",
      "state": {
       "layout": "IPY_MODEL_c5a4beb4cc0e45b2b94628ba8d99b87e",
       "style": "IPY_MODEL_211f4bfcf7b84266bddff07e8a0fab24",
       "value": "<h4>What do you want to do?</h4><p>You can send a new command to the device or change it's status between running, paused, and shutdown. </p> "
      }
     },
     "8452a6698a2147bb9aa8550b2acf3efa": {
      "model_module": "@jupyter-widgets/controls",
      "model_module_version": "1.5.0",
      "model_name": "ButtonModel",
      "state": {
       "button_style": "success",
       "description": "Draw",
       "layout": "IPY_MODEL_9388ed2def6746fda86478fa480c8d01",
       "style": "IPY_MODEL_68f72ec3ea9f459292774230828b6010"
      }
     },
     "846a3a60c4874138ac9a382a4fca04b2": {
      "model_module": "@jupyter-widgets/base",
      "model_module_version": "1.2.0",
      "model_name": "LayoutModel",
      "state": {}
     },
     "85659c8cdf8a40df94452e98252c3049": {
      "model_module": "@jupyter-widgets/controls",
      "model_module_version": "1.5.0",
      "model_name": "HTMLModel",
      "state": {
       "layout": "IPY_MODEL_bed8db3afb9c42968adb6d89d2868818",
       "style": "IPY_MODEL_8f518904c23e48238be552cf6bf1a7da",
       "value": "<p>2023-01-20 15:25:56 PST - Run Command: my_count.add_one()</p>"
      }
     },
     "85727a4b19744e4ab122602d46fc9566": {
      "model_module": "@jupyter-widgets/controls",
      "model_module_version": "1.5.0",
      "model_name": "DescriptionStyleModel",
      "state": {
       "description_width": ""
      }
     },
     "86321702f6cf44cf829951d8a5bab298": {
      "model_module": "@jupyter-widgets/controls",
      "model_module_version": "1.5.0",
      "model_name": "ButtonStyleModel",
      "state": {}
     },
     "864d750272584d7b98d4df318baa4241": {
      "model_module": "@jupyter-widgets/controls",
      "model_module_version": "1.5.0",
      "model_name": "DescriptionStyleModel",
      "state": {
       "description_width": ""
      }
     },
     "86f63f84e36e4e87ba14d03f4b303686": {
      "model_module": "@jupyter-widgets/base",
      "model_module_version": "1.2.0",
      "model_name": "LayoutModel",
      "state": {}
     },
     "8838a286dc5449099f63db57854bad9a": {
      "model_module": "@jupyter-widgets/controls",
      "model_module_version": "1.5.0",
      "model_name": "HTMLModel",
      "state": {
       "layout": "IPY_MODEL_6f96e87d8f4f4853b57882aa3783733e",
       "style": "IPY_MODEL_5ee79c750aa64c19ae57b20249ce8149",
       "value": "<p>2023-02-16 16:28:51 PST - Frame 84543732, Spike</p>"
      }
     },
     "88485c29bd6e491f8d31b9a6ae3076f4": {
      "model_module": "@jupyter-widgets/base",
      "model_module_version": "1.2.0",
      "model_name": "LayoutModel",
      "state": {
       "margin": "2px 20px 0 0"
      }
     },
     "886bedd46cb84cac8e03743b36ad5d86": {
      "model_module": "@jupyter-widgets/base",
      "model_module_version": "1.2.0",
      "model_name": "LayoutModel",
      "state": {
       "width": "auto"
      }
     },
     "886c5665299c4cc3bcda9776ab4a5fa4": {
      "model_module": "@jupyter-widgets/controls",
      "model_module_version": "1.5.0",
      "model_name": "ButtonModel",
      "state": {
       "button_style": "success",
       "description": "Send",
       "layout": "IPY_MODEL_13d4aaa0591040078090f5dadfdac628",
       "style": "IPY_MODEL_e036967f2f134377b194537c596322d4"
      }
     },
     "8937fed2b7974f74b833c5a6b721f80f": {
      "model_module": "@jupyter-widgets/base",
      "model_module_version": "1.2.0",
      "model_name": "LayoutModel",
      "state": {}
     },
     "89a9c9b5847a43e0870a9e4d1abb533b": {
      "model_module": "@jupyter-widgets/base",
      "model_module_version": "1.2.0",
      "model_name": "LayoutModel",
      "state": {
       "margin": "2px 50px 0 0",
       "width": "auto"
      }
     },
     "89f15f15e4ea444c9fd3e3b996f88f33": {
      "model_module": "@jupyter-widgets/controls",
      "model_module_version": "1.5.0",
      "model_name": "HTMLModel",
      "state": {
       "layout": "IPY_MODEL_5d002828257848b98ef71a13ee84f488",
       "style": "IPY_MODEL_5575f130d20e47c1886588b3ea37d507",
       "value": "<p>2023-01-20 15:24:24 PST - Run Command: sayHello( \"bob\" )</p>"
      }
     },
     "8aa43ad4613841d998dec8c72d13311f": {
      "model_module": "@jupyter-widgets/controls",
      "model_module_version": "1.5.0",
      "model_name": "DescriptionStyleModel",
      "state": {
       "description_width": ""
      }
     },
     "8ae73bcde1ab47208959db32a4522ef4": {
      "model_module": "@jupyter-widgets/base",
      "model_module_version": "1.2.0",
      "model_name": "LayoutModel",
      "state": {}
     },
     "8bb5ab4c69a1482ba28c0ada8340f316": {
      "model_module": "@jupyter-widgets/base",
      "model_module_version": "1.2.0",
      "model_name": "LayoutModel",
      "state": {}
     },
     "8bd70faf415f4e238f103139d7835c7a": {
      "model_module": "@jupyter-widgets/base",
      "model_module_version": "1.2.0",
      "model_name": "LayoutModel",
      "state": {
       "margin": "2px 20px 0 0"
      }
     },
     "8ca522f095a84d72bcedf6b737db3a03": {
      "model_module": "@jupyter-widgets/controls",
      "model_module_version": "1.5.0",
      "model_name": "DescriptionStyleModel",
      "state": {
       "description_width": ""
      }
     },
     "8d19e402f23e4812a427203d32fb58b0": {
      "model_module": "@jupyter-widgets/controls",
      "model_module_version": "1.5.0",
      "model_name": "HTMLModel",
      "state": {
       "layout": "IPY_MODEL_8ae73bcde1ab47208959db32a4522ef4",
       "style": "IPY_MODEL_85727a4b19744e4ab122602d46fc9566",
       "value": "<h3>Select Devices</h3><p>Type the name of the devices you wish to view.</p><p>Use a comma to seperate them and no spaces! Example: <code>flow_1,pic_1</code></p>"
      }
     },
     "8d51ae438fb64224aad3a261c6b11ec8": {
      "model_module": "@jupyter-widgets/controls",
      "model_module_version": "1.5.0",
      "model_name": "DescriptionStyleModel",
      "state": {
       "description_width": ""
      }
     },
     "8d7798dff14b4eae819336198157a3c9": {
      "model_module": "@jupyter-widgets/controls",
      "model_module_version": "1.5.0",
      "model_name": "TextModel",
      "state": {
       "description": "Command",
       "layout": "IPY_MODEL_599b064fdac6480a88530efa6f9d0003",
       "style": "IPY_MODEL_a532bcd8fbd9493aabadff7ebe35dd00",
       "value": "schedule.every(30).seconds.do( do_do_experiment, ind=4 )"
      }
     },
     "8d90221cd7284ec999fab087dd39e9c9": {
      "model_module": "@jupyter-widgets/controls",
      "model_module_version": "1.5.0",
      "model_name": "ButtonModel",
      "state": {
       "button_style": "danger",
       "description": "Shutdown",
       "layout": "IPY_MODEL_89a9c9b5847a43e0870a9e4d1abb533b",
       "style": "IPY_MODEL_81706619fcd745d898aaa54490809210"
      }
     },
     "8e16f2b4b50a424abd37c3b757915698": {
      "model_module": "@jupyter-widgets/base",
      "model_module_version": "1.2.0",
      "model_name": "LayoutModel",
      "state": {}
     },
     "8e51201425d745af8df21483d65e500a": {
      "model_module": "@jupyter-widgets/base",
      "model_module_version": "1.2.0",
      "model_name": "LayoutModel",
      "state": {
       "width": "auto"
      }
     },
     "8e5a293c79cb42979cd37251a8d5b4fe": {
      "model_module": "@jupyter-widgets/base",
      "model_module_version": "1.2.0",
      "model_name": "LayoutModel",
      "state": {}
     },
     "8f2dc7b157e34f29b017269a705f7187": {
      "model_module": "@jupyter-widgets/controls",
      "model_module_version": "1.5.0",
      "model_name": "DescriptionStyleModel",
      "state": {
       "description_width": ""
      }
     },
     "8f518904c23e48238be552cf6bf1a7da": {
      "model_module": "@jupyter-widgets/controls",
      "model_module_version": "1.5.0",
      "model_name": "DescriptionStyleModel",
      "state": {
       "description_width": ""
      }
     },
     "8f745f489f7d4a1e998e1dc4e295d322": {
      "model_module": "@jupyter-widgets/controls",
      "model_module_version": "1.5.0",
      "model_name": "DescriptionStyleModel",
      "state": {
       "description_width": ""
      }
     },
     "8fa31a3d55794556ad75fb29d6d81066": {
      "model_module": "@jupyter-widgets/controls",
      "model_module_version": "1.5.0",
      "model_name": "DescriptionStyleModel",
      "state": {
       "description_width": ""
      }
     },
     "8fb58c0b978149be9dea59d8e5a5e176": {
      "model_module": "@jupyter-widgets/controls",
      "model_module_version": "1.5.0",
      "model_name": "ButtonModel",
      "state": {
       "button_style": "info",
       "icon": "refresh",
       "layout": "IPY_MODEL_d48c99d24a4f44efb09427d8b6b7f7d0",
       "style": "IPY_MODEL_b7d70d3c977549b9a0fec32be7412396"
      }
     },
     "90fcc1ff4a5040cd8371f67502a0417a": {
      "model_module": "@jupyter-widgets/controls",
      "model_module_version": "1.5.0",
      "model_name": "HTMLModel",
      "state": {
       "layout": "IPY_MODEL_acc94d80befe4e6e9b31e6aba11d0ff3",
       "style": "IPY_MODEL_297ba79b74774a62bac0de2665249cf5",
       "value": "<p>2023-02-16 16:28:49 PST - Frame 84472800, Spike</p>"
      }
     },
     "9176e6ff119c41d48eb7a3e1f1926bca": {
      "model_module": "@jupyter-widgets/controls",
      "model_module_version": "1.5.0",
      "model_name": "ButtonModel",
      "state": {
       "button_style": "info",
       "icon": "refresh",
       "layout": "IPY_MODEL_391361b57bf04f4db462d503300d1a19",
       "style": "IPY_MODEL_603d5772a1a9418091343b7e794753cc"
      }
     },
     "9214663908f84136b96c4f109db2a2e5": {
      "model_module": "@jupyter-widgets/base",
      "model_module_version": "1.2.0",
      "model_name": "LayoutModel",
      "state": {
       "margin": "2px 50px 0 0",
       "width": "auto"
      }
     },
     "926652bbab274bde8ac0ac7612e040ae": {
      "model_module": "@jupyter-widgets/base",
      "model_module_version": "1.2.0",
      "model_name": "LayoutModel",
      "state": {}
     },
     "930a30e3c3b545f1ba4a460ae59ee803": {
      "model_module": "@jupyter-widgets/controls",
      "model_module_version": "1.5.0",
      "model_name": "DescriptionStyleModel",
      "state": {
       "description_width": ""
      }
     },
     "9388ed2def6746fda86478fa480c8d01": {
      "model_module": "@jupyter-widgets/base",
      "model_module_version": "1.2.0",
      "model_name": "LayoutModel",
      "state": {
       "width": "auto"
      }
     },
     "94644db6c7584ee1b370aa36e3390fde": {
      "model_module": "@jupyter-widgets/base",
      "model_module_version": "1.2.0",
      "model_name": "LayoutModel",
      "state": {}
     },
     "94aa46a8ab334e868e11992c4b55e43a": {
      "model_module": "@jupyter-widgets/controls",
      "model_module_version": "1.5.0",
      "model_name": "VBoxModel",
      "state": {
       "children": [
        "IPY_MODEL_f9c245a1045f439aa88d81cbb305a499",
        "IPY_MODEL_469be25df938428b959a8270aa42e62f"
       ],
       "layout": "IPY_MODEL_f65a3f9a1426434598ffd8eef1e31ac5"
      }
     },
     "94b6263c56be4a44895600aa0d6f5aee": {
      "model_module": "@jupyter-widgets/controls",
      "model_module_version": "1.5.0",
      "model_name": "DescriptionStyleModel",
      "state": {
       "description_width": ""
      }
     },
     "94ee1d4e62394edca89cab71e4b58b1d": {
      "model_module": "@jupyter-widgets/controls",
      "model_module_version": "1.5.0",
      "model_name": "DescriptionStyleModel",
      "state": {
       "description_width": ""
      }
     },
     "9509f76c48d64b1e8751511719b07930": {
      "model_module": "@jupyter-widgets/base",
      "model_module_version": "1.2.0",
      "model_name": "LayoutModel",
      "state": {}
     },
     "95e64faffc634d4f9d08da3e572996ba": {
      "model_module": "@jupyter-widgets/controls",
      "model_module_version": "1.5.0",
      "model_name": "DescriptionStyleModel",
      "state": {
       "description_width": ""
      }
     },
     "964055456b4c4e65930559751043cab5": {
      "model_module": "@jupyter-widgets/base",
      "model_module_version": "1.2.0",
      "model_name": "LayoutModel",
      "state": {}
     },
     "965478e8e82643eb8622c345208d20a4": {
      "model_module": "@jupyter-widgets/base",
      "model_module_version": "1.2.0",
      "model_name": "LayoutModel",
      "state": {}
     },
     "965e00481db64b0aab15328c73c22460": {
      "model_module": "@jupyter-widgets/base",
      "model_module_version": "1.2.0",
      "model_name": "LayoutModel",
      "state": {
       "margin": "2px 20px 0 0"
      }
     },
     "96ddcdc9886d448ea94dc67c6e8dd530": {
      "model_module": "@jupyter-widgets/controls",
      "model_module_version": "1.5.0",
      "model_name": "ButtonModel",
      "state": {
       "button_style": "info",
       "icon": "refresh",
       "layout": "IPY_MODEL_8e51201425d745af8df21483d65e500a",
       "style": "IPY_MODEL_1a2f4b87b21643b48880bb1102212e27"
      }
     },
     "9722d90c147c461a930c76504d08e693": {
      "model_module": "@jupyter-widgets/controls",
      "model_module_version": "1.5.0",
      "model_name": "HTMLModel",
      "state": {
       "layout": "IPY_MODEL_a8afa9fb8de24ddb927c33d3c1f9d32d",
       "style": "IPY_MODEL_fe54787f0ac040d683ea84d774b5880e",
       "value": "<h3>Enter Command</h3><p>Type your device command below. It will be sent to <b>microscopy2</b>. To schedule commands, check out <a href='https://schedule.readthedocs.io/en/stable/examples.html' target='_blank'>this reference</a></p>"
      }
     },
     "9799783b80fc4a398898e19200141e77": {
      "model_module": "@jupyter-widgets/controls",
      "model_module_version": "1.5.0",
      "model_name": "ButtonStyleModel",
      "state": {}
     },
     "97c77607051b42bfb565dbee5f710095": {
      "model_module": "@jupyter-widgets/base",
      "model_module_version": "1.2.0",
      "model_name": "LayoutModel",
      "state": {
       "margin": "2px 20px 0 0"
      }
     },
     "97e04da2344644d696953f652cf401fd": {
      "model_module": "@jupyter-widgets/controls",
      "model_module_version": "1.5.0",
      "model_name": "DescriptionStyleModel",
      "state": {
       "description_width": ""
      }
     },
     "982160834b8b4cebb9106e2a6d7e9cbf": {
      "model_module": "@jupyter-widgets/controls",
      "model_module_version": "1.5.0",
      "model_name": "TextModel",
      "state": {
       "description": "Devices",
       "layout": "IPY_MODEL_44af8a653a5d43d082628ae30870ca27",
       "style": "IPY_MODEL_8ca522f095a84d72bcedf6b737db3a03",
       "value": "ash_test_3"
      }
     },
     "984abb51f4c94dd098b303d705a67554": {
      "model_module": "@jupyter-widgets/controls",
      "model_module_version": "1.5.0",
      "model_name": "HTMLModel",
      "state": {
       "layout": "IPY_MODEL_b435b51f36ca42b2b84280cc3a7eeac5",
       "style": "IPY_MODEL_4c80294a57d1462abc8b6707736ee632",
       "value": "<h3>microscopy2</h3>"
      }
     },
     "99581d33b0694279ba80cb4ddd12a232": {
      "model_module": "@jupyter-widgets/base",
      "model_module_version": "1.2.0",
      "model_name": "LayoutModel",
      "state": {
       "width": "450px"
      }
     },
     "99e7107826124ac0baa3e16997574b6d": {
      "model_module": "@jupyter-widgets/base",
      "model_module_version": "1.2.0",
      "model_name": "LayoutModel",
      "state": {
       "width": "auto"
      }
     },
     "9a6054bceeed4959a80347efdc6c5a27": {
      "model_module": "@jupyter-widgets/controls",
      "model_module_version": "1.5.0",
      "model_name": "DescriptionStyleModel",
      "state": {
       "description_width": ""
      }
     },
     "9a75f9459bb9475691d6670592bdd2dd": {
      "model_module": "@jupyter-widgets/controls",
      "model_module_version": "1.5.0",
      "model_name": "TextModel",
      "state": {
       "description": "Device",
       "layout": "IPY_MODEL_c908bf00254340df89c63c5ce2ae8551",
       "style": "IPY_MODEL_59e2fa8569634c879ff2c3da6de3734d"
      }
     },
     "9b52f641f67143aa82fcafc9b747e78f": {
      "model_module": "@jupyter-widgets/base",
      "model_module_version": "1.2.0",
      "model_name": "LayoutModel",
      "state": {}
     },
     "9b6acaebde624218bbdd986113ef3ab7": {
      "model_module": "@jupyter-widgets/base",
      "model_module_version": "1.2.0",
      "model_name": "LayoutModel",
      "state": {
       "width": "auto"
      }
     },
     "9b8783d127974c968e98538c0500e510": {
      "model_module": "@jupyter-widgets/controls",
      "model_module_version": "1.5.0",
      "model_name": "HTMLModel",
      "state": {
       "layout": "IPY_MODEL_e19d4867ccaf4b45a49d9e9c5a11a2c6",
       "style": "IPY_MODEL_0730f922433c451ebd2c09bf41573a65",
       "value": "<h4>What do you want to do?</h4><p>You can send a new command to the device or change it's status between running, paused, and shutdown. </p> "
      }
     },
     "9bf8196b07bd4d308d50682d51c4399f": {
      "model_module": "@jupyter-widgets/controls",
      "model_module_version": "1.5.0",
      "model_name": "ButtonStyleModel",
      "state": {}
     },
     "9e0046db5f3a4191b2916c884021948e": {
      "model_module": "@jupyter-widgets/controls",
      "model_module_version": "1.5.0",
      "model_name": "HBoxModel",
      "state": {
       "children": [
        "IPY_MODEL_70ba1a3db7ab48e19635a08948cecdff",
        "IPY_MODEL_63215c76e3a246df8e9d1f615e9b0df8"
       ],
       "layout": "IPY_MODEL_7925751a6e8444e883dffd6f7878a6bd"
      }
     },
     "9e33adf2cd244e129a1f7127dcf40807": {
      "model_module": "@jupyter-widgets/controls",
      "model_module_version": "1.5.0",
      "model_name": "HTMLModel",
      "state": {
       "layout": "IPY_MODEL_ce399b13da6647b092e9d1f135c664f0",
       "style": "IPY_MODEL_d62dc2c4cb4844a7b72dd3a1075617aa",
       "value": "<p>2023-01-20 15:24:24 PST - Run Command: sayHello( \"bob\" )</p>"
      }
     },
     "9f6bfa7388af4db9a7fa6694d7df23c9": {
      "model_module": "@jupyter-widgets/controls",
      "model_module_version": "1.5.0",
      "model_name": "HTMLModel",
      "state": {
       "layout": "IPY_MODEL_524c9457193447c68e3ca86b4da879c4",
       "style": "IPY_MODEL_cca5d9f0bafb4cecb139efbe1ed7531f",
       "value": "<p>2023-02-16 16:28:51 PST - Frame 84549364, Spike</p>"
      }
     },
     "9f6c41e94bb044159adf43beb8d87ff6": {
      "model_module": "@jupyter-widgets/controls",
      "model_module_version": "1.5.0",
      "model_name": "ButtonStyleModel",
      "state": {}
     },
     "9ffb958e2cbc44948db7125b769602a3": {
      "model_module": "@jupyter-widgets/controls",
      "model_module_version": "1.5.0",
      "model_name": "DescriptionStyleModel",
      "state": {
       "description_width": ""
      }
     },
     "a01e50b4c92846f08b88ae99e66439af": {
      "model_module": "@jupyter-widgets/controls",
      "model_module_version": "1.5.0",
      "model_name": "HTMLModel",
      "state": {
       "layout": "IPY_MODEL_3cd0f73c2e664de69026295c3fe88ca3",
       "style": "IPY_MODEL_bf48e9b48eaf41d3af6c6ee09dc3d6ee",
       "value": "<p>2023-02-16 16:28:51 PST - Max time 10 reached at 10.000006198883057</p>"
      }
     },
     "a103edfdd0764f97ace5fa674b97e7cd": {
      "model_module": "@jupyter-widgets/controls",
      "model_module_version": "1.5.0",
      "model_name": "ButtonStyleModel",
      "state": {}
     },
     "a11dd143426a42edb9d055ac7a62f236": {
      "model_module": "@jupyter-widgets/controls",
      "model_module_version": "1.5.0",
      "model_name": "HTMLModel",
      "state": {
       "layout": "IPY_MODEL_562f7947ec9f4eaea718a1530fb76b72",
       "style": "IPY_MODEL_5cbd15b6558c4d7e93722a10706863a8",
       "value": "<h3>Select Devices</h3><p>Type the name of the devices you wish to view.</p><p>Use a comma to seperate them and no spaces! Example: <code>flow_1,pic_1</code></p>"
      }
     },
     "a13545ce81fa4285a3a9dd8baae30b0c": {
      "model_module": "@jupyter-widgets/controls",
      "model_module_version": "1.5.0",
      "model_name": "HBoxModel",
      "state": {
       "children": [
        "IPY_MODEL_40638f80693c49b0afe2cb5fafcaaf4c",
        "IPY_MODEL_c74e39e1e7644880a4c2afd15e96842b",
        "IPY_MODEL_41d2c4c82fa843589554108256d24a60",
        "IPY_MODEL_2f254c2b496141a1ab1fcfb6db924e75"
       ],
       "layout": "IPY_MODEL_b1b1dc94322b45599f3b934e7c47a177"
      }
     },
     "a195091551ce47129976b5de6a97448a": {
      "model_module": "@jupyter-widgets/base",
      "model_module_version": "1.2.0",
      "model_name": "LayoutModel",
      "state": {}
     },
     "a2dc9b3c8c8f4b739f5ed108424a925e": {
      "model_module": "@jupyter-widgets/controls",
      "model_module_version": "1.5.0",
      "model_name": "DescriptionStyleModel",
      "state": {
       "description_width": ""
      }
     },
     "a3201b010ef7491da660475974f32e04": {
      "model_module": "@jupyter-widgets/controls",
      "model_module_version": "1.5.0",
      "model_name": "HTMLModel",
      "state": {
       "layout": "IPY_MODEL_b8ca55fc1f5e4994a6c640b565fac3b2",
       "style": "IPY_MODEL_5f35d395da3e4db998bdff96b402c61d",
       "value": "<h3>Select Device to Control</h3><p>Type the name of the device you wish to controle. Example: <code>flow_1</code></p>"
      }
     },
     "a3b6f3c4032045658ccd562e3ca50bed": {
      "model_module": "@jupyter-widgets/controls",
      "model_module_version": "1.5.0",
      "model_name": "DescriptionStyleModel",
      "state": {
       "description_width": ""
      }
     },
     "a415f496a7c948cb861e4d1d5afa9d89": {
      "model_module": "@jupyter-widgets/controls",
      "model_module_version": "1.5.0",
      "model_name": "DescriptionStyleModel",
      "state": {
       "description_width": ""
      }
     },
     "a4aa66c53ad449b9bb713c9c87e56800": {
      "model_module": "@jupyter-widgets/base",
      "model_module_version": "1.2.0",
      "model_name": "LayoutModel",
      "state": {}
     },
     "a532bcd8fbd9493aabadff7ebe35dd00": {
      "model_module": "@jupyter-widgets/controls",
      "model_module_version": "1.5.0",
      "model_name": "DescriptionStyleModel",
      "state": {
       "description_width": ""
      }
     },
     "a57015e46de84321a21b8be4fc73bd45": {
      "model_module": "@jupyter-widgets/controls",
      "model_module_version": "1.5.0",
      "model_name": "HBoxModel",
      "state": {
       "children": [
        "IPY_MODEL_fdc8f5c82cba470eb8b365e9580b7c91",
        "IPY_MODEL_238ad45aceec4571b4e5ad281d1f8422",
        "IPY_MODEL_2f254c2b496141a1ab1fcfb6db924e75"
       ],
       "layout": "IPY_MODEL_be2bc0881ba340b69d3153b7c868fafb"
      }
     },
     "a6ab0eb2976844e8b1ffa34b3de7d83f": {
      "model_module": "@jupyter-widgets/base",
      "model_module_version": "1.2.0",
      "model_name": "LayoutModel",
      "state": {}
     },
     "a701bb81d9db4dbbb10e6fafbea995f1": {
      "model_module": "@jupyter-widgets/controls",
      "model_module_version": "1.5.0",
      "model_name": "HTMLModel",
      "state": {
       "layout": "IPY_MODEL_9b52f641f67143aa82fcafc9b747e78f",
       "style": "IPY_MODEL_faf0163dcc47414ca217e94f22e15ff3",
       "value": "<h3>Select Device</h3><p>Type the name of the device to see it's history. Example: <code>flow_1</code></p>"
      }
     },
     "a758c0c118d34dbc8dbff3ea0068868b": {
      "model_module": "@jupyter-widgets/base",
      "model_module_version": "1.2.0",
      "model_name": "LayoutModel",
      "state": {}
     },
     "a75f70d436f54842928f22f937fb4e63": {
      "model_module": "@jupyter-widgets/controls",
      "model_module_version": "1.5.0",
      "model_name": "DescriptionStyleModel",
      "state": {
       "description_width": ""
      }
     },
     "a8209c789c99491eb7aed20ccf318b72": {
      "model_module": "@jupyter-widgets/controls",
      "model_module_version": "1.5.0",
      "model_name": "DescriptionStyleModel",
      "state": {
       "description_width": ""
      }
     },
     "a866c99ac3364091a81e41f9fa11b12c": {
      "model_module": "@jupyter-widgets/controls",
      "model_module_version": "1.5.0",
      "model_name": "HBoxModel",
      "state": {
       "children": [
        "IPY_MODEL_7542ea38656d48209e9a22ca0e0e4a7d",
        "IPY_MODEL_41a18a8dab8e4e77b3ee8926b978cb4e",
        "IPY_MODEL_9176e6ff119c41d48eb7a3e1f1926bca"
       ],
       "layout": "IPY_MODEL_55b7b64ccccd46f59625b6d0beb88d62"
      }
     },
     "a87cd2a3f26d4c6b840c3d2e6d964574": {
      "model_module": "@jupyter-widgets/controls",
      "model_module_version": "1.5.0",
      "model_name": "HTMLModel",
      "state": {
       "layout": "IPY_MODEL_098a76891bb541238907abd9ff54fc69",
       "style": "IPY_MODEL_de8bd16a4cf4442e8b5cdfd857a2e90b",
       "value": "<h3>History</h3><hr>"
      }
     },
     "a8afa9fb8de24ddb927c33d3c1f9d32d": {
      "model_module": "@jupyter-widgets/base",
      "model_module_version": "1.2.0",
      "model_name": "LayoutModel",
      "state": {}
     },
     "a921e69f91084e0a89143b5ad0240d3b": {
      "model_module": "@jupyter-widgets/base",
      "model_module_version": "1.2.0",
      "model_name": "LayoutModel",
      "state": {}
     },
     "aa812c7e82ad4359b434243031321ff1": {
      "model_module": "@jupyter-widgets/controls",
      "model_module_version": "1.5.0",
      "model_name": "HTMLModel",
      "state": {
       "layout": "IPY_MODEL_2e736f77a3cd43eb81344e5df6e9a0c1",
       "style": "IPY_MODEL_07025696fb054cf1b8f1bc66fa9a18b8",
       "value": "<h4>What do you want to do?</h4><p>You can send a new command to the device or change it's status between running, paused, and shutdown. </p> "
      }
     },
     "aadcd468029b48d6a4b36313d69cd6b4": {
      "model_module": "@jupyter-widgets/controls",
      "model_module_version": "1.5.0",
      "model_name": "DescriptionStyleModel",
      "state": {
       "description_width": ""
      }
     },
     "aaeec16113254e3dae943e7e2f6ee626": {
      "model_module": "@jupyter-widgets/base",
      "model_module_version": "1.2.0",
      "model_name": "LayoutModel",
      "state": {}
     },
     "ab860b1114ec4311b6b06c6bf962054c": {
      "model_module": "@jupyter-widgets/base",
      "model_module_version": "1.2.0",
      "model_name": "LayoutModel",
      "state": {}
     },
     "abb810c2b5d840959a6424636f59a3a5": {
      "model_module": "@jupyter-widgets/controls",
      "model_module_version": "1.5.0",
      "model_name": "DescriptionStyleModel",
      "state": {
       "description_width": ""
      }
     },
     "abd3d16e2598443cab8c576fe10cb301": {
      "model_module": "@jupyter-widgets/base",
      "model_module_version": "1.2.0",
      "model_name": "LayoutModel",
      "state": {}
     },
     "ac3960860f554f19a450b32233ee4700": {
      "model_module": "@jupyter-widgets/base",
      "model_module_version": "1.2.0",
      "model_name": "LayoutModel",
      "state": {}
     },
     "ac4e4e5ba8354b8b8e0f219be69693f5": {
      "model_module": "@jupyter-widgets/base",
      "model_module_version": "1.2.0",
      "model_name": "LayoutModel",
      "state": {
       "width": "auto"
      }
     },
     "ac98cdfc724849df90bd86ebe8ab505b": {
      "model_module": "@jupyter-widgets/controls",
      "model_module_version": "1.5.0",
      "model_name": "ButtonStyleModel",
      "state": {}
     },
     "acb6fb70bb044710a021e705070a7dce": {
      "model_module": "@jupyter-widgets/base",
      "model_module_version": "1.2.0",
      "model_name": "LayoutModel",
      "state": {
       "width": "auto"
      }
     },
     "acc94d80befe4e6e9b31e6aba11d0ff3": {
      "model_module": "@jupyter-widgets/base",
      "model_module_version": "1.2.0",
      "model_name": "LayoutModel",
      "state": {}
     },
     "acfcf283295f49e6a1834cdf2baae483": {
      "model_module": "@jupyter-widgets/base",
      "model_module_version": "1.2.0",
      "model_name": "LayoutModel",
      "state": {}
     },
     "adc7202a1fa14d9e858fce4e59e26650": {
      "model_module": "@jupyter-widgets/base",
      "model_module_version": "1.2.0",
      "model_name": "LayoutModel",
      "state": {}
     },
     "ae4703fc7152474f801942593780ccc0": {
      "model_module": "@jupyter-widgets/controls",
      "model_module_version": "1.5.0",
      "model_name": "HBoxModel",
      "state": {
       "children": [
        "IPY_MODEL_2530eaad2ff743a3b50df9610fedb136",
        "IPY_MODEL_7b90290455aa482a8522d4046b8422cf"
       ],
       "layout": "IPY_MODEL_83be569c59a64b91b84dc4919edf1f70"
      }
     },
     "ae5e90add663464b9e00384511f8109e": {
      "model_module": "@jupyter-widgets/base",
      "model_module_version": "1.2.0",
      "model_name": "LayoutModel",
      "state": {
       "width": "auto"
      }
     },
     "aed5680445134515aeb2df3578647dfb": {
      "model_module": "@jupyter-widgets/controls",
      "model_module_version": "1.5.0",
      "model_name": "HTMLModel",
      "state": {
       "layout": "IPY_MODEL_25eeddcbfd724698b6342bcda3ba96ca",
       "style": "IPY_MODEL_08caae73637e43378ef69914332992ad",
       "value": "<p>2023-01-20 15:25:56 PST - Run Command: my_count.add_one()</p>"
      }
     },
     "aefe3944dc744ae5b37ace209555438f": {
      "model_module": "@jupyter-widgets/controls",
      "model_module_version": "1.5.0",
      "model_name": "ButtonStyleModel",
      "state": {}
     },
     "af97d81f36d8454f8d5e3da153aa43fc": {
      "model_module": "@jupyter-widgets/controls",
      "model_module_version": "1.5.0",
      "model_name": "DescriptionStyleModel",
      "state": {
       "description_width": ""
      }
     },
     "aff943139704460da08a81e4837d90b7": {
      "model_module": "@jupyter-widgets/base",
      "model_module_version": "1.2.0",
      "model_name": "LayoutModel",
      "state": {}
     },
     "b0d9ab705310406897c43f1cfc2ad1d8": {
      "model_module": "@jupyter-widgets/controls",
      "model_module_version": "1.5.0",
      "model_name": "VBoxModel",
      "state": {
       "children": [
        "IPY_MODEL_c45f69ebc4724091851c6833af966ddc",
        "IPY_MODEL_5b9bd9d38bf64b95b6e7b0debb94f23c"
       ],
       "layout": "IPY_MODEL_da35d93618ac47f791b9484e779d0885"
      }
     },
     "b132a85684294ff887a9c9416cdac96f": {
      "model_module": "@jupyter-widgets/controls",
      "model_module_version": "1.5.0",
      "model_name": "ButtonStyleModel",
      "state": {}
     },
     "b15b8735ce0f4feeafa8869b43fc6289": {
      "model_module": "@jupyter-widgets/base",
      "model_module_version": "1.2.0",
      "model_name": "LayoutModel",
      "state": {}
     },
     "b18d2969d54f4cabb55aad02d23b062c": {
      "model_module": "@jupyter-widgets/controls",
      "model_module_version": "1.5.0",
      "model_name": "TextModel",
      "state": {
       "description": "Devices",
       "layout": "IPY_MODEL_6f5c93363ca04e048d6d355e619172dc",
       "style": "IPY_MODEL_6454b2d383e646dc8dd205fba7f86536"
      }
     },
     "b1b1dc94322b45599f3b934e7c47a177": {
      "model_module": "@jupyter-widgets/base",
      "model_module_version": "1.2.0",
      "model_name": "LayoutModel",
      "state": {}
     },
     "b2007810f1224d21854ae33b7fc612e3": {
      "model_module": "@jupyter-widgets/controls",
      "model_module_version": "1.5.0",
      "model_name": "ButtonStyleModel",
      "state": {}
     },
     "b2d43804e9744f04a473cf443b79ae1b": {
      "model_module": "@jupyter-widgets/base",
      "model_module_version": "1.2.0",
      "model_name": "LayoutModel",
      "state": {}
     },
     "b3036dae3e2e46149e22458660fffc93": {
      "model_module": "@jupyter-widgets/controls",
      "model_module_version": "1.5.0",
      "model_name": "ButtonModel",
      "state": {
       "button_style": "info",
       "icon": "refresh",
       "layout": "IPY_MODEL_acb6fb70bb044710a021e705070a7dce",
       "style": "IPY_MODEL_f8d099416abb42699c27d200e724099b"
      }
     },
     "b36c9b3b667249fda3a61a7cdbdc9aca": {
      "model_module": "@jupyter-widgets/base",
      "model_module_version": "1.2.0",
      "model_name": "LayoutModel",
      "state": {}
     },
     "b3d84f3bf744415187d6cf3d5def0665": {
      "model_module": "@jupyter-widgets/base",
      "model_module_version": "1.2.0",
      "model_name": "LayoutModel",
      "state": {}
     },
     "b3e96a755af741ec9fa9e1a4eeac552b": {
      "model_module": "@jupyter-widgets/controls",
      "model_module_version": "1.5.0",
      "model_name": "ButtonModel",
      "state": {
       "button_style": "info",
       "icon": "refresh",
       "layout": "IPY_MODEL_60c471a1998547ec83a1164f2d6059b4",
       "style": "IPY_MODEL_1e7f088a27794beabc7024d53e1b441c"
      }
     },
     "b435b51f36ca42b2b84280cc3a7eeac5": {
      "model_module": "@jupyter-widgets/base",
      "model_module_version": "1.2.0",
      "model_name": "LayoutModel",
      "state": {}
     },
     "b4cfe5f93ba04e14af85d62ebdcaa083": {
      "model_module": "@jupyter-widgets/controls",
      "model_module_version": "1.5.0",
      "model_name": "HTMLModel",
      "state": {
       "layout": "IPY_MODEL_21f99e0ca8ca4788b0ebdeaaf8d8aff1",
       "style": "IPY_MODEL_5b1afe67b5654869a95521826e61773a",
       "value": "<h4>Command sent to microscopy2</h4>"
      }
     },
     "b563303029424d928cc0f3936b1fe886": {
      "model_module": "@jupyter-widgets/controls",
      "model_module_version": "1.5.0",
      "model_name": "HTMLModel",
      "state": {
       "layout": "IPY_MODEL_2e60905c2e69420ca45f29071095210b",
       "style": "IPY_MODEL_8fa31a3d55794556ad75fb29d6d81066",
       "value": "<p>2023-01-20 15:24:24 PST - Run Command: sayHello( \"bob\" )</p>"
      }
     },
     "b5c5e53cec6342fcb7b6f5bc910eb173": {
      "model_module": "@jupyter-widgets/controls",
      "model_module_version": "1.5.0",
      "model_name": "ButtonStyleModel",
      "state": {}
     },
     "b5c94c0dab0e4a96b915224c6b791b64": {
      "model_module": "@jupyter-widgets/controls",
      "model_module_version": "1.5.0",
      "model_name": "ButtonStyleModel",
      "state": {}
     },
     "b782defb5e0646b5be2494ca1eabbaf7": {
      "model_module": "@jupyter-widgets/controls",
      "model_module_version": "1.5.0",
      "model_name": "DescriptionStyleModel",
      "state": {
       "description_width": ""
      }
     },
     "b7d70d3c977549b9a0fec32be7412396": {
      "model_module": "@jupyter-widgets/controls",
      "model_module_version": "1.5.0",
      "model_name": "ButtonStyleModel",
      "state": {}
     },
     "b7e3f157d9e4429da72f2e08c041842f": {
      "model_module": "@jupyter-widgets/controls",
      "model_module_version": "1.5.0",
      "model_name": "HTMLModel",
      "state": {
       "layout": "IPY_MODEL_0b11aef795894f73a4347ea5817e20b0",
       "style": "IPY_MODEL_f67cce10eaf9470abff4048e4d2c0c8d",
       "value": "<p>2023-02-16 16:28:49 PST - Frame 84460382, Spike</p>"
      }
     },
     "b7f92f8f1a84442a9f27be15d1cd5777": {
      "model_module": "@jupyter-widgets/controls",
      "model_module_version": "1.5.0",
      "model_name": "HTMLModel",
      "state": {
       "layout": "IPY_MODEL_2272bb1924264d4eaecd899dd69b34d1",
       "style": "IPY_MODEL_40822aea72f7458aa4061e426c99b550",
       "value": "<p>2023-02-16 16:28:50 PST - Frame 84494684, Spike</p>"
      }
     },
     "b8c2c36c40e2430897b043e65ad3937a": {
      "model_module": "@jupyter-widgets/controls",
      "model_module_version": "1.5.0",
      "model_name": "DescriptionStyleModel",
      "state": {
       "description_width": ""
      }
     },
     "b8ca55fc1f5e4994a6c640b565fac3b2": {
      "model_module": "@jupyter-widgets/base",
      "model_module_version": "1.2.0",
      "model_name": "LayoutModel",
      "state": {}
     },
     "b8f0a1cd721e4e1d98fa329c8aa4e173": {
      "model_module": "@jupyter-widgets/controls",
      "model_module_version": "1.5.0",
      "model_name": "VBoxModel",
      "state": {
       "children": [
        "IPY_MODEL_de2d6af30fbe4abf96eef2820a2def11",
        "IPY_MODEL_26c5acc6dcc8492b8826bf80d6381fe7"
       ],
       "layout": "IPY_MODEL_a195091551ce47129976b5de6a97448a"
      }
     },
     "ba4621bfe107478abd60a6dfee55621b": {
      "model_module": "@jupyter-widgets/base",
      "model_module_version": "1.2.0",
      "model_name": "LayoutModel",
      "state": {}
     },
     "ba544b0b98ee482988255460e002ccbf": {
      "model_module": "@jupyter-widgets/controls",
      "model_module_version": "1.5.0",
      "model_name": "DescriptionStyleModel",
      "state": {
       "description_width": ""
      }
     },
     "bb70a21782e24312bb0010f78574031c": {
      "model_module": "@jupyter-widgets/controls",
      "model_module_version": "1.5.0",
      "model_name": "HBoxModel",
      "state": {
       "children": [
        "IPY_MODEL_053fc4f0eb164c22aff19962c263dd71",
        "IPY_MODEL_2e9872b2c0eb4635940115068d453e49",
        "IPY_MODEL_c22b56187003475b930345a316b72993"
       ],
       "layout": "IPY_MODEL_76cc6711148c485fb1f46c8590c70c26"
      }
     },
     "bb8c16d595f14b2898be349cbbd58c51": {
      "model_module": "@jupyter-widgets/controls",
      "model_module_version": "1.5.0",
      "model_name": "DescriptionStyleModel",
      "state": {
       "description_width": ""
      }
     },
     "bb8d3745fde4467f94e29fc164596afa": {
      "model_module": "@jupyter-widgets/controls",
      "model_module_version": "1.5.0",
      "model_name": "DescriptionStyleModel",
      "state": {
       "description_width": ""
      }
     },
     "bb91b93daf214a108226473c55b4d00e": {
      "model_module": "@jupyter-widgets/controls",
      "model_module_version": "1.5.0",
      "model_name": "ButtonStyleModel",
      "state": {}
     },
     "bbf59a422c6a4bd5bd99d82c59e368aa": {
      "model_module": "@jupyter-widgets/controls",
      "model_module_version": "1.5.0",
      "model_name": "DescriptionStyleModel",
      "state": {
       "description_width": ""
      }
     },
     "bc819ba66996422e8d864ff212be6552": {
      "model_module": "@jupyter-widgets/controls",
      "model_module_version": "1.5.0",
      "model_name": "HTMLModel",
      "state": {
       "layout": "IPY_MODEL_3e4c177d0a9449cbb47df8d37c61684d",
       "style": "IPY_MODEL_ea170166b26840ba86fbb0264b15bab6",
       "value": "<h3>Select Devices</h3><p>Type the name of the devices you wish to view.</p><p>Use a comma to seperate them and no spaces! Example: <code>flow_1,pic_1</code></p>"
      }
     },
     "bd07800991e4461fa6615b8703ee4f41": {
      "model_module": "@jupyter-widgets/controls",
      "model_module_version": "1.5.0",
      "model_name": "HTMLModel",
      "state": {
       "layout": "IPY_MODEL_a758c0c118d34dbc8dbff3ea0068868b",
       "style": "IPY_MODEL_97e04da2344644d696953f652cf401fd",
       "value": "<h4>What do you want to do?</h4><p>You can send a new command to the device or change it's status between running, paused, and shutdown. </p> "
      }
     },
     "bd37fe7c9bc84a1aaa18ef8380b042fd": {
      "model_module": "@jupyter-widgets/base",
      "model_module_version": "1.2.0",
      "model_name": "LayoutModel",
      "state": {}
     },
     "bd81ef2dbb1d4f708a7e6e7265a4fc6d": {
      "model_module": "@jupyter-widgets/controls",
      "model_module_version": "1.5.0",
      "model_name": "DescriptionStyleModel",
      "state": {
       "description_width": ""
      }
     },
     "be25d03c012c42f4a9607e6dd7786483": {
      "model_module": "@jupyter-widgets/controls",
      "model_module_version": "1.5.0",
      "model_name": "HTMLModel",
      "state": {
       "layout": "IPY_MODEL_86f63f84e36e4e87ba14d03f4b303686",
       "style": "IPY_MODEL_bd81ef2dbb1d4f708a7e6e7265a4fc6d",
       "value": "<p>2023-02-16 16:28:49 PST - Frame 84470205, Spike</p>"
      }
     },
     "be2bc0881ba340b69d3153b7c868fafb": {
      "model_module": "@jupyter-widgets/base",
      "model_module_version": "1.2.0",
      "model_name": "LayoutModel",
      "state": {}
     },
     "be42387bdb3a4888bfc352e855cd9fe6": {
      "model_module": "@jupyter-widgets/controls",
      "model_module_version": "1.5.0",
      "model_name": "HBoxModel",
      "state": {
       "children": [
        "IPY_MODEL_61dc8992288d4e8fbf3ebc4c09dd09ef",
        "IPY_MODEL_02ef8c67e970469fbcecc347aed85df9"
       ],
       "layout": "IPY_MODEL_f7d6161c1faa45e1ae56babd86d197e6"
      }
     },
     "bed8db3afb9c42968adb6d89d2868818": {
      "model_module": "@jupyter-widgets/base",
      "model_module_version": "1.2.0",
      "model_name": "LayoutModel",
      "state": {}
     },
     "bf48e9b48eaf41d3af6c6ee09dc3d6ee": {
      "model_module": "@jupyter-widgets/controls",
      "model_module_version": "1.5.0",
      "model_name": "DescriptionStyleModel",
      "state": {
       "description_width": ""
      }
     },
     "bf68471ad9aa4a028b851f66f187aeef": {
      "model_module": "@jupyter-widgets/base",
      "model_module_version": "1.2.0",
      "model_name": "LayoutModel",
      "state": {}
     },
     "bf70b76507904237ad7bb6c063fe669d": {
      "model_module": "@jupyter-widgets/controls",
      "model_module_version": "1.5.0",
      "model_name": "ButtonModel",
      "state": {
       "button_style": "success",
       "description": "Draw",
       "layout": "IPY_MODEL_fa936254a37f4e8fba6203147d04cd97",
       "style": "IPY_MODEL_d951370c34eb45b5b1d978ce91093c40"
      }
     },
     "bf9240c9f7f940468048f093e6dc33d8": {
      "model_module": "@jupyter-widgets/controls",
      "model_module_version": "1.5.0",
      "model_name": "DescriptionStyleModel",
      "state": {
       "description_width": ""
      }
     },
     "bfaf67f66da541a08e99e0eb7eee018a": {
      "model_module": "@jupyter-widgets/base",
      "model_module_version": "1.2.0",
      "model_name": "LayoutModel",
      "state": {}
     },
     "bfb9da8f6bc9475f9970df69dcc0b64a": {
      "model_module": "@jupyter-widgets/base",
      "model_module_version": "1.2.0",
      "model_name": "LayoutModel",
      "state": {}
     },
     "c00bdb27dbc04e038f8c3e6d1e5327ed": {
      "model_module": "@jupyter-widgets/base",
      "model_module_version": "1.2.0",
      "model_name": "LayoutModel",
      "state": {}
     },
     "c06a6bb9315744e78db05465e54b0aa6": {
      "model_module": "@jupyter-widgets/controls",
      "model_module_version": "1.5.0",
      "model_name": "HTMLModel",
      "state": {
       "layout": "IPY_MODEL_5420556cf3744532b30890d63b004d42",
       "style": "IPY_MODEL_4ae21613e6be455fb15220cc8b94786e",
       "value": "<p>2023-02-16 16:28:50 PST - Frame 84505979, Spike</p>"
      }
     },
     "c178a4b4f2ad44e0a61af38b6a6ab097": {
      "model_module": "@jupyter-widgets/base",
      "model_module_version": "1.2.0",
      "model_name": "LayoutModel",
      "state": {
       "width": "auto"
      }
     },
     "c22b56187003475b930345a316b72993": {
      "model_module": "@jupyter-widgets/controls",
      "model_module_version": "1.5.0",
      "model_name": "ButtonModel",
      "state": {
       "button_style": "info",
       "icon": "refresh",
       "layout": "IPY_MODEL_9b6acaebde624218bbdd986113ef3ab7",
       "style": "IPY_MODEL_ac98cdfc724849df90bd86ebe8ab505b"
      }
     },
     "c3496735f8c044c397724a70038789af": {
      "model_module": "@jupyter-widgets/controls",
      "model_module_version": "1.5.0",
      "model_name": "TextModel",
      "state": {
       "description": "Device",
       "layout": "IPY_MODEL_f69f88fe400e42089e90a799a1f2d162",
       "style": "IPY_MODEL_d25ca90939254027a956d2370636b2ae",
       "value": "microscopy2"
      }
     },
     "c3cac43c197444968addd578e22e4b02": {
      "model_module": "@jupyter-widgets/base",
      "model_module_version": "1.2.0",
      "model_name": "LayoutModel",
      "state": {}
     },
     "c3cf9c75a3384210995e7da434b8a54c": {
      "model_module": "@jupyter-widgets/controls",
      "model_module_version": "1.5.0",
      "model_name": "TextModel",
      "state": {
       "description": "Command",
       "layout": "IPY_MODEL_54651242a4814128a10f15257aa178ff",
       "style": "IPY_MODEL_cf6691bc9146454ebf8bb6e5b4da4c06"
      }
     },
     "c409a6c83071417885ca98d90223d8f1": {
      "model_module": "@jupyter-widgets/base",
      "model_module_version": "1.2.0",
      "model_name": "LayoutModel",
      "state": {}
     },
     "c45f69ebc4724091851c6833af966ddc": {
      "model_module": "@jupyter-widgets/controls",
      "model_module_version": "1.5.0",
      "model_name": "HTMLModel",
      "state": {
       "layout": "IPY_MODEL_adc7202a1fa14d9e858fce4e59e26650",
       "style": "IPY_MODEL_0b8c53e9c6e142b1b1225730c3def8f9",
       "value": "<h3>Select Device</h3><p>Type the name of the device to see it's history. Example: <code>flow_1</code></p>"
      }
     },
     "c46a79ce647a4a0abd55a147bf0715c1": {
      "model_module": "@jupyter-widgets/controls",
      "model_module_version": "1.5.0",
      "model_name": "HTMLModel",
      "state": {
       "layout": "IPY_MODEL_acfcf283295f49e6a1834cdf2baae483",
       "style": "IPY_MODEL_605b1ecd935842cfa1872dcc59509167",
       "value": "<p>2023-02-16 16:28:48 PST - Frame 84448772, Spike</p>"
      }
     },
     "c4781176752a46389f6a40e73fb16768": {
      "model_module": "@jupyter-widgets/controls",
      "model_module_version": "1.5.0",
      "model_name": "DescriptionStyleModel",
      "state": {
       "description_width": ""
      }
     },
     "c55882cb6b614fa9baf06f9347ba5011": {
      "model_module": "@jupyter-widgets/controls",
      "model_module_version": "1.5.0",
      "model_name": "HTMLModel",
      "state": {
       "layout": "IPY_MODEL_6ff5734f915942a286cd4aecd8e63b40",
       "style": "IPY_MODEL_f417e581425c4390a1f334eddbb3e3d3",
       "value": "<p>2023-02-16 16:28:50 PST - Frame 84504655, Spike</p>"
      }
     },
     "c56ebeaedf1c4f2c80ad69bae08a1f50": {
      "model_module": "@jupyter-widgets/controls",
      "model_module_version": "1.5.0",
      "model_name": "ButtonModel",
      "state": {
       "button_style": "warning",
       "description": "Pause",
       "layout": "IPY_MODEL_97c77607051b42bfb565dbee5f710095",
       "style": "IPY_MODEL_629bba25b186424b8e29862ca2d69cd2"
      }
     },
     "c5a4beb4cc0e45b2b94628ba8d99b87e": {
      "model_module": "@jupyter-widgets/base",
      "model_module_version": "1.2.0",
      "model_name": "LayoutModel",
      "state": {}
     },
     "c602ceb3326148e68ad08f09a4f636ec": {
      "model_module": "@jupyter-widgets/base",
      "model_module_version": "1.2.0",
      "model_name": "LayoutModel",
      "state": {}
     },
     "c6a0e266a9ef46098946fb9191f37f18": {
      "model_module": "@jupyter-widgets/controls",
      "model_module_version": "1.5.0",
      "model_name": "DescriptionStyleModel",
      "state": {
       "description_width": ""
      }
     },
     "c6a45896d5854c28b43a7a3b00eab81d": {
      "model_module": "@jupyter-widgets/controls",
      "model_module_version": "1.5.0",
      "model_name": "HTMLModel",
      "state": {
       "layout": "IPY_MODEL_3be2d4586c3a4fb79bb3684450cb5cc5",
       "style": "IPY_MODEL_e67ded9e3da24af5ad5390a3f13f7b05",
       "value": "<p>2023-01-20 15:24:24 PST - Run Command: sayHello( \"bob\" )</p>"
      }
     },
     "c6d32dd9a468406fb2a27fcc3031bb68": {
      "model_module": "@jupyter-widgets/controls",
      "model_module_version": "1.5.0",
      "model_name": "HBoxModel",
      "state": {
       "children": [
        "IPY_MODEL_8d7798dff14b4eae819336198157a3c9",
        "IPY_MODEL_7022dae4e6ec4c72b80602d65c39934a",
        "IPY_MODEL_2f254c2b496141a1ab1fcfb6db924e75"
       ],
       "layout": "IPY_MODEL_c602ceb3326148e68ad08f09a4f636ec"
      }
     },
     "c7251bbf6da2410ba204a35d3e31b98c": {
      "model_module": "@jupyter-widgets/base",
      "model_module_version": "1.2.0",
      "model_name": "LayoutModel",
      "state": {
       "margin": "2px 20px 0 0"
      }
     },
     "c74e39e1e7644880a4c2afd15e96842b": {
      "model_module": "@jupyter-widgets/controls",
      "model_module_version": "1.5.0",
      "model_name": "ButtonModel",
      "state": {
       "button_style": "warning",
       "description": "Pause",
       "layout": "IPY_MODEL_7dc82342d5f74698a8cf7903c50a944c",
       "style": "IPY_MODEL_f29926fb63eb4afeb97e3511cdc23e01"
      }
     },
     "c7dbc933c57d482f804317d894ee9404": {
      "model_module": "@jupyter-widgets/controls",
      "model_module_version": "1.5.0",
      "model_name": "ButtonStyleModel",
      "state": {}
     },
     "c908bf00254340df89c63c5ce2ae8551": {
      "model_module": "@jupyter-widgets/base",
      "model_module_version": "1.2.0",
      "model_name": "LayoutModel",
      "state": {}
     },
     "c927e5fd3a794345a8e8c4cbb1785967": {
      "model_module": "@jupyter-widgets/controls",
      "model_module_version": "1.5.0",
      "model_name": "HTMLModel",
      "state": {
       "layout": "IPY_MODEL_06935d651bb44613aebb0cb26cb418cf",
       "style": "IPY_MODEL_2babf1dd512441f0952e29a8f8587195",
       "value": "<h4>Command sent to microscopy2</h4>"
      }
     },
     "cb129d92ce0f47f4b8f3a2edbeb460bb": {
      "model_module": "@jupyter-widgets/controls",
      "model_module_version": "1.5.0",
      "model_name": "VBoxModel",
      "state": {
       "children": [
        "IPY_MODEL_a11dd143426a42edb9d055ac7a62f236",
        "IPY_MODEL_249ac6fcb77945a89909c08ccd1d1e7b"
       ],
       "layout": "IPY_MODEL_4069ab79c3a44c4fab03c96deeb8bcd6"
      }
     },
     "cb3ca5e464a84fcb827e79294ac9a619": {
      "model_module": "@jupyter-widgets/controls",
      "model_module_version": "1.5.0",
      "model_name": "DescriptionStyleModel",
      "state": {
       "description_width": ""
      }
     },
     "cb5540d2dceb474ea6be47717518d16e": {
      "model_module": "@jupyter-widgets/base",
      "model_module_version": "1.2.0",
      "model_name": "LayoutModel",
      "state": {}
     },
     "cb740031365a441c902cfe789fa2c111": {
      "model_module": "@jupyter-widgets/controls",
      "model_module_version": "1.5.0",
      "model_name": "ButtonModel",
      "state": {
       "button_style": "info",
       "icon": "refresh",
       "layout": "IPY_MODEL_099d0687698547b685b02a4cacc9a010",
       "style": "IPY_MODEL_c7dbc933c57d482f804317d894ee9404"
      }
     },
     "cbbdc244c3434642b534c78c619ccc54": {
      "model_module": "@jupyter-widgets/controls",
      "model_module_version": "1.5.0",
      "model_name": "DescriptionStyleModel",
      "state": {
       "description_width": ""
      }
     },
     "cca5d9f0bafb4cecb139efbe1ed7531f": {
      "model_module": "@jupyter-widgets/controls",
      "model_module_version": "1.5.0",
      "model_name": "DescriptionStyleModel",
      "state": {
       "description_width": ""
      }
     },
     "ce399b13da6647b092e9d1f135c664f0": {
      "model_module": "@jupyter-widgets/base",
      "model_module_version": "1.2.0",
      "model_name": "LayoutModel",
      "state": {}
     },
     "ce80e48b0a674ecd8520a7cc135a85f7": {
      "model_module": "@jupyter-widgets/controls",
      "model_module_version": "1.5.0",
      "model_name": "HTMLModel",
      "state": {
       "layout": "IPY_MODEL_d95ecc655465429ca26b9fd75e040afd",
       "style": "IPY_MODEL_bf9240c9f7f940468048f093e6dc33d8",
       "value": "<p>2023-02-16 16:28:49 PST - Frame 84477877, Spike</p>"
      }
     },
     "cf1a3c5987ae4c73ae2cd758980bde65": {
      "model_module": "@jupyter-widgets/controls",
      "model_module_version": "1.5.0",
      "model_name": "DescriptionStyleModel",
      "state": {
       "description_width": ""
      }
     },
     "cf6691bc9146454ebf8bb6e5b4da4c06": {
      "model_module": "@jupyter-widgets/controls",
      "model_module_version": "1.5.0",
      "model_name": "DescriptionStyleModel",
      "state": {
       "description_width": ""
      }
     },
     "d0103021871844ce81e8ddfd9fb94ff1": {
      "model_module": "@jupyter-widgets/base",
      "model_module_version": "1.2.0",
      "model_name": "LayoutModel",
      "state": {}
     },
     "d0223500802c45088aaafa29e116398e": {
      "model_module": "@jupyter-widgets/controls",
      "model_module_version": "1.5.0",
      "model_name": "TextModel",
      "state": {
       "description": "Device",
       "layout": "IPY_MODEL_27b8b54355db40bca5108316f40f926b",
       "style": "IPY_MODEL_a75f70d436f54842928f22f937fb4e63"
      }
     },
     "d02e2292e178440d89006e3c4efce02f": {
      "model_module": "@jupyter-widgets/controls",
      "model_module_version": "1.5.0",
      "model_name": "HTMLModel",
      "state": {
       "layout": "IPY_MODEL_6ff4ffaa7ea1480b8d707f8fcd31b802",
       "style": "IPY_MODEL_81c0913a76ff4b068119f4da7df7b549",
       "value": "<h3>History</h3><hr>"
      }
     },
     "d04e14b67dfc4da79c8e216f510fbae9": {
      "model_module": "@jupyter-widgets/base",
      "model_module_version": "1.2.0",
      "model_name": "LayoutModel",
      "state": {}
     },
     "d0cc86738996453a9b7eff6646479170": {
      "model_module": "@jupyter-widgets/controls",
      "model_module_version": "1.5.0",
      "model_name": "HTMLModel",
      "state": {
       "layout": "IPY_MODEL_b36c9b3b667249fda3a61a7cdbdc9aca",
       "style": "IPY_MODEL_60168400cf5a487cbb0379d4b241b5ba",
       "value": "<p>2023-02-16 16:28:49 PST - Frame 84477414, Spike</p>"
      }
     },
     "d25ca90939254027a956d2370636b2ae": {
      "model_module": "@jupyter-widgets/controls",
      "model_module_version": "1.5.0",
      "model_name": "DescriptionStyleModel",
      "state": {
       "description_width": ""
      }
     },
     "d351dd4dd5a5453d88ea999bb5722654": {
      "model_module": "@jupyter-widgets/base",
      "model_module_version": "1.2.0",
      "model_name": "LayoutModel",
      "state": {
       "width": "auto"
      }
     },
     "d404e328094441798349a4639c03b8d2": {
      "model_module": "@jupyter-widgets/base",
      "model_module_version": "1.2.0",
      "model_name": "LayoutModel",
      "state": {
       "width": "auto"
      }
     },
     "d48c99d24a4f44efb09427d8b6b7f7d0": {
      "model_module": "@jupyter-widgets/base",
      "model_module_version": "1.2.0",
      "model_name": "LayoutModel",
      "state": {
       "width": "auto"
      }
     },
     "d62dc2c4cb4844a7b72dd3a1075617aa": {
      "model_module": "@jupyter-widgets/controls",
      "model_module_version": "1.5.0",
      "model_name": "DescriptionStyleModel",
      "state": {
       "description_width": ""
      }
     },
     "d7ef24685935490291d94f27cb26085e": {
      "model_module": "@jupyter-widgets/controls",
      "model_module_version": "1.5.0",
      "model_name": "DescriptionStyleModel",
      "state": {
       "description_width": ""
      }
     },
     "d9192898e33c4a8e8b689a59acbe356a": {
      "model_module": "@jupyter-widgets/controls",
      "model_module_version": "1.5.0",
      "model_name": "ButtonModel",
      "state": {
       "button_style": "success",
       "description": "Draw",
       "layout": "IPY_MODEL_ac4e4e5ba8354b8b8e0f219be69693f5",
       "style": "IPY_MODEL_e9331b180fdf4e6bbe1b8953b8bf9dad"
      }
     },
     "d94f26c7160e447cb157810296d5edce": {
      "model_module": "@jupyter-widgets/controls",
      "model_module_version": "1.5.0",
      "model_name": "HTMLModel",
      "state": {
       "layout": "IPY_MODEL_52640c960e7b46f9a51dbacc7c3e550a",
       "style": "IPY_MODEL_10a6d3552f7f4abe869f9bab60b3149b",
       "value": "<p>2023-01-20 15:26:37 PST - 1</p>"
      }
     },
     "d951370c34eb45b5b1d978ce91093c40": {
      "model_module": "@jupyter-widgets/controls",
      "model_module_version": "1.5.0",
      "model_name": "ButtonStyleModel",
      "state": {}
     },
     "d95ecc655465429ca26b9fd75e040afd": {
      "model_module": "@jupyter-widgets/base",
      "model_module_version": "1.2.0",
      "model_name": "LayoutModel",
      "state": {}
     },
     "d96e6b2103f540fcaa03b450c19b0523": {
      "model_module": "@jupyter-widgets/base",
      "model_module_version": "1.2.0",
      "model_name": "LayoutModel",
      "state": {}
     },
     "da35d93618ac47f791b9484e779d0885": {
      "model_module": "@jupyter-widgets/base",
      "model_module_version": "1.2.0",
      "model_name": "LayoutModel",
      "state": {}
     },
     "da6ab65b5b654a138ac55ea7811bd39f": {
      "model_module": "@jupyter-widgets/controls",
      "model_module_version": "1.5.0",
      "model_name": "DescriptionStyleModel",
      "state": {
       "description_width": ""
      }
     },
     "da6b09de999c4e429f092efc8e58a934": {
      "model_module": "@jupyter-widgets/controls",
      "model_module_version": "1.5.0",
      "model_name": "DescriptionStyleModel",
      "state": {
       "description_width": ""
      }
     },
     "daabfdd39c944aa39a3bdd6029ae5e95": {
      "model_module": "@jupyter-widgets/controls",
      "model_module_version": "1.5.0",
      "model_name": "ButtonModel",
      "state": {
       "button_style": "success",
       "description": "Run",
       "layout": "IPY_MODEL_349042c45d594f0d8a83da51788fbd88",
       "style": "IPY_MODEL_0ae029a62da741c0bca1a66872cd2105"
      }
     },
     "dc0ca0417fcb4b0a8cc82159e06ccf2f": {
      "model_module": "@jupyter-widgets/controls",
      "model_module_version": "1.5.0",
      "model_name": "ButtonModel",
      "state": {
       "button_style": "success",
       "description": "Select",
       "layout": "IPY_MODEL_6b6ec92ae48e4b4fb922ce7fd4e2529f",
       "style": "IPY_MODEL_f54294bf0e2d48d99e77ca46365503fe"
      }
     },
     "dc1016a34bb34af49e663967b5a2e904": {
      "model_module": "@jupyter-widgets/controls",
      "model_module_version": "1.5.0",
      "model_name": "HTMLModel",
      "state": {
       "layout": "IPY_MODEL_ac3960860f554f19a450b32233ee4700",
       "style": "IPY_MODEL_9ffb958e2cbc44948db7125b769602a3",
       "value": "<h3>History</h3><hr>"
      }
     },
     "dc69ad2ed87042f49cddcebce5dce193": {
      "model_module": "@jupyter-widgets/base",
      "model_module_version": "1.2.0",
      "model_name": "LayoutModel",
      "state": {}
     },
     "dd6bca0085284f20bc307ef80b7e2837": {
      "model_module": "@jupyter-widgets/controls",
      "model_module_version": "1.5.0",
      "model_name": "HTMLModel",
      "state": {
       "layout": "IPY_MODEL_bfb9da8f6bc9475f9970df69dcc0b64a",
       "style": "IPY_MODEL_de33824185294c85a4f7ceaf8956d3f4",
       "value": "<p>2023-02-16 16:28:49 PST - Frame 84471076, Spike</p>"
      }
     },
     "ddba541a8be348748a3d341a7d87f710": {
      "model_module": "@jupyter-widgets/base",
      "model_module_version": "1.2.0",
      "model_name": "LayoutModel",
      "state": {
       "margin": "2px 20px 0 0",
       "width": "auto"
      }
     },
     "de2d6af30fbe4abf96eef2820a2def11": {
      "model_module": "@jupyter-widgets/controls",
      "model_module_version": "1.5.0",
      "model_name": "HTMLModel",
      "state": {
       "layout": "IPY_MODEL_61d95797e08643d79e5f0b24c50cf755",
       "style": "IPY_MODEL_13c54ee811714e749a762d46f13942e8",
       "value": "<h3>Select Device to Control</h3><p>Type the name of the device you wish to controle. Example: <code>flow_1</code></p>"
      }
     },
     "de33824185294c85a4f7ceaf8956d3f4": {
      "model_module": "@jupyter-widgets/controls",
      "model_module_version": "1.5.0",
      "model_name": "DescriptionStyleModel",
      "state": {
       "description_width": ""
      }
     },
     "de8bd16a4cf4442e8b5cdfd857a2e90b": {
      "model_module": "@jupyter-widgets/controls",
      "model_module_version": "1.5.0",
      "model_name": "DescriptionStyleModel",
      "state": {
       "description_width": ""
      }
     },
     "def5d9907af04374ab2c1626bf714abe": {
      "model_module": "@jupyter-widgets/controls",
      "model_module_version": "1.5.0",
      "model_name": "VBoxModel",
      "state": {
       "children": [
        "IPY_MODEL_bc819ba66996422e8d864ff212be6552",
        "IPY_MODEL_7b303bec2fae4d3e84655ea3b8885ec9"
       ],
       "layout": "IPY_MODEL_94644db6c7584ee1b370aa36e3390fde"
      }
     },
     "dfe8b02b5d594980ba3a4ff0863fd237": {
      "model_module": "@jupyter-widgets/base",
      "model_module_version": "1.2.0",
      "model_name": "LayoutModel",
      "state": {}
     },
     "dff2772524ed4e5d86198f1819cf1731": {
      "model_module": "@jupyter-widgets/controls",
      "model_module_version": "1.5.0",
      "model_name": "ButtonStyleModel",
      "state": {}
     },
     "e0239440d2ab48daa410f32545325103": {
      "model_module": "@jupyter-widgets/controls",
      "model_module_version": "1.5.0",
      "model_name": "HTMLModel",
      "state": {
       "layout": "IPY_MODEL_25475fd273df45af9ffd3d7ec7896e1b",
       "style": "IPY_MODEL_1c0fd5b672334dfdbbc4f3311a9aa067",
       "value": "<p>2023-02-16 16:28:49 PST - Frame 84476168, Spike</p>"
      }
     },
     "e036967f2f134377b194537c596322d4": {
      "model_module": "@jupyter-widgets/controls",
      "model_module_version": "1.5.0",
      "model_name": "ButtonStyleModel",
      "state": {}
     },
     "e06d874eb07e425bb56e96a6905aa68d": {
      "model_module": "@jupyter-widgets/controls",
      "model_module_version": "1.5.0",
      "model_name": "DescriptionStyleModel",
      "state": {
       "description_width": ""
      }
     },
     "e1485880be524b08b745885d7ae1f29a": {
      "model_module": "@jupyter-widgets/base",
      "model_module_version": "1.2.0",
      "model_name": "LayoutModel",
      "state": {
       "margin": "2px 20px 0 0"
      }
     },
     "e19d4867ccaf4b45a49d9e9c5a11a2c6": {
      "model_module": "@jupyter-widgets/base",
      "model_module_version": "1.2.0",
      "model_name": "LayoutModel",
      "state": {}
     },
     "e23269d5af3d4f719dd97d9f119e668d": {
      "model_module": "@jupyter-widgets/controls",
      "model_module_version": "1.5.0",
      "model_name": "HTMLModel",
      "state": {
       "layout": "IPY_MODEL_a6ab0eb2976844e8b1ffa34b3de7d83f",
       "style": "IPY_MODEL_cb3ca5e464a84fcb827e79294ac9a619",
       "value": "<p>2023-02-16 16:28:50 PST - Frame 84527003, Spike</p>"
      }
     },
     "e361b235b4f34673ae93990424c8fb37": {
      "model_module": "@jupyter-widgets/controls",
      "model_module_version": "1.5.0",
      "model_name": "HTMLModel",
      "state": {
       "layout": "IPY_MODEL_088c0cd4b4194b6dafafab995e544f11",
       "style": "IPY_MODEL_180771b3ff15453c90133ace613b1053",
       "value": "<p>2023-01-20 15:26:37 PST - Run Command: print(my_count.count)</p>"
      }
     },
     "e39d4aff9bcb4bfebff5ba512ebfbdf8": {
      "model_module": "@jupyter-widgets/controls",
      "model_module_version": "1.5.0",
      "model_name": "VBoxModel",
      "state": {
       "children": [
        "IPY_MODEL_f14a2016f8974076a51d1d5d8d72b622",
        "IPY_MODEL_be42387bdb3a4888bfc352e855cd9fe6"
       ],
       "layout": "IPY_MODEL_846a3a60c4874138ac9a382a4fca04b2"
      }
     },
     "e50d8abed8604de982eae89a9b494e17": {
      "model_module": "@jupyter-widgets/base",
      "model_module_version": "1.2.0",
      "model_name": "LayoutModel",
      "state": {}
     },
     "e55b1adb46c543408fad529e7855d09e": {
      "model_module": "@jupyter-widgets/controls",
      "model_module_version": "1.5.0",
      "model_name": "HBoxModel",
      "state": {
       "children": [
        "IPY_MODEL_f77cdc2ce98c40d992f7d79657daa6a1",
        "IPY_MODEL_f6b1f286db9d427a9b60b7e3451b3eff",
        "IPY_MODEL_066fd35cfe4c493e9c0ed879a4ebc915"
       ],
       "layout": "IPY_MODEL_4f6bcaf11c59423b9bdab33cd652763a"
      }
     },
     "e565adb935c5449fbe7f4443acbc8964": {
      "model_module": "@jupyter-widgets/controls",
      "model_module_version": "1.5.0",
      "model_name": "VBoxModel",
      "state": {
       "children": [
        "IPY_MODEL_31b47ee441124cb595b5b61d03a47288",
        "IPY_MODEL_ae4703fc7152474f801942593780ccc0"
       ],
       "layout": "IPY_MODEL_6e01800dd3eb49c58ede465883462a4d"
      }
     },
     "e5fef362ffb846f98ed939fe31f1b989": {
      "model_module": "@jupyter-widgets/controls",
      "model_module_version": "1.5.0",
      "model_name": "ButtonStyleModel",
      "state": {}
     },
     "e66a1ef06c0c4ffdb3d0ea479740e9e5": {
      "model_module": "@jupyter-widgets/controls",
      "model_module_version": "1.5.0",
      "model_name": "HTMLModel",
      "state": {
       "layout": "IPY_MODEL_62cd566e44334635bf8e765ad5fc4989",
       "style": "IPY_MODEL_a8209c789c99491eb7aed20ccf318b72",
       "value": "<h4>Command sent to ash_test</h4>"
      }
     },
     "e67ded9e3da24af5ad5390a3f13f7b05": {
      "model_module": "@jupyter-widgets/controls",
      "model_module_version": "1.5.0",
      "model_name": "DescriptionStyleModel",
      "state": {
       "description_width": ""
      }
     },
     "e705b694e63848ba9087849fdb6298e4": {
      "model_module": "@jupyter-widgets/controls",
      "model_module_version": "1.5.0",
      "model_name": "HTMLModel",
      "state": {
       "layout": "IPY_MODEL_02be2e7f1ce948038a7c1fe45e56a9a4",
       "style": "IPY_MODEL_930a30e3c3b545f1ba4a460ae59ee803",
       "value": "<h4>Current microscopy2 status: <font color='green'>run</font> </h4><p>User the buttons below to change the status</p>"
      }
     },
     "e7087fd5b56745dbb340b151d18f197e": {
      "model_module": "@jupyter-widgets/controls",
      "model_module_version": "1.5.0",
      "model_name": "DescriptionStyleModel",
      "state": {
       "description_width": ""
      }
     },
     "e8770eb471f6441eb4656377ae431a4a": {
      "model_module": "@jupyter-widgets/controls",
      "model_module_version": "1.5.0",
      "model_name": "ButtonStyleModel",
      "state": {}
     },
     "e9331b180fdf4e6bbe1b8953b8bf9dad": {
      "model_module": "@jupyter-widgets/controls",
      "model_module_version": "1.5.0",
      "model_name": "ButtonStyleModel",
      "state": {}
     },
     "e9978185fa5c4b3f9193cabcf177ef60": {
      "model_module": "@jupyter-widgets/controls",
      "model_module_version": "1.5.0",
      "model_name": "HTMLModel",
      "state": {
       "layout": "IPY_MODEL_7adb86442034421baa140a9af664b8f8",
       "style": "IPY_MODEL_af97d81f36d8454f8d5e3da153aa43fc",
       "value": "<h3>Select Device to Control</h3><p>Type the name of the device you wish to controle. Example: <code>flow_1</code></p>"
      }
     },
     "e9a0f313f9e94954b5b95f8abe13c895": {
      "model_module": "@jupyter-widgets/base",
      "model_module_version": "1.2.0",
      "model_name": "LayoutModel",
      "state": {}
     },
     "e9fbd02cae09441cae44c0dc02376b56": {
      "model_module": "@jupyter-widgets/base",
      "model_module_version": "1.2.0",
      "model_name": "LayoutModel",
      "state": {}
     },
     "ea170166b26840ba86fbb0264b15bab6": {
      "model_module": "@jupyter-widgets/controls",
      "model_module_version": "1.5.0",
      "model_name": "DescriptionStyleModel",
      "state": {
       "description_width": ""
      }
     },
     "ea4ba2d804464c48bfff624a9f0937d4": {
      "model_module": "@jupyter-widgets/controls",
      "model_module_version": "1.5.0",
      "model_name": "HTMLModel",
      "state": {
       "layout": "IPY_MODEL_37715f62714a44e99e464e2b898edc0c",
       "style": "IPY_MODEL_8d51ae438fb64224aad3a261c6b11ec8",
       "value": "<p>2023-01-20 15:26:37 PST - Run Command: print(my_count.count)</p>"
      }
     },
     "ea60033f2c1b4d5daf7431d5277aa5c1": {
      "model_module": "@jupyter-widgets/controls",
      "model_module_version": "1.5.0",
      "model_name": "DescriptionStyleModel",
      "state": {
       "description_width": ""
      }
     },
     "ead5b78c3cb84ffaa832ed94c6b56a03": {
      "model_module": "@jupyter-widgets/base",
      "model_module_version": "1.2.0",
      "model_name": "LayoutModel",
      "state": {}
     },
     "eb16d0b205664d8abc24b214afe86ccf": {
      "model_module": "@jupyter-widgets/controls",
      "model_module_version": "1.5.0",
      "model_name": "HTMLModel",
      "state": {
       "layout": "IPY_MODEL_abd3d16e2598443cab8c576fe10cb301",
       "style": "IPY_MODEL_fa2879822ce64126aa28250338a1362e",
       "value": "<h3>Enter Command</h3><p>Type your device command below. It will be sent to <b>microscopy2</b>. To schedule commands, check out <a href='https://schedule.readthedocs.io/en/stable/examples.html' target='_blank'>this reference</a></p>"
      }
     },
     "eb31f44bd61447c68ef4b1cfef547520": {
      "model_module": "@jupyter-widgets/controls",
      "model_module_version": "1.5.0",
      "model_name": "HTMLModel",
      "state": {
       "layout": "IPY_MODEL_13bb82569347457ca6e048433cafe098",
       "style": "IPY_MODEL_601b51d853f44c498e1b1b3a27b8e3f5",
       "value": "<p>2023-01-20 15:30:01 PST - Run Command: schedule.every().hour.do(sayHello, name='Alice')</p>"
      }
     },
     "eb3e8a5df6d4426dbcef251241c92d94": {
      "model_module": "@jupyter-widgets/controls",
      "model_module_version": "1.5.0",
      "model_name": "DescriptionStyleModel",
      "state": {
       "description_width": ""
      }
     },
     "eb9c1eb802bf4e73ba607196e5f4d875": {
      "model_module": "@jupyter-widgets/controls",
      "model_module_version": "1.5.0",
      "model_name": "ButtonStyleModel",
      "state": {}
     },
     "ebb1defe80bf47c7a5c398aa26855404": {
      "model_module": "@jupyter-widgets/controls",
      "model_module_version": "1.5.0",
      "model_name": "ButtonModel",
      "state": {
       "button_style": "danger",
       "description": "Shutdown",
       "layout": "IPY_MODEL_549dd905864340dfa287433278e61aa9",
       "style": "IPY_MODEL_dff2772524ed4e5d86198f1819cf1731"
      }
     },
     "ebc2eae3021f467c92fb2bff1bfdc0d1": {
      "model_module": "@jupyter-widgets/controls",
      "model_module_version": "1.5.0",
      "model_name": "HTMLModel",
      "state": {
       "layout": "IPY_MODEL_aaeec16113254e3dae943e7e2f6ee626",
       "style": "IPY_MODEL_bbf59a422c6a4bd5bd99d82c59e368aa",
       "value": "<p>2023-02-16 16:28:49 PST - Frame 84490062, Spike</p>"
      }
     },
     "ec1a5b4f5fc54093afe6eb972d7e43b8": {
      "model_module": "@jupyter-widgets/base",
      "model_module_version": "1.2.0",
      "model_name": "LayoutModel",
      "state": {}
     },
     "ec2d2adf002a4d5eae253794644d5009": {
      "model_module": "@jupyter-widgets/base",
      "model_module_version": "1.2.0",
      "model_name": "LayoutModel",
      "state": {
       "width": "auto"
      }
     },
     "ecfce9dede504dca80cf6a28db1bc12b": {
      "model_module": "@jupyter-widgets/controls",
      "model_module_version": "1.5.0",
      "model_name": "VBoxModel",
      "state": {
       "children": [
        "IPY_MODEL_a3201b010ef7491da660475974f32e04",
        "IPY_MODEL_433aff3efb3a4751b43e4bfb84a0b236"
       ],
       "layout": "IPY_MODEL_d0103021871844ce81e8ddfd9fb94ff1"
      }
     },
     "eea3be96b7b94f50bd9e11eb170243ff": {
      "model_module": "@jupyter-widgets/controls",
      "model_module_version": "1.5.0",
      "model_name": "DescriptionStyleModel",
      "state": {
       "description_width": ""
      }
     },
     "eee25707732948a2b2e58374db0f8794": {
      "model_module": "@jupyter-widgets/controls",
      "model_module_version": "1.5.0",
      "model_name": "HTMLModel",
      "state": {
       "layout": "IPY_MODEL_279fb21586ea434db3be087cb7a12b8e",
       "style": "IPY_MODEL_f4ac304ca0ee47a8b19a2608f515899f",
       "value": "<p>2023-01-20 15:24:24 PST - Run Command: sayHello( \"bob\" )</p>"
      }
     },
     "efbbd665184848b0aa45e55172544504": {
      "model_module": "@jupyter-widgets/controls",
      "model_module_version": "1.5.0",
      "model_name": "TextModel",
      "state": {
       "description": "Device",
       "layout": "IPY_MODEL_b2d43804e9744f04a473cf443b79ae1b",
       "style": "IPY_MODEL_a415f496a7c948cb861e4d1d5afa9d89",
       "value": "ash_test_3"
      }
     },
     "efed32edf31447c4bb2369e999dcb5ca": {
      "model_module": "@jupyter-widgets/base",
      "model_module_version": "1.2.0",
      "model_name": "LayoutModel",
      "state": {}
     },
     "f0d7d14c67eb4e9183accb2292d46c33": {
      "model_module": "@jupyter-widgets/base",
      "model_module_version": "1.2.0",
      "model_name": "LayoutModel",
      "state": {}
     },
     "f14a2016f8974076a51d1d5d8d72b622": {
      "model_module": "@jupyter-widgets/controls",
      "model_module_version": "1.5.0",
      "model_name": "HTMLModel",
      "state": {
       "layout": "IPY_MODEL_6ad706d93c12400a9df6d49c6f7b9163",
       "style": "IPY_MODEL_5a38ad2113ef44f8840fb7e32e1bbd34",
       "value": "<h3>Select Device</h3><p>Type the name of the device to see it's history. Example: <code>flow_1</code></p>"
      }
     },
     "f20140aa808a49b3968159402e0b3370": {
      "model_module": "@jupyter-widgets/controls",
      "model_module_version": "1.5.0",
      "model_name": "HTMLModel",
      "state": {
       "layout": "IPY_MODEL_2b44d4aaba5c4da0b998414d7704b96b",
       "style": "IPY_MODEL_36b37664b4474626897e6658e09c729e",
       "value": "<p>2023-01-20 15:25:56 PST - Run Command: my_count.add_one()</p>"
      }
     },
     "f219debfeb3c4487ab84cb91247f0acd": {
      "model_module": "@jupyter-widgets/controls",
      "model_module_version": "1.5.0",
      "model_name": "ButtonStyleModel",
      "state": {}
     },
     "f249794b01a04992b3254d7891f340d3": {
      "model_module": "@jupyter-widgets/base",
      "model_module_version": "1.2.0",
      "model_name": "LayoutModel",
      "state": {}
     },
     "f29926fb63eb4afeb97e3511cdc23e01": {
      "model_module": "@jupyter-widgets/controls",
      "model_module_version": "1.5.0",
      "model_name": "ButtonStyleModel",
      "state": {}
     },
     "f2a52e20eadd45658b442481a570bd21": {
      "model_module": "@jupyter-widgets/controls",
      "model_module_version": "1.5.0",
      "model_name": "DescriptionStyleModel",
      "state": {
       "description_width": ""
      }
     },
     "f3f3abc9333c47e793456b2693935431": {
      "model_module": "@jupyter-widgets/controls",
      "model_module_version": "1.5.0",
      "model_name": "ButtonModel",
      "state": {
       "button_style": "warning",
       "description": "Pause",
       "layout": "IPY_MODEL_e1485880be524b08b745885d7ae1f29a",
       "style": "IPY_MODEL_f219debfeb3c4487ab84cb91247f0acd"
      }
     },
     "f417e581425c4390a1f334eddbb3e3d3": {
      "model_module": "@jupyter-widgets/controls",
      "model_module_version": "1.5.0",
      "model_name": "DescriptionStyleModel",
      "state": {
       "description_width": ""
      }
     },
     "f4ac304ca0ee47a8b19a2608f515899f": {
      "model_module": "@jupyter-widgets/controls",
      "model_module_version": "1.5.0",
      "model_name": "DescriptionStyleModel",
      "state": {
       "description_width": ""
      }
     },
     "f4cfef708c324dfebc6c14d7ae081923": {
      "model_module": "@jupyter-widgets/base",
      "model_module_version": "1.2.0",
      "model_name": "LayoutModel",
      "state": {}
     },
     "f54294bf0e2d48d99e77ca46365503fe": {
      "model_module": "@jupyter-widgets/controls",
      "model_module_version": "1.5.0",
      "model_name": "ButtonStyleModel",
      "state": {}
     },
     "f5b8ac101517443abc2943024c4784c5": {
      "model_module": "@jupyter-widgets/base",
      "model_module_version": "1.2.0",
      "model_name": "LayoutModel",
      "state": {}
     },
     "f5f8591d474f4966828cc58ea81cab14": {
      "model_module": "@jupyter-widgets/controls",
      "model_module_version": "1.5.0",
      "model_name": "DescriptionStyleModel",
      "state": {
       "description_width": ""
      }
     },
     "f65a3f9a1426434598ffd8eef1e31ac5": {
      "model_module": "@jupyter-widgets/base",
      "model_module_version": "1.2.0",
      "model_name": "LayoutModel",
      "state": {}
     },
     "f67cce10eaf9470abff4048e4d2c0c8d": {
      "model_module": "@jupyter-widgets/controls",
      "model_module_version": "1.5.0",
      "model_name": "DescriptionStyleModel",
      "state": {
       "description_width": ""
      }
     },
     "f69f88fe400e42089e90a799a1f2d162": {
      "model_module": "@jupyter-widgets/base",
      "model_module_version": "1.2.0",
      "model_name": "LayoutModel",
      "state": {}
     },
     "f6b1f286db9d427a9b60b7e3451b3eff": {
      "model_module": "@jupyter-widgets/controls",
      "model_module_version": "1.5.0",
      "model_name": "ButtonModel",
      "state": {
       "button_style": "warning",
       "description": "Change Status",
       "layout": "IPY_MODEL_f7446f0aaa214d99b60deb9f1d8d2f86",
       "style": "IPY_MODEL_2739b6f689ea41259904423255043ce5"
      }
     },
     "f6bf2357643e442387884e924ed5cdde": {
      "model_module": "@jupyter-widgets/controls",
      "model_module_version": "1.5.0",
      "model_name": "HBoxModel",
      "state": {
       "children": [
        "IPY_MODEL_c3cf9c75a3384210995e7da434b8a54c",
        "IPY_MODEL_886c5665299c4cc3bcda9776ab4a5fa4",
        "IPY_MODEL_9176e6ff119c41d48eb7a3e1f1926bca"
       ],
       "layout": "IPY_MODEL_f0d7d14c67eb4e9183accb2292d46c33"
      }
     },
     "f6cbb4df02b34ed6b2a17cfa3eecb9c5": {
      "model_module": "@jupyter-widgets/base",
      "model_module_version": "1.2.0",
      "model_name": "LayoutModel",
      "state": {
       "width": "auto"
      }
     },
     "f7446f0aaa214d99b60deb9f1d8d2f86": {
      "model_module": "@jupyter-widgets/base",
      "model_module_version": "1.2.0",
      "model_name": "LayoutModel",
      "state": {
       "margin": "2px 20px 0 0",
       "width": "auto"
      }
     },
     "f77cdc2ce98c40d992f7d79657daa6a1": {
      "model_module": "@jupyter-widgets/controls",
      "model_module_version": "1.5.0",
      "model_name": "ButtonModel",
      "state": {
       "button_style": "success",
       "description": "Send Command",
       "layout": "IPY_MODEL_5b25eb52c06b418f802393a38fd15ba7",
       "style": "IPY_MODEL_310201f49a704397923b63cc65699439"
      }
     },
     "f7d6161c1faa45e1ae56babd86d197e6": {
      "model_module": "@jupyter-widgets/base",
      "model_module_version": "1.2.0",
      "model_name": "LayoutModel",
      "state": {}
     },
     "f850c22580fa4a27be5ce5280ea4d1c9": {
      "model_module": "@jupyter-widgets/controls",
      "model_module_version": "1.5.0",
      "model_name": "HTMLModel",
      "state": {
       "layout": "IPY_MODEL_28dde9f0cbf94a72b506cef2bf1e3f4f",
       "style": "IPY_MODEL_c6a0e266a9ef46098946fb9191f37f18",
       "value": "<p>2023-01-20 15:26:37 PST - 1</p>"
      }
     },
     "f878c383017c4d7aa9a9120630cda04f": {
      "model_module": "@jupyter-widgets/controls",
      "model_module_version": "1.5.0",
      "model_name": "HTMLModel",
      "state": {
       "layout": "IPY_MODEL_607b90ea4fa84f569a801ab4e5e4ac17",
       "style": "IPY_MODEL_eb3e8a5df6d4426dbcef251241c92d94",
       "value": "<h3>Enter Command</h3><p>Type your device command below. It will be sent to <b>microscopy2</b>. To schedule commands, check out <a href='https://schedule.readthedocs.io/en/stable/examples.html' target='_blank'>this reference</a></p>"
      }
     },
     "f8b50b7fb30a49b4b09f28e313d07e67": {
      "model_module": "@jupyter-widgets/base",
      "model_module_version": "1.2.0",
      "model_name": "LayoutModel",
      "state": {}
     },
     "f8d099416abb42699c27d200e724099b": {
      "model_module": "@jupyter-widgets/controls",
      "model_module_version": "1.5.0",
      "model_name": "ButtonStyleModel",
      "state": {}
     },
     "f993de7c2f6240d7b1ffae73fcade300": {
      "model_module": "@jupyter-widgets/controls",
      "model_module_version": "1.5.0",
      "model_name": "DescriptionStyleModel",
      "state": {
       "description_width": ""
      }
     },
     "f9c245a1045f439aa88d81cbb305a499": {
      "model_module": "@jupyter-widgets/controls",
      "model_module_version": "1.5.0",
      "model_name": "HTMLModel",
      "state": {
       "layout": "IPY_MODEL_ead5b78c3cb84ffaa832ed94c6b56a03",
       "style": "IPY_MODEL_4ad91317a83147de9b2dec45b5df1d82",
       "value": "<h3>Select Devices</h3><p>Type the name of the devices you wish to view.</p><p>Use a comma to seperate them and no spaces! Example: <code>flow_1,pic_1</code></p>"
      }
     },
     "fa2879822ce64126aa28250338a1362e": {
      "model_module": "@jupyter-widgets/controls",
      "model_module_version": "1.5.0",
      "model_name": "DescriptionStyleModel",
      "state": {
       "description_width": ""
      }
     },
     "fa936254a37f4e8fba6203147d04cd97": {
      "model_module": "@jupyter-widgets/base",
      "model_module_version": "1.2.0",
      "model_name": "LayoutModel",
      "state": {
       "width": "auto"
      }
     },
     "faf0163dcc47414ca217e94f22e15ff3": {
      "model_module": "@jupyter-widgets/controls",
      "model_module_version": "1.5.0",
      "model_name": "DescriptionStyleModel",
      "state": {
       "description_width": ""
      }
     },
     "fc43cf48501247f6a0a57186565494bb": {
      "model_module": "@jupyter-widgets/controls",
      "model_module_version": "1.5.0",
      "model_name": "ButtonModel",
      "state": {
       "button_style": "warning",
       "description": "Pause",
       "layout": "IPY_MODEL_88485c29bd6e491f8d31b9a6ae3076f4",
       "style": "IPY_MODEL_33f087453cf14c2fa4b355b6f2a95f5f"
      }
     },
     "fd4c604a640544c9827e021b7f94478b": {
      "model_module": "@jupyter-widgets/controls",
      "model_module_version": "1.5.0",
      "model_name": "HTMLModel",
      "state": {
       "layout": "IPY_MODEL_25f8ef78c28f4c61895c1968b556de3c",
       "style": "IPY_MODEL_19b8f2c0af7b41f8ac6e1a3685e2abfc",
       "value": "<p>2023-02-16 16:28:49 PST - Frame 84479621, Spike</p>"
      }
     },
     "fdb667c5bd844d87be61b1610b7e88c9": {
      "model_module": "@jupyter-widgets/controls",
      "model_module_version": "1.5.0",
      "model_name": "HBoxModel",
      "state": {
       "children": [
        "IPY_MODEL_828b0e2b62ef45c6a82595c69433281e",
        "IPY_MODEL_20d68cb2dfc540e8a1949437bf139728"
       ],
       "layout": "IPY_MODEL_33b8f7924e824d2b9896e3e0763e3521"
      }
     },
     "fdc8f5c82cba470eb8b365e9580b7c91": {
      "model_module": "@jupyter-widgets/controls",
      "model_module_version": "1.5.0",
      "model_name": "ButtonModel",
      "state": {
       "button_style": "success",
       "description": "Send Command",
       "layout": "IPY_MODEL_c7251bbf6da2410ba204a35d3e31b98c",
       "style": "IPY_MODEL_eb9c1eb802bf4e73ba607196e5f4d875"
      }
     },
     "fdf8e18c06e44caa93ef8c1ad8341f00": {
      "model_module": "@jupyter-widgets/controls",
      "model_module_version": "1.5.0",
      "model_name": "ButtonStyleModel",
      "state": {}
     },
     "fe052fde1cc649b0943cbb2ea34c7383": {
      "model_module": "@jupyter-widgets/base",
      "model_module_version": "1.2.0",
      "model_name": "LayoutModel",
      "state": {
       "margin": "2px 50px 0 0",
       "width": "auto"
      }
     },
     "fe54787f0ac040d683ea84d774b5880e": {
      "model_module": "@jupyter-widgets/controls",
      "model_module_version": "1.5.0",
      "model_name": "DescriptionStyleModel",
      "state": {
       "description_width": ""
      }
     },
     "fe82e1ab0b9d46bc945043abc627b302": {
      "model_module": "@jupyter-widgets/controls",
      "model_module_version": "1.5.0",
      "model_name": "HBoxModel",
      "state": {
       "children": [
        "IPY_MODEL_684b5d6d2f3e4279a0c83ca1e453e5dd",
        "IPY_MODEL_c56ebeaedf1c4f2c80ad69bae08a1f50",
        "IPY_MODEL_ebb1defe80bf47c7a5c398aa26855404",
        "IPY_MODEL_9176e6ff119c41d48eb7a3e1f1926bca"
       ],
       "layout": "IPY_MODEL_27e09420275b48ddb6b38c4e954a14d1"
      }
     },
     "fe970820a91d4367822e70ce4c85ba92": {
      "model_module": "@jupyter-widgets/controls",
      "model_module_version": "1.5.0",
      "model_name": "DescriptionStyleModel",
      "state": {
       "description_width": ""
      }
     },
     "ff70cce53fbc41a1a2491f3a8e60e284": {
      "model_module": "@jupyter-widgets/controls",
      "model_module_version": "1.5.0",
      "model_name": "VBoxModel",
      "state": {
       "children": [
        "IPY_MODEL_1852e92463544a6b8536b43ce769b2a0",
        "IPY_MODEL_2afbc5004d98441e9b4e4147494e09e1"
       ],
       "layout": "IPY_MODEL_28e56997f72541b186bd8ede007684c7"
      }
     },
     "ffbd474e32654f05bd206618660bcd47": {
      "model_module": "@jupyter-widgets/controls",
      "model_module_version": "1.5.0",
      "model_name": "ButtonStyleModel",
      "state": {}
     }
    },
    "version_major": 2,
    "version_minor": 0
   }
  }
 },
 "nbformat": 4,
 "nbformat_minor": 5
}
