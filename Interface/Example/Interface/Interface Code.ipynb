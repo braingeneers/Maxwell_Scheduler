{
 "cells": [
  {
   "cell_type": "markdown",
   "id": "c6c728aa",
   "metadata": {},
   "source": [
    "<font size=7 face=courier>Interface Source Code"
   ]
  },
  {
   "cell_type": "markdown",
   "id": "342108e9",
   "metadata": {},
   "source": [
    "# <font color=\"gray\">Set up Notebook"
   ]
  },
  {
   "cell_type": "code",
   "execution_count": 3,
   "id": "d5456b71",
   "metadata": {},
   "outputs": [],
   "source": [
    "%run ../../\"IoT Functions.ipynb\""
   ]
  },
  {
   "cell_type": "code",
   "execution_count": 4,
   "id": "3e5a30af",
   "metadata": {},
   "outputs": [],
   "source": [
    "#from iot import *   # before running this command, make sure you copy the latest vesion of simply.py to the same folder as this file"
   ]
  },
  {
   "cell_type": "code",
   "execution_count": 5,
   "id": "c4a482f3",
   "metadata": {},
   "outputs": [],
   "source": [
    "import ipywidgets as w"
   ]
  },
  {
   "cell_type": "code",
   "execution_count": 6,
   "id": "1fffa31d",
   "metadata": {},
   "outputs": [],
   "source": [
    "from IPython.core.display import HTML, display, Javascript, clear_output"
   ]
  },
  {
   "cell_type": "markdown",
   "id": "a0b641ca",
   "metadata": {},
   "source": [
    "# <font color=\"blue\">Device Controller"
   ]
  },
  {
   "cell_type": "markdown",
   "id": "79dae804",
   "metadata": {
    "heading_collapsed": true
   },
   "source": [
    "## <font color=\"blue\">Select a Device"
   ]
  },
  {
   "cell_type": "markdown",
   "id": "d8de3200",
   "metadata": {
    "hidden": true
   },
   "source": [
    "Create widget box for selecting a device"
   ]
  },
  {
   "cell_type": "code",
   "execution_count": 7,
   "id": "980bd3e6",
   "metadata": {
    "hidden": true
   },
   "outputs": [],
   "source": [
    "ctrl_device_txt = w.Text(description=\"Device\")\n",
    "ctrl_device_btn = w.Button( description=\"Select\", button_style='success',  layout= w.Layout(width='auto') )\n",
    "ctrl_device_words = w.HTML( \"\"\"<h3>Select Device to Control</h3><p>Type the name of the device you wish to controle. Example: <code>flow_1</code></p>\"\"\" )\n",
    "ctrl_device = w.VBox([ ctrl_device_words, w.HBox([ctrl_device_txt,ctrl_device_btn])  ])"
   ]
  },
  {
   "cell_type": "code",
   "execution_count": 8,
   "id": "0adbde14",
   "metadata": {
    "hidden": true
   },
   "outputs": [
    {
     "data": {
      "application/vnd.jupyter.widget-view+json": {
       "model_id": "852326f2db9441149f1331ae2279cb6a",
       "version_major": 2,
       "version_minor": 0
      },
      "text/plain": [
       "VBox(children=(HTML(value='<h3>Select Device to Control</h3><p>Type the name of the device you wish to control…"
      ]
     },
     "metadata": {},
     "output_type": "display_data"
    }
   ],
   "source": [
    "ctrl_device"
   ]
  },
  {
   "cell_type": "markdown",
   "id": "ec401195",
   "metadata": {
    "hidden": true
   },
   "source": [
    "Function on \"select\" button click"
   ]
  },
  {
   "cell_type": "code",
   "execution_count": 9,
   "id": "f625b291",
   "metadata": {
    "hidden": true
   },
   "outputs": [],
   "source": [
    "def ctrl_device_func(b):\n",
    "    clear_output()\n",
    "    display( w.HTML( \"\"\"<h4>What do you want to do?</h4><p>You can send a new command to the device or change it's status between running, paused, and shutdown. </p> \"\"\" ) )\n",
    "    display(ctrl_options)\n",
    "ctrl_device_btn.on_click( ctrl_device_func )\n"
   ]
  },
  {
   "cell_type": "markdown",
   "id": "f74268c8",
   "metadata": {
    "heading_collapsed": true
   },
   "source": [
    "## <font color=\"blue\">Choose Options"
   ]
  },
  {
   "cell_type": "markdown",
   "id": "f1b4ca4d",
   "metadata": {
    "hidden": true
   },
   "source": [
    "Make reset button that take user back to start page"
   ]
  },
  {
   "cell_type": "code",
   "execution_count": 10,
   "id": "a31c2888",
   "metadata": {
    "hidden": true
   },
   "outputs": [],
   "source": [
    "ctrl_reset = w.Button( description=\"\",icon='refresh', button_style='info',layout= w.Layout(width='auto') )"
   ]
  },
  {
   "cell_type": "code",
   "execution_count": 11,
   "id": "5ea7938b",
   "metadata": {
    "hidden": true
   },
   "outputs": [],
   "source": [
    "def ctrl_reset_func(b):\n",
    "    clear_output()\n",
    "    display(ctrl_device)\n",
    "ctrl_reset.on_click( ctrl_reset_func )"
   ]
  },
  {
   "cell_type": "markdown",
   "id": "e33a3952",
   "metadata": {
    "hidden": true
   },
   "source": [
    "Create widget box for choosing device options"
   ]
  },
  {
   "cell_type": "code",
   "execution_count": 12,
   "id": "4c08e937",
   "metadata": {
    "hidden": true
   },
   "outputs": [
    {
     "data": {
      "application/vnd.jupyter.widget-view+json": {
       "model_id": "726663b58f4e4ccda138a044c7f5bd3f",
       "version_major": 2,
       "version_minor": 0
      },
      "text/plain": [
       "HBox(children=(Button(button_style='success', description='Send Command', layout=Layout(margin='2px 20px 0 0')…"
      ]
     },
     "metadata": {},
     "output_type": "display_data"
    }
   ],
   "source": [
    "ctrl_options_command = w.Button( description=\"Send Command\", button_style='success',layout= w.Layout(margin=\"2px 20px 0 0\") )#,   )\n",
    "ctrl_options_status = w.Button( description=\"Change Status\", button_style='warning',layout= w.Layout(width='auto',margin=\"2px 20px 0 0\"))#,  layout= w.Layout(width='auto') )\n",
    "#ctrl_options_words =  #\n",
    "ctrl_options =  w.HBox([ ctrl_options_command, ctrl_options_status, ctrl_reset]) \n",
    "ctrl_options"
   ]
  },
  {
   "cell_type": "markdown",
   "id": "014a17d9",
   "metadata": {
    "hidden": true
   },
   "source": [
    "add functions to device choices"
   ]
  },
  {
   "cell_type": "code",
   "execution_count": 13,
   "id": "a74db5c0",
   "metadata": {
    "hidden": true
   },
   "outputs": [],
   "source": [
    "def ctrl_options_command_func(b):\n",
    "    clear_output()\n",
    "    display( w.HTML(f\"<h3>Enter Command</h3><p>Type your device command below. It will be sent to <b>{ctrl_device_txt.value}</b>. To schedule commands, check out <a href='https://schedule.readthedocs.io/en/stable/examples.html' target='_blank'>this reference</a></p>\") )\n",
    "    display(ctrl_command)\n",
    "ctrl_options_command.on_click( ctrl_options_command_func )\n"
   ]
  },
  {
   "cell_type": "code",
   "execution_count": 14,
   "id": "b0186516",
   "metadata": {
    "hidden": true
   },
   "outputs": [],
   "source": [
    "def ctrl_options_status_func(b):\n",
    "    status = get_status(ctrl_device_txt.value)\n",
    "    clear_output()\n",
    "    display(w.HTML(f\"\"\"<h4>Current {ctrl_device_txt.value} status: <font color='green'>{status}</font> </h4><p>User the buttons below to change the status</p>\"\"\"))\n",
    "    display(ctrl_status)\n",
    "ctrl_options_status.on_click( ctrl_options_status_func )\n"
   ]
  },
  {
   "cell_type": "markdown",
   "id": "543b1540",
   "metadata": {
    "heading_collapsed": true
   },
   "source": [
    "## <font color=\"blue\">Send Message to Device"
   ]
  },
  {
   "cell_type": "markdown",
   "id": "a3ddc2a5",
   "metadata": {
    "hidden": true
   },
   "source": [
    "Create widgets for sending a message to the device"
   ]
  },
  {
   "cell_type": "code",
   "execution_count": 15,
   "id": "1200281a",
   "metadata": {
    "cell_style": "center",
    "hidden": true
   },
   "outputs": [
    {
     "data": {
      "application/vnd.jupyter.widget-view+json": {
       "model_id": "5d84be8c2ccc4812a19dfb633ee198bf",
       "version_major": 2,
       "version_minor": 0
      },
      "text/plain": [
       "HBox(children=(Text(value='', description='Command', layout=Layout(width='750px')), Button(button_style='succe…"
      ]
     },
     "metadata": {},
     "output_type": "display_data"
    }
   ],
   "source": [
    "ctrl_command_txt = w.Text( description=\"Command\", layout= w.Layout(width='750px') )\n",
    "ctrl_command_btn = w.Button( description=\"Send\", button_style='success',  layout= w.Layout(width='auto',margin=\"2px 20px 0 0\") )\n",
    "ctrl_command = w.HBox([ ctrl_command_txt, ctrl_command_btn, ctrl_reset ])\n",
    "ctrl_command"
   ]
  },
  {
   "cell_type": "markdown",
   "id": "77ed9b72",
   "metadata": {
    "hidden": true
   },
   "source": [
    "Add function"
   ]
  },
  {
   "cell_type": "code",
   "execution_count": 16,
   "id": "00182920",
   "metadata": {
    "hidden": true
   },
   "outputs": [],
   "source": [
    "def ctrl_command_func(b):\n",
    "    send( ctrl_device_txt.value, ctrl_command_txt.value )\n",
    "    clear_output()\n",
    "    display(w.HTML(f\"<h4>Command sent to {ctrl_device_txt.value}</h4>\"))\n",
    "    display(ctrl_reset)\n",
    "ctrl_command_btn.on_click( ctrl_command_func )"
   ]
  },
  {
   "cell_type": "markdown",
   "id": "6a1197b3",
   "metadata": {
    "heading_collapsed": true
   },
   "source": [
    "## <font color=\"blue\">Change Device Status"
   ]
  },
  {
   "cell_type": "markdown",
   "id": "4145acb0",
   "metadata": {
    "hidden": true
   },
   "source": [
    "Create widget buttongs for changing status"
   ]
  },
  {
   "cell_type": "code",
   "execution_count": 17,
   "id": "84414cce",
   "metadata": {
    "hidden": true
   },
   "outputs": [],
   "source": [
    "ctrl_status_run = w.Button( description=\"Run\", button_style='success',layout= w.Layout(margin=\"2px 20px 0 0\") )#,   )\n",
    "ctrl_status_pause = w.Button( description=\"Pause\", button_style='warning',layout= w.Layout(margin=\"2px 20px 0 0\") )#,   )\n",
    "ctrl_status_shutdown = w.Button( description=\"Shutdown\", button_style='danger',layout= w.Layout(width='auto', margin=\"2px 50px 0 0\") )#,   )\n",
    "ctrl_status =  w.HBox([ ctrl_status_run, ctrl_status_pause, ctrl_status_shutdown, ctrl_reset]) "
   ]
  },
  {
   "cell_type": "code",
   "execution_count": 18,
   "id": "832f61c6",
   "metadata": {
    "hidden": true
   },
   "outputs": [
    {
     "data": {
      "application/vnd.jupyter.widget-view+json": {
       "model_id": "64a93161ee3c445fbc8c00a884789f64",
       "version_major": 2,
       "version_minor": 0
      },
      "text/plain": [
       "HBox(children=(Button(button_style='success', description='Run', layout=Layout(margin='2px 20px 0 0'), style=B…"
      ]
     },
     "metadata": {},
     "output_type": "display_data"
    }
   ],
   "source": [
    "ctrl_status"
   ]
  },
  {
   "cell_type": "markdown",
   "id": "6e0728f7",
   "metadata": {
    "hidden": true
   },
   "source": [
    "add function to each button"
   ]
  },
  {
   "cell_type": "code",
   "execution_count": 19,
   "id": "e3767ae4",
   "metadata": {
    "hidden": true
   },
   "outputs": [],
   "source": [
    "def ctrl_status_run_func(b):\n",
    "    clear_output()\n",
    "    run( ctrl_device_txt.value )\n",
    "    display( w.HTML(\"<h4>Status changed to: <font color='green'>Run</font></h4>\"))\n",
    "    display(ctrl_reset)\n",
    "ctrl_status_run.on_click( ctrl_status_run_func )"
   ]
  },
  {
   "cell_type": "code",
   "execution_count": 20,
   "id": "25630bc7",
   "metadata": {
    "hidden": true
   },
   "outputs": [],
   "source": [
    "def ctrl_status_pause_func(b):\n",
    "    clear_output()\n",
    "    pause( ctrl_device_txt.value )\n",
    "    display( w.HTML(\"<h4>Status changed to: <font color='green'>Pause</font></h4>\"))\n",
    "    display(ctrl_reset)\n",
    "ctrl_status_pause.on_click( ctrl_status_pause_func )"
   ]
  },
  {
   "cell_type": "code",
   "execution_count": 31,
   "id": "76663e7b",
   "metadata": {
    "hidden": true
   },
   "outputs": [],
   "source": [
    "def ctrl_status_shutdown_func(b):\n",
    "    clear_output()\n",
    "    shutdown( ctrl_device_txt.value, hard=True )\n",
    "    display( w.HTML(\"<h4>Status changed to: <font color='green'>Shutdown</font></h4>\"))\n",
    "    display(ctrl_reset)\n",
    "ctrl_status_shutdown.on_click( ctrl_status_shutdown_func )"
   ]
  },
  {
   "cell_type": "markdown",
   "id": "c885e81e",
   "metadata": {},
   "source": [
    "# <font color=\"purple\">Device Viewer"
   ]
  },
  {
   "cell_type": "markdown",
   "id": "f83e59bd",
   "metadata": {},
   "source": [
    "## <font color=\"purple\">Draw Weekly Schedule"
   ]
  },
  {
   "cell_type": "markdown",
   "id": "55edcf4f",
   "metadata": {},
   "source": [
    "Create reset button for weekly calendar"
   ]
  },
  {
   "cell_type": "code",
   "execution_count": 22,
   "id": "822a0bdb",
   "metadata": {},
   "outputs": [],
   "source": [
    "cal_reset = w.Button( description=\"\",icon='refresh', button_style='info',layout= w.Layout(width='auto') )"
   ]
  },
  {
   "cell_type": "code",
   "execution_count": 23,
   "id": "1e9efc63",
   "metadata": {},
   "outputs": [],
   "source": [
    "def cal_reset_func(b):\n",
    "    clear_output()\n",
    "    display(cal_device)\n",
    "cal_reset.on_click( cal_reset_func )"
   ]
  },
  {
   "cell_type": "markdown",
   "id": "9813ff78",
   "metadata": {},
   "source": [
    "Widgets for selecting the device to draw"
   ]
  },
  {
   "cell_type": "code",
   "execution_count": 24,
   "id": "9306dcb4",
   "metadata": {},
   "outputs": [],
   "source": [
    "cal_device_txt = w.Text(description=\"Devices\",  layout= w.Layout(width='450px'))\n",
    "cal_device_btn = w.Button( description=\"Draw\", button_style='success',  layout= w.Layout(width='auto') )\n",
    "cal_device_words = w.HTML( \"\"\"<h3>Select Devices</h3><p>Type the name of the devices you wish to view.</p><p>Use a comma to seperate them and no spaces! Example: <code>flow_1,pic_1</code></p>\"\"\" )\n",
    "cal_device = w.VBox([ cal_device_words, w.HBox([cal_device_txt,cal_device_btn])  ])\n"
   ]
  },
  {
   "cell_type": "code",
   "execution_count": 25,
   "id": "c58b0fb5",
   "metadata": {
    "scrolled": false
   },
   "outputs": [
    {
     "data": {
      "application/vnd.jupyter.widget-view+json": {
       "model_id": "29515255d6b149acbbbdc93755b24bab",
       "version_major": 2,
       "version_minor": 0
      },
      "text/plain": [
       "VBox(children=(HTML(value='<h3>Select Devices</h3><p>Type the name of the devices you wish to view.</p><p>Use …"
      ]
     },
     "metadata": {},
     "output_type": "display_data"
    }
   ],
   "source": [
    "cal_device"
   ]
  },
  {
   "cell_type": "markdown",
   "id": "da670495",
   "metadata": {},
   "source": [
    "Add function"
   ]
  },
  {
   "cell_type": "code",
   "execution_count": 26,
   "id": "97786ca9",
   "metadata": {},
   "outputs": [],
   "source": [
    "def cal_draw(b):\n",
    "    # Draw schedue\n",
    "    clear_output()                \n",
    "    devices = cal_device_txt.value.replace(\" \", \"\").split(\",\")\n",
    "    display(cal_reset)\n",
    "    display( draw_schedule(devices) )\n",
    "    \n",
    "    # display information about each job on schedules\n",
    "    for device in devices:\n",
    "        display(w.HTML(f\"<h3>{device}</h3>\"))\n",
    "        state = get_info( device )\n",
    "        for job in state[\"schedule\"] :\n",
    "            display(w.HTML(f\"{job}\"))\n",
    "            \n",
    "cal_device_btn.on_click( cal_draw )"
   ]
  },
  {
   "cell_type": "code",
   "execution_count": null,
   "id": "725c1b71",
   "metadata": {},
   "outputs": [],
   "source": []
  },
  {
   "cell_type": "markdown",
   "id": "a6b10a25",
   "metadata": {
    "heading_collapsed": true,
    "slideshow": {
     "slide_type": "fragment"
    }
   },
   "source": [
    "## <font color=\"purple\">Get History"
   ]
  },
  {
   "cell_type": "markdown",
   "id": "e9f5ffb5",
   "metadata": {
    "hidden": true
   },
   "source": [
    "make reset button"
   ]
  },
  {
   "cell_type": "code",
   "execution_count": 27,
   "id": "3749c7ed",
   "metadata": {
    "hidden": true
   },
   "outputs": [],
   "source": [
    "hist_reset = w.Button( description=\"\",icon='refresh', button_style='info',layout= w.Layout(width='auto') )"
   ]
  },
  {
   "cell_type": "code",
   "execution_count": 28,
   "id": "00a45a65",
   "metadata": {
    "hidden": true
   },
   "outputs": [],
   "source": [
    "def hist_reset_func(b):\n",
    "    clear_output()\n",
    "    display(hist_device)\n",
    "hist_reset.on_click( hist_reset_func )"
   ]
  },
  {
   "cell_type": "markdown",
   "id": "7013bc1f",
   "metadata": {
    "hidden": true
   },
   "source": [
    "Make widget for getting the history of a device"
   ]
  },
  {
   "cell_type": "code",
   "execution_count": 29,
   "id": "ec3bed6a",
   "metadata": {
    "hidden": true
   },
   "outputs": [
    {
     "data": {
      "application/vnd.jupyter.widget-view+json": {
       "model_id": "3f38d77b14604a9eab7a362885145993",
       "version_major": 2,
       "version_minor": 0
      },
      "text/plain": [
       "VBox(children=(HTML(value=\"<h3>Select Device</h3><p>Type the name of the device to see it's history. Example: …"
      ]
     },
     "metadata": {},
     "output_type": "display_data"
    }
   ],
   "source": [
    "hist_device_txt = w.Text( description=\"Device\")#, layout= w.Layout(width='750px') )\n",
    "hist_device_btn = w.Button( description=\"Get\", button_style='success',  layout= w.Layout(width='auto') )\n",
    "hist_device_words = w.HTML(f\"<h3>Select Device</h3><p>Type the name of the device to see it's history. Example: <code>flow_1</code></p>\")\n",
    "hist_device = w.VBox([ hist_device_words, w.HBox([ hist_device_txt, hist_device_btn ])])\n",
    "hist_device"
   ]
  },
  {
   "cell_type": "markdown",
   "id": "d2f48859",
   "metadata": {
    "hidden": true
   },
   "source": [
    "Add function"
   ]
  },
  {
   "cell_type": "code",
   "execution_count": 30,
   "id": "3e472d10",
   "metadata": {
    "hidden": true
   },
   "outputs": [],
   "source": [
    "def hist_device_func(b):\n",
    "    clear_output()\n",
    "    state = get_info( hist_device_txt.value )\n",
    "    display(hist_reset)\n",
    "    display(w.HTML(\"<h3>History</h3><hr>\"))\n",
    "    for line in state[\"history\"]:\n",
    "        display( w.HTML(f\"<p>{line}</p>\") )\n",
    "        \n",
    "hist_device_btn.on_click( hist_device_func )"
   ]
  },
  {
   "cell_type": "code",
   "execution_count": null,
   "id": "a4fa64e5",
   "metadata": {
    "hidden": true
   },
   "outputs": [],
   "source": []
  },
  {
   "cell_type": "code",
   "execution_count": null,
   "id": "774bf8e8",
   "metadata": {
    "hidden": true
   },
   "outputs": [],
   "source": []
  },
  {
   "cell_type": "code",
   "execution_count": null,
   "id": "45fc47c6",
   "metadata": {
    "hidden": true
   },
   "outputs": [],
   "source": []
  }
 ],
 "metadata": {
  "hide_input": false,
  "kernelspec": {
   "display_name": "Python 3",
   "language": "python",
   "name": "python3"
  },
  "language_info": {
   "codemirror_mode": {
    "name": "ipython",
    "version": 3
   },
   "file_extension": ".py",
   "mimetype": "text/x-python",
   "name": "python",
   "nbconvert_exporter": "python",
   "pygments_lexer": "ipython3",
   "version": "3.8.8"
  },
  "toc": {
   "base_numbering": 1,
   "nav_menu": {},
   "number_sections": true,
   "sideBar": true,
   "skip_h1_title": false,
   "title_cell": "Table of Contents",
   "title_sidebar": "Contents",
   "toc_cell": false,
   "toc_position": {},
   "toc_section_display": true,
   "toc_window_display": false
  },
  "widgets": {
   "application/vnd.jupyter.widget-state+json": {
    "state": {
     "000ac71689b442b6b865bfd7be3e3c8a": {
      "model_module": "@jupyter-widgets/base",
      "model_module_version": "1.2.0",
      "model_name": "LayoutModel",
      "state": {}
     },
     "0034d8973d85431697051155c39c4a57": {
      "model_module": "@jupyter-widgets/base",
      "model_module_version": "1.2.0",
      "model_name": "LayoutModel",
      "state": {}
     },
     "005223a9412442758c84a6973ea2daad": {
      "model_module": "@jupyter-widgets/controls",
      "model_module_version": "1.5.0",
      "model_name": "ButtonStyleModel",
      "state": {}
     },
     "0083d38dc1934330abf7fb68bbe5a60b": {
      "model_module": "@jupyter-widgets/controls",
      "model_module_version": "1.5.0",
      "model_name": "DescriptionStyleModel",
      "state": {
       "description_width": ""
      }
     },
     "008b0f57e4124f83a0b85bfbba3d0530": {
      "model_module": "@jupyter-widgets/controls",
      "model_module_version": "1.5.0",
      "model_name": "ButtonStyleModel",
      "state": {}
     },
     "00bc9ce01e7b43e78aeb0b0e63204506": {
      "model_module": "@jupyter-widgets/controls",
      "model_module_version": "1.5.0",
      "model_name": "ButtonStyleModel",
      "state": {}
     },
     "00c1494b193244adb3e8047b6ff8c2e5": {
      "model_module": "@jupyter-widgets/controls",
      "model_module_version": "1.5.0",
      "model_name": "HTMLModel",
      "state": {
       "layout": "IPY_MODEL_fd296d1e97bd4ab989fba40d4084af41",
       "style": "IPY_MODEL_190e96ae1a0a4fc493e5c7af0a0ae9be",
       "value": "<p>2022-06-27 04:58:21 UTC - Run Command: schedule.every().hour.at(\":30\").do(sayHello, name='hourly,30')</p>"
      }
     },
     "00c30df4476847f1bc15d0167b9a1335": {
      "model_module": "@jupyter-widgets/controls",
      "model_module_version": "1.5.0",
      "model_name": "ButtonStyleModel",
      "state": {}
     },
     "01119eee8a6d4527acf65610592a544d": {
      "model_module": "@jupyter-widgets/controls",
      "model_module_version": "1.5.0",
      "model_name": "DescriptionStyleModel",
      "state": {
       "description_width": ""
      }
     },
     "016b55ac6ebb44e7af43eaa7ed225c97": {
      "model_module": "@jupyter-widgets/controls",
      "model_module_version": "1.5.0",
      "model_name": "ButtonStyleModel",
      "state": {}
     },
     "01a6c52339c8462aaadb339b74db6220": {
      "model_module": "@jupyter-widgets/controls",
      "model_module_version": "1.5.0",
      "model_name": "VBoxModel",
      "state": {
       "children": [
        "IPY_MODEL_9dbcebc4faa4429795387871d3165f0c",
        "IPY_MODEL_2dea56a324024107b0bd3417006e857e",
        "IPY_MODEL_94cfaef631dc435c94d0e9011045e916"
       ],
       "layout": "IPY_MODEL_140b9620013f4bd899cd6647247d486d"
      }
     },
     "02897af6ff1d45508c2c90c1a27fb121": {
      "model_module": "@jupyter-widgets/controls",
      "model_module_version": "1.5.0",
      "model_name": "VBoxModel",
      "state": {
       "children": [
        "IPY_MODEL_8c929238999c43d1aabc15c96a027a69",
        "IPY_MODEL_5ee71317bed04c65b78d81387ccd29f8"
       ],
       "layout": "IPY_MODEL_8edefa5eb0914ecc9373667aabd109f6"
      }
     },
     "028f1a33c72f47d4b62c5fea8b2329c2": {
      "model_module": "@jupyter-widgets/controls",
      "model_module_version": "1.5.0",
      "model_name": "ButtonModel",
      "state": {
       "button_style": "success",
       "description": "Get",
       "layout": "IPY_MODEL_2212d0bad1434215aadf65772f25bd18",
       "style": "IPY_MODEL_814c76124550487d852d1fcbadc8dc0a"
      }
     },
     "02b339e95f4a4015bf12061d3b6dcdd4": {
      "model_module": "@jupyter-widgets/base",
      "model_module_version": "1.2.0",
      "model_name": "LayoutModel",
      "state": {
       "margin": "2px 20px 0 0",
       "width": "auto"
      }
     },
     "02cd12fd197f4a108cb7be94a93d7825": {
      "model_module": "@jupyter-widgets/controls",
      "model_module_version": "1.5.0",
      "model_name": "ButtonStyleModel",
      "state": {}
     },
     "02d5c003abc44c8badbb7761e4b037fc": {
      "model_module": "@jupyter-widgets/controls",
      "model_module_version": "1.5.0",
      "model_name": "ButtonStyleModel",
      "state": {}
     },
     "02d89562c27a4e578f9769049573c104": {
      "model_module": "@jupyter-widgets/base",
      "model_module_version": "1.2.0",
      "model_name": "LayoutModel",
      "state": {}
     },
     "0302ba01cf6e4fb9bd526ec8dfd65b66": {
      "model_module": "@jupyter-widgets/controls",
      "model_module_version": "1.5.0",
      "model_name": "ButtonModel",
      "state": {
       "button_style": "info",
       "icon": "refresh",
       "layout": "IPY_MODEL_e960196866f540bdaac0855d289d65d3",
       "style": "IPY_MODEL_333dc7d2a3344a309b765ad7a75bc643"
      }
     },
     "033b8ee7f3444e5db7b9ad02886c111e": {
      "model_module": "@jupyter-widgets/base",
      "model_module_version": "1.2.0",
      "model_name": "LayoutModel",
      "state": {}
     },
     "035c367181fe49a38de73449d4e7ce3a": {
      "model_module": "@jupyter-widgets/controls",
      "model_module_version": "1.5.0",
      "model_name": "ButtonModel",
      "state": {
       "button_style": "info",
       "icon": "refresh",
       "layout": "IPY_MODEL_c32fa7719333488fbf2cae6439471789",
       "style": "IPY_MODEL_2752a0a28528495f85645d420c63a1ef"
      }
     },
     "03ce8213c7db4812a97222d56b269bf3": {
      "model_module": "@jupyter-widgets/controls",
      "model_module_version": "1.5.0",
      "model_name": "ButtonModel",
      "state": {
       "button_style": "primary",
       "description": "Send Command",
       "layout": "IPY_MODEL_8a009b00584545f996ec6906a5985af7",
       "style": "IPY_MODEL_248ef38f51314c5c931769e8d5ce1395"
      }
     },
     "03de57b60bcf40f7958cbc0899bbcbf4": {
      "model_module": "@jupyter-widgets/controls",
      "model_module_version": "1.5.0",
      "model_name": "HBoxModel",
      "state": {
       "children": [
        "IPY_MODEL_2a571161d6564e2682986a1d32cbfb2f",
        "IPY_MODEL_a9732e0c2d4941e4bfcde254515db3ab"
       ],
       "layout": "IPY_MODEL_13f6f7b083f74f42aa0c1921102bd95d"
      }
     },
     "0424de54ae92400689be733b31c62fc7": {
      "model_module": "@jupyter-widgets/controls",
      "model_module_version": "1.5.0",
      "model_name": "HTMLModel",
      "state": {
       "layout": "IPY_MODEL_e8ce9d7c561046dea4c3a5ef2621cec6",
       "style": "IPY_MODEL_c1212161c4d34b1cbdde7a9f49edbd07",
       "value": "<p>2022-06-27 04:55:59 UTC - Run Command: sayHello('alice')</p>"
      }
     },
     "0442f3d9fb4d42a2b84f86bac6bdfa78": {
      "model_module": "@jupyter-widgets/controls",
      "model_module_version": "1.5.0",
      "model_name": "HTMLModel",
      "state": {
       "layout": "IPY_MODEL_d59dc05d97e74ffa80459871e5930e29",
       "style": "IPY_MODEL_9d93556753c44666b96da801d717dd8c",
       "value": "<p>2022-06-27 05:30:00 UTC - Running job Job(interval=1, unit=hours, do=sayHello, args=(), kwargs={'name': 'hourly,30'})</p>"
      }
     },
     "04601f4f4fa64487bd2098ba15366c15": {
      "model_module": "@jupyter-widgets/controls",
      "model_module_version": "1.5.0",
      "model_name": "VBoxModel",
      "state": {
       "children": [
        "IPY_MODEL_c670959de160402cae0d4aa401d2103c",
        "IPY_MODEL_17124944181040b8bbd541dbe2cfa4bc"
       ],
       "layout": "IPY_MODEL_5cd8c4ef13f54f6fb1f44c81110d7912"
      }
     },
     "0492e3eb27924de0ba36911372e605a3": {
      "model_module": "@jupyter-widgets/controls",
      "model_module_version": "1.5.0",
      "model_name": "ButtonStyleModel",
      "state": {}
     },
     "04ee1b32294d4626ad6a999a4c70e998": {
      "model_module": "@jupyter-widgets/base",
      "model_module_version": "1.2.0",
      "model_name": "LayoutModel",
      "state": {}
     },
     "04efceb7001d4978854889d6fdfdca8e": {
      "model_module": "@jupyter-widgets/base",
      "model_module_version": "1.2.0",
      "model_name": "LayoutModel",
      "state": {
       "margin": "2px 40px 0 0"
      }
     },
     "050eea71ff014eb78db3c5f697407037": {
      "model_module": "@jupyter-widgets/base",
      "model_module_version": "1.2.0",
      "model_name": "LayoutModel",
      "state": {
       "margin": "2px 20px 0 0",
       "width": "auto"
      }
     },
     "05143503a80e40ebb730ddcae830b8da": {
      "model_module": "@jupyter-widgets/controls",
      "model_module_version": "1.5.0",
      "model_name": "TextModel",
      "state": {
       "description": "Command",
       "layout": "IPY_MODEL_e943038c988c45fbab83a810669970a7",
       "style": "IPY_MODEL_da519f390056417ca45d72a7fae80258"
      }
     },
     "05b1ae6afcf24753a92542d289d9b026": {
      "model_module": "@jupyter-widgets/controls",
      "model_module_version": "1.5.0",
      "model_name": "HBoxModel",
      "state": {
       "children": [
        "IPY_MODEL_9ce06334850e477288cd446fd0def645",
        "IPY_MODEL_3d1a154b41994183bfdc75639766d33f"
       ],
       "layout": "IPY_MODEL_edd5d8134a05419d889eff9dfdb2dba0"
      }
     },
     "05cbe25b01bd4da6b6a8f7cdf761d569": {
      "model_module": "@jupyter-widgets/base",
      "model_module_version": "1.2.0",
      "model_name": "LayoutModel",
      "state": {}
     },
     "0611cc7a037d4fe4b64be6958a5e54eb": {
      "model_module": "@jupyter-widgets/base",
      "model_module_version": "1.2.0",
      "model_name": "LayoutModel",
      "state": {}
     },
     "0644c3d1df904f978a70716197732152": {
      "model_module": "@jupyter-widgets/controls",
      "model_module_version": "1.5.0",
      "model_name": "ButtonModel",
      "state": {
       "button_style": "success",
       "description": "Send",
       "layout": "IPY_MODEL_06d90764d2d5494f81a8b29e1a15f88d",
       "style": "IPY_MODEL_4d79962a58b9411ba803a5090322d1a2"
      }
     },
     "065bd2f08e9d4c8d83d5f830facbc701": {
      "model_module": "@jupyter-widgets/controls",
      "model_module_version": "1.5.0",
      "model_name": "ButtonStyleModel",
      "state": {}
     },
     "065ea7ae07844feba23c4ad9ed254919": {
      "model_module": "@jupyter-widgets/controls",
      "model_module_version": "1.5.0",
      "model_name": "ButtonModel",
      "state": {
       "button_style": "warning",
       "description": "Change Status",
       "layout": "IPY_MODEL_a16aeb948e7a49ba86d6ed6fed9cd028",
       "style": "IPY_MODEL_2797c9007b4e4ac89e4ebec2e65626d6"
      }
     },
     "066df7bf917e439d87c5c0c63366492b": {
      "model_module": "@jupyter-widgets/controls",
      "model_module_version": "1.5.0",
      "model_name": "HTMLModel",
      "state": {
       "layout": "IPY_MODEL_cf57f087294a4930b51a1cf920b22499",
       "style": "IPY_MODEL_8b8a12a63e324dcc9dca1019c459f11d",
       "value": "<p>2022-06-27 04:56:13 UTC - Run Command: sayHello('alice')</p>"
      }
     },
     "0693976f38b240f4a1b1b385a6ff592b": {
      "model_module": "@jupyter-widgets/base",
      "model_module_version": "1.2.0",
      "model_name": "LayoutModel",
      "state": {
       "width": "auto"
      }
     },
     "06b7bd54731e4517bbe9b9f26be8223d": {
      "model_module": "@jupyter-widgets/controls",
      "model_module_version": "1.5.0",
      "model_name": "HTMLModel",
      "state": {
       "layout": "IPY_MODEL_ce23d946c2df4cdcb70239d98270c0d1",
       "style": "IPY_MODEL_5d72e320014241cfa01cc0a10d9f6179",
       "value": "Job 0: Every 1 hour at 00:30:00 do sayHello(name='hourly,30') (last run: 2022-06-26 22:30:00, next run: 2022-06-26 23:30:00)"
      }
     },
     "06d90764d2d5494f81a8b29e1a15f88d": {
      "model_module": "@jupyter-widgets/base",
      "model_module_version": "1.2.0",
      "model_name": "LayoutModel",
      "state": {
       "width": "auto"
      }
     },
     "06f34923b4b64577ab7296c8670878ce": {
      "model_module": "@jupyter-widgets/controls",
      "model_module_version": "1.5.0",
      "model_name": "HBoxModel",
      "state": {
       "children": [
        "IPY_MODEL_e86f0ee96562480a83e3fe724266c296",
        "IPY_MODEL_546a4b6b589d4c55b291bb8d2423bcdd",
        "IPY_MODEL_fbdeee3102224b139838ad27583cc8d5",
        "IPY_MODEL_a175a57c8f3f42d691ea505455eadf6d"
       ],
       "layout": "IPY_MODEL_16d4100290e14c05be9dcd67410699e0"
      }
     },
     "06f6da94d28b4314ad35fd1e2ea6ffcb": {
      "model_module": "@jupyter-widgets/base",
      "model_module_version": "1.2.0",
      "model_name": "LayoutModel",
      "state": {
       "width": "auto"
      }
     },
     "072e77ff908544c49501ebda19145242": {
      "model_module": "@jupyter-widgets/base",
      "model_module_version": "1.2.0",
      "model_name": "LayoutModel",
      "state": {}
     },
     "073056baeed0433b8787ea84178cce21": {
      "model_module": "@jupyter-widgets/controls",
      "model_module_version": "1.5.0",
      "model_name": "DescriptionStyleModel",
      "state": {
       "description_width": ""
      }
     },
     "075347c9a8ff4b75bfbe0fcfd3a588b7": {
      "model_module": "@jupyter-widgets/controls",
      "model_module_version": "1.5.0",
      "model_name": "DescriptionStyleModel",
      "state": {
       "description_width": ""
      }
     },
     "07637581c270448cbaf4f087688091d9": {
      "model_module": "@jupyter-widgets/controls",
      "model_module_version": "1.5.0",
      "model_name": "DescriptionStyleModel",
      "state": {
       "description_width": ""
      }
     },
     "0771f78e06c443f29d0af0a5639cc7af": {
      "model_module": "@jupyter-widgets/controls",
      "model_module_version": "1.5.0",
      "model_name": "DescriptionStyleModel",
      "state": {
       "description_width": ""
      }
     },
     "0786edae74c54b4894232df3368e20b3": {
      "model_module": "@jupyter-widgets/base",
      "model_module_version": "1.2.0",
      "model_name": "LayoutModel",
      "state": {}
     },
     "078ac0b5239c4e3e8439c79d405e91d5": {
      "model_module": "@jupyter-widgets/controls",
      "model_module_version": "1.5.0",
      "model_name": "VBoxModel",
      "state": {
       "children": [
        "IPY_MODEL_caefd2791c064bbc87d872e71f001eb4",
        "IPY_MODEL_37ae7994a421452faa0e6fa772c69e5a"
       ],
       "layout": "IPY_MODEL_957ace2c96344f328e88cde3bd448b0e"
      }
     },
     "08147a4e5f184c63939fb3388e897fee": {
      "model_module": "@jupyter-widgets/controls",
      "model_module_version": "1.5.0",
      "model_name": "ButtonStyleModel",
      "state": {}
     },
     "081a49ae32e14b4f8ddf0a9bd11ad627": {
      "model_module": "@jupyter-widgets/controls",
      "model_module_version": "1.5.0",
      "model_name": "ButtonStyleModel",
      "state": {}
     },
     "0823126112d249788ace7d0162307ab0": {
      "model_module": "@jupyter-widgets/controls",
      "model_module_version": "1.5.0",
      "model_name": "DescriptionStyleModel",
      "state": {
       "description_width": ""
      }
     },
     "082bf449499244ce9960c2f6ef49196e": {
      "model_module": "@jupyter-widgets/controls",
      "model_module_version": "1.5.0",
      "model_name": "HBoxModel",
      "state": {
       "children": [
        "IPY_MODEL_f428f9d8ef9b410cbaf3f0fe75adaf2f",
        "IPY_MODEL_bf90d77dddfe464dbf84b894e1219d48"
       ],
       "layout": "IPY_MODEL_1e2d9fc3e56146759d3e598f24f4a43b"
      }
     },
     "08b4ef4a73c247edb484173fa27edc71": {
      "model_module": "@jupyter-widgets/controls",
      "model_module_version": "1.5.0",
      "model_name": "ButtonModel",
      "state": {
       "button_style": "success",
       "description": "Send Command",
       "layout": "IPY_MODEL_4a9ef4b4505b480c9509f70429442a1e",
       "style": "IPY_MODEL_82b7efeb419a4c3b8d287afdfe0db3f8"
      }
     },
     "08bcff720855436cb7a9c39824c809b4": {
      "model_module": "@jupyter-widgets/controls",
      "model_module_version": "1.5.0",
      "model_name": "ButtonModel",
      "state": {
       "button_style": "warning",
       "description": "Change Status",
       "layout": "IPY_MODEL_3fa4524b1ed64716b433c28653e1cc7d",
       "style": "IPY_MODEL_3d8d259f9b1342ef983204b8efb70674"
      }
     },
     "0902accdf0b5450cb7040715dd727640": {
      "model_module": "@jupyter-widgets/base",
      "model_module_version": "1.2.0",
      "model_name": "LayoutModel",
      "state": {}
     },
     "090f20037b844be58b90705c93a49277": {
      "model_module": "@jupyter-widgets/base",
      "model_module_version": "1.2.0",
      "model_name": "LayoutModel",
      "state": {}
     },
     "0910a9979ed64aa3992c64e3bf91cbd6": {
      "model_module": "@jupyter-widgets/controls",
      "model_module_version": "1.5.0",
      "model_name": "ButtonModel",
      "state": {
       "button_style": "success",
       "description": "Change Status",
       "layout": "IPY_MODEL_7fab123f7e264a9ab3d8f214e41606a0",
       "style": "IPY_MODEL_90c9289713994801986b55e512f14372"
      }
     },
     "093d41bf41544fa7b11847e982a1ddba": {
      "model_module": "@jupyter-widgets/base",
      "model_module_version": "1.2.0",
      "model_name": "LayoutModel",
      "state": {}
     },
     "0940f015e2f14bd9805d38918283e3cb": {
      "model_module": "@jupyter-widgets/controls",
      "model_module_version": "1.5.0",
      "model_name": "ButtonModel",
      "state": {
       "button_style": "warning",
       "description": "Change Status",
       "layout": "IPY_MODEL_b3d638adb8d14a15b1655aa5c1306a51",
       "style": "IPY_MODEL_26b3a597f22942059758818835e7714c"
      }
     },
     "095bd5ad311c43afa237af9b184a95a2": {
      "model_module": "@jupyter-widgets/base",
      "model_module_version": "1.2.0",
      "model_name": "LayoutModel",
      "state": {}
     },
     "09634e15737540afa02198ac80db909a": {
      "model_module": "@jupyter-widgets/controls",
      "model_module_version": "1.5.0",
      "model_name": "ButtonStyleModel",
      "state": {}
     },
     "09e0307c0cab46159277a59e3f5eaeef": {
      "model_module": "@jupyter-widgets/controls",
      "model_module_version": "1.5.0",
      "model_name": "VBoxModel",
      "state": {
       "children": [
        "IPY_MODEL_7e4d277e16c745298103c5b0a369daab",
        "IPY_MODEL_8892033414614f3f89d2a90233a548ee"
       ],
       "layout": "IPY_MODEL_78e7184822e548d08d8e41a1476c8b21"
      }
     },
     "0a0841a857204d719ca397603a2f2c72": {
      "model_module": "@jupyter-widgets/base",
      "model_module_version": "1.2.0",
      "model_name": "LayoutModel",
      "state": {
       "margin": "2px 50px 0 0",
       "width": "auto"
      }
     },
     "0a2cba869b074ddeaffd777b7af4ce04": {
      "model_module": "@jupyter-widgets/controls",
      "model_module_version": "1.5.0",
      "model_name": "ButtonStyleModel",
      "state": {}
     },
     "0a4ec095a4324bf9b438e7de51e011ec": {
      "model_module": "@jupyter-widgets/base",
      "model_module_version": "1.2.0",
      "model_name": "LayoutModel",
      "state": {
       "width": "auto"
      }
     },
     "0a6357f3246d47dea1acc00d4da5b5f1": {
      "model_module": "@jupyter-widgets/base",
      "model_module_version": "1.2.0",
      "model_name": "LayoutModel",
      "state": {}
     },
     "0a8f1a9f4ec74c6ea33cd0b58fbeeeb7": {
      "model_module": "@jupyter-widgets/base",
      "model_module_version": "1.2.0",
      "model_name": "LayoutModel",
      "state": {}
     },
     "0a9957e82b914029b51bdbf112c474d6": {
      "model_module": "@jupyter-widgets/controls",
      "model_module_version": "1.5.0",
      "model_name": "ButtonStyleModel",
      "state": {}
     },
     "0b990d52a0274a21a0d0f4605e202dcd": {
      "model_module": "@jupyter-widgets/controls",
      "model_module_version": "1.5.0",
      "model_name": "ButtonModel",
      "state": {
       "button_style": "success",
       "description": "Draw",
       "layout": "IPY_MODEL_5ab9f7d186e14593924571faa5a4ee24",
       "style": "IPY_MODEL_fccf2c31f671464da03a254ce19ba2fd"
      }
     },
     "0bc24f0a3b17479f89fd256bd76fd08d": {
      "model_module": "@jupyter-widgets/base",
      "model_module_version": "1.2.0",
      "model_name": "LayoutModel",
      "state": {
       "margin": "2px 20px 0 0",
       "width": "auto"
      }
     },
     "0bc58689f23f470bb64d8873dec3a50e": {
      "model_module": "@jupyter-widgets/controls",
      "model_module_version": "1.5.0",
      "model_name": "HTMLModel",
      "state": {
       "layout": "IPY_MODEL_fad21a7ab73a4840a306b2f16ce348f5",
       "style": "IPY_MODEL_d3b358a0755446a88987be5d16b64e11",
       "value": "<p>2022-06-27 04:58:21 UTC - Run Command: schedule.every().hour.at(\":30\").do(sayHello, name='hourly,30')</p>"
      }
     },
     "0c18e299f24048d89098c3ee6a3dca2f": {
      "model_module": "@jupyter-widgets/controls",
      "model_module_version": "1.5.0",
      "model_name": "HBoxModel",
      "state": {
       "children": [
        "IPY_MODEL_9dbcebc4faa4429795387871d3165f0c",
        "IPY_MODEL_4a94782c1764454c9452b3ab81e7c582"
       ],
       "layout": "IPY_MODEL_434d391db03740e9a4c8400fe26024cb"
      }
     },
     "0c43576ea5924d3bae8420d631180f27": {
      "model_module": "@jupyter-widgets/base",
      "model_module_version": "1.2.0",
      "model_name": "LayoutModel",
      "state": {
       "width": "750px"
      }
     },
     "0c5005e60da240218e04ff26046785df": {
      "model_module": "@jupyter-widgets/base",
      "model_module_version": "1.2.0",
      "model_name": "LayoutModel",
      "state": {
       "width": "auto"
      }
     },
     "0c5092585936468d8a8c0dabe8e23586": {
      "model_module": "@jupyter-widgets/controls",
      "model_module_version": "1.5.0",
      "model_name": "HTMLModel",
      "state": {
       "layout": "IPY_MODEL_19d0307a40254ef7a31f4ced6d5eaa6d",
       "style": "IPY_MODEL_1400a0ef81364a968c3bb17fa9f22a0f",
       "value": "<h4>Command sent to flow_1</h4>"
      }
     },
     "0c659ee8b6ed47c1a039beff9301b79b": {
      "model_module": "@jupyter-widgets/base",
      "model_module_version": "1.2.0",
      "model_name": "LayoutModel",
      "state": {}
     },
     "0c9afedfb09a43c2801b105fee92a771": {
      "model_module": "@jupyter-widgets/controls",
      "model_module_version": "1.5.0",
      "model_name": "HBoxModel",
      "state": {
       "children": [
        "IPY_MODEL_b7cafa46b85947739d5ffb34c2c3103a",
        "IPY_MODEL_c5caeed772564a03abe7142e283ec32c"
       ],
       "layout": "IPY_MODEL_4753195226df43949c996863c84fa8b1"
      }
     },
     "0cb1541a201c4ab297e41e04f57fee0f": {
      "model_module": "@jupyter-widgets/base",
      "model_module_version": "1.2.0",
      "model_name": "LayoutModel",
      "state": {
       "width": "auto"
      }
     },
     "0cca52a9ba0f4548a8bf3ac769c1f229": {
      "model_module": "@jupyter-widgets/controls",
      "model_module_version": "1.5.0",
      "model_name": "ButtonModel",
      "state": {
       "button_style": "warning",
       "description": "Pause",
       "layout": "IPY_MODEL_c66ca24aa70844269472cc850dc2465a",
       "style": "IPY_MODEL_f020f77728ca415ea2f65f722f558072"
      }
     },
     "0cd9e04361314ce892c83eedb3fe4aa7": {
      "model_module": "@jupyter-widgets/controls",
      "model_module_version": "1.5.0",
      "model_name": "ButtonModel",
      "state": {
       "button_style": "success",
       "description": "Run",
       "layout": "IPY_MODEL_39fdd7ed3f4049dd8a5775acc3389aad",
       "style": "IPY_MODEL_eed4b18ee2a44ddabad49f2a33a7b8af"
      }
     },
     "0ceea95a96184b12aef57f41a52b3cc5": {
      "model_module": "@jupyter-widgets/base",
      "model_module_version": "1.2.0",
      "model_name": "LayoutModel",
      "state": {}
     },
     "0d1a6bf0370244e3bac310af38d8f463": {
      "model_module": "@jupyter-widgets/controls",
      "model_module_version": "1.5.0",
      "model_name": "ButtonModel",
      "state": {
       "button_style": "danger",
       "description": "Shutdown",
       "layout": "IPY_MODEL_3f993ed6904041acacaac5cd410c5534",
       "style": "IPY_MODEL_de97500917ab40d1a92055380ded6fa0"
      }
     },
     "0d24c4b960dd45d980cc73989f0be7c0": {
      "model_module": "@jupyter-widgets/base",
      "model_module_version": "1.2.0",
      "model_name": "LayoutModel",
      "state": {}
     },
     "0d392bda950c4c90aed75f8f801d8fb1": {
      "model_module": "@jupyter-widgets/controls",
      "model_module_version": "1.5.0",
      "model_name": "ButtonStyleModel",
      "state": {}
     },
     "0d5534a8c6a34de2ad87bdebb02c786f": {
      "model_module": "@jupyter-widgets/controls",
      "model_module_version": "1.5.0",
      "model_name": "ButtonStyleModel",
      "state": {}
     },
     "0d831c26f4c6499f823d4637d2ef34c8": {
      "model_module": "@jupyter-widgets/base",
      "model_module_version": "1.2.0",
      "model_name": "LayoutModel",
      "state": {}
     },
     "0d8fc897d8624a62a3a92c9ed53a1955": {
      "model_module": "@jupyter-widgets/base",
      "model_module_version": "1.2.0",
      "model_name": "LayoutModel",
      "state": {
       "width": "auto"
      }
     },
     "0dafc4d8fdbd483784265e89fa6b9157": {
      "model_module": "@jupyter-widgets/controls",
      "model_module_version": "1.5.0",
      "model_name": "ButtonModel",
      "state": {
       "button_style": "success",
       "description": "Select",
       "layout": "IPY_MODEL_539d7e66b92241ee83a4f8b42e97e39d",
       "style": "IPY_MODEL_749f27e96a88409291a6a57c99d5ab82"
      }
     },
     "0e16ac396c7545b487a966bc4f2c2c89": {
      "model_module": "@jupyter-widgets/controls",
      "model_module_version": "1.5.0",
      "model_name": "ButtonModel",
      "state": {
       "button_style": "warning",
       "description": "Send Command",
       "layout": "IPY_MODEL_19661c3cd02e4af7a200fc9342e5b6ad",
       "style": "IPY_MODEL_2b2b2751d174421a94a56bc5f4c21827"
      }
     },
     "0e1c59b6b2064425a106a4043e8b5d7e": {
      "model_module": "@jupyter-widgets/controls",
      "model_module_version": "1.5.0",
      "model_name": "DescriptionStyleModel",
      "state": {
       "description_width": ""
      }
     },
     "0e2ab159eabb4d47905b7526fe004296": {
      "model_module": "@jupyter-widgets/base",
      "model_module_version": "1.2.0",
      "model_name": "LayoutModel",
      "state": {
       "width": "auto"
      }
     },
     "0e814eaad9a94f82989d6f1877322393": {
      "model_module": "@jupyter-widgets/controls",
      "model_module_version": "1.5.0",
      "model_name": "DescriptionStyleModel",
      "state": {
       "description_width": ""
      }
     },
     "0e9b7767cec84f9f8821bdeb2e015622": {
      "model_module": "@jupyter-widgets/controls",
      "model_module_version": "1.5.0",
      "model_name": "HBoxModel",
      "state": {
       "children": [
        "IPY_MODEL_cc705c85e614478c8cc56ce42a8eca06",
        "IPY_MODEL_cc705c85e614478c8cc56ce42a8eca06"
       ],
       "layout": "IPY_MODEL_bc54d14b5a124306beeec80bd6b9f2e6"
      }
     },
     "0ed3935f54194ef1a9e9e9508e34bb98": {
      "model_module": "@jupyter-widgets/controls",
      "model_module_version": "1.5.0",
      "model_name": "HTMLModel",
      "state": {
       "layout": "IPY_MODEL_70a0e33c7bf146cf9733c0b41dd1add3",
       "style": "IPY_MODEL_1dc04ef41b0c4fa8a317f225f4fbb361",
       "value": "<h3>Select Device to Control</h3><p>Type the name of the device you wish to controle. Example: <code>flow_1</code></p>"
      }
     },
     "0ee361650a4241f594ac96b9ece23052": {
      "model_module": "@jupyter-widgets/controls",
      "model_module_version": "1.5.0",
      "model_name": "ButtonStyleModel",
      "state": {}
     },
     "0eef46d9133e41458f058f99530610b6": {
      "model_module": "@jupyter-widgets/base",
      "model_module_version": "1.2.0",
      "model_name": "LayoutModel",
      "state": {}
     },
     "0f5716dd2d544afaa5285b6580c55793": {
      "model_module": "@jupyter-widgets/controls",
      "model_module_version": "1.5.0",
      "model_name": "ButtonModel",
      "state": {
       "button_style": "success",
       "description": "Select",
       "layout": "IPY_MODEL_852fc91a4e8241c1a0409280c668c9da",
       "style": "IPY_MODEL_02d5c003abc44c8badbb7761e4b037fc"
      }
     },
     "0f804135bbce46e38997a9f6f560b70e": {
      "model_module": "@jupyter-widgets/controls",
      "model_module_version": "1.5.0",
      "model_name": "HBoxModel",
      "state": {
       "children": [
        "IPY_MODEL_4084a5e758404a3fb4cc589392a44a88",
        "IPY_MODEL_4b94ab833206490e9e703cd2378c3733"
       ],
       "layout": "IPY_MODEL_ed03e519661e424e953bef0a1aed3f50"
      }
     },
     "0faca5961c2e4d0d9fc8ad02f7658f0f": {
      "model_module": "@jupyter-widgets/controls",
      "model_module_version": "1.5.0",
      "model_name": "DescriptionStyleModel",
      "state": {
       "description_width": ""
      }
     },
     "0fda38fab4234dcab3c88c8fc07cf563": {
      "model_module": "@jupyter-widgets/base",
      "model_module_version": "1.2.0",
      "model_name": "LayoutModel",
      "state": {
       "width": "auto"
      }
     },
     "0fefacd1542d409da2af69af5fe8f927": {
      "model_module": "@jupyter-widgets/controls",
      "model_module_version": "1.5.0",
      "model_name": "ButtonModel",
      "state": {
       "button_style": "success",
       "description": "Select",
       "layout": "IPY_MODEL_5aff2ed365584a24a0362548c53a524d",
       "style": "IPY_MODEL_e4dd99e6d52c44dbaa10593bc3d29942"
      }
     },
     "10494b791e75490d8cd6644cd61c238c": {
      "model_module": "@jupyter-widgets/controls",
      "model_module_version": "1.5.0",
      "model_name": "ButtonStyleModel",
      "state": {}
     },
     "1077ea6ce4e1465991c7b57c19067de1": {
      "model_module": "@jupyter-widgets/controls",
      "model_module_version": "1.5.0",
      "model_name": "DescriptionStyleModel",
      "state": {
       "description_width": ""
      }
     },
     "10924d0dedba4b48b5001dee9f2e68f6": {
      "model_module": "@jupyter-widgets/controls",
      "model_module_version": "1.5.0",
      "model_name": "ButtonModel",
      "state": {
       "button_style": "success",
       "description": "Select",
       "layout": "IPY_MODEL_31a56633c39546599e7331e12ccf1c70",
       "style": "IPY_MODEL_9792cea3503d4634b02251d0cbd1d54f"
      }
     },
     "1098ac6fd80e4f408db211ba9fe230b7": {
      "model_module": "@jupyter-widgets/controls",
      "model_module_version": "1.5.0",
      "model_name": "DescriptionStyleModel",
      "state": {
       "description_width": ""
      }
     },
     "10bddbbe33644e76bca90ae85fd40d31": {
      "model_module": "@jupyter-widgets/controls",
      "model_module_version": "1.5.0",
      "model_name": "DescriptionStyleModel",
      "state": {
       "description_width": ""
      }
     },
     "10d46eab3b4e467ca8a05a757dda8c03": {
      "model_module": "@jupyter-widgets/controls",
      "model_module_version": "1.5.0",
      "model_name": "HTMLModel",
      "state": {
       "layout": "IPY_MODEL_d8293b57c6e3477e8e78a726ddb115a8",
       "style": "IPY_MODEL_f0b7cfd44cf74bff93c1be14711305ec",
       "value": "<p>2022-06-27 06:30:00 UTC - Running job Job(interval=1, unit=hours, do=sayHello, args=(), kwargs={'name': 'hourly,30'})</p>"
      }
     },
     "1127045c59dd4f8a9778f929cfbf5306": {
      "model_module": "@jupyter-widgets/base",
      "model_module_version": "1.2.0",
      "model_name": "LayoutModel",
      "state": {}
     },
     "1127f9b7c03e4f389c7fef07e43d9037": {
      "model_module": "@jupyter-widgets/base",
      "model_module_version": "1.2.0",
      "model_name": "LayoutModel",
      "state": {}
     },
     "114afd39e5b0401cb5c5d1425686d769": {
      "model_module": "@jupyter-widgets/controls",
      "model_module_version": "1.5.0",
      "model_name": "HTMLModel",
      "state": {
       "layout": "IPY_MODEL_841de70c90124448a67f483dee1dc504",
       "style": "IPY_MODEL_366f3305f3644be8beef221dfa9bc157",
       "value": "<h3>Select Device</h3><p>Type the name of the device to see it's history. Example: <code>flow_1</code></p>"
      }
     },
     "117bda7cd44446069f365b06a3807891": {
      "model_module": "@jupyter-widgets/base",
      "model_module_version": "1.2.0",
      "model_name": "LayoutModel",
      "state": {
       "width": "auto"
      }
     },
     "11928f6f796a4b1790a8d83613467b59": {
      "model_module": "@jupyter-widgets/base",
      "model_module_version": "1.2.0",
      "model_name": "LayoutModel",
      "state": {
       "margin": "2px 20px 0 0",
       "width": "auto"
      }
     },
     "11c1c674209d4d49b1afe8f94eae5708": {
      "model_module": "@jupyter-widgets/base",
      "model_module_version": "1.2.0",
      "model_name": "LayoutModel",
      "state": {}
     },
     "12425743abac4959a6b20856286827fa": {
      "model_module": "@jupyter-widgets/base",
      "model_module_version": "1.2.0",
      "model_name": "LayoutModel",
      "state": {
       "width": "auto"
      }
     },
     "12a4f278b450457c90db4f3a57006528": {
      "model_module": "@jupyter-widgets/controls",
      "model_module_version": "1.5.0",
      "model_name": "DescriptionStyleModel",
      "state": {
       "description_width": ""
      }
     },
     "12d47a7b413d4afaba313d2e6c79764f": {
      "model_module": "@jupyter-widgets/base",
      "model_module_version": "1.2.0",
      "model_name": "LayoutModel",
      "state": {}
     },
     "12d55c0cf519442f9dc35e1f076d74ba": {
      "model_module": "@jupyter-widgets/controls",
      "model_module_version": "1.5.0",
      "model_name": "ButtonModel",
      "state": {
       "button_style": "success",
       "description": "Send Command",
       "layout": "IPY_MODEL_d0416956ddb5435eb4efc07e41e3f597",
       "style": "IPY_MODEL_f87c04de95314512afcb5762b5588741"
      }
     },
     "12fc8f6169b24b269fea3eda1da26849": {
      "model_module": "@jupyter-widgets/controls",
      "model_module_version": "1.5.0",
      "model_name": "ButtonModel",
      "state": {
       "button_style": "success",
       "description": "Run",
       "layout": "IPY_MODEL_4949c8959095469081f0aab06251dae3",
       "style": "IPY_MODEL_40394bc9a0f64edc9a8e8d5f4690638d"
      }
     },
     "1322f6830aa14911b5801b0ae16b2c15": {
      "model_module": "@jupyter-widgets/controls",
      "model_module_version": "1.5.0",
      "model_name": "HTMLModel",
      "state": {
       "layout": "IPY_MODEL_0786edae74c54b4894232df3368e20b3",
       "style": "IPY_MODEL_dd01c4039c214d8d94955c5a8d0c3dde",
       "value": "<h4>What do you want to do?</h4><p>You can send a new command to the device or change it's status between running, paused, and shutdown. </p> "
      }
     },
     "133dbfb1a7b048e58fd0846da88e41f0": {
      "model_module": "@jupyter-widgets/controls",
      "model_module_version": "1.5.0",
      "model_name": "DescriptionStyleModel",
      "state": {
       "description_width": ""
      }
     },
     "134865efe5fd467896797433ca2e7e48": {
      "model_module": "@jupyter-widgets/controls",
      "model_module_version": "1.5.0",
      "model_name": "ButtonModel",
      "state": {
       "button_style": "success",
       "description": "Run",
       "layout": "IPY_MODEL_8ae39273a7e541c8a12c556a37074afd",
       "style": "IPY_MODEL_67c4f849f8614c53814b44565cb17276"
      }
     },
     "1376a88f57ce4f18a9a9785340b7be39": {
      "model_module": "@jupyter-widgets/controls",
      "model_module_version": "1.5.0",
      "model_name": "ButtonModel",
      "state": {
       "button_style": "success",
       "description": "Send Command",
       "layout": "IPY_MODEL_a7c3269d47c94dff8efccca6ba4a00cb",
       "style": "IPY_MODEL_554a0432f86c4e1f810e8a4dcbdbab0e"
      }
     },
     "1387cff1a08b44328edd9ca2e814346a": {
      "model_module": "@jupyter-widgets/controls",
      "model_module_version": "1.5.0",
      "model_name": "ButtonStyleModel",
      "state": {}
     },
     "138a4781df9f4e449fb5a6903e43ddbf": {
      "model_module": "@jupyter-widgets/base",
      "model_module_version": "1.2.0",
      "model_name": "LayoutModel",
      "state": {}
     },
     "139912fbce3247288e6d160a53ba0fcf": {
      "model_module": "@jupyter-widgets/controls",
      "model_module_version": "1.5.0",
      "model_name": "ButtonModel",
      "state": {
       "button_style": "primary",
       "description": "Send Command",
       "layout": "IPY_MODEL_565bb3978be141fdb0842fd746637815",
       "style": "IPY_MODEL_d1065f44e8484a8cb02393693c34ad36"
      }
     },
     "13f6f7b083f74f42aa0c1921102bd95d": {
      "model_module": "@jupyter-widgets/base",
      "model_module_version": "1.2.0",
      "model_name": "LayoutModel",
      "state": {}
     },
     "1400a0ef81364a968c3bb17fa9f22a0f": {
      "model_module": "@jupyter-widgets/controls",
      "model_module_version": "1.5.0",
      "model_name": "DescriptionStyleModel",
      "state": {
       "description_width": ""
      }
     },
     "140b9620013f4bd899cd6647247d486d": {
      "model_module": "@jupyter-widgets/base",
      "model_module_version": "1.2.0",
      "model_name": "LayoutModel",
      "state": {}
     },
     "144846d11efd46d0a70883e1b451fae6": {
      "model_module": "@jupyter-widgets/controls",
      "model_module_version": "1.5.0",
      "model_name": "DescriptionStyleModel",
      "state": {
       "description_width": ""
      }
     },
     "14a64e0e452140baa37edb28679ea22f": {
      "model_module": "@jupyter-widgets/controls",
      "model_module_version": "1.5.0",
      "model_name": "DescriptionStyleModel",
      "state": {
       "description_width": ""
      }
     },
     "14c21ba622a045c09227cae9a13248bc": {
      "model_module": "@jupyter-widgets/controls",
      "model_module_version": "1.5.0",
      "model_name": "ButtonStyleModel",
      "state": {}
     },
     "14f00277efe34ac9acc7efc2712100ca": {
      "model_module": "@jupyter-widgets/controls",
      "model_module_version": "1.5.0",
      "model_name": "TextModel",
      "state": {
       "description": "Command",
       "layout": "IPY_MODEL_7e06f7b8d4e44e9392a55083df77df48",
       "style": "IPY_MODEL_80b44ea5edd94ab78256acd4aecb9341"
      }
     },
     "15083b90446342a0893f90643335ca15": {
      "model_module": "@jupyter-widgets/controls",
      "model_module_version": "1.5.0",
      "model_name": "ButtonStyleModel",
      "state": {}
     },
     "156b644e31a54d79bd1d364b7e8fbe5c": {
      "model_module": "@jupyter-widgets/controls",
      "model_module_version": "1.5.0",
      "model_name": "DescriptionStyleModel",
      "state": {
       "description_width": ""
      }
     },
     "1595f0e85acf41ccad2ee917c587bda8": {
      "model_module": "@jupyter-widgets/controls",
      "model_module_version": "1.5.0",
      "model_name": "ButtonStyleModel",
      "state": {}
     },
     "15c7830c2e7748ba9dcf4732eb1fb44b": {
      "model_module": "@jupyter-widgets/base",
      "model_module_version": "1.2.0",
      "model_name": "LayoutModel",
      "state": {
       "margin": "2px 20px 0 0"
      }
     },
     "15cfb75dd6ea4a2bb6d81bff54363ffe": {
      "model_module": "@jupyter-widgets/controls",
      "model_module_version": "1.5.0",
      "model_name": "HTMLModel",
      "state": {
       "layout": "IPY_MODEL_ed410eb292214fd2aedd11b2d2c7a984",
       "style": "IPY_MODEL_6815324ab3f0407cb07a5387be1f1cb5",
       "value": "Job 0: Every 1 hour at 00:00:00 do sayHello(name='hourly,00') (last run: 2022-06-26 23:00:00, next run: 2022-06-27 00:00:00)"
      }
     },
     "15ebcf9db3664e84a5c6187f7c4e2130": {
      "model_module": "@jupyter-widgets/base",
      "model_module_version": "1.2.0",
      "model_name": "LayoutModel",
      "state": {
       "margin": "2px 20px 0 0"
      }
     },
     "169f370d4cfa4017b44e08f7aa786230": {
      "model_module": "@jupyter-widgets/controls",
      "model_module_version": "1.5.0",
      "model_name": "ButtonStyleModel",
      "state": {}
     },
     "16d4100290e14c05be9dcd67410699e0": {
      "model_module": "@jupyter-widgets/base",
      "model_module_version": "1.2.0",
      "model_name": "LayoutModel",
      "state": {}
     },
     "16e3ebbec1bc4d77922c8b122c7f8361": {
      "model_module": "@jupyter-widgets/controls",
      "model_module_version": "1.5.0",
      "model_name": "VBoxModel",
      "state": {
       "children": [
        "IPY_MODEL_8a6978b4f0704e889ecc1d90ef73eb08",
        "IPY_MODEL_67dbebb9fd42418e89466f31f8bd8a1b"
       ],
       "layout": "IPY_MODEL_0c659ee8b6ed47c1a039beff9301b79b"
      }
     },
     "17124944181040b8bbd541dbe2cfa4bc": {
      "model_module": "@jupyter-widgets/controls",
      "model_module_version": "1.5.0",
      "model_name": "HBoxModel",
      "state": {
       "children": [
        "IPY_MODEL_f43e21bbe7da45f9aa08a32eec6f43ee",
        "IPY_MODEL_42c39de3a44042fb9c4989f9c4e787a2"
       ],
       "layout": "IPY_MODEL_b21e483628ea4a0eae44cfb54c86dcc0"
      }
     },
     "17668a4e2127429c8375aa9c798af18e": {
      "model_module": "@jupyter-widgets/base",
      "model_module_version": "1.2.0",
      "model_name": "LayoutModel",
      "state": {}
     },
     "176f3d8991bc4130a3cfec349ade0eec": {
      "model_module": "@jupyter-widgets/controls",
      "model_module_version": "1.5.0",
      "model_name": "ButtonModel",
      "state": {
       "button_style": "success",
       "description": "Select",
       "layout": "IPY_MODEL_a4ef2b74499a4d2f9e4dfcc2072dbc28",
       "style": "IPY_MODEL_081a49ae32e14b4f8ddf0a9bd11ad627"
      }
     },
     "1774a50102a54514a4d90e0dca383ef9": {
      "model_module": "@jupyter-widgets/base",
      "model_module_version": "1.2.0",
      "model_name": "LayoutModel",
      "state": {}
     },
     "177bf9a924534d9aabeb9941907fba7a": {
      "model_module": "@jupyter-widgets/controls",
      "model_module_version": "1.5.0",
      "model_name": "VBoxModel",
      "state": {
       "children": [
        "IPY_MODEL_8e374c50816b4eb0a148c44bb22fc6b1",
        "IPY_MODEL_f5917baa039548409bed575923cd87e4",
        "IPY_MODEL_8752a4dd696549bc99642834965c525f"
       ],
       "layout": "IPY_MODEL_430ebdf8a43b42f58790e94cc28dfc6f"
      }
     },
     "178ab338d72d40de98ab3ed29d9c3ef5": {
      "model_module": "@jupyter-widgets/controls",
      "model_module_version": "1.5.0",
      "model_name": "ButtonModel",
      "state": {
       "button_style": "success",
       "description": "Run",
       "layout": "IPY_MODEL_15c7830c2e7748ba9dcf4732eb1fb44b",
       "style": "IPY_MODEL_c82d9514cc9942f2a7fc2d29d93b38ef"
      }
     },
     "17975c5753674a8995e69d35a0ddf471": {
      "model_module": "@jupyter-widgets/base",
      "model_module_version": "1.2.0",
      "model_name": "LayoutModel",
      "state": {}
     },
     "17b9edbace324e5a9a5a7c23813d7210": {
      "model_module": "@jupyter-widgets/base",
      "model_module_version": "1.2.0",
      "model_name": "LayoutModel",
      "state": {
       "width": "auto"
      }
     },
     "17bb781f5d1c4426bd8c5d74fdf159d5": {
      "model_module": "@jupyter-widgets/controls",
      "model_module_version": "1.5.0",
      "model_name": "ButtonStyleModel",
      "state": {}
     },
     "17caf24b1c2c435188acd8e715563292": {
      "model_module": "@jupyter-widgets/controls",
      "model_module_version": "1.5.0",
      "model_name": "ButtonStyleModel",
      "state": {}
     },
     "181e65871adc4133be9540d59c1cfadb": {
      "model_module": "@jupyter-widgets/base",
      "model_module_version": "1.2.0",
      "model_name": "LayoutModel",
      "state": {}
     },
     "183aec632aec40edba710ee9531e59a8": {
      "model_module": "@jupyter-widgets/controls",
      "model_module_version": "1.5.0",
      "model_name": "HBoxModel",
      "state": {
       "children": [
        "IPY_MODEL_67dd66a28d3a4520b7fe4b56354ddfbf",
        "IPY_MODEL_10924d0dedba4b48b5001dee9f2e68f6"
       ],
       "layout": "IPY_MODEL_d5bee4375c2f4f068513fce2e333ffa9"
      }
     },
     "1870c0432ce846628807761ed0f13d64": {
      "model_module": "@jupyter-widgets/controls",
      "model_module_version": "1.5.0",
      "model_name": "DescriptionStyleModel",
      "state": {
       "description_width": ""
      }
     },
     "188c6414b41d4c1e941af62daacbad74": {
      "model_module": "@jupyter-widgets/base",
      "model_module_version": "1.2.0",
      "model_name": "LayoutModel",
      "state": {}
     },
     "18aad96b9c90495e95bb29269b68356c": {
      "model_module": "@jupyter-widgets/base",
      "model_module_version": "1.2.0",
      "model_name": "LayoutModel",
      "state": {}
     },
     "18d5ba5737bb4d308410f64af647a07e": {
      "model_module": "@jupyter-widgets/base",
      "model_module_version": "1.2.0",
      "model_name": "LayoutModel",
      "state": {}
     },
     "18d870958f5d423cbbdad24499b04fc2": {
      "model_module": "@jupyter-widgets/base",
      "model_module_version": "1.2.0",
      "model_name": "LayoutModel",
      "state": {}
     },
     "18d923c758f94c5cb4ae5ac2faa6640f": {
      "model_module": "@jupyter-widgets/base",
      "model_module_version": "1.2.0",
      "model_name": "LayoutModel",
      "state": {
       "width": "auto"
      }
     },
     "190e96ae1a0a4fc493e5c7af0a0ae9be": {
      "model_module": "@jupyter-widgets/controls",
      "model_module_version": "1.5.0",
      "model_name": "DescriptionStyleModel",
      "state": {
       "description_width": ""
      }
     },
     "19615d0005334b71b6e95e964aa12ba4": {
      "model_module": "@jupyter-widgets/controls",
      "model_module_version": "1.5.0",
      "model_name": "DescriptionStyleModel",
      "state": {
       "description_width": ""
      }
     },
     "19661c3cd02e4af7a200fc9342e5b6ad": {
      "model_module": "@jupyter-widgets/base",
      "model_module_version": "1.2.0",
      "model_name": "LayoutModel",
      "state": {}
     },
     "198d04ce9b474d00909810c1a72cce77": {
      "model_module": "@jupyter-widgets/controls",
      "model_module_version": "1.5.0",
      "model_name": "DescriptionStyleModel",
      "state": {
       "description_width": ""
      }
     },
     "1998076cb27c47b3abc77acb4ea5bcf9": {
      "model_module": "@jupyter-widgets/base",
      "model_module_version": "1.2.0",
      "model_name": "LayoutModel",
      "state": {
       "width": "auto"
      }
     },
     "19d0307a40254ef7a31f4ced6d5eaa6d": {
      "model_module": "@jupyter-widgets/base",
      "model_module_version": "1.2.0",
      "model_name": "LayoutModel",
      "state": {}
     },
     "1a2d00053fd9467ba0787da06e9c5f27": {
      "model_module": "@jupyter-widgets/base",
      "model_module_version": "1.2.0",
      "model_name": "LayoutModel",
      "state": {}
     },
     "1a7231f0e21a436492f736ab32049386": {
      "model_module": "@jupyter-widgets/controls",
      "model_module_version": "1.5.0",
      "model_name": "HBoxModel",
      "state": {
       "children": [
        "IPY_MODEL_9b8c657797024ae19aa944cf659a410e",
        "IPY_MODEL_9dbcebc4faa4429795387871d3165f0c"
       ],
       "layout": "IPY_MODEL_033b8ee7f3444e5db7b9ad02886c111e"
      }
     },
     "1abc3c5bb8d044988bc4ad796d2f98af": {
      "model_module": "@jupyter-widgets/controls",
      "model_module_version": "1.5.0",
      "model_name": "VBoxModel",
      "state": {
       "children": [
        "IPY_MODEL_f3542933b62f466bbbeb8a388c0a69c7",
        "IPY_MODEL_e71df95b291c47889b362879ca82ae91"
       ],
       "layout": "IPY_MODEL_6f08d485b3d240dd831d44bb9ec7efdd"
      }
     },
     "1acaada135a74341971fb108dc1d4357": {
      "model_module": "@jupyter-widgets/base",
      "model_module_version": "1.2.0",
      "model_name": "LayoutModel",
      "state": {
       "width": "auto"
      }
     },
     "1ae490374ab440e8b6e36a5e1eb78a02": {
      "model_module": "@jupyter-widgets/base",
      "model_module_version": "1.2.0",
      "model_name": "LayoutModel",
      "state": {
       "width": "450px"
      }
     },
     "1b12dcb7d3a94f5aa5b3f820584a6229": {
      "model_module": "@jupyter-widgets/base",
      "model_module_version": "1.2.0",
      "model_name": "LayoutModel",
      "state": {
       "margin": "2px 20px 0 0",
       "width": "auto"
      }
     },
     "1b3025fcf2a542888a773f93ede418cd": {
      "model_module": "@jupyter-widgets/controls",
      "model_module_version": "1.5.0",
      "model_name": "DescriptionStyleModel",
      "state": {
       "description_width": ""
      }
     },
     "1b36c71468084557943551a4d6674b39": {
      "model_module": "@jupyter-widgets/base",
      "model_module_version": "1.2.0",
      "model_name": "LayoutModel",
      "state": {}
     },
     "1b8c9d515c7d4ded8e03fca8eda360e0": {
      "model_module": "@jupyter-widgets/base",
      "model_module_version": "1.2.0",
      "model_name": "LayoutModel",
      "state": {}
     },
     "1b9bd31a7c264afda3afebd18351b71d": {
      "model_module": "@jupyter-widgets/base",
      "model_module_version": "1.2.0",
      "model_name": "LayoutModel",
      "state": {}
     },
     "1bbb40e133e847b69e1dd30980ad1520": {
      "model_module": "@jupyter-widgets/base",
      "model_module_version": "1.2.0",
      "model_name": "LayoutModel",
      "state": {
       "margin": "2px 20px 0 0"
      }
     },
     "1bbdc300d4994e7d9299297fe4b7c201": {
      "model_module": "@jupyter-widgets/controls",
      "model_module_version": "1.5.0",
      "model_name": "ButtonModel",
      "state": {
       "button_style": "info",
       "icon": "refresh",
       "layout": "IPY_MODEL_117bda7cd44446069f365b06a3807891",
       "style": "IPY_MODEL_17caf24b1c2c435188acd8e715563292"
      }
     },
     "1bda2a00128040c9bebd7bd6cf2962c9": {
      "model_module": "@jupyter-widgets/controls",
      "model_module_version": "1.5.0",
      "model_name": "ButtonModel",
      "state": {
       "button_style": "warning",
       "description": "Change Status",
       "layout": "IPY_MODEL_2839085d9c5e4e2ba8f5d9543664ee11",
       "style": "IPY_MODEL_85410d205f5c4dcda206f8d6cbf6fa24"
      }
     },
     "1be1155f2f9c4a4db3c5a8353ee8f511": {
      "model_module": "@jupyter-widgets/base",
      "model_module_version": "1.2.0",
      "model_name": "LayoutModel",
      "state": {}
     },
     "1c14e5e4a49d4a38bd08e5557374dee6": {
      "model_module": "@jupyter-widgets/controls",
      "model_module_version": "1.5.0",
      "model_name": "HBoxModel",
      "state": {
       "children": [
        "IPY_MODEL_178ab338d72d40de98ab3ed29d9c3ef5",
        "IPY_MODEL_4f8c34ec8988433e8c02cb00bb6058d9",
        "IPY_MODEL_87e3112e7c2446a88af8076a60391c5a",
        "IPY_MODEL_a175a57c8f3f42d691ea505455eadf6d"
       ],
       "layout": "IPY_MODEL_c6cbb931840d4b2b849a47f608e2601a"
      }
     },
     "1c675ad6fe444b918c45a0fe1edd3df5": {
      "model_module": "@jupyter-widgets/base",
      "model_module_version": "1.2.0",
      "model_name": "LayoutModel",
      "state": {
       "margin": "2px 20px 0 0"
      }
     },
     "1c7430c102bb463989c319579adcbcee": {
      "model_module": "@jupyter-widgets/base",
      "model_module_version": "1.2.0",
      "model_name": "LayoutModel",
      "state": {}
     },
     "1c928660f0b845d994834577785b0e4e": {
      "model_module": "@jupyter-widgets/base",
      "model_module_version": "1.2.0",
      "model_name": "LayoutModel",
      "state": {}
     },
     "1cfef06cf9424bc3895da30557d6e10b": {
      "model_module": "@jupyter-widgets/controls",
      "model_module_version": "1.5.0",
      "model_name": "HTMLModel",
      "state": {
       "layout": "IPY_MODEL_dcc34930476342a7b432096cb787d13a",
       "style": "IPY_MODEL_8fc7f9b31639452097ae811389e1e71c",
       "value": "<h4>Current flow_1 status: <font color='green'>shutdown</font> </h4><p>User the buttons below to change the status</p>"
      }
     },
     "1d01cfdf3dea498e825ce0e555d09890": {
      "model_module": "@jupyter-widgets/base",
      "model_module_version": "1.2.0",
      "model_name": "LayoutModel",
      "state": {}
     },
     "1d24b7c68573465e94a40a9d2e7a3cb3": {
      "model_module": "@jupyter-widgets/controls",
      "model_module_version": "1.5.0",
      "model_name": "ButtonStyleModel",
      "state": {}
     },
     "1d391d5437ee44ae8ff94e01f2ad9882": {
      "model_module": "@jupyter-widgets/controls",
      "model_module_version": "1.5.0",
      "model_name": "ButtonModel",
      "state": {
       "button_style": "warning",
       "description": "Send Command",
       "layout": "IPY_MODEL_f23312338dec42898b14899041770e5c",
       "style": "IPY_MODEL_6b649dadba684b33bcbb693b74a6ccd7"
      }
     },
     "1d463890fe6f4fd897d056ed54d170ff": {
      "model_module": "@jupyter-widgets/base",
      "model_module_version": "1.2.0",
      "model_name": "LayoutModel",
      "state": {}
     },
     "1d9482e34fd04f6c914029e30331c271": {
      "model_module": "@jupyter-widgets/base",
      "model_module_version": "1.2.0",
      "model_name": "LayoutModel",
      "state": {}
     },
     "1db0bf172a98498faee84626e24d82cc": {
      "model_module": "@jupyter-widgets/base",
      "model_module_version": "1.2.0",
      "model_name": "LayoutModel",
      "state": {}
     },
     "1dbe26b69a3141208b7c242cbd50cb61": {
      "model_module": "@jupyter-widgets/controls",
      "model_module_version": "1.5.0",
      "model_name": "HBoxModel",
      "state": {
       "children": [
        "IPY_MODEL_213f3a413945470b995509e5990cb2bd",
        "IPY_MODEL_729933750b1445af94a15d737cedcb24"
       ],
       "layout": "IPY_MODEL_8e2b7505a61b41fb932c22dafedc685a"
      }
     },
     "1dc04ef41b0c4fa8a317f225f4fbb361": {
      "model_module": "@jupyter-widgets/controls",
      "model_module_version": "1.5.0",
      "model_name": "DescriptionStyleModel",
      "state": {
       "description_width": ""
      }
     },
     "1dc2d85ffdcd4428a5173a8461b185f7": {
      "model_module": "@jupyter-widgets/controls",
      "model_module_version": "1.5.0",
      "model_name": "ButtonModel",
      "state": {
       "button_style": "success",
       "description": "Send",
       "layout": "IPY_MODEL_75e37735dfea4958aa0b0a0d74577aa3",
       "style": "IPY_MODEL_bcf4a7b92d2c4476bef29c523c25d31d"
      }
     },
     "1dc8b35ce0374783b2dcab3858fc7180": {
      "model_module": "@jupyter-widgets/controls",
      "model_module_version": "1.5.0",
      "model_name": "VBoxModel",
      "state": {
       "children": [
        "IPY_MODEL_8e1128e1deb54c2084f051516fc1885a",
        "IPY_MODEL_c5f4c60ca5b442d5ac71052f824bf7c3"
       ],
       "layout": "IPY_MODEL_f1ca4d28b7454443867100008a81b95f"
      }
     },
     "1dfc77bf14464350b52b57c8f2005a5e": {
      "model_module": "@jupyter-widgets/controls",
      "model_module_version": "1.5.0",
      "model_name": "ButtonModel",
      "state": {
       "button_style": "info",
       "icon": "refresh",
       "layout": "IPY_MODEL_53c90d7e239c4fce8d886b572711f35a",
       "style": "IPY_MODEL_95af373ccfe44c80861ea78e96164a2e"
      }
     },
     "1e03dc564a6c47d8a46e86a5f3b2b990": {
      "model_module": "@jupyter-widgets/controls",
      "model_module_version": "1.5.0",
      "model_name": "DescriptionStyleModel",
      "state": {
       "description_width": ""
      }
     },
     "1e05904698404cf4843f4376430495b5": {
      "model_module": "@jupyter-widgets/controls",
      "model_module_version": "1.5.0",
      "model_name": "ButtonModel",
      "state": {
       "button_style": "success",
       "description": "Select",
       "layout": "IPY_MODEL_f8992e6531694c4aa99c3ff6ef5bbf1c",
       "style": "IPY_MODEL_3a5daf1a254d4f85a453fc693473ce93"
      }
     },
     "1e2d9fc3e56146759d3e598f24f4a43b": {
      "model_module": "@jupyter-widgets/base",
      "model_module_version": "1.2.0",
      "model_name": "LayoutModel",
      "state": {}
     },
     "1e6b4b90999541d4ad1f1f126e73f37a": {
      "model_module": "@jupyter-widgets/base",
      "model_module_version": "1.2.0",
      "model_name": "LayoutModel",
      "state": {}
     },
     "1eb9fb2ff3c64bbabc6ed828ab4a2a2c": {
      "model_module": "@jupyter-widgets/base",
      "model_module_version": "1.2.0",
      "model_name": "LayoutModel",
      "state": {}
     },
     "1f66567bbe6d46679f37a6858769f670": {
      "model_module": "@jupyter-widgets/controls",
      "model_module_version": "1.5.0",
      "model_name": "DescriptionStyleModel",
      "state": {
       "description_width": ""
      }
     },
     "1f9991359f684bddaed2dce6caa4b5cb": {
      "model_module": "@jupyter-widgets/controls",
      "model_module_version": "1.5.0",
      "model_name": "HBoxModel",
      "state": {
       "children": [
        "IPY_MODEL_fa21c1ed0add41d98c6808d82ce28503",
        "IPY_MODEL_cd958edc1fec42c5bc3109e120416afd"
       ],
       "layout": "IPY_MODEL_c07099820872480fbb855fc9b96f13d3"
      }
     },
     "1fcb3c1821824ca381e6984d8d813404": {
      "model_module": "@jupyter-widgets/controls",
      "model_module_version": "1.5.0",
      "model_name": "ButtonModel",
      "state": {
       "button_style": "warning",
       "description": "Change Status",
       "layout": "IPY_MODEL_733fab2e530f4edc9dd6b1ac3d02a8d4",
       "style": "IPY_MODEL_4ed3fc0c481347cdb763cd34c26709b0"
      }
     },
     "1fd4b1771a9447ee955c1c58d5492e4a": {
      "model_module": "@jupyter-widgets/base",
      "model_module_version": "1.2.0",
      "model_name": "LayoutModel",
      "state": {
       "margin": "2px 20px 0 0"
      }
     },
     "1fda56e50a834f559cb71bb8cb184b7f": {
      "model_module": "@jupyter-widgets/base",
      "model_module_version": "1.2.0",
      "model_name": "LayoutModel",
      "state": {}
     },
     "2027992d7b3248c59bc878242bafe49c": {
      "model_module": "@jupyter-widgets/controls",
      "model_module_version": "1.5.0",
      "model_name": "HBoxModel",
      "state": {
       "children": [
        "IPY_MODEL_735ce1ee93b34d32b22df587e420cbc6",
        "IPY_MODEL_cacf32b6d28d4c50987e5bcb901e4b0f"
       ],
       "layout": "IPY_MODEL_9534c665dc8f4ddd9dd2d3369e625e36"
      }
     },
     "2075c59aab894e0f9f13a1275d6be431": {
      "model_module": "@jupyter-widgets/base",
      "model_module_version": "1.2.0",
      "model_name": "LayoutModel",
      "state": {
       "width": "auto"
      }
     },
     "2104dde163f142ecacbf1a6e3a149def": {
      "model_module": "@jupyter-widgets/base",
      "model_module_version": "1.2.0",
      "model_name": "LayoutModel",
      "state": {
       "width": "auto"
      }
     },
     "21057e20b3594d2a96db999cefc9412a": {
      "model_module": "@jupyter-widgets/controls",
      "model_module_version": "1.5.0",
      "model_name": "ButtonModel",
      "state": {
       "button_style": "success",
       "description": "Select",
       "layout": "IPY_MODEL_0a4ec095a4324bf9b438e7de51e011ec",
       "style": "IPY_MODEL_f61c7a9a4670429b96af0f2c31ecb5d6"
      }
     },
     "213f3a413945470b995509e5990cb2bd": {
      "model_module": "@jupyter-widgets/controls",
      "model_module_version": "1.5.0",
      "model_name": "ButtonModel",
      "state": {
       "button_style": "success",
       "description": "Send Command",
       "layout": "IPY_MODEL_6d66857ac1544352a884c16fbfd9fa48",
       "style": "IPY_MODEL_7a7b07024de24943a0d63fe3c049e52a"
      }
     },
     "215556a7656648cd82518f1d9062c7ff": {
      "model_module": "@jupyter-widgets/base",
      "model_module_version": "1.2.0",
      "model_name": "LayoutModel",
      "state": {
       "margin": "2px 20px 0 0"
      }
     },
     "216cc75361ed4c7f9b54a7ed55fbf830": {
      "model_module": "@jupyter-widgets/controls",
      "model_module_version": "1.5.0",
      "model_name": "DescriptionStyleModel",
      "state": {
       "description_width": ""
      }
     },
     "21919d7ddee94bae91a862a4dc0bcb45": {
      "model_module": "@jupyter-widgets/base",
      "model_module_version": "1.2.0",
      "model_name": "LayoutModel",
      "state": {}
     },
     "2195a827e3124c58a22bd38d04ae3c56": {
      "model_module": "@jupyter-widgets/base",
      "model_module_version": "1.2.0",
      "model_name": "LayoutModel",
      "state": {}
     },
     "21b8e56b95d24ca89949b1533273646e": {
      "model_module": "@jupyter-widgets/controls",
      "model_module_version": "1.5.0",
      "model_name": "DescriptionStyleModel",
      "state": {
       "description_width": ""
      }
     },
     "21e9d15b0ec0424bbaa9ffb39518c553": {
      "model_module": "@jupyter-widgets/controls",
      "model_module_version": "1.5.0",
      "model_name": "ButtonStyleModel",
      "state": {}
     },
     "2212d0bad1434215aadf65772f25bd18": {
      "model_module": "@jupyter-widgets/base",
      "model_module_version": "1.2.0",
      "model_name": "LayoutModel",
      "state": {
       "width": "auto"
      }
     },
     "22259f215392449b9c5ac97db03a1dd2": {
      "model_module": "@jupyter-widgets/base",
      "model_module_version": "1.2.0",
      "model_name": "LayoutModel",
      "state": {
       "width": "700px"
      }
     },
     "22715fbd71c94eea9a2f011ab2c0a031": {
      "model_module": "@jupyter-widgets/base",
      "model_module_version": "1.2.0",
      "model_name": "LayoutModel",
      "state": {}
     },
     "228d4d1063dc4e8c8bc4ede69ecee08b": {
      "model_module": "@jupyter-widgets/base",
      "model_module_version": "1.2.0",
      "model_name": "LayoutModel",
      "state": {}
     },
     "23a6ba5684f44ce9b803132956d208b9": {
      "model_module": "@jupyter-widgets/controls",
      "model_module_version": "1.5.0",
      "model_name": "DescriptionStyleModel",
      "state": {
       "description_width": ""
      }
     },
     "23de640d333c4c44bf6d09a06ba64fb9": {
      "model_module": "@jupyter-widgets/controls",
      "model_module_version": "1.5.0",
      "model_name": "TextModel",
      "state": {
       "description": "Command",
       "layout": "IPY_MODEL_3279a84d86214112bba516702b318a5b",
       "style": "IPY_MODEL_216cc75361ed4c7f9b54a7ed55fbf830",
       "value": "Schedule.every().minute.do( hello, name=\"are you there\")"
      }
     },
     "241eb95ef41f4d4dab21627732b680d7": {
      "model_module": "@jupyter-widgets/controls",
      "model_module_version": "1.5.0",
      "model_name": "VBoxModel",
      "state": {
       "children": [
        "IPY_MODEL_99aa9bf60921426e9b7ab6680ac87d02",
        "IPY_MODEL_34d7208259e84e1d819c513170c251da"
       ],
       "layout": "IPY_MODEL_1c928660f0b845d994834577785b0e4e"
      }
     },
     "248ef38f51314c5c931769e8d5ce1395": {
      "model_module": "@jupyter-widgets/controls",
      "model_module_version": "1.5.0",
      "model_name": "ButtonStyleModel",
      "state": {}
     },
     "24a6f32f61304396a04523dc27052da4": {
      "model_module": "@jupyter-widgets/controls",
      "model_module_version": "1.5.0",
      "model_name": "HBoxModel",
      "state": {
       "children": [
        "IPY_MODEL_283495583b7449c0b4c587524a9f1629",
        "IPY_MODEL_db6b237a33be4e8494c2099800f4b00b"
       ],
       "layout": "IPY_MODEL_000ac71689b442b6b865bfd7be3e3c8a"
      }
     },
     "24aa0a4391564daaaa3850398debfbbc": {
      "model_module": "@jupyter-widgets/controls",
      "model_module_version": "1.5.0",
      "model_name": "DescriptionStyleModel",
      "state": {
       "description_width": ""
      }
     },
     "24bae179b03349fe89303f7629ab957a": {
      "model_module": "@jupyter-widgets/controls",
      "model_module_version": "1.5.0",
      "model_name": "ButtonStyleModel",
      "state": {}
     },
     "24cc846300f540c39b45c26817baadd2": {
      "model_module": "@jupyter-widgets/base",
      "model_module_version": "1.2.0",
      "model_name": "LayoutModel",
      "state": {}
     },
     "2517a951e6e24c1dbc4ab3ebb4cbb2dc": {
      "model_module": "@jupyter-widgets/controls",
      "model_module_version": "1.5.0",
      "model_name": "ButtonStyleModel",
      "state": {}
     },
     "253579949ce44008a7ee8c27b16c3645": {
      "model_module": "@jupyter-widgets/controls",
      "model_module_version": "1.5.0",
      "model_name": "VBoxModel",
      "state": {
       "children": [
        "IPY_MODEL_2ae8d09dbb794375954564494e82ea1e",
        "IPY_MODEL_ae84628b81f14fc3ad9bb5df0ecee3fc"
       ],
       "layout": "IPY_MODEL_5411593d312a408ab46b90000c692c36"
      }
     },
     "2540b2f3eb7449c1810ca9b0e3859731": {
      "model_module": "@jupyter-widgets/controls",
      "model_module_version": "1.5.0",
      "model_name": "HBoxModel",
      "state": {
       "children": [
        "IPY_MODEL_8108dd05add947b78ef08e0a93e42490",
        "IPY_MODEL_32c9048f8408491f84986675dc37eb90"
       ],
       "layout": "IPY_MODEL_dd27f1d4901a4188b79f3a4c10ecf562"
      }
     },
     "2545ba1b931240d4991aec984dd0ba5e": {
      "model_module": "@jupyter-widgets/controls",
      "model_module_version": "1.5.0",
      "model_name": "DescriptionStyleModel",
      "state": {
       "description_width": ""
      }
     },
     "2588771ad0e7461b932b61d5e114bf5b": {
      "model_module": "@jupyter-widgets/base",
      "model_module_version": "1.2.0",
      "model_name": "LayoutModel",
      "state": {}
     },
     "25a75fda793845fdb21950530fcf1e01": {
      "model_module": "@jupyter-widgets/base",
      "model_module_version": "1.2.0",
      "model_name": "LayoutModel",
      "state": {
       "width": "auto"
      }
     },
     "25b70391fec045b68f9ded54abc18bf2": {
      "model_module": "@jupyter-widgets/controls",
      "model_module_version": "1.5.0",
      "model_name": "ButtonStyleModel",
      "state": {}
     },
     "25d99d8ba5cf447ab491813950904326": {
      "model_module": "@jupyter-widgets/base",
      "model_module_version": "1.2.0",
      "model_name": "LayoutModel",
      "state": {
       "width": "750px"
      }
     },
     "261b8f6ed3eb475d83bd09900731e907": {
      "model_module": "@jupyter-widgets/base",
      "model_module_version": "1.2.0",
      "model_name": "LayoutModel",
      "state": {
       "width": "auto"
      }
     },
     "265282e84ce84dca943533e8e5a6838b": {
      "model_module": "@jupyter-widgets/controls",
      "model_module_version": "1.5.0",
      "model_name": "VBoxModel",
      "state": {
       "children": [
        "IPY_MODEL_1a7231f0e21a436492f736ab32049386",
        "IPY_MODEL_03de57b60bcf40f7958cbc0899bbcbf4"
       ],
       "layout": "IPY_MODEL_27bcfa37c87443d7baa4afbfc6b613f6"
      }
     },
     "26b3a597f22942059758818835e7714c": {
      "model_module": "@jupyter-widgets/controls",
      "model_module_version": "1.5.0",
      "model_name": "ButtonStyleModel",
      "state": {}
     },
     "2752a0a28528495f85645d420c63a1ef": {
      "model_module": "@jupyter-widgets/controls",
      "model_module_version": "1.5.0",
      "model_name": "ButtonStyleModel",
      "state": {}
     },
     "276cd3ab43074d9892d521bd16edcd1f": {
      "model_module": "@jupyter-widgets/base",
      "model_module_version": "1.2.0",
      "model_name": "LayoutModel",
      "state": {
       "width": "auto"
      }
     },
     "277d5bc33ef34e83aab994167003bbd6": {
      "model_module": "@jupyter-widgets/controls",
      "model_module_version": "1.5.0",
      "model_name": "HTMLModel",
      "state": {
       "layout": "IPY_MODEL_2195a827e3124c58a22bd38d04ae3c56",
       "style": "IPY_MODEL_87ef08fdff104988833cb27a4f5a1990",
       "value": "<h4>What do you want to do?</h4><p>You can send a new command to the device or change it's status between running, paused, and shutdown. </p> "
      }
     },
     "2797c9007b4e4ac89e4ebec2e65626d6": {
      "model_module": "@jupyter-widgets/controls",
      "model_module_version": "1.5.0",
      "model_name": "ButtonStyleModel",
      "state": {}
     },
     "27b23e5c52db4c2b9cc9364770d57fc3": {
      "model_module": "@jupyter-widgets/controls",
      "model_module_version": "1.5.0",
      "model_name": "ButtonModel",
      "state": {
       "button_style": "info",
       "icon": "refresh",
       "layout": "IPY_MODEL_53dd5b7779eb46a588f3c7540dab80eb",
       "style": "IPY_MODEL_3acb830f20fd44f7ba70a6430b3a73c9"
      }
     },
     "27bcfa37c87443d7baa4afbfc6b613f6": {
      "model_module": "@jupyter-widgets/base",
      "model_module_version": "1.2.0",
      "model_name": "LayoutModel",
      "state": {}
     },
     "27e21ec2b49f45e7b4826a1816b08cf2": {
      "model_module": "@jupyter-widgets/controls",
      "model_module_version": "1.5.0",
      "model_name": "HBoxModel",
      "state": {
       "children": [
        "IPY_MODEL_6216339cdbb44bb5beb6ea6a673ceaef",
        "IPY_MODEL_7442eba951bc4327b90edf952b69a6a1"
       ],
       "layout": "IPY_MODEL_a161e8f552c94a8a9705f19ece47aaed"
      }
     },
     "27e2d611e02e4b4fbeddc769e125c55e": {
      "model_module": "@jupyter-widgets/controls",
      "model_module_version": "1.5.0",
      "model_name": "ButtonModel",
      "state": {
       "button_style": "success",
       "description": "Select",
       "layout": "IPY_MODEL_d1bdb3d3f5ed41bdaf6513852c89c8f7",
       "style": "IPY_MODEL_e19c97cf5c5f4f9e823c99a44b783960"
      }
     },
     "283495583b7449c0b4c587524a9f1629": {
      "model_module": "@jupyter-widgets/controls",
      "model_module_version": "1.5.0",
      "model_name": "ButtonModel",
      "state": {
       "button_style": "success",
       "description": "Send Command",
       "layout": "IPY_MODEL_d32d482961e047469d4fcedc1e09a67b",
       "style": "IPY_MODEL_5fea2d6dd77c4eb091379e188a269d6d"
      }
     },
     "2839085d9c5e4e2ba8f5d9543664ee11": {
      "model_module": "@jupyter-widgets/base",
      "model_module_version": "1.2.0",
      "model_name": "LayoutModel",
      "state": {
       "margin": "2px 20px 0 0",
       "width": "auto"
      }
     },
     "283f38dad7814362b1cfdaafa6190375": {
      "model_module": "@jupyter-widgets/base",
      "model_module_version": "1.2.0",
      "model_name": "LayoutModel",
      "state": {}
     },
     "2841e42bc5d24741a35b685258e39ee7": {
      "model_module": "@jupyter-widgets/controls",
      "model_module_version": "1.5.0",
      "model_name": "HTMLModel",
      "state": {
       "layout": "IPY_MODEL_18d5ba5737bb4d308410f64af647a07e",
       "style": "IPY_MODEL_ae11b95026b84ee68bc8ae990b9fd58f",
       "value": "<p>2022-06-27 05:00:00 UTC - Running job Job(interval=1, unit=hours, do=sayHello, args=(), kwargs={'name': 'hourly,00'})</p>"
      }
     },
     "286197c7788f47748733d6e9a8f0d9e2": {
      "model_module": "@jupyter-widgets/controls",
      "model_module_version": "1.5.0",
      "model_name": "ButtonStyleModel",
      "state": {}
     },
     "288fdf3d148140269c710c121207e879": {
      "model_module": "@jupyter-widgets/controls",
      "model_module_version": "1.5.0",
      "model_name": "HTMLModel",
      "state": {
       "layout": "IPY_MODEL_c8e38e03314041cab956f4ad895da917",
       "style": "IPY_MODEL_e662402c560a4bc9805239573008551f",
       "value": "<h4>What do you want to do?</h4>"
      }
     },
     "2895215d851a49c0a758f6cdb09af6c6": {
      "model_module": "@jupyter-widgets/controls",
      "model_module_version": "1.5.0",
      "model_name": "HBoxModel",
      "state": {
       "children": [
        "IPY_MODEL_539a265f172341fc9f6a1153e5a6b810",
        "IPY_MODEL_d4bb9757a0b04efa9aedc82de3809e33"
       ],
       "layout": "IPY_MODEL_e24186d383a942b9a0f42ce2af6e1eb7"
      }
     },
     "289913557e1240049904a64c400b12ea": {
      "model_module": "@jupyter-widgets/base",
      "model_module_version": "1.2.0",
      "model_name": "LayoutModel",
      "state": {}
     },
     "28e0e9ee7f274796906fd8f02c0495a6": {
      "model_module": "@jupyter-widgets/base",
      "model_module_version": "1.2.0",
      "model_name": "LayoutModel",
      "state": {}
     },
     "2949da47a17a4a5bb2c7ed23b65a41fb": {
      "model_module": "@jupyter-widgets/base",
      "model_module_version": "1.2.0",
      "model_name": "LayoutModel",
      "state": {
       "width": "auto"
      }
     },
     "299e0fd772234fc7aa4bd2448b78a4c1": {
      "model_module": "@jupyter-widgets/base",
      "model_module_version": "1.2.0",
      "model_name": "LayoutModel",
      "state": {}
     },
     "29a9756761ff42adaf2f1dc51032f398": {
      "model_module": "@jupyter-widgets/controls",
      "model_module_version": "1.5.0",
      "model_name": "HTMLModel",
      "state": {
       "layout": "IPY_MODEL_39d21a0472f94dd79303a3df577e4ff9",
       "style": "IPY_MODEL_428bca3fd6a546c28a9de667794712bc",
       "value": "<h4>Current flow_1 status: <font color='green'>shutdown</font> </h4><p>User the buttons below to change the status</p>"
      }
     },
     "29b4cf1a4f7047e3af1c9e5cdc278f2f": {
      "model_module": "@jupyter-widgets/base",
      "model_module_version": "1.2.0",
      "model_name": "LayoutModel",
      "state": {}
     },
     "2a571161d6564e2682986a1d32cbfb2f": {
      "model_module": "@jupyter-widgets/controls",
      "model_module_version": "1.5.0",
      "model_name": "ButtonModel",
      "state": {
       "button_style": "success",
       "description": "Send Command",
       "layout": "IPY_MODEL_5acd7cf7439b40f9a641461a0edd02ae",
       "style": "IPY_MODEL_77092d5eb5bc4dc499dfede3f22decda"
      }
     },
     "2a7ffc2d2c644e7cad03b2135018f513": {
      "model_module": "@jupyter-widgets/base",
      "model_module_version": "1.2.0",
      "model_name": "LayoutModel",
      "state": {
       "margin": "2px 20px 0 0"
      }
     },
     "2a8f37a956e9423abf85f95c617f0099": {
      "model_module": "@jupyter-widgets/controls",
      "model_module_version": "1.5.0",
      "model_name": "HBoxModel",
      "state": {
       "children": [
        "IPY_MODEL_7d3efc6430ea4d86ad1889ab5e5c390b",
        "IPY_MODEL_a43695e63a9541c4bc6888e5420dd8b9"
       ],
       "layout": "IPY_MODEL_f788e10e73cc4a3998ca9701d885c5cb"
      }
     },
     "2ab5b09344a543bd9520924eddb0e8df": {
      "model_module": "@jupyter-widgets/controls",
      "model_module_version": "1.5.0",
      "model_name": "HTMLModel",
      "state": {
       "layout": "IPY_MODEL_0eef46d9133e41458f058f99530610b6",
       "style": "IPY_MODEL_be11a0ea0e964f59b7bf467e8ecaa020",
       "value": "<h3>flow_1</h3>"
      }
     },
     "2ac30459298c413ebb69e226b1283d5d": {
      "model_module": "@jupyter-widgets/controls",
      "model_module_version": "1.5.0",
      "model_name": "HBoxModel",
      "state": {
       "children": [
        "IPY_MODEL_e771ac7053814c6ba90852108be2797d",
        "IPY_MODEL_f7e012bd401f47deaabffa464e9c691b"
       ],
       "layout": "IPY_MODEL_70025df35187414abee376834394f49e"
      }
     },
     "2ad89f6feef94eb7a9c2b1c9362f2cde": {
      "model_module": "@jupyter-widgets/base",
      "model_module_version": "1.2.0",
      "model_name": "LayoutModel",
      "state": {}
     },
     "2ade62a6ccc14b54b342022df4a54ff7": {
      "model_module": "@jupyter-widgets/base",
      "model_module_version": "1.2.0",
      "model_name": "LayoutModel",
      "state": {
       "margin": "2px 20px 0 0"
      }
     },
     "2ae8d09dbb794375954564494e82ea1e": {
      "model_module": "@jupyter-widgets/controls",
      "model_module_version": "1.5.0",
      "model_name": "HTMLModel",
      "state": {
       "layout": "IPY_MODEL_f0eb4b14ecb44d8e999c92cb3e1513db",
       "style": "IPY_MODEL_38d0d74be5174c57b9489c450537c44b",
       "value": "<h3>Select Devices</h3><p>Type the name of the devices you wish to view.</p><p>Use a comma to seperate them and no spaces! Example: <code>flow_1,pic_1</code></p>"
      }
     },
     "2af0996119b44aa08aa983c3e6b32e20": {
      "model_module": "@jupyter-widgets/controls",
      "model_module_version": "1.5.0",
      "model_name": "ButtonModel",
      "state": {
       "button_style": "danger",
       "description": "Shutdown",
       "layout": "IPY_MODEL_e851b0564dc146da9492038ab0f9fa1c",
       "style": "IPY_MODEL_fa99f0d25f124d9a9c2b603a2a3efc15"
      }
     },
     "2b1383a0c50f44e78ff15439514cf6a5": {
      "model_module": "@jupyter-widgets/controls",
      "model_module_version": "1.5.0",
      "model_name": "ButtonStyleModel",
      "state": {}
     },
     "2b2b2751d174421a94a56bc5f4c21827": {
      "model_module": "@jupyter-widgets/controls",
      "model_module_version": "1.5.0",
      "model_name": "ButtonStyleModel",
      "state": {}
     },
     "2b512eca080b448faa9d1f01a4067d7c": {
      "model_module": "@jupyter-widgets/base",
      "model_module_version": "1.2.0",
      "model_name": "LayoutModel",
      "state": {
       "width": "auto"
      }
     },
     "2b54a68e1c8b44a19aeab503a5d76cd7": {
      "model_module": "@jupyter-widgets/controls",
      "model_module_version": "1.5.0",
      "model_name": "VBoxModel",
      "state": {
       "children": [
        "IPY_MODEL_288fdf3d148140269c710c121207e879",
        "IPY_MODEL_fc0c6fbe6ed3406ab282ad5621c1126d"
       ],
       "layout": "IPY_MODEL_e2b10004d8654c529ac88f293c0cb37c"
      }
     },
     "2b6ec94a10344fe4ae88962a356d1552": {
      "model_module": "@jupyter-widgets/controls",
      "model_module_version": "1.5.0",
      "model_name": "ButtonStyleModel",
      "state": {}
     },
     "2ba9a76151eb46a3aba06c1a3a563d79": {
      "model_module": "@jupyter-widgets/controls",
      "model_module_version": "1.5.0",
      "model_name": "ButtonModel",
      "state": {
       "button_style": "info",
       "icon": "refresh",
       "layout": "IPY_MODEL_a83643d721994125b227a2c7c66f5113",
       "style": "IPY_MODEL_a8484aad605c41329314cbffa489d311"
      }
     },
     "2bb449148d39483a856b7de6f6ef18ca": {
      "model_module": "@jupyter-widgets/controls",
      "model_module_version": "1.5.0",
      "model_name": "DescriptionStyleModel",
      "state": {
       "description_width": ""
      }
     },
     "2bbe2f7720bb434487e76ffa039dc0ba": {
      "model_module": "@jupyter-widgets/controls",
      "model_module_version": "1.5.0",
      "model_name": "ButtonModel",
      "state": {
       "button_style": "success",
       "description": "Send Command",
       "layout": "IPY_MODEL_dee22f64469a49b1a534b49dea2ba6ab",
       "style": "IPY_MODEL_ec38222f59b643fcace2296ccd596743"
      }
     },
     "2bc00b72ed164f61b5295ab6bc449f72": {
      "model_module": "@jupyter-widgets/controls",
      "model_module_version": "1.5.0",
      "model_name": "HBoxModel",
      "state": {
       "children": [
        "IPY_MODEL_2c59823c74724c2b966b0e22634e8a3a"
       ],
       "layout": "IPY_MODEL_18d870958f5d423cbbdad24499b04fc2"
      }
     },
     "2c15a9a89cf1413eb315a495e5c94115": {
      "model_module": "@jupyter-widgets/controls",
      "model_module_version": "1.5.0",
      "model_name": "VBoxModel",
      "state": {
       "children": [
        "IPY_MODEL_fe4d7835c98c48698c65cbd93a46b1ae",
        "IPY_MODEL_2540b2f3eb7449c1810ca9b0e3859731"
       ],
       "layout": "IPY_MODEL_48043f688177434d993b21b4a441c439"
      }
     },
     "2c1a41ffe1e54873b3722460085ad0bb": {
      "model_module": "@jupyter-widgets/base",
      "model_module_version": "1.2.0",
      "model_name": "LayoutModel",
      "state": {}
     },
     "2c523e3d5ef54a61bdbf4c90d1dd05f9": {
      "model_module": "@jupyter-widgets/controls",
      "model_module_version": "1.5.0",
      "model_name": "VBoxModel",
      "state": {
       "children": [
        "IPY_MODEL_3bf68e4022aa48b0a22581a52a31eaf5",
        "IPY_MODEL_3a2328a69d6d4780a49ee55cdf14f6ab",
        "IPY_MODEL_9dbcebc4faa4429795387871d3165f0c"
       ],
       "layout": "IPY_MODEL_67f8b1b6e5be4dab9925f2c4e0a3c9f3"
      }
     },
     "2c59823c74724c2b966b0e22634e8a3a": {
      "model_module": "@jupyter-widgets/controls",
      "model_module_version": "1.5.0",
      "model_name": "HTMLModel",
      "state": {
       "layout": "IPY_MODEL_283f38dad7814362b1cfdaafa6190375",
       "style": "IPY_MODEL_1b3025fcf2a542888a773f93ede418cd",
       "value": "<h4>What do you want to do?</h4><p>You can send a new command to the device or change it's status between running, paused, and shutdown. </p> "
      }
     },
     "2c61f0a315a24a46ae8ea71c7dceb3bb": {
      "model_module": "@jupyter-widgets/base",
      "model_module_version": "1.2.0",
      "model_name": "LayoutModel",
      "state": {}
     },
     "2c81754642634305aaf0514d780219e6": {
      "model_module": "@jupyter-widgets/controls",
      "model_module_version": "1.5.0",
      "model_name": "DescriptionStyleModel",
      "state": {
       "description_width": ""
      }
     },
     "2c81d151dcf94c0c9275117022b319fe": {
      "model_module": "@jupyter-widgets/controls",
      "model_module_version": "1.5.0",
      "model_name": "TextModel",
      "state": {
       "description": "Command",
       "layout": "IPY_MODEL_fa65c18430e04d54899e5460f0be2ccf",
       "style": "IPY_MODEL_14a64e0e452140baa37edb28679ea22f"
      }
     },
     "2c9af26664124d6085d1274962306645": {
      "model_module": "@jupyter-widgets/controls",
      "model_module_version": "1.5.0",
      "model_name": "ButtonModel",
      "state": {
       "button_style": "success",
       "description": "Select",
       "layout": "IPY_MODEL_4032d2e436794cc19ae6f515f5a0afce",
       "style": "IPY_MODEL_6256208743504486b2582b7807761972"
      }
     },
     "2cf59bd990154db9acaa10036d46d8e2": {
      "model_module": "@jupyter-widgets/controls",
      "model_module_version": "1.5.0",
      "model_name": "HTMLModel",
      "state": {
       "layout": "IPY_MODEL_5c8b3aedc77744dc82b0d5d8006532da",
       "style": "IPY_MODEL_c23d4b416b4545629c470c716eee4a98",
       "value": "<h4>What do you want to do?</h4><p>You can send a new command to the device or change it's status between running, paused, and shutdown. </p> "
      }
     },
     "2cfef794a3dd4036ad2809f5e71be6e2": {
      "model_module": "@jupyter-widgets/base",
      "model_module_version": "1.2.0",
      "model_name": "LayoutModel",
      "state": {}
     },
     "2d05a93223384177837737203fcf822f": {
      "model_module": "@jupyter-widgets/controls",
      "model_module_version": "1.5.0",
      "model_name": "ButtonModel",
      "state": {
       "button_style": "warning",
       "description": "Change Status",
       "layout": "IPY_MODEL_3b7dc05ef0cd4f8ca30aa0109bfbbfed",
       "style": "IPY_MODEL_7e4dcbd4162f40359e31594a6f1ff114"
      }
     },
     "2d1e2ca30bae4829b40683859df2fa1f": {
      "model_module": "@jupyter-widgets/base",
      "model_module_version": "1.2.0",
      "model_name": "LayoutModel",
      "state": {
       "width": "auto"
      }
     },
     "2d403d29dbf345e5a9206f67bacbe1e7": {
      "model_module": "@jupyter-widgets/controls",
      "model_module_version": "1.5.0",
      "model_name": "HTMLModel",
      "state": {
       "layout": "IPY_MODEL_3c053144eca34660aedb5181c38394a0",
       "style": "IPY_MODEL_971069a894424c2da08cbb68f1cc8917",
       "value": "<h4>What do you want to do?</h4><p>You can send a new command to the device or change it's status between running, paused, and shutdown. </p> "
      }
     },
     "2dea56a324024107b0bd3417006e857e": {
      "model_module": "@jupyter-widgets/controls",
      "model_module_version": "1.5.0",
      "model_name": "HBoxModel",
      "state": {
       "children": [
        "IPY_MODEL_d22f77fff55a423fb7fa56f836383ba0"
       ],
       "layout": "IPY_MODEL_e84ce1878aea4e1ca0955e26783eb9bd"
      }
     },
     "2e07db646ab7497993cae99a49209338": {
      "model_module": "@jupyter-widgets/base",
      "model_module_version": "1.2.0",
      "model_name": "LayoutModel",
      "state": {
       "width": "450px"
      }
     },
     "2e1372624d2c4610928dd76451ec027a": {
      "model_module": "@jupyter-widgets/controls",
      "model_module_version": "1.5.0",
      "model_name": "ButtonStyleModel",
      "state": {}
     },
     "2e2971ace50f4096b26f216591eca434": {
      "model_module": "@jupyter-widgets/controls",
      "model_module_version": "1.5.0",
      "model_name": "HTMLModel",
      "state": {
       "layout": "IPY_MODEL_87942e95262a4196ab9a03614efb995e",
       "style": "IPY_MODEL_6dc910dd77744bb6b9ba65ded1e1054b",
       "value": "<h4>Current flow_1 status: <font color='green'>shutdown</font> </h4><p>User the buttons below to change the status</p>"
      }
     },
     "2e841aca215847a589fad96208e8e40e": {
      "model_module": "@jupyter-widgets/controls",
      "model_module_version": "1.5.0",
      "model_name": "HBoxModel",
      "state": {
       "children": [
        "IPY_MODEL_1d391d5437ee44ae8ff94e01f2ad9882",
        "IPY_MODEL_0910a9979ed64aa3992c64e3bf91cbd6"
       ],
       "layout": "IPY_MODEL_aead5fbc3e924b66aacddde4c81dffcd"
      }
     },
     "2e95197a419f44408c0bb34ed7378a97": {
      "model_module": "@jupyter-widgets/controls",
      "model_module_version": "1.5.0",
      "model_name": "ButtonModel",
      "state": {
       "button_style": "success",
       "description": "Select",
       "layout": "IPY_MODEL_df8ab0a9cbcd4512b553e5414452d6b0",
       "style": "IPY_MODEL_3b817e5ef81f42f69a4964a3fc8e2c7d"
      }
     },
     "2eb0fa1a4aba4e38881af87cd377aebf": {
      "model_module": "@jupyter-widgets/base",
      "model_module_version": "1.2.0",
      "model_name": "LayoutModel",
      "state": {}
     },
     "2ed09d4e88cc48c4a07a5bc7fd5db5c0": {
      "model_module": "@jupyter-widgets/controls",
      "model_module_version": "1.5.0",
      "model_name": "ButtonModel",
      "state": {
       "button_style": "info",
       "icon": "refresh",
       "layout": "IPY_MODEL_fb59714a813746f6bc7c64fdc7fb3cf5",
       "style": "IPY_MODEL_f426c24fb5b94cf5ac039d10c8ca9c18"
      }
     },
     "2f38cc191bee41f3ade07b390d30f8b7": {
      "model_module": "@jupyter-widgets/controls",
      "model_module_version": "1.5.0",
      "model_name": "ButtonStyleModel",
      "state": {}
     },
     "2f3aac63aec14ff89c5c1f4e72ea7173": {
      "model_module": "@jupyter-widgets/controls",
      "model_module_version": "1.5.0",
      "model_name": "ButtonModel",
      "state": {
       "button_style": "success",
       "description": "Select",
       "layout": "IPY_MODEL_bd58bfb748f149d8b6cfe603a6eed2ce",
       "style": "IPY_MODEL_17bb781f5d1c4426bd8c5d74fdf159d5"
      }
     },
     "2f41cc2da9444ed9b62675062d43d32c": {
      "model_module": "@jupyter-widgets/controls",
      "model_module_version": "1.5.0",
      "model_name": "ButtonModel",
      "state": {
       "button_style": "success",
       "description": "Send Command",
       "layout": "IPY_MODEL_8e711db8873d4b5f8d3424f6de649fe8",
       "style": "IPY_MODEL_21e9d15b0ec0424bbaa9ffb39518c553"
      }
     },
     "2f47083fe44d4430b2ff3cb211125794": {
      "model_module": "@jupyter-widgets/controls",
      "model_module_version": "1.5.0",
      "model_name": "TextModel",
      "state": {
       "description": "Command",
       "layout": "IPY_MODEL_dd17ae9e6a8c4bff9ec0a1289100ac03",
       "style": "IPY_MODEL_6bde67b3ac6441f3bc8c0e582117f8c0"
      }
     },
     "2f7914bfe3204c0fb982a68afe628139": {
      "model_module": "@jupyter-widgets/base",
      "model_module_version": "1.2.0",
      "model_name": "LayoutModel",
      "state": {
       "width": "auto"
      }
     },
     "2f7e3325204a4e00b5abb9ccc82fa04e": {
      "model_module": "@jupyter-widgets/controls",
      "model_module_version": "1.5.0",
      "model_name": "DescriptionStyleModel",
      "state": {
       "description_width": ""
      }
     },
     "2f9082d1614b495990129e24b135b744": {
      "model_module": "@jupyter-widgets/base",
      "model_module_version": "1.2.0",
      "model_name": "LayoutModel",
      "state": {
       "width": "auto"
      }
     },
     "2fd0eadd92c94bc9bd96bfd2088a05bd": {
      "model_module": "@jupyter-widgets/controls",
      "model_module_version": "1.5.0",
      "model_name": "ButtonModel",
      "state": {
       "button_style": "success",
       "description": "Select",
       "layout": "IPY_MODEL_1acaada135a74341971fb108dc1d4357",
       "style": "IPY_MODEL_460bfafefc3b4268b125fef954002bb2"
      }
     },
     "3007ba67c2b9495892d66c39ff3e4074": {
      "model_module": "@jupyter-widgets/controls",
      "model_module_version": "1.5.0",
      "model_name": "ButtonStyleModel",
      "state": {}
     },
     "30551cce4baa47d296ecec79b33fd79c": {
      "model_module": "@jupyter-widgets/controls",
      "model_module_version": "1.5.0",
      "model_name": "ButtonStyleModel",
      "state": {}
     },
     "308ad627b7284d94b447cc038cc39f63": {
      "model_module": "@jupyter-widgets/controls",
      "model_module_version": "1.5.0",
      "model_name": "ButtonModel",
      "state": {
       "button_style": "danger",
       "description": "Shutdown",
       "layout": "IPY_MODEL_9e789d6152434bf29d229ed953518949",
       "style": "IPY_MODEL_6229d439221c4f6193b9b9da4644e2f8"
      }
     },
     "313be89abbbd45dd81d25f4227a312be": {
      "model_module": "@jupyter-widgets/controls",
      "model_module_version": "1.5.0",
      "model_name": "HBoxModel",
      "state": {
       "children": [
        "IPY_MODEL_3bb6e4ef5fce4f179025f9b02238eae1",
        "IPY_MODEL_21057e20b3594d2a96db999cefc9412a"
       ],
       "layout": "IPY_MODEL_a9f2b1dbcdfa45d684ef0fddbe1bfe13"
      }
     },
     "315d8337141c496f8b32549c6bb0c6da": {
      "model_module": "@jupyter-widgets/base",
      "model_module_version": "1.2.0",
      "model_name": "LayoutModel",
      "state": {}
     },
     "3166c283fb024fa882c287380d297737": {
      "model_module": "@jupyter-widgets/controls",
      "model_module_version": "1.5.0",
      "model_name": "HBoxModel",
      "state": {
       "children": [
        "IPY_MODEL_56673cf8207c43e9bb3d030cfb22fc4a",
        "IPY_MODEL_e81ede5fa57a431eb756949fe9ad8005"
       ],
       "layout": "IPY_MODEL_d1a7eac8c992431aa296ce1c78fc9d0f"
      }
     },
     "317037fbbbf54f8f8cc641fd218901dc": {
      "model_module": "@jupyter-widgets/controls",
      "model_module_version": "1.5.0",
      "model_name": "ButtonStyleModel",
      "state": {}
     },
     "318f2d18f27a4c57b92dda56c604d88a": {
      "model_module": "@jupyter-widgets/controls",
      "model_module_version": "1.5.0",
      "model_name": "DescriptionStyleModel",
      "state": {
       "description_width": ""
      }
     },
     "31a56633c39546599e7331e12ccf1c70": {
      "model_module": "@jupyter-widgets/base",
      "model_module_version": "1.2.0",
      "model_name": "LayoutModel",
      "state": {
       "width": "auto"
      }
     },
     "31b97cad04764d0f8ea564c5d0e58fd7": {
      "model_module": "@jupyter-widgets/base",
      "model_module_version": "1.2.0",
      "model_name": "LayoutModel",
      "state": {}
     },
     "322255fa6979483a8d9435aae207bdd0": {
      "model_module": "@jupyter-widgets/base",
      "model_module_version": "1.2.0",
      "model_name": "LayoutModel",
      "state": {}
     },
     "3248f08785654d2c93408f49018a2b9d": {
      "model_module": "@jupyter-widgets/controls",
      "model_module_version": "1.5.0",
      "model_name": "ButtonStyleModel",
      "state": {}
     },
     "3254b82d8d044e1b9585e547cba9b7ab": {
      "model_module": "@jupyter-widgets/controls",
      "model_module_version": "1.5.0",
      "model_name": "ButtonStyleModel",
      "state": {}
     },
     "32587cfa895844e084273e9f124a7652": {
      "model_module": "@jupyter-widgets/controls",
      "model_module_version": "1.5.0",
      "model_name": "HTMLModel",
      "state": {
       "layout": "IPY_MODEL_b61ae3737f9e472aa4ec602d20f8c433",
       "style": "IPY_MODEL_a9557a7571eb40488e4359a2fde41bc8",
       "value": "<h3>Select Devices</h3><p>Type the name of the devices you wish to view.</p><p>Use a comma to seperate them and no spaces! Example: <code>flow_1,pic_1</code></p>"
      }
     },
     "3279a84d86214112bba516702b318a5b": {
      "model_module": "@jupyter-widgets/base",
      "model_module_version": "1.2.0",
      "model_name": "LayoutModel",
      "state": {
       "width": "750px"
      }
     },
     "327b9442cf054f75a7fd9ebc5e121ff7": {
      "model_module": "@jupyter-widgets/controls",
      "model_module_version": "1.5.0",
      "model_name": "HBoxModel",
      "state": {
       "children": [
        "IPY_MODEL_0cd9e04361314ce892c83eedb3fe4aa7",
        "IPY_MODEL_8ebb613a50c540a8adf81e73bfc686ed",
        "IPY_MODEL_2af0996119b44aa08aa983c3e6b32e20",
        "IPY_MODEL_a175a57c8f3f42d691ea505455eadf6d"
       ],
       "layout": "IPY_MODEL_60df8be4b3614dff821491460ab9804c"
      }
     },
     "3294de2c196042d7a2c46d00166ef97b": {
      "model_module": "@jupyter-widgets/controls",
      "model_module_version": "1.5.0",
      "model_name": "DescriptionStyleModel",
      "state": {
       "description_width": ""
      }
     },
     "32a0cf4a4fd640b68d7f1596a624d5ea": {
      "model_module": "@jupyter-widgets/base",
      "model_module_version": "1.2.0",
      "model_name": "LayoutModel",
      "state": {
       "margin": "2px 50px 0 0",
       "width": "auto"
      }
     },
     "32af08c9e4cb4dc9b69a9ebfdacbea17": {
      "model_module": "@jupyter-widgets/controls",
      "model_module_version": "1.5.0",
      "model_name": "DescriptionStyleModel",
      "state": {
       "description_width": ""
      }
     },
     "32c9048f8408491f84986675dc37eb90": {
      "model_module": "@jupyter-widgets/controls",
      "model_module_version": "1.5.0",
      "model_name": "ButtonModel",
      "state": {
       "button_style": "success",
       "description": "Select",
       "layout": "IPY_MODEL_be5a81d10cab46b9b993f0079b0737eb",
       "style": "IPY_MODEL_aeeafd5058434952aee8e1d2ae4d96d7"
      }
     },
     "32ca993fcf71436aa603994b5ce2c284": {
      "model_module": "@jupyter-widgets/controls",
      "model_module_version": "1.5.0",
      "model_name": "DescriptionStyleModel",
      "state": {
       "description_width": ""
      }
     },
     "32cfd17aa669481abc94cd31eada8a89": {
      "model_module": "@jupyter-widgets/controls",
      "model_module_version": "1.5.0",
      "model_name": "ButtonModel",
      "state": {
       "button_style": "success",
       "description": "Select",
       "layout": "IPY_MODEL_276cd3ab43074d9892d521bd16edcd1f",
       "style": "IPY_MODEL_2b6ec94a10344fe4ae88962a356d1552"
      }
     },
     "32e33b9326c04f95b9e280fa09f1baf4": {
      "model_module": "@jupyter-widgets/controls",
      "model_module_version": "1.5.0",
      "model_name": "ButtonStyleModel",
      "state": {}
     },
     "3321e886dae24ff286b36ccf28fd51af": {
      "model_module": "@jupyter-widgets/controls",
      "model_module_version": "1.5.0",
      "model_name": "TextModel",
      "state": {
       "description": "Device",
       "layout": "IPY_MODEL_afc08f01f9d44a3c8022facada1538d1",
       "style": "IPY_MODEL_2c81754642634305aaf0514d780219e6"
      }
     },
     "3330dbad7dae441295e7136576ad764e": {
      "model_module": "@jupyter-widgets/base",
      "model_module_version": "1.2.0",
      "model_name": "LayoutModel",
      "state": {}
     },
     "33359d2c239a4d06a3bda56fc57ed78c": {
      "model_module": "@jupyter-widgets/base",
      "model_module_version": "1.2.0",
      "model_name": "LayoutModel",
      "state": {
       "width": "auto"
      }
     },
     "333d5c9375b045978f85b52014405d51": {
      "model_module": "@jupyter-widgets/controls",
      "model_module_version": "1.5.0",
      "model_name": "ButtonStyleModel",
      "state": {}
     },
     "333dc7d2a3344a309b765ad7a75bc643": {
      "model_module": "@jupyter-widgets/controls",
      "model_module_version": "1.5.0",
      "model_name": "ButtonStyleModel",
      "state": {}
     },
     "33490e06a5a14e2fa5753ef040795a89": {
      "model_module": "@jupyter-widgets/base",
      "model_module_version": "1.2.0",
      "model_name": "LayoutModel",
      "state": {
       "width": "auto"
      }
     },
     "336ec711e836468db73f93234b87f123": {
      "model_module": "@jupyter-widgets/base",
      "model_module_version": "1.2.0",
      "model_name": "LayoutModel",
      "state": {}
     },
     "33c9842e788f428f803a89089f71ae0a": {
      "model_module": "@jupyter-widgets/base",
      "model_module_version": "1.2.0",
      "model_name": "LayoutModel",
      "state": {
       "margin": "2px 20px 0 0",
       "width": "auto"
      }
     },
     "33cc53de2b354c52b8b1383100867afd": {
      "model_module": "@jupyter-widgets/controls",
      "model_module_version": "1.5.0",
      "model_name": "ButtonModel",
      "state": {
       "button_style": "success",
       "description": "Send Command",
       "layout": "IPY_MODEL_7818d4742c624c52b26a851846ff5473",
       "style": "IPY_MODEL_e2a630cd1d93403982b04897b4fb6f28"
      }
     },
     "33d669ef79ef4516a4794ace91a2872e": {
      "model_module": "@jupyter-widgets/base",
      "model_module_version": "1.2.0",
      "model_name": "LayoutModel",
      "state": {
       "width": "auto"
      }
     },
     "33ec9f7341094618a1957080d9771f37": {
      "model_module": "@jupyter-widgets/base",
      "model_module_version": "1.2.0",
      "model_name": "LayoutModel",
      "state": {}
     },
     "3419fe5d10e0406a876600ba98a13fbd": {
      "model_module": "@jupyter-widgets/base",
      "model_module_version": "1.2.0",
      "model_name": "LayoutModel",
      "state": {
       "margin": "2px 20px 0 0"
      }
     },
     "343a6404371b42169c2ef6d29322dbe2": {
      "model_module": "@jupyter-widgets/controls",
      "model_module_version": "1.5.0",
      "model_name": "ButtonModel",
      "state": {
       "button_style": "success",
       "description": "Send Command",
       "layout": "IPY_MODEL_2a7ffc2d2c644e7cad03b2135018f513",
       "style": "IPY_MODEL_3e600ade46fd4910ad809d20713c4922"
      }
     },
     "3477a1bd8ff04ea9b5de58ffb60aea5c": {
      "model_module": "@jupyter-widgets/controls",
      "model_module_version": "1.5.0",
      "model_name": "DescriptionStyleModel",
      "state": {
       "description_width": ""
      }
     },
     "34bad31bd8a0447496b66b1a14f78dee": {
      "model_module": "@jupyter-widgets/controls",
      "model_module_version": "1.5.0",
      "model_name": "TextModel",
      "state": {
       "description": "Device",
       "layout": "IPY_MODEL_b97eb676cdd64e8498fac32860e3437c",
       "style": "IPY_MODEL_d6f3e9af785c4978abcfeb446c1e8b39",
       "value": "flow_1"
      }
     },
     "34d7208259e84e1d819c513170c251da": {
      "model_module": "@jupyter-widgets/controls",
      "model_module_version": "1.5.0",
      "model_name": "HBoxModel",
      "state": {
       "children": [
        "IPY_MODEL_6f5712e9e7db4919a3a5c0e0e41e60e9",
        "IPY_MODEL_e24522b9489a40e1a459e0898a1a322a"
       ],
       "layout": "IPY_MODEL_9b68b9f863a3450382ded9a8f7517ce9"
      }
     },
     "35091657dfa84636b53391774dda5861": {
      "model_module": "@jupyter-widgets/controls",
      "model_module_version": "1.5.0",
      "model_name": "ButtonStyleModel",
      "state": {}
     },
     "3536c61504e043d58e2955282d66b82a": {
      "model_module": "@jupyter-widgets/controls",
      "model_module_version": "1.5.0",
      "model_name": "ButtonModel",
      "state": {
       "button_style": "warning",
       "description": "Change Status",
       "layout": "IPY_MODEL_0c5005e60da240218e04ff26046785df",
       "style": "IPY_MODEL_fa7889b591b741c3ba4b191a94ac4a2f"
      }
     },
     "354f679e98494c15a528e2acfc23d490": {
      "model_module": "@jupyter-widgets/base",
      "model_module_version": "1.2.0",
      "model_name": "LayoutModel",
      "state": {}
     },
     "35a8134374ac4aab9d2231fe32bac40d": {
      "model_module": "@jupyter-widgets/controls",
      "model_module_version": "1.5.0",
      "model_name": "ButtonModel",
      "state": {
       "button_style": "success",
       "description": "Select",
       "layout": "IPY_MODEL_773863f05cef4eb48b6de43b39fd1767",
       "style": "IPY_MODEL_3f06cc45ef9541ed876da4d542634703"
      }
     },
     "36282d3ee10d4543b89f262a95d15cd4": {
      "model_module": "@jupyter-widgets/controls",
      "model_module_version": "1.5.0",
      "model_name": "ButtonStyleModel",
      "state": {}
     },
     "362c3f19ad964adcb5a46dd5a9a42e59": {
      "model_module": "@jupyter-widgets/controls",
      "model_module_version": "1.5.0",
      "model_name": "ButtonModel",
      "state": {
       "button_style": "warning",
       "description": "Change Status",
       "layout": "IPY_MODEL_4d0eb6e32f0c415d85786e10c06ece4b",
       "style": "IPY_MODEL_10494b791e75490d8cd6644cd61c238c"
      }
     },
     "366f3305f3644be8beef221dfa9bc157": {
      "model_module": "@jupyter-widgets/controls",
      "model_module_version": "1.5.0",
      "model_name": "DescriptionStyleModel",
      "state": {
       "description_width": ""
      }
     },
     "3677796d256e4955bfe3886579ef0a8b": {
      "model_module": "@jupyter-widgets/base",
      "model_module_version": "1.2.0",
      "model_name": "LayoutModel",
      "state": {}
     },
     "370922426fa94ab0852b5b310b297043": {
      "model_module": "@jupyter-widgets/controls",
      "model_module_version": "1.5.0",
      "model_name": "ButtonStyleModel",
      "state": {}
     },
     "3780195127434a69aaca97490ab5a032": {
      "model_module": "@jupyter-widgets/base",
      "model_module_version": "1.2.0",
      "model_name": "LayoutModel",
      "state": {
       "width": "auto"
      }
     },
     "37862b6fee814c339c1858697feaddc0": {
      "model_module": "@jupyter-widgets/base",
      "model_module_version": "1.2.0",
      "model_name": "LayoutModel",
      "state": {
       "margin": "2px 20px 0 0"
      }
     },
     "3787aa141fea4906b0297aba22315493": {
      "model_module": "@jupyter-widgets/controls",
      "model_module_version": "1.5.0",
      "model_name": "TextModel",
      "state": {
       "description": "Devices",
       "layout": "IPY_MODEL_64e7bb3663f24231a3fb432304291e44",
       "style": "IPY_MODEL_d3da45a3e39c464f8b21b6525a16c7ad"
      }
     },
     "37ae7994a421452faa0e6fa772c69e5a": {
      "model_module": "@jupyter-widgets/controls",
      "model_module_version": "1.5.0",
      "model_name": "HBoxModel",
      "state": {
       "children": [
        "IPY_MODEL_5b648cf45a524dce86c96c564ead8779",
        "IPY_MODEL_49435d7a4c13471ab5e010534defbbaa"
       ],
       "layout": "IPY_MODEL_745693cfdd1a455e9eafad2af2a455ad"
      }
     },
     "38635ccb4e3749dfa29842ed8b8fe038": {
      "model_module": "@jupyter-widgets/base",
      "model_module_version": "1.2.0",
      "model_name": "LayoutModel",
      "state": {}
     },
     "388d9f3d8bd641b6a4ad0cc0c827e1ae": {
      "model_module": "@jupyter-widgets/base",
      "model_module_version": "1.2.0",
      "model_name": "LayoutModel",
      "state": {}
     },
     "38d0d74be5174c57b9489c450537c44b": {
      "model_module": "@jupyter-widgets/controls",
      "model_module_version": "1.5.0",
      "model_name": "DescriptionStyleModel",
      "state": {
       "description_width": ""
      }
     },
     "38eaf0106af44f2d951d01626cef0d60": {
      "model_module": "@jupyter-widgets/base",
      "model_module_version": "1.2.0",
      "model_name": "LayoutModel",
      "state": {}
     },
     "395e5cd5a4b84d14b88f9461bdfe786a": {
      "model_module": "@jupyter-widgets/controls",
      "model_module_version": "1.5.0",
      "model_name": "ButtonStyleModel",
      "state": {}
     },
     "39ab3c43b55e44c2a208b347765c853e": {
      "model_module": "@jupyter-widgets/controls",
      "model_module_version": "1.5.0",
      "model_name": "ButtonStyleModel",
      "state": {}
     },
     "39d21a0472f94dd79303a3df577e4ff9": {
      "model_module": "@jupyter-widgets/base",
      "model_module_version": "1.2.0",
      "model_name": "LayoutModel",
      "state": {}
     },
     "39fdd7ed3f4049dd8a5775acc3389aad": {
      "model_module": "@jupyter-widgets/base",
      "model_module_version": "1.2.0",
      "model_name": "LayoutModel",
      "state": {
       "margin": "2px 20px 0 0"
      }
     },
     "3a2328a69d6d4780a49ee55cdf14f6ab": {
      "model_module": "@jupyter-widgets/controls",
      "model_module_version": "1.5.0",
      "model_name": "HBoxModel",
      "state": {
       "children": [
        "IPY_MODEL_82b25ed954a742be85a5172250b0e615",
        "IPY_MODEL_ba8d5b69eec34df888d06c2915f5966c"
       ],
       "layout": "IPY_MODEL_a8e1e49296244891a5a3553484c128f1"
      }
     },
     "3a39f0423b704064bce22001bb5bd109": {
      "model_module": "@jupyter-widgets/base",
      "model_module_version": "1.2.0",
      "model_name": "LayoutModel",
      "state": {}
     },
     "3a54c26ef1214af79db8eab7e8d89997": {
      "model_module": "@jupyter-widgets/controls",
      "model_module_version": "1.5.0",
      "model_name": "ButtonModel",
      "state": {
       "button_style": "success",
       "description": "Change Status",
       "layout": "IPY_MODEL_28e0e9ee7f274796906fd8f02c0495a6",
       "style": "IPY_MODEL_e4d8f5619ca7484988de6236e46ec541"
      }
     },
     "3a5daf1a254d4f85a453fc693473ce93": {
      "model_module": "@jupyter-widgets/controls",
      "model_module_version": "1.5.0",
      "model_name": "ButtonStyleModel",
      "state": {}
     },
     "3aabfcb2d57c466da284adf88f87a9e0": {
      "model_module": "@jupyter-widgets/controls",
      "model_module_version": "1.5.0",
      "model_name": "HBoxModel",
      "state": {
       "children": [
        "IPY_MODEL_fbc6c1aad193446ea914748bc27d1cb6"
       ],
       "layout": "IPY_MODEL_400ce8c44c134dcaa385dae906eddcb6"
      }
     },
     "3acb830f20fd44f7ba70a6430b3a73c9": {
      "model_module": "@jupyter-widgets/controls",
      "model_module_version": "1.5.0",
      "model_name": "ButtonStyleModel",
      "state": {}
     },
     "3ace802f9e3e49c1bf585ea1ebca2740": {
      "model_module": "@jupyter-widgets/controls",
      "model_module_version": "1.5.0",
      "model_name": "DescriptionStyleModel",
      "state": {
       "description_width": ""
      }
     },
     "3af012ee5da243e3b9638e861f724968": {
      "model_module": "@jupyter-widgets/controls",
      "model_module_version": "1.5.0",
      "model_name": "ButtonStyleModel",
      "state": {}
     },
     "3b725c336c684e8cb163f80d02e3976b": {
      "model_module": "@jupyter-widgets/controls",
      "model_module_version": "1.5.0",
      "model_name": "HTMLModel",
      "state": {
       "layout": "IPY_MODEL_336ec711e836468db73f93234b87f123",
       "style": "IPY_MODEL_075347c9a8ff4b75bfbe0fcfd3a588b7",
       "value": "<h3>Select Device to Control</h3><p>Type the name of the device you wish to controle. Example: <code>flow_1</code></p>"
      }
     },
     "3b7dc05ef0cd4f8ca30aa0109bfbbfed": {
      "model_module": "@jupyter-widgets/base",
      "model_module_version": "1.2.0",
      "model_name": "LayoutModel",
      "state": {
       "width": "auto"
      }
     },
     "3b817e5ef81f42f69a4964a3fc8e2c7d": {
      "model_module": "@jupyter-widgets/controls",
      "model_module_version": "1.5.0",
      "model_name": "ButtonStyleModel",
      "state": {}
     },
     "3b82e3d2764a448fa5119b1703956198": {
      "model_module": "@jupyter-widgets/base",
      "model_module_version": "1.2.0",
      "model_name": "LayoutModel",
      "state": {}
     },
     "3b867006cfb0429b83b7be6bacbd88f3": {
      "model_module": "@jupyter-widgets/base",
      "model_module_version": "1.2.0",
      "model_name": "LayoutModel",
      "state": {
       "margin": "2px 20px 0 0"
      }
     },
     "3bb6e4ef5fce4f179025f9b02238eae1": {
      "model_module": "@jupyter-widgets/controls",
      "model_module_version": "1.5.0",
      "model_name": "TextModel",
      "state": {
       "description": "Device",
       "layout": "IPY_MODEL_7659c628fee44322879f6f1576b3fbbf",
       "style": "IPY_MODEL_9b2e868838704c4191558ceb1ce22a8b"
      }
     },
     "3bf68e4022aa48b0a22581a52a31eaf5": {
      "model_module": "@jupyter-widgets/controls",
      "model_module_version": "1.5.0",
      "model_name": "HBoxModel",
      "state": {
       "children": [
        "IPY_MODEL_f2eea436561d428abb73a0e8276915b6"
       ],
       "layout": "IPY_MODEL_6e3f587e871d4a8f9d18a336ab2ef319"
      }
     },
     "3c053144eca34660aedb5181c38394a0": {
      "model_module": "@jupyter-widgets/base",
      "model_module_version": "1.2.0",
      "model_name": "LayoutModel",
      "state": {}
     },
     "3c7c0795ead84f6eac5beed9a433139c": {
      "model_module": "@jupyter-widgets/controls",
      "model_module_version": "1.5.0",
      "model_name": "ButtonStyleModel",
      "state": {}
     },
     "3c845265d37b49ff95eb8ff262571771": {
      "model_module": "@jupyter-widgets/base",
      "model_module_version": "1.2.0",
      "model_name": "LayoutModel",
      "state": {}
     },
     "3ccb947c119149b89b7d9924eb7c4d6f": {
      "model_module": "@jupyter-widgets/base",
      "model_module_version": "1.2.0",
      "model_name": "LayoutModel",
      "state": {}
     },
     "3d1a154b41994183bfdc75639766d33f": {
      "model_module": "@jupyter-widgets/controls",
      "model_module_version": "1.5.0",
      "model_name": "ButtonModel",
      "state": {
       "button_style": "success",
       "description": "Select",
       "layout": "IPY_MODEL_f859a911bd5944b29aca4ad19c0b7115",
       "style": "IPY_MODEL_5d43b6484e5f48d49fd0b64e0192b7a2"
      }
     },
     "3d40098be3fa4b2eac1d16560e83baf5": {
      "model_module": "@jupyter-widgets/controls",
      "model_module_version": "1.5.0",
      "model_name": "DescriptionStyleModel",
      "state": {
       "description_width": ""
      }
     },
     "3d8d259f9b1342ef983204b8efb70674": {
      "model_module": "@jupyter-widgets/controls",
      "model_module_version": "1.5.0",
      "model_name": "ButtonStyleModel",
      "state": {}
     },
     "3e600ade46fd4910ad809d20713c4922": {
      "model_module": "@jupyter-widgets/controls",
      "model_module_version": "1.5.0",
      "model_name": "ButtonStyleModel",
      "state": {}
     },
     "3e79355096ab45778967772fd669fd1d": {
      "model_module": "@jupyter-widgets/controls",
      "model_module_version": "1.5.0",
      "model_name": "ButtonStyleModel",
      "state": {}
     },
     "3e88b10206b849779a474a12c71e90f1": {
      "model_module": "@jupyter-widgets/controls",
      "model_module_version": "1.5.0",
      "model_name": "ButtonStyleModel",
      "state": {}
     },
     "3ecf90df397d4e488b76ab505312ef59": {
      "model_module": "@jupyter-widgets/controls",
      "model_module_version": "1.5.0",
      "model_name": "ButtonModel",
      "state": {
       "button_style": "success",
       "description": "Send",
       "layout": "IPY_MODEL_25a75fda793845fdb21950530fcf1e01",
       "style": "IPY_MODEL_fac8d2d26faf4477b67e420accd910cc"
      }
     },
     "3ef7c6e713de42aeb79723ef6eeca70c": {
      "model_module": "@jupyter-widgets/controls",
      "model_module_version": "1.5.0",
      "model_name": "DescriptionStyleModel",
      "state": {
       "description_width": ""
      }
     },
     "3f06cc45ef9541ed876da4d542634703": {
      "model_module": "@jupyter-widgets/controls",
      "model_module_version": "1.5.0",
      "model_name": "ButtonStyleModel",
      "state": {}
     },
     "3f436b9da91a4c04bce81ccf91dd23aa": {
      "model_module": "@jupyter-widgets/controls",
      "model_module_version": "1.5.0",
      "model_name": "ButtonModel",
      "state": {
       "button_style": "success",
       "description": "Select",
       "layout": "IPY_MODEL_a4d648b487644a13b6e6d86dc8a24519",
       "style": "IPY_MODEL_f3846d2bf4d84f6da0c060c47a207d9a"
      }
     },
     "3f6ba80fb74548b8bb7e8804cbd5b1ea": {
      "model_module": "@jupyter-widgets/controls",
      "model_module_version": "1.5.0",
      "model_name": "ButtonStyleModel",
      "state": {}
     },
     "3f993ed6904041acacaac5cd410c5534": {
      "model_module": "@jupyter-widgets/base",
      "model_module_version": "1.2.0",
      "model_name": "LayoutModel",
      "state": {
       "margin": "2px 20px 0 0",
       "width": "auto"
      }
     },
     "3fa4524b1ed64716b433c28653e1cc7d": {
      "model_module": "@jupyter-widgets/base",
      "model_module_version": "1.2.0",
      "model_name": "LayoutModel",
      "state": {
       "width": "auto"
      }
     },
     "3fcbdce2c938400c838262a2ed27c3d1": {
      "model_module": "@jupyter-widgets/controls",
      "model_module_version": "1.5.0",
      "model_name": "HTMLModel",
      "state": {
       "layout": "IPY_MODEL_46a9a0a91363479f9794716fc3c97dd2",
       "style": "IPY_MODEL_6e5e6ce3d75a405c9395a60bbd9fea61",
       "value": "<h4>Current status for flow_1 is <b>shutdown</b> <h4><p>User the buttons below to change the status</p>"
      }
     },
     "3ffeb679849a415b84708bdeff1744c5": {
      "model_module": "@jupyter-widgets/base",
      "model_module_version": "1.2.0",
      "model_name": "LayoutModel",
      "state": {
       "width": "600"
      }
     },
     "400ce8c44c134dcaa385dae906eddcb6": {
      "model_module": "@jupyter-widgets/base",
      "model_module_version": "1.2.0",
      "model_name": "LayoutModel",
      "state": {}
     },
     "4032d2e436794cc19ae6f515f5a0afce": {
      "model_module": "@jupyter-widgets/base",
      "model_module_version": "1.2.0",
      "model_name": "LayoutModel",
      "state": {
       "width": "auto"
      }
     },
     "40394bc9a0f64edc9a8e8d5f4690638d": {
      "model_module": "@jupyter-widgets/controls",
      "model_module_version": "1.5.0",
      "model_name": "ButtonStyleModel",
      "state": {}
     },
     "40433ac8ceac4a96afdff574af745b1f": {
      "model_module": "@jupyter-widgets/base",
      "model_module_version": "1.2.0",
      "model_name": "LayoutModel",
      "state": {}
     },
     "405901f21f544de89b8d8f1ea3df0d16": {
      "model_module": "@jupyter-widgets/controls",
      "model_module_version": "1.5.0",
      "model_name": "ButtonStyleModel",
      "state": {}
     },
     "407f69a3acbe496cae12dfc8a80b46ea": {
      "model_module": "@jupyter-widgets/base",
      "model_module_version": "1.2.0",
      "model_name": "LayoutModel",
      "state": {}
     },
     "4084a5e758404a3fb4cc589392a44a88": {
      "model_module": "@jupyter-widgets/controls",
      "model_module_version": "1.5.0",
      "model_name": "TextModel",
      "state": {
       "description": "Device",
       "layout": "IPY_MODEL_db9d284984d841459d7b2e85017c337a",
       "style": "IPY_MODEL_baabaf8d90a94a3e98061dcc61a7a02a"
      }
     },
     "40cdd4263a5e4dfca534b67bad4622b3": {
      "model_module": "@jupyter-widgets/controls",
      "model_module_version": "1.5.0",
      "model_name": "DescriptionStyleModel",
      "state": {
       "description_width": ""
      }
     },
     "411a61ee7d2f4337b61cb49cd9068265": {
      "model_module": "@jupyter-widgets/controls",
      "model_module_version": "1.5.0",
      "model_name": "VBoxModel",
      "state": {
       "children": [
        "IPY_MODEL_c11549ad2c354ba5a3eea2a5db6ea9d0",
        "IPY_MODEL_4f0476efa1c94177b049400c1f238945"
       ],
       "layout": "IPY_MODEL_354f679e98494c15a528e2acfc23d490"
      }
     },
     "414888533b1140baadec73b21a5c83ec": {
      "model_module": "@jupyter-widgets/controls",
      "model_module_version": "1.5.0",
      "model_name": "ButtonStyleModel",
      "state": {}
     },
     "414be3f41ca5444187ec6bd78f34ef12": {
      "model_module": "@jupyter-widgets/base",
      "model_module_version": "1.2.0",
      "model_name": "LayoutModel",
      "state": {}
     },
     "4175393e0e6244cb948ecea71be3996a": {
      "model_module": "@jupyter-widgets/controls",
      "model_module_version": "1.5.0",
      "model_name": "ButtonModel",
      "state": {
       "button_style": "info",
       "icon": "refresh",
       "layout": "IPY_MODEL_33490e06a5a14e2fa5753ef040795a89",
       "style": "IPY_MODEL_0492e3eb27924de0ba36911372e605a3"
      }
     },
     "41975e670b734d2a9cd4112e2d5eb867": {
      "model_module": "@jupyter-widgets/controls",
      "model_module_version": "1.5.0",
      "model_name": "ButtonStyleModel",
      "state": {}
     },
     "4197ef04a4f34fb69f805113652261a0": {
      "model_module": "@jupyter-widgets/controls",
      "model_module_version": "1.5.0",
      "model_name": "DescriptionStyleModel",
      "state": {
       "description_width": ""
      }
     },
     "4248e54828e64fb39b09fbe6e92aae66": {
      "model_module": "@jupyter-widgets/controls",
      "model_module_version": "1.5.0",
      "model_name": "ButtonStyleModel",
      "state": {}
     },
     "4256e6237f3d440fb4c82626d9d6fe3c": {
      "model_module": "@jupyter-widgets/controls",
      "model_module_version": "1.5.0",
      "model_name": "DescriptionStyleModel",
      "state": {
       "description_width": ""
      }
     },
     "428bca3fd6a546c28a9de667794712bc": {
      "model_module": "@jupyter-widgets/controls",
      "model_module_version": "1.5.0",
      "model_name": "DescriptionStyleModel",
      "state": {
       "description_width": ""
      }
     },
     "42c39de3a44042fb9c4989f9c4e787a2": {
      "model_module": "@jupyter-widgets/controls",
      "model_module_version": "1.5.0",
      "model_name": "ButtonModel",
      "state": {
       "button_style": "success",
       "description": "Select",
       "layout": "IPY_MODEL_61eefc11b657489b8b840e3967dea1e1",
       "style": "IPY_MODEL_cb044bf151c34a3b83a0feeb9863d47a"
      }
     },
     "42eeb15ac2104fa388b3b054428f44f2": {
      "model_module": "@jupyter-widgets/controls",
      "model_module_version": "1.5.0",
      "model_name": "ButtonModel",
      "state": {
       "button_style": "warning",
       "description": "Pause",
       "layout": "IPY_MODEL_d0b72da3d63d4f1bbc6bdcf7c56dd9bb",
       "style": "IPY_MODEL_0ee361650a4241f594ac96b9ece23052"
      }
     },
     "42f0952ca4c548d58699fb3806f201be": {
      "model_module": "@jupyter-widgets/controls",
      "model_module_version": "1.5.0",
      "model_name": "ButtonStyleModel",
      "state": {}
     },
     "430ebdf8a43b42f58790e94cc28dfc6f": {
      "model_module": "@jupyter-widgets/base",
      "model_module_version": "1.2.0",
      "model_name": "LayoutModel",
      "state": {}
     },
     "4329544a588c4a60a4ddff76325ae181": {
      "model_module": "@jupyter-widgets/base",
      "model_module_version": "1.2.0",
      "model_name": "LayoutModel",
      "state": {
       "width": "450px"
      }
     },
     "434d391db03740e9a4c8400fe26024cb": {
      "model_module": "@jupyter-widgets/base",
      "model_module_version": "1.2.0",
      "model_name": "LayoutModel",
      "state": {}
     },
     "4355076458814038b6638d9375e794b4": {
      "model_module": "@jupyter-widgets/base",
      "model_module_version": "1.2.0",
      "model_name": "LayoutModel",
      "state": {
       "width": "auto"
      }
     },
     "43916f94e4b743ea8bfe4baf77ad0d26": {
      "model_module": "@jupyter-widgets/controls",
      "model_module_version": "1.5.0",
      "model_name": "ButtonModel",
      "state": {
       "button_style": "success",
       "description": "Send Command",
       "layout": "IPY_MODEL_4dcdc2fbd69448baaeadf4a0517beff0",
       "style": "IPY_MODEL_4ebd59a0f6ed47c98d921bd31d8bc182"
      }
     },
     "439b9f85c13f40cca596a0e8973574f5": {
      "model_module": "@jupyter-widgets/base",
      "model_module_version": "1.2.0",
      "model_name": "LayoutModel",
      "state": {}
     },
     "43b3715326af49e7b8fb60bcca7039c1": {
      "model_module": "@jupyter-widgets/controls",
      "model_module_version": "1.5.0",
      "model_name": "HTMLModel",
      "state": {
       "layout": "IPY_MODEL_c80c6a3c18084e6eaa4708ac64fc3748",
       "style": "IPY_MODEL_9d9a1d2b07ce4a2bb022cc8b3a3f99e1",
       "value": "<p>2022-06-27 04:56:13 UTC - Run Command: sayHello('alice')</p>"
      }
     },
     "43b5a6c03a2f4d7ba1ced378e5a6dcbb": {
      "model_module": "@jupyter-widgets/controls",
      "model_module_version": "1.5.0",
      "model_name": "ButtonModel",
      "state": {
       "button_style": "success",
       "description": "Draw",
       "layout": "IPY_MODEL_e94f86259f6c4b6697e66b739121d53a",
       "style": "IPY_MODEL_3e88b10206b849779a474a12c71e90f1"
      }
     },
     "43c6323eb3d3406babe1dbae69a053d7": {
      "model_module": "@jupyter-widgets/base",
      "model_module_version": "1.2.0",
      "model_name": "LayoutModel",
      "state": {}
     },
     "43edfb2d22004cd094c1362022a1d0e5": {
      "model_module": "@jupyter-widgets/controls",
      "model_module_version": "1.5.0",
      "model_name": "ButtonModel",
      "state": {
       "button_style": "success",
       "description": "Run",
       "layout": "IPY_MODEL_9bf9c36a77724034b2c33e2d655be2dd",
       "style": "IPY_MODEL_b2d4cf21a3fd4ae79307e6b68096435f"
      }
     },
     "4417196e617b4ff6955678278969834e": {
      "model_module": "@jupyter-widgets/controls",
      "model_module_version": "1.5.0",
      "model_name": "ButtonModel",
      "state": {
       "button_style": "success",
       "description": "Send Command",
       "layout": "IPY_MODEL_3b867006cfb0429b83b7be6bacbd88f3",
       "style": "IPY_MODEL_00bc9ce01e7b43e78aeb0b0e63204506"
      }
     },
     "4426625b7a934b009da725d611ba85ab": {
      "model_module": "@jupyter-widgets/controls",
      "model_module_version": "1.5.0",
      "model_name": "DescriptionStyleModel",
      "state": {
       "description_width": ""
      }
     },
     "449fca1fdc8848059c90ec7d229ae665": {
      "model_module": "@jupyter-widgets/controls",
      "model_module_version": "1.5.0",
      "model_name": "VBoxModel",
      "state": {
       "children": [
        "IPY_MODEL_db4a2ffac4284fdca7a148e86d7f360c",
        "IPY_MODEL_0c9afedfb09a43c2801b105fee92a771",
        "IPY_MODEL_3aabfcb2d57c466da284adf88f87a9e0"
       ],
       "layout": "IPY_MODEL_620aa390f8c64eaf9fac7d9449c8321b"
      }
     },
     "44a50da258bc4f86a934a5548003573e": {
      "model_module": "@jupyter-widgets/controls",
      "model_module_version": "1.5.0",
      "model_name": "ButtonStyleModel",
      "state": {}
     },
     "452cc52c1a114f5ab02704ae5b136c84": {
      "model_module": "@jupyter-widgets/controls",
      "model_module_version": "1.5.0",
      "model_name": "HBoxModel",
      "state": {
       "children": [
        "IPY_MODEL_2f47083fe44d4430b2ff3cb211125794",
        "IPY_MODEL_0dafc4d8fdbd483784265e89fa6b9157"
       ],
       "layout": "IPY_MODEL_d81e1a78fde74cac85dd03e9e5dc9912"
      }
     },
     "45a423705805402d842c86d3d76e3ea9": {
      "model_module": "@jupyter-widgets/base",
      "model_module_version": "1.2.0",
      "model_name": "LayoutModel",
      "state": {}
     },
     "45f2ede18ac0474d8ebaf8d842d14579": {
      "model_module": "@jupyter-widgets/controls",
      "model_module_version": "1.5.0",
      "model_name": "DescriptionStyleModel",
      "state": {
       "description_width": ""
      }
     },
     "4602f7a138c449da9b030a4b57dd300c": {
      "model_module": "@jupyter-widgets/controls",
      "model_module_version": "1.5.0",
      "model_name": "ButtonModel",
      "state": {
       "button_style": "warning",
       "description": "Pause",
       "layout": "IPY_MODEL_215556a7656648cd82518f1d9062c7ff",
       "style": "IPY_MODEL_24bae179b03349fe89303f7629ab957a"
      }
     },
     "460bfafefc3b4268b125fef954002bb2": {
      "model_module": "@jupyter-widgets/controls",
      "model_module_version": "1.5.0",
      "model_name": "ButtonStyleModel",
      "state": {}
     },
     "462400de640743d496eb24bd244e8c99": {
      "model_module": "@jupyter-widgets/base",
      "model_module_version": "1.2.0",
      "model_name": "LayoutModel",
      "state": {
       "width": "auto"
      }
     },
     "4639a98ccf1742e6b6734bf8416e68a2": {
      "model_module": "@jupyter-widgets/controls",
      "model_module_version": "1.5.0",
      "model_name": "ButtonStyleModel",
      "state": {}
     },
     "4672a4732dfe49118445ae81fe3f35be": {
      "model_module": "@jupyter-widgets/controls",
      "model_module_version": "1.5.0",
      "model_name": "ButtonModel",
      "state": {
       "button_style": "success",
       "description": "Select",
       "layout": "IPY_MODEL_dab5176235984766bc9cfdc4724991ed",
       "style": "IPY_MODEL_8e10fdcbd37a41c8bbda50280116317c"
      }
     },
     "467d098d24c5414186c0c6057c284a8c": {
      "model_module": "@jupyter-widgets/base",
      "model_module_version": "1.2.0",
      "model_name": "LayoutModel",
      "state": {
       "width": "auto"
      }
     },
     "46a9a0a91363479f9794716fc3c97dd2": {
      "model_module": "@jupyter-widgets/base",
      "model_module_version": "1.2.0",
      "model_name": "LayoutModel",
      "state": {}
     },
     "46ca8cb0136a4fd89404c488dc70798f": {
      "model_module": "@jupyter-widgets/base",
      "model_module_version": "1.2.0",
      "model_name": "LayoutModel",
      "state": {
       "width": "auto"
      }
     },
     "46f2f9a8a533487188275c156fa84a7d": {
      "model_module": "@jupyter-widgets/controls",
      "model_module_version": "1.5.0",
      "model_name": "HBoxModel",
      "state": {
       "children": [
        "IPY_MODEL_343a6404371b42169c2ef6d29322dbe2",
        "IPY_MODEL_7f67b45a00314184adca1fa8a98030f6"
       ],
       "layout": "IPY_MODEL_b6b4e15c210a4b1aabc3535f4e0f1175"
      }
     },
     "4711f2740ba44cc6bdc50496335a0438": {
      "model_module": "@jupyter-widgets/controls",
      "model_module_version": "1.5.0",
      "model_name": "ButtonModel",
      "state": {
       "button_style": "warning",
       "description": "Change Status",
       "layout": "IPY_MODEL_85d5ff5ffafd4172af153be51ae0b3f2",
       "style": "IPY_MODEL_7ebbd8ad11dc4b9d9e4b619ae24057a5"
      }
     },
     "4718c02244bd4a97b5f2d4b408682130": {
      "model_module": "@jupyter-widgets/base",
      "model_module_version": "1.2.0",
      "model_name": "LayoutModel",
      "state": {}
     },
     "472982cb27754d17b5a6c2a01a913b9d": {
      "model_module": "@jupyter-widgets/controls",
      "model_module_version": "1.5.0",
      "model_name": "HBoxModel",
      "state": {
       "children": [
        "IPY_MODEL_59dd623609f8488da01237a5154e7cf5",
        "IPY_MODEL_4672a4732dfe49118445ae81fe3f35be"
       ],
       "layout": "IPY_MODEL_f89a89b30be44551af79615af275f441"
      }
     },
     "4753195226df43949c996863c84fa8b1": {
      "model_module": "@jupyter-widgets/base",
      "model_module_version": "1.2.0",
      "model_name": "LayoutModel",
      "state": {}
     },
     "47d39ac2acb94b6297941a52cfe47c90": {
      "model_module": "@jupyter-widgets/base",
      "model_module_version": "1.2.0",
      "model_name": "LayoutModel",
      "state": {}
     },
     "48043f688177434d993b21b4a441c439": {
      "model_module": "@jupyter-widgets/base",
      "model_module_version": "1.2.0",
      "model_name": "LayoutModel",
      "state": {}
     },
     "480f33bbcc4f45948760cc048ff518f8": {
      "model_module": "@jupyter-widgets/controls",
      "model_module_version": "1.5.0",
      "model_name": "VBoxModel",
      "state": {
       "children": [
        "IPY_MODEL_76e5a656f10345de9c18b0f4ff62cc44",
        "IPY_MODEL_c698699e58c34a9aa2e9008b23e60f44"
       ],
       "layout": "IPY_MODEL_589567e1b10d490f849a24de0299bcb1"
      }
     },
     "4810ba0f5a454f1da78d6318a0bb832a": {
      "model_module": "@jupyter-widgets/base",
      "model_module_version": "1.2.0",
      "model_name": "LayoutModel",
      "state": {}
     },
     "48288712463944559925ba918b9ddaaa": {
      "model_module": "@jupyter-widgets/controls",
      "model_module_version": "1.5.0",
      "model_name": "HTMLModel",
      "state": {
       "layout": "IPY_MODEL_1d01cfdf3dea498e825ce0e555d09890",
       "style": "IPY_MODEL_a968d2bdcabb477696e32463879b0d5f",
       "value": "<h4>What do you want to do?</h4><p>You can send a new command to the device or change it's status between running, paused, and shutdown. </p> "
      }
     },
     "4863c5621e8f451587310e3d5b4bef7c": {
      "model_module": "@jupyter-widgets/controls",
      "model_module_version": "1.5.0",
      "model_name": "ButtonStyleModel",
      "state": {}
     },
     "489e3c97f0a442febffc19e613f69f59": {
      "model_module": "@jupyter-widgets/controls",
      "model_module_version": "1.5.0",
      "model_name": "ButtonModel",
      "state": {
       "button_style": "success",
       "description": "Select",
       "layout": "IPY_MODEL_9d73fb11c9f24268adb6af9334c7f4a9",
       "style": "IPY_MODEL_c4e6ce158c1545a184ee2d30d51b5ba0"
      }
     },
     "48bc5b9a80de4fb39fbd1b9fb77e07f6": {
      "model_module": "@jupyter-widgets/base",
      "model_module_version": "1.2.0",
      "model_name": "LayoutModel",
      "state": {}
     },
     "4931d95353254f19aad8393a44aaa8bd": {
      "model_module": "@jupyter-widgets/controls",
      "model_module_version": "1.5.0",
      "model_name": "ButtonModel",
      "state": {
       "button_style": "warning",
       "description": "Change Status",
       "layout": "IPY_MODEL_81d2864734a34312aea255c67b56c615",
       "style": "IPY_MODEL_81db5399a818455d97e13e69dd44942d"
      }
     },
     "493314bf078f425093bd99d334ef8b94": {
      "model_module": "@jupyter-widgets/controls",
      "model_module_version": "1.5.0",
      "model_name": "DescriptionStyleModel",
      "state": {
       "description_width": ""
      }
     },
     "49435d7a4c13471ab5e010534defbbaa": {
      "model_module": "@jupyter-widgets/controls",
      "model_module_version": "1.5.0",
      "model_name": "ButtonModel",
      "state": {
       "button_style": "success",
       "description": "Get",
       "layout": "IPY_MODEL_33d669ef79ef4516a4794ace91a2872e",
       "style": "IPY_MODEL_b4e0506f385745fb97dcbc9becbc040d"
      }
     },
     "4949c8959095469081f0aab06251dae3": {
      "model_module": "@jupyter-widgets/base",
      "model_module_version": "1.2.0",
      "model_name": "LayoutModel",
      "state": {
       "margin": "2px 20px 0 0"
      }
     },
     "4992dcc9b8094040aa78f3bca601210c": {
      "model_module": "@jupyter-widgets/controls",
      "model_module_version": "1.5.0",
      "model_name": "HBoxModel",
      "state": {
       "children": [
        "IPY_MODEL_43edfb2d22004cd094c1362022a1d0e5",
        "IPY_MODEL_42eeb15ac2104fa388b3b054428f44f2",
        "IPY_MODEL_57204ecfb1534881adc0e64b0a90fd73",
        "IPY_MODEL_5f25c66614bf48008e36b921a8a24742"
       ],
       "layout": "IPY_MODEL_3a39f0423b704064bce22001bb5bd109"
      }
     },
     "49b0dae21b9a45469c67b1948063b3ef": {
      "model_module": "@jupyter-widgets/controls",
      "model_module_version": "1.5.0",
      "model_name": "HTMLModel",
      "state": {
       "layout": "IPY_MODEL_d63cadf563064dcea47b863a9b222117",
       "style": "IPY_MODEL_1870c0432ce846628807761ed0f13d64",
       "value": "<h4>What do you want to do?</h4><p>You can send a new command to the device or change it's status between running, paused, and shutdown. </p> "
      }
     },
     "49c4b9f5f35142e3afb1e220600268c5": {
      "model_module": "@jupyter-widgets/controls",
      "model_module_version": "1.5.0",
      "model_name": "HTMLModel",
      "state": {
       "layout": "IPY_MODEL_9624be842a184f9f9fe39829b21b275d",
       "style": "IPY_MODEL_84366d6408ae4a2d962c0b642eb8da52",
       "value": "<h3>Select Device to Control</h3><p>Type the name of the device you wish to controle. Example: <code>flow_1</code></p>"
      }
     },
     "4a2f93afc5a04684b9edabeace177f5f": {
      "model_module": "@jupyter-widgets/controls",
      "model_module_version": "1.5.0",
      "model_name": "ButtonModel",
      "state": {
       "button_style": "success",
       "description": "Select",
       "layout": "IPY_MODEL_261b8f6ed3eb475d83bd09900731e907",
       "style": "IPY_MODEL_cf85f305af124608b66c227c3cbac57d"
      }
     },
     "4a327333d2b1447f8bffe884cefb0c21": {
      "model_module": "@jupyter-widgets/controls",
      "model_module_version": "1.5.0",
      "model_name": "DescriptionStyleModel",
      "state": {
       "description_width": ""
      }
     },
     "4a8d5ea017e44c32b3e1c7536c0b0d8d": {
      "model_module": "@jupyter-widgets/controls",
      "model_module_version": "1.5.0",
      "model_name": "HTMLModel",
      "state": {
       "layout": "IPY_MODEL_69426eaa0bbb4e9698b4f894e4ff6943",
       "style": "IPY_MODEL_fc5225276c4c484a8749ed25ed5ab19a",
       "value": "Job 0: Every 1 hour at 00:30:00 do sayHello(name='hourly,30') (last run: 2022-06-26 23:30:00, next run: 2022-06-27 00:30:00)"
      }
     },
     "4a94782c1764454c9452b3ab81e7c582": {
      "model_module": "@jupyter-widgets/controls",
      "model_module_version": "1.5.0",
      "model_name": "HTMLModel",
      "state": {
       "layout": "IPY_MODEL_882528d03a684bee85f24531a0a8289e",
       "style": "IPY_MODEL_f0a7f05af6dd4af59111dd83954b613e",
       "value": "<h4>What do you want to do?</h4><p>You can send a new command to the device or change it's status between running, paused, and shutdown. </p> "
      }
     },
     "4a9a488e219c45f9978af3aac9b4f7d6": {
      "model_module": "@jupyter-widgets/controls",
      "model_module_version": "1.5.0",
      "model_name": "ButtonStyleModel",
      "state": {}
     },
     "4a9ef4b4505b480c9509f70429442a1e": {
      "model_module": "@jupyter-widgets/base",
      "model_module_version": "1.2.0",
      "model_name": "LayoutModel",
      "state": {
       "margin": "2px 20px 0 0"
      }
     },
     "4a9fd57308ec4649a50576ce25feb6c5": {
      "model_module": "@jupyter-widgets/base",
      "model_module_version": "1.2.0",
      "model_name": "LayoutModel",
      "state": {}
     },
     "4ab933fbc33f44008c9c238e7e6fc886": {
      "model_module": "@jupyter-widgets/base",
      "model_module_version": "1.2.0",
      "model_name": "LayoutModel",
      "state": {}
     },
     "4b0735254a794af1ba5334531c2d5d52": {
      "model_module": "@jupyter-widgets/base",
      "model_module_version": "1.2.0",
      "model_name": "LayoutModel",
      "state": {}
     },
     "4b60d1b7376a41a1b074888585f27e8e": {
      "model_module": "@jupyter-widgets/controls",
      "model_module_version": "1.5.0",
      "model_name": "ButtonModel",
      "state": {
       "button_style": "primary",
       "description": "Send Command",
       "layout": "IPY_MODEL_797b0187ee4b40a1a0205ef5e023dbdf",
       "style": "IPY_MODEL_fc7c0e8282764da79fac388af69fcc9e"
      }
     },
     "4b94ab833206490e9e703cd2378c3733": {
      "model_module": "@jupyter-widgets/controls",
      "model_module_version": "1.5.0",
      "model_name": "ButtonModel",
      "state": {
       "button_style": "success",
       "description": "Send",
       "layout": "IPY_MODEL_d87f8b73d9454497920d5022a5f8e373",
       "style": "IPY_MODEL_e1677da7cf0c422bbe3d08873d7ee624"
      }
     },
     "4bd8514caebd42f1a0d57c7f464eb6d4": {
      "model_module": "@jupyter-widgets/controls",
      "model_module_version": "1.5.0",
      "model_name": "TextModel",
      "state": {
       "description": "Command",
       "layout": "IPY_MODEL_0c43576ea5924d3bae8420d631180f27",
       "style": "IPY_MODEL_3ace802f9e3e49c1bf585ea1ebca2740"
      }
     },
     "4be124a0df5949798819f8732c0c2ea7": {
      "model_module": "@jupyter-widgets/base",
      "model_module_version": "1.2.0",
      "model_name": "LayoutModel",
      "state": {
       "margin": "2px 20px 0 0"
      }
     },
     "4c94db5e23f2476ab50cec19c1ea4101": {
      "model_module": "@jupyter-widgets/base",
      "model_module_version": "1.2.0",
      "model_name": "LayoutModel",
      "state": {}
     },
     "4d0eb6e32f0c415d85786e10c06ece4b": {
      "model_module": "@jupyter-widgets/base",
      "model_module_version": "1.2.0",
      "model_name": "LayoutModel",
      "state": {
       "width": "auto"
      }
     },
     "4d21b843856c4798a00b64474265c672": {
      "model_module": "@jupyter-widgets/base",
      "model_module_version": "1.2.0",
      "model_name": "LayoutModel",
      "state": {}
     },
     "4d2abe6af6af4d4a911423dc298f6997": {
      "model_module": "@jupyter-widgets/controls",
      "model_module_version": "1.5.0",
      "model_name": "ButtonStyleModel",
      "state": {}
     },
     "4d44dbb317ea42b58e0af67e564dea04": {
      "model_module": "@jupyter-widgets/controls",
      "model_module_version": "1.5.0",
      "model_name": "DescriptionStyleModel",
      "state": {
       "description_width": ""
      }
     },
     "4d79962a58b9411ba803a5090322d1a2": {
      "model_module": "@jupyter-widgets/controls",
      "model_module_version": "1.5.0",
      "model_name": "ButtonStyleModel",
      "state": {}
     },
     "4db2a8f258bb4b38931f7416cd8588b8": {
      "model_module": "@jupyter-widgets/controls",
      "model_module_version": "1.5.0",
      "model_name": "ButtonModel",
      "state": {
       "button_style": "success",
       "description": "Select",
       "layout": "IPY_MODEL_f2a25e0c2e2849a691f60651b6748de7",
       "style": "IPY_MODEL_78d5dfb2538d41c3a4cb5507aeb48442"
      }
     },
     "4db5c7ce4cb048ec9a9ea58946d538c6": {
      "model_module": "@jupyter-widgets/base",
      "model_module_version": "1.2.0",
      "model_name": "LayoutModel",
      "state": {}
     },
     "4dcdc2fbd69448baaeadf4a0517beff0": {
      "model_module": "@jupyter-widgets/base",
      "model_module_version": "1.2.0",
      "model_name": "LayoutModel",
      "state": {
       "margin": "2px 20px 0 0"
      }
     },
     "4dea51f523e34a0db3434889c7d46c61": {
      "model_module": "@jupyter-widgets/controls",
      "model_module_version": "1.5.0",
      "model_name": "DescriptionStyleModel",
      "state": {
       "description_width": ""
      }
     },
     "4e2142271e5940c399d8afa506cb11cd": {
      "model_module": "@jupyter-widgets/base",
      "model_module_version": "1.2.0",
      "model_name": "LayoutModel",
      "state": {}
     },
     "4e53fd5543ba43ea97664be542b97d0b": {
      "model_module": "@jupyter-widgets/controls",
      "model_module_version": "1.5.0",
      "model_name": "HBoxModel",
      "state": {
       "children": [
        "IPY_MODEL_be66561bab20460f8dce49de024b8c24",
        "IPY_MODEL_6851ab5e9ec0410f831e763634b040b7",
        "IPY_MODEL_0d1a6bf0370244e3bac310af38d8f463",
        "IPY_MODEL_a175a57c8f3f42d691ea505455eadf6d"
       ],
       "layout": "IPY_MODEL_cc07398da0bd4b9394c6aca4e9c724bf"
      }
     },
     "4e7f3cde47b64bcb9eae9032c31ef1aa": {
      "model_module": "@jupyter-widgets/controls",
      "model_module_version": "1.5.0",
      "model_name": "HTMLModel",
      "state": {
       "layout": "IPY_MODEL_dbf8a4079a2a4e12aad4b688015c32a5",
       "style": "IPY_MODEL_32ca993fcf71436aa603994b5ce2c284",
       "value": "<h4>What do you want to do?</h4><p>You can send a new command to the device or change it's status between running, paused, and shutdown. </p> "
      }
     },
     "4ea6e8cb70e145e7a5b1ff1632668946": {
      "model_module": "@jupyter-widgets/base",
      "model_module_version": "1.2.0",
      "model_name": "LayoutModel",
      "state": {}
     },
     "4ebd59a0f6ed47c98d921bd31d8bc182": {
      "model_module": "@jupyter-widgets/controls",
      "model_module_version": "1.5.0",
      "model_name": "ButtonStyleModel",
      "state": {}
     },
     "4ed3fc0c481347cdb763cd34c26709b0": {
      "model_module": "@jupyter-widgets/controls",
      "model_module_version": "1.5.0",
      "model_name": "ButtonStyleModel",
      "state": {}
     },
     "4f0476efa1c94177b049400c1f238945": {
      "model_module": "@jupyter-widgets/controls",
      "model_module_version": "1.5.0",
      "model_name": "HBoxModel",
      "state": {
       "children": [
        "IPY_MODEL_bffce6d632f24cba8dddf8c08fabb114",
        "IPY_MODEL_f6e8a5a2b6814fb394a0ff5a5a147145",
        "IPY_MODEL_aedb91a3b75e4e09b74ec08d47cc1ef6"
       ],
       "layout": "IPY_MODEL_1be1155f2f9c4a4db3c5a8353ee8f511"
      }
     },
     "4f1b9ac2d93c440f9faed893d8f986a5": {
      "model_module": "@jupyter-widgets/base",
      "model_module_version": "1.2.0",
      "model_name": "LayoutModel",
      "state": {}
     },
     "4f2c4529fd6d4e759b6044bff61a2b08": {
      "model_module": "@jupyter-widgets/base",
      "model_module_version": "1.2.0",
      "model_name": "LayoutModel",
      "state": {
       "margin": "2px 20px 0 0"
      }
     },
     "4f8c34ec8988433e8c02cb00bb6058d9": {
      "model_module": "@jupyter-widgets/controls",
      "model_module_version": "1.5.0",
      "model_name": "ButtonModel",
      "state": {
       "button_style": "warning",
       "description": "Pause",
       "layout": "IPY_MODEL_04efceb7001d4978854889d6fdfdca8e",
       "style": "IPY_MODEL_44a50da258bc4f86a934a5548003573e"
      }
     },
     "4fd9061477674b58bc64d3b026b15fe6": {
      "model_module": "@jupyter-widgets/controls",
      "model_module_version": "1.5.0",
      "model_name": "ButtonModel",
      "state": {
       "button_style": "success",
       "description": "Get",
       "layout": "IPY_MODEL_639d019789b24da4b9f5eb9a52695caa",
       "style": "IPY_MODEL_2517a951e6e24c1dbc4ab3ebb4cbb2dc"
      }
     },
     "504bab4c1272410ba35d03f0b16f1c25": {
      "model_module": "@jupyter-widgets/controls",
      "model_module_version": "1.5.0",
      "model_name": "VBoxModel",
      "state": {
       "children": [
        "IPY_MODEL_f01c5a03edb04d15a8c6a1e91aedbba1",
        "IPY_MODEL_54df7fda801c4ab88418e9fb3e849cc7"
       ],
       "layout": "IPY_MODEL_db0fcee18d7f4bc3a067c10ec1cb6507"
      }
     },
     "5058c4ec788640ad8f91d3ff2e75a77d": {
      "model_module": "@jupyter-widgets/controls",
      "model_module_version": "1.5.0",
      "model_name": "DescriptionStyleModel",
      "state": {
       "description_width": ""
      }
     },
     "509ce36d28864fa181edda52fc8fc64a": {
      "model_module": "@jupyter-widgets/controls",
      "model_module_version": "1.5.0",
      "model_name": "ButtonModel",
      "state": {
       "button_style": "success",
       "description": "Send Command",
       "layout": "IPY_MODEL_590a1c7c007e4706b72ba2a341c32c55",
       "style": "IPY_MODEL_25b70391fec045b68f9ded54abc18bf2"
      }
     },
     "50c5307596d249c2af74e9d845964c45": {
      "model_module": "@jupyter-widgets/controls",
      "model_module_version": "1.5.0",
      "model_name": "ButtonModel",
      "state": {
       "button_style": "success",
       "description": "Select",
       "layout": "IPY_MODEL_0cb1541a201c4ab297e41e04f57fee0f",
       "style": "IPY_MODEL_b9dc82f7b7894f73aa7bfe40c951baff"
      }
     },
     "511f1f3c807d469186b2638692b83cef": {
      "model_module": "@jupyter-widgets/controls",
      "model_module_version": "1.5.0",
      "model_name": "DescriptionStyleModel",
      "state": {
       "description_width": ""
      }
     },
     "512c807072f04afbb668a6aadeff64b7": {
      "model_module": "@jupyter-widgets/controls",
      "model_module_version": "1.5.0",
      "model_name": "ButtonStyleModel",
      "state": {}
     },
     "5132566fba894deca57d80455c9d69bb": {
      "model_module": "@jupyter-widgets/controls",
      "model_module_version": "1.5.0",
      "model_name": "HTMLModel",
      "state": {
       "layout": "IPY_MODEL_7e0beef3681f47b99d7a49524a5d5701",
       "style": "IPY_MODEL_de0405f9bca8408c8e06b7a346b5c3c8",
       "value": "<p>Type your device command below. It will be sent to </p>"
      }
     },
     "51336fad336b485f99dba9c4c85a8e35": {
      "model_module": "@jupyter-widgets/base",
      "model_module_version": "1.2.0",
      "model_name": "LayoutModel",
      "state": {
       "width": "auto"
      }
     },
     "515545d1d6cd46689178e5fffe839e85": {
      "model_module": "@jupyter-widgets/controls",
      "model_module_version": "1.5.0",
      "model_name": "HTMLModel",
      "state": {
       "layout": "IPY_MODEL_181e65871adc4133be9540d59c1cfadb",
       "style": "IPY_MODEL_1f66567bbe6d46679f37a6858769f670",
       "value": "Job 0: Every 1 hour at 00:30:00 do sayHello(name='hourly,30') (last run: 2022-06-26 22:30:00, next run: 2022-06-26 23:30:00)"
      }
     },
     "519adc0211f349639012ae3852318fb7": {
      "model_module": "@jupyter-widgets/controls",
      "model_module_version": "1.5.0",
      "model_name": "ButtonModel",
      "state": {
       "button_style": "success",
       "description": "Send Command",
       "layout": "IPY_MODEL_cb03d431c710413f8f0cefadcbf745ef",
       "style": "IPY_MODEL_57ebfc23e04f4a518f95d5598bbc475b"
      }
     },
     "519fd72b0bda4249985ebc99aff1970b": {
      "model_module": "@jupyter-widgets/controls",
      "model_module_version": "1.5.0",
      "model_name": "HTMLModel",
      "state": {
       "layout": "IPY_MODEL_e9572f9faaea46dd8b43416637243074",
       "style": "IPY_MODEL_10bddbbe33644e76bca90ae85fd40d31",
       "value": "<h3>pic_1</h3>"
      }
     },
     "51cadb353701465bb75b1d97a69816cb": {
      "model_module": "@jupyter-widgets/controls",
      "model_module_version": "1.5.0",
      "model_name": "HBoxModel",
      "state": {
       "children": [
        "IPY_MODEL_2f41cc2da9444ed9b62675062d43d32c",
        "IPY_MODEL_5c91c56e5bf24dbb9d61b84b1d43dffc"
       ],
       "layout": "IPY_MODEL_c7525b0ba3d4450bb759a8b31658a4a8"
      }
     },
     "51e8ffcc153d4092b8543f7b66fa4d6e": {
      "model_module": "@jupyter-widgets/controls",
      "model_module_version": "1.5.0",
      "model_name": "ButtonModel",
      "state": {
       "button_style": "success",
       "description": "Select",
       "layout": "IPY_MODEL_3780195127434a69aaca97490ab5a032",
       "style": "IPY_MODEL_55bca67734e342ada0d4d5794c41415d"
      }
     },
     "51fee718e79349e5b8127b703903e8a6": {
      "model_module": "@jupyter-widgets/controls",
      "model_module_version": "1.5.0",
      "model_name": "HBoxModel",
      "state": {
       "children": [
        "IPY_MODEL_b0b6c78fc7b4479a9cce16f24456ab95",
        "IPY_MODEL_ff235cc06cfb4177aea2509c94c6cea8"
       ],
       "layout": "IPY_MODEL_62561a51d5a84e109f969dd436b7e92a"
      }
     },
     "52107805deff4b4398d16b969d9d8006": {
      "model_module": "@jupyter-widgets/controls",
      "model_module_version": "1.5.0",
      "model_name": "VBoxModel",
      "state": {
       "children": [
        "IPY_MODEL_77f7e0e6d8114601af62017320097a06",
        "IPY_MODEL_51fee718e79349e5b8127b703903e8a6"
       ],
       "layout": "IPY_MODEL_f27764dc253542f5ab4f7ba0989186b3"
      }
     },
     "522add6181f842eb991d7a7267a7a809": {
      "model_module": "@jupyter-widgets/controls",
      "model_module_version": "1.5.0",
      "model_name": "ButtonModel",
      "state": {
       "button_style": "success",
       "description": "Send",
       "layout": "IPY_MODEL_d83d51c5d8cd4b70b60a800d2209e658",
       "style": "IPY_MODEL_42f0952ca4c548d58699fb3806f201be"
      }
     },
     "5271229835a34d09bc75bf138279b04c": {
      "model_module": "@jupyter-widgets/base",
      "model_module_version": "1.2.0",
      "model_name": "LayoutModel",
      "state": {}
     },
     "529252e3bd094918b62ec4bb640568c2": {
      "model_module": "@jupyter-widgets/controls",
      "model_module_version": "1.5.0",
      "model_name": "DescriptionStyleModel",
      "state": {
       "description_width": ""
      }
     },
     "52cf814ae4ee4234a428312374a79738": {
      "model_module": "@jupyter-widgets/controls",
      "model_module_version": "1.5.0",
      "model_name": "DescriptionStyleModel",
      "state": {
       "description_width": ""
      }
     },
     "5322129d59ed4e00a08c1767c39966ca": {
      "model_module": "@jupyter-widgets/controls",
      "model_module_version": "1.5.0",
      "model_name": "ButtonModel",
      "state": {
       "button_style": "success",
       "description": "Change Status",
       "layout": "IPY_MODEL_c31f938aabae4b948f733fa4b15e0138",
       "style": "IPY_MODEL_8819f69b804a49919737ea5397ae73bf"
      }
     },
     "5327e402a022431c995410c1969905e5": {
      "model_module": "@jupyter-widgets/controls",
      "model_module_version": "1.5.0",
      "model_name": "HBoxModel",
      "state": {
       "children": [
        "IPY_MODEL_5b27ec9badea4eb2a1b8097da098a163",
        "IPY_MODEL_c5fb57cd894a48c9ba4b8c694bb7decb",
        "IPY_MODEL_b6d12c4709d04773be4f22c199bcee4a",
        "IPY_MODEL_98ba4c0d69c6457e85c029bef61eb7fa"
       ],
       "layout": "IPY_MODEL_e03ac017f42441418c7e70a5a7166e27"
      }
     },
     "5339617efb564f3492d02229a8a25171": {
      "model_module": "@jupyter-widgets/controls",
      "model_module_version": "1.5.0",
      "model_name": "DescriptionStyleModel",
      "state": {
       "description_width": ""
      }
     },
     "536d66121b694e75b3decfc2219fe74c": {
      "model_module": "@jupyter-widgets/controls",
      "model_module_version": "1.5.0",
      "model_name": "DescriptionStyleModel",
      "state": {
       "description_width": ""
      }
     },
     "539a265f172341fc9f6a1153e5a6b810": {
      "model_module": "@jupyter-widgets/controls",
      "model_module_version": "1.5.0",
      "model_name": "ButtonModel",
      "state": {
       "button_style": "primary",
       "description": "Send Command",
       "layout": "IPY_MODEL_7ca74562d8c7480491b47616d3fe26df",
       "style": "IPY_MODEL_a898388a8d814c2d89b2b5a53fd5504c"
      }
     },
     "539d7e66b92241ee83a4f8b42e97e39d": {
      "model_module": "@jupyter-widgets/base",
      "model_module_version": "1.2.0",
      "model_name": "LayoutModel",
      "state": {
       "width": "auto"
      }
     },
     "53c90d7e239c4fce8d886b572711f35a": {
      "model_module": "@jupyter-widgets/base",
      "model_module_version": "1.2.0",
      "model_name": "LayoutModel",
      "state": {
       "width": "auto"
      }
     },
     "53d495efcac5439793b8c5a32ed839cd": {
      "model_module": "@jupyter-widgets/base",
      "model_module_version": "1.2.0",
      "model_name": "LayoutModel",
      "state": {}
     },
     "53dd5b7779eb46a588f3c7540dab80eb": {
      "model_module": "@jupyter-widgets/base",
      "model_module_version": "1.2.0",
      "model_name": "LayoutModel",
      "state": {
       "width": "auto"
      }
     },
     "5411593d312a408ab46b90000c692c36": {
      "model_module": "@jupyter-widgets/base",
      "model_module_version": "1.2.0",
      "model_name": "LayoutModel",
      "state": {}
     },
     "546a4b6b589d4c55b291bb8d2423bcdd": {
      "model_module": "@jupyter-widgets/controls",
      "model_module_version": "1.5.0",
      "model_name": "ButtonModel",
      "state": {
       "button_style": "warning",
       "description": "Pause",
       "layout": "IPY_MODEL_aa3910fe634c41438756c1d58e5b52d9",
       "style": "IPY_MODEL_6b4fa96a3ba54d3fa337605c10f9b526"
      }
     },
     "546bdd1e3cfc422dabd75256306cb513": {
      "model_module": "@jupyter-widgets/controls",
      "model_module_version": "1.5.0",
      "model_name": "DescriptionStyleModel",
      "state": {
       "description_width": ""
      }
     },
     "548a17b1484b48d1b2a27f4977f8a498": {
      "model_module": "@jupyter-widgets/base",
      "model_module_version": "1.2.0",
      "model_name": "LayoutModel",
      "state": {}
     },
     "5496b558d16e4abda8e0ab4cb6d845e8": {
      "model_module": "@jupyter-widgets/controls",
      "model_module_version": "1.5.0",
      "model_name": "VBoxModel",
      "state": {
       "children": [
        "IPY_MODEL_5a5df7e2809242abb984cfb909dc0680",
        "IPY_MODEL_a0b4cbfa29e940f684d1aa7ce4a110db"
       ],
       "layout": "IPY_MODEL_138a4781df9f4e449fb5a6903e43ddbf"
      }
     },
     "54df7fda801c4ab88418e9fb3e849cc7": {
      "model_module": "@jupyter-widgets/controls",
      "model_module_version": "1.5.0",
      "model_name": "HBoxModel",
      "state": {
       "children": [
        "IPY_MODEL_cda055bae9cb4cc8bd21bac4729357c2",
        "IPY_MODEL_4931d95353254f19aad8393a44aaa8bd"
       ],
       "layout": "IPY_MODEL_1db0bf172a98498faee84626e24d82cc"
      }
     },
     "54f3e54d63174be6995d432ecf72c0fd": {
      "model_module": "@jupyter-widgets/base",
      "model_module_version": "1.2.0",
      "model_name": "LayoutModel",
      "state": {
       "width": "auto"
      }
     },
     "552bd33873ac404f9861368d09317ce9": {
      "model_module": "@jupyter-widgets/controls",
      "model_module_version": "1.5.0",
      "model_name": "TextModel",
      "state": {
       "description": "Device",
       "layout": "IPY_MODEL_3677796d256e4955bfe3886579ef0a8b",
       "style": "IPY_MODEL_ac73fe794cdd4d73b76b816f4e487092"
      }
     },
     "55327c7e124e4d0b9126086a0d6924cb": {
      "model_module": "@jupyter-widgets/controls",
      "model_module_version": "1.5.0",
      "model_name": "ButtonModel",
      "state": {
       "button_style": "success",
       "description": "Select",
       "layout": "IPY_MODEL_2b512eca080b448faa9d1f01a4067d7c",
       "style": "IPY_MODEL_914ada2cd73e4df9a059d79d291eb710"
      }
     },
     "554a0432f86c4e1f810e8a4dcbdbab0e": {
      "model_module": "@jupyter-widgets/controls",
      "model_module_version": "1.5.0",
      "model_name": "ButtonStyleModel",
      "state": {}
     },
     "5591805a03364495ad3257e47c3835eb": {
      "model_module": "@jupyter-widgets/base",
      "model_module_version": "1.2.0",
      "model_name": "LayoutModel",
      "state": {}
     },
     "55a4b8a07b1944f5b43ee116ea835e8c": {
      "model_module": "@jupyter-widgets/controls",
      "model_module_version": "1.5.0",
      "model_name": "HTMLModel",
      "state": {
       "layout": "IPY_MODEL_5591805a03364495ad3257e47c3835eb",
       "style": "IPY_MODEL_f0fd3dc99d4f4dd188d85f0aef6ec799",
       "value": "<h3>Select Devices</h3><p>Type the name of the devices you wish to view.</p><p>Use a comma to seperate them and no spaces! Example: <code>flow_1,pic_1</code></p>"
      }
     },
     "55a869bd557f4de490afc443711142d6": {
      "model_module": "@jupyter-widgets/base",
      "model_module_version": "1.2.0",
      "model_name": "LayoutModel",
      "state": {}
     },
     "55bca67734e342ada0d4d5794c41415d": {
      "model_module": "@jupyter-widgets/controls",
      "model_module_version": "1.5.0",
      "model_name": "ButtonStyleModel",
      "state": {}
     },
     "55ee45f003f143db98f822d71602ffe9": {
      "model_module": "@jupyter-widgets/controls",
      "model_module_version": "1.5.0",
      "model_name": "DescriptionStyleModel",
      "state": {
       "description_width": ""
      }
     },
     "565bb3978be141fdb0842fd746637815": {
      "model_module": "@jupyter-widgets/base",
      "model_module_version": "1.2.0",
      "model_name": "LayoutModel",
      "state": {
       "margin": "2px 20px 0 0"
      }
     },
     "56673cf8207c43e9bb3d030cfb22fc4a": {
      "model_module": "@jupyter-widgets/controls",
      "model_module_version": "1.5.0",
      "model_name": "TextModel",
      "state": {
       "description": "Command",
       "layout": "IPY_MODEL_4355076458814038b6638d9375e794b4",
       "style": "IPY_MODEL_902d33569de74780a9eba368fe75f469"
      }
     },
     "56937c7e6dc040bba4b1b4a0e908295c": {
      "model_module": "@jupyter-widgets/base",
      "model_module_version": "1.2.0",
      "model_name": "LayoutModel",
      "state": {}
     },
     "56d13b6e19ed4dfa91166c38ef7e22c3": {
      "model_module": "@jupyter-widgets/controls",
      "model_module_version": "1.5.0",
      "model_name": "DescriptionStyleModel",
      "state": {
       "description_width": ""
      }
     },
     "56feb1b21bcc4641bf61011a556ea4ab": {
      "model_module": "@jupyter-widgets/base",
      "model_module_version": "1.2.0",
      "model_name": "LayoutModel",
      "state": {
       "margin": "2px 20px 0 0",
       "width": "auto"
      }
     },
     "57204ecfb1534881adc0e64b0a90fd73": {
      "model_module": "@jupyter-widgets/controls",
      "model_module_version": "1.5.0",
      "model_name": "ButtonModel",
      "state": {
       "button_style": "danger",
       "description": "Shutdown",
       "layout": "IPY_MODEL_0a0841a857204d719ca397603a2f2c72",
       "style": "IPY_MODEL_370922426fa94ab0852b5b310b297043"
      }
     },
     "572f536e76d34d07af29473d0d499505": {
      "model_module": "@jupyter-widgets/controls",
      "model_module_version": "1.5.0",
      "model_name": "TextModel",
      "state": {
       "description": "Device",
       "layout": "IPY_MODEL_0ceea95a96184b12aef57f41a52b3cc5",
       "style": "IPY_MODEL_40cdd4263a5e4dfca534b67bad4622b3"
      }
     },
     "573443cddb2542aaaf151007a6cb0a5f": {
      "model_module": "@jupyter-widgets/controls",
      "model_module_version": "1.5.0",
      "model_name": "ButtonModel",
      "state": {
       "button_style": "warning",
       "description": "Change Status",
       "layout": "IPY_MODEL_0fda38fab4234dcab3c88c8fc07cf563",
       "style": "IPY_MODEL_414888533b1140baadec73b21a5c83ec"
      }
     },
     "57ebfc23e04f4a518f95d5598bbc475b": {
      "model_module": "@jupyter-widgets/controls",
      "model_module_version": "1.5.0",
      "model_name": "ButtonStyleModel",
      "state": {}
     },
     "584012062f454a0fb1ba62e5e765f1cc": {
      "model_module": "@jupyter-widgets/base",
      "model_module_version": "1.2.0",
      "model_name": "LayoutModel",
      "state": {}
     },
     "589567e1b10d490f849a24de0299bcb1": {
      "model_module": "@jupyter-widgets/base",
      "model_module_version": "1.2.0",
      "model_name": "LayoutModel",
      "state": {}
     },
     "58bdb8bd819644c09e5a53449571ad6c": {
      "model_module": "@jupyter-widgets/controls",
      "model_module_version": "1.5.0",
      "model_name": "ButtonModel",
      "state": {
       "button_style": "success",
       "description": "Send",
       "layout": "IPY_MODEL_06f6da94d28b4314ad35fd1e2ea6ffcb",
       "style": "IPY_MODEL_333d5c9375b045978f85b52014405d51"
      }
     },
     "58c4002f0ad74cbabacdcc591becca3c": {
      "model_module": "@jupyter-widgets/controls",
      "model_module_version": "1.5.0",
      "model_name": "VBoxModel",
      "state": {
       "children": [
        "IPY_MODEL_ce8d8829673c437cae77aa44c48de117",
        "IPY_MODEL_1dbe26b69a3141208b7c242cbd50cb61",
        "IPY_MODEL_639cd860eee7479c80874c0d6da92490"
       ],
       "layout": "IPY_MODEL_8b465db5c3fb4531ad92d2b1ab3a7179"
      }
     },
     "58df8c62f5cc4bc2b30b4c1aa3908b6d": {
      "model_module": "@jupyter-widgets/base",
      "model_module_version": "1.2.0",
      "model_name": "LayoutModel",
      "state": {}
     },
     "58e4ed50b33843508502a66f542047fd": {
      "model_module": "@jupyter-widgets/controls",
      "model_module_version": "1.5.0",
      "model_name": "HBoxModel",
      "state": {
       "children": [
        "IPY_MODEL_23de640d333c4c44bf6d09a06ba64fb9",
        "IPY_MODEL_51e8ffcc153d4092b8543f7b66fa4d6e"
       ],
       "layout": "IPY_MODEL_fdffe127227744f6b7ccb17ab8913b18"
      }
     },
     "58fcc307925f45d894cf09c95e591b24": {
      "model_module": "@jupyter-widgets/controls",
      "model_module_version": "1.5.0",
      "model_name": "ButtonStyleModel",
      "state": {}
     },
     "590a1c7c007e4706b72ba2a341c32c55": {
      "model_module": "@jupyter-widgets/base",
      "model_module_version": "1.2.0",
      "model_name": "LayoutModel",
      "state": {
       "margin": "2px 20px 0 0"
      }
     },
     "596bfbdee9634e2aa67918833a8cb7f7": {
      "model_module": "@jupyter-widgets/controls",
      "model_module_version": "1.5.0",
      "model_name": "ButtonStyleModel",
      "state": {}
     },
     "59b66982325b4afcaaa802366c5f4377": {
      "model_module": "@jupyter-widgets/controls",
      "model_module_version": "1.5.0",
      "model_name": "ButtonModel",
      "state": {
       "button_style": "info",
       "icon": "refresh",
       "layout": "IPY_MODEL_17b9edbace324e5a9a5a7c23813d7210",
       "style": "IPY_MODEL_dc7bea9157224d4c820711b8902a6e9f"
      }
     },
     "59dd623609f8488da01237a5154e7cf5": {
      "model_module": "@jupyter-widgets/controls",
      "model_module_version": "1.5.0",
      "model_name": "TextModel",
      "state": {
       "description": "Device",
       "layout": "IPY_MODEL_e2b49bc9b7af4d21aafe947c7d38d4ed",
       "style": "IPY_MODEL_e0f1c6e1993d40f19ee9531aca0d1b84"
      }
     },
     "59e1a244ab11458a8de557a3d9594629": {
      "model_module": "@jupyter-widgets/controls",
      "model_module_version": "1.5.0",
      "model_name": "HTMLModel",
      "state": {
       "layout": "IPY_MODEL_99d2b21026ea43f7b325f1f0c4f3ad2a",
       "style": "IPY_MODEL_a2c5b243d2e741699b7682353c794ed2",
       "value": "<h3>pic_1</h3>"
      }
     },
     "5a3d7c9704a94f1193d8beb5d4fbccf0": {
      "model_module": "@jupyter-widgets/controls",
      "model_module_version": "1.5.0",
      "model_name": "HTMLModel",
      "state": {
       "layout": "IPY_MODEL_c3d7bcd9b5f8458ebed4a3ea34724dc6",
       "style": "IPY_MODEL_75c487786adc4376b093545f3121c213",
       "value": "<h3>Select Devices</h3><p>Type the name of the devices you wish to view.\nUse a comma to seperate them and no spaces! Example: <code>flow_1,pic_1</code></p>"
      }
     },
     "5a5df7e2809242abb984cfb909dc0680": {
      "model_module": "@jupyter-widgets/controls",
      "model_module_version": "1.5.0",
      "model_name": "HTMLModel",
      "state": {
       "layout": "IPY_MODEL_2ad89f6feef94eb7a9c2b1c9362f2cde",
       "style": "IPY_MODEL_66482a66d39742bc8e91c857209349e6",
       "value": "<h3>Select Device to Control</h3><p>Type the name of the device you wish to controle. Example: <code>flow_1</code></p>"
      }
     },
     "5a8923135f8845cc93e904f8b226153e": {
      "model_module": "@jupyter-widgets/base",
      "model_module_version": "1.2.0",
      "model_name": "LayoutModel",
      "state": {
       "width": "auto"
      }
     },
     "5ab9f7d186e14593924571faa5a4ee24": {
      "model_module": "@jupyter-widgets/base",
      "model_module_version": "1.2.0",
      "model_name": "LayoutModel",
      "state": {
       "width": "auto"
      }
     },
     "5abd614b7ecc45238c515540e11f376b": {
      "model_module": "@jupyter-widgets/base",
      "model_module_version": "1.2.0",
      "model_name": "LayoutModel",
      "state": {}
     },
     "5acd7cf7439b40f9a641461a0edd02ae": {
      "model_module": "@jupyter-widgets/base",
      "model_module_version": "1.2.0",
      "model_name": "LayoutModel",
      "state": {
       "margin": "2px 20px 0 0"
      }
     },
     "5ace30c998d341dea2517062ac166150": {
      "model_module": "@jupyter-widgets/controls",
      "model_module_version": "1.5.0",
      "model_name": "ButtonStyleModel",
      "state": {}
     },
     "5aff2ed365584a24a0362548c53a524d": {
      "model_module": "@jupyter-widgets/base",
      "model_module_version": "1.2.0",
      "model_name": "LayoutModel",
      "state": {
       "width": "auto"
      }
     },
     "5b27ec9badea4eb2a1b8097da098a163": {
      "model_module": "@jupyter-widgets/controls",
      "model_module_version": "1.5.0",
      "model_name": "ButtonModel",
      "state": {
       "button_style": "success",
       "description": "Run",
       "layout": "IPY_MODEL_72eb6afd5d184fec8707f4435f810bd7",
       "style": "IPY_MODEL_065bd2f08e9d4c8d83d5f830facbc701"
      }
     },
     "5b4721df916c47b0ae257a160d12d36d": {
      "model_module": "@jupyter-widgets/controls",
      "model_module_version": "1.5.0",
      "model_name": "ButtonStyleModel",
      "state": {}
     },
     "5b648cf45a524dce86c96c564ead8779": {
      "model_module": "@jupyter-widgets/controls",
      "model_module_version": "1.5.0",
      "model_name": "TextModel",
      "state": {
       "description": "Device",
       "layout": "IPY_MODEL_072e77ff908544c49501ebda19145242",
       "style": "IPY_MODEL_70705d972f044880b83bfe5ac28cd1f9"
      }
     },
     "5b968e65c8564f60a8a327af45977e2b": {
      "model_module": "@jupyter-widgets/controls",
      "model_module_version": "1.5.0",
      "model_name": "HBoxModel",
      "state": {
       "children": [
        "IPY_MODEL_9a97dfb43b544790a353a4adcd2ca52a",
        "IPY_MODEL_27e2d611e02e4b4fbeddc769e125c55e"
       ],
       "layout": "IPY_MODEL_cbc783da85ae4ec995bfb798002cb1e7"
      }
     },
     "5bcb9d99a23d40518ff51d31c9827be0": {
      "model_module": "@jupyter-widgets/base",
      "model_module_version": "1.2.0",
      "model_name": "LayoutModel",
      "state": {
       "width": "auto"
      }
     },
     "5bd27307147d4f48acc12993593482bf": {
      "model_module": "@jupyter-widgets/controls",
      "model_module_version": "1.5.0",
      "model_name": "ButtonStyleModel",
      "state": {}
     },
     "5bf8f16679f54baf9203c11e056a261d": {
      "model_module": "@jupyter-widgets/controls",
      "model_module_version": "1.5.0",
      "model_name": "ButtonStyleModel",
      "state": {}
     },
     "5c0f4cc1f7ca420eae1ce4f34fa44a47": {
      "model_module": "@jupyter-widgets/controls",
      "model_module_version": "1.5.0",
      "model_name": "DescriptionStyleModel",
      "state": {
       "description_width": ""
      }
     },
     "5c228a93892a43d69533b6a2b41e6b97": {
      "model_module": "@jupyter-widgets/base",
      "model_module_version": "1.2.0",
      "model_name": "LayoutModel",
      "state": {
       "width": "auto"
      }
     },
     "5c3b44a7a0d142c0941081cdc60373ee": {
      "model_module": "@jupyter-widgets/controls",
      "model_module_version": "1.5.0",
      "model_name": "ButtonStyleModel",
      "state": {}
     },
     "5c8012c0862b473aa623ec501d415cd0": {
      "model_module": "@jupyter-widgets/base",
      "model_module_version": "1.2.0",
      "model_name": "LayoutModel",
      "state": {}
     },
     "5c8b3aedc77744dc82b0d5d8006532da": {
      "model_module": "@jupyter-widgets/base",
      "model_module_version": "1.2.0",
      "model_name": "LayoutModel",
      "state": {}
     },
     "5c91c56e5bf24dbb9d61b84b1d43dffc": {
      "model_module": "@jupyter-widgets/controls",
      "model_module_version": "1.5.0",
      "model_name": "ButtonModel",
      "state": {
       "button_style": "warning",
       "description": "Change Status",
       "layout": "IPY_MODEL_7539e5a19ce94e05952112c7ae8531db",
       "style": "IPY_MODEL_405901f21f544de89b8d8f1ea3df0d16"
      }
     },
     "5cd8c4ef13f54f6fb1f44c81110d7912": {
      "model_module": "@jupyter-widgets/base",
      "model_module_version": "1.2.0",
      "model_name": "LayoutModel",
      "state": {}
     },
     "5d06f69e2dc54c23bcf6502fbbb06108": {
      "model_module": "@jupyter-widgets/controls",
      "model_module_version": "1.5.0",
      "model_name": "HBoxModel",
      "state": {
       "children": [
        "IPY_MODEL_63640fd755f94a77aa8bfec65dea4208"
       ],
       "layout": "IPY_MODEL_0a6357f3246d47dea1acc00d4da5b5f1"
      }
     },
     "5d40484a4eb946efb4c28ef57519d537": {
      "model_module": "@jupyter-widgets/controls",
      "model_module_version": "1.5.0",
      "model_name": "DescriptionStyleModel",
      "state": {
       "description_width": ""
      }
     },
     "5d43b6484e5f48d49fd0b64e0192b7a2": {
      "model_module": "@jupyter-widgets/controls",
      "model_module_version": "1.5.0",
      "model_name": "ButtonStyleModel",
      "state": {}
     },
     "5d4875e7aa564114847b96f19dd1a431": {
      "model_module": "@jupyter-widgets/controls",
      "model_module_version": "1.5.0",
      "model_name": "ButtonModel",
      "state": {
       "button_style": "danger",
       "description": "Shutdown",
       "layout": "IPY_MODEL_9dc480dccb1a4b12b1ca744e7797d757",
       "style": "IPY_MODEL_1d24b7c68573465e94a40a9d2e7a3cb3"
      }
     },
     "5d72e320014241cfa01cc0a10d9f6179": {
      "model_module": "@jupyter-widgets/controls",
      "model_module_version": "1.5.0",
      "model_name": "DescriptionStyleModel",
      "state": {
       "description_width": ""
      }
     },
     "5d73c5227ff84e24ade2db38e6b74f67": {
      "model_module": "@jupyter-widgets/controls",
      "model_module_version": "1.5.0",
      "model_name": "TextModel",
      "state": {
       "description": "Device",
       "layout": "IPY_MODEL_11c1c674209d4d49b1afe8f94eae5708",
       "style": "IPY_MODEL_eaa2a793149c43eaaa42c837568dab42"
      }
     },
     "5dd985ce7f984e399549062c71050b21": {
      "model_module": "@jupyter-widgets/base",
      "model_module_version": "1.2.0",
      "model_name": "LayoutModel",
      "state": {}
     },
     "5e465fce1f35452f9af90acdc6c2ad74": {
      "model_module": "@jupyter-widgets/controls",
      "model_module_version": "1.5.0",
      "model_name": "ButtonStyleModel",
      "state": {}
     },
     "5ed334b2385f4f4b95227391c7323081": {
      "model_module": "@jupyter-widgets/base",
      "model_module_version": "1.2.0",
      "model_name": "LayoutModel",
      "state": {}
     },
     "5ed8dc11fccf48cda44dedb1791d2ba1": {
      "model_module": "@jupyter-widgets/base",
      "model_module_version": "1.2.0",
      "model_name": "LayoutModel",
      "state": {
       "width": "auto"
      }
     },
     "5ee71317bed04c65b78d81387ccd29f8": {
      "model_module": "@jupyter-widgets/controls",
      "model_module_version": "1.5.0",
      "model_name": "HBoxModel",
      "state": {
       "children": [
        "IPY_MODEL_b908ea1f5cec406ea471ea74008c0433",
        "IPY_MODEL_2f3aac63aec14ff89c5c1f4e72ea7173"
       ],
       "layout": "IPY_MODEL_7f3c3396dc6646cca8ba50ae034cbb5a"
      }
     },
     "5eed2c50fc3d46988892f799cc6837a7": {
      "model_module": "@jupyter-widgets/base",
      "model_module_version": "1.2.0",
      "model_name": "LayoutModel",
      "state": {
       "margin": "2px 20px 0 0"
      }
     },
     "5f25c66614bf48008e36b921a8a24742": {
      "model_module": "@jupyter-widgets/controls",
      "model_module_version": "1.5.0",
      "model_name": "ButtonModel",
      "state": {
       "button_style": "info",
       "icon": "refresh",
       "layout": "IPY_MODEL_927be231b57640aabb21016b06e15aee",
       "style": "IPY_MODEL_e6a84455bf0b457b86e9e434b1e45606"
      }
     },
     "5f49458b8a6144ac808ca7f524c7ee80": {
      "model_module": "@jupyter-widgets/controls",
      "model_module_version": "1.5.0",
      "model_name": "ButtonStyleModel",
      "state": {}
     },
     "5fe11ea8e4914982a7c122574ae14f8a": {
      "model_module": "@jupyter-widgets/base",
      "model_module_version": "1.2.0",
      "model_name": "LayoutModel",
      "state": {}
     },
     "5fea2d6dd77c4eb091379e188a269d6d": {
      "model_module": "@jupyter-widgets/controls",
      "model_module_version": "1.5.0",
      "model_name": "ButtonStyleModel",
      "state": {}
     },
     "60232b0a078d4b29a0915d50b0304c3b": {
      "model_module": "@jupyter-widgets/controls",
      "model_module_version": "1.5.0",
      "model_name": "VBoxModel",
      "state": {
       "children": [
        "IPY_MODEL_d38aeb2c5c3247198b7b732185d6f070",
        "IPY_MODEL_b14bc96281c44eb5bb37056540b85bce"
       ],
       "layout": "IPY_MODEL_4ea6e8cb70e145e7a5b1ff1632668946"
      }
     },
     "60ab0be65eaf43bd98214d334f771f9d": {
      "model_module": "@jupyter-widgets/base",
      "model_module_version": "1.2.0",
      "model_name": "LayoutModel",
      "state": {}
     },
     "60ab4a0ee38448fd91c4f199a9d707a6": {
      "model_module": "@jupyter-widgets/controls",
      "model_module_version": "1.5.0",
      "model_name": "ButtonStyleModel",
      "state": {}
     },
     "60b47548ed7b4ca480852c2220b8a32e": {
      "model_module": "@jupyter-widgets/base",
      "model_module_version": "1.2.0",
      "model_name": "LayoutModel",
      "state": {}
     },
     "60cbde619b334bd3b2aac24f54e7bafc": {
      "model_module": "@jupyter-widgets/base",
      "model_module_version": "1.2.0",
      "model_name": "LayoutModel",
      "state": {}
     },
     "60ce1a7e8f744f91862da7741770c594": {
      "model_module": "@jupyter-widgets/controls",
      "model_module_version": "1.5.0",
      "model_name": "VBoxModel",
      "state": {
       "children": [
        "IPY_MODEL_2bc00b72ed164f61b5295ab6bc449f72",
        "IPY_MODEL_72ed51996c1544ce8081e95eabd88ae1"
       ],
       "layout": "IPY_MODEL_9463be50cc1c44fa85bfd0ba5c104db7"
      }
     },
     "60d59f114fce45558fcd07d9206f570c": {
      "model_module": "@jupyter-widgets/controls",
      "model_module_version": "1.5.0",
      "model_name": "TextModel",
      "state": {
       "description": "Command",
       "layout": "IPY_MODEL_ca70b9a031664be888859ffc95812de8",
       "style": "IPY_MODEL_d5dbd83340694542a5e6132fca8ac4ed"
      }
     },
     "60df8be4b3614dff821491460ab9804c": {
      "model_module": "@jupyter-widgets/base",
      "model_module_version": "1.2.0",
      "model_name": "LayoutModel",
      "state": {}
     },
     "61115a4aa9974fc9bd65cfe0bf65307b": {
      "model_module": "@jupyter-widgets/controls",
      "model_module_version": "1.5.0",
      "model_name": "HBoxModel",
      "state": {
       "children": [
        "IPY_MODEL_e895f0b43f7f4a09a5124f962bccd53c",
        "IPY_MODEL_1dc2d85ffdcd4428a5173a8461b185f7",
        "IPY_MODEL_1bbdc300d4994e7d9299297fe4b7c201"
       ],
       "layout": "IPY_MODEL_228d4d1063dc4e8c8bc4ede69ecee08b"
      }
     },
     "61899fe98e9a495e991d41cf2707f2ea": {
      "model_module": "@jupyter-widgets/controls",
      "model_module_version": "1.5.0",
      "model_name": "VBoxModel",
      "state": {
       "children": [
        "IPY_MODEL_ee1b6cbbfbef4fc9b765db0a32a9333c",
        "IPY_MODEL_f34b245f90e14cc98ba2e95014e25c0b"
       ],
       "layout": "IPY_MODEL_1c7430c102bb463989c319579adcbcee"
      }
     },
     "61c5af71c03a4683bf4d8eb57e0a29ff": {
      "model_module": "@jupyter-widgets/controls",
      "model_module_version": "1.5.0",
      "model_name": "ButtonStyleModel",
      "state": {}
     },
     "61eefc11b657489b8b840e3967dea1e1": {
      "model_module": "@jupyter-widgets/base",
      "model_module_version": "1.2.0",
      "model_name": "LayoutModel",
      "state": {
       "width": "auto"
      }
     },
     "620aa390f8c64eaf9fac7d9449c8321b": {
      "model_module": "@jupyter-widgets/base",
      "model_module_version": "1.2.0",
      "model_name": "LayoutModel",
      "state": {}
     },
     "6216339cdbb44bb5beb6ea6a673ceaef": {
      "model_module": "@jupyter-widgets/controls",
      "model_module_version": "1.5.0",
      "model_name": "TextModel",
      "state": {
       "description": "Command",
       "layout": "IPY_MODEL_b6b7a1b5c60f416a9fa0380108600596",
       "style": "IPY_MODEL_d18af2f0342a4ae3a810b4cd44e4296f"
      }
     },
     "6229d439221c4f6193b9b9da4644e2f8": {
      "model_module": "@jupyter-widgets/controls",
      "model_module_version": "1.5.0",
      "model_name": "ButtonStyleModel",
      "state": {}
     },
     "62561a51d5a84e109f969dd436b7e92a": {
      "model_module": "@jupyter-widgets/base",
      "model_module_version": "1.2.0",
      "model_name": "LayoutModel",
      "state": {}
     },
     "6256208743504486b2582b7807761972": {
      "model_module": "@jupyter-widgets/controls",
      "model_module_version": "1.5.0",
      "model_name": "ButtonStyleModel",
      "state": {}
     },
     "62be5ecf99404773bd12aa3ceab6fc4b": {
      "model_module": "@jupyter-widgets/base",
      "model_module_version": "1.2.0",
      "model_name": "LayoutModel",
      "state": {
       "width": "auto"
      }
     },
     "62e6125fe9d542cdaa8ef6422cf889f6": {
      "model_module": "@jupyter-widgets/controls",
      "model_module_version": "1.5.0",
      "model_name": "HTMLModel",
      "state": {
       "layout": "IPY_MODEL_8336d1c68058447c830d6bd31e601fa2",
       "style": "IPY_MODEL_79dae87b8b5e4d3282ed3bcf28949c64",
       "value": "\n<h3>Select Device to Control</h3>\n<p>Type the name of the device you wish to controle. Example: <code>flow_1</code></p>\n"
      }
     },
     "6352c04f21294b1e95eec3577b887eee": {
      "model_module": "@jupyter-widgets/base",
      "model_module_version": "1.2.0",
      "model_name": "LayoutModel",
      "state": {}
     },
     "6352f1ccfb9a40878089de021d7a836f": {
      "model_module": "@jupyter-widgets/base",
      "model_module_version": "1.2.0",
      "model_name": "LayoutModel",
      "state": {}
     },
     "63640fd755f94a77aa8bfec65dea4208": {
      "model_module": "@jupyter-widgets/controls",
      "model_module_version": "1.5.0",
      "model_name": "HTMLModel",
      "state": {
       "layout": "IPY_MODEL_2c61f0a315a24a46ae8ea71c7dceb3bb",
       "style": "IPY_MODEL_3d40098be3fa4b2eac1d16560e83baf5",
       "value": "<h4>What do you want to do?</h4><p>You can send a new command to the device or change it's status between running, paused, and shutdown. </p> "
      }
     },
     "6382bd3074e446d78490d7c175d69c63": {
      "model_module": "@jupyter-widgets/base",
      "model_module_version": "1.2.0",
      "model_name": "LayoutModel",
      "state": {}
     },
     "639cd860eee7479c80874c0d6da92490": {
      "model_module": "@jupyter-widgets/controls",
      "model_module_version": "1.5.0",
      "model_name": "ButtonModel",
      "state": {
       "button_style": "info",
       "icon": "refresh",
       "layout": "IPY_MODEL_7ea6030e703b4c7e815fc1f3191e4308",
       "style": "IPY_MODEL_71287d9734b540dab781682fa872ea64"
      }
     },
     "639d019789b24da4b9f5eb9a52695caa": {
      "model_module": "@jupyter-widgets/base",
      "model_module_version": "1.2.0",
      "model_name": "LayoutModel",
      "state": {
       "width": "auto"
      }
     },
     "63b66e6494a842268ea2ce09e8160bf4": {
      "model_module": "@jupyter-widgets/base",
      "model_module_version": "1.2.0",
      "model_name": "LayoutModel",
      "state": {
       "width": "auto"
      }
     },
     "6417e90cfaf74aaaa52fcb6ff9f8ec9b": {
      "model_module": "@jupyter-widgets/base",
      "model_module_version": "1.2.0",
      "model_name": "LayoutModel",
      "state": {}
     },
     "64b21f42d9b84603a9c8c334aa7f490c": {
      "model_module": "@jupyter-widgets/base",
      "model_module_version": "1.2.0",
      "model_name": "LayoutModel",
      "state": {}
     },
     "64ce433d3a644de6b6f883ae77b328ce": {
      "model_module": "@jupyter-widgets/controls",
      "model_module_version": "1.5.0",
      "model_name": "TextModel",
      "state": {
       "description": "Device",
       "layout": "IPY_MODEL_fb1d53e4f44b43b991d6254feb6a4b66",
       "style": "IPY_MODEL_0faca5961c2e4d0d9fc8ad02f7658f0f",
       "value": "flow_1"
      }
     },
     "64e7bb3663f24231a3fb432304291e44": {
      "model_module": "@jupyter-widgets/base",
      "model_module_version": "1.2.0",
      "model_name": "LayoutModel",
      "state": {
       "width": "450px"
      }
     },
     "6516e6f684c14194b9be9aae563360da": {
      "model_module": "@jupyter-widgets/base",
      "model_module_version": "1.2.0",
      "model_name": "LayoutModel",
      "state": {
       "width": "auto"
      }
     },
     "6530b80fd446411f9578899c3fa829cd": {
      "model_module": "@jupyter-widgets/controls",
      "model_module_version": "1.5.0",
      "model_name": "ButtonModel",
      "state": {
       "button_style": "info",
       "icon": "refresh",
       "layout": "IPY_MODEL_12425743abac4959a6b20856286827fa",
       "style": "IPY_MODEL_3007ba67c2b9495892d66c39ff3e4074"
      }
     },
     "65731e4b8741415a8adefe1304436414": {
      "model_module": "@jupyter-widgets/controls",
      "model_module_version": "1.5.0",
      "model_name": "HBoxModel",
      "state": {
       "children": [
        "IPY_MODEL_a47495d30ad94126a46c1fa9cd5556f8",
        "IPY_MODEL_55327c7e124e4d0b9126086a0d6924cb"
       ],
       "layout": "IPY_MODEL_1b8c9d515c7d4ded8e03fca8eda360e0"
      }
     },
     "66482a66d39742bc8e91c857209349e6": {
      "model_module": "@jupyter-widgets/controls",
      "model_module_version": "1.5.0",
      "model_name": "DescriptionStyleModel",
      "state": {
       "description_width": ""
      }
     },
     "671db6f3587e42ff828650f2892d050f": {
      "model_module": "@jupyter-widgets/base",
      "model_module_version": "1.2.0",
      "model_name": "LayoutModel",
      "state": {}
     },
     "674c26e375f449cebb18863800d60cd5": {
      "model_module": "@jupyter-widgets/base",
      "model_module_version": "1.2.0",
      "model_name": "LayoutModel",
      "state": {}
     },
     "676d8f94d2004d37a3ad77658243a4c5": {
      "model_module": "@jupyter-widgets/base",
      "model_module_version": "1.2.0",
      "model_name": "LayoutModel",
      "state": {}
     },
     "676dbf19dd9c42618e424bd133e3d187": {
      "model_module": "@jupyter-widgets/base",
      "model_module_version": "1.2.0",
      "model_name": "LayoutModel",
      "state": {}
     },
     "677c2f031ec54e128232cd9d44b3f80d": {
      "model_module": "@jupyter-widgets/controls",
      "model_module_version": "1.5.0",
      "model_name": "HTMLModel",
      "state": {
       "layout": "IPY_MODEL_4ab933fbc33f44008c9c238e7e6fc886",
       "style": "IPY_MODEL_56d13b6e19ed4dfa91166c38ef7e22c3",
       "value": "<h3>flow_1</h3>"
      }
     },
     "67c4f849f8614c53814b44565cb17276": {
      "model_module": "@jupyter-widgets/controls",
      "model_module_version": "1.5.0",
      "model_name": "ButtonStyleModel",
      "state": {}
     },
     "67dbebb9fd42418e89466f31f8bd8a1b": {
      "model_module": "@jupyter-widgets/controls",
      "model_module_version": "1.5.0",
      "model_name": "HBoxModel",
      "state": {
       "children": [
        "IPY_MODEL_911d72e9f3604f4fac6b25eb2f089f0e",
        "IPY_MODEL_6c18aa9131774da89aa66cd644a3e2e4"
       ],
       "layout": "IPY_MODEL_1e6b4b90999541d4ad1f1f126e73f37a"
      }
     },
     "67dd66a28d3a4520b7fe4b56354ddfbf": {
      "model_module": "@jupyter-widgets/controls",
      "model_module_version": "1.5.0",
      "model_name": "TextModel",
      "state": {
       "description": "Command",
       "layout": "IPY_MODEL_3ffeb679849a415b84708bdeff1744c5",
       "style": "IPY_MODEL_55ee45f003f143db98f822d71602ffe9"
      }
     },
     "67e8e39f9ada4c1b8ccd6afc35290000": {
      "model_module": "@jupyter-widgets/controls",
      "model_module_version": "1.5.0",
      "model_name": "HBoxModel",
      "state": {
       "children": [
        "IPY_MODEL_b04ae2bdb11b4e6490c6e3343d3d1bec"
       ],
       "layout": "IPY_MODEL_b84b2f3afbb24e9b9df7bc987a5d7cfd"
      }
     },
     "67f8b1b6e5be4dab9925f2c4e0a3c9f3": {
      "model_module": "@jupyter-widgets/base",
      "model_module_version": "1.2.0",
      "model_name": "LayoutModel",
      "state": {}
     },
     "6815324ab3f0407cb07a5387be1f1cb5": {
      "model_module": "@jupyter-widgets/controls",
      "model_module_version": "1.5.0",
      "model_name": "DescriptionStyleModel",
      "state": {
       "description_width": ""
      }
     },
     "68271bf5054343a282543d58b971213b": {
      "model_module": "@jupyter-widgets/controls",
      "model_module_version": "1.5.0",
      "model_name": "ButtonStyleModel",
      "state": {}
     },
     "6843b6f864dd41a191bef68850412ba4": {
      "model_module": "@jupyter-widgets/base",
      "model_module_version": "1.2.0",
      "model_name": "LayoutModel",
      "state": {
       "width": "auto"
      }
     },
     "6851ab5e9ec0410f831e763634b040b7": {
      "model_module": "@jupyter-widgets/controls",
      "model_module_version": "1.5.0",
      "model_name": "ButtonModel",
      "state": {
       "button_style": "warning",
       "description": "Pause",
       "layout": "IPY_MODEL_b5beb7bfdfc4470a96ac87f3e4f03eea",
       "style": "IPY_MODEL_f3cb82bb586e400d886c2e1069b0cd39"
      }
     },
     "6859be4f89ad4a3281172ef2eb9986d5": {
      "model_module": "@jupyter-widgets/controls",
      "model_module_version": "1.5.0",
      "model_name": "ButtonModel",
      "state": {
       "button_style": "success",
       "description": "Get",
       "layout": "IPY_MODEL_2949da47a17a4a5bb2c7ed23b65a41fb",
       "style": "IPY_MODEL_08147a4e5f184c63939fb3388e897fee"
      }
     },
     "685dc56acff64f2789750bac967e71db": {
      "model_module": "@jupyter-widgets/controls",
      "model_module_version": "1.5.0",
      "model_name": "HBoxModel",
      "state": {
       "children": [
        "IPY_MODEL_e190c31a22c1498b92f2d9cfab01aa7d",
        "IPY_MODEL_176f3d8991bc4130a3cfec349ade0eec"
       ],
       "layout": "IPY_MODEL_31b97cad04764d0f8ea564c5d0e58fd7"
      }
     },
     "688c05ea9438490ca6550f3408a6130c": {
      "model_module": "@jupyter-widgets/controls",
      "model_module_version": "1.5.0",
      "model_name": "HTMLModel",
      "state": {
       "layout": "IPY_MODEL_a70682ecc90944e5b2166d7f114800bd",
       "style": "IPY_MODEL_144846d11efd46d0a70883e1b451fae6",
       "value": "<h3>Select Device to Control</h3><p>Type the name of the device you wish to controle. Example: <code>flow_1</code></p>"
      }
     },
     "690024743c5d4889a3a459b7688797a8": {
      "model_module": "@jupyter-widgets/base",
      "model_module_version": "1.2.0",
      "model_name": "LayoutModel",
      "state": {
       "margin": "2px 20px 0 0"
      }
     },
     "69426eaa0bbb4e9698b4f894e4ff6943": {
      "model_module": "@jupyter-widgets/base",
      "model_module_version": "1.2.0",
      "model_name": "LayoutModel",
      "state": {}
     },
     "6999307112c04380ac278da1f2b84ea5": {
      "model_module": "@jupyter-widgets/controls",
      "model_module_version": "1.5.0",
      "model_name": "HBoxModel",
      "state": {
       "children": [
        "IPY_MODEL_8eccbf9da7874136aa6d7a1aef9ed022",
        "IPY_MODEL_0b990d52a0274a21a0d0f4605e202dcd"
       ],
       "layout": "IPY_MODEL_2eb0fa1a4aba4e38881af87cd377aebf"
      }
     },
     "69a746e6d5d0426c95d64a1f3ba12cd1": {
      "model_module": "@jupyter-widgets/controls",
      "model_module_version": "1.5.0",
      "model_name": "DescriptionStyleModel",
      "state": {
       "description_width": ""
      }
     },
     "69b067e50ade4c9f86967d1aa9b10182": {
      "model_module": "@jupyter-widgets/controls",
      "model_module_version": "1.5.0",
      "model_name": "HBoxModel",
      "state": {
       "children": [
        "IPY_MODEL_7ab14eec34334964b3b3dbcb879d65a7",
        "IPY_MODEL_7c492d962ac645a58b1b4977ae4bf412"
       ],
       "layout": "IPY_MODEL_82ef19d038b147dc95075a3c6b2ae715"
      }
     },
     "69bfbf0b7d214501a87638132c636453": {
      "model_module": "@jupyter-widgets/controls",
      "model_module_version": "1.5.0",
      "model_name": "DescriptionStyleModel",
      "state": {
       "description_width": ""
      }
     },
     "6a40a90b20e34234be0f2b207f65411a": {
      "model_module": "@jupyter-widgets/controls",
      "model_module_version": "1.5.0",
      "model_name": "HBoxModel",
      "state": {
       "children": [
        "IPY_MODEL_4084a5e758404a3fb4cc589392a44a88",
        "IPY_MODEL_4b94ab833206490e9e703cd2378c3733"
       ],
       "layout": "IPY_MODEL_090f20037b844be58b90705c93a49277"
      }
     },
     "6a688a9ab50446e098b9b74374ba7998": {
      "model_module": "@jupyter-widgets/controls",
      "model_module_version": "1.5.0",
      "model_name": "HTMLModel",
      "state": {
       "layout": "IPY_MODEL_fb1c4e3285ad47a0b6ed16aca55198fa",
       "style": "IPY_MODEL_a713da44729f40ceabac308b7dc84284",
       "value": "<h3>Select Device to Control</h3><p>Type the name of the device you wish to controle. Example: <code>flow_1</code></p>"
      }
     },
     "6af5616ce4fe4685b9fec11638b42c5d": {
      "model_module": "@jupyter-widgets/controls",
      "model_module_version": "1.5.0",
      "model_name": "DescriptionStyleModel",
      "state": {
       "description_width": ""
      }
     },
     "6b4fa96a3ba54d3fa337605c10f9b526": {
      "model_module": "@jupyter-widgets/controls",
      "model_module_version": "1.5.0",
      "model_name": "ButtonStyleModel",
      "state": {}
     },
     "6b647de9d812470db11b193d1186f4e6": {
      "model_module": "@jupyter-widgets/controls",
      "model_module_version": "1.5.0",
      "model_name": "ButtonModel",
      "state": {
       "button_style": "warning",
       "description": "Change Status",
       "layout": "IPY_MODEL_ba14ed1b2fbb4f4e87fca19e70eb7bf6",
       "style": "IPY_MODEL_e7975a70d18f4f94a055acafb250d3a4"
      }
     },
     "6b649dadba684b33bcbb693b74a6ccd7": {
      "model_module": "@jupyter-widgets/controls",
      "model_module_version": "1.5.0",
      "model_name": "ButtonStyleModel",
      "state": {}
     },
     "6b9400752ff9488cbab490da6c0049aa": {
      "model_module": "@jupyter-widgets/base",
      "model_module_version": "1.2.0",
      "model_name": "LayoutModel",
      "state": {
       "margin": "2px 20px 0 0"
      }
     },
     "6bcb13ca55d1460f81b2669637abe65d": {
      "model_module": "@jupyter-widgets/controls",
      "model_module_version": "1.5.0",
      "model_name": "TextModel",
      "state": {
       "description": "Device",
       "layout": "IPY_MODEL_f79fc99ce5034435891ecc2f36cf6717",
       "style": "IPY_MODEL_a76e4375f8c6453b97064e569970867c",
       "value": "flow_1"
      }
     },
     "6bde67b3ac6441f3bc8c0e582117f8c0": {
      "model_module": "@jupyter-widgets/controls",
      "model_module_version": "1.5.0",
      "model_name": "DescriptionStyleModel",
      "state": {
       "description_width": ""
      }
     },
     "6c18aa9131774da89aa66cd644a3e2e4": {
      "model_module": "@jupyter-widgets/controls",
      "model_module_version": "1.5.0",
      "model_name": "ButtonModel",
      "state": {
       "button_style": "success",
       "description": "Select",
       "layout": "IPY_MODEL_ecbe859d58ea49cb9bf797446df0af47",
       "style": "IPY_MODEL_317037fbbbf54f8f8cc641fd218901dc"
      }
     },
     "6c3b8cff7c654112b03a482f548f4cc5": {
      "model_module": "@jupyter-widgets/base",
      "model_module_version": "1.2.0",
      "model_name": "LayoutModel",
      "state": {
       "width": "auto"
      }
     },
     "6c4fb9ba0e5f436db6a55a3c4cd2cca6": {
      "model_module": "@jupyter-widgets/controls",
      "model_module_version": "1.5.0",
      "model_name": "VBoxModel",
      "state": {
       "children": [
        "IPY_MODEL_0c18e299f24048d89098c3ee6a3dca2f",
        "IPY_MODEL_9a00a37976e04217b2f5c553bd6de130"
       ],
       "layout": "IPY_MODEL_e04fbf919dcd427bbad73a0303da8920"
      }
     },
     "6cdcfd7b1e7d486dab0591aa6d5184f5": {
      "model_module": "@jupyter-widgets/controls",
      "model_module_version": "1.5.0",
      "model_name": "DescriptionStyleModel",
      "state": {
       "description_width": ""
      }
     },
     "6d2b2ecb7e8449cc90d8ec7a362b4c5f": {
      "model_module": "@jupyter-widgets/base",
      "model_module_version": "1.2.0",
      "model_name": "LayoutModel",
      "state": {}
     },
     "6d66857ac1544352a884c16fbfd9fa48": {
      "model_module": "@jupyter-widgets/base",
      "model_module_version": "1.2.0",
      "model_name": "LayoutModel",
      "state": {
       "margin": "2px 20px 0 0"
      }
     },
     "6dc910dd77744bb6b9ba65ded1e1054b": {
      "model_module": "@jupyter-widgets/controls",
      "model_module_version": "1.5.0",
      "model_name": "DescriptionStyleModel",
      "state": {
       "description_width": ""
      }
     },
     "6ddc5edc5b244e4897f365d39ebda710": {
      "model_module": "@jupyter-widgets/controls",
      "model_module_version": "1.5.0",
      "model_name": "DescriptionStyleModel",
      "state": {
       "description_width": ""
      }
     },
     "6e0d7d01745a4cd6ae8e6c230afcc5ed": {
      "model_module": "@jupyter-widgets/controls",
      "model_module_version": "1.5.0",
      "model_name": "ButtonModel",
      "state": {
       "button_style": "success",
       "description": "Select",
       "layout": "IPY_MODEL_6843b6f864dd41a191bef68850412ba4",
       "style": "IPY_MODEL_7e4035eac4204639b5e41b4061a9eada"
      }
     },
     "6e3f587e871d4a8f9d18a336ab2ef319": {
      "model_module": "@jupyter-widgets/base",
      "model_module_version": "1.2.0",
      "model_name": "LayoutModel",
      "state": {}
     },
     "6e5e6ce3d75a405c9395a60bbd9fea61": {
      "model_module": "@jupyter-widgets/controls",
      "model_module_version": "1.5.0",
      "model_name": "DescriptionStyleModel",
      "state": {
       "description_width": ""
      }
     },
     "6ec3637c2b004c249c2083e11e21c880": {
      "model_module": "@jupyter-widgets/controls",
      "model_module_version": "1.5.0",
      "model_name": "DescriptionStyleModel",
      "state": {
       "description_width": ""
      }
     },
     "6efe7cf575d14f54965907a1192f9c3a": {
      "model_module": "@jupyter-widgets/controls",
      "model_module_version": "1.5.0",
      "model_name": "VBoxModel",
      "state": {
       "children": [
        "IPY_MODEL_9f4820655942430d8ab8cc2fc01aa12d",
        "IPY_MODEL_2ac30459298c413ebb69e226b1283d5d"
       ],
       "layout": "IPY_MODEL_a13e584ad21540059664648548a290f5"
      }
     },
     "6f08d485b3d240dd831d44bb9ec7efdd": {
      "model_module": "@jupyter-widgets/base",
      "model_module_version": "1.2.0",
      "model_name": "LayoutModel",
      "state": {}
     },
     "6f5712e9e7db4919a3a5c0e0e41e60e9": {
      "model_module": "@jupyter-widgets/controls",
      "model_module_version": "1.5.0",
      "model_name": "TextModel",
      "state": {
       "description": "Devices",
       "layout": "IPY_MODEL_ab4b2c29df0e4d4c9eaf0e0f951aed9a",
       "style": "IPY_MODEL_c357054b18bf429f9b61a0061183033e"
      }
     },
     "6f5961095ac549dc98060edc500dc8b9": {
      "model_module": "@jupyter-widgets/base",
      "model_module_version": "1.2.0",
      "model_name": "LayoutModel",
      "state": {}
     },
     "6f88472c84a94efeaaf175e092f7f7ae": {
      "model_module": "@jupyter-widgets/controls",
      "model_module_version": "1.5.0",
      "model_name": "HBoxModel",
      "state": {
       "children": [
        "IPY_MODEL_f522624860924db1a6bf38df4fa5c75c",
        "IPY_MODEL_f3318b1041ba464cbe00ddd85ce9eefe"
       ],
       "layout": "IPY_MODEL_3ccb947c119149b89b7d9924eb7c4d6f"
      }
     },
     "70025df35187414abee376834394f49e": {
      "model_module": "@jupyter-widgets/base",
      "model_module_version": "1.2.0",
      "model_name": "LayoutModel",
      "state": {}
     },
     "700d8d9ff46a4a49b8228004f341e027": {
      "model_module": "@jupyter-widgets/controls",
      "model_module_version": "1.5.0",
      "model_name": "DescriptionStyleModel",
      "state": {
       "description_width": ""
      }
     },
     "7013c3b6cc104ab699409e211faacdea": {
      "model_module": "@jupyter-widgets/controls",
      "model_module_version": "1.5.0",
      "model_name": "VBoxModel",
      "state": {
       "children": [
        "IPY_MODEL_b8943d7f1a8d47bdb9f524712677be29",
        "IPY_MODEL_a6a59042e9d24b41af04979a9f44fd13"
       ],
       "layout": "IPY_MODEL_0902accdf0b5450cb7040715dd727640"
      }
     },
     "70633bf9cefc4b69b847e6a6935e03e8": {
      "model_module": "@jupyter-widgets/controls",
      "model_module_version": "1.5.0",
      "model_name": "ButtonStyleModel",
      "state": {}
     },
     "70705d972f044880b83bfe5ac28cd1f9": {
      "model_module": "@jupyter-widgets/controls",
      "model_module_version": "1.5.0",
      "model_name": "DescriptionStyleModel",
      "state": {
       "description_width": ""
      }
     },
     "708fa1bfc0614f7da260eeb4772ec043": {
      "model_module": "@jupyter-widgets/base",
      "model_module_version": "1.2.0",
      "model_name": "LayoutModel",
      "state": {}
     },
     "709f4dd0f45344cf945c3c08cbd1d21f": {
      "model_module": "@jupyter-widgets/base",
      "model_module_version": "1.2.0",
      "model_name": "LayoutModel",
      "state": {}
     },
     "70a0e33c7bf146cf9733c0b41dd1add3": {
      "model_module": "@jupyter-widgets/base",
      "model_module_version": "1.2.0",
      "model_name": "LayoutModel",
      "state": {}
     },
     "70b3b7c809f548ed9a6061f90a56caa1": {
      "model_module": "@jupyter-widgets/controls",
      "model_module_version": "1.5.0",
      "model_name": "ButtonModel",
      "state": {
       "button_style": "success",
       "description": "Select",
       "layout": "IPY_MODEL_74a95e05227d4e3b8be42ea1fc9973dc",
       "style": "IPY_MODEL_b30bde1c708b4ae492269151b760f9fc"
      }
     },
     "70c109fbd592422eabaab94f843d1c74": {
      "model_module": "@jupyter-widgets/controls",
      "model_module_version": "1.5.0",
      "model_name": "DescriptionStyleModel",
      "state": {
       "description_width": ""
      }
     },
     "70c1b041c52c4a7bb78f0776c3c9f530": {
      "model_module": "@jupyter-widgets/base",
      "model_module_version": "1.2.0",
      "model_name": "LayoutModel",
      "state": {}
     },
     "70c3e777c4c94916b6af2cda56433d94": {
      "model_module": "@jupyter-widgets/controls",
      "model_module_version": "1.5.0",
      "model_name": "HTMLModel",
      "state": {
       "layout": "IPY_MODEL_a04d49c513d64e3488afced29bc33fd5",
       "style": "IPY_MODEL_7da5ef70e5cf4091a9065d9a0c1eff33",
       "value": "<h4>What do you want to do?</h4><p>You can send a new command to the device or change it's status between running, paused, and shutdown. </p> "
      }
     },
     "70c560cc41274edcab86216b2698c4cb": {
      "model_module": "@jupyter-widgets/controls",
      "model_module_version": "1.5.0",
      "model_name": "HTMLModel",
      "state": {
       "layout": "IPY_MODEL_53d495efcac5439793b8c5a32ed839cd",
       "style": "IPY_MODEL_ac7ee7a2dbd74ea095ab184bef051558",
       "value": "<h4>Current flow_1 status: <font color='green'>shutdown</font> </h4><p>User the buttons below to change the status</p>"
      }
     },
     "7121e9909b174a05b86a2ad2d90ea0ef": {
      "model_module": "@jupyter-widgets/controls",
      "model_module_version": "1.5.0",
      "model_name": "TextModel",
      "state": {
       "description": "Device",
       "layout": "IPY_MODEL_5ed334b2385f4f4b95227391c7323081",
       "style": "IPY_MODEL_94b6834a73a4448d8ae104a0368a3a8c",
       "value": "flow_1"
      }
     },
     "71287d9734b540dab781682fa872ea64": {
      "model_module": "@jupyter-widgets/controls",
      "model_module_version": "1.5.0",
      "model_name": "ButtonStyleModel",
      "state": {}
     },
     "7170feed12e34423af18aa8b38b0b10b": {
      "model_module": "@jupyter-widgets/controls",
      "model_module_version": "1.5.0",
      "model_name": "HBoxModel",
      "state": {
       "children": [
        "IPY_MODEL_a9901e8d6a494f98b28b02b9ea0a8145",
        "IPY_MODEL_95c21d73cd014f9aa23380bc272f9e3c"
       ],
       "layout": "IPY_MODEL_fbe961ee7996466794d6abfc723f2106"
      }
     },
     "718073707dca402c961f20d60f6f9453": {
      "model_module": "@jupyter-widgets/controls",
      "model_module_version": "1.5.0",
      "model_name": "DescriptionStyleModel",
      "state": {
       "description_width": ""
      }
     },
     "71d5cf672aa7428aac00751080d26b97": {
      "model_module": "@jupyter-widgets/controls",
      "model_module_version": "1.5.0",
      "model_name": "ButtonModel",
      "state": {
       "button_style": "warning",
       "description": "Pause",
       "layout": "IPY_MODEL_fcd8951d38a24349b3f27f03026810aa",
       "style": "IPY_MODEL_7677f9bd4faa49c6be7860adfacfa4e3"
      }
     },
     "71d864df7b6544efa855dc38760ca48d": {
      "model_module": "@jupyter-widgets/controls",
      "model_module_version": "1.5.0",
      "model_name": "VBoxModel",
      "state": {
       "children": [
        "IPY_MODEL_cd9b2fe226b04fb3a9fd3705e4889f81",
        "IPY_MODEL_1f9991359f684bddaed2dce6caa4b5cb"
       ],
       "layout": "IPY_MODEL_ff346d4751764880844bc821f9422d8c"
      }
     },
     "727113196c024201852deb91ba0e6fee": {
      "model_module": "@jupyter-widgets/base",
      "model_module_version": "1.2.0",
      "model_name": "LayoutModel",
      "state": {
       "width": "auto"
      }
     },
     "7298add546a34214be1df36ef5113b5b": {
      "model_module": "@jupyter-widgets/controls",
      "model_module_version": "1.5.0",
      "model_name": "VBoxModel",
      "state": {
       "children": [
        "IPY_MODEL_86aa519a8bd44ba59bd6f1bbaaa34d6b",
        "IPY_MODEL_816720c847444386b16062662c3030c8"
       ],
       "layout": "IPY_MODEL_22715fbd71c94eea9a2f011ab2c0a031"
      }
     },
     "729933750b1445af94a15d737cedcb24": {
      "model_module": "@jupyter-widgets/controls",
      "model_module_version": "1.5.0",
      "model_name": "ButtonModel",
      "state": {
       "button_style": "warning",
       "description": "Change Status",
       "layout": "IPY_MODEL_51336fad336b485f99dba9c4c85a8e35",
       "style": "IPY_MODEL_2b1383a0c50f44e78ff15439514cf6a5"
      }
     },
     "72eb6afd5d184fec8707f4435f810bd7": {
      "model_module": "@jupyter-widgets/base",
      "model_module_version": "1.2.0",
      "model_name": "LayoutModel",
      "state": {
       "margin": "2px 20px 0 0"
      }
     },
     "72ed51996c1544ce8081e95eabd88ae1": {
      "model_module": "@jupyter-widgets/controls",
      "model_module_version": "1.5.0",
      "model_name": "HBoxModel",
      "state": {
       "children": [
        "IPY_MODEL_1376a88f57ce4f18a9a9785340b7be39",
        "IPY_MODEL_b6b24a474ad3476f903ddcc77ea4a84c",
        "IPY_MODEL_aedb91a3b75e4e09b74ec08d47cc1ef6"
       ],
       "layout": "IPY_MODEL_17668a4e2127429c8375aa9c798af18e"
      }
     },
     "72f454c065a744e0916c5d96914e0f8e": {
      "model_module": "@jupyter-widgets/controls",
      "model_module_version": "1.5.0",
      "model_name": "DescriptionStyleModel",
      "state": {
       "description_width": ""
      }
     },
     "7311feb33cdf41fe89d0162f1b0d8bc3": {
      "model_module": "@jupyter-widgets/base",
      "model_module_version": "1.2.0",
      "model_name": "LayoutModel",
      "state": {}
     },
     "732e91fbea644d3c9ef358b80d5ff407": {
      "model_module": "@jupyter-widgets/base",
      "model_module_version": "1.2.0",
      "model_name": "LayoutModel",
      "state": {}
     },
     "733fab2e530f4edc9dd6b1ac3d02a8d4": {
      "model_module": "@jupyter-widgets/base",
      "model_module_version": "1.2.0",
      "model_name": "LayoutModel",
      "state": {
       "margin": "2px 20px 0 0",
       "width": "auto"
      }
     },
     "7340a0bfa45f46689792bf1e19ce9a26": {
      "model_module": "@jupyter-widgets/base",
      "model_module_version": "1.2.0",
      "model_name": "LayoutModel",
      "state": {
       "width": "auto"
      }
     },
     "735ce1ee93b34d32b22df587e420cbc6": {
      "model_module": "@jupyter-widgets/controls",
      "model_module_version": "1.5.0",
      "model_name": "ButtonModel",
      "state": {
       "button_style": "primary",
       "description": "Send Command",
       "layout": "IPY_MODEL_76d4b829993d46539dde7caed90be10c",
       "style": "IPY_MODEL_f7fc8755ee45430f810dbad05bca4a51"
      }
     },
     "73bd15c3bc424ad688e30aff814f3419": {
      "model_module": "@jupyter-widgets/base",
      "model_module_version": "1.2.0",
      "model_name": "LayoutModel",
      "state": {
       "width": "auto"
      }
     },
     "73c61a06b1be4dac9d53737ed4af4186": {
      "model_module": "@jupyter-widgets/controls",
      "model_module_version": "1.5.0",
      "model_name": "HBoxModel",
      "state": {
       "children": [
        "IPY_MODEL_509ce36d28864fa181edda52fc8fc64a",
        "IPY_MODEL_9e948d9289b34ceb819a96ad7ac39ad9",
        "IPY_MODEL_5f25c66614bf48008e36b921a8a24742"
       ],
       "layout": "IPY_MODEL_9427e81895914fba9e3952f63cc5ecb0"
      }
     },
     "7407d9580bc04e80ac2713cd2242fde8": {
      "model_module": "@jupyter-widgets/controls",
      "model_module_version": "1.5.0",
      "model_name": "HBoxModel",
      "state": {
       "children": [
        "IPY_MODEL_a36299434c6f4c7189741af51cb0a9dd",
        "IPY_MODEL_3f436b9da91a4c04bce81ccf91dd23aa"
       ],
       "layout": "IPY_MODEL_ee1f077a15234e32831f6ff6ced83ccf"
      }
     },
     "74265ee734934c718d1a3bd271142316": {
      "model_module": "@jupyter-widgets/controls",
      "model_module_version": "1.5.0",
      "model_name": "ButtonModel",
      "state": {
       "button_style": "success",
       "description": "Send Command",
       "layout": "IPY_MODEL_a8058a4896b14c0a92a7c00418e97168",
       "style": "IPY_MODEL_09634e15737540afa02198ac80db909a"
      }
     },
     "7442eba951bc4327b90edf952b69a6a1": {
      "model_module": "@jupyter-widgets/controls",
      "model_module_version": "1.5.0",
      "model_name": "ButtonModel",
      "state": {
       "button_style": "success",
       "description": "Select",
       "layout": "IPY_MODEL_0d8fc897d8624a62a3a92c9ed53a1955",
       "style": "IPY_MODEL_dab076627fe647199e513549180f7e23"
      }
     },
     "745693cfdd1a455e9eafad2af2a455ad": {
      "model_module": "@jupyter-widgets/base",
      "model_module_version": "1.2.0",
      "model_name": "LayoutModel",
      "state": {}
     },
     "749f27e96a88409291a6a57c99d5ab82": {
      "model_module": "@jupyter-widgets/controls",
      "model_module_version": "1.5.0",
      "model_name": "ButtonStyleModel",
      "state": {}
     },
     "74a95e05227d4e3b8be42ea1fc9973dc": {
      "model_module": "@jupyter-widgets/base",
      "model_module_version": "1.2.0",
      "model_name": "LayoutModel",
      "state": {
       "width": "auto"
      }
     },
     "7516bbca0f5a479b9ddd09e6f4bd4a6f": {
      "model_module": "@jupyter-widgets/base",
      "model_module_version": "1.2.0",
      "model_name": "LayoutModel",
      "state": {}
     },
     "7539e5a19ce94e05952112c7ae8531db": {
      "model_module": "@jupyter-widgets/base",
      "model_module_version": "1.2.0",
      "model_name": "LayoutModel",
      "state": {}
     },
     "754b27cfb0d84f65b23a4fad8516b985": {
      "model_module": "@jupyter-widgets/controls",
      "model_module_version": "1.5.0",
      "model_name": "ButtonModel",
      "state": {
       "button_style": "warning",
       "description": "Change Status",
       "layout": "IPY_MODEL_ccddd96061864285a6c936e142de35de",
       "style": "IPY_MODEL_3c7c0795ead84f6eac5beed9a433139c"
      }
     },
     "757f3267070b4381aab72005cd44fd75": {
      "model_module": "@jupyter-widgets/controls",
      "model_module_version": "1.5.0",
      "model_name": "HTMLModel",
      "state": {
       "layout": "IPY_MODEL_0d831c26f4c6499f823d4637d2ef34c8",
       "style": "IPY_MODEL_01119eee8a6d4527acf65610592a544d",
       "value": "<h4>What do you want to do?</h4><p>You can send a new command to the device or change it's status between running, paused, and shutdown. </p> "
      }
     },
     "758127c9baef42efb2059fffb7b7f945": {
      "model_module": "@jupyter-widgets/controls",
      "model_module_version": "1.5.0",
      "model_name": "ButtonModel",
      "state": {
       "button_style": "info",
       "icon": "refresh",
       "layout": "IPY_MODEL_9364ed6799f14c87884bd78acbd2078c",
       "style": "IPY_MODEL_008b0f57e4124f83a0b85bfbba3d0530"
      }
     },
     "75b57e52a3e54716ab82479379266201": {
      "model_module": "@jupyter-widgets/controls",
      "model_module_version": "1.5.0",
      "model_name": "VBoxModel",
      "state": {
       "children": [
        "IPY_MODEL_f420709cc4e74963a003d7dff6bd0e46",
        "IPY_MODEL_472982cb27754d17b5a6c2a01a913b9d"
       ],
       "layout": "IPY_MODEL_8f6a218d281d4a308e4ecad97182a346"
      }
     },
     "75c487786adc4376b093545f3121c213": {
      "model_module": "@jupyter-widgets/controls",
      "model_module_version": "1.5.0",
      "model_name": "DescriptionStyleModel",
      "state": {
       "description_width": ""
      }
     },
     "75e37735dfea4958aa0b0a0d74577aa3": {
      "model_module": "@jupyter-widgets/base",
      "model_module_version": "1.2.0",
      "model_name": "LayoutModel",
      "state": {
       "margin": "2px 20px 0 0",
       "width": "auto"
      }
     },
     "75f0b2f8c0ef416895ccc4195a6645aa": {
      "model_module": "@jupyter-widgets/controls",
      "model_module_version": "1.5.0",
      "model_name": "DescriptionStyleModel",
      "state": {
       "description_width": ""
      }
     },
     "7659c628fee44322879f6f1576b3fbbf": {
      "model_module": "@jupyter-widgets/base",
      "model_module_version": "1.2.0",
      "model_name": "LayoutModel",
      "state": {}
     },
     "7677f9bd4faa49c6be7860adfacfa4e3": {
      "model_module": "@jupyter-widgets/controls",
      "model_module_version": "1.5.0",
      "model_name": "ButtonStyleModel",
      "state": {}
     },
     "76c7715c9000450eb64c5f7ec0b95d1d": {
      "model_module": "@jupyter-widgets/controls",
      "model_module_version": "1.5.0",
      "model_name": "ButtonModel",
      "state": {
       "button_style": "warning",
       "description": "Change Status",
       "layout": "IPY_MODEL_91a0c82e2f584a36a00234d23cabf348",
       "style": "IPY_MODEL_b408841d4ede4fad94913095b029550e"
      }
     },
     "76d4b829993d46539dde7caed90be10c": {
      "model_module": "@jupyter-widgets/base",
      "model_module_version": "1.2.0",
      "model_name": "LayoutModel",
      "state": {
       "margin": "2px 20px 0 0"
      }
     },
     "76e5a656f10345de9c18b0f4ff62cc44": {
      "model_module": "@jupyter-widgets/controls",
      "model_module_version": "1.5.0",
      "model_name": "HTMLModel",
      "state": {
       "layout": "IPY_MODEL_d8a2ea28248d48faadeeb4a6efac6262",
       "style": "IPY_MODEL_700d8d9ff46a4a49b8228004f341e027",
       "value": "<h3>Select Device to Control</h3><p>Type the name of the device you wish to controle. Example: <code>flow_1</code></p>"
      }
     },
     "76fbd5081a404e2f832820547655126d": {
      "model_module": "@jupyter-widgets/controls",
      "model_module_version": "1.5.0",
      "model_name": "HTMLModel",
      "state": {
       "layout": "IPY_MODEL_21919d7ddee94bae91a862a4dc0bcb45",
       "style": "IPY_MODEL_0e814eaad9a94f82989d6f1877322393",
       "value": "<h3>History</h3><hr>"
      }
     },
     "77092d5eb5bc4dc499dfede3f22decda": {
      "model_module": "@jupyter-widgets/controls",
      "model_module_version": "1.5.0",
      "model_name": "ButtonStyleModel",
      "state": {}
     },
     "773538fbcf5f4cfe92b5b980f35d61b6": {
      "model_module": "@jupyter-widgets/controls",
      "model_module_version": "1.5.0",
      "model_name": "HTMLModel",
      "state": {
       "layout": "IPY_MODEL_e051223802144865b13d64017e4d4295",
       "style": "IPY_MODEL_24aa0a4391564daaaa3850398debfbbc",
       "value": "<p>2022-06-27 05:30:00 UTC - Running job Job(interval=1, unit=hours, do=sayHello, args=(), kwargs={'name': 'hourly,30'})</p>"
      }
     },
     "773863f05cef4eb48b6de43b39fd1767": {
      "model_module": "@jupyter-widgets/base",
      "model_module_version": "1.2.0",
      "model_name": "LayoutModel",
      "state": {
       "width": "auto"
      }
     },
     "776b0719f5d34327b69a5f8b8cc33d91": {
      "model_module": "@jupyter-widgets/base",
      "model_module_version": "1.2.0",
      "model_name": "LayoutModel",
      "state": {
       "margin": "0 0 0 20px"
      }
     },
     "777e09f983be4765a54a53e4297f7bbc": {
      "model_module": "@jupyter-widgets/base",
      "model_module_version": "1.2.0",
      "model_name": "LayoutModel",
      "state": {
       "width": "auto"
      }
     },
     "7781fce1ed1143a8ad2562ee418ffc12": {
      "model_module": "@jupyter-widgets/controls",
      "model_module_version": "1.5.0",
      "model_name": "HBoxModel",
      "state": {
       "children": [
        "IPY_MODEL_9ee5095dd78647ac8a74f63725d290df",
        "IPY_MODEL_2fd0eadd92c94bc9bd96bfd2088a05bd"
       ],
       "layout": "IPY_MODEL_a6f263b6bee2404e8023d87774f0f108"
      }
     },
     "778e8e5bc958444cb0e428f86cfdc094": {
      "model_module": "@jupyter-widgets/base",
      "model_module_version": "1.2.0",
      "model_name": "LayoutModel",
      "state": {}
     },
     "77a4f081f0ef408a93307be1c0ea951f": {
      "model_module": "@jupyter-widgets/controls",
      "model_module_version": "1.5.0",
      "model_name": "ButtonStyleModel",
      "state": {}
     },
     "77e046e73e9c498599e02b81387a6418": {
      "model_module": "@jupyter-widgets/controls",
      "model_module_version": "1.5.0",
      "model_name": "HTMLModel",
      "state": {
       "layout": "IPY_MODEL_fae7b79ff8c94bfd84e4ce17f1171850",
       "style": "IPY_MODEL_e4671ac149ba4719acffe97de89c2c86",
       "value": "<h3>History</h3><hr>"
      }
     },
     "77f7e0e6d8114601af62017320097a06": {
      "model_module": "@jupyter-widgets/controls",
      "model_module_version": "1.5.0",
      "model_name": "HTMLModel",
      "state": {
       "layout": "IPY_MODEL_12d47a7b413d4afaba313d2e6c79764f",
       "style": "IPY_MODEL_0083d38dc1934330abf7fb68bbe5a60b",
       "value": "<h3>Select Device to Control</h3><p>Type the name of the device you wish to controle. Example: <code>flow_1</code></p>"
      }
     },
     "7818d4742c624c52b26a851846ff5473": {
      "model_module": "@jupyter-widgets/base",
      "model_module_version": "1.2.0",
      "model_name": "LayoutModel",
      "state": {
       "margin": "2px 20px 0 0"
      }
     },
     "78237dc41b894676b98f784add52cb52": {
      "model_module": "@jupyter-widgets/base",
      "model_module_version": "1.2.0",
      "model_name": "LayoutModel",
      "state": {
       "margin": "2px 20px 0 0"
      }
     },
     "78d5dfb2538d41c3a4cb5507aeb48442": {
      "model_module": "@jupyter-widgets/controls",
      "model_module_version": "1.5.0",
      "model_name": "ButtonStyleModel",
      "state": {}
     },
     "78e7184822e548d08d8e41a1476c8b21": {
      "model_module": "@jupyter-widgets/base",
      "model_module_version": "1.2.0",
      "model_name": "LayoutModel",
      "state": {}
     },
     "791c5f33cc574de1a28a085d5c5e43e2": {
      "model_module": "@jupyter-widgets/controls",
      "model_module_version": "1.5.0",
      "model_name": "DescriptionStyleModel",
      "state": {
       "description_width": ""
      }
     },
     "79682fd1b8de412c873194713b86babf": {
      "model_module": "@jupyter-widgets/controls",
      "model_module_version": "1.5.0",
      "model_name": "HTMLModel",
      "state": {
       "layout": "IPY_MODEL_aa4806921f83404194221ea03803f58d",
       "style": "IPY_MODEL_4dea51f523e34a0db3434889c7d46c61",
       "value": "<h3>pic_1</h3>"
      }
     },
     "797b0187ee4b40a1a0205ef5e023dbdf": {
      "model_module": "@jupyter-widgets/base",
      "model_module_version": "1.2.0",
      "model_name": "LayoutModel",
      "state": {
       "margin": "2px 20px 0 0"
      }
     },
     "79dae87b8b5e4d3282ed3bcf28949c64": {
      "model_module": "@jupyter-widgets/controls",
      "model_module_version": "1.5.0",
      "model_name": "DescriptionStyleModel",
      "state": {
       "description_width": ""
      }
     },
     "79eecf393bae43259b8e801f518b4647": {
      "model_module": "@jupyter-widgets/controls",
      "model_module_version": "1.5.0",
      "model_name": "HBoxModel",
      "state": {
       "children": [
        "IPY_MODEL_7c1d6d7f1dc74ab886394f7ea609b458",
        "IPY_MODEL_c562ad72c83f4921bea46dd7613d07e4"
       ],
       "layout": "IPY_MODEL_7c0ee5f91e4242fdae7afc51fb215a36"
      }
     },
     "7a1feefa7c454a229c597eb8a985cad5": {
      "model_module": "@jupyter-widgets/controls",
      "model_module_version": "1.5.0",
      "model_name": "HBoxModel",
      "state": {
       "children": [
        "IPY_MODEL_6bcb13ca55d1460f81b2669637abe65d",
        "IPY_MODEL_028f1a33c72f47d4b62c5fea8b2329c2"
       ],
       "layout": "IPY_MODEL_f66db97097134f938d3816e17233107e"
      }
     },
     "7a7b07024de24943a0d63fe3c049e52a": {
      "model_module": "@jupyter-widgets/controls",
      "model_module_version": "1.5.0",
      "model_name": "ButtonStyleModel",
      "state": {}
     },
     "7a826a7df556414c97643503219f6619": {
      "model_module": "@jupyter-widgets/controls",
      "model_module_version": "1.5.0",
      "model_name": "DescriptionStyleModel",
      "state": {
       "description_width": ""
      }
     },
     "7a8f7c65952845f88e05053b0bb1e852": {
      "model_module": "@jupyter-widgets/controls",
      "model_module_version": "1.5.0",
      "model_name": "DescriptionStyleModel",
      "state": {
       "description_width": ""
      }
     },
     "7aa916f9351242c5b5d4020ab9a6111e": {
      "model_module": "@jupyter-widgets/controls",
      "model_module_version": "1.5.0",
      "model_name": "HBoxModel",
      "state": {
       "children": [
        "IPY_MODEL_3a54c26ef1214af79db8eab7e8d89997",
        "IPY_MODEL_a6af0c2e3b5e4139851db5b27fb2a70a"
       ],
       "layout": "IPY_MODEL_d35f5ac80c774ce7a906e699f510d0e4"
      }
     },
     "7aa9a060bbbe444fb5d7be85b46b4f51": {
      "model_module": "@jupyter-widgets/base",
      "model_module_version": "1.2.0",
      "model_name": "LayoutModel",
      "state": {
       "width": "450px"
      }
     },
     "7ab14eec34334964b3b3dbcb879d65a7": {
      "model_module": "@jupyter-widgets/controls",
      "model_module_version": "1.5.0",
      "model_name": "TextModel",
      "state": {
       "description": "Device",
       "layout": "IPY_MODEL_8c3e2a59d9ee4e76b11e18860f9c896a",
       "style": "IPY_MODEL_6ec3637c2b004c249c2083e11e21c880",
       "value": "flow_1"
      }
     },
     "7b35f6256e164fcc82988c385e44b8f4": {
      "model_module": "@jupyter-widgets/controls",
      "model_module_version": "1.5.0",
      "model_name": "TextModel",
      "state": {
       "description": "Device",
       "layout": "IPY_MODEL_095bd5ad311c43afa237af9b184a95a2",
       "style": "IPY_MODEL_e65436df5e6d4ff0a7edc463703efb52",
       "value": "flow_1"
      }
     },
     "7b5aee19175740e496406f5c868edcde": {
      "model_module": "@jupyter-widgets/controls",
      "model_module_version": "1.5.0",
      "model_name": "HTMLModel",
      "state": {
       "layout": "IPY_MODEL_fd30a22f846748fb95d4b61b432297bc",
       "style": "IPY_MODEL_4d44dbb317ea42b58e0af67e564dea04",
       "value": "<h4>What do you want to do?</h4><p>You can send a new command to the device or change it's status between running, paused, and shutdown. </p> "
      }
     },
     "7c0ee5f91e4242fdae7afc51fb215a36": {
      "model_module": "@jupyter-widgets/base",
      "model_module_version": "1.2.0",
      "model_name": "LayoutModel",
      "state": {}
     },
     "7c1d6d7f1dc74ab886394f7ea609b458": {
      "model_module": "@jupyter-widgets/controls",
      "model_module_version": "1.5.0",
      "model_name": "ButtonModel",
      "state": {
       "button_style": "success",
       "description": "Send Command",
       "layout": "IPY_MODEL_a2ab7e3543bd424f8ff1e1ec72ff4453",
       "style": "IPY_MODEL_ea210d33b024409eb7adb434718f8b32"
      }
     },
     "7c492d962ac645a58b1b4977ae4bf412": {
      "model_module": "@jupyter-widgets/controls",
      "model_module_version": "1.5.0",
      "model_name": "ButtonModel",
      "state": {
       "button_style": "success",
       "description": "Select",
       "layout": "IPY_MODEL_5c228a93892a43d69533b6a2b41e6b97",
       "style": "IPY_MODEL_5c3b44a7a0d142c0941081cdc60373ee"
      }
     },
     "7c7f64683a40439987b55ad864bd3591": {
      "model_module": "@jupyter-widgets/controls",
      "model_module_version": "1.5.0",
      "model_name": "HBoxModel",
      "state": {
       "children": [
        "IPY_MODEL_03ce8213c7db4812a97222d56b269bf3",
        "IPY_MODEL_d19d04e7567d4d9395ec5e5efa0be3ae"
       ],
       "layout": "IPY_MODEL_58df8c62f5cc4bc2b30b4c1aa3908b6d"
      }
     },
     "7ca74562d8c7480491b47616d3fe26df": {
      "model_module": "@jupyter-widgets/base",
      "model_module_version": "1.2.0",
      "model_name": "LayoutModel",
      "state": {
       "margin": "2px 20px 0 0"
      }
     },
     "7cbfb77d01fb47eebc85b7c094ae783b": {
      "model_module": "@jupyter-widgets/controls",
      "model_module_version": "1.5.0",
      "model_name": "TextModel",
      "state": {
       "description": "Command",
       "layout": "IPY_MODEL_96f052da65a1459883892d0fe133005d",
       "style": "IPY_MODEL_ef1560c7f91c4a26b59d77d9cbc3e1de"
      }
     },
     "7cc428a2e29a476eaf644c9df8bcd4da": {
      "model_module": "@jupyter-widgets/controls",
      "model_module_version": "1.5.0",
      "model_name": "TextModel",
      "state": {
       "description": "Device",
       "layout": "IPY_MODEL_afe25547177948739811821fbd8c08be",
       "style": "IPY_MODEL_fd0e51eac82b479daa7e532b30ae3096",
       "value": "flow_1"
      }
     },
     "7cdd00b3d3074e449fe3ea32d2dc96cc": {
      "model_module": "@jupyter-widgets/controls",
      "model_module_version": "1.5.0",
      "model_name": "HBoxModel",
      "state": {
       "children": [
        "IPY_MODEL_64ce433d3a644de6b6f883ae77b328ce",
        "IPY_MODEL_96e6801ca46b47ada9a3db9278d91575"
       ],
       "layout": "IPY_MODEL_548a17b1484b48d1b2a27f4977f8a498"
      }
     },
     "7cdfcd3af6a6433ca589bd7d2b8f4409": {
      "model_module": "@jupyter-widgets/base",
      "model_module_version": "1.2.0",
      "model_name": "LayoutModel",
      "state": {
       "padding": "0 0 0 0"
      }
     },
     "7d3efc6430ea4d86ad1889ab5e5c390b": {
      "model_module": "@jupyter-widgets/controls",
      "model_module_version": "1.5.0",
      "model_name": "TextModel",
      "state": {
       "description": "Device",
       "layout": "IPY_MODEL_3330dbad7dae441295e7136576ad764e",
       "style": "IPY_MODEL_f3fffbe7cbda430c9afa4ba4b89964d0",
       "value": "flow_1"
      }
     },
     "7d98ed1fda0446e388a380176ad8c6bd": {
      "model_module": "@jupyter-widgets/controls",
      "model_module_version": "1.5.0",
      "model_name": "ButtonModel",
      "state": {
       "button_style": "success",
       "description": "Select",
       "layout": "IPY_MODEL_bf10605a8dda4fb39b5bb62ab2dbd867",
       "style": "IPY_MODEL_4248e54828e64fb39b09fbe6e92aae66"
      }
     },
     "7da5ef70e5cf4091a9065d9a0c1eff33": {
      "model_module": "@jupyter-widgets/controls",
      "model_module_version": "1.5.0",
      "model_name": "DescriptionStyleModel",
      "state": {
       "description_width": ""
      }
     },
     "7db4acd8effb48968d7e92f59511728d": {
      "model_module": "@jupyter-widgets/base",
      "model_module_version": "1.2.0",
      "model_name": "LayoutModel",
      "state": {}
     },
     "7e06f7b8d4e44e9392a55083df77df48": {
      "model_module": "@jupyter-widgets/base",
      "model_module_version": "1.2.0",
      "model_name": "LayoutModel",
      "state": {
       "width": "600px"
      }
     },
     "7e0beef3681f47b99d7a49524a5d5701": {
      "model_module": "@jupyter-widgets/base",
      "model_module_version": "1.2.0",
      "model_name": "LayoutModel",
      "state": {}
     },
     "7e1683282eb5461aa121d03e324c2e5c": {
      "model_module": "@jupyter-widgets/base",
      "model_module_version": "1.2.0",
      "model_name": "LayoutModel",
      "state": {
       "width": "auto"
      }
     },
     "7e4035eac4204639b5e41b4061a9eada": {
      "model_module": "@jupyter-widgets/controls",
      "model_module_version": "1.5.0",
      "model_name": "ButtonStyleModel",
      "state": {}
     },
     "7e4d277e16c745298103c5b0a369daab": {
      "model_module": "@jupyter-widgets/controls",
      "model_module_version": "1.5.0",
      "model_name": "HTMLModel",
      "state": {
       "layout": "IPY_MODEL_ecaaf410f25e4360b66c5e22cc6b5050",
       "style": "IPY_MODEL_ddbdd1ad06c04a5db29ae7c6fa7830a2",
       "value": "<h3>Select Device to Control</h3><p>Type the name of the device you wish to controle. Example: <code>flow_1</code></p>"
      }
     },
     "7e4dcbd4162f40359e31594a6f1ff114": {
      "model_module": "@jupyter-widgets/controls",
      "model_module_version": "1.5.0",
      "model_name": "ButtonStyleModel",
      "state": {}
     },
     "7e780df9e2924228977b083ed4db35f8": {
      "model_module": "@jupyter-widgets/controls",
      "model_module_version": "1.5.0",
      "model_name": "ButtonStyleModel",
      "state": {}
     },
     "7e7e19ad875a42f4b334a338250cb1c2": {
      "model_module": "@jupyter-widgets/controls",
      "model_module_version": "1.5.0",
      "model_name": "ButtonStyleModel",
      "state": {}
     },
     "7ea6030e703b4c7e815fc1f3191e4308": {
      "model_module": "@jupyter-widgets/base",
      "model_module_version": "1.2.0",
      "model_name": "LayoutModel",
      "state": {
       "width": "auto"
      }
     },
     "7ebbd8ad11dc4b9d9e4b619ae24057a5": {
      "model_module": "@jupyter-widgets/controls",
      "model_module_version": "1.5.0",
      "model_name": "ButtonStyleModel",
      "state": {}
     },
     "7ec0da91af514f329548ed8c4a8dada5": {
      "model_module": "@jupyter-widgets/controls",
      "model_module_version": "1.5.0",
      "model_name": "VBoxModel",
      "state": {
       "children": [
        "IPY_MODEL_3b725c336c684e8cb163f80d02e3976b",
        "IPY_MODEL_69b067e50ade4c9f86967d1aa9b10182"
       ],
       "layout": "IPY_MODEL_8d0296c29fed4898bb2b1847679f9c90"
      }
     },
     "7edafaebef034deca1d33c273041bfa7": {
      "model_module": "@jupyter-widgets/controls",
      "model_module_version": "1.5.0",
      "model_name": "ButtonStyleModel",
      "state": {}
     },
     "7edcf32ed6884a7da94ad1348bcc0333": {
      "model_module": "@jupyter-widgets/controls",
      "model_module_version": "1.5.0",
      "model_name": "HBoxModel",
      "state": {
       "children": [
        "IPY_MODEL_14f00277efe34ac9acc7efc2712100ca",
        "IPY_MODEL_2c9af26664124d6085d1274962306645"
       ],
       "layout": "IPY_MODEL_778e8e5bc958444cb0e428f86cfdc094"
      }
     },
     "7f1f113a22174e55bf64670b7ed806fa": {
      "model_module": "@jupyter-widgets/controls",
      "model_module_version": "1.5.0",
      "model_name": "DescriptionStyleModel",
      "state": {
       "description_width": ""
      }
     },
     "7f3c3396dc6646cca8ba50ae034cbb5a": {
      "model_module": "@jupyter-widgets/base",
      "model_module_version": "1.2.0",
      "model_name": "LayoutModel",
      "state": {}
     },
     "7f67b45a00314184adca1fa8a98030f6": {
      "model_module": "@jupyter-widgets/controls",
      "model_module_version": "1.5.0",
      "model_name": "ButtonModel",
      "state": {
       "button_style": "warning",
       "description": "Change Status",
       "layout": "IPY_MODEL_18d923c758f94c5cb4ae5ac2faa6640f",
       "style": "IPY_MODEL_d1b129344c3c42aa8c65b6bd9d7c4539"
      }
     },
     "7f9bf50a025941b2805a2c826114be30": {
      "model_module": "@jupyter-widgets/controls",
      "model_module_version": "1.5.0",
      "model_name": "DescriptionStyleModel",
      "state": {
       "description_width": ""
      }
     },
     "7fa54195f1b0483da05baa52a5afa93b": {
      "model_module": "@jupyter-widgets/controls",
      "model_module_version": "1.5.0",
      "model_name": "VBoxModel",
      "state": {
       "children": [
        "IPY_MODEL_93fc5c26d521422287f0c1accb181a68",
        "IPY_MODEL_46f2f9a8a533487188275c156fa84a7d"
       ],
       "layout": "IPY_MODEL_9a7ea46e41d7426e976ac7fdf24ceedf"
      }
     },
     "7fab123f7e264a9ab3d8f214e41606a0": {
      "model_module": "@jupyter-widgets/base",
      "model_module_version": "1.2.0",
      "model_name": "LayoutModel",
      "state": {}
     },
     "7ffa6c9e374d43e39b36bacb733f237b": {
      "model_module": "@jupyter-widgets/controls",
      "model_module_version": "1.5.0",
      "model_name": "ButtonModel",
      "state": {
       "button_style": "warning",
       "description": "Pause",
       "layout": "IPY_MODEL_5eed2c50fc3d46988892f799cc6837a7",
       "style": "IPY_MODEL_f08d5514381e42b4b03e586f08f193fb"
      }
     },
     "80b44ea5edd94ab78256acd4aecb9341": {
      "model_module": "@jupyter-widgets/controls",
      "model_module_version": "1.5.0",
      "model_name": "DescriptionStyleModel",
      "state": {
       "description_width": ""
      }
     },
     "80ee4925cf7943c18f555a72b21bf7b0": {
      "model_module": "@jupyter-widgets/controls",
      "model_module_version": "1.5.0",
      "model_name": "ButtonModel",
      "state": {
       "button_style": "success",
       "description": "Send Command",
       "layout": "IPY_MODEL_fbf2923464cb4f8a9368cbe5e1310964",
       "style": "IPY_MODEL_7e7e19ad875a42f4b334a338250cb1c2"
      }
     },
     "8108dd05add947b78ef08e0a93e42490": {
      "model_module": "@jupyter-widgets/controls",
      "model_module_version": "1.5.0",
      "model_name": "TextModel",
      "state": {
       "description": "Devices",
       "layout": "IPY_MODEL_c51e75c6f9664dd7aa1441397cb395fc",
       "style": "IPY_MODEL_fea0d7347ac54c2494b8936465846303",
       "value": "flow_1,pic_1"
      }
     },
     "810f0ad017134cd3a795eb1ae3e56dc5": {
      "model_module": "@jupyter-widgets/controls",
      "model_module_version": "1.5.0",
      "model_name": "TextModel",
      "state": {
       "description": "Command",
       "layout": "IPY_MODEL_25d99d8ba5cf447ab491813950904326",
       "style": "IPY_MODEL_f33356e04b0842f7b94d0d85f5741d3a"
      }
     },
     "814c76124550487d852d1fcbadc8dc0a": {
      "model_module": "@jupyter-widgets/controls",
      "model_module_version": "1.5.0",
      "model_name": "ButtonStyleModel",
      "state": {}
     },
     "815470c1772c41d2844aa317ef112dc8": {
      "model_module": "@jupyter-widgets/base",
      "model_module_version": "1.2.0",
      "model_name": "LayoutModel",
      "state": {
       "margin": "2px 50px 0 0",
       "width": "auto"
      }
     },
     "815c62c06d73446f8c2756fef5cee728": {
      "model_module": "@jupyter-widgets/base",
      "model_module_version": "1.2.0",
      "model_name": "LayoutModel",
      "state": {
       "width": "auto"
      }
     },
     "816720c847444386b16062662c3030c8": {
      "model_module": "@jupyter-widgets/controls",
      "model_module_version": "1.5.0",
      "model_name": "HBoxModel",
      "state": {
       "children": [
        "IPY_MODEL_c118aa94ebbc4446967670400452338d",
        "IPY_MODEL_8877608b49114340bcd5df3b50d91621"
       ],
       "layout": "IPY_MODEL_cf34ef21e07a42918a86ef88c431f587"
      }
     },
     "8194b4987c144bd286e35d4282389d66": {
      "model_module": "@jupyter-widgets/base",
      "model_module_version": "1.2.0",
      "model_name": "LayoutModel",
      "state": {}
     },
     "81d2864734a34312aea255c67b56c615": {
      "model_module": "@jupyter-widgets/base",
      "model_module_version": "1.2.0",
      "model_name": "LayoutModel",
      "state": {
       "width": "auto"
      }
     },
     "81db5399a818455d97e13e69dd44942d": {
      "model_module": "@jupyter-widgets/controls",
      "model_module_version": "1.5.0",
      "model_name": "ButtonStyleModel",
      "state": {}
     },
     "82b25ed954a742be85a5172250b0e615": {
      "model_module": "@jupyter-widgets/controls",
      "model_module_version": "1.5.0",
      "model_name": "ButtonModel",
      "state": {
       "button_style": "success",
       "description": "Send Command",
       "layout": "IPY_MODEL_f0db2c8381e44528ae8031e321b2cc4d",
       "style": "IPY_MODEL_4639a98ccf1742e6b6734bf8416e68a2"
      }
     },
     "82b7efeb419a4c3b8d287afdfe0db3f8": {
      "model_module": "@jupyter-widgets/controls",
      "model_module_version": "1.5.0",
      "model_name": "ButtonStyleModel",
      "state": {}
     },
     "82de5dab3e8944c785bb3343a84359ce": {
      "model_module": "@jupyter-widgets/controls",
      "model_module_version": "1.5.0",
      "model_name": "DescriptionStyleModel",
      "state": {
       "description_width": ""
      }
     },
     "82e3593265884935b88c3f91f7a9ec06": {
      "model_module": "@jupyter-widgets/controls",
      "model_module_version": "1.5.0",
      "model_name": "HTMLModel",
      "state": {
       "layout": "IPY_MODEL_e867587899634fc79e6be5e8bb45f463",
       "style": "IPY_MODEL_156b644e31a54d79bd1d364b7e8fbe5c",
       "value": "<h3>History</h3><hr>"
      }
     },
     "82ef19d038b147dc95075a3c6b2ae715": {
      "model_module": "@jupyter-widgets/base",
      "model_module_version": "1.2.0",
      "model_name": "LayoutModel",
      "state": {}
     },
     "82f805eab9e0410599989faab545bc1e": {
      "model_module": "@jupyter-widgets/controls",
      "model_module_version": "1.5.0",
      "model_name": "HBoxModel",
      "state": {
       "children": [
        "IPY_MODEL_bdc41d53a3394b0dbb21670b718d4390",
        "IPY_MODEL_1bda2a00128040c9bebd7bd6cf2962c9",
        "IPY_MODEL_842e952098e24d469f5c699f6dc36d3d"
       ],
       "layout": "IPY_MODEL_38eaf0106af44f2d951d01626cef0d60"
      }
     },
     "832e041a40e34875a161f5a521387f62": {
      "model_module": "@jupyter-widgets/controls",
      "model_module_version": "1.5.0",
      "model_name": "HBoxModel",
      "state": {
       "children": [
        "IPY_MODEL_cb29281a56e24158a3a356f2d4389a05",
        "IPY_MODEL_c34f6ce0ea1743e38601f660e50fb9b2"
       ],
       "layout": "IPY_MODEL_b62a82afaa6b4a33af8b2d26c5988ad3"
      }
     },
     "8336d1c68058447c830d6bd31e601fa2": {
      "model_module": "@jupyter-widgets/base",
      "model_module_version": "1.2.0",
      "model_name": "LayoutModel",
      "state": {}
     },
     "833b9f0167fd4bf7ae3e4a55b5a50129": {
      "model_module": "@jupyter-widgets/base",
      "model_module_version": "1.2.0",
      "model_name": "LayoutModel",
      "state": {
       "margin": "2px 50px 0 0",
       "width": "auto"
      }
     },
     "834b3b4dee3e40278e93db9beb785ee4": {
      "model_module": "@jupyter-widgets/base",
      "model_module_version": "1.2.0",
      "model_name": "LayoutModel",
      "state": {}
     },
     "83a55dd1a1844a5eb1c523baa2d628ea": {
      "model_module": "@jupyter-widgets/base",
      "model_module_version": "1.2.0",
      "model_name": "LayoutModel",
      "state": {
       "margin": "2px 20px 0 0"
      }
     },
     "83ab47ed8d3c4d83b271726f55c045b1": {
      "model_module": "@jupyter-widgets/base",
      "model_module_version": "1.2.0",
      "model_name": "LayoutModel",
      "state": {}
     },
     "840c99f51a0a4647ac341ceb7ee85504": {
      "model_module": "@jupyter-widgets/controls",
      "model_module_version": "1.5.0",
      "model_name": "TextModel",
      "state": {
       "description": "Device",
       "layout": "IPY_MODEL_f6b49db295464b179087f93eec32711f",
       "style": "IPY_MODEL_cdcc8f9476d443ba92f619e1fd88ce9a",
       "value": "flow_1"
      }
     },
     "841de70c90124448a67f483dee1dc504": {
      "model_module": "@jupyter-widgets/base",
      "model_module_version": "1.2.0",
      "model_name": "LayoutModel",
      "state": {}
     },
     "842e952098e24d469f5c699f6dc36d3d": {
      "model_module": "@jupyter-widgets/controls",
      "model_module_version": "1.5.0",
      "model_name": "ButtonModel",
      "state": {
       "button_style": "info",
       "icon": "refresh",
       "layout": "IPY_MODEL_73bd15c3bc424ad688e30aff814f3419",
       "style": "IPY_MODEL_41975e670b734d2a9cd4112e2d5eb867"
      }
     },
     "84366d6408ae4a2d962c0b642eb8da52": {
      "model_module": "@jupyter-widgets/controls",
      "model_module_version": "1.5.0",
      "model_name": "DescriptionStyleModel",
      "state": {
       "description_width": ""
      }
     },
     "848f999af45d45a1a17f2a8a066d9618": {
      "model_module": "@jupyter-widgets/controls",
      "model_module_version": "1.5.0",
      "model_name": "ButtonModel",
      "state": {
       "button_style": "success",
       "description": "Draw",
       "layout": "IPY_MODEL_a8d679aa1c514e15b071f7ed783a39db",
       "style": "IPY_MODEL_39ab3c43b55e44c2a208b347765c853e"
      }
     },
     "84903597733b41a8a6a1ed9602a0150c": {
      "model_module": "@jupyter-widgets/controls",
      "model_module_version": "1.5.0",
      "model_name": "TextModel",
      "state": {
       "description": "Command",
       "layout": "IPY_MODEL_22259f215392449b9c5ac97db03a1dd2",
       "style": "IPY_MODEL_8c5a54c6793a4455bdc056311b3c6911"
      }
     },
     "852e02e406c94e969025bf8da19943ef": {
      "model_module": "@jupyter-widgets/base",
      "model_module_version": "1.2.0",
      "model_name": "LayoutModel",
      "state": {}
     },
     "852fc91a4e8241c1a0409280c668c9da": {
      "model_module": "@jupyter-widgets/base",
      "model_module_version": "1.2.0",
      "model_name": "LayoutModel",
      "state": {
       "width": "auto"
      }
     },
     "85410d205f5c4dcda206f8d6cbf6fa24": {
      "model_module": "@jupyter-widgets/controls",
      "model_module_version": "1.5.0",
      "model_name": "ButtonStyleModel",
      "state": {}
     },
     "8599410e1210400c86e2bc8235785e42": {
      "model_module": "@jupyter-widgets/controls",
      "model_module_version": "1.5.0",
      "model_name": "ButtonStyleModel",
      "state": {}
     },
     "859a43cc4d6247f080e1fa8112d81f07": {
      "model_module": "@jupyter-widgets/controls",
      "model_module_version": "1.5.0",
      "model_name": "HBoxModel",
      "state": {
       "children": [
        "IPY_MODEL_4b60d1b7376a41a1b074888585f27e8e",
        "IPY_MODEL_573443cddb2542aaaf151007a6cb0a5f"
       ],
       "layout": "IPY_MODEL_c9cac2f30df9438abd05fa2ed117813c"
      }
     },
     "85aa6fbff5a64671845e79407122b7b1": {
      "model_module": "@jupyter-widgets/controls",
      "model_module_version": "1.5.0",
      "model_name": "ButtonModel",
      "state": {
       "button_style": "success",
       "description": "Run",
       "layout": "IPY_MODEL_968cb287b50a4c15a7eadf087cacee8b",
       "style": "IPY_MODEL_fe6a3f1327e84f678e00e3bef8bae54d"
      }
     },
     "85c4e5a85829453495f8cd2e233e5f55": {
      "model_module": "@jupyter-widgets/base",
      "model_module_version": "1.2.0",
      "model_name": "LayoutModel",
      "state": {
       "margin": "2px 20px 0 0",
       "width": "auto"
      }
     },
     "85d5ff5ffafd4172af153be51ae0b3f2": {
      "model_module": "@jupyter-widgets/base",
      "model_module_version": "1.2.0",
      "model_name": "LayoutModel",
      "state": {
       "width": "auto"
      }
     },
     "85e1241c066b4cd98a2c6e8381f31f94": {
      "model_module": "@jupyter-widgets/base",
      "model_module_version": "1.2.0",
      "model_name": "LayoutModel",
      "state": {}
     },
     "8626b3088d6447bda2c25b5788b11815": {
      "model_module": "@jupyter-widgets/base",
      "model_module_version": "1.2.0",
      "model_name": "LayoutModel",
      "state": {
       "margin": "2px 20px 0 0"
      }
     },
     "863bb335a3744d8882bfd906bd53b4a4": {
      "model_module": "@jupyter-widgets/controls",
      "model_module_version": "1.5.0",
      "model_name": "ButtonStyleModel",
      "state": {}
     },
     "863bbf575549404fab36280d2fb429e8": {
      "model_module": "@jupyter-widgets/controls",
      "model_module_version": "1.5.0",
      "model_name": "HTMLModel",
      "state": {
       "layout": "IPY_MODEL_38635ccb4e3749dfa29842ed8b8fe038",
       "style": "IPY_MODEL_cb78992790ec425698b0a39820f9041c",
       "value": "<h3>Select Device to Control</h3><p>Type the name of the device you wish to controle. Example: <code>flow_1</code></p>"
      }
     },
     "86aa519a8bd44ba59bd6f1bbaaa34d6b": {
      "model_module": "@jupyter-widgets/controls",
      "model_module_version": "1.5.0",
      "model_name": "HTMLModel",
      "state": {
       "layout": "IPY_MODEL_bac884c245e94a0fa1401c4b74508116",
       "style": "IPY_MODEL_9a83880bf89d4557a736b69ac5090981",
       "value": "<h3>Select Device to Control</h3><p>Type the name of the device you wish to controle. Example: <code>flow_1</code></p>"
      }
     },
     "86b6b10d99ee458780eeb03fc24c47b9": {
      "model_module": "@jupyter-widgets/controls",
      "model_module_version": "1.5.0",
      "model_name": "ButtonStyleModel",
      "state": {}
     },
     "86cc63c3c96e45e28d0cc94635c001b3": {
      "model_module": "@jupyter-widgets/controls",
      "model_module_version": "1.5.0",
      "model_name": "ButtonModel",
      "state": {
       "button_style": "warning",
       "description": "Change Status",
       "layout": "IPY_MODEL_62be5ecf99404773bd12aa3ceab6fc4b",
       "style": "IPY_MODEL_14c21ba622a045c09227cae9a13248bc"
      }
     },
     "8722aec354984bf2827c3cb6c8bef810": {
      "model_module": "@jupyter-widgets/controls",
      "model_module_version": "1.5.0",
      "model_name": "VBoxModel",
      "state": {
       "children": [
        "IPY_MODEL_0ed3935f54194ef1a9e9e9508e34bb98",
        "IPY_MODEL_685dc56acff64f2789750bac967e71db"
       ],
       "layout": "IPY_MODEL_6352c04f21294b1e95eec3577b887eee"
      }
     },
     "8752a4dd696549bc99642834965c525f": {
      "model_module": "@jupyter-widgets/controls",
      "model_module_version": "1.5.0",
      "model_name": "ButtonModel",
      "state": {
       "button_style": "info",
       "icon": "refresh",
       "layout": "IPY_MODEL_60b47548ed7b4ca480852c2220b8a32e",
       "style": "IPY_MODEL_596bfbdee9634e2aa67918833a8cb7f7"
      }
     },
     "87672a59806f403ea150c7ec8312684c": {
      "model_module": "@jupyter-widgets/controls",
      "model_module_version": "1.5.0",
      "model_name": "ButtonStyleModel",
      "state": {}
     },
     "87942e95262a4196ab9a03614efb995e": {
      "model_module": "@jupyter-widgets/base",
      "model_module_version": "1.2.0",
      "model_name": "LayoutModel",
      "state": {}
     },
     "879bf923c3e740bb80b90a129b7a4def": {
      "model_module": "@jupyter-widgets/controls",
      "model_module_version": "1.5.0",
      "model_name": "HTMLModel",
      "state": {
       "layout": "IPY_MODEL_45a423705805402d842c86d3d76e3ea9",
       "style": "IPY_MODEL_70c109fbd592422eabaab94f843d1c74",
       "value": "<h3>Select Device to Control</h3><p>Type the name of the device you wish to controle. Example: <code>flow_1</code></p>"
      }
     },
     "87c6208d90294df1bf1e3bda2a23ceb7": {
      "model_module": "@jupyter-widgets/controls",
      "model_module_version": "1.5.0",
      "model_name": "HBoxModel",
      "state": {
       "children": [
        "IPY_MODEL_c77558ad73954df7b671c9835d442f29",
        "IPY_MODEL_4a2f93afc5a04684b9edabeace177f5f"
       ],
       "layout": "IPY_MODEL_8f0417b3af32409188f473f90167c84f"
      }
     },
     "87cc498fa2ed42dca12a996cd393a3c4": {
      "model_module": "@jupyter-widgets/controls",
      "model_module_version": "1.5.0",
      "model_name": "VBoxModel",
      "state": {
       "children": [
        "IPY_MODEL_32587cfa895844e084273e9f124a7652",
        "IPY_MODEL_cf6f0a3765064551b1a7df604ce38249"
       ],
       "layout": "IPY_MODEL_caf9251af8694655b052a7960cc51fd7"
      }
     },
     "87e3112e7c2446a88af8076a60391c5a": {
      "model_module": "@jupyter-widgets/controls",
      "model_module_version": "1.5.0",
      "model_name": "ButtonModel",
      "state": {
       "button_style": "danger",
       "description": "Shutdown",
       "layout": "IPY_MODEL_11928f6f796a4b1790a8d83613467b59",
       "style": "IPY_MODEL_ddbaea0e8b0642219727fe519f10904d"
      }
     },
     "87e80a390fba4c81a263456a1dfdc3c4": {
      "model_module": "@jupyter-widgets/controls",
      "model_module_version": "1.5.0",
      "model_name": "ButtonModel",
      "state": {
       "button_style": "success",
       "description": "Select",
       "layout": "IPY_MODEL_2f9082d1614b495990129e24b135b744",
       "style": "IPY_MODEL_68271bf5054343a282543d58b971213b"
      }
     },
     "87ef08fdff104988833cb27a4f5a1990": {
      "model_module": "@jupyter-widgets/controls",
      "model_module_version": "1.5.0",
      "model_name": "DescriptionStyleModel",
      "state": {
       "description_width": ""
      }
     },
     "880ce966d1b941a587d89c60af016276": {
      "model_module": "@jupyter-widgets/base",
      "model_module_version": "1.2.0",
      "model_name": "LayoutModel",
      "state": {}
     },
     "8819f69b804a49919737ea5397ae73bf": {
      "model_module": "@jupyter-widgets/controls",
      "model_module_version": "1.5.0",
      "model_name": "ButtonStyleModel",
      "state": {}
     },
     "882528d03a684bee85f24531a0a8289e": {
      "model_module": "@jupyter-widgets/base",
      "model_module_version": "1.2.0",
      "model_name": "LayoutModel",
      "state": {}
     },
     "882fee16f5584cb48b3a5b58431124a7": {
      "model_module": "@jupyter-widgets/base",
      "model_module_version": "1.2.0",
      "model_name": "LayoutModel",
      "state": {
       "width": "750px"
      }
     },
     "8877608b49114340bcd5df3b50d91621": {
      "model_module": "@jupyter-widgets/controls",
      "model_module_version": "1.5.0",
      "model_name": "ButtonModel",
      "state": {
       "button_style": "success",
       "description": "Select",
       "layout": "IPY_MODEL_d18a198a2dd94da39a48fe17f7b4988e",
       "style": "IPY_MODEL_4863c5621e8f451587310e3d5b4bef7c"
      }
     },
     "8892033414614f3f89d2a90233a548ee": {
      "model_module": "@jupyter-widgets/controls",
      "model_module_version": "1.5.0",
      "model_name": "HBoxModel",
      "state": {
       "children": [
        "IPY_MODEL_da493a9b57084ab4afc945b5f8cbb8c5",
        "IPY_MODEL_1e05904698404cf4843f4376430495b5"
       ],
       "layout": "IPY_MODEL_9e7239e22dd840068d6279f08d41b326"
      }
     },
     "892aff5c786b4a62a18050b471f4968d": {
      "model_module": "@jupyter-widgets/base",
      "model_module_version": "1.2.0",
      "model_name": "LayoutModel",
      "state": {
       "width": "100%"
      }
     },
     "898c3e6dbe914e7494ed1b56e21c0f33": {
      "model_module": "@jupyter-widgets/base",
      "model_module_version": "1.2.0",
      "model_name": "LayoutModel",
      "state": {}
     },
     "899cca8e21e7487b9cc2feb20022077c": {
      "model_module": "@jupyter-widgets/controls",
      "model_module_version": "1.5.0",
      "model_name": "HTMLModel",
      "state": {
       "layout": "IPY_MODEL_708fa1bfc0614f7da260eeb4772ec043",
       "style": "IPY_MODEL_d4338121ac90419eb704b3c828aaa0c5",
       "value": "<h4>What do you want to do?</h4><p>You can send a new command to the device or change it's status between running, paused, and shutdown. </p> "
      }
     },
     "8a009b00584545f996ec6906a5985af7": {
      "model_module": "@jupyter-widgets/base",
      "model_module_version": "1.2.0",
      "model_name": "LayoutModel",
      "state": {
       "margin": "2px 20px 0 0"
      }
     },
     "8a6978b4f0704e889ecc1d90ef73eb08": {
      "model_module": "@jupyter-widgets/controls",
      "model_module_version": "1.5.0",
      "model_name": "HTMLModel",
      "state": {
       "layout": "IPY_MODEL_c868c2267a27467dbe5f5d21e47c6068",
       "style": "IPY_MODEL_d35133dc4ed6452aa186a8b0920a9135",
       "value": "<h3>Select Device to Control</h3><p>Type the name of the device you wish to controle. Example: <code>flow_1</code></p>"
      }
     },
     "8ac86b0a655b44a49719ae005b455ea8": {
      "model_module": "@jupyter-widgets/controls",
      "model_module_version": "1.5.0",
      "model_name": "ButtonModel",
      "state": {
       "button_style": "info",
       "icon": "refresh",
       "layout": "IPY_MODEL_b22c532ea7334604a7542857fdc7d98e",
       "style": "IPY_MODEL_58fcc307925f45d894cf09c95e591b24"
      }
     },
     "8ae39273a7e541c8a12c556a37074afd": {
      "model_module": "@jupyter-widgets/base",
      "model_module_version": "1.2.0",
      "model_name": "LayoutModel",
      "state": {
       "margin": "2px 20px 0 0"
      }
     },
     "8b00fc3f47514b139907cf7ea0c218e5": {
      "model_module": "@jupyter-widgets/base",
      "model_module_version": "1.2.0",
      "model_name": "LayoutModel",
      "state": {}
     },
     "8b465db5c3fb4531ad92d2b1ab3a7179": {
      "model_module": "@jupyter-widgets/base",
      "model_module_version": "1.2.0",
      "model_name": "LayoutModel",
      "state": {}
     },
     "8b6dbe4d74c14ba8aac6f2925135f4e1": {
      "model_module": "@jupyter-widgets/base",
      "model_module_version": "1.2.0",
      "model_name": "LayoutModel",
      "state": {
       "width": "450px"
      }
     },
     "8b8a12a63e324dcc9dca1019c459f11d": {
      "model_module": "@jupyter-widgets/controls",
      "model_module_version": "1.5.0",
      "model_name": "DescriptionStyleModel",
      "state": {
       "description_width": ""
      }
     },
     "8b9bbfe9662a4b7491bb3146bd7568e8": {
      "model_module": "@jupyter-widgets/base",
      "model_module_version": "1.2.0",
      "model_name": "LayoutModel",
      "state": {}
     },
     "8c3e2a59d9ee4e76b11e18860f9c896a": {
      "model_module": "@jupyter-widgets/base",
      "model_module_version": "1.2.0",
      "model_name": "LayoutModel",
      "state": {}
     },
     "8c45fe57d62446898d44c1ed071d60e7": {
      "model_module": "@jupyter-widgets/controls",
      "model_module_version": "1.5.0",
      "model_name": "ButtonModel",
      "state": {
       "button_style": "success",
       "description": "Send Command",
       "layout": "IPY_MODEL_78237dc41b894676b98f784add52cb52",
       "style": "IPY_MODEL_70633bf9cefc4b69b847e6a6935e03e8"
      }
     },
     "8c52dbfcf69442f4ae08469785d3089e": {
      "model_module": "@jupyter-widgets/controls",
      "model_module_version": "1.5.0",
      "model_name": "ButtonStyleModel",
      "state": {}
     },
     "8c5a54c6793a4455bdc056311b3c6911": {
      "model_module": "@jupyter-widgets/controls",
      "model_module_version": "1.5.0",
      "model_name": "DescriptionStyleModel",
      "state": {
       "description_width": ""
      }
     },
     "8c6f498c7f0247e2b4c0fb82ec535cbd": {
      "model_module": "@jupyter-widgets/controls",
      "model_module_version": "1.5.0",
      "model_name": "HTMLModel",
      "state": {
       "layout": "IPY_MODEL_ce36f903ead9487e9686a554937c5815",
       "style": "IPY_MODEL_133dbfb1a7b048e58fd0846da88e41f0",
       "value": "<h4>What do you want to do?</h4><p>You can send a new command to the device or change it's status between running, paused, and shutdown. </p> "
      }
     },
     "8c929238999c43d1aabc15c96a027a69": {
      "model_module": "@jupyter-widgets/controls",
      "model_module_version": "1.5.0",
      "model_name": "HTMLModel",
      "state": {
       "layout": "IPY_MODEL_96bc56244fb741bbb8d0bd96034a8879",
       "style": "IPY_MODEL_536d66121b694e75b3decfc2219fe74c",
       "value": "<h3>Select Device to Control</h3><p>Type the name of the device you wish to controle. Example: <code>flow_1</code></p>"
      }
     },
     "8d0296c29fed4898bb2b1847679f9c90": {
      "model_module": "@jupyter-widgets/base",
      "model_module_version": "1.2.0",
      "model_name": "LayoutModel",
      "state": {}
     },
     "8dd5ec00ffe54b96a767e0ad63ca62cd": {
      "model_module": "@jupyter-widgets/controls",
      "model_module_version": "1.5.0",
      "model_name": "ButtonModel",
      "state": {
       "button_style": "warning",
       "description": "Pause",
       "layout": "IPY_MODEL_6b9400752ff9488cbab490da6c0049aa",
       "style": "IPY_MODEL_60ab4a0ee38448fd91c4f199a9d707a6"
      }
     },
     "8e0aae390e094671b8d780e2e8ac32de": {
      "model_module": "@jupyter-widgets/base",
      "model_module_version": "1.2.0",
      "model_name": "LayoutModel",
      "state": {}
     },
     "8e0b28cc1c474368b16aef8e5d729ecc": {
      "model_module": "@jupyter-widgets/controls",
      "model_module_version": "1.5.0",
      "model_name": "HBoxModel",
      "state": {
       "children": [
        "IPY_MODEL_85aa6fbff5a64671845e79407122b7b1",
        "IPY_MODEL_0cca52a9ba0f4548a8bf3ac769c1f229",
        "IPY_MODEL_a5ec5002f2254d2c87ed016ffcd13134",
        "IPY_MODEL_e7ee6a42a22e417394e03880c4a99511"
       ],
       "layout": "IPY_MODEL_a19b5c6019de473b8723d6c7159ea091"
      }
     },
     "8e10fdcbd37a41c8bbda50280116317c": {
      "model_module": "@jupyter-widgets/controls",
      "model_module_version": "1.5.0",
      "model_name": "ButtonStyleModel",
      "state": {}
     },
     "8e1128e1deb54c2084f051516fc1885a": {
      "model_module": "@jupyter-widgets/controls",
      "model_module_version": "1.5.0",
      "model_name": "HTMLModel",
      "state": {
       "layout": "IPY_MODEL_a75e0b120e454131baba4bca27d16e6b",
       "style": "IPY_MODEL_d9ccde782813470589ac95f65a4abfab",
       "value": "<p>Type your device command below. It will be sent to </p>"
      }
     },
     "8e2b7505a61b41fb932c22dafedc685a": {
      "model_module": "@jupyter-widgets/base",
      "model_module_version": "1.2.0",
      "model_name": "LayoutModel",
      "state": {}
     },
     "8e374c50816b4eb0a148c44bb22fc6b1": {
      "model_module": "@jupyter-widgets/controls",
      "model_module_version": "1.5.0",
      "model_name": "HBoxModel",
      "state": {
       "children": [
        "IPY_MODEL_899cca8e21e7487b9cc2feb20022077c"
       ],
       "layout": "IPY_MODEL_83ab47ed8d3c4d83b271726f55c045b1"
      }
     },
     "8e4a347a458d4233b77f192ce6ca10cc": {
      "model_module": "@jupyter-widgets/controls",
      "model_module_version": "1.5.0",
      "model_name": "ButtonStyleModel",
      "state": {}
     },
     "8e51f41e3729493082f8f03b16795b85": {
      "model_module": "@jupyter-widgets/controls",
      "model_module_version": "1.5.0",
      "model_name": "HTMLModel",
      "state": {
       "layout": "IPY_MODEL_d74f9199b7764ad78578c4a0d02d46a3",
       "style": "IPY_MODEL_23a6ba5684f44ce9b803132956d208b9",
       "value": "<p>2022-06-27 04:56:13 UTC - Run Command: sayHello('alice')</p>"
      }
     },
     "8e711db8873d4b5f8d3424f6de649fe8": {
      "model_module": "@jupyter-widgets/base",
      "model_module_version": "1.2.0",
      "model_name": "LayoutModel",
      "state": {
       "width": "auto"
      }
     },
     "8e85d5f7ec034f50b0785f0c34a29dd1": {
      "model_module": "@jupyter-widgets/controls",
      "model_module_version": "1.5.0",
      "model_name": "ButtonModel",
      "state": {
       "button_style": "success",
       "description": "Draw",
       "layout": "IPY_MODEL_0693976f38b240f4a1b1b385a6ff592b",
       "style": "IPY_MODEL_e90da67b762f49fdaa30b9c0c5d16ea6"
      }
     },
     "8ebb613a50c540a8adf81e73bfc686ed": {
      "model_module": "@jupyter-widgets/controls",
      "model_module_version": "1.5.0",
      "model_name": "ButtonModel",
      "state": {
       "button_style": "warning",
       "description": "Pause",
       "layout": "IPY_MODEL_3419fe5d10e0406a876600ba98a13fbd",
       "style": "IPY_MODEL_512c807072f04afbb668a6aadeff64b7"
      }
     },
     "8eccbf9da7874136aa6d7a1aef9ed022": {
      "model_module": "@jupyter-widgets/controls",
      "model_module_version": "1.5.0",
      "model_name": "TextModel",
      "state": {
       "description": "Devices",
       "layout": "IPY_MODEL_92d0c7628fd0409399253f8254cac75d",
       "style": "IPY_MODEL_ae59f9e233dd4ac49c65ae6461bc8107",
       "value": "flow_1,pic_1"
      }
     },
     "8edefa5eb0914ecc9373667aabd109f6": {
      "model_module": "@jupyter-widgets/base",
      "model_module_version": "1.2.0",
      "model_name": "LayoutModel",
      "state": {}
     },
     "8f0417b3af32409188f473f90167c84f": {
      "model_module": "@jupyter-widgets/base",
      "model_module_version": "1.2.0",
      "model_name": "LayoutModel",
      "state": {}
     },
     "8f64fefa42844efc9f44d20ecfa43080": {
      "model_module": "@jupyter-widgets/controls",
      "model_module_version": "1.5.0",
      "model_name": "HTMLModel",
      "state": {
       "layout": "IPY_MODEL_5c8012c0862b473aa623ec501d415cd0",
       "style": "IPY_MODEL_99cfeaf7010f49a98b710849d01d696f",
       "value": "<h3>Select Device to Control</h3><p>Type the name of the device you wish to controle. Example: <code>flow_1</code></p>"
      }
     },
     "8f6a218d281d4a308e4ecad97182a346": {
      "model_module": "@jupyter-widgets/base",
      "model_module_version": "1.2.0",
      "model_name": "LayoutModel",
      "state": {}
     },
     "8fc7f9b31639452097ae811389e1e71c": {
      "model_module": "@jupyter-widgets/controls",
      "model_module_version": "1.5.0",
      "model_name": "DescriptionStyleModel",
      "state": {
       "description_width": ""
      }
     },
     "900874d1c4af4cdabd8bdb3424ef3a3c": {
      "model_module": "@jupyter-widgets/controls",
      "model_module_version": "1.5.0",
      "model_name": "ButtonStyleModel",
      "state": {}
     },
     "901f4c82c121439a926bd7fd2bb5e8db": {
      "model_module": "@jupyter-widgets/base",
      "model_module_version": "1.2.0",
      "model_name": "LayoutModel",
      "state": {}
     },
     "902d33569de74780a9eba368fe75f469": {
      "model_module": "@jupyter-widgets/controls",
      "model_module_version": "1.5.0",
      "model_name": "DescriptionStyleModel",
      "state": {
       "description_width": ""
      }
     },
     "90c9289713994801986b55e512f14372": {
      "model_module": "@jupyter-widgets/controls",
      "model_module_version": "1.5.0",
      "model_name": "ButtonStyleModel",
      "state": {}
     },
     "911d72e9f3604f4fac6b25eb2f089f0e": {
      "model_module": "@jupyter-widgets/controls",
      "model_module_version": "1.5.0",
      "model_name": "TextModel",
      "state": {
       "description": "Device",
       "layout": "IPY_MODEL_e3fe63e5ff9c4091aed25a900ebd3344",
       "style": "IPY_MODEL_6af5616ce4fe4685b9fec11638b42c5d"
      }
     },
     "913e8706861c488497b9f91fff8b5576": {
      "model_module": "@jupyter-widgets/base",
      "model_module_version": "1.2.0",
      "model_name": "LayoutModel",
      "state": {}
     },
     "914ada2cd73e4df9a059d79d291eb710": {
      "model_module": "@jupyter-widgets/controls",
      "model_module_version": "1.5.0",
      "model_name": "ButtonStyleModel",
      "state": {}
     },
     "91a0c82e2f584a36a00234d23cabf348": {
      "model_module": "@jupyter-widgets/base",
      "model_module_version": "1.2.0",
      "model_name": "LayoutModel",
      "state": {
       "width": "auto"
      }
     },
     "92213daba4964074a3ba91f79c68d64a": {
      "model_module": "@jupyter-widgets/controls",
      "model_module_version": "1.5.0",
      "model_name": "HTMLModel",
      "state": {
       "layout": "IPY_MODEL_e6cd98809931475c8c6bd2304c8dbc78",
       "style": "IPY_MODEL_ad889ccb38f2431f97360bc8482d4b39",
       "value": "<h3>flow_1</h3>"
      }
     },
     "927be231b57640aabb21016b06e15aee": {
      "model_module": "@jupyter-widgets/base",
      "model_module_version": "1.2.0",
      "model_name": "LayoutModel",
      "state": {
       "width": "auto"
      }
     },
     "928027556eda495c91d2c98d6a1b8cc2": {
      "model_module": "@jupyter-widgets/controls",
      "model_module_version": "1.5.0",
      "model_name": "DescriptionStyleModel",
      "state": {
       "description_width": ""
      }
     },
     "92d0c7628fd0409399253f8254cac75d": {
      "model_module": "@jupyter-widgets/base",
      "model_module_version": "1.2.0",
      "model_name": "LayoutModel",
      "state": {
       "width": "450px"
      }
     },
     "9300d10783a1404cb84b3c4a2be96483": {
      "model_module": "@jupyter-widgets/controls",
      "model_module_version": "1.5.0",
      "model_name": "HBoxModel",
      "state": {
       "children": [
        "IPY_MODEL_60d59f114fce45558fcd07d9206f570c",
        "IPY_MODEL_f8e74fc8559345669db4b0e4883d0854"
       ],
       "layout": "IPY_MODEL_945a4aea61a64c27834e1abab8922478"
      }
     },
     "9302126f25374a07ade5b67661a89d3c": {
      "model_module": "@jupyter-widgets/controls",
      "model_module_version": "1.5.0",
      "model_name": "TextModel",
      "state": {
       "description": "Device",
       "layout": "IPY_MODEL_ef15c14501374120977fd4d40cb0667b",
       "style": "IPY_MODEL_928027556eda495c91d2c98d6a1b8cc2",
       "value": "flow_1"
      }
     },
     "9364ed6799f14c87884bd78acbd2078c": {
      "model_module": "@jupyter-widgets/base",
      "model_module_version": "1.2.0",
      "model_name": "LayoutModel",
      "state": {
       "width": "auto"
      }
     },
     "9399cfd351cb4a64af18377d2a44f1e6": {
      "model_module": "@jupyter-widgets/controls",
      "model_module_version": "1.5.0",
      "model_name": "HBoxModel",
      "state": {
       "children": [
        "IPY_MODEL_08b4ef4a73c247edb484173fa27edc71",
        "IPY_MODEL_0940f015e2f14bd9805d38918283e3cb",
        "IPY_MODEL_6530b80fd446411f9578899c3fa829cd"
       ],
       "layout": "IPY_MODEL_8b9bbfe9662a4b7491bb3146bd7568e8"
      }
     },
     "93a7d802ee494accab4083c5d4dbe502": {
      "model_module": "@jupyter-widgets/base",
      "model_module_version": "1.2.0",
      "model_name": "LayoutModel",
      "state": {}
     },
     "93f7255686904bfc85bec87e7856d6bd": {
      "model_module": "@jupyter-widgets/controls",
      "model_module_version": "1.5.0",
      "model_name": "ButtonModel",
      "state": {
       "button_style": "success",
       "description": "Send Command",
       "layout": "IPY_MODEL_690024743c5d4889a3a459b7688797a8",
       "style": "IPY_MODEL_61c5af71c03a4683bf4d8eb57e0a29ff"
      }
     },
     "93fc5c26d521422287f0c1accb181a68": {
      "model_module": "@jupyter-widgets/controls",
      "model_module_version": "1.5.0",
      "model_name": "HTMLModel",
      "state": {
       "layout": "IPY_MODEL_a35f4bdd331b461987491fe92840dbed",
       "style": "IPY_MODEL_511f1f3c807d469186b2638692b83cef",
       "value": "<h4>What do you want to do?</h4><p>You can send a new command to the device or change it's status between running, paused, and shutdown. </p> "
      }
     },
     "94214235db0f44b18c5606ed6429e47b": {
      "model_module": "@jupyter-widgets/controls",
      "model_module_version": "1.5.0",
      "model_name": "ButtonModel",
      "state": {
       "button_style": "warning",
       "description": "Change Status",
       "layout": "IPY_MODEL_2f7914bfe3204c0fb982a68afe628139",
       "style": "IPY_MODEL_9e2ebb58595245a48180b974a0d42879"
      }
     },
     "9427e81895914fba9e3952f63cc5ecb0": {
      "model_module": "@jupyter-widgets/base",
      "model_module_version": "1.2.0",
      "model_name": "LayoutModel",
      "state": {}
     },
     "945a4aea61a64c27834e1abab8922478": {
      "model_module": "@jupyter-widgets/base",
      "model_module_version": "1.2.0",
      "model_name": "LayoutModel",
      "state": {}
     },
     "9463be50cc1c44fa85bfd0ba5c104db7": {
      "model_module": "@jupyter-widgets/base",
      "model_module_version": "1.2.0",
      "model_name": "LayoutModel",
      "state": {}
     },
     "94b6834a73a4448d8ae104a0368a3a8c": {
      "model_module": "@jupyter-widgets/controls",
      "model_module_version": "1.5.0",
      "model_name": "DescriptionStyleModel",
      "state": {
       "description_width": ""
      }
     },
     "94cfaef631dc435c94d0e9011045e916": {
      "model_module": "@jupyter-widgets/controls",
      "model_module_version": "1.5.0",
      "model_name": "HBoxModel",
      "state": {
       "children": [
        "IPY_MODEL_80ee4925cf7943c18f555a72b21bf7b0",
        "IPY_MODEL_86cc63c3c96e45e28d0cc94635c001b3"
       ],
       "layout": "IPY_MODEL_4c94db5e23f2476ab50cec19c1ea4101"
      }
     },
     "9501fac7d9d54dd3b25013b32044caa4": {
      "model_module": "@jupyter-widgets/base",
      "model_module_version": "1.2.0",
      "model_name": "LayoutModel",
      "state": {
       "width": "auto"
      }
     },
     "9534c665dc8f4ddd9dd2d3369e625e36": {
      "model_module": "@jupyter-widgets/base",
      "model_module_version": "1.2.0",
      "model_name": "LayoutModel",
      "state": {}
     },
     "954c86c8f37f4f9e87d27ecb92cb4934": {
      "model_module": "@jupyter-widgets/controls",
      "model_module_version": "1.5.0",
      "model_name": "DescriptionStyleModel",
      "state": {
       "description_width": ""
      }
     },
     "957ace2c96344f328e88cde3bd448b0e": {
      "model_module": "@jupyter-widgets/base",
      "model_module_version": "1.2.0",
      "model_name": "LayoutModel",
      "state": {}
     },
     "95ae422bfc644b2492dca1f502fedd77": {
      "model_module": "@jupyter-widgets/controls",
      "model_module_version": "1.5.0",
      "model_name": "HBoxModel",
      "state": {
       "children": [
        "IPY_MODEL_12d55c0cf519442f9dc35e1f076d74ba",
        "IPY_MODEL_08bcff720855436cb7a9c39824c809b4"
       ],
       "layout": "IPY_MODEL_85e1241c066b4cd98a2c6e8381f31f94"
      }
     },
     "95af373ccfe44c80861ea78e96164a2e": {
      "model_module": "@jupyter-widgets/controls",
      "model_module_version": "1.5.0",
      "model_name": "ButtonStyleModel",
      "state": {}
     },
     "95c08b875bb14992a85fb3bb55356735": {
      "model_module": "@jupyter-widgets/base",
      "model_module_version": "1.2.0",
      "model_name": "LayoutModel",
      "state": {}
     },
     "95c21d73cd014f9aa23380bc272f9e3c": {
      "model_module": "@jupyter-widgets/controls",
      "model_module_version": "1.5.0",
      "model_name": "ButtonModel",
      "state": {
       "button_style": "warning",
       "description": "Change Status",
       "layout": "IPY_MODEL_2588771ad0e7461b932b61d5e114bf5b",
       "style": "IPY_MODEL_b9b39a7d5ad044bca3549d55f45e4586"
      }
     },
     "9624be842a184f9f9fe39829b21b275d": {
      "model_module": "@jupyter-widgets/base",
      "model_module_version": "1.2.0",
      "model_name": "LayoutModel",
      "state": {}
     },
     "9654c2c54f7b48a4a3255d5c9662c425": {
      "model_module": "@jupyter-widgets/controls",
      "model_module_version": "1.5.0",
      "model_name": "ButtonModel",
      "state": {
       "button_style": "warning",
       "description": "Change Status",
       "layout": "IPY_MODEL_777e09f983be4765a54a53e4297f7bbc",
       "style": "IPY_MODEL_7e780df9e2924228977b083ed4db35f8"
      }
     },
     "968cb287b50a4c15a7eadf087cacee8b": {
      "model_module": "@jupyter-widgets/base",
      "model_module_version": "1.2.0",
      "model_name": "LayoutModel",
      "state": {
       "margin": "2px 20px 0 0"
      }
     },
     "96bc56244fb741bbb8d0bd96034a8879": {
      "model_module": "@jupyter-widgets/base",
      "model_module_version": "1.2.0",
      "model_name": "LayoutModel",
      "state": {}
     },
     "96e6801ca46b47ada9a3db9278d91575": {
      "model_module": "@jupyter-widgets/controls",
      "model_module_version": "1.5.0",
      "model_name": "ButtonModel",
      "state": {
       "button_style": "success",
       "description": "Get",
       "layout": "IPY_MODEL_b6115e57cea9423e90679ae23aed101d",
       "style": "IPY_MODEL_caba5194c5044cd5b1b36e9510947afe"
      }
     },
     "96f052da65a1459883892d0fe133005d": {
      "model_module": "@jupyter-widgets/base",
      "model_module_version": "1.2.0",
      "model_name": "LayoutModel",
      "state": {
       "width": "750px"
      }
     },
     "971069a894424c2da08cbb68f1cc8917": {
      "model_module": "@jupyter-widgets/controls",
      "model_module_version": "1.5.0",
      "model_name": "DescriptionStyleModel",
      "state": {
       "description_width": ""
      }
     },
     "9758b84a32c9463aa7ca37f8754e9344": {
      "model_module": "@jupyter-widgets/controls",
      "model_module_version": "1.5.0",
      "model_name": "VBoxModel",
      "state": {
       "children": [
        "IPY_MODEL_6a688a9ab50446e098b9b74374ba7998",
        "IPY_MODEL_2a8f37a956e9423abf85f95c617f0099"
       ],
       "layout": "IPY_MODEL_bebec696760e46d8a01f2df80da16cec"
      }
     },
     "9792cea3503d4634b02251d0cbd1d54f": {
      "model_module": "@jupyter-widgets/controls",
      "model_module_version": "1.5.0",
      "model_name": "ButtonStyleModel",
      "state": {}
     },
     "9898307289f3488cbaaaa6dbf97ead2e": {
      "model_module": "@jupyter-widgets/base",
      "model_module_version": "1.2.0",
      "model_name": "LayoutModel",
      "state": {}
     },
     "98ba4c0d69c6457e85c029bef61eb7fa": {
      "model_module": "@jupyter-widgets/controls",
      "model_module_version": "1.5.0",
      "model_name": "ButtonModel",
      "state": {
       "button_style": "info",
       "icon": "refresh",
       "layout": "IPY_MODEL_b29db9cd24cc4577861b4c182201affa",
       "style": "IPY_MODEL_15083b90446342a0893f90643335ca15"
      }
     },
     "98da1c0ef26647a4953aabdbe2e2d92b": {
      "model_module": "@jupyter-widgets/controls",
      "model_module_version": "1.5.0",
      "model_name": "VBoxModel",
      "state": {
       "children": [
        "IPY_MODEL_2cf59bd990154db9acaa10036d46d8e2",
        "IPY_MODEL_859a43cc4d6247f080e1fa8112d81f07"
       ],
       "layout": "IPY_MODEL_02d89562c27a4e578f9769049573c104"
      }
     },
     "990ba1a6b12d4b46a223b387fb618173": {
      "model_module": "@jupyter-widgets/controls",
      "model_module_version": "1.5.0",
      "model_name": "HTMLModel",
      "state": {
       "layout": "IPY_MODEL_709f4dd0f45344cf945c3c08cbd1d21f",
       "style": "IPY_MODEL_45f2ede18ac0474d8ebaf8d842d14579",
       "value": "<h4>What do you want to do?</h4><p>You can send a new command to the device or change it's status between running, paused, and shutdown. </p> "
      }
     },
     "991a9ecc54884692a2781da6d23f9bb1": {
      "model_module": "@jupyter-widgets/base",
      "model_module_version": "1.2.0",
      "model_name": "LayoutModel",
      "state": {
       "width": "auto"
      }
     },
     "9950a458197d4dda8de51f6d0fad969a": {
      "model_module": "@jupyter-widgets/controls",
      "model_module_version": "1.5.0",
      "model_name": "ButtonModel",
      "state": {
       "button_style": "success",
       "description": "Select",
       "layout": "IPY_MODEL_cbbb3788a6d04fc2899034d177f40f05",
       "style": "IPY_MODEL_fd557b49b3694b34a862564e0ac88857"
      }
     },
     "99aa9bf60921426e9b7ab6680ac87d02": {
      "model_module": "@jupyter-widgets/controls",
      "model_module_version": "1.5.0",
      "model_name": "HTMLModel",
      "state": {
       "layout": "IPY_MODEL_0d24c4b960dd45d980cc73989f0be7c0",
       "style": "IPY_MODEL_ce97623657514bf18f9c9b2c9521ecf9",
       "value": "<h3>Select Devices</h3><p>Type the name of the devices you wish to view.</p><p>Use a comma to seperate them and no spaces! Example: <code>flow_1,pic_1</code></p>"
      }
     },
     "99b8dcffa52b48029a67ac1df49ae034": {
      "model_module": "@jupyter-widgets/base",
      "model_module_version": "1.2.0",
      "model_name": "LayoutModel",
      "state": {}
     },
     "99cfeaf7010f49a98b710849d01d696f": {
      "model_module": "@jupyter-widgets/controls",
      "model_module_version": "1.5.0",
      "model_name": "DescriptionStyleModel",
      "state": {
       "description_width": ""
      }
     },
     "99d2b21026ea43f7b325f1f0c4f3ad2a": {
      "model_module": "@jupyter-widgets/base",
      "model_module_version": "1.2.0",
      "model_name": "LayoutModel",
      "state": {}
     },
     "99ff57a140474c1eb8e6ba0934c51965": {
      "model_module": "@jupyter-widgets/controls",
      "model_module_version": "1.5.0",
      "model_name": "ButtonModel",
      "state": {
       "button_style": "success",
       "description": "Run",
       "layout": "IPY_MODEL_2ade62a6ccc14b54b342022df4a54ff7",
       "style": "IPY_MODEL_b9849e21783b47e59182af151e45a84a"
      }
     },
     "9a00a37976e04217b2f5c553bd6de130": {
      "model_module": "@jupyter-widgets/controls",
      "model_module_version": "1.5.0",
      "model_name": "HBoxModel",
      "state": {
       "children": [
        "IPY_MODEL_f56f86ab6a7f40c29840cb3c98a3261f",
        "IPY_MODEL_3536c61504e043d58e2955282d66b82a"
       ],
       "layout": "IPY_MODEL_ab30266839c34619a8fb23ba3905aa6a"
      }
     },
     "9a7ea46e41d7426e976ac7fdf24ceedf": {
      "model_module": "@jupyter-widgets/base",
      "model_module_version": "1.2.0",
      "model_name": "LayoutModel",
      "state": {}
     },
     "9a83880bf89d4557a736b69ac5090981": {
      "model_module": "@jupyter-widgets/controls",
      "model_module_version": "1.5.0",
      "model_name": "DescriptionStyleModel",
      "state": {
       "description_width": ""
      }
     },
     "9a97dfb43b544790a353a4adcd2ca52a": {
      "model_module": "@jupyter-widgets/controls",
      "model_module_version": "1.5.0",
      "model_name": "TextModel",
      "state": {
       "description": "Command",
       "layout": "IPY_MODEL_a0cb94bc18d34ee8b322dc2ea9487d4b",
       "style": "IPY_MODEL_72f454c065a744e0916c5d96914e0f8e"
      }
     },
     "9a9e908bdb7440a9aaff8c338b03e28f": {
      "model_module": "@jupyter-widgets/controls",
      "model_module_version": "1.5.0",
      "model_name": "HBoxModel",
      "state": {
       "children": [
        "IPY_MODEL_4084a5e758404a3fb4cc589392a44a88",
        "IPY_MODEL_4b94ab833206490e9e703cd2378c3733"
       ],
       "layout": "IPY_MODEL_eac171d49e6a4206a3dd261ad339806a"
      }
     },
     "9aa874abc5284cc7821ee367b3d7421e": {
      "model_module": "@jupyter-widgets/controls",
      "model_module_version": "1.5.0",
      "model_name": "HBoxModel",
      "state": {
       "children": [
        "IPY_MODEL_572f536e76d34d07af29473d0d499505",
        "IPY_MODEL_c966b15d18ab41dea355343595932caf"
       ],
       "layout": "IPY_MODEL_674c26e375f449cebb18863800d60cd5"
      }
     },
     "9b2a2fee826d4a0cb911353211119b32": {
      "model_module": "@jupyter-widgets/controls",
      "model_module_version": "1.5.0",
      "model_name": "TextModel",
      "state": {
       "description": "Devices",
       "layout": "IPY_MODEL_2e07db646ab7497993cae99a49209338",
       "style": "IPY_MODEL_b9c97a2d88f14299b22bd1b592705beb",
       "value": "flow_1,pic_1"
      }
     },
     "9b2e868838704c4191558ceb1ce22a8b": {
      "model_module": "@jupyter-widgets/controls",
      "model_module_version": "1.5.0",
      "model_name": "DescriptionStyleModel",
      "state": {
       "description_width": ""
      }
     },
     "9b416da09dba4fa491dcfa95551c7ba5": {
      "model_module": "@jupyter-widgets/controls",
      "model_module_version": "1.5.0",
      "model_name": "DescriptionStyleModel",
      "state": {
       "description_width": ""
      }
     },
     "9b68b9f863a3450382ded9a8f7517ce9": {
      "model_module": "@jupyter-widgets/base",
      "model_module_version": "1.2.0",
      "model_name": "LayoutModel",
      "state": {}
     },
     "9b6a3c9ffb184678ae1e2fa8fc921366": {
      "model_module": "@jupyter-widgets/controls",
      "model_module_version": "1.5.0",
      "model_name": "HTMLModel",
      "state": {
       "layout": "IPY_MODEL_29b4cf1a4f7047e3af1c9e5cdc278f2f",
       "style": "IPY_MODEL_07637581c270448cbaf4f087688091d9",
       "value": "<h3>What would you like to do?</h3>"
      }
     },
     "9b8c657797024ae19aa944cf659a410e": {
      "model_module": "@jupyter-widgets/controls",
      "model_module_version": "1.5.0",
      "model_name": "HTMLModel",
      "state": {
       "layout": "IPY_MODEL_a3056cb6ca534b8a86fb7330e3fce87d",
       "style": "IPY_MODEL_3294de2c196042d7a2c46d00166ef97b",
       "value": "<h4>What do you want to do?</h4><p>You can send a new command to the device or change it's status between running, paused, and shutdown. </p> "
      }
     },
     "9bf9c36a77724034b2c33e2d655be2dd": {
      "model_module": "@jupyter-widgets/base",
      "model_module_version": "1.2.0",
      "model_name": "LayoutModel",
      "state": {
       "margin": "2px 20px 0 0"
      }
     },
     "9cdabb03cf9f4eb3887ab158eabba9e3": {
      "model_module": "@jupyter-widgets/controls",
      "model_module_version": "1.5.0",
      "model_name": "ButtonModel",
      "state": {
       "button_style": "primary",
       "description": "Send Command",
       "layout": "IPY_MODEL_83a55dd1a1844a5eb1c523baa2d628ea",
       "style": "IPY_MODEL_8599410e1210400c86e2bc8235785e42"
      }
     },
     "9cdccfaaf3944459a7792eff067c8f78": {
      "model_module": "@jupyter-widgets/controls",
      "model_module_version": "1.5.0",
      "model_name": "HBoxModel",
      "state": {
       "children": [
        "IPY_MODEL_e1cd514b7fbf4aa682476191b58230ff",
        "IPY_MODEL_9d475ee9268144dcb2ce2db515ee869f"
       ],
       "layout": "IPY_MODEL_732e91fbea644d3c9ef358b80d5ff407"
      }
     },
     "9ce06334850e477288cd446fd0def645": {
      "model_module": "@jupyter-widgets/controls",
      "model_module_version": "1.5.0",
      "model_name": "TextModel",
      "state": {
       "description": "Device",
       "layout": "IPY_MODEL_fe8990c73ba149548d6a12edfc4670ad",
       "style": "IPY_MODEL_0e1c59b6b2064425a106a4043e8b5d7e",
       "value": "flow_1"
      }
     },
     "9d399f6ae13d47a781f4cd36f913fbf3": {
      "model_module": "@jupyter-widgets/base",
      "model_module_version": "1.2.0",
      "model_name": "LayoutModel",
      "state": {}
     },
     "9d475ee9268144dcb2ce2db515ee869f": {
      "model_module": "@jupyter-widgets/controls",
      "model_module_version": "1.5.0",
      "model_name": "ButtonModel",
      "state": {
       "button_style": "warning",
       "description": "Change Status",
       "layout": "IPY_MODEL_467d098d24c5414186c0c6057c284a8c",
       "style": "IPY_MODEL_f732148e78344ddd9ae9820f54a4ad9a"
      }
     },
     "9d73fb11c9f24268adb6af9334c7f4a9": {
      "model_module": "@jupyter-widgets/base",
      "model_module_version": "1.2.0",
      "model_name": "LayoutModel",
      "state": {
       "width": "auto"
      }
     },
     "9d93556753c44666b96da801d717dd8c": {
      "model_module": "@jupyter-widgets/controls",
      "model_module_version": "1.5.0",
      "model_name": "DescriptionStyleModel",
      "state": {
       "description_width": ""
      }
     },
     "9d9a1d2b07ce4a2bb022cc8b3a3f99e1": {
      "model_module": "@jupyter-widgets/controls",
      "model_module_version": "1.5.0",
      "model_name": "DescriptionStyleModel",
      "state": {
       "description_width": ""
      }
     },
     "9dbcebc4faa4429795387871d3165f0c": {
      "model_module": "@jupyter-widgets/controls",
      "model_module_version": "1.5.0",
      "model_name": "ButtonModel",
      "state": {
       "button_style": "info",
       "icon": "refresh",
       "layout": "IPY_MODEL_be0161cdcb374fa8b3ec570b73616274",
       "style": "IPY_MODEL_2f38cc191bee41f3ade07b390d30f8b7"
      }
     },
     "9dc480dccb1a4b12b1ca744e7797d757": {
      "model_module": "@jupyter-widgets/base",
      "model_module_version": "1.2.0",
      "model_name": "LayoutModel",
      "state": {
       "margin": "2px 40px 0 0",
       "width": "auto"
      }
     },
     "9e2ebb58595245a48180b974a0d42879": {
      "model_module": "@jupyter-widgets/controls",
      "model_module_version": "1.5.0",
      "model_name": "ButtonStyleModel",
      "state": {}
     },
     "9e57dd4c76e24054bea7ee24ede572ec": {
      "model_module": "@jupyter-widgets/base",
      "model_module_version": "1.2.0",
      "model_name": "LayoutModel",
      "state": {}
     },
     "9e7239e22dd840068d6279f08d41b326": {
      "model_module": "@jupyter-widgets/base",
      "model_module_version": "1.2.0",
      "model_name": "LayoutModel",
      "state": {}
     },
     "9e789d6152434bf29d229ed953518949": {
      "model_module": "@jupyter-widgets/base",
      "model_module_version": "1.2.0",
      "model_name": "LayoutModel",
      "state": {
       "margin": "2px 50px 0 0",
       "width": "auto"
      }
     },
     "9e948d9289b34ceb819a96ad7ac39ad9": {
      "model_module": "@jupyter-widgets/controls",
      "model_module_version": "1.5.0",
      "model_name": "ButtonModel",
      "state": {
       "button_style": "warning",
       "description": "Change Status",
       "layout": "IPY_MODEL_85c4e5a85829453495f8cd2e233e5f55",
       "style": "IPY_MODEL_befcd0b0ac0246aa804afb22091ebb2f"
      }
     },
     "9ee5095dd78647ac8a74f63725d290df": {
      "model_module": "@jupyter-widgets/controls",
      "model_module_version": "1.5.0",
      "model_name": "TextModel",
      "state": {
       "description": "Device",
       "layout": "IPY_MODEL_a2c6afdbed47485184b8122c8c86b80e",
       "style": "IPY_MODEL_2545ba1b931240d4991aec984dd0ba5e"
      }
     },
     "9f18cd85d4cb4cafaecd071507172210": {
      "model_module": "@jupyter-widgets/base",
      "model_module_version": "1.2.0",
      "model_name": "LayoutModel",
      "state": {}
     },
     "9f4820655942430d8ab8cc2fc01aa12d": {
      "model_module": "@jupyter-widgets/controls",
      "model_module_version": "1.5.0",
      "model_name": "HTMLModel",
      "state": {
       "layout": "IPY_MODEL_8b00fc3f47514b139907cf7ea0c218e5",
       "style": "IPY_MODEL_19615d0005334b71b6e95e964aa12ba4",
       "value": "<h3>Select Device to Control</h3><p>Type the name of the device you wish to controle. Example: <code>flow_1</code></p>"
      }
     },
     "9f4b846b0e9d4ff099d177ffcd6fb1c2": {
      "model_module": "@jupyter-widgets/base",
      "model_module_version": "1.2.0",
      "model_name": "LayoutModel",
      "state": {}
     },
     "9f5d9fed76f842deb6bce493d79d3d4a": {
      "model_module": "@jupyter-widgets/controls",
      "model_module_version": "1.5.0",
      "model_name": "HBoxModel",
      "state": {
       "children": [
        "IPY_MODEL_5322129d59ed4e00a08c1767c39966ca",
        "IPY_MODEL_0e16ac396c7545b487a966bc4f2c2c89"
       ],
       "layout": "IPY_MODEL_9e57dd4c76e24054bea7ee24ede572ec"
      }
     },
     "a01420218dff4af6a17eda896cacfe97": {
      "model_module": "@jupyter-widgets/controls",
      "model_module_version": "1.5.0",
      "model_name": "DescriptionStyleModel",
      "state": {
       "description_width": ""
      }
     },
     "a04d49c513d64e3488afced29bc33fd5": {
      "model_module": "@jupyter-widgets/base",
      "model_module_version": "1.2.0",
      "model_name": "LayoutModel",
      "state": {}
     },
     "a09f734dd114451383b4926d6c2e3929": {
      "model_module": "@jupyter-widgets/controls",
      "model_module_version": "1.5.0",
      "model_name": "HTMLModel",
      "state": {
       "layout": "IPY_MODEL_ec24994be0e3467ab6e3f113856e1de4",
       "style": "IPY_MODEL_69a746e6d5d0426c95d64a1f3ba12cd1",
       "value": "<h4>What do you want to do?</h4><p>You can send a new command to the device or change it's status between running, paused, and shutdown. </p> "
      }
     },
     "a0b4cbfa29e940f684d1aa7ce4a110db": {
      "model_module": "@jupyter-widgets/controls",
      "model_module_version": "1.5.0",
      "model_name": "HBoxModel",
      "state": {
       "children": [
        "IPY_MODEL_840c99f51a0a4647ac341ceb7ee85504",
        "IPY_MODEL_4db2a8f258bb4b38931f7416cd8588b8"
       ],
       "layout": "IPY_MODEL_d6d9c2a10bcb4b4989970d8826adc9db"
      }
     },
     "a0cb94bc18d34ee8b322dc2ea9487d4b": {
      "model_module": "@jupyter-widgets/base",
      "model_module_version": "1.2.0",
      "model_name": "LayoutModel",
      "state": {
       "width": "600px"
      }
     },
     "a0fea6a74fe2483690209798dbd8af38": {
      "model_module": "@jupyter-widgets/controls",
      "model_module_version": "1.5.0",
      "model_name": "ButtonModel",
      "state": {
       "button_style": "success",
       "description": "Select",
       "layout": "IPY_MODEL_46ca8cb0136a4fd89404c488dc70798f",
       "style": "IPY_MODEL_77a4f081f0ef408a93307be1c0ea951f"
      }
     },
     "a100026b856d41238a74d2ba38628eb5": {
      "model_module": "@jupyter-widgets/controls",
      "model_module_version": "1.5.0",
      "model_name": "ButtonModel",
      "state": {
       "button_style": "primary",
       "description": "Send Command",
       "layout": "IPY_MODEL_dc0dab0d977c4f67925fa14a1c5c8f0e",
       "style": "IPY_MODEL_b6af40a3e87e4b4d8bc100984f4bc097"
      }
     },
     "a11b7ff424c5451f8338a5907a272a31": {
      "model_module": "@jupyter-widgets/controls",
      "model_module_version": "1.5.0",
      "model_name": "HBoxModel",
      "state": {
       "children": [
        "IPY_MODEL_d02138d68a2044c2a53a4633d461021d",
        "IPY_MODEL_2d05a93223384177837737203fcf822f"
       ],
       "layout": "IPY_MODEL_47d39ac2acb94b6297941a52cfe47c90"
      }
     },
     "a13e584ad21540059664648548a290f5": {
      "model_module": "@jupyter-widgets/base",
      "model_module_version": "1.2.0",
      "model_name": "LayoutModel",
      "state": {}
     },
     "a15932d979fc441b84cd8bbe704eadc4": {
      "model_module": "@jupyter-widgets/base",
      "model_module_version": "1.2.0",
      "model_name": "LayoutModel",
      "state": {
       "width": "auto"
      }
     },
     "a161e8f552c94a8a9705f19ece47aaed": {
      "model_module": "@jupyter-widgets/base",
      "model_module_version": "1.2.0",
      "model_name": "LayoutModel",
      "state": {}
     },
     "a16aeb948e7a49ba86d6ed6fed9cd028": {
      "model_module": "@jupyter-widgets/base",
      "model_module_version": "1.2.0",
      "model_name": "LayoutModel",
      "state": {
       "margin": "2px 20px 0 0",
       "width": "auto"
      }
     },
     "a175a57c8f3f42d691ea505455eadf6d": {
      "model_module": "@jupyter-widgets/controls",
      "model_module_version": "1.5.0",
      "model_name": "ButtonModel",
      "state": {
       "button_style": "info",
       "icon": "refresh",
       "layout": "IPY_MODEL_2075c59aab894e0f9f13a1275d6be431",
       "style": "IPY_MODEL_395e5cd5a4b84d14b88f9461bdfe786a"
      }
     },
     "a190478586d24d55a08a4ece247b5397": {
      "model_module": "@jupyter-widgets/controls",
      "model_module_version": "1.5.0",
      "model_name": "ButtonStyleModel",
      "state": {}
     },
     "a19b5c6019de473b8723d6c7159ea091": {
      "model_module": "@jupyter-widgets/base",
      "model_module_version": "1.2.0",
      "model_name": "LayoutModel",
      "state": {}
     },
     "a19e9e35ddf544258733c2500eb2998c": {
      "model_module": "@jupyter-widgets/base",
      "model_module_version": "1.2.0",
      "model_name": "LayoutModel",
      "state": {}
     },
     "a1ef60fa9671475e8e53d11c2eb90139": {
      "model_module": "@jupyter-widgets/controls",
      "model_module_version": "1.5.0",
      "model_name": "TextModel",
      "state": {
       "description": "Command",
       "layout": "IPY_MODEL_188c6414b41d4c1e941af62daacbad74",
       "style": "IPY_MODEL_1e03dc564a6c47d8a46e86a5f3b2b990"
      }
     },
     "a22ffc3d88854cf0b515b08ae7065549": {
      "model_module": "@jupyter-widgets/base",
      "model_module_version": "1.2.0",
      "model_name": "LayoutModel",
      "state": {}
     },
     "a261cb8dd65045aca18058e830e48b21": {
      "model_module": "@jupyter-widgets/controls",
      "model_module_version": "1.5.0",
      "model_name": "HBoxModel",
      "state": {
       "children": [
        "IPY_MODEL_7cc428a2e29a476eaf644c9df8bcd4da",
        "IPY_MODEL_4fd9061477674b58bc64d3b026b15fe6"
       ],
       "layout": "IPY_MODEL_ca43cc46f0a542729ee72043a2289001"
      }
     },
     "a28d9051ef5e4698a731d386b6089434": {
      "model_module": "@jupyter-widgets/controls",
      "model_module_version": "1.5.0",
      "model_name": "HBoxModel",
      "state": {
       "children": [
        "IPY_MODEL_7121e9909b174a05b86a2ad2d90ea0ef",
        "IPY_MODEL_6859be4f89ad4a3281172ef2eb9986d5"
       ],
       "layout": "IPY_MODEL_6417e90cfaf74aaaa52fcb6ff9f8ec9b"
      }
     },
     "a29d01a683f84f9bbbe8e3e16c4f6258": {
      "model_module": "@jupyter-widgets/base",
      "model_module_version": "1.2.0",
      "model_name": "LayoutModel",
      "state": {}
     },
     "a2ab7e3543bd424f8ff1e1ec72ff4453": {
      "model_module": "@jupyter-widgets/base",
      "model_module_version": "1.2.0",
      "model_name": "LayoutModel",
      "state": {
       "margin": "2px 20px 0 0"
      }
     },
     "a2c5b243d2e741699b7682353c794ed2": {
      "model_module": "@jupyter-widgets/controls",
      "model_module_version": "1.5.0",
      "model_name": "DescriptionStyleModel",
      "state": {
       "description_width": ""
      }
     },
     "a2c6afdbed47485184b8122c8c86b80e": {
      "model_module": "@jupyter-widgets/base",
      "model_module_version": "1.2.0",
      "model_name": "LayoutModel",
      "state": {}
     },
     "a3056cb6ca534b8a86fb7330e3fce87d": {
      "model_module": "@jupyter-widgets/base",
      "model_module_version": "1.2.0",
      "model_name": "LayoutModel",
      "state": {}
     },
     "a33427ed436945eda465fc0f469b3784": {
      "model_module": "@jupyter-widgets/controls",
      "model_module_version": "1.5.0",
      "model_name": "DescriptionStyleModel",
      "state": {
       "description_width": ""
      }
     },
     "a3348dbb341b4d42aba4c4dee2506e7a": {
      "model_module": "@jupyter-widgets/base",
      "model_module_version": "1.2.0",
      "model_name": "LayoutModel",
      "state": {}
     },
     "a35f4bdd331b461987491fe92840dbed": {
      "model_module": "@jupyter-widgets/base",
      "model_module_version": "1.2.0",
      "model_name": "LayoutModel",
      "state": {}
     },
     "a36299434c6f4c7189741af51cb0a9dd": {
      "model_module": "@jupyter-widgets/controls",
      "model_module_version": "1.5.0",
      "model_name": "TextModel",
      "state": {
       "description": "Command",
       "layout": "IPY_MODEL_892aff5c786b4a62a18050b471f4968d",
       "style": "IPY_MODEL_5339617efb564f3492d02229a8a25171"
      }
     },
     "a38577a00285465386ec95f135d24aef": {
      "model_module": "@jupyter-widgets/base",
      "model_module_version": "1.2.0",
      "model_name": "LayoutModel",
      "state": {}
     },
     "a3a15d4f265649d097341ec6fd8cd8d0": {
      "model_module": "@jupyter-widgets/controls",
      "model_module_version": "1.5.0",
      "model_name": "HBoxModel",
      "state": {
       "children": [
        "IPY_MODEL_3bb6e4ef5fce4f179025f9b02238eae1",
        "IPY_MODEL_21057e20b3594d2a96db999cefc9412a"
       ],
       "layout": "IPY_MODEL_6d2b2ecb7e8449cc90d8ec7a362b4c5f"
      }
     },
     "a43695e63a9541c4bc6888e5420dd8b9": {
      "model_module": "@jupyter-widgets/controls",
      "model_module_version": "1.5.0",
      "model_name": "ButtonModel",
      "state": {
       "button_style": "success",
       "description": "Select",
       "layout": "IPY_MODEL_b5f5eaba524e44199befb69777fd3324",
       "style": "IPY_MODEL_ac6b6cd897ef4abba192e8a849bede34"
      }
     },
     "a44a4580307a4c5292eccdc9dc468447": {
      "model_module": "@jupyter-widgets/base",
      "model_module_version": "1.2.0",
      "model_name": "LayoutModel",
      "state": {
       "margin": "2px 20px 0 0"
      }
     },
     "a47495d30ad94126a46c1fa9cd5556f8": {
      "model_module": "@jupyter-widgets/controls",
      "model_module_version": "1.5.0",
      "model_name": "TextModel",
      "state": {
       "description": "Device",
       "layout": "IPY_MODEL_ddac5fe3296c434bb17673d2018072c9",
       "style": "IPY_MODEL_0823126112d249788ace7d0162307ab0",
       "value": "flow_1"
      }
     },
     "a4b31ecd2a2a4e9998dccf68c41d9fd9": {
      "model_module": "@jupyter-widgets/controls",
      "model_module_version": "1.5.0",
      "model_name": "VBoxModel",
      "state": {
       "children": [
        "IPY_MODEL_ce690e4de04f4d66b422132bdd006348",
        "IPY_MODEL_bc381d3a2fda41deb9d279babcfa0341"
       ],
       "layout": "IPY_MODEL_b3db99d4a84d4d24bae05350b43ffbc5"
      }
     },
     "a4b904149cf343b7bf433b667ee620c9": {
      "model_module": "@jupyter-widgets/base",
      "model_module_version": "1.2.0",
      "model_name": "LayoutModel",
      "state": {}
     },
     "a4d648b487644a13b6e6d86dc8a24519": {
      "model_module": "@jupyter-widgets/base",
      "model_module_version": "1.2.0",
      "model_name": "LayoutModel",
      "state": {
       "width": "auto"
      }
     },
     "a4ef2b74499a4d2f9e4dfcc2072dbc28": {
      "model_module": "@jupyter-widgets/base",
      "model_module_version": "1.2.0",
      "model_name": "LayoutModel",
      "state": {
       "width": "auto"
      }
     },
     "a50fdd4482764f1d89e4f25dd00e5b3b": {
      "model_module": "@jupyter-widgets/controls",
      "model_module_version": "1.5.0",
      "model_name": "TextModel",
      "state": {
       "description": "Devices",
       "layout": "IPY_MODEL_1ae490374ab440e8b6e36a5e1eb78a02",
       "style": "IPY_MODEL_c57403ef676e4f95a7a6d6ec67e3123b",
       "value": "flow_1,pic_1"
      }
     },
     "a51d3943b9984a52a12096f36379fa16": {
      "model_module": "@jupyter-widgets/controls",
      "model_module_version": "1.5.0",
      "model_name": "ButtonModel",
      "state": {
       "button_style": "info",
       "icon": "refresh",
       "layout": "IPY_MODEL_0e2ab159eabb4d47905b7526fe004296",
       "style": "IPY_MODEL_f0feba16fd3149d0ade19dad1e124c72"
      }
     },
     "a52b58c9af3c4a7a8de89c949316120f": {
      "model_module": "@jupyter-widgets/base",
      "model_module_version": "1.2.0",
      "model_name": "LayoutModel",
      "state": {}
     },
     "a531b209592d4f62b2dd4bafb1aa36de": {
      "model_module": "@jupyter-widgets/controls",
      "model_module_version": "1.5.0",
      "model_name": "ButtonModel",
      "state": {
       "button_style": "success",
       "description": "Get",
       "layout": "IPY_MODEL_af3669dc24eb4111b30e76d1380a4a7d",
       "style": "IPY_MODEL_900874d1c4af4cdabd8bdb3424ef3a3c"
      }
     },
     "a56b8d0d246848fdb6759fc6cfa6f3ba": {
      "model_module": "@jupyter-widgets/controls",
      "model_module_version": "1.5.0",
      "model_name": "DescriptionStyleModel",
      "state": {
       "description_width": ""
      }
     },
     "a5ec5002f2254d2c87ed016ffcd13134": {
      "model_module": "@jupyter-widgets/controls",
      "model_module_version": "1.5.0",
      "model_name": "ButtonModel",
      "state": {
       "button_style": "danger",
       "description": "Shutdown",
       "layout": "IPY_MODEL_833b9f0167fd4bf7ae3e4a55b5a50129",
       "style": "IPY_MODEL_cba6473ceb254cb39b57327dc6cfae6d"
      }
     },
     "a5f4f04093c54f079d8b1792b1c904b6": {
      "model_module": "@jupyter-widgets/controls",
      "model_module_version": "1.5.0",
      "model_name": "VBoxModel",
      "state": {
       "children": [
        "IPY_MODEL_cb2f03666fd64e6d8b81189c7b19a0ff",
        "IPY_MODEL_2027992d7b3248c59bc878242bafe49c"
       ],
       "layout": "IPY_MODEL_5271229835a34d09bc75bf138279b04c"
      }
     },
     "a6a59042e9d24b41af04979a9f44fd13": {
      "model_module": "@jupyter-widgets/controls",
      "model_module_version": "1.5.0",
      "model_name": "HBoxModel",
      "state": {
       "children": [
        "IPY_MODEL_ad4bef3d88f84898a40b38c9036dac29",
        "IPY_MODEL_35a8134374ac4aab9d2231fe32bac40d"
       ],
       "layout": "IPY_MODEL_9898307289f3488cbaaaa6dbf97ead2e"
      }
     },
     "a6af0c2e3b5e4139851db5b27fb2a70a": {
      "model_module": "@jupyter-widgets/controls",
      "model_module_version": "1.5.0",
      "model_name": "ButtonModel",
      "state": {
       "button_style": "success",
       "description": "Send Command",
       "layout": "IPY_MODEL_95c08b875bb14992a85fb3bb55356735",
       "style": "IPY_MODEL_f682702304f14029a7467cdd725ecbe7"
      }
     },
     "a6f263b6bee2404e8023d87774f0f108": {
      "model_module": "@jupyter-widgets/base",
      "model_module_version": "1.2.0",
      "model_name": "LayoutModel",
      "state": {}
     },
     "a70682ecc90944e5b2166d7f114800bd": {
      "model_module": "@jupyter-widgets/base",
      "model_module_version": "1.2.0",
      "model_name": "LayoutModel",
      "state": {}
     },
     "a713da44729f40ceabac308b7dc84284": {
      "model_module": "@jupyter-widgets/controls",
      "model_module_version": "1.5.0",
      "model_name": "DescriptionStyleModel",
      "state": {
       "description_width": ""
      }
     },
     "a721c1e4b5e54b58940a294fff5cac69": {
      "model_module": "@jupyter-widgets/base",
      "model_module_version": "1.2.0",
      "model_name": "LayoutModel",
      "state": {
       "width": "auto"
      }
     },
     "a75e0b120e454131baba4bca27d16e6b": {
      "model_module": "@jupyter-widgets/base",
      "model_module_version": "1.2.0",
      "model_name": "LayoutModel",
      "state": {}
     },
     "a76e4375f8c6453b97064e569970867c": {
      "model_module": "@jupyter-widgets/controls",
      "model_module_version": "1.5.0",
      "model_name": "DescriptionStyleModel",
      "state": {
       "description_width": ""
      }
     },
     "a7c3269d47c94dff8efccca6ba4a00cb": {
      "model_module": "@jupyter-widgets/base",
      "model_module_version": "1.2.0",
      "model_name": "LayoutModel",
      "state": {
       "margin": "2px 20px 0 0"
      }
     },
     "a8058a4896b14c0a92a7c00418e97168": {
      "model_module": "@jupyter-widgets/base",
      "model_module_version": "1.2.0",
      "model_name": "LayoutModel",
      "state": {
       "margin": "2px 20px 0 0"
      }
     },
     "a82efc8e85db4a13b18f5c6df12d556a": {
      "model_module": "@jupyter-widgets/controls",
      "model_module_version": "1.5.0",
      "model_name": "HBoxModel",
      "state": {
       "children": [
        "IPY_MODEL_3787aa141fea4906b0297aba22315493",
        "IPY_MODEL_0f5716dd2d544afaa5285b6580c55793"
       ],
       "layout": "IPY_MODEL_eabcb6d211144688a668a3eab7c0da15"
      }
     },
     "a83643d721994125b227a2c7c66f5113": {
      "model_module": "@jupyter-widgets/base",
      "model_module_version": "1.2.0",
      "model_name": "LayoutModel",
      "state": {
       "width": "auto"
      }
     },
     "a847bdfb021642aa9a59de6a197b6493": {
      "model_module": "@jupyter-widgets/base",
      "model_module_version": "1.2.0",
      "model_name": "LayoutModel",
      "state": {}
     },
     "a8484aad605c41329314cbffa489d311": {
      "model_module": "@jupyter-widgets/controls",
      "model_module_version": "1.5.0",
      "model_name": "ButtonStyleModel",
      "state": {}
     },
     "a898388a8d814c2d89b2b5a53fd5504c": {
      "model_module": "@jupyter-widgets/controls",
      "model_module_version": "1.5.0",
      "model_name": "ButtonStyleModel",
      "state": {}
     },
     "a8ab3ebf7ed74342a593c83d95eb74a9": {
      "model_module": "@jupyter-widgets/controls",
      "model_module_version": "1.5.0",
      "model_name": "ButtonStyleModel",
      "state": {}
     },
     "a8d679aa1c514e15b071f7ed783a39db": {
      "model_module": "@jupyter-widgets/base",
      "model_module_version": "1.2.0",
      "model_name": "LayoutModel",
      "state": {
       "width": "auto"
      }
     },
     "a8e1e49296244891a5a3553484c128f1": {
      "model_module": "@jupyter-widgets/base",
      "model_module_version": "1.2.0",
      "model_name": "LayoutModel",
      "state": {}
     },
     "a92f67d2376245c6b11b74b023b56850": {
      "model_module": "@jupyter-widgets/controls",
      "model_module_version": "1.5.0",
      "model_name": "DescriptionStyleModel",
      "state": {
       "description_width": ""
      }
     },
     "a9557a7571eb40488e4359a2fde41bc8": {
      "model_module": "@jupyter-widgets/controls",
      "model_module_version": "1.5.0",
      "model_name": "DescriptionStyleModel",
      "state": {
       "description_width": ""
      }
     },
     "a968d2bdcabb477696e32463879b0d5f": {
      "model_module": "@jupyter-widgets/controls",
      "model_module_version": "1.5.0",
      "model_name": "DescriptionStyleModel",
      "state": {
       "description_width": ""
      }
     },
     "a9732e0c2d4941e4bfcde254515db3ab": {
      "model_module": "@jupyter-widgets/controls",
      "model_module_version": "1.5.0",
      "model_name": "ButtonModel",
      "state": {
       "button_style": "warning",
       "description": "Change Status",
       "layout": "IPY_MODEL_c7b26291fa8740c1988ed0a0d0489bb5",
       "style": "IPY_MODEL_eb9dbfa154b74e109b84c09754151bfa"
      }
     },
     "a9901e8d6a494f98b28b02b9ea0a8145": {
      "model_module": "@jupyter-widgets/controls",
      "model_module_version": "1.5.0",
      "model_name": "ButtonModel",
      "state": {
       "button_style": "success",
       "description": "Send Command",
       "layout": "IPY_MODEL_4db5c7ce4cb048ec9a9ea58946d538c6",
       "style": "IPY_MODEL_ff2d238a101a46a98a696f96d4b4e963"
      }
     },
     "a9b50e72ccdf4730a5220e010b25df30": {
      "model_module": "@jupyter-widgets/controls",
      "model_module_version": "1.5.0",
      "model_name": "HBoxModel",
      "state": {
       "children": [
        "IPY_MODEL_d6b1e79d215647e2b8d3973037509ad3",
        "IPY_MODEL_87e80a390fba4c81a263456a1dfdc3c4"
       ],
       "layout": "IPY_MODEL_d88b7046890f43cb93ee24a08786155d"
      }
     },
     "a9c2869338c54383b75e204d42424226": {
      "model_module": "@jupyter-widgets/base",
      "model_module_version": "1.2.0",
      "model_name": "LayoutModel",
      "state": {}
     },
     "a9d671c6c8f243c5a0a25015c78e109d": {
      "model_module": "@jupyter-widgets/base",
      "model_module_version": "1.2.0",
      "model_name": "LayoutModel",
      "state": {
       "margin": "2px 20px 0 0"
      }
     },
     "a9f2b1dbcdfa45d684ef0fddbe1bfe13": {
      "model_module": "@jupyter-widgets/base",
      "model_module_version": "1.2.0",
      "model_name": "LayoutModel",
      "state": {}
     },
     "aa3910fe634c41438756c1d58e5b52d9": {
      "model_module": "@jupyter-widgets/base",
      "model_module_version": "1.2.0",
      "model_name": "LayoutModel",
      "state": {
       "margin": "2px 20px 0 0"
      }
     },
     "aa4806921f83404194221ea03803f58d": {
      "model_module": "@jupyter-widgets/base",
      "model_module_version": "1.2.0",
      "model_name": "LayoutModel",
      "state": {}
     },
     "aa950344984e446ebb37e9f8b2109d2f": {
      "model_module": "@jupyter-widgets/controls",
      "model_module_version": "1.5.0",
      "model_name": "VBoxModel",
      "state": {
       "children": [
        "IPY_MODEL_e62b87ccd45942ddac1b36c7282f05cc",
        "IPY_MODEL_6999307112c04380ac278da1f2b84ea5"
       ],
       "layout": "IPY_MODEL_f6d3742d9dcb4026a295e2b936069ba0"
      }
     },
     "aace98b9936547d1a760a7494e71e7a7": {
      "model_module": "@jupyter-widgets/controls",
      "model_module_version": "1.5.0",
      "model_name": "ButtonStyleModel",
      "state": {}
     },
     "ab30266839c34619a8fb23ba3905aa6a": {
      "model_module": "@jupyter-widgets/base",
      "model_module_version": "1.2.0",
      "model_name": "LayoutModel",
      "state": {}
     },
     "ab46767432c54b829aafd10513015f39": {
      "model_module": "@jupyter-widgets/controls",
      "model_module_version": "1.5.0",
      "model_name": "ButtonStyleModel",
      "state": {}
     },
     "ab4b2c29df0e4d4c9eaf0e0f951aed9a": {
      "model_module": "@jupyter-widgets/base",
      "model_module_version": "1.2.0",
      "model_name": "LayoutModel",
      "state": {
       "width": "450px"
      }
     },
     "abf033646c7942b89f11572380923d6b": {
      "model_module": "@jupyter-widgets/controls",
      "model_module_version": "1.5.0",
      "model_name": "HTMLModel",
      "state": {
       "layout": "IPY_MODEL_6352f1ccfb9a40878089de021d7a836f",
       "style": "IPY_MODEL_1098ac6fd80e4f408db211ba9fe230b7",
       "value": "<h4>What do you want to do?</h4><p>You can send a new command to the device or change it's status between running, paused, and shutdown. </p> "
      }
     },
     "ac27f92d07b34b179170bfdfd6adb0c6": {
      "model_module": "@jupyter-widgets/base",
      "model_module_version": "1.2.0",
      "model_name": "LayoutModel",
      "state": {}
     },
     "ac6b6cd897ef4abba192e8a849bede34": {
      "model_module": "@jupyter-widgets/controls",
      "model_module_version": "1.5.0",
      "model_name": "ButtonStyleModel",
      "state": {}
     },
     "ac73fe794cdd4d73b76b816f4e487092": {
      "model_module": "@jupyter-widgets/controls",
      "model_module_version": "1.5.0",
      "model_name": "DescriptionStyleModel",
      "state": {
       "description_width": ""
      }
     },
     "ac7ee7a2dbd74ea095ab184bef051558": {
      "model_module": "@jupyter-widgets/controls",
      "model_module_version": "1.5.0",
      "model_name": "DescriptionStyleModel",
      "state": {
       "description_width": ""
      }
     },
     "ad447a4e02244bcb8037008ca4b4173c": {
      "model_module": "@jupyter-widgets/controls",
      "model_module_version": "1.5.0",
      "model_name": "HBoxModel",
      "state": {
       "children": [
        "IPY_MODEL_9302126f25374a07ade5b67661a89d3c",
        "IPY_MODEL_ef459abd93d849a385ccb740db02288f"
       ],
       "layout": "IPY_MODEL_a19e9e35ddf544258733c2500eb2998c"
      }
     },
     "ad4bef3d88f84898a40b38c9036dac29": {
      "model_module": "@jupyter-widgets/controls",
      "model_module_version": "1.5.0",
      "model_name": "TextModel",
      "state": {
       "description": "Device",
       "layout": "IPY_MODEL_7db4acd8effb48968d7e92f59511728d",
       "style": "IPY_MODEL_073056baeed0433b8787ea84178cce21",
       "value": "flow_1"
      }
     },
     "ad772e4febf24f24a14e103931822b19": {
      "model_module": "@jupyter-widgets/controls",
      "model_module_version": "1.5.0",
      "model_name": "HTMLModel",
      "state": {
       "layout": "IPY_MODEL_64b21f42d9b84603a9c8c334aa7f490c",
       "style": "IPY_MODEL_6ddc5edc5b244e4897f365d39ebda710",
       "value": "<p>2022-06-27 06:00:00 UTC - Running job Job(interval=1, unit=hours, do=sayHello, args=(), kwargs={'name': 'hourly,00'})</p>"
      }
     },
     "ad889ccb38f2431f97360bc8482d4b39": {
      "model_module": "@jupyter-widgets/controls",
      "model_module_version": "1.5.0",
      "model_name": "DescriptionStyleModel",
      "state": {
       "description_width": ""
      }
     },
     "ada7f2da7ac941b7866738d5bf9dbe87": {
      "model_module": "@jupyter-widgets/base",
      "model_module_version": "1.2.0",
      "model_name": "LayoutModel",
      "state": {
       "margin": "2px 20px 0 0"
      }
     },
     "ae11b95026b84ee68bc8ae990b9fd58f": {
      "model_module": "@jupyter-widgets/controls",
      "model_module_version": "1.5.0",
      "model_name": "DescriptionStyleModel",
      "state": {
       "description_width": ""
      }
     },
     "ae42c3706ca54077a387c5b6943b56db": {
      "model_module": "@jupyter-widgets/controls",
      "model_module_version": "1.5.0",
      "model_name": "DescriptionStyleModel",
      "state": {
       "description_width": ""
      }
     },
     "ae55b921666945b4aaca133801a9dcea": {
      "model_module": "@jupyter-widgets/controls",
      "model_module_version": "1.5.0",
      "model_name": "ButtonModel",
      "state": {
       "button_style": "warning",
       "description": "Change Status",
       "layout": "IPY_MODEL_afa4dc610d674600a492b8b4b886420b",
       "style": "IPY_MODEL_016b55ac6ebb44e7af43eaa7ed225c97"
      }
     },
     "ae59f9e233dd4ac49c65ae6461bc8107": {
      "model_module": "@jupyter-widgets/controls",
      "model_module_version": "1.5.0",
      "model_name": "DescriptionStyleModel",
      "state": {
       "description_width": ""
      }
     },
     "ae5c69bb44dd4abb98489e085ed5f6a5": {
      "model_module": "@jupyter-widgets/base",
      "model_module_version": "1.2.0",
      "model_name": "LayoutModel",
      "state": {}
     },
     "ae84628b81f14fc3ad9bb5df0ecee3fc": {
      "model_module": "@jupyter-widgets/controls",
      "model_module_version": "1.5.0",
      "model_name": "HBoxModel",
      "state": {
       "children": [
        "IPY_MODEL_d9f2d84da93544c0a380c2e8f4bc218b",
        "IPY_MODEL_aecc4c6d9f0b45aa80e647b2e04cc751"
       ],
       "layout": "IPY_MODEL_898c3e6dbe914e7494ed1b56e21c0f33"
      }
     },
     "aeac66f5de88408abc01fbed247175d5": {
      "model_module": "@jupyter-widgets/controls",
      "model_module_version": "1.5.0",
      "model_name": "HTMLModel",
      "state": {
       "layout": "IPY_MODEL_40433ac8ceac4a96afdff574af745b1f",
       "style": "IPY_MODEL_1077ea6ce4e1465991c7b57c19067de1",
       "value": "<p>2022-06-27 04:56:13 UTC - Run Command: sayHello('alice')</p>"
      }
     },
     "aead5fbc3e924b66aacddde4c81dffcd": {
      "model_module": "@jupyter-widgets/base",
      "model_module_version": "1.2.0",
      "model_name": "LayoutModel",
      "state": {}
     },
     "aecc4c6d9f0b45aa80e647b2e04cc751": {
      "model_module": "@jupyter-widgets/controls",
      "model_module_version": "1.5.0",
      "model_name": "ButtonModel",
      "state": {
       "button_style": "success",
       "description": "Draw",
       "layout": "IPY_MODEL_bedfa3267d634cc9bb0935fbb8ea4366",
       "style": "IPY_MODEL_36282d3ee10d4543b89f262a95d15cd4"
      }
     },
     "aedb91a3b75e4e09b74ec08d47cc1ef6": {
      "model_module": "@jupyter-widgets/controls",
      "model_module_version": "1.5.0",
      "model_name": "ButtonModel",
      "state": {
       "button_style": "info",
       "icon": "refresh",
       "layout": "IPY_MODEL_462400de640743d496eb24bd244e8c99",
       "style": "IPY_MODEL_1387cff1a08b44328edd9ca2e814346a"
      }
     },
     "aeeafd5058434952aee8e1d2ae4d96d7": {
      "model_module": "@jupyter-widgets/controls",
      "model_module_version": "1.5.0",
      "model_name": "ButtonStyleModel",
      "state": {}
     },
     "af0b7124f63c4354b7841e29f3be2bbd": {
      "model_module": "@jupyter-widgets/controls",
      "model_module_version": "1.5.0",
      "model_name": "DescriptionStyleModel",
      "state": {
       "description_width": ""
      }
     },
     "af3669dc24eb4111b30e76d1380a4a7d": {
      "model_module": "@jupyter-widgets/base",
      "model_module_version": "1.2.0",
      "model_name": "LayoutModel",
      "state": {
       "width": "auto"
      }
     },
     "af46fbba9fc84c579c3edd0e2c7d7c3a": {
      "model_module": "@jupyter-widgets/controls",
      "model_module_version": "1.5.0",
      "model_name": "HBoxModel",
      "state": {
       "children": [
        "IPY_MODEL_cb0be856af3846898acbfe5b9ce6e0d0",
        "IPY_MODEL_f288d5cbae0d42128dc41e3fc6e26608",
        "IPY_MODEL_f08cfbb10f8b424e8995d5b066f3b38b"
       ],
       "layout": "IPY_MODEL_bdacae001a464d9280c7cd8966dc471a"
      }
     },
     "af50e392148c47fea54534ecc949f415": {
      "model_module": "@jupyter-widgets/controls",
      "model_module_version": "1.5.0",
      "model_name": "HTMLModel",
      "state": {
       "layout": "IPY_MODEL_0a8f1a9f4ec74c6ea33cd0b58fbeeeb7",
       "style": "IPY_MODEL_fa91f17fd8cd432d94eb88052c2dddad",
       "value": "Job 0: Every 1 hour at 00:30:00 do sayHello(name='hourly,30') (last run: 2022-06-26 22:30:00, next run: 2022-06-26 23:30:00)"
      }
     },
     "af810b842d3b438cb872dbd514f7576e": {
      "model_module": "@jupyter-widgets/base",
      "model_module_version": "1.2.0",
      "model_name": "LayoutModel",
      "state": {}
     },
     "afa4dc610d674600a492b8b4b886420b": {
      "model_module": "@jupyter-widgets/base",
      "model_module_version": "1.2.0",
      "model_name": "LayoutModel",
      "state": {
       "margin": "2px 20px 0 0",
       "width": "auto"
      }
     },
     "afc08f01f9d44a3c8022facada1538d1": {
      "model_module": "@jupyter-widgets/base",
      "model_module_version": "1.2.0",
      "model_name": "LayoutModel",
      "state": {}
     },
     "afe25547177948739811821fbd8c08be": {
      "model_module": "@jupyter-widgets/base",
      "model_module_version": "1.2.0",
      "model_name": "LayoutModel",
      "state": {}
     },
     "b02d0c2c8ae64fe6ada0ad15c0013141": {
      "model_module": "@jupyter-widgets/controls",
      "model_module_version": "1.5.0",
      "model_name": "HBoxModel",
      "state": {
       "children": [
        "IPY_MODEL_e9e9470309424cebb253b7aa51c06c1e",
        "IPY_MODEL_ea8a79beed02413c9bcf8972b055f8f0",
        "IPY_MODEL_27b23e5c52db4c2b9cc9364770d57fc3"
       ],
       "layout": "IPY_MODEL_1a2d00053fd9467ba0787da06e9c5f27"
      }
     },
     "b0381c0b9b7a497e9cccbf3b840384e3": {
      "model_module": "@jupyter-widgets/base",
      "model_module_version": "1.2.0",
      "model_name": "LayoutModel",
      "state": {}
     },
     "b04ae2bdb11b4e6490c6e3343d3d1bec": {
      "model_module": "@jupyter-widgets/controls",
      "model_module_version": "1.5.0",
      "model_name": "HTMLModel",
      "state": {
       "layout": "IPY_MODEL_388d9f3d8bd641b6a4ad0cc0c827e1ae",
       "style": "IPY_MODEL_9b416da09dba4fa491dcfa95551c7ba5",
       "value": "<h4>What do you want to do?</h4><p>You can send a new command to the device or change it's status between running, paused, and shutdown. </p> "
      }
     },
     "b05b95e2c5664f6abb130ffe4eb69eba": {
      "model_module": "@jupyter-widgets/controls",
      "model_module_version": "1.5.0",
      "model_name": "ButtonStyleModel",
      "state": {}
     },
     "b0b6c78fc7b4479a9cce16f24456ab95": {
      "model_module": "@jupyter-widgets/controls",
      "model_module_version": "1.5.0",
      "model_name": "TextModel",
      "state": {
       "description": "Device",
       "layout": "IPY_MODEL_a3348dbb341b4d42aba4c4dee2506e7a",
       "style": "IPY_MODEL_5c0f4cc1f7ca420eae1ce4f34fa44a47",
       "value": "flow_1"
      }
     },
     "b0cf361333334e6cb73476bfc1f7df45": {
      "model_module": "@jupyter-widgets/base",
      "model_module_version": "1.2.0",
      "model_name": "LayoutModel",
      "state": {}
     },
     "b0d01aebd67e41adbce3bad115bac1f5": {
      "model_module": "@jupyter-widgets/base",
      "model_module_version": "1.2.0",
      "model_name": "LayoutModel",
      "state": {}
     },
     "b0d29b901dde4e34b6c390feadb60e58": {
      "model_module": "@jupyter-widgets/controls",
      "model_module_version": "1.5.0",
      "model_name": "ButtonStyleModel",
      "state": {}
     },
     "b10d76e7f9c142d9a63f8ba7cb0abd9b": {
      "model_module": "@jupyter-widgets/controls",
      "model_module_version": "1.5.0",
      "model_name": "DescriptionStyleModel",
      "state": {
       "description_width": ""
      }
     },
     "b14bc96281c44eb5bb37056540b85bce": {
      "model_module": "@jupyter-widgets/controls",
      "model_module_version": "1.5.0",
      "model_name": "HBoxModel",
      "state": {
       "children": [
        "IPY_MODEL_a100026b856d41238a74d2ba38628eb5",
        "IPY_MODEL_4711f2740ba44cc6bdc50496335a0438"
       ],
       "layout": "IPY_MODEL_093d41bf41544fa7b11847e982a1ddba"
      }
     },
     "b195667839034f69bc96e61daec2b245": {
      "model_module": "@jupyter-widgets/controls",
      "model_module_version": "1.5.0",
      "model_name": "HTMLModel",
      "state": {
       "layout": "IPY_MODEL_c7f7f9a78137459da5f07fbe9c18d3cc",
       "style": "IPY_MODEL_ee3a2d1900c9479da6739e00be6aab2e",
       "value": "<h3>flow_1</h3>"
      }
     },
     "b1c98f1df0764c8b87a6dab6cbe6787f": {
      "model_module": "@jupyter-widgets/controls",
      "model_module_version": "1.5.0",
      "model_name": "HBoxModel",
      "state": {
       "children": [
        "IPY_MODEL_c9a867d46aaf4fc9ad8dcd3bcb28964e",
        "IPY_MODEL_a0fea6a74fe2483690209798dbd8af38"
       ],
       "layout": "IPY_MODEL_cb4cfa4a512c4c60b11cd5d252c9f988"
      }
     },
     "b1ca3bb4cb6b4e948597ad59399ebe18": {
      "model_module": "@jupyter-widgets/base",
      "model_module_version": "1.2.0",
      "model_name": "LayoutModel",
      "state": {}
     },
     "b1cec78e00354c36977d8e3ee5c52a35": {
      "model_module": "@jupyter-widgets/controls",
      "model_module_version": "1.5.0",
      "model_name": "DescriptionStyleModel",
      "state": {
       "description_width": ""
      }
     },
     "b21e483628ea4a0eae44cfb54c86dcc0": {
      "model_module": "@jupyter-widgets/base",
      "model_module_version": "1.2.0",
      "model_name": "LayoutModel",
      "state": {}
     },
     "b22c532ea7334604a7542857fdc7d98e": {
      "model_module": "@jupyter-widgets/base",
      "model_module_version": "1.2.0",
      "model_name": "LayoutModel",
      "state": {
       "width": "auto"
      }
     },
     "b27bc90d9383403eb6d276215f1495c9": {
      "model_module": "@jupyter-widgets/controls",
      "model_module_version": "1.5.0",
      "model_name": "VBoxModel",
      "state": {
       "children": [
        "IPY_MODEL_5132566fba894deca57d80455c9d69bb",
        "IPY_MODEL_ebc90c8572ce499591ce4e8f37b5660d"
       ],
       "layout": "IPY_MODEL_b0381c0b9b7a497e9cccbf3b840384e3"
      }
     },
     "b29db9cd24cc4577861b4c182201affa": {
      "model_module": "@jupyter-widgets/base",
      "model_module_version": "1.2.0",
      "model_name": "LayoutModel",
      "state": {
       "width": "auto"
      }
     },
     "b2d4cf21a3fd4ae79307e6b68096435f": {
      "model_module": "@jupyter-widgets/controls",
      "model_module_version": "1.5.0",
      "model_name": "ButtonStyleModel",
      "state": {}
     },
     "b2ea8af1dad942b285baf952c816a914": {
      "model_module": "@jupyter-widgets/controls",
      "model_module_version": "1.5.0",
      "model_name": "TextModel",
      "state": {
       "description": "Device",
       "layout": "IPY_MODEL_414be3f41ca5444187ec6bd78f34ef12",
       "style": "IPY_MODEL_a56b8d0d246848fdb6759fc6cfa6f3ba",
       "value": "flow_1"
      }
     },
     "b30bde1c708b4ae492269151b760f9fc": {
      "model_module": "@jupyter-widgets/controls",
      "model_module_version": "1.5.0",
      "model_name": "ButtonStyleModel",
      "state": {}
     },
     "b3b039c6c0e54ca4b87e7ebc079de627": {
      "model_module": "@jupyter-widgets/controls",
      "model_module_version": "1.5.0",
      "model_name": "HTMLModel",
      "state": {
       "layout": "IPY_MODEL_d822e08252884b1dbbd36c5cd6861515",
       "style": "IPY_MODEL_791c5f33cc574de1a28a085d5c5e43e2",
       "value": "<p>2022-06-27 04:58:21 UTC - Run Command: schedule.every().hour.at(\":30\").do(sayHello, name='hourly,30')</p>"
      }
     },
     "b3d638adb8d14a15b1655aa5c1306a51": {
      "model_module": "@jupyter-widgets/base",
      "model_module_version": "1.2.0",
      "model_name": "LayoutModel",
      "state": {
       "margin": "2px 20px 0 0",
       "width": "auto"
      }
     },
     "b3db99d4a84d4d24bae05350b43ffbc5": {
      "model_module": "@jupyter-widgets/base",
      "model_module_version": "1.2.0",
      "model_name": "LayoutModel",
      "state": {}
     },
     "b408841d4ede4fad94913095b029550e": {
      "model_module": "@jupyter-widgets/controls",
      "model_module_version": "1.5.0",
      "model_name": "ButtonStyleModel",
      "state": {}
     },
     "b42b13f95e744ebd9dd4827437b4e308": {
      "model_module": "@jupyter-widgets/controls",
      "model_module_version": "1.5.0",
      "model_name": "VBoxModel",
      "state": {
       "children": [
        "IPY_MODEL_114afd39e5b0401cb5c5d1425686d769",
        "IPY_MODEL_e86b2b82e74046acac8bef5a4cd4fe79"
       ],
       "layout": "IPY_MODEL_1d463890fe6f4fd897d056ed54d170ff"
      }
     },
     "b465ba4701974a50afffb128f85d2797": {
      "model_module": "@jupyter-widgets/controls",
      "model_module_version": "1.5.0",
      "model_name": "DescriptionStyleModel",
      "state": {
       "description_width": ""
      }
     },
     "b4e0506f385745fb97dcbc9becbc040d": {
      "model_module": "@jupyter-widgets/controls",
      "model_module_version": "1.5.0",
      "model_name": "ButtonStyleModel",
      "state": {}
     },
     "b4e5cada75b24993aa7653c996590d36": {
      "model_module": "@jupyter-widgets/controls",
      "model_module_version": "1.5.0",
      "model_name": "DescriptionStyleModel",
      "state": {
       "description_width": ""
      }
     },
     "b5551c92670445b49bd8d1ce60310c72": {
      "model_module": "@jupyter-widgets/controls",
      "model_module_version": "1.5.0",
      "model_name": "ButtonStyleModel",
      "state": {}
     },
     "b5beb7bfdfc4470a96ac87f3e4f03eea": {
      "model_module": "@jupyter-widgets/base",
      "model_module_version": "1.2.0",
      "model_name": "LayoutModel",
      "state": {
       "margin": "2px 20px 0 0"
      }
     },
     "b5f5eaba524e44199befb69777fd3324": {
      "model_module": "@jupyter-widgets/base",
      "model_module_version": "1.2.0",
      "model_name": "LayoutModel",
      "state": {
       "width": "auto"
      }
     },
     "b6115e57cea9423e90679ae23aed101d": {
      "model_module": "@jupyter-widgets/base",
      "model_module_version": "1.2.0",
      "model_name": "LayoutModel",
      "state": {
       "width": "auto"
      }
     },
     "b61ae3737f9e472aa4ec602d20f8c433": {
      "model_module": "@jupyter-widgets/base",
      "model_module_version": "1.2.0",
      "model_name": "LayoutModel",
      "state": {}
     },
     "b62a82afaa6b4a33af8b2d26c5988ad3": {
      "model_module": "@jupyter-widgets/base",
      "model_module_version": "1.2.0",
      "model_name": "LayoutModel",
      "state": {}
     },
     "b6aae995bf7445f09852916a20970e14": {
      "model_module": "@jupyter-widgets/base",
      "model_module_version": "1.2.0",
      "model_name": "LayoutModel",
      "state": {}
     },
     "b6af40a3e87e4b4d8bc100984f4bc097": {
      "model_module": "@jupyter-widgets/controls",
      "model_module_version": "1.5.0",
      "model_name": "ButtonStyleModel",
      "state": {}
     },
     "b6b24a474ad3476f903ddcc77ea4a84c": {
      "model_module": "@jupyter-widgets/controls",
      "model_module_version": "1.5.0",
      "model_name": "ButtonModel",
      "state": {
       "button_style": "warning",
       "description": "Change Status",
       "layout": "IPY_MODEL_c4d79a37113c4afeaa10fb0d438e05fc",
       "style": "IPY_MODEL_caf13c55aba3452c80b2c8494b43e81d"
      }
     },
     "b6b4e15c210a4b1aabc3535f4e0f1175": {
      "model_module": "@jupyter-widgets/base",
      "model_module_version": "1.2.0",
      "model_name": "LayoutModel",
      "state": {}
     },
     "b6b7a1b5c60f416a9fa0380108600596": {
      "model_module": "@jupyter-widgets/base",
      "model_module_version": "1.2.0",
      "model_name": "LayoutModel",
      "state": {
       "width": "max"
      }
     },
     "b6d12c4709d04773be4f22c199bcee4a": {
      "model_module": "@jupyter-widgets/controls",
      "model_module_version": "1.5.0",
      "model_name": "ButtonModel",
      "state": {
       "button_style": "danger",
       "description": "Shutdown",
       "layout": "IPY_MODEL_bef92ca59ef14496b5ce59c60ddb2ecb",
       "style": "IPY_MODEL_3e79355096ab45778967772fd669fd1d"
      }
     },
     "b7443491ab91413ca139f6e2b284b582": {
      "model_module": "@jupyter-widgets/base",
      "model_module_version": "1.2.0",
      "model_name": "LayoutModel",
      "state": {}
     },
     "b777faf19db14be592d04071549d5eef": {
      "model_module": "@jupyter-widgets/base",
      "model_module_version": "1.2.0",
      "model_name": "LayoutModel",
      "state": {}
     },
     "b7cafa46b85947739d5ffb34c2c3103a": {
      "model_module": "@jupyter-widgets/controls",
      "model_module_version": "1.5.0",
      "model_name": "ButtonModel",
      "state": {
       "button_style": "success",
       "description": "Send Command",
       "layout": "IPY_MODEL_e12a803f5f154d579ec700ac3ac89500",
       "style": "IPY_MODEL_3254b82d8d044e1b9585e547cba9b7ab"
      }
     },
     "b83ca09a101442f5862154dde0be72ca": {
      "model_module": "@jupyter-widgets/controls",
      "model_module_version": "1.5.0",
      "model_name": "DescriptionStyleModel",
      "state": {
       "description_width": ""
      }
     },
     "b84b2f3afbb24e9b9df7bc987a5d7cfd": {
      "model_module": "@jupyter-widgets/base",
      "model_module_version": "1.2.0",
      "model_name": "LayoutModel",
      "state": {}
     },
     "b868c82eb22c444db9c5d699723e6124": {
      "model_module": "@jupyter-widgets/controls",
      "model_module_version": "1.5.0",
      "model_name": "HBoxModel",
      "state": {
       "children": [
        "IPY_MODEL_f5f84906b1054c0ba6254925c64ec252",
        "IPY_MODEL_1fcb3c1821824ca381e6984d8d813404",
        "IPY_MODEL_4175393e0e6244cb948ecea71be3996a"
       ],
       "layout": "IPY_MODEL_4b0735254a794af1ba5334531c2d5d52"
      }
     },
     "b878de7b6b564a48bd759371e7ec86cc": {
      "model_module": "@jupyter-widgets/controls",
      "model_module_version": "1.5.0",
      "model_name": "TextModel",
      "state": {
       "description": "Device",
       "layout": "IPY_MODEL_676dbf19dd9c42618e424bd133e3d187",
       "style": "IPY_MODEL_21b8e56b95d24ca89949b1533273646e"
      }
     },
     "b8911f755f6a4fb8a6eaaa640c9afa88": {
      "model_module": "@jupyter-widgets/controls",
      "model_module_version": "1.5.0",
      "model_name": "VBoxModel",
      "state": {
       "children": [
        "IPY_MODEL_55a4b8a07b1944f5b43ee116ea835e8c",
        "IPY_MODEL_d304930c2f60499fa96bcebc4dfea78d"
       ],
       "layout": "IPY_MODEL_3c845265d37b49ff95eb8ff262571771"
      }
     },
     "b8943d7f1a8d47bdb9f524712677be29": {
      "model_module": "@jupyter-widgets/controls",
      "model_module_version": "1.5.0",
      "model_name": "HTMLModel",
      "state": {
       "layout": "IPY_MODEL_901f4c82c121439a926bd7fd2bb5e8db",
       "style": "IPY_MODEL_a33427ed436945eda465fc0f469b3784",
       "value": "<h3>Select Device to Control</h3><p>Type the name of the device you wish to controle. Example: <code>flow_1</code></p>"
      }
     },
     "b8e0441b61154caba4b381cf2610ee66": {
      "model_module": "@jupyter-widgets/controls",
      "model_module_version": "1.5.0",
      "model_name": "DescriptionStyleModel",
      "state": {
       "description_width": ""
      }
     },
     "b8e894dda1c1414088cd7bedce4b6a81": {
      "model_module": "@jupyter-widgets/base",
      "model_module_version": "1.2.0",
      "model_name": "LayoutModel",
      "state": {
       "width": "auto"
      }
     },
     "b908ea1f5cec406ea471ea74008c0433": {
      "model_module": "@jupyter-widgets/controls",
      "model_module_version": "1.5.0",
      "model_name": "TextModel",
      "state": {
       "description": "Device",
       "layout": "IPY_MODEL_f509d5d08c314d6a994b1f0acbb3af80",
       "style": "IPY_MODEL_bb6a885475464f03ad97c3ba1d086762"
      }
     },
     "b97eb676cdd64e8498fac32860e3437c": {
      "model_module": "@jupyter-widgets/base",
      "model_module_version": "1.2.0",
      "model_name": "LayoutModel",
      "state": {}
     },
     "b9849e21783b47e59182af151e45a84a": {
      "model_module": "@jupyter-widgets/controls",
      "model_module_version": "1.5.0",
      "model_name": "ButtonStyleModel",
      "state": {}
     },
     "b9b39a7d5ad044bca3549d55f45e4586": {
      "model_module": "@jupyter-widgets/controls",
      "model_module_version": "1.5.0",
      "model_name": "ButtonStyleModel",
      "state": {}
     },
     "b9c97a2d88f14299b22bd1b592705beb": {
      "model_module": "@jupyter-widgets/controls",
      "model_module_version": "1.5.0",
      "model_name": "DescriptionStyleModel",
      "state": {
       "description_width": ""
      }
     },
     "b9dc82f7b7894f73aa7bfe40c951baff": {
      "model_module": "@jupyter-widgets/controls",
      "model_module_version": "1.5.0",
      "model_name": "ButtonStyleModel",
      "state": {}
     },
     "b9dcc941101745c7816537d54d51a051": {
      "model_module": "@jupyter-widgets/controls",
      "model_module_version": "1.5.0",
      "model_name": "TextModel",
      "state": {
       "description": "Device",
       "layout": "IPY_MODEL_0034d8973d85431697051155c39c4a57",
       "style": "IPY_MODEL_f26d578c107946d9a14e7799383945be"
      }
     },
     "b9e612b1632848e1960182dd09a775d8": {
      "model_module": "@jupyter-widgets/base",
      "model_module_version": "1.2.0",
      "model_name": "LayoutModel",
      "state": {
       "width": "auto"
      }
     },
     "ba14ed1b2fbb4f4e87fca19e70eb7bf6": {
      "model_module": "@jupyter-widgets/base",
      "model_module_version": "1.2.0",
      "model_name": "LayoutModel",
      "state": {
       "width": "auto"
      }
     },
     "ba1ba354f337464a890c9d17f6a2cfad": {
      "model_module": "@jupyter-widgets/base",
      "model_module_version": "1.2.0",
      "model_name": "LayoutModel",
      "state": {
       "width": "auto"
      }
     },
     "ba8d5b69eec34df888d06c2915f5966c": {
      "model_module": "@jupyter-widgets/controls",
      "model_module_version": "1.5.0",
      "model_name": "ButtonModel",
      "state": {
       "button_style": "warning",
       "description": "Change Status",
       "layout": "IPY_MODEL_2104dde163f142ecacbf1a6e3a149def",
       "style": "IPY_MODEL_5f49458b8a6144ac808ca7f524c7ee80"
      }
     },
     "baabaf8d90a94a3e98061dcc61a7a02a": {
      "model_module": "@jupyter-widgets/controls",
      "model_module_version": "1.5.0",
      "model_name": "DescriptionStyleModel",
      "state": {
       "description_width": ""
      }
     },
     "bab975d777bc4fa28a23063a73a7b8ab": {
      "model_module": "@jupyter-widgets/base",
      "model_module_version": "1.2.0",
      "model_name": "LayoutModel",
      "state": {}
     },
     "bac884c245e94a0fa1401c4b74508116": {
      "model_module": "@jupyter-widgets/base",
      "model_module_version": "1.2.0",
      "model_name": "LayoutModel",
      "state": {}
     },
     "bb6a885475464f03ad97c3ba1d086762": {
      "model_module": "@jupyter-widgets/controls",
      "model_module_version": "1.5.0",
      "model_name": "DescriptionStyleModel",
      "state": {
       "description_width": ""
      }
     },
     "bc03d2d352d848ac80ceebc97c35664a": {
      "model_module": "@jupyter-widgets/base",
      "model_module_version": "1.2.0",
      "model_name": "LayoutModel",
      "state": {
       "width": "auto"
      }
     },
     "bc381d3a2fda41deb9d279babcfa0341": {
      "model_module": "@jupyter-widgets/controls",
      "model_module_version": "1.5.0",
      "model_name": "HBoxModel",
      "state": {
       "children": [
        "IPY_MODEL_b2ea8af1dad942b285baf952c816a914",
        "IPY_MODEL_6e0d7d01745a4cd6ae8e6c230afcc5ed"
       ],
       "layout": "IPY_MODEL_18aad96b9c90495e95bb29269b68356c"
      }
     },
     "bc4552b1a1b84aecbcbe2be859695fe7": {
      "model_module": "@jupyter-widgets/controls",
      "model_module_version": "1.5.0",
      "model_name": "HBoxModel",
      "state": {
       "children": [
        "IPY_MODEL_810f0ad017134cd3a795eb1ae3e56dc5",
        "IPY_MODEL_c31fdab8bea24fba89055a559627dc82"
       ],
       "layout": "IPY_MODEL_9f4b846b0e9d4ff099d177ffcd6fb1c2"
      }
     },
     "bc54d14b5a124306beeec80bd6b9f2e6": {
      "model_module": "@jupyter-widgets/base",
      "model_module_version": "1.2.0",
      "model_name": "LayoutModel",
      "state": {}
     },
     "bcc8102748444f079ffe6c6e54101c52": {
      "model_module": "@jupyter-widgets/controls",
      "model_module_version": "1.5.0",
      "model_name": "TextModel",
      "state": {
       "description": "Device",
       "layout": "IPY_MODEL_584012062f454a0fb1ba62e5e765f1cc",
       "style": "IPY_MODEL_b4e5cada75b24993aa7653c996590d36"
      }
     },
     "bcf4a7b92d2c4476bef29c523c25d31d": {
      "model_module": "@jupyter-widgets/controls",
      "model_module_version": "1.5.0",
      "model_name": "ButtonStyleModel",
      "state": {}
     },
     "bd0818da4c7849c4a09663aea44755a3": {
      "model_module": "@jupyter-widgets/controls",
      "model_module_version": "1.5.0",
      "model_name": "ButtonModel",
      "state": {
       "button_style": "warning",
       "description": "Change Status",
       "layout": "IPY_MODEL_ee645ca268a0474486397dfb37bb2355",
       "style": "IPY_MODEL_02cd12fd197f4a108cb7be94a93d7825"
      }
     },
     "bd126cec8dc445a0876a7aa66ae91e2d": {
      "model_module": "@jupyter-widgets/controls",
      "model_module_version": "1.5.0",
      "model_name": "HBoxModel",
      "state": {
       "children": [
        "IPY_MODEL_33cc53de2b354c52b8b1383100867afd",
        "IPY_MODEL_cf7e17f7169a493bbee844e4827d90f2",
        "IPY_MODEL_1bbdc300d4994e7d9299297fe4b7c201"
       ],
       "layout": "IPY_MODEL_4f1b9ac2d93c440f9faed893d8f986a5"
      }
     },
     "bd1757923f284f70aa1c625a644170ea": {
      "model_module": "@jupyter-widgets/controls",
      "model_module_version": "1.5.0",
      "model_name": "VBoxModel",
      "state": {
       "children": [
        "IPY_MODEL_d8dfa08e2f6c45e490d83391c4110de2",
        "IPY_MODEL_c9d615f7b3514611b89cef570d46f02e"
       ],
       "layout": "IPY_MODEL_cf5c5849a23f434d98ef3dc504201fed"
      }
     },
     "bd58bfb748f149d8b6cfe603a6eed2ce": {
      "model_module": "@jupyter-widgets/base",
      "model_module_version": "1.2.0",
      "model_name": "LayoutModel",
      "state": {
       "width": "auto"
      }
     },
     "bd8591e28dc14507b52fcae8e6a7b84b": {
      "model_module": "@jupyter-widgets/controls",
      "model_module_version": "1.5.0",
      "model_name": "DescriptionStyleModel",
      "state": {
       "description_width": ""
      }
     },
     "bdacae001a464d9280c7cd8966dc471a": {
      "model_module": "@jupyter-widgets/base",
      "model_module_version": "1.2.0",
      "model_name": "LayoutModel",
      "state": {}
     },
     "bdc41d53a3394b0dbb21670b718d4390": {
      "model_module": "@jupyter-widgets/controls",
      "model_module_version": "1.5.0",
      "model_name": "ButtonModel",
      "state": {
       "button_style": "success",
       "description": "Send Command",
       "layout": "IPY_MODEL_e9c0864d56624a6db8d46a2b2ed91061",
       "style": "IPY_MODEL_86b6b10d99ee458780eeb03fc24c47b9"
      }
     },
     "bdf00cc403d74ffc8412fa597a46e605": {
      "model_module": "@jupyter-widgets/controls",
      "model_module_version": "1.5.0",
      "model_name": "HBoxModel",
      "state": {
       "children": [
        "IPY_MODEL_fe7a78f534a449cfb875c1e57a47447e",
        "IPY_MODEL_d4388d7801a34bc1b00e5a17331d580c"
       ],
       "layout": "IPY_MODEL_af810b842d3b438cb872dbd514f7576e"
      }
     },
     "be0161cdcb374fa8b3ec570b73616274": {
      "model_module": "@jupyter-widgets/base",
      "model_module_version": "1.2.0",
      "model_name": "LayoutModel",
      "state": {
       "width": "auto"
      }
     },
     "be11a0ea0e964f59b7bf467e8ecaa020": {
      "model_module": "@jupyter-widgets/controls",
      "model_module_version": "1.5.0",
      "model_name": "DescriptionStyleModel",
      "state": {
       "description_width": ""
      }
     },
     "be5a81d10cab46b9b993f0079b0737eb": {
      "model_module": "@jupyter-widgets/base",
      "model_module_version": "1.2.0",
      "model_name": "LayoutModel",
      "state": {
       "width": "auto"
      }
     },
     "be5af5ad5d2b48d59d17d132c146e160": {
      "model_module": "@jupyter-widgets/controls",
      "model_module_version": "1.5.0",
      "model_name": "HTMLModel",
      "state": {
       "layout": "IPY_MODEL_2c1a41ffe1e54873b3722460085ad0bb",
       "style": "IPY_MODEL_c3d8d931b45b4ae6906af2a215613ce3",
       "value": "<p>2022-06-27 05:30:00 UTC - Running job Job(interval=1, unit=hours, do=sayHello, args=(), kwargs={'name': 'hourly,30'})</p>"
      }
     },
     "be66561bab20460f8dce49de024b8c24": {
      "model_module": "@jupyter-widgets/controls",
      "model_module_version": "1.5.0",
      "model_name": "ButtonModel",
      "state": {
       "button_style": "success",
       "description": "Run",
       "layout": "IPY_MODEL_a44a4580307a4c5292eccdc9dc468447",
       "style": "IPY_MODEL_2e1372624d2c4610928dd76451ec027a"
      }
     },
     "bebec696760e46d8a01f2df80da16cec": {
      "model_module": "@jupyter-widgets/base",
      "model_module_version": "1.2.0",
      "model_name": "LayoutModel",
      "state": {}
     },
     "bedfa3267d634cc9bb0935fbb8ea4366": {
      "model_module": "@jupyter-widgets/base",
      "model_module_version": "1.2.0",
      "model_name": "LayoutModel",
      "state": {
       "width": "auto"
      }
     },
     "bef92ca59ef14496b5ce59c60ddb2ecb": {
      "model_module": "@jupyter-widgets/base",
      "model_module_version": "1.2.0",
      "model_name": "LayoutModel",
      "state": {
       "margin": "2px 50px 0 0",
       "width": "auto"
      }
     },
     "befcd0b0ac0246aa804afb22091ebb2f": {
      "model_module": "@jupyter-widgets/controls",
      "model_module_version": "1.5.0",
      "model_name": "ButtonStyleModel",
      "state": {}
     },
     "bf10605a8dda4fb39b5bb62ab2dbd867": {
      "model_module": "@jupyter-widgets/base",
      "model_module_version": "1.2.0",
      "model_name": "LayoutModel",
      "state": {
       "width": "auto"
      }
     },
     "bf452b2cfacc4dc7b2a5fc926a3e17cb": {
      "model_module": "@jupyter-widgets/base",
      "model_module_version": "1.2.0",
      "model_name": "LayoutModel",
      "state": {}
     },
     "bf90d77dddfe464dbf84b894e1219d48": {
      "model_module": "@jupyter-widgets/controls",
      "model_module_version": "1.5.0",
      "model_name": "ButtonModel",
      "state": {
       "button_style": "success",
       "description": "Select",
       "layout": "IPY_MODEL_ff7a87b0f7ed45ce9e34b0e25eae004f",
       "style": "IPY_MODEL_169f370d4cfa4017b44e08f7aa786230"
      }
     },
     "bffce6d632f24cba8dddf8c08fabb114": {
      "model_module": "@jupyter-widgets/controls",
      "model_module_version": "1.5.0",
      "model_name": "ButtonModel",
      "state": {
       "button_style": "success",
       "description": "Send Command",
       "layout": "IPY_MODEL_f53da00ebc954095b2d97e78d32950bb",
       "style": "IPY_MODEL_4d2abe6af6af4d4a911423dc298f6997"
      }
     },
     "c02eb19849dd4ed9b14086dd3cf50a94": {
      "model_module": "@jupyter-widgets/controls",
      "model_module_version": "1.5.0",
      "model_name": "HTMLModel",
      "state": {
       "layout": "IPY_MODEL_48bc5b9a80de4fb39fbd1b9fb77e07f6",
       "style": "IPY_MODEL_0771f78e06c443f29d0af0a5639cc7af",
       "value": "<h5>Current status for flow_1 is <font color='green'>shutdown</font> </h5><p>User the buttons below to change the status</p>"
      }
     },
     "c07099820872480fbb855fc9b96f13d3": {
      "model_module": "@jupyter-widgets/base",
      "model_module_version": "1.2.0",
      "model_name": "LayoutModel",
      "state": {}
     },
     "c0a90e6639614248bafd7ba2d9be9ae0": {
      "model_module": "@jupyter-widgets/controls",
      "model_module_version": "1.5.0",
      "model_name": "TextModel",
      "state": {
       "description": "Devices",
       "layout": "IPY_MODEL_7aa9a060bbbe444fb5d7be85b46b4f51",
       "style": "IPY_MODEL_f9ec8646a6084feeb195182d8b7f5385",
       "value": "flow_1,pic_1"
      }
     },
     "c1129382414245eda422161680d51c59": {
      "model_module": "@jupyter-widgets/base",
      "model_module_version": "1.2.0",
      "model_name": "LayoutModel",
      "state": {}
     },
     "c11549ad2c354ba5a3eea2a5db6ea9d0": {
      "model_module": "@jupyter-widgets/controls",
      "model_module_version": "1.5.0",
      "model_name": "HBoxModel",
      "state": {
       "children": [
        "IPY_MODEL_da273d9fc0434d4e95cbbfcd46138bb6"
       ],
       "layout": "IPY_MODEL_4d21b843856c4798a00b64474265c672"
      }
     },
     "c118aa94ebbc4446967670400452338d": {
      "model_module": "@jupyter-widgets/controls",
      "model_module_version": "1.5.0",
      "model_name": "TextModel",
      "state": {
       "description": "Devices",
       "layout": "IPY_MODEL_a38577a00285465386ec95f135d24aef",
       "style": "IPY_MODEL_dffbc97594f048e2a6b666556cf37cbc"
      }
     },
     "c1212161c4d34b1cbdde7a9f49edbd07": {
      "model_module": "@jupyter-widgets/controls",
      "model_module_version": "1.5.0",
      "model_name": "DescriptionStyleModel",
      "state": {
       "description_width": ""
      }
     },
     "c137d9e970f84df893015074facdfdf7": {
      "model_module": "@jupyter-widgets/controls",
      "model_module_version": "1.5.0",
      "model_name": "ButtonStyleModel",
      "state": {}
     },
     "c14685c354b1452da76bfb9a8d11e204": {
      "model_module": "@jupyter-widgets/controls",
      "model_module_version": "1.5.0",
      "model_name": "TextModel",
      "state": {
       "layout": "IPY_MODEL_b1ca3bb4cb6b4e948597ad59399ebe18",
       "style": "IPY_MODEL_3ef7c6e713de42aeb79723ef6eeca70c",
       "value": "Device"
      }
     },
     "c1f56e5a48a34a5690bf1540ed8cdf93": {
      "model_module": "@jupyter-widgets/controls",
      "model_module_version": "1.5.0",
      "model_name": "DescriptionStyleModel",
      "state": {
       "description_width": ""
      }
     },
     "c2254c65a81842bf88af07a9aa23f005": {
      "model_module": "@jupyter-widgets/controls",
      "model_module_version": "1.5.0",
      "model_name": "ButtonModel",
      "state": {
       "button_style": "info",
       "icon": "refresh",
       "layout": "IPY_MODEL_7e1683282eb5461aa121d03e324c2e5c",
       "style": "IPY_MODEL_005223a9412442758c84a6973ea2daad"
      }
     },
     "c23d4b416b4545629c470c716eee4a98": {
      "model_module": "@jupyter-widgets/controls",
      "model_module_version": "1.5.0",
      "model_name": "DescriptionStyleModel",
      "state": {
       "description_width": ""
      }
     },
     "c31f938aabae4b948f733fa4b15e0138": {
      "model_module": "@jupyter-widgets/base",
      "model_module_version": "1.2.0",
      "model_name": "LayoutModel",
      "state": {}
     },
     "c31fdab8bea24fba89055a559627dc82": {
      "model_module": "@jupyter-widgets/controls",
      "model_module_version": "1.5.0",
      "model_name": "ButtonModel",
      "state": {
       "button_style": "success",
       "description": "Send",
       "layout": "IPY_MODEL_63b66e6494a842268ea2ce09e8160bf4",
       "style": "IPY_MODEL_3af012ee5da243e3b9638e861f724968"
      }
     },
     "c32fa7719333488fbf2cae6439471789": {
      "model_module": "@jupyter-widgets/base",
      "model_module_version": "1.2.0",
      "model_name": "LayoutModel",
      "state": {
       "width": "auto"
      }
     },
     "c34f6ce0ea1743e38601f660e50fb9b2": {
      "model_module": "@jupyter-widgets/controls",
      "model_module_version": "1.5.0",
      "model_name": "ButtonModel",
      "state": {
       "button_style": "success",
       "description": "Select",
       "layout": "IPY_MODEL_5a8923135f8845cc93e904f8b226153e",
       "style": "IPY_MODEL_b5551c92670445b49bd8d1ce60310c72"
      }
     },
     "c357054b18bf429f9b61a0061183033e": {
      "model_module": "@jupyter-widgets/controls",
      "model_module_version": "1.5.0",
      "model_name": "DescriptionStyleModel",
      "state": {
       "description_width": ""
      }
     },
     "c3d7bcd9b5f8458ebed4a3ea34724dc6": {
      "model_module": "@jupyter-widgets/base",
      "model_module_version": "1.2.0",
      "model_name": "LayoutModel",
      "state": {}
     },
     "c3d8d931b45b4ae6906af2a215613ce3": {
      "model_module": "@jupyter-widgets/controls",
      "model_module_version": "1.5.0",
      "model_name": "DescriptionStyleModel",
      "state": {
       "description_width": ""
      }
     },
     "c430de19966945388e2125f74b2d3d7d": {
      "model_module": "@jupyter-widgets/controls",
      "model_module_version": "1.5.0",
      "model_name": "ButtonModel",
      "state": {
       "button_style": "info",
       "icon": "refresh",
       "layout": "IPY_MODEL_815c62c06d73446f8c2756fef5cee728",
       "style": "IPY_MODEL_c5caa1db2e36441b8d67ac9aed86cfb1"
      }
     },
     "c46362ec9bb0417db291ef5b0d7a9e66": {
      "model_module": "@jupyter-widgets/controls",
      "model_module_version": "1.5.0",
      "model_name": "DescriptionStyleModel",
      "state": {
       "description_width": ""
      }
     },
     "c495ffeacb7540ef8cb69be20f3dfa5a": {
      "model_module": "@jupyter-widgets/controls",
      "model_module_version": "1.5.0",
      "model_name": "ButtonStyleModel",
      "state": {}
     },
     "c4d79a37113c4afeaa10fb0d438e05fc": {
      "model_module": "@jupyter-widgets/base",
      "model_module_version": "1.2.0",
      "model_name": "LayoutModel",
      "state": {
       "width": "auto"
      }
     },
     "c4e6ce158c1545a184ee2d30d51b5ba0": {
      "model_module": "@jupyter-widgets/controls",
      "model_module_version": "1.5.0",
      "model_name": "ButtonStyleModel",
      "state": {}
     },
     "c51e75c6f9664dd7aa1441397cb395fc": {
      "model_module": "@jupyter-widgets/base",
      "model_module_version": "1.2.0",
      "model_name": "LayoutModel",
      "state": {
       "width": "450px"
      }
     },
     "c5254066de8c4c3f8921dba23d5f1de8": {
      "model_module": "@jupyter-widgets/base",
      "model_module_version": "1.2.0",
      "model_name": "LayoutModel",
      "state": {}
     },
     "c5477542b1a0416d88b8c9f540d1a216": {
      "model_module": "@jupyter-widgets/controls",
      "model_module_version": "1.5.0",
      "model_name": "ButtonStyleModel",
      "state": {}
     },
     "c55f1bb0e5854f1b8b121f487b1384ea": {
      "model_module": "@jupyter-widgets/base",
      "model_module_version": "1.2.0",
      "model_name": "LayoutModel",
      "state": {
       "margin": "0 20px 0 0"
      }
     },
     "c562ad72c83f4921bea46dd7613d07e4": {
      "model_module": "@jupyter-widgets/controls",
      "model_module_version": "1.5.0",
      "model_name": "ButtonModel",
      "state": {
       "button_style": "warning",
       "description": "Change Status",
       "layout": "IPY_MODEL_2d1e2ca30bae4829b40683859df2fa1f",
       "style": "IPY_MODEL_5e465fce1f35452f9af90acdc6c2ad74"
      }
     },
     "c57403ef676e4f95a7a6d6ec67e3123b": {
      "model_module": "@jupyter-widgets/controls",
      "model_module_version": "1.5.0",
      "model_name": "DescriptionStyleModel",
      "state": {
       "description_width": ""
      }
     },
     "c5a38d0e38a64515a8434c84f0bd8fca": {
      "model_module": "@jupyter-widgets/controls",
      "model_module_version": "1.5.0",
      "model_name": "DescriptionStyleModel",
      "state": {
       "description_width": ""
      }
     },
     "c5c63d9210d14ee4809aa23e82124dda": {
      "model_module": "@jupyter-widgets/controls",
      "model_module_version": "1.5.0",
      "model_name": "DescriptionStyleModel",
      "state": {
       "description_width": ""
      }
     },
     "c5caa1db2e36441b8d67ac9aed86cfb1": {
      "model_module": "@jupyter-widgets/controls",
      "model_module_version": "1.5.0",
      "model_name": "ButtonStyleModel",
      "state": {}
     },
     "c5caeed772564a03abe7142e283ec32c": {
      "model_module": "@jupyter-widgets/controls",
      "model_module_version": "1.5.0",
      "model_name": "ButtonModel",
      "state": {
       "button_style": "warning",
       "description": "Change Status",
       "layout": "IPY_MODEL_dfb58d7ea93046f2bc468bd4f4f73b60",
       "style": "IPY_MODEL_8c52dbfcf69442f4ae08469785d3089e"
      }
     },
     "c5f4c60ca5b442d5ac71052f824bf7c3": {
      "model_module": "@jupyter-widgets/controls",
      "model_module_version": "1.5.0",
      "model_name": "HBoxModel",
      "state": {
       "children": [
        "IPY_MODEL_2c81d151dcf94c0c9275117022b319fe",
        "IPY_MODEL_3ecf90df397d4e488b76ab505312ef59"
       ],
       "layout": "IPY_MODEL_676d8f94d2004d37a3ad77658243a4c5"
      }
     },
     "c5fb57cd894a48c9ba4b8c694bb7decb": {
      "model_module": "@jupyter-widgets/controls",
      "model_module_version": "1.5.0",
      "model_name": "ButtonModel",
      "state": {
       "button_style": "warning",
       "description": "Pause",
       "layout": "IPY_MODEL_37862b6fee814c339c1858697feaddc0",
       "style": "IPY_MODEL_fee9739cbc6d4291bd5cf4049bbd41f0"
      }
     },
     "c5fc2a74f1394050af4e37ece437d44b": {
      "model_module": "@jupyter-widgets/controls",
      "model_module_version": "1.5.0",
      "model_name": "DescriptionStyleModel",
      "state": {
       "description_width": ""
      }
     },
     "c6036e9cb488470aa002fa60e0c8ded0": {
      "model_module": "@jupyter-widgets/controls",
      "model_module_version": "1.5.0",
      "model_name": "ButtonStyleModel",
      "state": {}
     },
     "c6234e0754e54131a56d0118439dc2c5": {
      "model_module": "@jupyter-widgets/controls",
      "model_module_version": "1.5.0",
      "model_name": "VBoxModel",
      "state": {
       "children": [
        "IPY_MODEL_d5c87a23b33a46178a049a16e4d288a9",
        "IPY_MODEL_65731e4b8741415a8adefe1304436414"
       ],
       "layout": "IPY_MODEL_6382bd3074e446d78490d7c175d69c63"
      }
     },
     "c66ca24aa70844269472cc850dc2465a": {
      "model_module": "@jupyter-widgets/base",
      "model_module_version": "1.2.0",
      "model_name": "LayoutModel",
      "state": {
       "margin": "2px 20px 0 0"
      }
     },
     "c670959de160402cae0d4aa401d2103c": {
      "model_module": "@jupyter-widgets/controls",
      "model_module_version": "1.5.0",
      "model_name": "HTMLModel",
      "state": {
       "layout": "IPY_MODEL_7516bbca0f5a479b9ddd09e6f4bd4a6f",
       "style": "IPY_MODEL_6cdcfd7b1e7d486dab0591aa6d5184f5",
       "value": "<h3>Select Device to Control</h3><p>Type the name of the device you wish to controle. Example: <code>flow_1</code></p>"
      }
     },
     "c698699e58c34a9aa2e9008b23e60f44": {
      "model_module": "@jupyter-widgets/controls",
      "model_module_version": "1.5.0",
      "model_name": "HBoxModel",
      "state": {
       "children": [
        "IPY_MODEL_5d73c5227ff84e24ade2db38e6b74f67",
        "IPY_MODEL_32cfd17aa669481abc94cd31eada8a89"
       ],
       "layout": "IPY_MODEL_e3752bda8aae45bbb5743a7baebcbf0f"
      }
     },
     "c6cbb931840d4b2b849a47f608e2601a": {
      "model_module": "@jupyter-widgets/base",
      "model_module_version": "1.2.0",
      "model_name": "LayoutModel",
      "state": {}
     },
     "c70742b12b864333acb3745828417fe1": {
      "model_module": "@jupyter-widgets/controls",
      "model_module_version": "1.5.0",
      "model_name": "ButtonStyleModel",
      "state": {}
     },
     "c7525b0ba3d4450bb759a8b31658a4a8": {
      "model_module": "@jupyter-widgets/base",
      "model_module_version": "1.2.0",
      "model_name": "LayoutModel",
      "state": {}
     },
     "c77558ad73954df7b671c9835d442f29": {
      "model_module": "@jupyter-widgets/controls",
      "model_module_version": "1.5.0",
      "model_name": "TextModel",
      "state": {
       "description": "Device",
       "layout": "IPY_MODEL_dfa9ef15c15c4c719cf0504e6f3499a4",
       "style": "IPY_MODEL_954c86c8f37f4f9e87d27ecb92cb4934"
      }
     },
     "c7b26291fa8740c1988ed0a0d0489bb5": {
      "model_module": "@jupyter-widgets/base",
      "model_module_version": "1.2.0",
      "model_name": "LayoutModel",
      "state": {
       "width": "auto"
      }
     },
     "c7da3924ed744520833714e84e980dcf": {
      "model_module": "@jupyter-widgets/base",
      "model_module_version": "1.2.0",
      "model_name": "LayoutModel",
      "state": {}
     },
     "c7f7f9a78137459da5f07fbe9c18d3cc": {
      "model_module": "@jupyter-widgets/base",
      "model_module_version": "1.2.0",
      "model_name": "LayoutModel",
      "state": {}
     },
     "c80c6a3c18084e6eaa4708ac64fc3748": {
      "model_module": "@jupyter-widgets/base",
      "model_module_version": "1.2.0",
      "model_name": "LayoutModel",
      "state": {}
     },
     "c82d9514cc9942f2a7fc2d29d93b38ef": {
      "model_module": "@jupyter-widgets/controls",
      "model_module_version": "1.5.0",
      "model_name": "ButtonStyleModel",
      "state": {}
     },
     "c868c2267a27467dbe5f5d21e47c6068": {
      "model_module": "@jupyter-widgets/base",
      "model_module_version": "1.2.0",
      "model_name": "LayoutModel",
      "state": {}
     },
     "c8e38e03314041cab956f4ad895da917": {
      "model_module": "@jupyter-widgets/base",
      "model_module_version": "1.2.0",
      "model_name": "LayoutModel",
      "state": {}
     },
     "c8eae6ad37534f239a7d5d5f4f2354f7": {
      "model_module": "@jupyter-widgets/controls",
      "model_module_version": "1.5.0",
      "model_name": "DescriptionStyleModel",
      "state": {
       "description_width": ""
      }
     },
     "c90d09803b594fa1a65c330be346fc4f": {
      "model_module": "@jupyter-widgets/controls",
      "model_module_version": "1.5.0",
      "model_name": "HTMLModel",
      "state": {
       "layout": "IPY_MODEL_b777faf19db14be592d04071549d5eef",
       "style": "IPY_MODEL_cc4f8706d34e40268983e885db077677",
       "value": "<h4>Current flow_1 status: <font color='green'>shutdown</font> </h4><p>User the buttons below to change the status</p>"
      }
     },
     "c93df20b1edd46088aaa32e3361170a4": {
      "model_module": "@jupyter-widgets/controls",
      "model_module_version": "1.5.0",
      "model_name": "DescriptionStyleModel",
      "state": {
       "description_width": ""
      }
     },
     "c966b15d18ab41dea355343595932caf": {
      "model_module": "@jupyter-widgets/controls",
      "model_module_version": "1.5.0",
      "model_name": "ButtonModel",
      "state": {
       "button_style": "success",
       "description": "Get",
       "layout": "IPY_MODEL_dc7abdc5b6574cbc8f39bdd9e64fceba",
       "style": "IPY_MODEL_3248f08785654d2c93408f49018a2b9d"
      }
     },
     "c9a867d46aaf4fc9ad8dcd3bcb28964e": {
      "model_module": "@jupyter-widgets/controls",
      "model_module_version": "1.5.0",
      "model_name": "TextModel",
      "state": {
       "description": "Devices",
       "layout": "IPY_MODEL_8b6dbe4d74c14ba8aac6f2925135f4e1",
       "style": "IPY_MODEL_5d40484a4eb946efb4c28ef57519d537"
      }
     },
     "c9cac2f30df9438abd05fa2ed117813c": {
      "model_module": "@jupyter-widgets/base",
      "model_module_version": "1.2.0",
      "model_name": "LayoutModel",
      "state": {}
     },
     "c9d615f7b3514611b89cef570d46f02e": {
      "model_module": "@jupyter-widgets/controls",
      "model_module_version": "1.5.0",
      "model_name": "HBoxModel",
      "state": {
       "children": [
        "IPY_MODEL_c0a90e6639614248bafd7ba2d9be9ae0",
        "IPY_MODEL_8e85d5f7ec034f50b0785f0c34a29dd1"
       ],
       "layout": "IPY_MODEL_8e0aae390e094671b8d780e2e8ac32de"
      }
     },
     "c9fb7e20da3644e88fb78a354ed1ec9c": {
      "model_module": "@jupyter-widgets/controls",
      "model_module_version": "1.5.0",
      "model_name": "VBoxModel",
      "state": {
       "children": [
        "IPY_MODEL_688c05ea9438490ca6550f3408a6130c",
        "IPY_MODEL_eb34dd855f0445b5b93afacdc9e8a391"
       ],
       "layout": "IPY_MODEL_d918159b6c9746da8ba76a6d64181e7f"
      }
     },
     "ca43cc46f0a542729ee72043a2289001": {
      "model_module": "@jupyter-widgets/base",
      "model_module_version": "1.2.0",
      "model_name": "LayoutModel",
      "state": {}
     },
     "ca70b9a031664be888859ffc95812de8": {
      "model_module": "@jupyter-widgets/base",
      "model_module_version": "1.2.0",
      "model_name": "LayoutModel",
      "state": {
       "width": "700px"
      }
     },
     "ca82ef60f08e44b8ac9a60edfcb14809": {
      "model_module": "@jupyter-widgets/controls",
      "model_module_version": "1.5.0",
      "model_name": "HBoxModel",
      "state": {
       "children": [
        "IPY_MODEL_99ff57a140474c1eb8e6ba0934c51965",
        "IPY_MODEL_71d5cf672aa7428aac00751080d26b97",
        "IPY_MODEL_fdc0d8e8220046888a132626fa656085",
        "IPY_MODEL_6530b80fd446411f9578899c3fa829cd"
       ],
       "layout": "IPY_MODEL_d01e12ad57e042008ec09e6522b94a40"
      }
     },
     "ca8b5a2e686245a38832104418c78fea": {
      "model_module": "@jupyter-widgets/controls",
      "model_module_version": "1.5.0",
      "model_name": "HTMLModel",
      "state": {
       "layout": "IPY_MODEL_a847bdfb021642aa9a59de6a197b6493",
       "style": "IPY_MODEL_c46362ec9bb0417db291ef5b0d7a9e66",
       "value": "<h3>Enter Command</h3><p>Type your device command below. It will be sent to flow_1</p>"
      }
     },
     "caa51095398b43b1a46f2ff4d6dfd555": {
      "model_module": "@jupyter-widgets/base",
      "model_module_version": "1.2.0",
      "model_name": "LayoutModel",
      "state": {
       "margin": "2px 20px 0 0",
       "width": "auto"
      }
     },
     "caba5194c5044cd5b1b36e9510947afe": {
      "model_module": "@jupyter-widgets/controls",
      "model_module_version": "1.5.0",
      "model_name": "ButtonStyleModel",
      "state": {}
     },
     "cac2ecfcf9f34c64a9700ed9efe2598e": {
      "model_module": "@jupyter-widgets/base",
      "model_module_version": "1.2.0",
      "model_name": "LayoutModel",
      "state": {
       "width": "450px"
      }
     },
     "cacf32b6d28d4c50987e5bcb901e4b0f": {
      "model_module": "@jupyter-widgets/controls",
      "model_module_version": "1.5.0",
      "model_name": "ButtonModel",
      "state": {
       "button_style": "warning",
       "description": "Change Status",
       "layout": "IPY_MODEL_fcb05d83223743878e6b6a7f76729ecc",
       "style": "IPY_MODEL_0d5534a8c6a34de2ad87bdebb02c786f"
      }
     },
     "caefd2791c064bbc87d872e71f001eb4": {
      "model_module": "@jupyter-widgets/controls",
      "model_module_version": "1.5.0",
      "model_name": "HTMLModel",
      "state": {
       "layout": "IPY_MODEL_04ee1b32294d4626ad6a999a4c70e998",
       "style": "IPY_MODEL_718073707dca402c961f20d60f6f9453",
       "value": "<h3>Select Device</h3><p>Type the name of the device to see it's history. Example: <code>flow_1</code></p>"
      }
     },
     "caf13c55aba3452c80b2c8494b43e81d": {
      "model_module": "@jupyter-widgets/controls",
      "model_module_version": "1.5.0",
      "model_name": "ButtonStyleModel",
      "state": {}
     },
     "caf9251af8694655b052a7960cc51fd7": {
      "model_module": "@jupyter-widgets/base",
      "model_module_version": "1.2.0",
      "model_name": "LayoutModel",
      "state": {}
     },
     "cb03d431c710413f8f0cefadcbf745ef": {
      "model_module": "@jupyter-widgets/base",
      "model_module_version": "1.2.0",
      "model_name": "LayoutModel",
      "state": {
       "padding": "0 20px 0 0"
      }
     },
     "cb044bf151c34a3b83a0feeb9863d47a": {
      "model_module": "@jupyter-widgets/controls",
      "model_module_version": "1.5.0",
      "model_name": "ButtonStyleModel",
      "state": {}
     },
     "cb0be856af3846898acbfe5b9ce6e0d0": {
      "model_module": "@jupyter-widgets/controls",
      "model_module_version": "1.5.0",
      "model_name": "ButtonModel",
      "state": {
       "button_style": "success",
       "description": "Send Command",
       "layout": "IPY_MODEL_1c675ad6fe444b918c45a0fe1edd3df5",
       "style": "IPY_MODEL_a8ab3ebf7ed74342a593c83d95eb74a9"
      }
     },
     "cb29281a56e24158a3a356f2d4389a05": {
      "model_module": "@jupyter-widgets/controls",
      "model_module_version": "1.5.0",
      "model_name": "TextModel",
      "state": {
       "description": "Device",
       "layout": "IPY_MODEL_c7da3924ed744520833714e84e980dcf",
       "style": "IPY_MODEL_69bfbf0b7d214501a87638132c636453"
      }
     },
     "cb2f03666fd64e6d8b81189c7b19a0ff": {
      "model_module": "@jupyter-widgets/controls",
      "model_module_version": "1.5.0",
      "model_name": "HTMLModel",
      "state": {
       "layout": "IPY_MODEL_9d399f6ae13d47a781f4cd36f913fbf3",
       "style": "IPY_MODEL_52cf814ae4ee4234a428312374a79738",
       "value": "<h4>What do you like to do?</h4>"
      }
     },
     "cb4cfa4a512c4c60b11cd5d252c9f988": {
      "model_module": "@jupyter-widgets/base",
      "model_module_version": "1.2.0",
      "model_name": "LayoutModel",
      "state": {}
     },
     "cb78992790ec425698b0a39820f9041c": {
      "model_module": "@jupyter-widgets/controls",
      "model_module_version": "1.5.0",
      "model_name": "DescriptionStyleModel",
      "state": {
       "description_width": ""
      }
     },
     "cba6473ceb254cb39b57327dc6cfae6d": {
      "model_module": "@jupyter-widgets/controls",
      "model_module_version": "1.5.0",
      "model_name": "ButtonStyleModel",
      "state": {}
     },
     "cbbb3788a6d04fc2899034d177f40f05": {
      "model_module": "@jupyter-widgets/base",
      "model_module_version": "1.2.0",
      "model_name": "LayoutModel",
      "state": {
       "width": "auto"
      }
     },
     "cbbc3a6b5caa4e578d8f0bed02d2a241": {
      "model_module": "@jupyter-widgets/controls",
      "model_module_version": "1.5.0",
      "model_name": "HBoxModel",
      "state": {
       "children": [
        "IPY_MODEL_4417196e617b4ff6955678278969834e",
        "IPY_MODEL_d5bb9078460c4b03a1516125215128df",
        "IPY_MODEL_f08cfbb10f8b424e8995d5b066f3b38b"
       ],
       "layout": "IPY_MODEL_ae5c69bb44dd4abb98489e085ed5f6a5"
      }
     },
     "cbc783da85ae4ec995bfb798002cb1e7": {
      "model_module": "@jupyter-widgets/base",
      "model_module_version": "1.2.0",
      "model_name": "LayoutModel",
      "state": {}
     },
     "cbf3040006bc441b99dea97cb0bd7608": {
      "model_module": "@jupyter-widgets/base",
      "model_module_version": "1.2.0",
      "model_name": "LayoutModel",
      "state": {}
     },
     "cc07398da0bd4b9394c6aca4e9c724bf": {
      "model_module": "@jupyter-widgets/base",
      "model_module_version": "1.2.0",
      "model_name": "LayoutModel",
      "state": {}
     },
     "cc3a97cb6ea64823ba7090c5bc5d0c82": {
      "model_module": "@jupyter-widgets/controls",
      "model_module_version": "1.5.0",
      "model_name": "HBoxModel",
      "state": {
       "children": [
        "IPY_MODEL_12fc8f6169b24b269fea3eda1da26849",
        "IPY_MODEL_4602f7a138c449da9b030a4b57dd300c",
        "IPY_MODEL_308ad627b7284d94b447cc038cc39f63",
        "IPY_MODEL_27b23e5c52db4c2b9cc9364770d57fc3"
       ],
       "layout": "IPY_MODEL_315d8337141c496f8b32549c6bb0c6da"
      }
     },
     "cc4f8706d34e40268983e885db077677": {
      "model_module": "@jupyter-widgets/controls",
      "model_module_version": "1.5.0",
      "model_name": "DescriptionStyleModel",
      "state": {
       "description_width": ""
      }
     },
     "cc705c85e614478c8cc56ce42a8eca06": {
      "model_module": "@jupyter-widgets/controls",
      "model_module_version": "1.5.0",
      "model_name": "TextModel",
      "state": {
       "description": "Command",
       "layout": "IPY_MODEL_4718c02244bd4a97b5f2d4b408682130",
       "style": "IPY_MODEL_32af08c9e4cb4dc9b69a9ebfdacbea17"
      }
     },
     "ccddd96061864285a6c936e142de35de": {
      "model_module": "@jupyter-widgets/base",
      "model_module_version": "1.2.0",
      "model_name": "LayoutModel",
      "state": {
       "width": "auto"
      }
     },
     "cd8bdc1558f74451adf2bc400ee1eb1e": {
      "model_module": "@jupyter-widgets/controls",
      "model_module_version": "1.5.0",
      "model_name": "DescriptionStyleModel",
      "state": {
       "description_width": ""
      }
     },
     "cd958edc1fec42c5bc3109e120416afd": {
      "model_module": "@jupyter-widgets/controls",
      "model_module_version": "1.5.0",
      "model_name": "ButtonModel",
      "state": {
       "button_style": "success",
       "description": "Select",
       "layout": "IPY_MODEL_991a9ecc54884692a2781da6d23f9bb1",
       "style": "IPY_MODEL_da4f12e515a04bd8bd73c88c496eba1b"
      }
     },
     "cd9b2fe226b04fb3a9fd3705e4889f81": {
      "model_module": "@jupyter-widgets/controls",
      "model_module_version": "1.5.0",
      "model_name": "HTMLModel",
      "state": {
       "layout": "IPY_MODEL_55a869bd557f4de490afc443711142d6",
       "style": "IPY_MODEL_a01420218dff4af6a17eda896cacfe97",
       "value": "<h3>Select Devices</h3><p>Type the name of the devices you wish to view.Use a comma to seperate them and no spaces! Example: <code>flow_1,pic_1</code></p>"
      }
     },
     "cda055bae9cb4cc8bd21bac4729357c2": {
      "model_module": "@jupyter-widgets/controls",
      "model_module_version": "1.5.0",
      "model_name": "ButtonModel",
      "state": {
       "button_style": "primary",
       "description": "Send Command",
       "layout": "IPY_MODEL_f57a1222e59e4871a0d3ad11d0c1d671",
       "style": "IPY_MODEL_e6f2ed8e40904f39b0ec8f14dd45c28f"
      }
     },
     "cdcc8f9476d443ba92f619e1fd88ce9a": {
      "model_module": "@jupyter-widgets/controls",
      "model_module_version": "1.5.0",
      "model_name": "DescriptionStyleModel",
      "state": {
       "description_width": ""
      }
     },
     "cdf349a6f7a54c489586f374bfc64e06": {
      "model_module": "@jupyter-widgets/controls",
      "model_module_version": "1.5.0",
      "model_name": "ButtonModel",
      "state": {
       "button_style": "info",
       "icon": "refresh",
       "layout": "IPY_MODEL_1998076cb27c47b3abc77acb4ea5bcf9",
       "style": "IPY_MODEL_b05b95e2c5664f6abb130ffe4eb69eba"
      }
     },
     "ce23d946c2df4cdcb70239d98270c0d1": {
      "model_module": "@jupyter-widgets/base",
      "model_module_version": "1.2.0",
      "model_name": "LayoutModel",
      "state": {}
     },
     "ce36f903ead9487e9686a554937c5815": {
      "model_module": "@jupyter-widgets/base",
      "model_module_version": "1.2.0",
      "model_name": "LayoutModel",
      "state": {}
     },
     "ce690e4de04f4d66b422132bdd006348": {
      "model_module": "@jupyter-widgets/controls",
      "model_module_version": "1.5.0",
      "model_name": "HTMLModel",
      "state": {
       "layout": "IPY_MODEL_1127045c59dd4f8a9778f929cfbf5306",
       "style": "IPY_MODEL_82de5dab3e8944c785bb3343a84359ce",
       "value": "<h3>Select Device to Control</h3><p>Type the name of the device you wish to controle. Example: <code>flow_1</code></p>"
      }
     },
     "ce8d8829673c437cae77aa44c48de117": {
      "model_module": "@jupyter-widgets/controls",
      "model_module_version": "1.5.0",
      "model_name": "HBoxModel",
      "state": {
       "children": [
        "IPY_MODEL_8c6f498c7f0247e2b4c0fb82ec535cbd"
       ],
       "layout": "IPY_MODEL_a29d01a683f84f9bbbe8e3e16c4f6258"
      }
     },
     "ce97623657514bf18f9c9b2c9521ecf9": {
      "model_module": "@jupyter-widgets/controls",
      "model_module_version": "1.5.0",
      "model_name": "DescriptionStyleModel",
      "state": {
       "description_width": ""
      }
     },
     "cf34ef21e07a42918a86ef88c431f587": {
      "model_module": "@jupyter-widgets/base",
      "model_module_version": "1.2.0",
      "model_name": "LayoutModel",
      "state": {}
     },
     "cf57f087294a4930b51a1cf920b22499": {
      "model_module": "@jupyter-widgets/base",
      "model_module_version": "1.2.0",
      "model_name": "LayoutModel",
      "state": {}
     },
     "cf59d514004b443c9ac55c8274da3397": {
      "model_module": "@jupyter-widgets/controls",
      "model_module_version": "1.5.0",
      "model_name": "HBoxModel",
      "state": {
       "children": [
        "IPY_MODEL_43916f94e4b743ea8bfe4baf77ad0d26",
        "IPY_MODEL_065ea7ae07844feba23c4ad9ed254919",
        "IPY_MODEL_98ba4c0d69c6457e85c029bef61eb7fa"
       ],
       "layout": "IPY_MODEL_05cbe25b01bd4da6b6a8f7cdf761d569"
      }
     },
     "cf5c5849a23f434d98ef3dc504201fed": {
      "model_module": "@jupyter-widgets/base",
      "model_module_version": "1.2.0",
      "model_name": "LayoutModel",
      "state": {}
     },
     "cf6f0a3765064551b1a7df604ce38249": {
      "model_module": "@jupyter-widgets/controls",
      "model_module_version": "1.5.0",
      "model_name": "HBoxModel",
      "state": {
       "children": [
        "IPY_MODEL_a50fdd4482764f1d89e4f25dd00e5b3b",
        "IPY_MODEL_848f999af45d45a1a17f2a8a066d9618"
       ],
       "layout": "IPY_MODEL_fbff7ae451a544f3a239f95c1ad52444"
      }
     },
     "cf7e17f7169a493bbee844e4827d90f2": {
      "model_module": "@jupyter-widgets/controls",
      "model_module_version": "1.5.0",
      "model_name": "ButtonModel",
      "state": {
       "button_style": "warning",
       "description": "Change Status",
       "layout": "IPY_MODEL_dd473f062e6f482a8ed56e343c97f53e",
       "style": "IPY_MODEL_4a9a488e219c45f9978af3aac9b4f7d6"
      }
     },
     "cf85f305af124608b66c227c3cbac57d": {
      "model_module": "@jupyter-widgets/controls",
      "model_module_version": "1.5.0",
      "model_name": "ButtonStyleModel",
      "state": {}
     },
     "cfcebe2ff34f43919f3e5613d5b85d61": {
      "model_module": "@jupyter-widgets/controls",
      "model_module_version": "1.5.0",
      "model_name": "HBoxModel",
      "state": {
       "children": [
        "IPY_MODEL_d709f8f363cd439aaf9dae7a94f272ea",
        "IPY_MODEL_6b647de9d812470db11b193d1186f4e6"
       ],
       "layout": "IPY_MODEL_3b82e3d2764a448fa5119b1703956198"
      }
     },
     "d01e12ad57e042008ec09e6522b94a40": {
      "model_module": "@jupyter-widgets/base",
      "model_module_version": "1.2.0",
      "model_name": "LayoutModel",
      "state": {}
     },
     "d02138d68a2044c2a53a4633d461021d": {
      "model_module": "@jupyter-widgets/controls",
      "model_module_version": "1.5.0",
      "model_name": "ButtonModel",
      "state": {
       "button_style": "success",
       "description": "Send Command",
       "layout": "IPY_MODEL_c55f1bb0e5854f1b8b121f487b1384ea",
       "style": "IPY_MODEL_32e33b9326c04f95b9e280fa09f1baf4"
      }
     },
     "d0416956ddb5435eb4efc07e41e3f597": {
      "model_module": "@jupyter-widgets/base",
      "model_module_version": "1.2.0",
      "model_name": "LayoutModel",
      "state": {}
     },
     "d0ac6b84e5da453eb3c24a359437b349": {
      "model_module": "@jupyter-widgets/controls",
      "model_module_version": "1.5.0",
      "model_name": "DescriptionStyleModel",
      "state": {
       "description_width": ""
      }
     },
     "d0b72da3d63d4f1bbc6bdcf7c56dd9bb": {
      "model_module": "@jupyter-widgets/base",
      "model_module_version": "1.2.0",
      "model_name": "LayoutModel",
      "state": {
       "margin": "2px 20px 0 0"
      }
     },
     "d1065f44e8484a8cb02393693c34ad36": {
      "model_module": "@jupyter-widgets/controls",
      "model_module_version": "1.5.0",
      "model_name": "ButtonStyleModel",
      "state": {}
     },
     "d11cdc41fee74b08b4a2938916c6f0aa": {
      "model_module": "@jupyter-widgets/controls",
      "model_module_version": "1.5.0",
      "model_name": "ButtonModel",
      "state": {
       "button_style": "success",
       "description": "Select",
       "layout": "IPY_MODEL_7340a0bfa45f46689792bf1e19ce9a26",
       "style": "IPY_MODEL_e763ca46cbf44412a7692f803b34ad20"
      }
     },
     "d14c215ef2d44690a3342f23b7438296": {
      "model_module": "@jupyter-widgets/controls",
      "model_module_version": "1.5.0",
      "model_name": "ButtonStyleModel",
      "state": {}
     },
     "d18a198a2dd94da39a48fe17f7b4988e": {
      "model_module": "@jupyter-widgets/base",
      "model_module_version": "1.2.0",
      "model_name": "LayoutModel",
      "state": {
       "width": "450px"
      }
     },
     "d18af2f0342a4ae3a810b4cd44e4296f": {
      "model_module": "@jupyter-widgets/controls",
      "model_module_version": "1.5.0",
      "model_name": "DescriptionStyleModel",
      "state": {
       "description_width": ""
      }
     },
     "d19c84addbd1449d84c0ce414fa5ce90": {
      "model_module": "@jupyter-widgets/controls",
      "model_module_version": "1.5.0",
      "model_name": "HBoxModel",
      "state": {
       "children": [
        "IPY_MODEL_d826e48730e24a6ba1c788f74028cd38",
        "IPY_MODEL_ae55b921666945b4aaca133801a9dcea",
        "IPY_MODEL_59b66982325b4afcaaa802366c5f4377"
       ],
       "layout": "IPY_MODEL_43c6323eb3d3406babe1dbae69a053d7"
      }
     },
     "d19d04e7567d4d9395ec5e5efa0be3ae": {
      "model_module": "@jupyter-widgets/controls",
      "model_module_version": "1.5.0",
      "model_name": "ButtonModel",
      "state": {
       "button_style": "warning",
       "description": "Change Status",
       "layout": "IPY_MODEL_bc03d2d352d848ac80ceebc97c35664a",
       "style": "IPY_MODEL_87672a59806f403ea150c7ec8312684c"
      }
     },
     "d1a0d3ba6b7747adbf9f895e6cbf8ef1": {
      "model_module": "@jupyter-widgets/controls",
      "model_module_version": "1.5.0",
      "model_name": "ButtonModel",
      "state": {
       "button_style": "danger",
       "description": "Shutdown",
       "layout": "IPY_MODEL_815470c1772c41d2844aa317ef112dc8",
       "style": "IPY_MODEL_fc697425bdf24196acffdeaec9c576c0"
      }
     },
     "d1a7eac8c992431aa296ce1c78fc9d0f": {
      "model_module": "@jupyter-widgets/base",
      "model_module_version": "1.2.0",
      "model_name": "LayoutModel",
      "state": {}
     },
     "d1b129344c3c42aa8c65b6bd9d7c4539": {
      "model_module": "@jupyter-widgets/controls",
      "model_module_version": "1.5.0",
      "model_name": "ButtonStyleModel",
      "state": {}
     },
     "d1bdb3d3f5ed41bdaf6513852c89c8f7": {
      "model_module": "@jupyter-widgets/base",
      "model_module_version": "1.2.0",
      "model_name": "LayoutModel",
      "state": {
       "width": "auto"
      }
     },
     "d206b47fe4064ab7b6d13d6e64fe9260": {
      "model_module": "@jupyter-widgets/controls",
      "model_module_version": "1.5.0",
      "model_name": "HTMLModel",
      "state": {
       "layout": "IPY_MODEL_c1129382414245eda422161680d51c59",
       "style": "IPY_MODEL_c8eae6ad37534f239a7d5d5f4f2354f7",
       "value": "<h4>What do you want to do?</h4><p>You can send a new command to the device or change it's status between running, paused, and shutdown. </p> "
      }
     },
     "d22f77fff55a423fb7fa56f836383ba0": {
      "model_module": "@jupyter-widgets/controls",
      "model_module_version": "1.5.0",
      "model_name": "HTMLModel",
      "state": {
       "layout": "IPY_MODEL_1eb9fb2ff3c64bbabc6ed828ab4a2a2c",
       "style": "IPY_MODEL_c5fc2a74f1394050af4e37ece437d44b",
       "value": "<h4>What do you want to do?</h4><p>You can send a new command to the device or change it's status between running, paused, and shutdown. </p> "
      }
     },
     "d2fa3bd2d7ae45b0b9765e2bf362c9b6": {
      "model_module": "@jupyter-widgets/base",
      "model_module_version": "1.2.0",
      "model_name": "LayoutModel",
      "state": {}
     },
     "d304930c2f60499fa96bcebc4dfea78d": {
      "model_module": "@jupyter-widgets/controls",
      "model_module_version": "1.5.0",
      "model_name": "HBoxModel",
      "state": {
       "children": [
        "IPY_MODEL_9b2a2fee826d4a0cb911353211119b32",
        "IPY_MODEL_43b5a6c03a2f4d7ba1ced378e5a6dcbb"
       ],
       "layout": "IPY_MODEL_b7443491ab91413ca139f6e2b284b582"
      }
     },
     "d32d482961e047469d4fcedc1e09a67b": {
      "model_module": "@jupyter-widgets/base",
      "model_module_version": "1.2.0",
      "model_name": "LayoutModel",
      "state": {
       "margin": "2px 20px 0 0"
      }
     },
     "d35133dc4ed6452aa186a8b0920a9135": {
      "model_module": "@jupyter-widgets/controls",
      "model_module_version": "1.5.0",
      "model_name": "DescriptionStyleModel",
      "state": {
       "description_width": ""
      }
     },
     "d35f5ac80c774ce7a906e699f510d0e4": {
      "model_module": "@jupyter-widgets/base",
      "model_module_version": "1.2.0",
      "model_name": "LayoutModel",
      "state": {}
     },
     "d386897d99a44656a7601cd35b7138fd": {
      "model_module": "@jupyter-widgets/controls",
      "model_module_version": "1.5.0",
      "model_name": "HBoxModel",
      "state": {
       "children": [
        "IPY_MODEL_3bb6e4ef5fce4f179025f9b02238eae1",
        "IPY_MODEL_21057e20b3594d2a96db999cefc9412a"
       ],
       "layout": "IPY_MODEL_24cc846300f540c39b45c26817baadd2"
      }
     },
     "d38aeb2c5c3247198b7b732185d6f070": {
      "model_module": "@jupyter-widgets/controls",
      "model_module_version": "1.5.0",
      "model_name": "HTMLModel",
      "state": {
       "layout": "IPY_MODEL_33ec9f7341094618a1957080d9771f37",
       "style": "IPY_MODEL_7f9bf50a025941b2805a2c826114be30",
       "value": "<h4>What would you like to do?</h4>"
      }
     },
     "d3b358a0755446a88987be5d16b64e11": {
      "model_module": "@jupyter-widgets/controls",
      "model_module_version": "1.5.0",
      "model_name": "DescriptionStyleModel",
      "state": {
       "description_width": ""
      }
     },
     "d3d6f8e50cd94ab98f5f43b49d957737": {
      "model_module": "@jupyter-widgets/controls",
      "model_module_version": "1.5.0",
      "model_name": "ButtonModel",
      "state": {
       "button_style": "info",
       "icon": "refresh",
       "layout": "IPY_MODEL_6c3b8cff7c654112b03a482f548f4cc5",
       "style": "IPY_MODEL_c6036e9cb488470aa002fa60e0c8ded0"
      }
     },
     "d3da45a3e39c464f8b21b6525a16c7ad": {
      "model_module": "@jupyter-widgets/controls",
      "model_module_version": "1.5.0",
      "model_name": "DescriptionStyleModel",
      "state": {
       "description_width": ""
      }
     },
     "d4338121ac90419eb704b3c828aaa0c5": {
      "model_module": "@jupyter-widgets/controls",
      "model_module_version": "1.5.0",
      "model_name": "DescriptionStyleModel",
      "state": {
       "description_width": ""
      }
     },
     "d4388d7801a34bc1b00e5a17331d580c": {
      "model_module": "@jupyter-widgets/controls",
      "model_module_version": "1.5.0",
      "model_name": "ButtonModel",
      "state": {
       "button_style": "success",
       "description": "Get",
       "layout": "IPY_MODEL_5bcb9d99a23d40518ff51d31c9827be0",
       "style": "IPY_MODEL_aace98b9936547d1a760a7494e71e7a7"
      }
     },
     "d4bb9757a0b04efa9aedc82de3809e33": {
      "model_module": "@jupyter-widgets/controls",
      "model_module_version": "1.5.0",
      "model_name": "ButtonModel",
      "state": {
       "button_style": "warning",
       "description": "Change Status",
       "layout": "IPY_MODEL_5ed8dc11fccf48cda44dedb1791d2ba1",
       "style": "IPY_MODEL_5bd27307147d4f48acc12993593482bf"
      }
     },
     "d4d9b5d57f55465ca7e293cb56cca51e": {
      "model_module": "@jupyter-widgets/base",
      "model_module_version": "1.2.0",
      "model_name": "LayoutModel",
      "state": {}
     },
     "d58b95fd275449698c024d801a83a1b1": {
      "model_module": "@jupyter-widgets/controls",
      "model_module_version": "1.5.0",
      "model_name": "ButtonModel",
      "state": {
       "button_style": "success",
       "description": "Send",
       "layout": "IPY_MODEL_9f18cd85d4cb4cafaecd071507172210",
       "style": "IPY_MODEL_a190478586d24d55a08a4ece247b5397"
      }
     },
     "d59dc05d97e74ffa80459871e5930e29": {
      "model_module": "@jupyter-widgets/base",
      "model_module_version": "1.2.0",
      "model_name": "LayoutModel",
      "state": {}
     },
     "d5bb9078460c4b03a1516125215128df": {
      "model_module": "@jupyter-widgets/controls",
      "model_module_version": "1.5.0",
      "model_name": "ButtonModel",
      "state": {
       "button_style": "warning",
       "description": "Change Status",
       "layout": "IPY_MODEL_33c9842e788f428f803a89089f71ae0a",
       "style": "IPY_MODEL_5ace30c998d341dea2517062ac166150"
      }
     },
     "d5bee4375c2f4f068513fce2e333ffa9": {
      "model_module": "@jupyter-widgets/base",
      "model_module_version": "1.2.0",
      "model_name": "LayoutModel",
      "state": {}
     },
     "d5c87a23b33a46178a049a16e4d288a9": {
      "model_module": "@jupyter-widgets/controls",
      "model_module_version": "1.5.0",
      "model_name": "HTMLModel",
      "state": {
       "layout": "IPY_MODEL_1d9482e34fd04f6c914029e30331c271",
       "style": "IPY_MODEL_7a8f7c65952845f88e05053b0bb1e852",
       "value": "<h3>Select Device to Control</h3><p>Type the name of the device you wish to controle. Example: <code>flow_1</code></p>"
      }
     },
     "d5dbd83340694542a5e6132fca8ac4ed": {
      "model_module": "@jupyter-widgets/controls",
      "model_module_version": "1.5.0",
      "model_name": "DescriptionStyleModel",
      "state": {
       "description_width": ""
      }
     },
     "d63cadf563064dcea47b863a9b222117": {
      "model_module": "@jupyter-widgets/base",
      "model_module_version": "1.2.0",
      "model_name": "LayoutModel",
      "state": {}
     },
     "d6b1e79d215647e2b8d3973037509ad3": {
      "model_module": "@jupyter-widgets/controls",
      "model_module_version": "1.5.0",
      "model_name": "TextModel",
      "state": {
       "description": "Device",
       "layout": "IPY_MODEL_d2fa3bd2d7ae45b0b9765e2bf362c9b6",
       "style": "IPY_MODEL_2f7e3325204a4e00b5abb9ccc82fa04e"
      }
     },
     "d6d9c2a10bcb4b4989970d8826adc9db": {
      "model_module": "@jupyter-widgets/base",
      "model_module_version": "1.2.0",
      "model_name": "LayoutModel",
      "state": {}
     },
     "d6f3e9af785c4978abcfeb446c1e8b39": {
      "model_module": "@jupyter-widgets/controls",
      "model_module_version": "1.5.0",
      "model_name": "DescriptionStyleModel",
      "state": {
       "description_width": ""
      }
     },
     "d6f5c1e688d74ca881d7d8e249efcaa5": {
      "model_module": "@jupyter-widgets/controls",
      "model_module_version": "1.5.0",
      "model_name": "ButtonStyleModel",
      "state": {}
     },
     "d709f8f363cd439aaf9dae7a94f272ea": {
      "model_module": "@jupyter-widgets/controls",
      "model_module_version": "1.5.0",
      "model_name": "ButtonModel",
      "state": {
       "button_style": "info",
       "description": "Send Command",
       "layout": "IPY_MODEL_ada7f2da7ac941b7866738d5bf9dbe87",
       "style": "IPY_MODEL_0d392bda950c4c90aed75f8f801d8fb1"
      }
     },
     "d74f9199b7764ad78578c4a0d02d46a3": {
      "model_module": "@jupyter-widgets/base",
      "model_module_version": "1.2.0",
      "model_name": "LayoutModel",
      "state": {}
     },
     "d7f6cb5137dc450cb8c3e04ab36f0da2": {
      "model_module": "@jupyter-widgets/controls",
      "model_module_version": "1.5.0",
      "model_name": "HTMLModel",
      "state": {
       "layout": "IPY_MODEL_eeb2e3474f5d44fabd1fc801d5f7075c",
       "style": "IPY_MODEL_7a826a7df556414c97643503219f6619",
       "value": "<h4>Status changed to: <font color='green'>Run</font></h4>"
      }
     },
     "d81e1a78fde74cac85dd03e9e5dc9912": {
      "model_module": "@jupyter-widgets/base",
      "model_module_version": "1.2.0",
      "model_name": "LayoutModel",
      "state": {}
     },
     "d822e08252884b1dbbd36c5cd6861515": {
      "model_module": "@jupyter-widgets/base",
      "model_module_version": "1.2.0",
      "model_name": "LayoutModel",
      "state": {}
     },
     "d826e48730e24a6ba1c788f74028cd38": {
      "model_module": "@jupyter-widgets/controls",
      "model_module_version": "1.5.0",
      "model_name": "ButtonModel",
      "state": {
       "button_style": "success",
       "description": "Send Command",
       "layout": "IPY_MODEL_4be124a0df5949798819f8732c0c2ea7",
       "style": "IPY_MODEL_e9d29256cafb42578a79f29ec0f7192b"
      }
     },
     "d8293b57c6e3477e8e78a726ddb115a8": {
      "model_module": "@jupyter-widgets/base",
      "model_module_version": "1.2.0",
      "model_name": "LayoutModel",
      "state": {}
     },
     "d83ab82b01ac4eacbfc54718a706a54d": {
      "model_module": "@jupyter-widgets/controls",
      "model_module_version": "1.5.0",
      "model_name": "ButtonStyleModel",
      "state": {}
     },
     "d83d51c5d8cd4b70b60a800d2209e658": {
      "model_module": "@jupyter-widgets/base",
      "model_module_version": "1.2.0",
      "model_name": "LayoutModel",
      "state": {
       "width": "auto"
      }
     },
     "d87f8b73d9454497920d5022a5f8e373": {
      "model_module": "@jupyter-widgets/base",
      "model_module_version": "1.2.0",
      "model_name": "LayoutModel",
      "state": {
       "width": "auto"
      }
     },
     "d88b7046890f43cb93ee24a08786155d": {
      "model_module": "@jupyter-widgets/base",
      "model_module_version": "1.2.0",
      "model_name": "LayoutModel",
      "state": {}
     },
     "d8a2ea28248d48faadeeb4a6efac6262": {
      "model_module": "@jupyter-widgets/base",
      "model_module_version": "1.2.0",
      "model_name": "LayoutModel",
      "state": {}
     },
     "d8cdeddeb1a040f48e20ea1113fba0de": {
      "model_module": "@jupyter-widgets/base",
      "model_module_version": "1.2.0",
      "model_name": "LayoutModel",
      "state": {}
     },
     "d8dfa08e2f6c45e490d83391c4110de2": {
      "model_module": "@jupyter-widgets/controls",
      "model_module_version": "1.5.0",
      "model_name": "HTMLModel",
      "state": {
       "layout": "IPY_MODEL_dcca9d5da2b943bcbddaa300c09c9795",
       "style": "IPY_MODEL_75f0b2f8c0ef416895ccc4195a6645aa",
       "value": "<h3>Select Devices</h3><p>Type the name of the devices you wish to view.</p><p>Use a comma to seperate them and no spaces! Example: <code>flow_1,pic_1</code></p>"
      }
     },
     "d918159b6c9746da8ba76a6d64181e7f": {
      "model_module": "@jupyter-widgets/base",
      "model_module_version": "1.2.0",
      "model_name": "LayoutModel",
      "state": {}
     },
     "d9bd9de8c68740a7a13c1001caf043e7": {
      "model_module": "@jupyter-widgets/controls",
      "model_module_version": "1.5.0",
      "model_name": "ButtonStyleModel",
      "state": {}
     },
     "d9ccde782813470589ac95f65a4abfab": {
      "model_module": "@jupyter-widgets/controls",
      "model_module_version": "1.5.0",
      "model_name": "DescriptionStyleModel",
      "state": {
       "description_width": ""
      }
     },
     "d9eb16aea7ae4d5c9f16ebeace494097": {
      "model_module": "@jupyter-widgets/controls",
      "model_module_version": "1.5.0",
      "model_name": "VBoxModel",
      "state": {
       "children": [
        "IPY_MODEL_5d06f69e2dc54c23bcf6502fbbb06108",
        "IPY_MODEL_79eecf393bae43259b8e801f518b4647",
        "IPY_MODEL_de95b1e90a82459fa3c7fc14cccf9466"
       ],
       "layout": "IPY_MODEL_bf452b2cfacc4dc7b2a5fc926a3e17cb"
      }
     },
     "d9f2d84da93544c0a380c2e8f4bc218b": {
      "model_module": "@jupyter-widgets/controls",
      "model_module_version": "1.5.0",
      "model_name": "TextModel",
      "state": {
       "description": "Devices",
       "layout": "IPY_MODEL_4329544a588c4a60a4ddff76325ae181",
       "style": "IPY_MODEL_dd52a60910624913a15f989ac670e14a",
       "value": "flow_1"
      }
     },
     "da273d9fc0434d4e95cbbfcd46138bb6": {
      "model_module": "@jupyter-widgets/controls",
      "model_module_version": "1.5.0",
      "model_name": "HTMLModel",
      "state": {
       "layout": "IPY_MODEL_a9c2869338c54383b75e204d42424226",
       "style": "IPY_MODEL_546bdd1e3cfc422dabd75256306cb513",
       "value": "<h4>What do you want to do?</h4><p>You can send a new command to the device or change it's status between running, paused, and shutdown. </p> "
      }
     },
     "da4340f29f354d078020ead48076dc36": {
      "model_module": "@jupyter-widgets/controls",
      "model_module_version": "1.5.0",
      "model_name": "TextModel",
      "state": {
       "description": "Device",
       "layout": "IPY_MODEL_f086eeab5d68460babd8d67f25b76f12",
       "style": "IPY_MODEL_493314bf078f425093bd99d334ef8b94",
       "value": "flow_1"
      }
     },
     "da493a9b57084ab4afc945b5f8cbb8c5": {
      "model_module": "@jupyter-widgets/controls",
      "model_module_version": "1.5.0",
      "model_name": "TextModel",
      "state": {
       "description": "Device",
       "layout": "IPY_MODEL_289913557e1240049904a64c400b12ea",
       "style": "IPY_MODEL_c5a38d0e38a64515a8434c84f0bd8fca",
       "value": "flow_1"
      }
     },
     "da4f12e515a04bd8bd73c88c496eba1b": {
      "model_module": "@jupyter-widgets/controls",
      "model_module_version": "1.5.0",
      "model_name": "ButtonStyleModel",
      "state": {}
     },
     "da519f390056417ca45d72a7fae80258": {
      "model_module": "@jupyter-widgets/controls",
      "model_module_version": "1.5.0",
      "model_name": "DescriptionStyleModel",
      "state": {
       "description_width": ""
      }
     },
     "da79acd4520b4c3883bdecbc53daf377": {
      "model_module": "@jupyter-widgets/controls",
      "model_module_version": "1.5.0",
      "model_name": "HBoxModel",
      "state": {
       "children": [
        "IPY_MODEL_8c45fe57d62446898d44c1ed071d60e7",
        "IPY_MODEL_bd0818da4c7849c4a09663aea44755a3",
        "IPY_MODEL_c430de19966945388e2125f74b2d3d7d"
       ],
       "layout": "IPY_MODEL_2cfef794a3dd4036ad2809f5e71be6e2"
      }
     },
     "da9dbd16ff6241168518818991c318ff": {
      "model_module": "@jupyter-widgets/controls",
      "model_module_version": "1.5.0",
      "model_name": "HTMLModel",
      "state": {
       "layout": "IPY_MODEL_852e02e406c94e969025bf8da19943ef",
       "style": "IPY_MODEL_db718795a30f4b77810cf75280adbd06",
       "value": "<h4>Status changed to: <font color='green'>Run</font></h4>"
      }
     },
     "dab076627fe647199e513549180f7e23": {
      "model_module": "@jupyter-widgets/controls",
      "model_module_version": "1.5.0",
      "model_name": "ButtonStyleModel",
      "state": {}
     },
     "dab5176235984766bc9cfdc4724991ed": {
      "model_module": "@jupyter-widgets/base",
      "model_module_version": "1.2.0",
      "model_name": "LayoutModel",
      "state": {
       "width": "auto"
      }
     },
     "db00eef555b94819a95c6e0d5d4fdeb5": {
      "model_module": "@jupyter-widgets/controls",
      "model_module_version": "1.5.0",
      "model_name": "ButtonModel",
      "state": {
       "button_style": "success",
       "description": "Select",
       "layout": "IPY_MODEL_a15932d979fc441b84cd8bbe704eadc4",
       "style": "IPY_MODEL_eb9b098d1a17402d885748edeebc6007"
      }
     },
     "db0fcee18d7f4bc3a067c10ec1cb6507": {
      "model_module": "@jupyter-widgets/base",
      "model_module_version": "1.2.0",
      "model_name": "LayoutModel",
      "state": {}
     },
     "db4a2ffac4284fdca7a148e86d7f360c": {
      "model_module": "@jupyter-widgets/controls",
      "model_module_version": "1.5.0",
      "model_name": "HBoxModel",
      "state": {
       "children": [
        "IPY_MODEL_2d403d29dbf345e5a9206f67bacbe1e7"
       ],
       "layout": "IPY_MODEL_322255fa6979483a8d9435aae207bdd0"
      }
     },
     "db6b237a33be4e8494c2099800f4b00b": {
      "model_module": "@jupyter-widgets/controls",
      "model_module_version": "1.5.0",
      "model_name": "ButtonModel",
      "state": {
       "button_style": "warning",
       "description": "Change Status",
       "layout": "IPY_MODEL_e2fd923cea174ab99a9e02848a422dea",
       "style": "IPY_MODEL_1595f0e85acf41ccad2ee917c587bda8"
      }
     },
     "db718795a30f4b77810cf75280adbd06": {
      "model_module": "@jupyter-widgets/controls",
      "model_module_version": "1.5.0",
      "model_name": "DescriptionStyleModel",
      "state": {
       "description_width": ""
      }
     },
     "db92d31570244b2c8fcaa43f78d31553": {
      "model_module": "@jupyter-widgets/controls",
      "model_module_version": "1.5.0",
      "model_name": "HTMLModel",
      "state": {
       "layout": "IPY_MODEL_913e8706861c488497b9f91fff8b5576",
       "style": "IPY_MODEL_2bb449148d39483a856b7de6f6ef18ca",
       "value": "<p>2022-06-27 04:58:21 UTC - Run Command: schedule.every().hour.at(\":30\").do(sayHello, name='hourly,30')</p>"
      }
     },
     "db9d284984d841459d7b2e85017c337a": {
      "model_module": "@jupyter-widgets/base",
      "model_module_version": "1.2.0",
      "model_name": "LayoutModel",
      "state": {}
     },
     "dbf8a4079a2a4e12aad4b688015c32a5": {
      "model_module": "@jupyter-widgets/base",
      "model_module_version": "1.2.0",
      "model_name": "LayoutModel",
      "state": {}
     },
     "dc0dab0d977c4f67925fa14a1c5c8f0e": {
      "model_module": "@jupyter-widgets/base",
      "model_module_version": "1.2.0",
      "model_name": "LayoutModel",
      "state": {
       "margin": "2px 20px 0 0"
      }
     },
     "dc7abdc5b6574cbc8f39bdd9e64fceba": {
      "model_module": "@jupyter-widgets/base",
      "model_module_version": "1.2.0",
      "model_name": "LayoutModel",
      "state": {
       "width": "auto"
      }
     },
     "dc7bea9157224d4c820711b8902a6e9f": {
      "model_module": "@jupyter-widgets/controls",
      "model_module_version": "1.5.0",
      "model_name": "ButtonStyleModel",
      "state": {}
     },
     "dc8b0cd5bde843cdb41df3349136a1bb": {
      "model_module": "@jupyter-widgets/base",
      "model_module_version": "1.2.0",
      "model_name": "LayoutModel",
      "state": {
       "margin": "2px 20px 0 0"
      }
     },
     "dcc34930476342a7b432096cb787d13a": {
      "model_module": "@jupyter-widgets/base",
      "model_module_version": "1.2.0",
      "model_name": "LayoutModel",
      "state": {}
     },
     "dcca9d5da2b943bcbddaa300c09c9795": {
      "model_module": "@jupyter-widgets/base",
      "model_module_version": "1.2.0",
      "model_name": "LayoutModel",
      "state": {}
     },
     "dcf3abde6b2245d6a0a72607a978336a": {
      "model_module": "@jupyter-widgets/controls",
      "model_module_version": "1.5.0",
      "model_name": "ButtonStyleModel",
      "state": {}
     },
     "dd01c4039c214d8d94955c5a8d0c3dde": {
      "model_module": "@jupyter-widgets/controls",
      "model_module_version": "1.5.0",
      "model_name": "DescriptionStyleModel",
      "state": {
       "description_width": ""
      }
     },
     "dd17ae9e6a8c4bff9ec0a1289100ac03": {
      "model_module": "@jupyter-widgets/base",
      "model_module_version": "1.2.0",
      "model_name": "LayoutModel",
      "state": {
       "width": "max"
      }
     },
     "dd27f1d4901a4188b79f3a4c10ecf562": {
      "model_module": "@jupyter-widgets/base",
      "model_module_version": "1.2.0",
      "model_name": "LayoutModel",
      "state": {}
     },
     "dd473f062e6f482a8ed56e343c97f53e": {
      "model_module": "@jupyter-widgets/base",
      "model_module_version": "1.2.0",
      "model_name": "LayoutModel",
      "state": {
       "margin": "2px 20px 0 0",
       "width": "auto"
      }
     },
     "dd52a60910624913a15f989ac670e14a": {
      "model_module": "@jupyter-widgets/controls",
      "model_module_version": "1.5.0",
      "model_name": "DescriptionStyleModel",
      "state": {
       "description_width": ""
      }
     },
     "dd55f45c03df414297b5a3b9fc3c8326": {
      "model_module": "@jupyter-widgets/base",
      "model_module_version": "1.2.0",
      "model_name": "LayoutModel",
      "state": {}
     },
     "ddac5fe3296c434bb17673d2018072c9": {
      "model_module": "@jupyter-widgets/base",
      "model_module_version": "1.2.0",
      "model_name": "LayoutModel",
      "state": {}
     },
     "ddbaea0e8b0642219727fe519f10904d": {
      "model_module": "@jupyter-widgets/controls",
      "model_module_version": "1.5.0",
      "model_name": "ButtonStyleModel",
      "state": {}
     },
     "ddbdd1ad06c04a5db29ae7c6fa7830a2": {
      "model_module": "@jupyter-widgets/controls",
      "model_module_version": "1.5.0",
      "model_name": "DescriptionStyleModel",
      "state": {
       "description_width": ""
      }
     },
     "ddd7bdd96a11438ba438ddd83332c4ca": {
      "model_module": "@jupyter-widgets/controls",
      "model_module_version": "1.5.0",
      "model_name": "HBoxModel",
      "state": {
       "children": [
        "IPY_MODEL_134865efe5fd467896797433ca2e7e48",
        "IPY_MODEL_8dd5ec00ffe54b96a767e0ad63ca62cd",
        "IPY_MODEL_d1a0d3ba6b7747adbf9f895e6cbf8ef1",
        "IPY_MODEL_59b66982325b4afcaaa802366c5f4377"
       ],
       "layout": "IPY_MODEL_1b36c71468084557943551a4d6674b39"
      }
     },
     "de0405f9bca8408c8e06b7a346b5c3c8": {
      "model_module": "@jupyter-widgets/controls",
      "model_module_version": "1.5.0",
      "model_name": "DescriptionStyleModel",
      "state": {
       "description_width": ""
      }
     },
     "de6bd23bda634e1eb83802dd9797b96d": {
      "model_module": "@jupyter-widgets/controls",
      "model_module_version": "1.5.0",
      "model_name": "HBoxModel",
      "state": {
       "children": [
        "IPY_MODEL_84903597733b41a8a6a1ed9602a0150c",
        "IPY_MODEL_0fefacd1542d409da2af69af5fe8f927"
       ],
       "layout": "IPY_MODEL_7311feb33cdf41fe89d0162f1b0d8bc3"
      }
     },
     "de95b1e90a82459fa3c7fc14cccf9466": {
      "model_module": "@jupyter-widgets/controls",
      "model_module_version": "1.5.0",
      "model_name": "HBoxModel",
      "state": {
       "children": [
        "IPY_MODEL_aedb91a3b75e4e09b74ec08d47cc1ef6"
       ],
       "layout": "IPY_MODEL_1fda56e50a834f559cb71bb8cb184b7f"
      }
     },
     "de97500917ab40d1a92055380ded6fa0": {
      "model_module": "@jupyter-widgets/controls",
      "model_module_version": "1.5.0",
      "model_name": "ButtonStyleModel",
      "state": {}
     },
     "dee22f64469a49b1a534b49dea2ba6ab": {
      "model_module": "@jupyter-widgets/base",
      "model_module_version": "1.2.0",
      "model_name": "LayoutModel",
      "state": {
       "padding": "0 0 0 20px"
      }
     },
     "df8ab0a9cbcd4512b553e5414452d6b0": {
      "model_module": "@jupyter-widgets/base",
      "model_module_version": "1.2.0",
      "model_name": "LayoutModel",
      "state": {
       "width": "auto"
      }
     },
     "dfa9ef15c15c4c719cf0504e6f3499a4": {
      "model_module": "@jupyter-widgets/base",
      "model_module_version": "1.2.0",
      "model_name": "LayoutModel",
      "state": {}
     },
     "dfb58d7ea93046f2bc468bd4f4f73b60": {
      "model_module": "@jupyter-widgets/base",
      "model_module_version": "1.2.0",
      "model_name": "LayoutModel",
      "state": {
       "width": "auto"
      }
     },
     "dffbc97594f048e2a6b666556cf37cbc": {
      "model_module": "@jupyter-widgets/controls",
      "model_module_version": "1.5.0",
      "model_name": "DescriptionStyleModel",
      "state": {
       "description_width": ""
      }
     },
     "e03ac017f42441418c7e70a5a7166e27": {
      "model_module": "@jupyter-widgets/base",
      "model_module_version": "1.2.0",
      "model_name": "LayoutModel",
      "state": {}
     },
     "e04fbf919dcd427bbad73a0303da8920": {
      "model_module": "@jupyter-widgets/base",
      "model_module_version": "1.2.0",
      "model_name": "LayoutModel",
      "state": {}
     },
     "e051223802144865b13d64017e4d4295": {
      "model_module": "@jupyter-widgets/base",
      "model_module_version": "1.2.0",
      "model_name": "LayoutModel",
      "state": {}
     },
     "e0f1c6e1993d40f19ee9531aca0d1b84": {
      "model_module": "@jupyter-widgets/controls",
      "model_module_version": "1.5.0",
      "model_name": "DescriptionStyleModel",
      "state": {
       "description_width": ""
      }
     },
     "e12a803f5f154d579ec700ac3ac89500": {
      "model_module": "@jupyter-widgets/base",
      "model_module_version": "1.2.0",
      "model_name": "LayoutModel",
      "state": {
       "margin": "2px 20px 0 0"
      }
     },
     "e1335b49bf7f4f1aa100186d2132d609": {
      "model_module": "@jupyter-widgets/controls",
      "model_module_version": "1.5.0",
      "model_name": "HBoxModel",
      "state": {
       "children": [
        "IPY_MODEL_139912fbce3247288e6d160a53ba0fcf",
        "IPY_MODEL_362c3f19ad964adcb5a46dd5a9a42e59"
       ],
       "layout": "IPY_MODEL_17975c5753674a8995e69d35a0ddf471"
      }
     },
     "e1677da7cf0c422bbe3d08873d7ee624": {
      "model_module": "@jupyter-widgets/controls",
      "model_module_version": "1.5.0",
      "model_name": "ButtonStyleModel",
      "state": {}
     },
     "e18f66e60b7449cdbfe028eda8e2bf21": {
      "model_module": "@jupyter-widgets/base",
      "model_module_version": "1.2.0",
      "model_name": "LayoutModel",
      "state": {}
     },
     "e190c31a22c1498b92f2d9cfab01aa7d": {
      "model_module": "@jupyter-widgets/controls",
      "model_module_version": "1.5.0",
      "model_name": "TextModel",
      "state": {
       "description": "Device",
       "layout": "IPY_MODEL_f7c9451faca34a49be20cd3f497b7bd2",
       "style": "IPY_MODEL_b8e0441b61154caba4b381cf2610ee66",
       "value": "flow_1"
      }
     },
     "e19c97cf5c5f4f9e823c99a44b783960": {
      "model_module": "@jupyter-widgets/controls",
      "model_module_version": "1.5.0",
      "model_name": "ButtonStyleModel",
      "state": {}
     },
     "e1cd514b7fbf4aa682476191b58230ff": {
      "model_module": "@jupyter-widgets/controls",
      "model_module_version": "1.5.0",
      "model_name": "ButtonModel",
      "state": {
       "button_style": "success",
       "description": "Send Command",
       "layout": "IPY_MODEL_776b0719f5d34327b69a5f8b8cc33d91",
       "style": "IPY_MODEL_d9bd9de8c68740a7a13c1001caf043e7"
      }
     },
     "e24186d383a942b9a0f42ce2af6e1eb7": {
      "model_module": "@jupyter-widgets/base",
      "model_module_version": "1.2.0",
      "model_name": "LayoutModel",
      "state": {}
     },
     "e24522b9489a40e1a459e0898a1a322a": {
      "model_module": "@jupyter-widgets/controls",
      "model_module_version": "1.5.0",
      "model_name": "ButtonModel",
      "state": {
       "button_style": "success",
       "description": "Draw",
       "layout": "IPY_MODEL_ea4847c710b54367b644307f56dfa490",
       "style": "IPY_MODEL_d83ab82b01ac4eacbfc54718a706a54d"
      }
     },
     "e255e83a313445a695bf8b7d7dd1b4b7": {
      "model_module": "@jupyter-widgets/controls",
      "model_module_version": "1.5.0",
      "model_name": "HBoxModel",
      "state": {
       "children": [
        "IPY_MODEL_7cbfb77d01fb47eebc85b7c094ae783b",
        "IPY_MODEL_522add6181f842eb991d7a7267a7a809"
       ],
       "layout": "IPY_MODEL_407f69a3acbe496cae12dfc8a80b46ea"
      }
     },
     "e2a630cd1d93403982b04897b4fb6f28": {
      "model_module": "@jupyter-widgets/controls",
      "model_module_version": "1.5.0",
      "model_name": "ButtonStyleModel",
      "state": {}
     },
     "e2b10004d8654c529ac88f293c0cb37c": {
      "model_module": "@jupyter-widgets/base",
      "model_module_version": "1.2.0",
      "model_name": "LayoutModel",
      "state": {}
     },
     "e2b49bc9b7af4d21aafe947c7d38d4ed": {
      "model_module": "@jupyter-widgets/base",
      "model_module_version": "1.2.0",
      "model_name": "LayoutModel",
      "state": {}
     },
     "e2bfcebf253a4cee81858cb832bf3c5d": {
      "model_module": "@jupyter-widgets/base",
      "model_module_version": "1.2.0",
      "model_name": "LayoutModel",
      "state": {
       "width": "750px"
      }
     },
     "e2fd923cea174ab99a9e02848a422dea": {
      "model_module": "@jupyter-widgets/base",
      "model_module_version": "1.2.0",
      "model_name": "LayoutModel",
      "state": {
       "width": "auto"
      }
     },
     "e3752bda8aae45bbb5743a7baebcbf0f": {
      "model_module": "@jupyter-widgets/base",
      "model_module_version": "1.2.0",
      "model_name": "LayoutModel",
      "state": {}
     },
     "e3a6f7f16dd6404b9e84f3e62d94462e": {
      "model_module": "@jupyter-widgets/controls",
      "model_module_version": "1.5.0",
      "model_name": "ButtonStyleModel",
      "state": {}
     },
     "e3fe63e5ff9c4091aed25a900ebd3344": {
      "model_module": "@jupyter-widgets/base",
      "model_module_version": "1.2.0",
      "model_name": "LayoutModel",
      "state": {}
     },
     "e4671ac149ba4719acffe97de89c2c86": {
      "model_module": "@jupyter-widgets/controls",
      "model_module_version": "1.5.0",
      "model_name": "DescriptionStyleModel",
      "state": {
       "description_width": ""
      }
     },
     "e4d8f5619ca7484988de6236e46ec541": {
      "model_module": "@jupyter-widgets/controls",
      "model_module_version": "1.5.0",
      "model_name": "ButtonStyleModel",
      "state": {}
     },
     "e4dd99e6d52c44dbaa10593bc3d29942": {
      "model_module": "@jupyter-widgets/controls",
      "model_module_version": "1.5.0",
      "model_name": "ButtonStyleModel",
      "state": {}
     },
     "e5be57c0bfb345a78dbd0b07f3b681fa": {
      "model_module": "@jupyter-widgets/base",
      "model_module_version": "1.2.0",
      "model_name": "LayoutModel",
      "state": {}
     },
     "e5cf384cb9034fa0824130e8c0fec51c": {
      "model_module": "@jupyter-widgets/controls",
      "model_module_version": "1.5.0",
      "model_name": "ButtonModel",
      "state": {
       "button_style": "info",
       "icon": "refresh",
       "layout": "IPY_MODEL_b9e612b1632848e1960182dd09a775d8",
       "style": "IPY_MODEL_c70742b12b864333acb3745828417fe1"
      }
     },
     "e62b87ccd45942ddac1b36c7282f05cc": {
      "model_module": "@jupyter-widgets/controls",
      "model_module_version": "1.5.0",
      "model_name": "HTMLModel",
      "state": {
       "layout": "IPY_MODEL_671db6f3587e42ff828650f2892d050f",
       "style": "IPY_MODEL_b10d76e7f9c142d9a63f8ba7cb0abd9b",
       "value": "<h3>Select Devices</h3><p>Type the name of the devices you wish to view.</p><p>Use a comma to seperate them and no spaces! Example: <code>flow_1,pic_1</code></p>"
      }
     },
     "e65436df5e6d4ff0a7edc463703efb52": {
      "model_module": "@jupyter-widgets/controls",
      "model_module_version": "1.5.0",
      "model_name": "DescriptionStyleModel",
      "state": {
       "description_width": ""
      }
     },
     "e662402c560a4bc9805239573008551f": {
      "model_module": "@jupyter-widgets/controls",
      "model_module_version": "1.5.0",
      "model_name": "DescriptionStyleModel",
      "state": {
       "description_width": ""
      }
     },
     "e69d13e29de3497290b3e274e0e3d506": {
      "model_module": "@jupyter-widgets/controls",
      "model_module_version": "1.5.0",
      "model_name": "HTMLModel",
      "state": {
       "layout": "IPY_MODEL_a4b904149cf343b7bf433b667ee620c9",
       "style": "IPY_MODEL_af0b7124f63c4354b7841e29f3be2bbd",
       "value": "<h4>Current flow_1 status: <font color='green'>shutdown</font> </h4><p>User the buttons below to change the status</p>"
      }
     },
     "e6a84455bf0b457b86e9e434b1e45606": {
      "model_module": "@jupyter-widgets/controls",
      "model_module_version": "1.5.0",
      "model_name": "ButtonStyleModel",
      "state": {}
     },
     "e6cd98809931475c8c6bd2304c8dbc78": {
      "model_module": "@jupyter-widgets/base",
      "model_module_version": "1.2.0",
      "model_name": "LayoutModel",
      "state": {}
     },
     "e6f2ed8e40904f39b0ec8f14dd45c28f": {
      "model_module": "@jupyter-widgets/controls",
      "model_module_version": "1.5.0",
      "model_name": "ButtonStyleModel",
      "state": {}
     },
     "e71423af6a994903b17ba4fa76b2fcc6": {
      "model_module": "@jupyter-widgets/controls",
      "model_module_version": "1.5.0",
      "model_name": "VBoxModel",
      "state": {
       "children": [
        "IPY_MODEL_49c4b9f5f35142e3afb1e220600268c5",
        "IPY_MODEL_a9b50e72ccdf4730a5220e010b25df30"
       ],
       "layout": "IPY_MODEL_e5be57c0bfb345a78dbd0b07f3b681fa"
      }
     },
     "e71df95b291c47889b362879ca82ae91": {
      "model_module": "@jupyter-widgets/controls",
      "model_module_version": "1.5.0",
      "model_name": "HBoxModel",
      "state": {
       "children": [
        "IPY_MODEL_da4340f29f354d078020ead48076dc36",
        "IPY_MODEL_9950a458197d4dda8de51f6d0fad969a"
       ],
       "layout": "IPY_MODEL_60cbde619b334bd3b2aac24f54e7bafc"
      }
     },
     "e72932c9851b4271b0691e09ca6b405c": {
      "model_module": "@jupyter-widgets/controls",
      "model_module_version": "1.5.0",
      "model_name": "HTMLModel",
      "state": {
       "layout": "IPY_MODEL_439b9f85c13f40cca596a0e8973574f5",
       "style": "IPY_MODEL_4256e6237f3d440fb4c82626d9d6fe3c",
       "value": "Job 0: Every 1 hour at 00:00:00 do sayHello(name='hourly,00') (last run: 2022-06-26 23:00:00, next run: 2022-06-27 00:00:00)"
      }
     },
     "e763ca46cbf44412a7692f803b34ad20": {
      "model_module": "@jupyter-widgets/controls",
      "model_module_version": "1.5.0",
      "model_name": "ButtonStyleModel",
      "state": {}
     },
     "e771ac7053814c6ba90852108be2797d": {
      "model_module": "@jupyter-widgets/controls",
      "model_module_version": "1.5.0",
      "model_name": "TextModel",
      "state": {
       "description": "Device",
       "layout": "IPY_MODEL_ac27f92d07b34b179170bfdfd6adb0c6",
       "style": "IPY_MODEL_a92f67d2376245c6b11b74b023b56850"
      }
     },
     "e7975a70d18f4f94a055acafb250d3a4": {
      "model_module": "@jupyter-widgets/controls",
      "model_module_version": "1.5.0",
      "model_name": "ButtonStyleModel",
      "state": {}
     },
     "e7ee6a42a22e417394e03880c4a99511": {
      "model_module": "@jupyter-widgets/controls",
      "model_module_version": "1.5.0",
      "model_name": "ButtonModel",
      "state": {
       "button_style": "info",
       "icon": "refresh",
       "layout": "IPY_MODEL_727113196c024201852deb91ba0e6fee",
       "style": "IPY_MODEL_d14c215ef2d44690a3342f23b7438296"
      }
     },
     "e81ede5fa57a431eb756949fe9ad8005": {
      "model_module": "@jupyter-widgets/controls",
      "model_module_version": "1.5.0",
      "model_name": "ButtonModel",
      "state": {
       "button_style": "success",
       "description": "Select",
       "layout": "IPY_MODEL_b8e894dda1c1414088cd7bedce4b6a81",
       "style": "IPY_MODEL_8e4a347a458d4233b77f192ce6ca10cc"
      }
     },
     "e84ce1878aea4e1ca0955e26783eb9bd": {
      "model_module": "@jupyter-widgets/base",
      "model_module_version": "1.2.0",
      "model_name": "LayoutModel",
      "state": {}
     },
     "e851b0564dc146da9492038ab0f9fa1c": {
      "model_module": "@jupyter-widgets/base",
      "model_module_version": "1.2.0",
      "model_name": "LayoutModel",
      "state": {
       "margin": "2px 50px 0 0",
       "width": "auto"
      }
     },
     "e867587899634fc79e6be5e8bb45f463": {
      "model_module": "@jupyter-widgets/base",
      "model_module_version": "1.2.0",
      "model_name": "LayoutModel",
      "state": {}
     },
     "e86b2b82e74046acac8bef5a4cd4fe79": {
      "model_module": "@jupyter-widgets/controls",
      "model_module_version": "1.5.0",
      "model_name": "HBoxModel",
      "state": {
       "children": [
        "IPY_MODEL_3321e886dae24ff286b36ccf28fd51af",
        "IPY_MODEL_a531b209592d4f62b2dd4bafb1aa36de"
       ],
       "layout": "IPY_MODEL_93a7d802ee494accab4083c5d4dbe502"
      }
     },
     "e86f0ee96562480a83e3fe724266c296": {
      "model_module": "@jupyter-widgets/controls",
      "model_module_version": "1.5.0",
      "model_name": "ButtonModel",
      "state": {
       "button_style": "success",
       "description": "Run",
       "layout": "IPY_MODEL_1fd4b1771a9447ee955c1c58d5492e4a",
       "style": "IPY_MODEL_c5477542b1a0416d88b8c9f540d1a216"
      }
     },
     "e8861256c9c545b2a81a35ce584f5633": {
      "model_module": "@jupyter-widgets/controls",
      "model_module_version": "1.5.0",
      "model_name": "ButtonModel",
      "state": {
       "button_style": "warning",
       "description": "Change Status",
       "layout": "IPY_MODEL_caa51095398b43b1a46f2ff4d6dfd555",
       "style": "IPY_MODEL_5b4721df916c47b0ae257a160d12d36d"
      }
     },
     "e895f0b43f7f4a09a5124f962bccd53c": {
      "model_module": "@jupyter-widgets/controls",
      "model_module_version": "1.5.0",
      "model_name": "TextModel",
      "state": {
       "description": "Command",
       "layout": "IPY_MODEL_e2bfcebf253a4cee81858cb832bf3c5d",
       "style": "IPY_MODEL_529252e3bd094918b62ec4bb640568c2",
       "value": "print(\"hello\")"
      }
     },
     "e8ce9d7c561046dea4c3a5ef2621cec6": {
      "model_module": "@jupyter-widgets/base",
      "model_module_version": "1.2.0",
      "model_name": "LayoutModel",
      "state": {}
     },
     "e90da67b762f49fdaa30b9c0c5d16ea6": {
      "model_module": "@jupyter-widgets/controls",
      "model_module_version": "1.5.0",
      "model_name": "ButtonStyleModel",
      "state": {}
     },
     "e943038c988c45fbab83a810669970a7": {
      "model_module": "@jupyter-widgets/base",
      "model_module_version": "1.2.0",
      "model_name": "LayoutModel",
      "state": {
       "width": "750px"
      }
     },
     "e94f86259f6c4b6697e66b739121d53a": {
      "model_module": "@jupyter-widgets/base",
      "model_module_version": "1.2.0",
      "model_name": "LayoutModel",
      "state": {
       "width": "auto"
      }
     },
     "e9572f9faaea46dd8b43416637243074": {
      "model_module": "@jupyter-widgets/base",
      "model_module_version": "1.2.0",
      "model_name": "LayoutModel",
      "state": {}
     },
     "e960196866f540bdaac0855d289d65d3": {
      "model_module": "@jupyter-widgets/base",
      "model_module_version": "1.2.0",
      "model_name": "LayoutModel",
      "state": {
       "width": "auto"
      }
     },
     "e9c0864d56624a6db8d46a2b2ed91061": {
      "model_module": "@jupyter-widgets/base",
      "model_module_version": "1.2.0",
      "model_name": "LayoutModel",
      "state": {
       "margin": "2px 20px 0 0"
      }
     },
     "e9d29256cafb42578a79f29ec0f7192b": {
      "model_module": "@jupyter-widgets/controls",
      "model_module_version": "1.5.0",
      "model_name": "ButtonStyleModel",
      "state": {}
     },
     "e9e9470309424cebb253b7aa51c06c1e": {
      "model_module": "@jupyter-widgets/controls",
      "model_module_version": "1.5.0",
      "model_name": "ButtonModel",
      "state": {
       "button_style": "success",
       "description": "Send Command",
       "layout": "IPY_MODEL_8626b3088d6447bda2c25b5788b11815",
       "style": "IPY_MODEL_0a2cba869b074ddeaffd777b7af4ce04"
      }
     },
     "ea210d33b024409eb7adb434718f8b32": {
      "model_module": "@jupyter-widgets/controls",
      "model_module_version": "1.5.0",
      "model_name": "ButtonStyleModel",
      "state": {}
     },
     "ea2c601cf1e1449a8e080e33653071f6": {
      "model_module": "@jupyter-widgets/controls",
      "model_module_version": "1.5.0",
      "model_name": "HBoxModel",
      "state": {
       "children": [
        "IPY_MODEL_4bd8514caebd42f1a0d57c7f464eb6d4",
        "IPY_MODEL_58bdb8bd819644c09e5a53449571ad6c"
       ],
       "layout": "IPY_MODEL_ed4f7a0006b04341b3ef641666799e3b"
      }
     },
     "ea4847c710b54367b644307f56dfa490": {
      "model_module": "@jupyter-widgets/base",
      "model_module_version": "1.2.0",
      "model_name": "LayoutModel",
      "state": {
       "width": "auto"
      }
     },
     "ea8a79beed02413c9bcf8972b055f8f0": {
      "model_module": "@jupyter-widgets/controls",
      "model_module_version": "1.5.0",
      "model_name": "ButtonModel",
      "state": {
       "button_style": "warning",
       "description": "Change Status",
       "layout": "IPY_MODEL_02b339e95f4a4015bf12061d3b6dcdd4",
       "style": "IPY_MODEL_286197c7788f47748733d6e9a8f0d9e2"
      }
     },
     "eaa2a793149c43eaaa42c837568dab42": {
      "model_module": "@jupyter-widgets/controls",
      "model_module_version": "1.5.0",
      "model_name": "DescriptionStyleModel",
      "state": {
       "description_width": ""
      }
     },
     "eabcb6d211144688a668a3eab7c0da15": {
      "model_module": "@jupyter-widgets/base",
      "model_module_version": "1.2.0",
      "model_name": "LayoutModel",
      "state": {}
     },
     "eac171d49e6a4206a3dd261ad339806a": {
      "model_module": "@jupyter-widgets/base",
      "model_module_version": "1.2.0",
      "model_name": "LayoutModel",
      "state": {}
     },
     "eb34dd855f0445b5b93afacdc9e8a391": {
      "model_module": "@jupyter-widgets/controls",
      "model_module_version": "1.5.0",
      "model_name": "HBoxModel",
      "state": {
       "children": [
        "IPY_MODEL_34bad31bd8a0447496b66b1a14f78dee",
        "IPY_MODEL_50c5307596d249c2af74e9d845964c45"
       ],
       "layout": "IPY_MODEL_880ce966d1b941a587d89c60af016276"
      }
     },
     "eb9b098d1a17402d885748edeebc6007": {
      "model_module": "@jupyter-widgets/controls",
      "model_module_version": "1.5.0",
      "model_name": "ButtonStyleModel",
      "state": {}
     },
     "eb9dbfa154b74e109b84c09754151bfa": {
      "model_module": "@jupyter-widgets/controls",
      "model_module_version": "1.5.0",
      "model_name": "ButtonStyleModel",
      "state": {}
     },
     "ebc90c8572ce499591ce4e8f37b5660d": {
      "model_module": "@jupyter-widgets/controls",
      "model_module_version": "1.5.0",
      "model_name": "HBoxModel",
      "state": {
       "children": [
        "IPY_MODEL_05143503a80e40ebb730ddcae830b8da",
        "IPY_MODEL_0644c3d1df904f978a70716197732152"
       ],
       "layout": "IPY_MODEL_cbf3040006bc441b99dea97cb0bd7608"
      }
     },
     "ebfbee42fe4b4471b13959d094979ec5": {
      "model_module": "@jupyter-widgets/controls",
      "model_module_version": "1.5.0",
      "model_name": "ButtonModel",
      "state": {
       "button_style": "success",
       "description": "Run",
       "layout": "IPY_MODEL_15ebcf9db3664e84a5c6187f7c4e2130",
       "style": "IPY_MODEL_d6f5c1e688d74ca881d7d8e249efcaa5"
      }
     },
     "ec24994be0e3467ab6e3f113856e1de4": {
      "model_module": "@jupyter-widgets/base",
      "model_module_version": "1.2.0",
      "model_name": "LayoutModel",
      "state": {}
     },
     "ec38222f59b643fcace2296ccd596743": {
      "model_module": "@jupyter-widgets/controls",
      "model_module_version": "1.5.0",
      "model_name": "ButtonStyleModel",
      "state": {}
     },
     "ec8709a35c934fa28d2a98f0f766b53d": {
      "model_module": "@jupyter-widgets/controls",
      "model_module_version": "1.5.0",
      "model_name": "VBoxModel",
      "state": {
       "children": [
        "IPY_MODEL_5a3d7c9704a94f1193d8beb5d4fbccf0",
        "IPY_MODEL_a82efc8e85db4a13b18f5c6df12d556a"
       ],
       "layout": "IPY_MODEL_d8cdeddeb1a040f48e20ea1113fba0de"
      }
     },
     "ecaaf410f25e4360b66c5e22cc6b5050": {
      "model_module": "@jupyter-widgets/base",
      "model_module_version": "1.2.0",
      "model_name": "LayoutModel",
      "state": {}
     },
     "ecbe859d58ea49cb9bf797446df0af47": {
      "model_module": "@jupyter-widgets/base",
      "model_module_version": "1.2.0",
      "model_name": "LayoutModel",
      "state": {
       "width": "auto"
      }
     },
     "ed0315dceee44ae1a967f1014b27adb8": {
      "model_module": "@jupyter-widgets/controls",
      "model_module_version": "1.5.0",
      "model_name": "VBoxModel",
      "state": {
       "children": [
        "IPY_MODEL_67e8e39f9ada4c1b8ccd6afc35290000",
        "IPY_MODEL_cbbc3a6b5caa4e578d8f0bed02d2a241"
       ],
       "layout": "IPY_MODEL_60ab0be65eaf43bd98214d334f771f9d"
      }
     },
     "ed03e519661e424e953bef0a1aed3f50": {
      "model_module": "@jupyter-widgets/base",
      "model_module_version": "1.2.0",
      "model_name": "LayoutModel",
      "state": {}
     },
     "ed410eb292214fd2aedd11b2d2c7a984": {
      "model_module": "@jupyter-widgets/base",
      "model_module_version": "1.2.0",
      "model_name": "LayoutModel",
      "state": {}
     },
     "ed4f7a0006b04341b3ef641666799e3b": {
      "model_module": "@jupyter-widgets/base",
      "model_module_version": "1.2.0",
      "model_name": "LayoutModel",
      "state": {}
     },
     "edd5d8134a05419d889eff9dfdb2dba0": {
      "model_module": "@jupyter-widgets/base",
      "model_module_version": "1.2.0",
      "model_name": "LayoutModel",
      "state": {}
     },
     "ee1b6cbbfbef4fc9b765db0a32a9333c": {
      "model_module": "@jupyter-widgets/controls",
      "model_module_version": "1.5.0",
      "model_name": "HTMLModel",
      "state": {
       "layout": "IPY_MODEL_1b9bd31a7c264afda3afebd18351b71d",
       "style": "IPY_MODEL_b1cec78e00354c36977d8e3ee5c52a35",
       "value": "<h3>Select Device to Control</h3><p>Type the name of the device you wish to controle. Example: <code>flow_1</code></p>"
      }
     },
     "ee1f077a15234e32831f6ff6ced83ccf": {
      "model_module": "@jupyter-widgets/base",
      "model_module_version": "1.2.0",
      "model_name": "LayoutModel",
      "state": {}
     },
     "ee3a2d1900c9479da6739e00be6aab2e": {
      "model_module": "@jupyter-widgets/controls",
      "model_module_version": "1.5.0",
      "model_name": "DescriptionStyleModel",
      "state": {
       "description_width": ""
      }
     },
     "ee645ca268a0474486397dfb37bb2355": {
      "model_module": "@jupyter-widgets/base",
      "model_module_version": "1.2.0",
      "model_name": "LayoutModel",
      "state": {
       "margin": "2px 20px 0 0",
       "width": "auto"
      }
     },
     "eeb2e3474f5d44fabd1fc801d5f7075c": {
      "model_module": "@jupyter-widgets/base",
      "model_module_version": "1.2.0",
      "model_name": "LayoutModel",
      "state": {}
     },
     "eec5e1f69b524dd9bd0976dc68b727cf": {
      "model_module": "@jupyter-widgets/controls",
      "model_module_version": "1.5.0",
      "model_name": "HBoxModel",
      "state": {
       "children": [
        "IPY_MODEL_ebfbee42fe4b4471b13959d094979ec5",
        "IPY_MODEL_7ffa6c9e374d43e39b36bacb733f237b",
        "IPY_MODEL_5d4875e7aa564114847b96f19dd1a431",
        "IPY_MODEL_a175a57c8f3f42d691ea505455eadf6d"
       ],
       "layout": "IPY_MODEL_99b8dcffa52b48029a67ac1df49ae034"
      }
     },
     "eed4b18ee2a44ddabad49f2a33a7b8af": {
      "model_module": "@jupyter-widgets/controls",
      "model_module_version": "1.5.0",
      "model_name": "ButtonStyleModel",
      "state": {}
     },
     "ef1560c7f91c4a26b59d77d9cbc3e1de": {
      "model_module": "@jupyter-widgets/controls",
      "model_module_version": "1.5.0",
      "model_name": "DescriptionStyleModel",
      "state": {
       "description_width": ""
      }
     },
     "ef15c14501374120977fd4d40cb0667b": {
      "model_module": "@jupyter-widgets/base",
      "model_module_version": "1.2.0",
      "model_name": "LayoutModel",
      "state": {}
     },
     "ef459abd93d849a385ccb740db02288f": {
      "model_module": "@jupyter-widgets/controls",
      "model_module_version": "1.5.0",
      "model_name": "ButtonModel",
      "state": {
       "button_style": "success",
       "description": "Get",
       "layout": "IPY_MODEL_54f3e54d63174be6995d432ecf72c0fd",
       "style": "IPY_MODEL_35091657dfa84636b53391774dda5861"
      }
     },
     "ef62f9728e3d40cd8c56247947755a57": {
      "model_module": "@jupyter-widgets/controls",
      "model_module_version": "1.5.0",
      "model_name": "HBoxModel",
      "state": {
       "children": [
        "IPY_MODEL_519adc0211f349639012ae3852318fb7",
        "IPY_MODEL_9654c2c54f7b48a4a3255d5c9662c425"
       ],
       "layout": "IPY_MODEL_70c1b041c52c4a7bb78f0776c3c9f530"
      }
     },
     "efcfdeacd52646c6a3e07d8cdf15d130": {
      "model_module": "@jupyter-widgets/controls",
      "model_module_version": "1.5.0",
      "model_name": "HTMLModel",
      "state": {
       "layout": "IPY_MODEL_1127f9b7c03e4f389c7fef07e43d9037",
       "style": "IPY_MODEL_12a4f278b450457c90db4f3a57006528",
       "value": "<h4>Status changed to: <font color='green'>Shtudown</font></h4>"
      }
     },
     "f01c5a03edb04d15a8c6a1e91aedbba1": {
      "model_module": "@jupyter-widgets/controls",
      "model_module_version": "1.5.0",
      "model_name": "HTMLModel",
      "state": {
       "layout": "IPY_MODEL_bab975d777bc4fa28a23063a73a7b8ab",
       "style": "IPY_MODEL_4197ef04a4f34fb69f805113652261a0",
       "value": "<h3>What would you like to do?</h3>"
      }
     },
     "f020f77728ca415ea2f65f722f558072": {
      "model_module": "@jupyter-widgets/controls",
      "model_module_version": "1.5.0",
      "model_name": "ButtonStyleModel",
      "state": {}
     },
     "f07646560a174108849f15c7f42822ca": {
      "model_module": "@jupyter-widgets/controls",
      "model_module_version": "1.5.0",
      "model_name": "VBoxModel",
      "state": {
       "children": [
        "IPY_MODEL_a09f734dd114451383b4926d6c2e3929",
        "IPY_MODEL_e1335b49bf7f4f1aa100186d2132d609"
       ],
       "layout": "IPY_MODEL_f5535d5967ce4c7fbded7c4e178321a0"
      }
     },
     "f086eeab5d68460babd8d67f25b76f12": {
      "model_module": "@jupyter-widgets/base",
      "model_module_version": "1.2.0",
      "model_name": "LayoutModel",
      "state": {}
     },
     "f08cfbb10f8b424e8995d5b066f3b38b": {
      "model_module": "@jupyter-widgets/controls",
      "model_module_version": "1.5.0",
      "model_name": "ButtonModel",
      "state": {
       "button_style": "info",
       "icon": "refresh",
       "layout": "IPY_MODEL_f69f7376fa864ca4a596fb8b10d449dc",
       "style": "IPY_MODEL_c137d9e970f84df893015074facdfdf7"
      }
     },
     "f08d5514381e42b4b03e586f08f193fb": {
      "model_module": "@jupyter-widgets/controls",
      "model_module_version": "1.5.0",
      "model_name": "ButtonStyleModel",
      "state": {}
     },
     "f08dcdee00154659a332b786e8a8709e": {
      "model_module": "@jupyter-widgets/controls",
      "model_module_version": "1.5.0",
      "model_name": "HTMLModel",
      "state": {
       "layout": "IPY_MODEL_a22ffc3d88854cf0b515b08ae7065549",
       "style": "IPY_MODEL_ae42c3706ca54077a387c5b6943b56db",
       "value": "<h4>What do you want to do?</h4><p>You can send a new command to the device or change it's status between running, paused, and shutdown. </p> "
      }
     },
     "f0a7f05af6dd4af59111dd83954b613e": {
      "model_module": "@jupyter-widgets/controls",
      "model_module_version": "1.5.0",
      "model_name": "DescriptionStyleModel",
      "state": {
       "description_width": ""
      }
     },
     "f0b7cfd44cf74bff93c1be14711305ec": {
      "model_module": "@jupyter-widgets/controls",
      "model_module_version": "1.5.0",
      "model_name": "DescriptionStyleModel",
      "state": {
       "description_width": ""
      }
     },
     "f0bbded7ae22472c8079e67ac0689106": {
      "model_module": "@jupyter-widgets/controls",
      "model_module_version": "1.5.0",
      "model_name": "HTMLModel",
      "state": {
       "layout": "IPY_MODEL_8194b4987c144bd286e35d4282389d66",
       "style": "IPY_MODEL_fc9f112b8ef6474a9e61bba65c931103",
       "value": "<p>2022-06-27 04:58:21 UTC - Run Command: schedule.every().hour.at(\":00\").do(sayHello, name='hourly,00')</p>"
      }
     },
     "f0db2c8381e44528ae8031e321b2cc4d": {
      "model_module": "@jupyter-widgets/base",
      "model_module_version": "1.2.0",
      "model_name": "LayoutModel",
      "state": {
       "margin": "2px 20px 0 0"
      }
     },
     "f0eb4b14ecb44d8e999c92cb3e1513db": {
      "model_module": "@jupyter-widgets/base",
      "model_module_version": "1.2.0",
      "model_name": "LayoutModel",
      "state": {}
     },
     "f0fd3dc99d4f4dd188d85f0aef6ec799": {
      "model_module": "@jupyter-widgets/controls",
      "model_module_version": "1.5.0",
      "model_name": "DescriptionStyleModel",
      "state": {
       "description_width": ""
      }
     },
     "f0feba16fd3149d0ade19dad1e124c72": {
      "model_module": "@jupyter-widgets/controls",
      "model_module_version": "1.5.0",
      "model_name": "ButtonStyleModel",
      "state": {}
     },
     "f136ea1c94024f3a8b4a060576c9fddd": {
      "model_module": "@jupyter-widgets/controls",
      "model_module_version": "1.5.0",
      "model_name": "VBoxModel",
      "state": {
       "children": [
        "IPY_MODEL_fe095539a97040b6a7fcfc5548da7603",
        "IPY_MODEL_7781fce1ed1143a8ad2562ee418ffc12"
       ],
       "layout": "IPY_MODEL_5abd614b7ecc45238c515540e11f376b"
      }
     },
     "f1ca4d28b7454443867100008a81b95f": {
      "model_module": "@jupyter-widgets/base",
      "model_module_version": "1.2.0",
      "model_name": "LayoutModel",
      "state": {}
     },
     "f23312338dec42898b14899041770e5c": {
      "model_module": "@jupyter-widgets/base",
      "model_module_version": "1.2.0",
      "model_name": "LayoutModel",
      "state": {}
     },
     "f26d578c107946d9a14e7799383945be": {
      "model_module": "@jupyter-widgets/controls",
      "model_module_version": "1.5.0",
      "model_name": "DescriptionStyleModel",
      "state": {
       "description_width": ""
      }
     },
     "f27764dc253542f5ab4f7ba0989186b3": {
      "model_module": "@jupyter-widgets/base",
      "model_module_version": "1.2.0",
      "model_name": "LayoutModel",
      "state": {}
     },
     "f288d5cbae0d42128dc41e3fc6e26608": {
      "model_module": "@jupyter-widgets/controls",
      "model_module_version": "1.5.0",
      "model_name": "ButtonModel",
      "state": {
       "button_style": "warning",
       "description": "Change Status",
       "layout": "IPY_MODEL_0bc24f0a3b17479f89fd256bd76fd08d",
       "style": "IPY_MODEL_7edafaebef034deca1d33c273041bfa7"
      }
     },
     "f2a0d8a344c54ae89235135272b30394": {
      "model_module": "@jupyter-widgets/controls",
      "model_module_version": "1.5.0",
      "model_name": "ButtonStyleModel",
      "state": {}
     },
     "f2a25e0c2e2849a691f60651b6748de7": {
      "model_module": "@jupyter-widgets/base",
      "model_module_version": "1.2.0",
      "model_name": "LayoutModel",
      "state": {
       "width": "auto"
      }
     },
     "f2e41a3247124a308a371c5aa94621b1": {
      "model_module": "@jupyter-widgets/controls",
      "model_module_version": "1.5.0",
      "model_name": "HTMLModel",
      "state": {
       "layout": "IPY_MODEL_f709769f990b4f44afdef300bcec0161",
       "style": "IPY_MODEL_cd8bdc1558f74451adf2bc400ee1eb1e",
       "value": "<h4>Current flow_1 status: <font color='green'>shutdown</font> </h4><p>User the buttons below to change the status</p>"
      }
     },
     "f2eea436561d428abb73a0e8276915b6": {
      "model_module": "@jupyter-widgets/controls",
      "model_module_version": "1.5.0",
      "model_name": "HTMLModel",
      "state": {
       "layout": "IPY_MODEL_b0d01aebd67e41adbce3bad115bac1f5",
       "style": "IPY_MODEL_3477a1bd8ff04ea9b5de58ffb60aea5c",
       "value": "<h4>What do you want to do?</h4><p>You can send a new command to the device or change it's status between running, paused, and shutdown. </p> "
      }
     },
     "f2f314b47e2641c595522841d6ee5ec6": {
      "model_module": "@jupyter-widgets/controls",
      "model_module_version": "1.5.0",
      "model_name": "VBoxModel",
      "state": {
       "children": [
        "IPY_MODEL_8f64fefa42844efc9f44d20ecfa43080",
        "IPY_MODEL_b1c98f1df0764c8b87a6dab6cbe6787f"
       ],
       "layout": "IPY_MODEL_4e2142271e5940c399d8afa506cb11cd"
      }
     },
     "f3318b1041ba464cbe00ddd85ce9eefe": {
      "model_module": "@jupyter-widgets/controls",
      "model_module_version": "1.5.0",
      "model_name": "ButtonModel",
      "state": {
       "button_style": "success",
       "description": "Get",
       "layout": "IPY_MODEL_9501fac7d9d54dd3b25013b32044caa4",
       "style": "IPY_MODEL_b0d29b901dde4e34b6c390feadb60e58"
      }
     },
     "f33356e04b0842f7b94d0d85f5741d3a": {
      "model_module": "@jupyter-widgets/controls",
      "model_module_version": "1.5.0",
      "model_name": "DescriptionStyleModel",
      "state": {
       "description_width": ""
      }
     },
     "f34b245f90e14cc98ba2e95014e25c0b": {
      "model_module": "@jupyter-widgets/controls",
      "model_module_version": "1.5.0",
      "model_name": "HBoxModel",
      "state": {
       "children": [
        "IPY_MODEL_7b35f6256e164fcc82988c385e44b8f4",
        "IPY_MODEL_db00eef555b94819a95c6e0d5d4fdeb5"
       ],
       "layout": "IPY_MODEL_299e0fd772234fc7aa4bd2448b78a4c1"
      }
     },
     "f3542933b62f466bbbeb8a388c0a69c7": {
      "model_module": "@jupyter-widgets/controls",
      "model_module_version": "1.5.0",
      "model_name": "HTMLModel",
      "state": {
       "layout": "IPY_MODEL_56937c7e6dc040bba4b1b4a0e908295c",
       "style": "IPY_MODEL_7f1f113a22174e55bf64670b7ed806fa",
       "value": "<h3>Select Device to Control</h3><p>Type the name of the device you wish to controle. Example: <code>flow_1</code></p>"
      }
     },
     "f3846d2bf4d84f6da0c060c47a207d9a": {
      "model_module": "@jupyter-widgets/controls",
      "model_module_version": "1.5.0",
      "model_name": "ButtonStyleModel",
      "state": {}
     },
     "f3bc8c87f84b4f1ba083ed720bf053cd": {
      "model_module": "@jupyter-widgets/controls",
      "model_module_version": "1.5.0",
      "model_name": "HTMLModel",
      "state": {
       "layout": "IPY_MODEL_1774a50102a54514a4d90e0dca383ef9",
       "style": "IPY_MODEL_c5c63d9210d14ee4809aa23e82124dda",
       "value": "<p>2022-06-27 05:30:00 UTC - Running job Job(interval=1, unit=hours, do=sayHello, args=(), kwargs={'name': 'hourly,30'})</p>"
      }
     },
     "f3cb82bb586e400d886c2e1069b0cd39": {
      "model_module": "@jupyter-widgets/controls",
      "model_module_version": "1.5.0",
      "model_name": "ButtonStyleModel",
      "state": {}
     },
     "f3e1500f516440bc9c0207cbffdbdb75": {
      "model_module": "@jupyter-widgets/controls",
      "model_module_version": "1.5.0",
      "model_name": "HTMLModel",
      "state": {
       "layout": "IPY_MODEL_5fe11ea8e4914982a7c122574ae14f8a",
       "style": "IPY_MODEL_b465ba4701974a50afffb128f85d2797",
       "value": "Job 0: Every 1 hour at 00:00:00 do sayHello(name='hourly,00') (last run: 2022-06-26 23:00:00, next run: 2022-06-27 00:00:00)"
      }
     },
     "f3fffbe7cbda430c9afa4ba4b89964d0": {
      "model_module": "@jupyter-widgets/controls",
      "model_module_version": "1.5.0",
      "model_name": "DescriptionStyleModel",
      "state": {
       "description_width": ""
      }
     },
     "f420709cc4e74963a003d7dff6bd0e46": {
      "model_module": "@jupyter-widgets/controls",
      "model_module_version": "1.5.0",
      "model_name": "HTMLModel",
      "state": {
       "layout": "IPY_MODEL_b6aae995bf7445f09852916a20970e14",
       "style": "IPY_MODEL_4426625b7a934b009da725d611ba85ab",
       "value": "<h3>Select Device to Control</h3><p>Type the name of the device you wish to controle. Example: <code>flow_1</code></p>"
      }
     },
     "f426c24fb5b94cf5ac039d10c8ca9c18": {
      "model_module": "@jupyter-widgets/controls",
      "model_module_version": "1.5.0",
      "model_name": "ButtonStyleModel",
      "state": {}
     },
     "f428f9d8ef9b410cbaf3f0fe75adaf2f": {
      "model_module": "@jupyter-widgets/controls",
      "model_module_version": "1.5.0",
      "model_name": "TextModel",
      "state": {
       "description": "Device",
       "layout": "IPY_MODEL_dd55f45c03df414297b5a3b9fc3c8326",
       "style": "IPY_MODEL_198d04ce9b474d00909810c1a72cce77"
      }
     },
     "f43e21bbe7da45f9aa08a32eec6f43ee": {
      "model_module": "@jupyter-widgets/controls",
      "model_module_version": "1.5.0",
      "model_name": "TextModel",
      "state": {
       "description": "Device",
       "layout": "IPY_MODEL_d4d9b5d57f55465ca7e293cb56cca51e",
       "style": "IPY_MODEL_318f2d18f27a4c57b92dda56c604d88a",
       "value": "flow_1"
      }
     },
     "f509d5d08c314d6a994b1f0acbb3af80": {
      "model_module": "@jupyter-widgets/base",
      "model_module_version": "1.2.0",
      "model_name": "LayoutModel",
      "state": {}
     },
     "f522624860924db1a6bf38df4fa5c75c": {
      "model_module": "@jupyter-widgets/controls",
      "model_module_version": "1.5.0",
      "model_name": "TextModel",
      "state": {
       "description": "Device",
       "layout": "IPY_MODEL_882fee16f5584cb48b3a5b58431124a7",
       "style": "IPY_MODEL_bd8591e28dc14507b52fcae8e6a7b84b"
      }
     },
     "f533ff59dace406db6efa88fa36f5d23": {
      "model_module": "@jupyter-widgets/controls",
      "model_module_version": "1.5.0",
      "model_name": "HBoxModel",
      "state": {
       "children": [
        "IPY_MODEL_fabda80fbd7b42629fa8bb7ca29abd65",
        "IPY_MODEL_e8861256c9c545b2a81a35ce584f5633",
        "IPY_MODEL_a175a57c8f3f42d691ea505455eadf6d"
       ],
       "layout": "IPY_MODEL_6f5961095ac549dc98060edc500dc8b9"
      }
     },
     "f53da00ebc954095b2d97e78d32950bb": {
      "model_module": "@jupyter-widgets/base",
      "model_module_version": "1.2.0",
      "model_name": "LayoutModel",
      "state": {
       "margin": "2px 20px 0 0"
      }
     },
     "f5535d5967ce4c7fbded7c4e178321a0": {
      "model_module": "@jupyter-widgets/base",
      "model_module_version": "1.2.0",
      "model_name": "LayoutModel",
      "state": {}
     },
     "f553ee78162b4e359097c92570affbb5": {
      "model_module": "@jupyter-widgets/controls",
      "model_module_version": "1.5.0",
      "model_name": "ButtonModel",
      "state": {
       "button_style": "warning",
       "description": "Change Status",
       "layout": "IPY_MODEL_050eea71ff014eb78db3c5f697407037",
       "style": "IPY_MODEL_e3a6f7f16dd6404b9e84f3e62d94462e"
      }
     },
     "f56f86ab6a7f40c29840cb3c98a3261f": {
      "model_module": "@jupyter-widgets/controls",
      "model_module_version": "1.5.0",
      "model_name": "ButtonModel",
      "state": {
       "button_style": "success",
       "description": "Send Command",
       "layout": "IPY_MODEL_4f2c4529fd6d4e759b6044bff61a2b08",
       "style": "IPY_MODEL_ab46767432c54b829aafd10513015f39"
      }
     },
     "f57a1222e59e4871a0d3ad11d0c1d671": {
      "model_module": "@jupyter-widgets/base",
      "model_module_version": "1.2.0",
      "model_name": "LayoutModel",
      "state": {
       "margin": "2px 20px 0 0"
      }
     },
     "f5917baa039548409bed575923cd87e4": {
      "model_module": "@jupyter-widgets/controls",
      "model_module_version": "1.5.0",
      "model_name": "HBoxModel",
      "state": {
       "children": [
        "IPY_MODEL_93f7255686904bfc85bec87e7856d6bd",
        "IPY_MODEL_754b27cfb0d84f65b23a4fad8516b985"
       ],
       "layout": "IPY_MODEL_ff0f41754ce94f77b866f5a676aba69d"
      }
     },
     "f5f84906b1054c0ba6254925c64ec252": {
      "model_module": "@jupyter-widgets/controls",
      "model_module_version": "1.5.0",
      "model_name": "ButtonModel",
      "state": {
       "button_style": "success",
       "description": "Send Command",
       "layout": "IPY_MODEL_a9d671c6c8f243c5a0a25015c78e109d",
       "style": "IPY_MODEL_dcf3abde6b2245d6a0a72607a978336a"
      }
     },
     "f61c7a9a4670429b96af0f2c31ecb5d6": {
      "model_module": "@jupyter-widgets/controls",
      "model_module_version": "1.5.0",
      "model_name": "ButtonStyleModel",
      "state": {}
     },
     "f66db97097134f938d3816e17233107e": {
      "model_module": "@jupyter-widgets/base",
      "model_module_version": "1.2.0",
      "model_name": "LayoutModel",
      "state": {}
     },
     "f682702304f14029a7467cdd725ecbe7": {
      "model_module": "@jupyter-widgets/controls",
      "model_module_version": "1.5.0",
      "model_name": "ButtonStyleModel",
      "state": {}
     },
     "f69f7376fa864ca4a596fb8b10d449dc": {
      "model_module": "@jupyter-widgets/base",
      "model_module_version": "1.2.0",
      "model_name": "LayoutModel",
      "state": {
       "width": "auto"
      }
     },
     "f6b49db295464b179087f93eec32711f": {
      "model_module": "@jupyter-widgets/base",
      "model_module_version": "1.2.0",
      "model_name": "LayoutModel",
      "state": {}
     },
     "f6d3742d9dcb4026a295e2b936069ba0": {
      "model_module": "@jupyter-widgets/base",
      "model_module_version": "1.2.0",
      "model_name": "LayoutModel",
      "state": {}
     },
     "f6e8a5a2b6814fb394a0ff5a5a147145": {
      "model_module": "@jupyter-widgets/controls",
      "model_module_version": "1.5.0",
      "model_name": "ButtonModel",
      "state": {
       "button_style": "warning",
       "description": "Change Status",
       "layout": "IPY_MODEL_1b12dcb7d3a94f5aa5b3f820584a6229",
       "style": "IPY_MODEL_00c30df4476847f1bc15d0167b9a1335"
      }
     },
     "f709769f990b4f44afdef300bcec0161": {
      "model_module": "@jupyter-widgets/base",
      "model_module_version": "1.2.0",
      "model_name": "LayoutModel",
      "state": {}
     },
     "f732148e78344ddd9ae9820f54a4ad9a": {
      "model_module": "@jupyter-widgets/controls",
      "model_module_version": "1.5.0",
      "model_name": "ButtonStyleModel",
      "state": {}
     },
     "f788e10e73cc4a3998ca9701d885c5cb": {
      "model_module": "@jupyter-widgets/base",
      "model_module_version": "1.2.0",
      "model_name": "LayoutModel",
      "state": {}
     },
     "f79fc99ce5034435891ecc2f36cf6717": {
      "model_module": "@jupyter-widgets/base",
      "model_module_version": "1.2.0",
      "model_name": "LayoutModel",
      "state": {}
     },
     "f7c9451faca34a49be20cd3f497b7bd2": {
      "model_module": "@jupyter-widgets/base",
      "model_module_version": "1.2.0",
      "model_name": "LayoutModel",
      "state": {}
     },
     "f7e012bd401f47deaabffa464e9c691b": {
      "model_module": "@jupyter-widgets/controls",
      "model_module_version": "1.5.0",
      "model_name": "ButtonModel",
      "state": {
       "button_style": "success",
       "description": "Select",
       "layout": "IPY_MODEL_33359d2c239a4d06a3bda56fc57ed78c",
       "style": "IPY_MODEL_0a9957e82b914029b51bdbf112c474d6"
      }
     },
     "f7fc8755ee45430f810dbad05bca4a51": {
      "model_module": "@jupyter-widgets/controls",
      "model_module_version": "1.5.0",
      "model_name": "ButtonStyleModel",
      "state": {}
     },
     "f812c10da3624c89b1abfdd60c0059d9": {
      "model_module": "@jupyter-widgets/base",
      "model_module_version": "1.2.0",
      "model_name": "LayoutModel",
      "state": {}
     },
     "f859a911bd5944b29aca4ad19c0b7115": {
      "model_module": "@jupyter-widgets/base",
      "model_module_version": "1.2.0",
      "model_name": "LayoutModel",
      "state": {
       "width": "auto"
      }
     },
     "f85ea093be1342cebe57d3912e48cf12": {
      "model_module": "@jupyter-widgets/controls",
      "model_module_version": "1.5.0",
      "model_name": "HTMLModel",
      "state": {
       "layout": "IPY_MODEL_834b3b4dee3e40278e93db9beb785ee4",
       "style": "IPY_MODEL_b83ca09a101442f5862154dde0be72ca",
       "value": "<h4>What do you want to do?</h4><p>You can send a new command to the device or change it's status between running, paused, and shutdown. </p> "
      }
     },
     "f87c04de95314512afcb5762b5588741": {
      "model_module": "@jupyter-widgets/controls",
      "model_module_version": "1.5.0",
      "model_name": "ButtonStyleModel",
      "state": {}
     },
     "f880fce287074a5a82c8ea2590934557": {
      "model_module": "@jupyter-widgets/controls",
      "model_module_version": "1.5.0",
      "model_name": "HTMLModel",
      "state": {
       "layout": "IPY_MODEL_4a9fd57308ec4649a50576ce25feb6c5",
       "style": "IPY_MODEL_d0ac6b84e5da453eb3c24a359437b349",
       "value": "<h3>History</h3><hr>"
      }
     },
     "f8992e6531694c4aa99c3ff6ef5bbf1c": {
      "model_module": "@jupyter-widgets/base",
      "model_module_version": "1.2.0",
      "model_name": "LayoutModel",
      "state": {
       "width": "auto"
      }
     },
     "f89a89b30be44551af79615af275f441": {
      "model_module": "@jupyter-widgets/base",
      "model_module_version": "1.2.0",
      "model_name": "LayoutModel",
      "state": {}
     },
     "f8e74fc8559345669db4b0e4883d0854": {
      "model_module": "@jupyter-widgets/controls",
      "model_module_version": "1.5.0",
      "model_name": "ButtonModel",
      "state": {
       "button_style": "success",
       "description": "Select",
       "layout": "IPY_MODEL_6516e6f684c14194b9be9aae563360da",
       "style": "IPY_MODEL_863bb335a3744d8882bfd906bd53b4a4"
      }
     },
     "f94b4334d0ed40dc852a7344d8e8e25f": {
      "model_module": "@jupyter-widgets/controls",
      "model_module_version": "1.5.0",
      "model_name": "VBoxModel",
      "state": {
       "children": [
        "IPY_MODEL_863bbf575549404fab36280d2fb429e8",
        "IPY_MODEL_05b1ae6afcf24753a92542d289d9b026"
       ],
       "layout": "IPY_MODEL_0611cc7a037d4fe4b64be6958a5e54eb"
      }
     },
     "f9ec8646a6084feeb195182d8b7f5385": {
      "model_module": "@jupyter-widgets/controls",
      "model_module_version": "1.5.0",
      "model_name": "DescriptionStyleModel",
      "state": {
       "description_width": ""
      }
     },
     "fa21c1ed0add41d98c6808d82ce28503": {
      "model_module": "@jupyter-widgets/controls",
      "model_module_version": "1.5.0",
      "model_name": "TextModel",
      "state": {
       "description": "Devices",
       "layout": "IPY_MODEL_cac2ecfcf9f34c64a9700ed9efe2598e",
       "style": "IPY_MODEL_5058c4ec788640ad8f91d3ff2e75a77d"
      }
     },
     "fa65c18430e04d54899e5460f0be2ccf": {
      "model_module": "@jupyter-widgets/base",
      "model_module_version": "1.2.0",
      "model_name": "LayoutModel",
      "state": {
       "width": "750px"
      }
     },
     "fa7889b591b741c3ba4b191a94ac4a2f": {
      "model_module": "@jupyter-widgets/controls",
      "model_module_version": "1.5.0",
      "model_name": "ButtonStyleModel",
      "state": {}
     },
     "fa91f17fd8cd432d94eb88052c2dddad": {
      "model_module": "@jupyter-widgets/controls",
      "model_module_version": "1.5.0",
      "model_name": "DescriptionStyleModel",
      "state": {
       "description_width": ""
      }
     },
     "fa99f0d25f124d9a9c2b603a2a3efc15": {
      "model_module": "@jupyter-widgets/controls",
      "model_module_version": "1.5.0",
      "model_name": "ButtonStyleModel",
      "state": {}
     },
     "faa8055a7ea3424ba96644b8576dd878": {
      "model_module": "@jupyter-widgets/controls",
      "model_module_version": "1.5.0",
      "model_name": "ButtonModel",
      "state": {
       "button_style": "success",
       "description": "Send",
       "layout": "IPY_MODEL_a721c1e4b5e54b58940a294fff5cac69",
       "style": "IPY_MODEL_c495ffeacb7540ef8cb69be20f3dfa5a"
      }
     },
     "fabda80fbd7b42629fa8bb7ca29abd65": {
      "model_module": "@jupyter-widgets/controls",
      "model_module_version": "1.5.0",
      "model_name": "ButtonModel",
      "state": {
       "button_style": "success",
       "description": "Send Command",
       "layout": "IPY_MODEL_dc8b0cd5bde843cdb41df3349136a1bb",
       "style": "IPY_MODEL_30551cce4baa47d296ecec79b33fd79c"
      }
     },
     "fac8d2d26faf4477b67e420accd910cc": {
      "model_module": "@jupyter-widgets/controls",
      "model_module_version": "1.5.0",
      "model_name": "ButtonStyleModel",
      "state": {}
     },
     "fad21a7ab73a4840a306b2f16ce348f5": {
      "model_module": "@jupyter-widgets/base",
      "model_module_version": "1.2.0",
      "model_name": "LayoutModel",
      "state": {}
     },
     "fae7b79ff8c94bfd84e4ce17f1171850": {
      "model_module": "@jupyter-widgets/base",
      "model_module_version": "1.2.0",
      "model_name": "LayoutModel",
      "state": {}
     },
     "fb1c4e3285ad47a0b6ed16aca55198fa": {
      "model_module": "@jupyter-widgets/base",
      "model_module_version": "1.2.0",
      "model_name": "LayoutModel",
      "state": {}
     },
     "fb1d53e4f44b43b991d6254feb6a4b66": {
      "model_module": "@jupyter-widgets/base",
      "model_module_version": "1.2.0",
      "model_name": "LayoutModel",
      "state": {}
     },
     "fb59714a813746f6bc7c64fdc7fb3cf5": {
      "model_module": "@jupyter-widgets/base",
      "model_module_version": "1.2.0",
      "model_name": "LayoutModel",
      "state": {
       "width": "auto"
      }
     },
     "fbc6c1aad193446ea914748bc27d1cb6": {
      "model_module": "@jupyter-widgets/controls",
      "model_module_version": "1.5.0",
      "model_name": "ButtonModel",
      "state": {
       "button_style": "info",
       "icon": "refresh",
       "layout": "IPY_MODEL_7cdfcd3af6a6433ca589bd7d2b8f4409",
       "style": "IPY_MODEL_5bf8f16679f54baf9203c11e056a261d"
      }
     },
     "fbdeee3102224b139838ad27583cc8d5": {
      "model_module": "@jupyter-widgets/controls",
      "model_module_version": "1.5.0",
      "model_name": "ButtonModel",
      "state": {
       "button_style": "danger",
       "description": "Shutdown",
       "layout": "IPY_MODEL_56feb1b21bcc4641bf61011a556ea4ab",
       "style": "IPY_MODEL_f2a0d8a344c54ae89235135272b30394"
      }
     },
     "fbe961ee7996466794d6abfc723f2106": {
      "model_module": "@jupyter-widgets/base",
      "model_module_version": "1.2.0",
      "model_name": "LayoutModel",
      "state": {}
     },
     "fbf2923464cb4f8a9368cbe5e1310964": {
      "model_module": "@jupyter-widgets/base",
      "model_module_version": "1.2.0",
      "model_name": "LayoutModel",
      "state": {
       "margin": "2px 20px 0 0"
      }
     },
     "fbff7ae451a544f3a239f95c1ad52444": {
      "model_module": "@jupyter-widgets/base",
      "model_module_version": "1.2.0",
      "model_name": "LayoutModel",
      "state": {}
     },
     "fc0c6fbe6ed3406ab282ad5621c1126d": {
      "model_module": "@jupyter-widgets/controls",
      "model_module_version": "1.5.0",
      "model_name": "HBoxModel",
      "state": {
       "children": [
        "IPY_MODEL_9cdabb03cf9f4eb3887ab158eabba9e3",
        "IPY_MODEL_94214235db0f44b18c5606ed6429e47b"
       ],
       "layout": "IPY_MODEL_b0cf361333334e6cb73476bfc1f7df45"
      }
     },
     "fc5225276c4c484a8749ed25ed5ab19a": {
      "model_module": "@jupyter-widgets/controls",
      "model_module_version": "1.5.0",
      "model_name": "DescriptionStyleModel",
      "state": {
       "description_width": ""
      }
     },
     "fc697425bdf24196acffdeaec9c576c0": {
      "model_module": "@jupyter-widgets/controls",
      "model_module_version": "1.5.0",
      "model_name": "ButtonStyleModel",
      "state": {}
     },
     "fc7c0e8282764da79fac388af69fcc9e": {
      "model_module": "@jupyter-widgets/controls",
      "model_module_version": "1.5.0",
      "model_name": "ButtonStyleModel",
      "state": {}
     },
     "fc9f112b8ef6474a9e61bba65c931103": {
      "model_module": "@jupyter-widgets/controls",
      "model_module_version": "1.5.0",
      "model_name": "DescriptionStyleModel",
      "state": {
       "description_width": ""
      }
     },
     "fcb05d83223743878e6b6a7f76729ecc": {
      "model_module": "@jupyter-widgets/base",
      "model_module_version": "1.2.0",
      "model_name": "LayoutModel",
      "state": {
       "width": "auto"
      }
     },
     "fccf18a1fdc24a0e97cf50bea093a194": {
      "model_module": "@jupyter-widgets/controls",
      "model_module_version": "1.5.0",
      "model_name": "ButtonStyleModel",
      "state": {}
     },
     "fccf2c31f671464da03a254ce19ba2fd": {
      "model_module": "@jupyter-widgets/controls",
      "model_module_version": "1.5.0",
      "model_name": "ButtonStyleModel",
      "state": {}
     },
     "fcd8951d38a24349b3f27f03026810aa": {
      "model_module": "@jupyter-widgets/base",
      "model_module_version": "1.2.0",
      "model_name": "LayoutModel",
      "state": {
       "margin": "2px 20px 0 0"
      }
     },
     "fd0e51eac82b479daa7e532b30ae3096": {
      "model_module": "@jupyter-widgets/controls",
      "model_module_version": "1.5.0",
      "model_name": "DescriptionStyleModel",
      "state": {
       "description_width": ""
      }
     },
     "fd296d1e97bd4ab989fba40d4084af41": {
      "model_module": "@jupyter-widgets/base",
      "model_module_version": "1.2.0",
      "model_name": "LayoutModel",
      "state": {}
     },
     "fd30a22f846748fb95d4b61b432297bc": {
      "model_module": "@jupyter-widgets/base",
      "model_module_version": "1.2.0",
      "model_name": "LayoutModel",
      "state": {}
     },
     "fd557b49b3694b34a862564e0ac88857": {
      "model_module": "@jupyter-widgets/controls",
      "model_module_version": "1.5.0",
      "model_name": "ButtonStyleModel",
      "state": {}
     },
     "fd8985e9604c42628c15ccf83adc530a": {
      "model_module": "@jupyter-widgets/controls",
      "model_module_version": "1.5.0",
      "model_name": "HBoxModel",
      "state": {
       "children": [
        "IPY_MODEL_2bbe2f7720bb434487e76ffa039dc0ba",
        "IPY_MODEL_76c7715c9000450eb64c5f7ec0b95d1d"
       ],
       "layout": "IPY_MODEL_f812c10da3624c89b1abfdd60c0059d9"
      }
     },
     "fd963d8524fd4ca6b6ea6bba5a8fa4ca": {
      "model_module": "@jupyter-widgets/controls",
      "model_module_version": "1.5.0",
      "model_name": "HBoxModel",
      "state": {
       "children": [
        "IPY_MODEL_a1ef60fa9671475e8e53d11c2eb90139",
        "IPY_MODEL_489e3c97f0a442febffc19e613f69f59"
       ],
       "layout": "IPY_MODEL_5dd985ce7f984e399549062c71050b21"
      }
     },
     "fdc0d8e8220046888a132626fa656085": {
      "model_module": "@jupyter-widgets/controls",
      "model_module_version": "1.5.0",
      "model_name": "ButtonModel",
      "state": {
       "button_style": "danger",
       "description": "Shutdown",
       "layout": "IPY_MODEL_32a0cf4a4fd640b68d7f1596a624d5ea",
       "style": "IPY_MODEL_3f6ba80fb74548b8bb7e8804cbd5b1ea"
      }
     },
     "fdffe127227744f6b7ccb17ab8913b18": {
      "model_module": "@jupyter-widgets/base",
      "model_module_version": "1.2.0",
      "model_name": "LayoutModel",
      "state": {}
     },
     "fe095539a97040b6a7fcfc5548da7603": {
      "model_module": "@jupyter-widgets/controls",
      "model_module_version": "1.5.0",
      "model_name": "HTMLModel",
      "state": {
       "layout": "IPY_MODEL_a52b58c9af3c4a7a8de89c949316120f",
       "style": "IPY_MODEL_4a327333d2b1447f8bffe884cefb0c21",
       "value": "<h3>Select Device to Control</h3><p>Type the name of the device you wish to controle. Example: <code>flow_1</code></p>"
      }
     },
     "fe4d7835c98c48698c65cbd93a46b1ae": {
      "model_module": "@jupyter-widgets/controls",
      "model_module_version": "1.5.0",
      "model_name": "HTMLModel",
      "state": {
       "layout": "IPY_MODEL_e18f66e60b7449cdbfe028eda8e2bf21",
       "style": "IPY_MODEL_c1f56e5a48a34a5690bf1540ed8cdf93",
       "value": "<h3>Select Devices</h3><p>Type the name of the devices you wish to view.</p><p>Use a comma to seperate them and no spaces! Example: <code>flow_1,pic_1</code></p>"
      }
     },
     "fe6a3f1327e84f678e00e3bef8bae54d": {
      "model_module": "@jupyter-widgets/controls",
      "model_module_version": "1.5.0",
      "model_name": "ButtonStyleModel",
      "state": {}
     },
     "fe7a78f534a449cfb875c1e57a47447e": {
      "model_module": "@jupyter-widgets/controls",
      "model_module_version": "1.5.0",
      "model_name": "TextModel",
      "state": {
       "description": "Device",
       "layout": "IPY_MODEL_4810ba0f5a454f1da78d6318a0bb832a",
       "style": "IPY_MODEL_c93df20b1edd46088aaa32e3361170a4"
      }
     },
     "fe8990c73ba149548d6a12edfc4670ad": {
      "model_module": "@jupyter-widgets/base",
      "model_module_version": "1.2.0",
      "model_name": "LayoutModel",
      "state": {}
     },
     "fea0d7347ac54c2494b8936465846303": {
      "model_module": "@jupyter-widgets/controls",
      "model_module_version": "1.5.0",
      "model_name": "DescriptionStyleModel",
      "state": {
       "description_width": ""
      }
     },
     "feb71264eb874315a45e9438a1ced194": {
      "model_module": "@jupyter-widgets/controls",
      "model_module_version": "1.5.0",
      "model_name": "HBoxModel",
      "state": {
       "children": [
        "IPY_MODEL_74265ee734934c718d1a3bd271142316",
        "IPY_MODEL_f553ee78162b4e359097c92570affbb5",
        "IPY_MODEL_e7ee6a42a22e417394e03880c4a99511"
       ],
       "layout": "IPY_MODEL_c5254066de8c4c3f8921dba23d5f1de8"
      }
     },
     "fee9739cbc6d4291bd5cf4049bbd41f0": {
      "model_module": "@jupyter-widgets/controls",
      "model_module_version": "1.5.0",
      "model_name": "ButtonStyleModel",
      "state": {}
     },
     "ff0f41754ce94f77b866f5a676aba69d": {
      "model_module": "@jupyter-widgets/base",
      "model_module_version": "1.2.0",
      "model_name": "LayoutModel",
      "state": {}
     },
     "ff235cc06cfb4177aea2509c94c6cea8": {
      "model_module": "@jupyter-widgets/controls",
      "model_module_version": "1.5.0",
      "model_name": "ButtonModel",
      "state": {
       "button_style": "success",
       "description": "Select",
       "layout": "IPY_MODEL_ba1ba354f337464a890c9d17f6a2cfad",
       "style": "IPY_MODEL_fccf18a1fdc24a0e97cf50bea093a194"
      }
     },
     "ff2d238a101a46a98a696f96d4b4e963": {
      "model_module": "@jupyter-widgets/controls",
      "model_module_version": "1.5.0",
      "model_name": "ButtonStyleModel",
      "state": {}
     },
     "ff346d4751764880844bc821f9422d8c": {
      "model_module": "@jupyter-widgets/base",
      "model_module_version": "1.2.0",
      "model_name": "LayoutModel",
      "state": {}
     },
     "ff7a87b0f7ed45ce9e34b0e25eae004f": {
      "model_module": "@jupyter-widgets/base",
      "model_module_version": "1.2.0",
      "model_name": "LayoutModel",
      "state": {
       "width": "auto"
      }
     }
    },
    "version_major": 2,
    "version_minor": 0
   }
  }
 },
 "nbformat": 4,
 "nbformat_minor": 5
}
