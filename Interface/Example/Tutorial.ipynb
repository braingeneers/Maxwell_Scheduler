{
 "cells": [
  {
   "cell_type": "markdown",
   "id": "bc832bf9",
   "metadata": {},
   "source": [
    "<font size=7>Device Integration Tutorial"
   ]
  },
  {
   "cell_type": "markdown",
   "id": "3e9583ad",
   "metadata": {},
   "source": [
    "In this notebook I'm testing out ideas for scheduling events. The purpose of this is to eventually build a scheduler for controlling integrated lab devices. This is a useful [schedule reference](https://schedule.readthedocs.io/en/stable/examples.html)"
   ]
  },
  {
   "cell_type": "markdown",
   "id": "2a65b526",
   "metadata": {},
   "source": [
    "load in iot functions"
   ]
  },
  {
   "cell_type": "code",
   "execution_count": 21,
   "id": "762ef233",
   "metadata": {},
   "outputs": [],
   "source": [
    "%run ../\"IoT Functions.ipynb\" #  kinda ipynb equivalent of import\n",
    "#from braingeneers.iot import *"
   ]
  },
  {
   "cell_type": "code",
   "execution_count": 20,
   "id": "61327853",
   "metadata": {
    "code_folding": []
   },
   "outputs": [],
   "source": [
    "#shutdown(\"dinolite_1\",hard=True)"
   ]
  },
  {
   "cell_type": "markdown",
   "id": "f0fc85ca",
   "metadata": {
    "heading_collapsed": true
   },
   "source": [
    "# Send Commands"
   ]
  },
  {
   "cell_type": "markdown",
   "id": "96f967af",
   "metadata": {
    "hidden": true
   },
   "source": [
    "Send command using send function"
   ]
  },
  {
   "cell_type": "markdown",
   "id": "929b766b",
   "metadata": {
    "hidden": true
   },
   "source": [
    "```python \n",
    "send(\"flow_1\", command=\"sayHello('ROGUE')\")   \n",
    "```     "
   ]
  },
  {
   "cell_type": "markdown",
   "id": "99f142c6",
   "metadata": {
    "hidden": true
   },
   "source": [
    "Example commands"
   ]
  },
  {
   "cell_type": "markdown",
   "id": "601b3007",
   "metadata": {
    "hidden": true
   },
   "source": [
    "``` python        \n",
    "\"sayHello('ROGUE')\"                              # Send command to device\n",
    "\"my_count.add_one(); print(my_count.count)\"      # Send multiple commands\n",
    "\"\"\"sayHello(\"ROGUE\")\"\"\"                          # Use qoutation marks\n",
    "\"asdoifj oaidf oijaroi jotihjp t\"                # Check what happends with errors\n",
    "```"
   ]
  },
  {
   "cell_type": "markdown",
   "id": "99a52847",
   "metadata": {},
   "source": [
    "# Create Schedule"
   ]
  },
  {
   "cell_type": "markdown",
   "id": "efc99872",
   "metadata": {},
   "source": [
    "## Use Schedule"
   ]
  },
  {
   "cell_type": "markdown",
   "id": "a24e440c",
   "metadata": {},
   "source": [
    "[Schedule Examples](https://schedule.readthedocs.io/en/stable/examples.html)"
   ]
  },
  {
   "cell_type": "markdown",
   "id": "c3514cb7",
   "metadata": {},
   "source": [
    "send command that is in schedule"
   ]
  },
  {
   "cell_type": "code",
   "execution_count": null,
   "id": "ea39efb0",
   "metadata": {},
   "outputs": [],
   "source": [
    "send(\"flow_1\", \"schedule.every(3).seconds.do( sayHello, name='Alice' )\" )"
   ]
  },
  {
   "cell_type": "markdown",
   "id": "a135dedd",
   "metadata": {},
   "source": [
    "send another scheduled command"
   ]
  },
  {
   "cell_type": "code",
   "execution_count": null,
   "id": "e9d4a561",
   "metadata": {},
   "outputs": [],
   "source": [
    "send(\"flow_1\", \"schedule.every(5).minutes.do( sayHello, name='Bob' )\" )"
   ]
  },
  {
   "cell_type": "markdown",
   "id": "abcdd8f9",
   "metadata": {},
   "source": [
    "delete something from schedule"
   ]
  },
  {
   "cell_type": "code",
   "execution_count": null,
   "id": "25b8ceb2",
   "metadata": {},
   "outputs": [],
   "source": [
    "send(\"flow_1\", \"schedule.cancel_job( schedule.get_jobs()[3] )\" )"
   ]
  },
  {
   "cell_type": "markdown",
   "id": "d6a33fd7",
   "metadata": {},
   "source": [
    "<font color=\"red\">show more complex examples"
   ]
  },
  {
   "cell_type": "markdown",
   "id": "c6fe7de5",
   "metadata": {},
   "source": [
    "do a command once a day at a certain time"
   ]
  },
  {
   "cell_type": "code",
   "execution_count": null,
   "id": "82491f0e",
   "metadata": {},
   "outputs": [],
   "source": [
    "send(\"flow_1\", \"\"\"schedule.every().day.at(\"14:07\",\"US/Pacific\").do(sayHello, name='daily')\"\"\" )"
   ]
  },
  {
   "cell_type": "markdown",
   "id": "54bb233c",
   "metadata": {},
   "source": [
    "do something every 2 hours on the hour"
   ]
  },
  {
   "cell_type": "code",
   "execution_count": null,
   "id": "e47c1204",
   "metadata": {},
   "outputs": [],
   "source": [
    "send(\"flow_1\", \"\"\"schedule.every(3).hours.at(\":00\").do(sayHello, name='3 hourly')\"\"\" )"
   ]
  },
  {
   "cell_type": "markdown",
   "id": "b8bc2795",
   "metadata": {},
   "source": [
    "do something every hour on the half hour"
   ]
  },
  {
   "cell_type": "code",
   "execution_count": null,
   "id": "05eeef19",
   "metadata": {},
   "outputs": [],
   "source": [
    "send(\"flow_1\", \"\"\"schedule.every().hour.at(\":30\").do(sayHello, name='hourly')\"\"\" )"
   ]
  },
  {
   "cell_type": "markdown",
   "id": "370af1d1",
   "metadata": {},
   "source": [
    "do something on a specific weekday"
   ]
  },
  {
   "cell_type": "code",
   "execution_count": null,
   "id": "585d94af",
   "metadata": {},
   "outputs": [],
   "source": [
    "send(\"flow_1\", \"\"\"schedule.every().monday.at('14:07','US/Pacific').do(sayHello, name='monday')\"\"\" )"
   ]
  },
  {
   "cell_type": "markdown",
   "id": "a232e5b4",
   "metadata": {},
   "source": [
    "do something until a certain time"
   ]
  },
  {
   "cell_type": "code",
   "execution_count": null,
   "id": "b322f6b6",
   "metadata": {},
   "outputs": [],
   "source": [
    "send(\"flow_1\", \"\"\"schedule.every().minute.until('6:30').do(sayHello, name='until test')\"\"\" )"
   ]
  },
  {
   "cell_type": "markdown",
   "id": "5e8567ac",
   "metadata": {},
   "source": [
    "## Advanced Commands"
   ]
  },
  {
   "cell_type": "markdown",
   "id": "6488bee5",
   "metadata": {},
   "source": [
    "Cancelling a scheduled job"
   ]
  },
  {
   "cell_type": "code",
   "execution_count": null,
   "id": "781da74a",
   "metadata": {},
   "outputs": [],
   "source": [
    "send(\"flow_1\", \"schedule.cancel_job( schedule.get_jobs()[0] )\" )"
   ]
  },
  {
   "cell_type": "code",
   "execution_count": null,
   "id": "51826655",
   "metadata": {},
   "outputs": [],
   "source": [
    "send(\"flow_1\", \"\"\"schedule.every().day.at(\"04:30\",\"US/Pacific\").do(sayHello, name=\"good morning\")\"\"\")"
   ]
  },
  {
   "cell_type": "code",
   "execution_count": null,
   "id": "c65bae2a",
   "metadata": {},
   "outputs": [],
   "source": [
    "send(\"flow_1\", \"\"\"schedule.every().day.at(\"04:40\",\"US/Pacific\").do(sayHello, name='good morning')\"\"\" )"
   ]
  },
  {
   "cell_type": "code",
   "execution_count": null,
   "id": "fe87c1ee",
   "metadata": {},
   "outputs": [],
   "source": [
    "send(\"flow_1\", \"\"\"schedule.every().day.at(\"15:30\",\"US/Pacific\").do(sayHello, name=\"afternoon morning\")\"\"\")"
   ]
  },
  {
   "cell_type": "markdown",
   "id": "ea9db9f2",
   "metadata": {},
   "source": [
    "# Get device information"
   ]
  },
  {
   "cell_type": "markdown",
   "id": "f487a281",
   "metadata": {},
   "source": [
    "get schedule"
   ]
  },
  {
   "cell_type": "code",
   "execution_count": null,
   "id": "f332a044",
   "metadata": {},
   "outputs": [],
   "source": [
    "get_schedule(\"flow_1\")"
   ]
  },
  {
   "cell_type": "markdown",
   "id": "9654bd4f",
   "metadata": {},
   "source": [
    "get status of iot device"
   ]
  },
  {
   "cell_type": "code",
   "execution_count": 24,
   "id": "4215ee9b",
   "metadata": {},
   "outputs": [
    {
     "data": {
      "text/plain": [
       "'run'"
      ]
     },
     "execution_count": 24,
     "metadata": {},
     "output_type": "execute_result"
    }
   ],
   "source": [
    "get_status(\"dinolite_1\")"
   ]
  },
  {
   "cell_type": "markdown",
   "id": "1e23b484",
   "metadata": {},
   "source": [
    "get all iot info"
   ]
  },
  {
   "cell_type": "code",
   "execution_count": 25,
   "id": "86e6b86a",
   "metadata": {},
   "outputs": [
    {
     "data": {
      "text/plain": [
       "{'experiment': 'test_experiment',\n",
       " 'status': 'run',\n",
       " 'jobs': [],\n",
       " 'schedule': [],\n",
       " 'history': ['2022-07-29 17:19:49 PDT - Run Command: print(\"helo\")',\n",
       "  '2022-07-29 17:19:49 PDT - helo',\n",
       "  '2022-07-29 17:29:15 PDT - Run Command: take_photo( camera=\"/dev/video0\", filename=\"wedthurs_experiment\" )']}"
      ]
     },
     "execution_count": 25,
     "metadata": {},
     "output_type": "execute_result"
    }
   ],
   "source": [
    "get_info(\"dinolite_1\")"
   ]
  },
  {
   "cell_type": "markdown",
   "id": "303c078d",
   "metadata": {},
   "source": [
    "# Change Device Status"
   ]
  },
  {
   "cell_type": "markdown",
   "id": "fd8d36a6",
   "metadata": {},
   "source": [
    "pause device"
   ]
  },
  {
   "cell_type": "code",
   "execution_count": null,
   "id": "c2ef2534",
   "metadata": {},
   "outputs": [],
   "source": [
    "pause(\"flow_1\")"
   ]
  },
  {
   "cell_type": "markdown",
   "id": "66b8eb00",
   "metadata": {},
   "source": [
    "resume device"
   ]
  },
  {
   "cell_type": "code",
   "execution_count": null,
   "id": "9f6e880b",
   "metadata": {},
   "outputs": [],
   "source": [
    "run(\"flow_1\")"
   ]
  },
  {
   "cell_type": "markdown",
   "id": "c298c7c9",
   "metadata": {},
   "source": [
    "shutdown device"
   ]
  },
  {
   "cell_type": "code",
   "execution_count": null,
   "id": "c9fee4fb",
   "metadata": {},
   "outputs": [],
   "source": [
    "shutdown(\"flow_1\")"
   ]
  },
  {
   "cell_type": "markdown",
   "id": "202a1ec8",
   "metadata": {},
   "source": [
    "hard shutdown"
   ]
  },
  {
   "cell_type": "code",
   "execution_count": null,
   "id": "5d898e96",
   "metadata": {},
   "outputs": [],
   "source": [
    "shutdown(\"flow_1\", hard=True)"
   ]
  },
  {
   "cell_type": "markdown",
   "id": "afadb582",
   "metadata": {},
   "source": [
    "# Draw Devices Schedule"
   ]
  },
  {
   "cell_type": "markdown",
   "id": "28932de5",
   "metadata": {},
   "source": [
    "Draw the schedule for a specified device"
   ]
  },
  {
   "cell_type": "code",
   "execution_count": null,
   "id": "fa77f862",
   "metadata": {},
   "outputs": [],
   "source": [
    "draw_schedule( \"flow_1\" )"
   ]
  },
  {
   "cell_type": "code",
   "execution_count": null,
   "id": "8e045c6a",
   "metadata": {},
   "outputs": [],
   "source": []
  },
  {
   "cell_type": "code",
   "execution_count": null,
   "id": "a49bced6",
   "metadata": {},
   "outputs": [],
   "source": []
  },
  {
   "cell_type": "code",
   "execution_count": null,
   "id": "621dd840",
   "metadata": {},
   "outputs": [],
   "source": []
  }
 ],
 "metadata": {
  "hide_input": false,
  "kernelspec": {
   "display_name": "Python 3",
   "language": "python",
   "name": "python3"
  },
  "language_info": {
   "codemirror_mode": {
    "name": "ipython",
    "version": 3
   },
   "file_extension": ".py",
   "mimetype": "text/x-python",
   "name": "python",
   "nbconvert_exporter": "python",
   "pygments_lexer": "ipython3",
   "version": "3.8.8"
  },
  "toc": {
   "base_numbering": 1,
   "nav_menu": {},
   "number_sections": true,
   "sideBar": true,
   "skip_h1_title": false,
   "title_cell": "Table of Contents",
   "title_sidebar": "Contents",
   "toc_cell": false,
   "toc_position": {},
   "toc_section_display": true,
   "toc_window_display": false
  }
 },
 "nbformat": 4,
 "nbformat_minor": 5
}
