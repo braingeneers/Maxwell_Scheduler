{
 "cells": [
  {
   "cell_type": "markdown",
   "id": "afdf0269",
   "metadata": {},
   "source": [
    "<font size=7> Lab Device 3 Simulation"
   ]
  },
  {
   "cell_type": "markdown",
   "id": "197cf68d",
   "metadata": {},
   "source": [
    "This notebooks pretends to be a lab device that follows the labs schedule for when to do stuff. The lab device uses the internet of things to be notified about updates in the experiments schedule. Useful [schedule reference](https://schedule.readthedocs.io/en/stable/examples.html)"
   ]
  },
  {
   "cell_type": "markdown",
   "id": "155566ac",
   "metadata": {},
   "source": [
    "# Run IoT on device"
   ]
  },
  {
   "cell_type": "markdown",
   "id": "48ac5798",
   "metadata": {},
   "source": [
    "## Set up notebook"
   ]
  },
  {
   "cell_type": "code",
   "execution_count": 1,
   "id": "ef080920",
   "metadata": {},
   "outputs": [],
   "source": [
    "%run ../../\"IoT Functions.ipynb\" #  kinda ipynb equivalent of import"
   ]
  },
  {
   "cell_type": "code",
   "execution_count": 2,
   "id": "bbdf6fd4",
   "metadata": {},
   "outputs": [],
   "source": [
    "#from braingeneers.iot import  *\n",
    "#import builtins"
   ]
  },
  {
   "cell_type": "code",
   "execution_count": 3,
   "id": "202bea5e",
   "metadata": {},
   "outputs": [],
   "source": [
    "#from simple import * # before running this command, make sure you copy the latest vesion of simply.py to the same folder as this file"
   ]
  },
  {
   "cell_type": "markdown",
   "id": "52c90094",
   "metadata": {},
   "source": [
    "function on device"
   ]
  },
  {
   "cell_type": "code",
   "execution_count": 2,
   "id": "4aa2d653",
   "metadata": {},
   "outputs": [],
   "source": [
    "def sayHello(name):\n",
    "    print(\"hello \",name)"
   ]
  },
  {
   "cell_type": "markdown",
   "id": "d5365c37",
   "metadata": {},
   "source": [
    "classes on device"
   ]
  },
  {
   "cell_type": "code",
   "execution_count": 3,
   "id": "8811c2e9",
   "metadata": {},
   "outputs": [],
   "source": [
    "class Count:\n",
    "    count=0\n",
    "    def add_one(self):\n",
    "        self.count+=1"
   ]
  },
  {
   "cell_type": "markdown",
   "id": "93b94035",
   "metadata": {},
   "source": [
    "create object from class"
   ]
  },
  {
   "cell_type": "code",
   "execution_count": 4,
   "id": "d4a11b44",
   "metadata": {},
   "outputs": [],
   "source": [
    "my_count= Count()"
   ]
  },
  {
   "cell_type": "markdown",
   "id": "9dc31f42",
   "metadata": {},
   "source": [
    "### Start iot"
   ]
  },
  {
   "cell_type": "markdown",
   "id": "2f2354a9",
   "metadata": {},
   "source": [
    "Start iot on device"
   ]
  },
  {
   "cell_type": "code",
   "execution_count": 5,
   "id": "75296854",
   "metadata": {},
   "outputs": [],
   "source": [
    "ready_iot()\n",
    "exec( builtins.ready_iot )"
   ]
  },
  {
   "cell_type": "code",
   "execution_count": 6,
   "id": "be44eff8",
   "metadata": {
    "scrolled": false
   },
   "outputs": [
    {
     "name": "stderr",
     "output_type": "stream",
     "text": [
      "/opt/conda/lib/python3.8/site-packages/urllib3/connectionpool.py:1043: InsecureRequestWarning: Unverified HTTPS request is being made to host 'data.iot.us-west-2.amazonaws.com'. Adding certificate verification is strongly advised. See: https://urllib3.readthedocs.io/en/1.26.x/advanced-usage.html#ssl-warnings\n",
      "  warnings.warn(\n",
      "DEBUG:schedule:Run Command: schedule.every().hour.at(\":00\").do( sayHello, name='Alice')\n",
      "DEBUG:schedule:Running job Job(interval=1, unit=hours, do=sayHello, args=(), kwargs={'name': 'Alice'})\n",
      "--- Logging error ---\n",
      "Traceback (most recent call last):\n",
      "  File \"/opt/conda/lib/python3.8/logging/__init__.py\", line 1081, in emit\n",
      "    msg = self.format(record)\n",
      "  File \"/opt/conda/lib/python3.8/logging/__init__.py\", line 925, in format\n",
      "    return fmt.format(record)\n",
      "  File \"/opt/conda/lib/python3.8/logging/__init__.py\", line 664, in format\n",
      "    record.message = record.getMessage()\n",
      "  File \"/opt/conda/lib/python3.8/logging/__init__.py\", line 369, in getMessage\n",
      "    msg = msg % self.args\n",
      "TypeError: not all arguments converted during string formatting\n",
      "Call stack:\n",
      "  File \"/opt/conda/lib/python3.8/runpy.py\", line 194, in _run_module_as_main\n",
      "    return _run_code(code, main_globals, None,\n",
      "  File \"/opt/conda/lib/python3.8/runpy.py\", line 87, in _run_code\n",
      "    exec(code, run_globals)\n",
      "  File \"/opt/conda/lib/python3.8/site-packages/ipykernel_launcher.py\", line 16, in <module>\n",
      "    app.launch_new_instance()\n",
      "  File \"/opt/conda/lib/python3.8/site-packages/traitlets/config/application.py\", line 845, in launch_instance\n",
      "    app.start()\n",
      "  File \"/opt/conda/lib/python3.8/site-packages/ipykernel/kernelapp.py\", line 612, in start\n",
      "    self.io_loop.start()\n",
      "  File \"/opt/conda/lib/python3.8/site-packages/tornado/platform/asyncio.py\", line 199, in start\n",
      "    self.asyncio_loop.run_forever()\n",
      "  File \"/opt/conda/lib/python3.8/asyncio/base_events.py\", line 570, in run_forever\n",
      "    self._run_once()\n",
      "  File \"/opt/conda/lib/python3.8/asyncio/base_events.py\", line 1859, in _run_once\n",
      "    handle._run()\n",
      "  File \"/opt/conda/lib/python3.8/asyncio/events.py\", line 81, in _run\n",
      "    self._context.run(self._callback, *self._args)\n",
      "  File \"/opt/conda/lib/python3.8/site-packages/tornado/ioloop.py\", line 688, in <lambda>\n",
      "    lambda f: self._run_callback(functools.partial(callback, future))\n",
      "  File \"/opt/conda/lib/python3.8/site-packages/tornado/ioloop.py\", line 741, in _run_callback\n",
      "    ret = callback()\n",
      "  File \"/opt/conda/lib/python3.8/site-packages/tornado/gen.py\", line 814, in inner\n",
      "    self.ctx_run(self.run)\n",
      "  File \"/opt/conda/lib/python3.8/site-packages/tornado/gen.py\", line 775, in run\n",
      "    yielded = self.gen.send(value)\n",
      "  File \"/opt/conda/lib/python3.8/site-packages/ipykernel/kernelbase.py\", line 358, in process_one\n",
      "    yield gen.maybe_future(dispatch(*args))\n",
      "  File \"/opt/conda/lib/python3.8/site-packages/tornado/gen.py\", line 234, in wrapper\n",
      "    yielded = ctx_run(next, result)\n",
      "  File \"/opt/conda/lib/python3.8/site-packages/ipykernel/kernelbase.py\", line 261, in dispatch_shell\n",
      "    yield gen.maybe_future(handler(stream, idents, msg))\n",
      "  File \"/opt/conda/lib/python3.8/site-packages/tornado/gen.py\", line 234, in wrapper\n",
      "    yielded = ctx_run(next, result)\n",
      "  File \"/opt/conda/lib/python3.8/site-packages/ipykernel/kernelbase.py\", line 536, in execute_request\n",
      "    self.do_execute(\n",
      "  File \"/opt/conda/lib/python3.8/site-packages/tornado/gen.py\", line 234, in wrapper\n",
      "    yielded = ctx_run(next, result)\n",
      "  File \"/opt/conda/lib/python3.8/site-packages/ipykernel/ipkernel.py\", line 302, in do_execute\n",
      "    res = shell.run_cell(code, store_history=store_history, silent=silent)\n",
      "  File \"/opt/conda/lib/python3.8/site-packages/ipykernel/zmqshell.py\", line 539, in run_cell\n",
      "    return super(ZMQInteractiveShell, self).run_cell(*args, **kwargs)\n",
      "  File \"/opt/conda/lib/python3.8/site-packages/IPython/core/interactiveshell.py\", line 2894, in run_cell\n",
      "    result = self._run_cell(\n",
      "  File \"/opt/conda/lib/python3.8/site-packages/IPython/core/interactiveshell.py\", line 2940, in _run_cell\n",
      "    return runner(coro)\n",
      "  File \"/opt/conda/lib/python3.8/site-packages/IPython/core/async_helpers.py\", line 68, in _pseudo_sync_runner\n",
      "    coro.send(None)\n",
      "  File \"/opt/conda/lib/python3.8/site-packages/IPython/core/interactiveshell.py\", line 3165, in run_cell_async\n",
      "    has_raised = await self.run_ast_nodes(code_ast.body, cell_name,\n",
      "  File \"/opt/conda/lib/python3.8/site-packages/IPython/core/interactiveshell.py\", line 3357, in run_ast_nodes\n",
      "    if (await self.run_code(code, result,  async_=asy)):\n",
      "  File \"/opt/conda/lib/python3.8/site-packages/IPython/core/interactiveshell.py\", line 3437, in run_code\n",
      "    exec(code_obj, self.user_global_ns, self.user_ns)\n",
      "  File \"<ipython-input-6-79dbbe912a6f>\", line 1, in <module>\n",
      "    start_iot( device_name=\"ephys\", device_type=\"dummy\", experiment=\"test_experiment\" )\n",
      "  File \"<string>\", line 82, in start_iot\n",
      "  File \"/opt/conda/lib/python3.8/site-packages/schedule/__init__.py\", line 818, in run_pending\n",
      "    default_scheduler.run_pending()\n",
      "  File \"/opt/conda/lib/python3.8/site-packages/schedule/__init__.py\", line 100, in run_pending\n",
      "    self._run_job(job)\n",
      "  File \"/opt/conda/lib/python3.8/site-packages/schedule/__init__.py\", line 172, in _run_job\n",
      "    ret = job.run()\n",
      "  File \"/opt/conda/lib/python3.8/site-packages/schedule/__init__.py\", line 689, in run\n",
      "    ret = self.job_func()\n",
      "  File \"<ipython-input-2-80b854a45401>\", line 2, in sayHello\n",
      "    print(\"hello \",name)\n",
      "Message: 'hello '\n",
      "Arguments: ('Alice',)\n",
      "--- Logging error ---\n",
      "Traceback (most recent call last):\n",
      "  File \"/opt/conda/lib/python3.8/logging/__init__.py\", line 1081, in emit\n",
      "    msg = self.format(record)\n",
      "  File \"/opt/conda/lib/python3.8/logging/__init__.py\", line 925, in format\n",
      "    return fmt.format(record)\n",
      "  File \"/opt/conda/lib/python3.8/logging/__init__.py\", line 664, in format\n",
      "    record.message = record.getMessage()\n",
      "  File \"/opt/conda/lib/python3.8/logging/__init__.py\", line 369, in getMessage\n",
      "    msg = msg % self.args\n",
      "TypeError: not all arguments converted during string formatting\n",
      "Call stack:\n",
      "  File \"/opt/conda/lib/python3.8/runpy.py\", line 194, in _run_module_as_main\n",
      "    return _run_code(code, main_globals, None,\n",
      "  File \"/opt/conda/lib/python3.8/runpy.py\", line 87, in _run_code\n",
      "    exec(code, run_globals)\n",
      "  File \"/opt/conda/lib/python3.8/site-packages/ipykernel_launcher.py\", line 16, in <module>\n",
      "    app.launch_new_instance()\n",
      "  File \"/opt/conda/lib/python3.8/site-packages/traitlets/config/application.py\", line 845, in launch_instance\n",
      "    app.start()\n",
      "  File \"/opt/conda/lib/python3.8/site-packages/ipykernel/kernelapp.py\", line 612, in start\n",
      "    self.io_loop.start()\n",
      "  File \"/opt/conda/lib/python3.8/site-packages/tornado/platform/asyncio.py\", line 199, in start\n",
      "    self.asyncio_loop.run_forever()\n",
      "  File \"/opt/conda/lib/python3.8/asyncio/base_events.py\", line 570, in run_forever\n",
      "    self._run_once()\n",
      "  File \"/opt/conda/lib/python3.8/asyncio/base_events.py\", line 1859, in _run_once\n",
      "    handle._run()\n",
      "  File \"/opt/conda/lib/python3.8/asyncio/events.py\", line 81, in _run\n",
      "    self._context.run(self._callback, *self._args)\n",
      "  File \"/opt/conda/lib/python3.8/site-packages/tornado/ioloop.py\", line 688, in <lambda>\n",
      "    lambda f: self._run_callback(functools.partial(callback, future))\n",
      "  File \"/opt/conda/lib/python3.8/site-packages/tornado/ioloop.py\", line 741, in _run_callback\n",
      "    ret = callback()\n",
      "  File \"/opt/conda/lib/python3.8/site-packages/tornado/gen.py\", line 814, in inner\n",
      "    self.ctx_run(self.run)\n",
      "  File \"/opt/conda/lib/python3.8/site-packages/tornado/gen.py\", line 775, in run\n",
      "    yielded = self.gen.send(value)\n",
      "  File \"/opt/conda/lib/python3.8/site-packages/ipykernel/kernelbase.py\", line 358, in process_one\n",
      "    yield gen.maybe_future(dispatch(*args))\n",
      "  File \"/opt/conda/lib/python3.8/site-packages/tornado/gen.py\", line 234, in wrapper\n",
      "    yielded = ctx_run(next, result)\n",
      "  File \"/opt/conda/lib/python3.8/site-packages/ipykernel/kernelbase.py\", line 261, in dispatch_shell\n",
      "    yield gen.maybe_future(handler(stream, idents, msg))\n",
      "  File \"/opt/conda/lib/python3.8/site-packages/tornado/gen.py\", line 234, in wrapper\n",
      "    yielded = ctx_run(next, result)\n",
      "  File \"/opt/conda/lib/python3.8/site-packages/ipykernel/kernelbase.py\", line 536, in execute_request\n",
      "    self.do_execute(\n",
      "  File \"/opt/conda/lib/python3.8/site-packages/tornado/gen.py\", line 234, in wrapper\n",
      "    yielded = ctx_run(next, result)\n",
      "  File \"/opt/conda/lib/python3.8/site-packages/ipykernel/ipkernel.py\", line 302, in do_execute\n",
      "    res = shell.run_cell(code, store_history=store_history, silent=silent)\n",
      "  File \"/opt/conda/lib/python3.8/site-packages/ipykernel/zmqshell.py\", line 539, in run_cell\n",
      "    return super(ZMQInteractiveShell, self).run_cell(*args, **kwargs)\n",
      "  File \"/opt/conda/lib/python3.8/site-packages/IPython/core/interactiveshell.py\", line 2894, in run_cell\n",
      "    result = self._run_cell(\n",
      "  File \"/opt/conda/lib/python3.8/site-packages/IPython/core/interactiveshell.py\", line 2940, in _run_cell\n",
      "    return runner(coro)\n",
      "  File \"/opt/conda/lib/python3.8/site-packages/IPython/core/async_helpers.py\", line 68, in _pseudo_sync_runner\n",
      "    coro.send(None)\n",
      "  File \"/opt/conda/lib/python3.8/site-packages/IPython/core/interactiveshell.py\", line 3165, in run_cell_async\n",
      "    has_raised = await self.run_ast_nodes(code_ast.body, cell_name,\n",
      "  File \"/opt/conda/lib/python3.8/site-packages/IPython/core/interactiveshell.py\", line 3357, in run_ast_nodes\n",
      "    if (await self.run_code(code, result,  async_=asy)):\n",
      "  File \"/opt/conda/lib/python3.8/site-packages/IPython/core/interactiveshell.py\", line 3437, in run_code\n",
      "    exec(code_obj, self.user_global_ns, self.user_ns)\n",
      "  File \"<ipython-input-6-79dbbe912a6f>\", line 1, in <module>\n",
      "    start_iot( device_name=\"ephys\", device_type=\"dummy\", experiment=\"test_experiment\" )\n",
      "  File \"<string>\", line 82, in start_iot\n",
      "  File \"/opt/conda/lib/python3.8/site-packages/schedule/__init__.py\", line 818, in run_pending\n",
      "    default_scheduler.run_pending()\n",
      "  File \"/opt/conda/lib/python3.8/site-packages/schedule/__init__.py\", line 100, in run_pending\n",
      "    self._run_job(job)\n",
      "  File \"/opt/conda/lib/python3.8/site-packages/schedule/__init__.py\", line 172, in _run_job\n",
      "    ret = job.run()\n",
      "  File \"/opt/conda/lib/python3.8/site-packages/schedule/__init__.py\", line 689, in run\n",
      "    ret = self.job_func()\n",
      "  File \"<ipython-input-2-80b854a45401>\", line 2, in sayHello\n",
      "    print(\"hello \",name)\n",
      "Message: 'hello '\n",
      "Arguments: ('Alice',)\n"
     ]
    },
    {
     "name": "stderr",
     "output_type": "stream",
     "text": [
      "DEBUG:schedule:Run Command: global iot_status; iot_status='shutdown'\n"
     ]
    }
   ],
   "source": [
    "start_iot( device_name=\"ephys\", device_type=\"dummy\", experiment=\"test_experiment\" )"
   ]
  },
  {
   "cell_type": "code",
   "execution_count": null,
   "id": "7971c396",
   "metadata": {},
   "outputs": [],
   "source": [
    "sayHello(\"hello\")"
   ]
  },
  {
   "cell_type": "code",
   "execution_count": null,
   "id": "e8ef66df",
   "metadata": {},
   "outputs": [],
   "source": []
  }
 ],
 "metadata": {
  "hide_input": false,
  "kernelspec": {
   "display_name": "Python 3",
   "language": "python",
   "name": "python3"
  },
  "language_info": {
   "codemirror_mode": {
    "name": "ipython",
    "version": 3
   },
   "file_extension": ".py",
   "mimetype": "text/x-python",
   "name": "python",
   "nbconvert_exporter": "python",
   "pygments_lexer": "ipython3",
   "version": "3.8.8"
  },
  "toc": {
   "base_numbering": 1,
   "nav_menu": {},
   "number_sections": true,
   "sideBar": true,
   "skip_h1_title": false,
   "title_cell": "Table of Contents",
   "title_sidebar": "Contents",
   "toc_cell": false,
   "toc_position": {},
   "toc_section_display": true,
   "toc_window_display": false
  },
  "widgets": {
   "application/vnd.jupyter.widget-state+json": {
    "state": {},
    "version_major": 2,
    "version_minor": 0
   }
  }
 },
 "nbformat": 4,
 "nbformat_minor": 5
}
