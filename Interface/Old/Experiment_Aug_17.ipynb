{
 "cells": [
  {
   "cell_type": "markdown",
   "id": "04dc7a2f",
   "metadata": {},
   "source": [
    "<font size=7> Schedule Test"
   ]
  },
  {
   "cell_type": "code",
   "execution_count": 2,
   "id": "7838644c",
   "metadata": {},
   "outputs": [],
   "source": [
    "import schedule"
   ]
  },
  {
   "cell_type": "code",
   "execution_count": 7,
   "id": "0d673738",
   "metadata": {},
   "outputs": [
    {
     "data": {
      "text/plain": [
       "[]"
      ]
     },
     "execution_count": 7,
     "metadata": {},
     "output_type": "execute_result"
    }
   ],
   "source": [
    "schedule.get_jobs()"
   ]
  },
  {
   "cell_type": "code",
   "execution_count": null,
   "id": "67e6b0eb",
   "metadata": {},
   "outputs": [],
   "source": [
    "schedule.every(30).seconds.until('23:59').do( maxone.test_record )"
   ]
  },
  {
   "cell_type": "code",
   "execution_count": 12,
   "id": "19cf5e87",
   "metadata": {},
   "outputs": [],
   "source": [
    "exec('def checkit_out():\\n    print(\"check it out\")\\n    return')"
   ]
  },
  {
   "cell_type": "code",
   "execution_count": null,
   "id": "8a1a15b1",
   "metadata": {},
   "outputs": [],
   "source": [
    "schedule.every(30).seconds.until('2022-08-17 23:08').do( maxone.test_record )"
   ]
  },
  {
   "cell_type": "code",
   "execution_count": null,
   "id": "4b43705c",
   "metadata": {},
   "outputs": [],
   "source": []
  },
  {
   "cell_type": "code",
   "execution_count": null,
   "id": "a3f0aa6a",
   "metadata": {},
   "outputs": [],
   "source": []
  },
  {
   "cell_type": "code",
   "execution_count": null,
   "id": "4ecc715a",
   "metadata": {},
   "outputs": [],
   "source": []
  },
  {
   "cell_type": "code",
   "execution_count": null,
   "id": "09309876",
   "metadata": {},
   "outputs": [],
   "source": []
  },
  {
   "cell_type": "code",
   "execution_count": 5,
   "id": "39e2045a",
   "metadata": {},
   "outputs": [
    {
     "data": {
      "text/plain": [
       "Every 1 day at 02:43:00 do job_that_executes_once() (last run: [never], next run: 2022-08-18 02:43:00)"
      ]
     },
     "execution_count": 5,
     "metadata": {},
     "output_type": "execute_result"
    }
   ],
   "source": [
    "import schedule\n",
    "import time\n",
    "\n",
    "def start_record_at(time=\"02:43\", wait=2):\n",
    "    # Do some work that only needs to happen once...\n",
    "    print(\"hello\")\n",
    "    \n",
    "    schedule.every(wait).seconds\n",
    "    return schedule.CancelJob\n",
    "\n",
    "schedule.every().day.at('02:43').do( )\n",
    "\n"
   ]
  },
  {
   "cell_type": "code",
   "execution_count": 6,
   "id": "da062f90",
   "metadata": {},
   "outputs": [
    {
     "name": "stdout",
     "output_type": "stream",
     "text": [
      "hello\n"
     ]
    },
    {
     "ename": "KeyboardInterrupt",
     "evalue": "",
     "output_type": "error",
     "traceback": [
      "\u001b[0;31m---------------------------------------------------------------------------\u001b[0m",
      "\u001b[0;31mKeyboardInterrupt\u001b[0m                         Traceback (most recent call last)",
      "\u001b[0;32m<ipython-input-6-2d78333a8181>\u001b[0m in \u001b[0;36m<module>\u001b[0;34m\u001b[0m\n\u001b[1;32m      1\u001b[0m \u001b[0;32mwhile\u001b[0m \u001b[0;32mTrue\u001b[0m\u001b[0;34m:\u001b[0m\u001b[0;34m\u001b[0m\u001b[0;34m\u001b[0m\u001b[0m\n\u001b[1;32m      2\u001b[0m     \u001b[0mschedule\u001b[0m\u001b[0;34m.\u001b[0m\u001b[0mrun_pending\u001b[0m\u001b[0;34m(\u001b[0m\u001b[0;34m)\u001b[0m\u001b[0;34m\u001b[0m\u001b[0;34m\u001b[0m\u001b[0m\n\u001b[0;32m----> 3\u001b[0;31m     \u001b[0mtime\u001b[0m\u001b[0;34m.\u001b[0m\u001b[0msleep\u001b[0m\u001b[0;34m(\u001b[0m\u001b[0;36m1\u001b[0m\u001b[0;34m)\u001b[0m\u001b[0;34m\u001b[0m\u001b[0;34m\u001b[0m\u001b[0m\n\u001b[0m",
      "\u001b[0;31mKeyboardInterrupt\u001b[0m: "
     ]
    }
   ],
   "source": [
    "while True:\n",
    "    schedule.run_pending()\n",
    "    time.sleep(1)"
   ]
  },
  {
   "cell_type": "markdown",
   "id": "02497e4c",
   "metadata": {},
   "source": [
    "# Real Code"
   ]
  },
  {
   "cell_type": "code",
   "execution_count": null,
   "id": "2b09fd27",
   "metadata": {},
   "outputs": [],
   "source": [
    "exec('def record_2():\\n    print(\"RAN RECORD_2 FUNCTION\")\\n    maxone.prepareRecording( data_path=\"/home/mxwbio/wetai/Data/test\", config=\"/home/mxwbio/wetai/Configs/test.cfg\", record_only_spikes=False, minutes=2, gain=512 )\\n    schedule.every(90).seconds.until(\"05:00\").do( smart_record )\\n    return schedule.CancelJob')\n"
   ]
  },
  {
   "cell_type": "code",
   "execution_count": null,
   "id": "65f08e42",
   "metadata": {},
   "outputs": [],
   "source": [
    "exec('def record_3():\\n    print(\"RAN RECORD_3 FUNCTION\")\\n    maxone.prepareRecording( data_path=\"/home/mxwbio/wetai/Data/test\", config=\"/home/mxwbio/wetai/Configs/test.cfg\", record_only_spikes=False, minutes=5, gain=512 )\\n    schedule.every(10).minutes.until(\"09:00\").do( smart_record )\\n    return schedule.CancelJob')\n",
    "\n"
   ]
  },
  {
   "cell_type": "code",
   "execution_count": null,
   "id": "7f2296e0",
   "metadata": {},
   "outputs": [],
   "source": []
  },
  {
   "cell_type": "code",
   "execution_count": null,
   "id": "69c64e37",
   "metadata": {},
   "outputs": [],
   "source": []
  },
  {
   "cell_type": "code",
   "execution_count": null,
   "id": "51d58b84",
   "metadata": {},
   "outputs": [],
   "source": [
    "schedule.every().day.at('03:00').do( record_2 )"
   ]
  },
  {
   "cell_type": "code",
   "execution_count": null,
   "id": "673112ef",
   "metadata": {},
   "outputs": [],
   "source": [
    "schedule.every().day.at('07:00').do( record_3 )"
   ]
  },
  {
   "cell_type": "code",
   "execution_count": null,
   "id": "f2f68c99",
   "metadata": {},
   "outputs": [],
   "source": [
    "schedule.every().day.at('22:28').do( record_1 )"
   ]
  },
  {
   "cell_type": "code",
   "execution_count": null,
   "id": "610514cb",
   "metadata": {},
   "outputs": [],
   "source": []
  },
  {
   "cell_type": "code",
   "execution_count": null,
   "id": "71bc00d4",
   "metadata": {},
   "outputs": [],
   "source": [
    "schedule.every(30).seconds.until('02:00').do( maxone. )"
   ]
  },
  {
   "cell_type": "code",
   "execution_count": null,
   "id": "db4e9322",
   "metadata": {},
   "outputs": [],
   "source": []
  },
  {
   "cell_type": "code",
   "execution_count": null,
   "id": "5fe7c3d6",
   "metadata": {},
   "outputs": [],
   "source": [
    "def record_1:\n",
    "    maxone.prepareRecording( data_path=\"/home/mxwbio/wetai/Data/test\", config=\"/home/mxwbio/wetai/Configs/test.cfg\", record_only_spikes=False, minutes=1, gain=512 )\n",
    "    schedule.every(30).seconds.until(\"01:00\").do( smart_record )\n",
    "    return schedule.CancelJob"
   ]
  },
  {
   "cell_type": "code",
   "execution_count": null,
   "id": "a5a922a9",
   "metadata": {},
   "outputs": [],
   "source": [
    "def record_2():\n",
    "    print(\"RAN RECORD_2 FUNCTION\")\n",
    "    maxone.prepareRecording( data_path=\"/home/mxwbio/wetai/Data/test\", config=\"/home/mxwbio/wetai/Configs/test.cfg\", record_only_spikes=False, minutes=2, gain=512 )\n",
    "    schedule.every(90).seconds.until(\"05:00\").do( smart_record )\n",
    "    return schedule.CancelJob"
   ]
  },
  {
   "cell_type": "code",
   "execution_count": null,
   "id": "5a230b82",
   "metadata": {},
   "outputs": [],
   "source": [
    "def record_3():\n",
    "    print(\"RAN RECORD_3 FUNCTION\")\n",
    "    maxone.prepareRecording( data_path=\"/home/mxwbio/wetai/Data/test\", config=\"/home/mxwbio/wetai/Configs/test.cfg\", record_only_spikes=False, minutes=5, gain=512 )\n",
    "    schedule.every(10).minutes.until(\"09:00\").do( smart_record )\n",
    "    return schedule.CancelJob"
   ]
  },
  {
   "cell_type": "code",
   "execution_count": null,
   "id": "c110b096",
   "metadata": {},
   "outputs": [],
   "source": [
    "schedule.every().day.at('02:00').do( record_2 )"
   ]
  },
  {
   "cell_type": "code",
   "execution_count": null,
   "id": "6d3b8fd0",
   "metadata": {},
   "outputs": [],
   "source": [
    "schedule.every().day.at('06:00').do( record_3 )"
   ]
  },
  {
   "cell_type": "markdown",
   "id": "47061f28",
   "metadata": {},
   "source": [
    "# Test"
   ]
  },
  {
   "cell_type": "code",
   "execution_count": 14,
   "id": "4ce1bd49",
   "metadata": {},
   "outputs": [],
   "source": [
    "def checkit_out():\n",
    "    print(\"check it out\")\n",
    "    return"
   ]
  },
  {
   "cell_type": "code",
   "execution_count": 15,
   "id": "bfd88bcc",
   "metadata": {},
   "outputs": [],
   "source": [
    "def record_test():\n",
    "    schedule.every().second.until(\"03:26\").do( checkit_out )\n",
    "    return schedule.CancelJob"
   ]
  },
  {
   "cell_type": "code",
   "execution_count": null,
   "id": "556b14af",
   "metadata": {},
   "outputs": [],
   "source": []
  },
  {
   "cell_type": "code",
   "execution_count": 16,
   "id": "aba2c11f",
   "metadata": {},
   "outputs": [
    {
     "data": {
      "text/plain": [
       "Every 1 day at 03:25:00 do record_test() (last run: [never], next run: 2022-08-18 03:25:00)"
      ]
     },
     "execution_count": 16,
     "metadata": {},
     "output_type": "execute_result"
    }
   ],
   "source": [
    "schedule.every().day.at('03:25').do( record_test )"
   ]
  },
  {
   "cell_type": "code",
   "execution_count": 17,
   "id": "19eed027",
   "metadata": {},
   "outputs": [
    {
     "name": "stdout",
     "output_type": "stream",
     "text": [
      "check it out\n",
      "check it out\n",
      "check it out\n",
      "check it out\n",
      "check it out\n",
      "check it out\n",
      "check it out\n",
      "check it out\n",
      "check it out\n",
      "check it out\n",
      "check it out\n",
      "check it out\n",
      "check it out\n",
      "check it out\n",
      "check it out\n",
      "check it out\n",
      "check it out\n",
      "check it out\n",
      "check it out\n",
      "check it out\n",
      "check it out\n",
      "check it out\n",
      "check it out\n",
      "check it out\n",
      "check it out\n",
      "check it out\n",
      "check it out\n",
      "check it out\n",
      "check it out\n",
      "check it out\n",
      "check it out\n",
      "check it out\n",
      "check it out\n",
      "check it out\n",
      "check it out\n",
      "check it out\n",
      "check it out\n",
      "check it out\n",
      "check it out\n",
      "check it out\n",
      "check it out\n",
      "check it out\n",
      "check it out\n",
      "check it out\n",
      "check it out\n",
      "check it out\n",
      "check it out\n",
      "check it out\n",
      "check it out\n",
      "check it out\n",
      "check it out\n",
      "check it out\n",
      "check it out\n",
      "check it out\n",
      "check it out\n",
      "check it out\n",
      "check it out\n",
      "check it out\n",
      "check it out\n"
     ]
    },
    {
     "ename": "KeyboardInterrupt",
     "evalue": "",
     "output_type": "error",
     "traceback": [
      "\u001b[0;31m---------------------------------------------------------------------------\u001b[0m",
      "\u001b[0;31mKeyboardInterrupt\u001b[0m                         Traceback (most recent call last)",
      "\u001b[0;32m<ipython-input-17-2d78333a8181>\u001b[0m in \u001b[0;36m<module>\u001b[0;34m\u001b[0m\n\u001b[1;32m      1\u001b[0m \u001b[0;32mwhile\u001b[0m \u001b[0;32mTrue\u001b[0m\u001b[0;34m:\u001b[0m\u001b[0;34m\u001b[0m\u001b[0;34m\u001b[0m\u001b[0m\n\u001b[1;32m      2\u001b[0m     \u001b[0mschedule\u001b[0m\u001b[0;34m.\u001b[0m\u001b[0mrun_pending\u001b[0m\u001b[0;34m(\u001b[0m\u001b[0;34m)\u001b[0m\u001b[0;34m\u001b[0m\u001b[0;34m\u001b[0m\u001b[0m\n\u001b[0;32m----> 3\u001b[0;31m     \u001b[0mtime\u001b[0m\u001b[0;34m.\u001b[0m\u001b[0msleep\u001b[0m\u001b[0;34m(\u001b[0m\u001b[0;36m1\u001b[0m\u001b[0;34m)\u001b[0m\u001b[0;34m\u001b[0m\u001b[0;34m\u001b[0m\u001b[0m\n\u001b[0m",
      "\u001b[0;31mKeyboardInterrupt\u001b[0m: "
     ]
    }
   ],
   "source": [
    "while True:\n",
    "    schedule.run_pending()\n",
    "    time.sleep(1)"
   ]
  },
  {
   "cell_type": "code",
   "execution_count": null,
   "id": "aa0e65ff",
   "metadata": {},
   "outputs": [],
   "source": []
  },
  {
   "cell_type": "code",
   "execution_count": null,
   "id": "edddb230",
   "metadata": {},
   "outputs": [],
   "source": []
  }
 ],
 "metadata": {
  "hide_input": false,
  "kernelspec": {
   "display_name": "Python 3",
   "language": "python",
   "name": "python3"
  },
  "language_info": {
   "codemirror_mode": {
    "name": "ipython",
    "version": 3
   },
   "file_extension": ".py",
   "mimetype": "text/x-python",
   "name": "python",
   "nbconvert_exporter": "python",
   "pygments_lexer": "ipython3",
   "version": "3.8.8"
  },
  "toc": {
   "base_numbering": 1,
   "nav_menu": {},
   "number_sections": false,
   "sideBar": true,
   "skip_h1_title": false,
   "title_cell": "Table of Contents",
   "title_sidebar": "Contents",
   "toc_cell": false,
   "toc_position": {},
   "toc_section_display": true,
   "toc_window_display": false
  }
 },
 "nbformat": 4,
 "nbformat_minor": 5
}
