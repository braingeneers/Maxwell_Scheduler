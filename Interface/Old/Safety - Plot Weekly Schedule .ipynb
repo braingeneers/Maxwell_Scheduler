{
 "cells": [
  {
   "cell_type": "markdown",
   "id": "43853ff1",
   "metadata": {},
   "source": [
    "<font size=7>Plot Weekly Schedule"
   ]
  },
  {
   "cell_type": "markdown",
   "id": "73e1825e",
   "metadata": {},
   "source": [
    "In this notebook we attempt to build a weekly calendar of when different IoT devices are running. In this approach we get the times of events from the [scheduler](https://schedule.readthedocs.io/en/stable/) we are using to control devices. These events are then plotted by addapting the weekly calendar code [written here](https://github.com/utkuufuk/weekplot/blob/master/weekplot.py)."
   ]
  },
  {
   "cell_type": "markdown",
   "id": "2457bf58",
   "metadata": {},
   "source": [
    "**References**\n",
    "* [scheduler documentation](https://schedule.readthedocs.io/en/stable/)\n",
    "* [weekply plot github](https://github.com/utkuufuk/weekplot)"
   ]
  },
  {
   "cell_type": "markdown",
   "id": "ade46f90",
   "metadata": {},
   "source": [
    "<font color=\"red\">\n",
    "    \n",
    "**To Do**\n",
    "* Get timezones working for schedule\n",
    "* Get schedule_str and jobs from iot state\n",
    "* Get schedule from multiple iot devices from same experiment"
   ]
  },
  {
   "cell_type": "markdown",
   "id": "da62af64",
   "metadata": {},
   "source": [
    "# <font color=\"gray\">Set up notebook"
   ]
  },
  {
   "cell_type": "markdown",
   "id": "693c45e2",
   "metadata": {},
   "source": [
    "We must install the latest version of schedule from github"
   ]
  },
  {
   "cell_type": "code",
   "execution_count": null,
   "id": "cbc52512",
   "metadata": {},
   "outputs": [],
   "source": [
    "#!python -m pip install --force-reinstall 'git+https://github.com/dbader/schedule.git'"
   ]
  },
  {
   "cell_type": "markdown",
   "id": "d80beba7",
   "metadata": {},
   "source": [
    "import the packages that were used to create the [weekly plot](https://github.com/utkuufuk/weekplot/blob/master/weekplot.py)"
   ]
  },
  {
   "cell_type": "code",
   "execution_count": null,
   "id": "a26424ca",
   "metadata": {},
   "outputs": [],
   "source": [
    "#!pip install namedlist\n",
    "# maybe not needed #!pip install --upgrade matplotlib"
   ]
  },
  {
   "cell_type": "code",
   "execution_count": 41,
   "id": "9132fa45",
   "metadata": {},
   "outputs": [],
   "source": [
    "import os\n",
    "import sys\n",
    "import yaml\n",
    "from math import ceil\n",
    "import matplotlib.pyplot as plt\n",
    "from namedlist import namedlist"
   ]
  },
  {
   "cell_type": "markdown",
   "id": "658afbce",
   "metadata": {},
   "source": [
    "import scheduling package and datetime package"
   ]
  },
  {
   "cell_type": "code",
   "execution_count": 30,
   "id": "0621543d",
   "metadata": {},
   "outputs": [],
   "source": [
    "import schedule\n",
    "import datetime\n",
    "from datetime import date, datetime, timedelta\n",
    "from dateutil import tz"
   ]
  },
  {
   "cell_type": "markdown",
   "id": "e94aa53a",
   "metadata": {},
   "source": [
    "import plotly to make schedule look fancy"
   ]
  },
  {
   "cell_type": "code",
   "execution_count": null,
   "id": "63ad472f",
   "metadata": {},
   "outputs": [],
   "source": [
    "#!pip install chart_studio"
   ]
  },
  {
   "cell_type": "code",
   "execution_count": null,
   "id": "81c419ce",
   "metadata": {},
   "outputs": [],
   "source": [
    "#import chart_studio.plotly as py"
   ]
  },
  {
   "cell_type": "markdown",
   "id": "a44e2bac",
   "metadata": {},
   "source": [
    "## How to use time zones"
   ]
  },
  {
   "cell_type": "code",
   "execution_count": 17,
   "id": "1815dd13",
   "metadata": {},
   "outputs": [],
   "source": [
    "def sayHello(name):\n",
    "    print(\"Hello \",name)"
   ]
  },
  {
   "cell_type": "code",
   "execution_count": 18,
   "id": "07a5c9cb",
   "metadata": {},
   "outputs": [],
   "source": [
    "import pytz\n",
    "#pytz.all_timezones"
   ]
  },
  {
   "cell_type": "code",
   "execution_count": 19,
   "id": "6945fc39",
   "metadata": {},
   "outputs": [],
   "source": [
    "import schedule"
   ]
  },
  {
   "cell_type": "code",
   "execution_count": 36,
   "id": "c44f705a",
   "metadata": {},
   "outputs": [],
   "source": [
    "schedule.clear()"
   ]
  },
  {
   "cell_type": "code",
   "execution_count": 39,
   "id": "eaf6e43f",
   "metadata": {},
   "outputs": [
    {
     "data": {
      "text/plain": [
       "Every 1 day at 14:00:00 do sayHello(name='Time 2') (last run: [never], next run: 2022-06-25 21:00:00)"
      ]
     },
     "execution_count": 39,
     "metadata": {},
     "output_type": "execute_result"
    }
   ],
   "source": [
    "schedule.every().day.at(\"14:00\",'US/Pacific').do(sayHello, name='Time 2') "
   ]
  },
  {
   "cell_type": "code",
   "execution_count": 84,
   "id": "6f01af36",
   "metadata": {},
   "outputs": [
    {
     "data": {
      "text/plain": [
       "Every 1 second do sayHello(name='Alice') (last run: [never], next run: 2022-06-25 01:34:24)"
      ]
     },
     "execution_count": 84,
     "metadata": {},
     "output_type": "execute_result"
    }
   ],
   "source": [
    "schedule.every().second.do(sayHello, name='Alice') "
   ]
  },
  {
   "cell_type": "code",
   "execution_count": 86,
   "id": "47204499",
   "metadata": {},
   "outputs": [
    {
     "data": {
      "text/plain": [
       "[Every 1 day at 08:00:00 do sayHello(name='Time 1') (last run: [never], next run: 2022-06-25 15:00:00),\n",
       " Every 1 day at 14:00:00 do sayHello(name='Time 2') (last run: [never], next run: 2022-06-25 21:00:00),\n",
       " Every 1 second do sayHello(name='Alice') (last run: 2022-06-25 01:34:33, next run: 2022-06-25 01:34:34)]"
      ]
     },
     "execution_count": 86,
     "metadata": {},
     "output_type": "execute_result"
    }
   ],
   "source": [
    "schedule.get_jobs()"
   ]
  },
  {
   "cell_type": "code",
   "execution_count": null,
   "id": "e869fdf9",
   "metadata": {},
   "outputs": [],
   "source": []
  },
  {
   "cell_type": "code",
   "execution_count": 43,
   "id": "609a03eb",
   "metadata": {},
   "outputs": [],
   "source": [
    "today = datetime.combine(date.today(), datetime.min.time())"
   ]
  },
  {
   "cell_type": "code",
   "execution_count": 46,
   "id": "ed7be6aa",
   "metadata": {},
   "outputs": [
    {
     "data": {
      "text/plain": [
       "[Every 1 day at 08:00:00 do sayHello(name='Time 1') (last run: [never], next run: 2022-06-25 15:00:00),\n",
       " Every 1 day at 14:00:00 do sayHello(name='Time 2') (last run: [never], next run: 2022-06-25 21:00:00)]"
      ]
     },
     "execution_count": 46,
     "metadata": {},
     "output_type": "execute_result"
    }
   ],
   "source": [
    "schedule.get_jobs() #[0].__str__()"
   ]
  },
  {
   "cell_type": "code",
   "execution_count": 31,
   "id": "35c73522",
   "metadata": {},
   "outputs": [
    {
     "data": {
      "text/plain": [
       "datetime.datetime(2022, 6, 25, 0, 59, 1, 513686)"
      ]
     },
     "execution_count": 31,
     "metadata": {},
     "output_type": "execute_result"
    }
   ],
   "source": [
    "datetime.now()"
   ]
  },
  {
   "cell_type": "markdown",
   "id": "88f087c6",
   "metadata": {},
   "source": [
    "## Change next run on schedule string"
   ]
  },
  {
   "cell_type": "code",
   "execution_count": 47,
   "id": "d5dffad4",
   "metadata": {},
   "outputs": [],
   "source": [
    "job = schedule.get_jobs()[0]"
   ]
  },
  {
   "cell_type": "code",
   "execution_count": 53,
   "id": "9b67f1a7",
   "metadata": {},
   "outputs": [],
   "source": []
  },
  {
   "cell_type": "code",
   "execution_count": null,
   "id": "b88f6b4e",
   "metadata": {},
   "outputs": [],
   "source": []
  },
  {
   "cell_type": "code",
   "execution_count": null,
   "id": "acf534b1",
   "metadata": {},
   "outputs": [],
   "source": []
  },
  {
   "cell_type": "code",
   "execution_count": null,
   "id": "7de96a52",
   "metadata": {},
   "outputs": [],
   "source": []
  },
  {
   "cell_type": "code",
   "execution_count": null,
   "id": "999d3c83",
   "metadata": {},
   "outputs": [],
   "source": []
  },
  {
   "cell_type": "code",
   "execution_count": 131,
   "id": "f1c642cc",
   "metadata": {},
   "outputs": [],
   "source": [
    "def _updateIot(device_name):\n",
    "    \"\"\"Updates the IoT device's publicly visible state according to the local schedule/status\"\"\"\n",
    "    \n",
    "    jobs, jobs_str = [],[]\n",
    "    for i,job in enumerate(schedule.get_jobs()):\n",
    "        jobs.append( job.__str__() )                                     # append python command that wass used to create shceduled job\n",
    "        #print(i) #print(job.__str__()) #print(job.__repr__())\n",
    "        \n",
    "        job_str = f\"Job {i}: \"+job.__repr__()\n",
    "        if job.last_run:                                                                                # if job was previously run\n",
    "            last_time = job.last_run.astimezone(tz.gettz('US/Pacific')).strftime(\"%Y-%m-%d %H:%M:%S\")   # get time of last scheduled event\n",
    "            job_str = job_str.split(\"last run: \")[0]+\"last run: \"+last_time+\", next run: \"\n",
    "        next_time = job.next_run.astimezone(tz.gettz('US/Pacific')).strftime(\"%Y-%m-%d %H:%M:%S)\")      # get time of next scheduled event     \n",
    "        jobs_str.append( job_str.split(\"next run: \")[0]+\"next run: \"+next_time )# append\n",
    "        \n",
    "    mb.update_device_state( device_name, {\"schedule\":jobs_str, \"jobs\":jobs, \"status\":iot_status} )\n"
   ]
  },
  {
   "cell_type": "code",
   "execution_count": 132,
   "id": "2ea01aa3",
   "metadata": {},
   "outputs": [],
   "source": [
    "jobs_str, jobs = _updateIot(\"hasdf\")"
   ]
  },
  {
   "cell_type": "code",
   "execution_count": 133,
   "id": "03e04fb7",
   "metadata": {},
   "outputs": [
    {
     "data": {
      "text/plain": [
       "[\"Job 0: Every 1 day at 08:00:00 do sayHello(name='Time 1') (last run: [never], next run: 2022-06-25 08:00:00)\",\n",
       " \"Job 1: Every 1 day at 14:00:00 do sayHello(name='Time 2') (last run: [never], next run: 2022-06-25 14:00:00)\",\n",
       " \"Job 2: Every 1 second do sayHello(name='Alice') (last run: 2022-06-24 18:34:33, next run: 2022-06-24 18:34:34)\"]"
      ]
     },
     "execution_count": 133,
     "metadata": {},
     "output_type": "execute_result"
    }
   ],
   "source": [
    "jobs_str"
   ]
  },
  {
   "cell_type": "code",
   "execution_count": null,
   "id": "c6f5d022",
   "metadata": {},
   "outputs": [],
   "source": []
  },
  {
   "cell_type": "code",
   "execution_count": 130,
   "id": "86dc8184",
   "metadata": {},
   "outputs": [
    {
     "data": {
      "text/plain": [
       "[Every 1 day at 08:00:00 do sayHello(name='Time 1') (last run: [never], next run: 2022-06-25 15:00:00),\n",
       " Every 1 day at 14:00:00 do sayHello(name='Time 2') (last run: [never], next run: 2022-06-25 21:00:00),\n",
       " Every 1 second do sayHello(name='Alice') (last run: 2022-06-25 01:34:33, next run: 2022-06-25 01:34:34)]"
      ]
     },
     "execution_count": 130,
     "metadata": {},
     "output_type": "execute_result"
    }
   ],
   "source": [
    "schedule.get_jobs()"
   ]
  },
  {
   "cell_type": "code",
   "execution_count": 134,
   "id": "767c59e3",
   "metadata": {},
   "outputs": [
    {
     "data": {
      "text/plain": [
       "[\"Job(interval=1, unit=days, do=sayHello, args=(), kwargs={'name': 'Time 1'})\",\n",
       " \"Job(interval=1, unit=days, do=sayHello, args=(), kwargs={'name': 'Time 2'})\",\n",
       " \"Job(interval=1, unit=seconds, do=sayHello, args=(), kwargs={'name': 'Alice'})\"]"
      ]
     },
     "execution_count": 134,
     "metadata": {},
     "output_type": "execute_result"
    }
   ],
   "source": [
    "jobs"
   ]
  },
  {
   "cell_type": "code",
   "execution_count": null,
   "id": "c3c4b3ef",
   "metadata": {},
   "outputs": [],
   "source": []
  },
  {
   "cell_type": "code",
   "execution_count": 110,
   "id": "bce0cdc0",
   "metadata": {},
   "outputs": [],
   "source": [
    "job = schedule.get_jobs()[2]\n",
    "i=2"
   ]
  },
  {
   "cell_type": "code",
   "execution_count": 119,
   "id": "ee2bc0ae",
   "metadata": {},
   "outputs": [],
   "source": [
    "job_str = f\"Job {i}: \"+job.__repr__()"
   ]
  },
  {
   "cell_type": "code",
   "execution_count": null,
   "id": "aa4a306e",
   "metadata": {},
   "outputs": [],
   "source": []
  },
  {
   "cell_type": "code",
   "execution_count": 125,
   "id": "66a0480f",
   "metadata": {},
   "outputs": [
    {
     "data": {
      "text/plain": [
       "\"Job 2: Every 1 second do sayHello(name='Alice') (last run: 2022-06-25 01:34:33, next run: 2022-06-25 01:34:34)\""
      ]
     },
     "execution_count": 125,
     "metadata": {},
     "output_type": "execute_result"
    }
   ],
   "source": [
    "job_str"
   ]
  },
  {
   "cell_type": "code",
   "execution_count": 124,
   "id": "5c8c3a89",
   "metadata": {},
   "outputs": [
    {
     "data": {
      "text/plain": [
       "\"Job 2: Every 1 second do sayHello(name='Alice') (last run: 2022-06-24 18:34:33\""
      ]
     },
     "execution_count": 124,
     "metadata": {},
     "output_type": "execute_result"
    }
   ],
   "source": [
    "job_str.split(\"last run: \")[0]+\"last run: \"+last_time+\", next run: \""
   ]
  },
  {
   "cell_type": "code",
   "execution_count": null,
   "id": "706a1c0d",
   "metadata": {},
   "outputs": [],
   "source": []
  },
  {
   "cell_type": "code",
   "execution_count": null,
   "id": "06f4ae68",
   "metadata": {},
   "outputs": [],
   "source": []
  },
  {
   "cell_type": "code",
   "execution_count": 120,
   "id": "43906451",
   "metadata": {},
   "outputs": [
    {
     "data": {
      "text/plain": [
       "\"Job 2: Every 1 second do sayHello(name='Alice') (last run: 2022-06-25 01:34:33, next run: 2022-06-25 01:34:34)\""
      ]
     },
     "execution_count": 120,
     "metadata": {},
     "output_type": "execute_result"
    }
   ],
   "source": [
    "job_str"
   ]
  },
  {
   "cell_type": "code",
   "execution_count": 122,
   "id": "e1f5bc14",
   "metadata": {},
   "outputs": [
    {
     "data": {
      "text/plain": [
       "[\"Job 2: Every 1 second do sayHello(name='Alice') (\",\n",
       " '2022-06-25 01:34:33, next run: 2022-06-25 01:34:34)']"
      ]
     },
     "execution_count": 122,
     "metadata": {},
     "output_type": "execute_result"
    }
   ],
   "source": []
  },
  {
   "cell_type": "code",
   "execution_count": null,
   "id": "d73d195d",
   "metadata": {},
   "outputs": [],
   "source": []
  },
  {
   "cell_type": "code",
   "execution_count": 111,
   "id": "90bac7c2",
   "metadata": {},
   "outputs": [
    {
     "data": {
      "text/plain": [
       "\"Job(interval=1, unit=seconds, do=sayHello, args=(), kwargs={'name': 'Alice'})\""
      ]
     },
     "execution_count": 111,
     "metadata": {},
     "output_type": "execute_result"
    }
   ],
   "source": [
    "job.__str__()"
   ]
  },
  {
   "cell_type": "code",
   "execution_count": 112,
   "id": "5c9d7ad6",
   "metadata": {},
   "outputs": [],
   "source": [
    "next_time = job.next_run.astimezone(tz.gettz('US/Pacific')).strftime(\"%Y-%m-%d %H:%M:%S)\")"
   ]
  },
  {
   "cell_type": "code",
   "execution_count": 113,
   "id": "a85d717f",
   "metadata": {},
   "outputs": [
    {
     "data": {
      "text/plain": [
       "'2022-06-24 18:34:34)'"
      ]
     },
     "execution_count": 113,
     "metadata": {},
     "output_type": "execute_result"
    }
   ],
   "source": [
    "next_time"
   ]
  },
  {
   "cell_type": "code",
   "execution_count": 118,
   "id": "4a29fbb6",
   "metadata": {},
   "outputs": [
    {
     "data": {
      "text/plain": [
       "\"Job 2: Every 1 second do sayHello(name='Alice') (last run: 2022-06-25 01:34:33, next run: 2022-06-24 18:34:34)\""
      ]
     },
     "execution_count": 118,
     "metadata": {},
     "output_type": "execute_result"
    }
   ],
   "source": [
    "f\"Job {i}: \"+job.__repr__().split(\"next run: \")[0]+\"next run: \"+next_time"
   ]
  },
  {
   "cell_type": "code",
   "execution_count": 117,
   "id": "3d0ea336",
   "metadata": {},
   "outputs": [
    {
     "data": {
      "text/plain": [
       "[\"Every 1 second do sayHello(name='Alice') (last run: 2022-06-25 01:34:33, \",\n",
       " '2022-06-25 01:34:34)']"
      ]
     },
     "execution_count": 117,
     "metadata": {},
     "output_type": "execute_result"
    }
   ],
   "source": [
    "job.__repr__().split(\"next run: \")"
   ]
  },
  {
   "cell_type": "code",
   "execution_count": null,
   "id": "3e1e31e4",
   "metadata": {},
   "outputs": [],
   "source": []
  },
  {
   "cell_type": "code",
   "execution_count": null,
   "id": "d528a7e8",
   "metadata": {},
   "outputs": [],
   "source": []
  },
  {
   "cell_type": "code",
   "execution_count": null,
   "id": "9876218d",
   "metadata": {},
   "outputs": [],
   "source": []
  },
  {
   "cell_type": "code",
   "execution_count": 114,
   "id": "fa4da74c",
   "metadata": {},
   "outputs": [
    {
     "data": {
      "text/plain": [
       "\"Job 2: Every 1 second do sayHello(name='Alice') (last run: 2022-06-25 01:34:33, 2022-06-24 18:34:34)\""
      ]
     },
     "execution_count": 114,
     "metadata": {},
     "output_type": "execute_result"
    }
   ],
   "source": [
    "f\"Job {i}: \"+job.__repr__().split(\"next run: \")[0]+next_time"
   ]
  },
  {
   "cell_type": "code",
   "execution_count": null,
   "id": "ac5b44e9",
   "metadata": {},
   "outputs": [],
   "source": []
  },
  {
   "cell_type": "code",
   "execution_count": 103,
   "id": "d0ea04aa",
   "metadata": {},
   "outputs": [
    {
     "data": {
      "text/plain": [
       "Every 1 second do sayHello(name='Alice') (last run: 2022-06-25 01:34:33, next run: 2022-06-25 01:34:34)"
      ]
     },
     "execution_count": 103,
     "metadata": {},
     "output_type": "execute_result"
    }
   ],
   "source": [
    "job"
   ]
  },
  {
   "cell_type": "code",
   "execution_count": null,
   "id": "4a7f9817",
   "metadata": {},
   "outputs": [],
   "source": []
  },
  {
   "cell_type": "code",
   "execution_count": 105,
   "id": "6b276c0f",
   "metadata": {},
   "outputs": [],
   "source": [
    "last_time = job.last_run.astimezone(tz.gettz('US/Pacific')).strftime(\"%Y-%m-%d %H:%M:%S\")"
   ]
  },
  {
   "cell_type": "code",
   "execution_count": 102,
   "id": "b38e2cfc",
   "metadata": {},
   "outputs": [
    {
     "data": {
      "text/plain": [
       "'2022-06-24 18:34:33'"
      ]
     },
     "execution_count": 102,
     "metadata": {},
     "output_type": "execute_result"
    }
   ],
   "source": [
    "last_time"
   ]
  },
  {
   "cell_type": "code",
   "execution_count": 108,
   "id": "5757ff20",
   "metadata": {},
   "outputs": [
    {
     "data": {
      "text/plain": [
       "[\"Every 1 second do sayHello(name='Alice') (\",\n",
       " '2022-06-25 01:34:33, next run: 2022-06-25 01:34:34)']"
      ]
     },
     "execution_count": 108,
     "metadata": {},
     "output_type": "execute_result"
    }
   ],
   "source": [
    "job.__repr__().split(\"last run: \")"
   ]
  },
  {
   "cell_type": "code",
   "execution_count": null,
   "id": "d9cee6ce",
   "metadata": {},
   "outputs": [],
   "source": []
  },
  {
   "cell_type": "code",
   "execution_count": null,
   "id": "b398210e",
   "metadata": {},
   "outputs": [],
   "source": []
  },
  {
   "cell_type": "code",
   "execution_count": null,
   "id": "387d7f87",
   "metadata": {},
   "outputs": [],
   "source": []
  },
  {
   "cell_type": "code",
   "execution_count": 109,
   "id": "72d975b2",
   "metadata": {},
   "outputs": [
    {
     "data": {
      "text/plain": [
       "\"Every 1 second do sayHello(name='Alice') (last run: 2022-06-25 01:34:33, \""
      ]
     },
     "execution_count": 109,
     "metadata": {},
     "output_type": "execute_result"
    }
   ],
   "source": [
    "job.__repr__().split(\"next run: \")[0]"
   ]
  },
  {
   "cell_type": "code",
   "execution_count": null,
   "id": "67b4ef97",
   "metadata": {},
   "outputs": [],
   "source": []
  },
  {
   "cell_type": "code",
   "execution_count": null,
   "id": "b9cac695",
   "metadata": {},
   "outputs": [],
   "source": []
  },
  {
   "cell_type": "code",
   "execution_count": null,
   "id": "87aa2bfc",
   "metadata": {},
   "outputs": [],
   "source": []
  },
  {
   "cell_type": "code",
   "execution_count": null,
   "id": "d16187db",
   "metadata": {},
   "outputs": [],
   "source": []
  },
  {
   "cell_type": "code",
   "execution_count": null,
   "id": "d3940df6",
   "metadata": {},
   "outputs": [],
   "source": []
  },
  {
   "cell_type": "code",
   "execution_count": null,
   "id": "c5058933",
   "metadata": {},
   "outputs": [],
   "source": []
  },
  {
   "cell_type": "code",
   "execution_count": 83,
   "id": "51f0568b",
   "metadata": {},
   "outputs": [],
   "source": [
    "if job.last_run:\n",
    "    print(\"hello\")"
   ]
  },
  {
   "cell_type": "code",
   "execution_count": 79,
   "id": "337190f9",
   "metadata": {},
   "outputs": [
    {
     "data": {
      "text/plain": [
       "[\"Job 0: Every 1 day at 08:00:00 do sayHello(name='Time 1') (last run: [never], 2022-06-25 08:00:00)\",\n",
       " \"Job 1: Every 1 day at 14:00:00 do sayHello(name='Time 2') (last run: [never], 2022-06-25 14:00:00)\"]"
      ]
     },
     "execution_count": 79,
     "metadata": {},
     "output_type": "execute_result"
    }
   ],
   "source": [
    "jobs_str"
   ]
  },
  {
   "cell_type": "code",
   "execution_count": 80,
   "id": "4f1aa170",
   "metadata": {},
   "outputs": [
    {
     "ename": "NameError",
     "evalue": "name 'job_str' is not defined",
     "output_type": "error",
     "traceback": [
      "\u001b[0;31m---------------------------------------------------------------------------\u001b[0m",
      "\u001b[0;31mNameError\u001b[0m                                 Traceback (most recent call last)",
      "\u001b[0;32m<ipython-input-80-ebf65662c377>\u001b[0m in \u001b[0;36m<module>\u001b[0;34m\u001b[0m\n\u001b[0;32m----> 1\u001b[0;31m \u001b[0mjob_str\u001b[0m\u001b[0;34m\u001b[0m\u001b[0;34m\u001b[0m\u001b[0m\n\u001b[0m",
      "\u001b[0;31mNameError\u001b[0m: name 'job_str' is not defined"
     ]
    }
   ],
   "source": [
    "job_str"
   ]
  },
  {
   "cell_type": "code",
   "execution_count": null,
   "id": "1f24e6e9",
   "metadata": {},
   "outputs": [],
   "source": []
  },
  {
   "cell_type": "code",
   "execution_count": 71,
   "id": "cf351d97",
   "metadata": {},
   "outputs": [
    {
     "data": {
      "text/plain": [
       "[\"Job 0: Every 1 day at 08:00:00 do sayHello(name='Time 1') (last run: [never], next run: 2022-06-25 15:00:00)\",\n",
       " \"Job 1: Every 1 day at 14:00:00 do sayHello(name='Time 2') (last run: [never], next run: 2022-06-25 21:00:00)\"]"
      ]
     },
     "execution_count": 71,
     "metadata": {},
     "output_type": "execute_result"
    }
   ],
   "source": [
    "jobs_str"
   ]
  },
  {
   "cell_type": "code",
   "execution_count": 76,
   "id": "f548389c",
   "metadata": {},
   "outputs": [
    {
     "data": {
      "text/plain": [
       "\"Job 1: Every 1 day at 14:00:00 do sayHello(name='Time 2') (last run: [never], \""
      ]
     },
     "execution_count": 76,
     "metadata": {},
     "output_type": "execute_result"
    }
   ],
   "source": [
    "jobs_str[1]"
   ]
  },
  {
   "cell_type": "code",
   "execution_count": null,
   "id": "c606d4f8",
   "metadata": {},
   "outputs": [],
   "source": []
  },
  {
   "cell_type": "code",
   "execution_count": 59,
   "id": "aeae5ffd",
   "metadata": {},
   "outputs": [],
   "source": []
  },
  {
   "cell_type": "code",
   "execution_count": null,
   "id": "d1ea6cd3",
   "metadata": {},
   "outputs": [],
   "source": []
  },
  {
   "cell_type": "code",
   "execution_count": null,
   "id": "efb63869",
   "metadata": {},
   "outputs": [],
   "source": []
  },
  {
   "cell_type": "code",
   "execution_count": null,
   "id": "e0fa848c",
   "metadata": {},
   "outputs": [],
   "source": []
  },
  {
   "cell_type": "code",
   "execution_count": 50,
   "id": "bf6a9acd",
   "metadata": {},
   "outputs": [
    {
     "data": {
      "text/plain": [
       "\"Job(interval=1, unit=days, do=sayHello, args=(), kwargs={'name': 'Time 1'})\""
      ]
     },
     "execution_count": 50,
     "metadata": {},
     "output_type": "execute_result"
    }
   ],
   "source": []
  },
  {
   "cell_type": "code",
   "execution_count": null,
   "id": "0ffa3d5e",
   "metadata": {},
   "outputs": [],
   "source": []
  },
  {
   "cell_type": "code",
   "execution_count": null,
   "id": "8ac2de5c",
   "metadata": {},
   "outputs": [],
   "source": []
  },
  {
   "cell_type": "code",
   "execution_count": null,
   "id": "335c1028",
   "metadata": {},
   "outputs": [],
   "source": []
  },
  {
   "cell_type": "markdown",
   "id": "94f8f4e7",
   "metadata": {},
   "source": [
    "# <font color=\"purple\"> Get event times from schedule "
   ]
  },
  {
   "cell_type": "markdown",
   "id": "16b5398a",
   "metadata": {},
   "source": [
    "## <font color=\"orange\">Assuming we have schedule object"
   ]
  },
  {
   "cell_type": "markdown",
   "id": "6f1fed7b",
   "metadata": {},
   "source": [
    "Create a dummy function to use for testing"
   ]
  },
  {
   "cell_type": "code",
   "execution_count": null,
   "id": "43fd519e",
   "metadata": {},
   "outputs": [],
   "source": [
    "def sayHello(name):\n",
    "    print(\"hello \", name)"
   ]
  },
  {
   "cell_type": "markdown",
   "id": "3b246368",
   "metadata": {},
   "source": [
    "Create a dummy scheduled task"
   ]
  },
  {
   "cell_type": "code",
   "execution_count": null,
   "id": "65d23f64",
   "metadata": {},
   "outputs": [],
   "source": [
    "#schedule.every().day.at(\"14:24\", 'US/Pacific').do(sayHello, name='Alice')   # timezones doessn't work yet"
   ]
  },
  {
   "cell_type": "code",
   "execution_count": null,
   "id": "4046eca8",
   "metadata": {},
   "outputs": [],
   "source": [
    "schedule.every().day.at(\"14:24\").do(sayHello, name='Alice')   # timezones doessn't work yet\n",
    "schedule.every(2).hours.at(\":00\").do(sayHello, name='Bob')\n",
    "schedule.every(34).minutes.do(sayHello, name='Zoro')\n",
    "schedule.get_jobs()"
   ]
  },
  {
   "cell_type": "code",
   "execution_count": null,
   "id": "fca4f140",
   "metadata": {},
   "outputs": [],
   "source": [
    "#schedule.clear()"
   ]
  },
  {
   "cell_type": "markdown",
   "id": "91855647",
   "metadata": {},
   "source": [
    "get the job we created and the get all the times it will runs in between last monday and this monday"
   ]
  },
  {
   "cell_type": "code",
   "execution_count": null,
   "id": "fc27b317",
   "metadata": {},
   "outputs": [],
   "source": [
    "jobs= schedule.get_jobs()\n",
    "job = jobs[0]"
   ]
  },
  {
   "cell_type": "markdown",
   "id": "1508fe54",
   "metadata": {},
   "source": [
    "Get time of last monday and next monday"
   ]
  },
  {
   "cell_type": "code",
   "execution_count": null,
   "id": "e962aec2",
   "metadata": {},
   "outputs": [],
   "source": [
    "today = datetime.combine(date.today(), datetime.min.time())\n",
    "last_mon = today - timedelta(days=-today.weekday(), weeks=1) #+ datetime.timedelta(days=1)\n",
    "next_mon = today + timedelta(days=-today.weekday(), weeks=1) #+ datetime.timedelta(days=1)"
   ]
  },
  {
   "cell_type": "markdown",
   "id": "1cf0ec8f",
   "metadata": {},
   "source": [
    "Get all time that job occures before next monday."
   ]
  },
  {
   "cell_type": "code",
   "execution_count": null,
   "id": "e4878128",
   "metadata": {},
   "outputs": [],
   "source": [
    "job_times = []\n",
    "next_run = job.next_run\n",
    "while next_run < next_mon:\n",
    "    job_times.append(next_run)\n",
    "    next_run += job.period"
   ]
  },
  {
   "cell_type": "markdown",
   "id": "ce77f7e3",
   "metadata": {},
   "source": [
    "## <font color=\"purple\"> times from IoT state info"
   ]
  },
  {
   "cell_type": "markdown",
   "id": "b25a3ad7",
   "metadata": {},
   "source": [
    "The iot state info that we are able to grab are `schedule_str` and `jobs`. we must parse the info to build the schedule from these list of strings"
   ]
  },
  {
   "cell_type": "code",
   "execution_count": null,
   "id": "2f7856e1",
   "metadata": {},
   "outputs": [],
   "source": [
    "schedule_str= [f\"Job {i}: \"+x.__repr__() for i,x in enumerate(schedule.get_jobs())]   # After running jobs, get updated schedule info \n",
    "jobs= [job.__str__() for job in schedule.get_jobs()] "
   ]
  },
  {
   "cell_type": "markdown",
   "id": "87502b42",
   "metadata": {},
   "source": [
    "parse next start time from `schedule_str`"
   ]
  },
  {
   "cell_type": "code",
   "execution_count": null,
   "id": "11052913",
   "metadata": {},
   "outputs": [],
   "source": [
    "for i in range(len(jobs)):\n",
    "    next_run= datetime.fromisoformat( schedule_str[i].split(\"next run: \")[1].split(\")\")[0] )\n",
    "    period = timedelta(**{ jobs[i].split(\"unit=\")[1].split(\",\")[0] : int(jobs[i].split(\"interval=\")[1].split(\",\")[0]) })"
   ]
  },
  {
   "cell_type": "markdown",
   "id": "98ff71bb",
   "metadata": {},
   "source": [
    "get time of last monday and this monday"
   ]
  },
  {
   "cell_type": "code",
   "execution_count": null,
   "id": "d6cf7ae5",
   "metadata": {},
   "outputs": [],
   "source": [
    "today = datetime.combine(date.today(), datetime.min.time())\n",
    "last_mon = today - timedelta(days=-today.weekday(), weeks=1) #+ datetime.timedelta(days=1)\n",
    "next_mon = today + timedelta(days=-today.weekday(), weeks=1) #+ datetime.timedelta(days=1)"
   ]
  },
  {
   "cell_type": "markdown",
   "id": "6d36c900",
   "metadata": {},
   "source": [
    "Get all times that job occures before next monday."
   ]
  },
  {
   "cell_type": "code",
   "execution_count": null,
   "id": "6250d26d",
   "metadata": {},
   "outputs": [],
   "source": [
    "job_times = []\n",
    "while next_run < next_mon:\n",
    "    job_times.append(next_run)\n",
    "    next_run += period\n"
   ]
  },
  {
   "cell_type": "code",
   "execution_count": null,
   "id": "efb0a946",
   "metadata": {},
   "outputs": [],
   "source": [
    "#len(job_times)"
   ]
  },
  {
   "cell_type": "markdown",
   "id": "f01b146f",
   "metadata": {
    "heading_collapsed": true
   },
   "source": [
    "## <font color=\"brown\"> Playing with datetime"
   ]
  },
  {
   "cell_type": "markdown",
   "id": "145ef3e4",
   "metadata": {
    "hidden": true
   },
   "source": [
    "get current time"
   ]
  },
  {
   "cell_type": "code",
   "execution_count": null,
   "id": "109ca9d8",
   "metadata": {
    "hidden": true
   },
   "outputs": [],
   "source": [
    "import datetime\n",
    "now = datetime.datetime.now()\n",
    "#datetime.datetime(2009, 1, 6, 15, 8, 24, 78915)\n",
    "print(now)\n"
   ]
  },
  {
   "cell_type": "markdown",
   "id": "c35a3fa2",
   "metadata": {
    "hidden": true
   },
   "source": [
    "get time zones"
   ]
  },
  {
   "cell_type": "code",
   "execution_count": null,
   "id": "39b4a977",
   "metadata": {
    "hidden": true
   },
   "outputs": [],
   "source": [
    "import pytz\n",
    "#pytz.all_timezones"
   ]
  },
  {
   "cell_type": "markdown",
   "id": "6f06dfec",
   "metadata": {
    "hidden": true
   },
   "source": [
    "Get last Monday"
   ]
  },
  {
   "cell_type": "code",
   "execution_count": null,
   "id": "827e6e0a",
   "metadata": {
    "hidden": true
   },
   "outputs": [],
   "source": [
    "today = datetime.date.today()\n",
    "last_mon = today - datetime.timedelta(days=-today.weekday(), weeks=1) #+ datetime.timedelta(days=1)\n"
   ]
  },
  {
   "cell_type": "markdown",
   "id": "86ab17fc",
   "metadata": {
    "hidden": true
   },
   "source": [
    "Get next monday"
   ]
  },
  {
   "cell_type": "code",
   "execution_count": null,
   "id": "0920cdf3",
   "metadata": {
    "hidden": true
   },
   "outputs": [],
   "source": [
    "today = datetime.date.today()\n",
    "next_mon = today + datetime.timedelta(days=-today.weekday(), weeks=1) #+ datetime.timedelta(days=1)\n"
   ]
  },
  {
   "cell_type": "markdown",
   "id": "e1ceb0c8",
   "metadata": {
    "hidden": true
   },
   "source": [
    "See if time is `datetime` object happens before another `datetime`"
   ]
  },
  {
   "cell_type": "code",
   "execution_count": null,
   "id": "f2fa6a0d",
   "metadata": {
    "hidden": true
   },
   "outputs": [],
   "source": [
    "next_mon < last_mon\n",
    "last_mon < next_mon\n"
   ]
  },
  {
   "cell_type": "code",
   "execution_count": null,
   "id": "4e82f01e",
   "metadata": {
    "hidden": true
   },
   "outputs": [],
   "source": []
  },
  {
   "cell_type": "markdown",
   "id": "9a6b2e24",
   "metadata": {},
   "source": [
    "# <font color=\"blue\"> Create weekly calendar <font color=\"red\">- Not Done"
   ]
  },
  {
   "cell_type": "markdown",
   "id": "06756209",
   "metadata": {
    "heading_collapsed": true
   },
   "source": [
    "## <font color=\"blue\"> Run example from github <font color=\"red\">- Not Done"
   ]
  },
  {
   "cell_type": "markdown",
   "id": "43824875",
   "metadata": {
    "heading_collapsed": true,
    "hidden": true
   },
   "source": [
    "### <font color=\"blue\"> Example Helper Code"
   ]
  },
  {
   "cell_type": "code",
   "execution_count": null,
   "id": "01e60208",
   "metadata": {
    "hidden": true
   },
   "outputs": [],
   "source": [
    "DAYS = ['Monday','Tuesday', 'Wednesday', 'Thursday', 'Friday', 'Saturday', 'Sunday']\n",
    "Event = namedlist('Event', 'name, days, startH, startM, endH, endM, color')\n",
    "\n",
    "def getDay(prefix):\n",
    "    for d in DAYS:\n",
    "        if d.startswith(prefix):\n",
    "            return d\n",
    "    raise UserWarning(\"Invalid day: {0}\".format(prefix))\n",
    "\n",
    "\n",
    "def parseTxt(filename):\n",
    "    with open(filename) as fp:\n",
    "        lines = fp.readlines()\n",
    "    index = 0\n",
    "    latest = 0\n",
    "    earliest = 24\n",
    "    events = [Event('', '', '', '', '', '', '')]\n",
    "    for line in lines:\n",
    "        line = line.rstrip()\n",
    "        index += 1\n",
    "        if index == 1:\n",
    "            events[-1].name = line\n",
    "        elif index == 2:\n",
    "            events[-1].days = [getDay(d) for d in line.replace(' ', '').split(',')]\n",
    "        elif index == 3:\n",
    "            hours = line.replace(' ', '').split('-')\n",
    "            start = hours[0].split(':')\n",
    "            end = hours[1].split(':')\n",
    "            events[-1].startH = int(start[0])\n",
    "            events[-1].startM = int(start[1])\n",
    "            events[-1].endH = int(end[0])\n",
    "            events[-1].endM = int(end[1])\n",
    "            earliest = events[-1].startH if events[-1].startH < earliest else earliest\n",
    "            latest = events[-1].endH + 1 if events[-1].endH > latest else latest\n",
    "        elif index == 4:\n",
    "            events[-1].color = line\n",
    "        elif index == 5 and line == '':\n",
    "            events.append(Event('', '', '', '', '', '', ''))\n",
    "            index = 0\n",
    "        else:\n",
    "            raise UserWarning(\"Invalid text input format.\")\n",
    "    return events, earliest, latest + 1\n",
    "\n",
    "def plotEvent(e):\n",
    "    for day in e.days:\n",
    "        d = DAYS.index(day) + 0.52\n",
    "        start = float(e.startH) + float(e.startM) / 60\n",
    "        end = float(e.endH) + float(e.endM) / 60\n",
    "        plt.fill_between([d, d + 0.96], [start, start], [end, end], color=e.color)\n",
    "        plt.text(d + 0.02, start + 0.02, '{0}:{1:0>2}'.format(e.startH, e.startM), va='top', fontsize=8)\n",
    "        plt.text(d + 0.48, (start + end) * 0.502, e.name, ha='center', va='center', fontsize=10)"
   ]
  },
  {
   "cell_type": "markdown",
   "id": "a7306b24",
   "metadata": {
    "heading_collapsed": true,
    "hidden": true
   },
   "source": [
    "### <font color=\"blue\"> Run Example"
   ]
  },
  {
   "cell_type": "markdown",
   "id": "710f3dd1",
   "metadata": {
    "hidden": true
   },
   "source": [
    "Get data from text file"
   ]
  },
  {
   "cell_type": "code",
   "execution_count": null,
   "id": "4496fa5e",
   "metadata": {
    "hidden": true
   },
   "outputs": [],
   "source": [
    "events, earliest, latest = parseTxt(\"weekplot_events.txt\")"
   ]
  },
  {
   "cell_type": "code",
   "execution_count": null,
   "id": "c4394bc9",
   "metadata": {
    "hidden": true
   },
   "outputs": [],
   "source": [
    "events\n",
    "earliest\n",
    "latest"
   ]
  },
  {
   "cell_type": "markdown",
   "id": "d2d74511",
   "metadata": {
    "hidden": true
   },
   "source": [
    "Create plot "
   ]
  },
  {
   "cell_type": "code",
   "execution_count": null,
   "id": "e1b37d9f",
   "metadata": {
    "hidden": true
   },
   "outputs": [],
   "source": [
    "fig = plt.figure(figsize=(18, 9))\n",
    "#plt.figure().clear()\n",
    "#plt.close()\n",
    "#plt.cla()\n",
    "#plt.clf()\n",
    "\n",
    "plt.title('Weekly Schedule', y=1, fontsize=14)\n",
    "ax=fig.add_subplot(1, 1, 1)\n",
    "ax.grid(axis='y', linestyle='--', linewidth=0.5)\n",
    "\n",
    "ax.set_xlim(0.5, len(DAYS) + 0.5)\n",
    "ax.set_xticks(range(1, len(DAYS) + 1))\n",
    "ax.set_xticklabels(DAYS)\n",
    "ax.set_ylim(latest, earliest)\n",
    "ax.set_yticks(range(ceil(earliest), ceil(latest)))\n",
    "ax.set_yticklabels([\"{0}:00\".format(h) for h in range(ceil(earliest), ceil(latest))])\n",
    "#plt.savefig('{0}.png'.format(os.path.splitext(sys.argv[1])[0]), dpi=200, bbox_inches='tight')\n",
    "\n",
    "for e in events:\n",
    "    plotEvent(e)"
   ]
  },
  {
   "cell_type": "markdown",
   "id": "d933ca1e",
   "metadata": {},
   "source": [
    "## <font color=\"blue\"> Adapt example <font color=\"green\"> - assuming IoT State data"
   ]
  },
  {
   "cell_type": "code",
   "execution_count": 45,
   "id": "70f8da9d",
   "metadata": {},
   "outputs": [
    {
     "data": {
      "image/png": "[encoded data removed]",
      "text/plain": [
       "<Figure size 1296x1080 with 2 Axes>"
      ]
     },
     "metadata": {
      "needs_background": "light"
     },
     "output_type": "display_data"
    }
   ],
   "source": [
    "fig = plt.figure(figsize=(18, 15))                    # Create figure for plotting\n",
    "plt.title('Weekly Schedule', y=1, fontsize=14)       # Give the figure a title\n",
    "ax=fig.add_subplot(1, 1, 1)                          # Create a plot in the figure \n",
    "ax.grid(axis='y', linestyle='--', linewidth=0.5)     # Add horizonal grid lines to the plot\n",
    "\n",
    "DAYS = ['Monday','Tuesday', 'Wednesday', 'Thursday', 'Friday', 'Saturday', 'Sunday']\n",
    "ax.set_xlim(0.5, len(DAYS) + 0.5)\n",
    "ax.set_xticks(range(1, len(DAYS) + 1))\n",
    "ax.set_xticklabels(DAYS)\n",
    "ax.set_ylim( 24, 0)\n",
    "ax.set_yticks(range(0, 24))\n",
    "ax.set_yticklabels([\"{0}:00\".format(h) for h in range(0, 24)])\n",
    "#plt.savefig('{0}.png'.format(os.path.splitext(sys.argv[1])[0]), dpi=200, bbox_inches='tight')\n",
    "\n",
    "# !!! this code below should be wrapped in a for loop that allows this to be done with multiple devices\n",
    "# !!! These two lines of code should be replaced by some \"iot.get_device_state\" command that get schedule's info from device state\n",
    "schedule_str= [f\"Job {i}: \"+x.__repr__() for i,x in enumerate(schedule.get_jobs())]   # After running jobs, get updated schedule info \n",
    "jobs= [job.__str__() for job in schedule.get_jobs()] \n",
    "\n",
    "for i in range(len(jobs)):                             # for each job, we get it's next run time, and run interval for IoT state information\n",
    "    next_run= datetime.fromisoformat( schedule_str[i].split(\"next run: \")[1].split(\")\")[0] )\n",
    "    period = timedelta(**{ jobs[i].split(\"unit=\")[1].split(\",\")[0] : int(jobs[i].split(\"interval=\")[1].split(\",\")[0]) })\n",
    "    next_mon =  + timedelta(days=-today.weekday(), weeks=1)   # we will consider all job events that ocure before next monday\n",
    "    today = datetime.combine(date.today(), datetime.min.time())\n",
    "    next_mon =  today + timedelta(days=-today.weekday(), weeks=1)   # we will consider all job events that ocure before next monday\n",
    "    job_times = []                   # create a list of all event times for a job\n",
    "    while next_run < next_mon:\n",
    "        job_times.append(next_run)\n",
    "        next_run += period\n",
    "    \n",
    "    for event in job_times:\n",
    "        d = event.weekday() + 0.52                                                   # get day of week for event\n",
    "        start = float(event.hour) + float(event.minute) / 60                         # get start time of event\n",
    "        end = float(event.hour) + (float(event.minute)+20) / 60                      # Ends 30 minutes after start\n",
    "        plt.fill_between([d, d + 0.96], [start, start], [end, end], color=\"cornflowerblue\")\n",
    "        plt.text(d + 0.02, start + 0.02, '{0}:{1:0>2}'.format(event.hour, event.minute), va='top', fontsize=8)\n",
    "        plt.text(d + 0.48, (start + end) * 0.502, f\"Job {i}\", ha='center', va='center', fontsize=10)\n"
   ]
  },
  {
   "cell_type": "code",
   "execution_count": null,
   "id": "af25c5ca",
   "metadata": {},
   "outputs": [],
   "source": []
  },
  {
   "cell_type": "markdown",
   "id": "d9c6859d",
   "metadata": {
    "heading_collapsed": true
   },
   "source": [
    "## <font color=\"blue\"> Adapt example to python scheduler <font color=\"red\">- With `schedule.get_jobs()`"
   ]
  },
  {
   "cell_type": "code",
   "execution_count": null,
   "id": "2ddf6bfd",
   "metadata": {
    "hidden": true
   },
   "outputs": [],
   "source": [
    "fig = plt.figure(figsize=(18, 15))                    # Create figure for plotting\n",
    "plt.title('Weekly Schedule', y=1, fontsize=14)       # Give the figure a title\n",
    "ax=fig.add_subplot(1, 1, 1)                          # Create a plot in the figure \n",
    "ax.grid(axis='y', linestyle='--', linewidth=0.5)     # Add horizonal grid lines to the plot\n",
    "\n",
    "DAYS = ['Monday','Tuesday', 'Wednesday', 'Thursday', 'Friday', 'Saturday', 'Sunday']\n",
    "ax.set_xlim(0.5, len(DAYS) + 0.5)\n",
    "ax.set_xticks(range(1, len(DAYS) + 1))\n",
    "ax.set_xticklabels(DAYS)\n",
    "ax.set_ylim( 24, 0)\n",
    "ax.set_yticks(range(0, 24))\n",
    "ax.set_yticklabels([\"{0}:00\".format(h) for h in range(0, 24)])\n",
    "#plt.savefig('{0}.png'.format(os.path.splitext(sys.argv[1])[0]), dpi=200, bbox_inches='tight')\n",
    "\n",
    "# add job event to calendar\n",
    "for i,job in enumerate(schedule.get_jobs()):\n",
    "    job_times = []\n",
    "    next_run = job.next_run\n",
    "    while next_run < next_mon:\n",
    "        job_times.append(next_run)\n",
    "        next_run += job.period\n",
    "\n",
    "    for event in job_times:\n",
    "        d = event.weekday() + 0.52                                                   # get day of week for event\n",
    "        start = float(event.hour) + float(event.minute) / 60                         # get start time of event\n",
    "        end = float(event.hour) + (float(event.minute)+20) / 60                      # Ends 30 minutes after start\n",
    "        plt.fill_between([d, d + 0.96], [start, start], [end, end], color=\"cornflowerblue\")\n",
    "        plt.text(d + 0.02, start + 0.02, '{0}:{1:0>2}'.format(event.hour, event.minute), va='top', fontsize=8)\n",
    "        plt.text(d + 0.48, (start + end) * 0.502, f\"Job {i}\", ha='center', va='center', fontsize=10)"
   ]
  },
  {
   "cell_type": "code",
   "execution_count": null,
   "id": "77fb1f04",
   "metadata": {
    "hidden": true
   },
   "outputs": [],
   "source": [
    "for event in job_times:\n",
    "    d = event.weekday() + 0.52                                                   # get day of week for event\n",
    "    start = float(event.hour) + float(event.minute) / 60                         # get start time of event\n",
    "    end = float(event.hour) + (float(event.minute)+30) / 60                      # Ends 30 minutes after start\n",
    "    plt.fill_between([d, d + 0.96], [start, start], [end, end], color=\"cornflowerblue\")\n",
    "    plt.text(d + 0.02, start + 0.02, f'{event.hour}:{event.minute}', va='top', fontsize=8)\n",
    "    plt.text(d + 0.48, (start + end) * 0.502, e.name, ha='center', va='center', fontsize=10)"
   ]
  },
  {
   "cell_type": "code",
   "execution_count": null,
   "id": "408cd24d",
   "metadata": {
    "hidden": true
   },
   "outputs": [],
   "source": []
  },
  {
   "cell_type": "code",
   "execution_count": null,
   "id": "457333f6",
   "metadata": {
    "hidden": true
   },
   "outputs": [],
   "source": []
  },
  {
   "cell_type": "code",
   "execution_count": null,
   "id": "97859890",
   "metadata": {
    "hidden": true
   },
   "outputs": [],
   "source": []
  },
  {
   "cell_type": "markdown",
   "id": "8f7078ef",
   "metadata": {
    "heading_collapsed": true
   },
   "source": [
    "## <font color=\"blue\"> Get plot on plotly <font color=\"red\">- Not Done"
   ]
  },
  {
   "cell_type": "markdown",
   "id": "7fa7b6fd",
   "metadata": {
    "hidden": true
   },
   "source": [
    "[Tutorial](https://geo-python.github.io/2017/lessons/L7/using-plotly.html#:~:text=To%20save%20plots%20to%20plotly,use%20to%20make%20a%20plot.&text=So%20that's%20it%3F,plotly%20site%20(i.e.%2C%20py.) on how to connect matplotlib to plotly.\n",
    "\n",
    "[Another tutorial](https://towardsdatascience.com/matplotlib-to-plotly-chart-conversion-4bd260e73434)"
   ]
  },
  {
   "cell_type": "code",
   "execution_count": null,
   "id": "debc3610",
   "metadata": {
    "hidden": true
   },
   "outputs": [],
   "source": [
    "#unique_url = py.plot_mpl(fig, filename=\"sin(x) test plot\")"
   ]
  },
  {
   "cell_type": "code",
   "execution_count": null,
   "id": "51db50a2",
   "metadata": {
    "hidden": true
   },
   "outputs": [],
   "source": [
    "#!pip install mpld3"
   ]
  },
  {
   "cell_type": "code",
   "execution_count": null,
   "id": "8865716a",
   "metadata": {
    "hidden": true
   },
   "outputs": [],
   "source": [
    "import mpld3"
   ]
  },
  {
   "cell_type": "code",
   "execution_count": null,
   "id": "d9b3ab62",
   "metadata": {
    "hidden": true
   },
   "outputs": [],
   "source": [
    "mpld3.display(fig)"
   ]
  },
  {
   "cell_type": "code",
   "execution_count": null,
   "id": "689c0257",
   "metadata": {
    "hidden": true
   },
   "outputs": [],
   "source": []
  },
  {
   "cell_type": "code",
   "execution_count": null,
   "id": "7cd353f6",
   "metadata": {
    "hidden": true
   },
   "outputs": [],
   "source": []
  },
  {
   "cell_type": "code",
   "execution_count": null,
   "id": "de388914",
   "metadata": {
    "hidden": true
   },
   "outputs": [],
   "source": []
  },
  {
   "cell_type": "markdown",
   "id": "8a5b87a2",
   "metadata": {
    "heading_collapsed": true
   },
   "source": [
    "# Old trys"
   ]
  },
  {
   "cell_type": "code",
   "execution_count": null,
   "id": "d7f096a1",
   "metadata": {
    "code_folding": [],
    "hidden": true
   },
   "outputs": [],
   "source": [
    "    def plot_chart(self, data_frame, style, chart_type):\n",
    "\n",
    "        self.apply_style_sheet(style)\n",
    "\n",
    "        if style.xkcd:\n",
    "            plt.xkcd()\n",
    "\n",
    "        # create figure & add a subplot\n",
    "        fig = plt.figure(figsize = ((style.width * abs(style.scale_factor))/style.dpi,\n",
    "                                    (style.height * abs(style.scale_factor))/style.dpi), dpi = style.dpi)\n",
    "\n",
    "        if style.title is not None:\n",
    "            fig.suptitle(style.title, fontsize = 14 * abs(style.scale_factor))\n",
    "\n",
    "        # matplotlib 1.5\n",
    "        try:\n",
    "            cyc = matplotlib.rcParams['axes.prop_cycle']\n",
    "            color_cycle =  [x['color'] for x in cyc]\n",
    "        except KeyError:\n",
    "            # pre 1.5\n",
    "            pass\n",
    "            # color_cycle =  matplotlib.rcParams['axes.color_cycle']\n",
    "\n",
    "        cm = ColorMaster()\n",
    "\n",
    "        data_frame_list = self.split_data_frame_to_list(data_frame, style)\n",
    "\n",
    "        subplot_no = 1\n",
    "\n",
    "        for data_frame in data_frame_list:\n",
    "\n",
    "            bar_ind = np.arange(0, len(data_frame.index))\n",
    "\n",
    "            # for bar charts, create a proxy x-axis (then relabel)\n",
    "            xd, bar_ind, has_bar, no_of_bars = self.get_bar_indices(data_frame, style, chart_type, bar_ind)\n",
    "\n",
    "            if style.subplots == False and len(data_frame_list) == 1:\n",
    "                ax = fig.add_subplot(111)\n",
    "            else:\n",
    "                ax = fig.add_subplot(2,1,subplot_no)\n",
    "\n",
    "            subplot_no = subplot_no + 1\n",
    "\n",
    "            if style.x_title != '': ax.set_xlabel(style.x_title)\n",
    "            if style.y_title != '': ax.set_ylabel(style.y_title)\n",
    "\n",
    "            plt.xlabel(style.x_title)\n",
    "            plt.ylabel(style.y_title)\n",
    "\n",
    "            # format Y axis\n",
    "            y_formatter = matplotlib.ticker.ScalarFormatter(useOffset = False)\n",
    "            ax.yaxis.set_major_formatter(y_formatter)\n",
    "\n",
    "            # create a second y axis if necessary\n",
    "            ax2 = []\n",
    "\n",
    "            ax.xaxis.grid(style.x_axis_showgrid)\n",
    "            ax.yaxis.grid(style.y_axis_showgrid)\n",
    "\n",
    "            if style.y_axis_2_series != []:\n",
    "                ax2 = ax.twinx()\n",
    "\n",
    "                # set grid for second y axis\n",
    "                ax2.yaxis.grid(style.y_axis_2_showgrid)\n",
    "\n",
    "            try:\n",
    "                # get all the correct colors (and construct gradients if necessary eg. from 'blues')\n",
    "\n",
    "                # for stacked bar\n",
    "                yoff_pos = np.zeros(len(data_frame.index.values)) # the bottom values for stacked bar chart\n",
    "                yoff_neg = np.zeros(len(data_frame.index.values)) # the bottom values for stacked bar chart\n",
    "\n",
    "                zeros = np.zeros(len(data_frame.index.values))\n",
    "\n",
    "                # for bar chart\n",
    "                bar_space = 0.2\n",
    "                bar_width = (1 - bar_space) / (no_of_bars)\n",
    "                bar_index = 0\n",
    "\n",
    "                has_matrix = False\n",
    "\n",
    "                if not(isinstance(chart_type, list)):\n",
    "                    if chart_type == 'heatmap':\n",
    "                        ax.set_frame_on(False)\n",
    "\n",
    "                        # weird hack, otherwise comes out all inverted!\n",
    "                        data_frame = data_frame.iloc[::-1]\n",
    "\n",
    "                        color = style.color\n",
    "\n",
    "                        if style.color == []:\n",
    "                            color = cc.chartfactory_default_colormap\n",
    "                        else:\n",
    "                            if isinstance(style.color, list):\n",
    "                                color = style.color[subplot_no - 1]\n",
    "\n",
    "                        ax.pcolor(data_frame.values, cmap=color, alpha=0.8)\n",
    "\n",
    "                        has_matrix = True\n",
    "\n",
    "                if (not(has_matrix)):\n",
    "                    # plot the lines (using custom palettes as appropriate)\n",
    "                    color_spec = cm.create_color_list(style, data_frame)\n",
    "\n",
    "                    # some lines we should exclude from the color and use the default palette\n",
    "                    for i in range(0, len(data_frame.columns.values)):\n",
    "\n",
    "                        if isinstance(chart_type, list): chart_type_ord = chart_type[i]\n",
    "                        else: chart_type_ord = chart_type\n",
    "\n",
    "                        label = str(data_frame.columns[i])\n",
    "\n",
    "                        ax_temp = self.get_axis(ax, ax2, label, style.y_axis_2_series)\n",
    "\n",
    "                        yd = data_frame.ix[:,i]\n",
    "\n",
    "                        if color_spec[i] is None:\n",
    "                            color_spec[i] = color_cycle[i % len(color_cycle)]\n",
    "\n",
    "                        if (chart_type_ord == 'line'):\n",
    "                            linewidth_t = self.get_linewidth(label,\n",
    "                                                             style.linewidth, style.linewidth_2, style.linewidth_2_series)\n",
    "\n",
    "                            if linewidth_t is None: linewidth_t = matplotlib.rcParams['axes.linewidth']\n",
    "\n",
    "                            ax_temp.plot(xd, yd, label = label, color = color_spec[i],\n",
    "                                         linewidth = linewidth_t)\n",
    "\n",
    "                        elif(chart_type_ord == 'bar'):\n",
    "                            # for multiple bars we need to allocate space properly\n",
    "                            bar_pos = [k - (1 - bar_space) / 2. + bar_index * bar_width for k in range(0,len(bar_ind))]\n",
    "\n",
    "                            ax_temp.bar(bar_pos, yd, bar_width, label = label, color = color_spec[i])\n",
    "\n",
    "                            bar_index = bar_index + 1\n",
    "\n",
    "                        elif (chart_type_ord == 'barh'):\n",
    "                            # for multiple bars we need to allocate space properly\n",
    "                            bar_pos = [k - (1 - bar_space) / 2. + bar_index * bar_width for k in range(0, len(bar_ind))]\n",
    "\n",
    "                            ax_temp.barh(bar_pos, yd, bar_width, label=label, color=color_spec[i])\n",
    "\n",
    "                            bar_index = bar_index + 1\n",
    "\n",
    "                        elif(chart_type_ord == 'stacked'):\n",
    "                            bar_pos = [k - (1 - bar_space) / 2. + bar_index * bar_width for k in range(0,len(bar_ind))]\n",
    "\n",
    "                            yoff = np.where(yd > 0, yoff_pos, yoff_neg)\n",
    "\n",
    "                            ax_temp.bar(bar_pos, yd, label = label, color = color_spec[i], bottom = yoff)\n",
    "\n",
    "                            yoff_pos = yoff_pos + np.maximum(yd, zeros)\n",
    "                            yoff_neg = yoff_neg + np.minimum(yd, zeros)\n",
    "\n",
    "                            # bar_index = bar_index + 1\n",
    "\n",
    "                        elif(chart_type_ord == 'scatter'):\n",
    "                            ax_temp.scatter(xd, yd, label = label, color = color_spec[i])\n",
    "\n",
    "                            if style.line_of_best_fit is True:\n",
    "                                self.trendline(ax_temp, xd.values, yd.values, order=1, color= color_spec[i], alpha=1,\n",
    "                                               scale_factor = abs(style.scale_factor))\n",
    "\n",
    "\n",
    "                # format X axis\n",
    "                self.format_x_axis(ax, data_frame, style, has_bar, bar_ind, has_matrix)\n",
    "\n",
    "            except: pass\n",
    "\n",
    "            if style.display_source_label == True and style.source is not None:\n",
    "                ax.annotate('Source: ' + style.source, xy = (1, 0), xycoords='axes fraction', fontsize=7 * abs(style.scale_factor),\n",
    "                            xytext=(-5 * abs(style.scale_factor), 10 * abs(style.scale_factor)), textcoords='offset points',\n",
    "                            ha='right', va='top', color = style.source_color)\n",
    "\n",
    "            if style.display_brand_label == True:\n",
    "                self.create_brand_label(ax, anno = style.brand_label, scale_factor = abs(style.scale_factor))\n",
    "\n",
    "            leg = []\n",
    "            leg2 = []\n",
    "\n",
    "            loc = 'best'\n",
    "\n",
    "            # if we have two y-axis then make sure legends are in opposite corners\n",
    "            if ax2 != []: loc = 2\n",
    "\n",
    "            try:\n",
    "                leg = ax.legend(loc = loc, prop={'size':10 * abs(style.scale_factor)})\n",
    "                leg.get_frame().set_linewidth(0.0)\n",
    "                leg.get_frame().set_alpha(0)\n",
    "\n",
    "                if ax2 != []:\n",
    "                    leg2 = ax2.legend(loc = 1, prop={'size':10 * abs(style.scale_factor)})\n",
    "                    leg2.get_frame().set_linewidth(0.0)\n",
    "                    leg2.get_frame().set_alpha(0)\n",
    "            except: pass\n",
    "\n",
    "            try:\n",
    "                if style.display_legend is False:\n",
    "                    if leg != []: leg.remove()\n",
    "                    if leg2 != []: leg.remove()\n",
    "            except: pass\n",
    "\n",
    "        # fig.autofmt_xdate()\n",
    "\n",
    "        try:\n",
    "            style = self.generate_file_names(style, 'matplotlib')\n",
    "\n",
    "            plt.savefig(style.file_output, transparent=False)\n",
    "        except: pass\n",
    "\n",
    "\n",
    "        ####### various matplotlib converters are unstable\n",
    "        # convert to D3 format with mpld3\n",
    "        try:\n",
    "            # output matplotlib charts externally to D3 based libraries\n",
    "            import mpld3\n",
    "\n",
    "            if style.display_mpld3 == True:\n",
    "                mpld3.save_d3_html(fig, style.html_file_output)\n",
    "                mpld3.show(fig)\n",
    "        except: pass\n",
    "\n",
    "        # FRAGILE! convert to Bokeh format\n",
    "        # better to use direct Bokeh renderer\n",
    "        try:\n",
    "            if (style.convert_matplotlib_to_bokeh == True):\n",
    "                from bokeh.plotting import output_file, show\n",
    "                from bokeh import mpl\n",
    "\n",
    "                output_file(style.html_file_output)\n",
    "                show(mpl.to_bokeh())\n",
    "        except: pass\n",
    "\n",
    "        # FRAGILE! convert matplotlib chart to Plotly format\n",
    "        # recommend using AdapterCufflinks instead to directly plot to Plotly\n",
    "        try:\n",
    "            import plotly.plotly as py\n",
    "            import plotly\n",
    "            import plotly.tools as tls\n",
    "\n",
    "            if style.convert_matplotlib_to_plotly == True:\n",
    "                plotly.tools.set_credentials_file(username = style.plotly_username,\n",
    "                                                  api_key = style.plotly_api_key)\n",
    "\n",
    "                py_fig = tls.mpl_to_plotly(fig, strip_style = True)\n",
    "                plot_url = py.plot_mpl(py_fig, filename = style.plotly_url)\n",
    "        except:\n",
    "            pass\n",
    "\n",
    "        # display in matplotlib window (or clear from pyplot)\n",
    "        try:\n",
    "            if cc.chartfactory_silent_display == True:\n",
    "                plt.close(fig)\n",
    "\n",
    "                return fig\n",
    "            elif style.silent_display == False:\n",
    "                plt.show()\n",
    "            else:\n",
    "                plt.close(fig)\n",
    "\n",
    "                return fig\n",
    "        except:\n",
    "            pass"
   ]
  },
  {
   "cell_type": "code",
   "execution_count": null,
   "id": "78ad4e23",
   "metadata": {
    "hidden": true
   },
   "outputs": [],
   "source": [
    "import numpy as np \n",
    "# Create some data arrays\n",
    "x = np.linspace(-2.0 * np.pi, 2.0 * np.pi, 51)\n",
    "y = np.sin(x)\n",
    "\n",
    "# Make a plot\n",
    "mpl_fig = plt.figure()\n",
    "plt.plot(x, y, 'ko--')\n",
    "plt.title('sin(x) from -2*pi to 2*pi')\n",
    "plt.xlabel('x')\n",
    "plt.ylabel('sin(x)')\n",
    "plt.show()\n",
    "\n",
    "# Export plot to plotly\n",
    "unique_url = py.plot_mpl(mpl_fig, filename=\"sin(x) test plot\")"
   ]
  },
  {
   "cell_type": "code",
   "execution_count": null,
   "id": "9a3e82d5",
   "metadata": {
    "hidden": true
   },
   "outputs": [],
   "source": [
    "%matplotlib inline"
   ]
  },
  {
   "cell_type": "code",
   "execution_count": null,
   "id": "814fa2b4",
   "metadata": {
    "hidden": true
   },
   "outputs": [],
   "source": [
    "import plotly\n",
    "print(plotly.__version__)\n",
    "import datetime\n",
    "import matplotlib.pyplot as plt\n",
    "import chart_studio.plotly as py\n",
    "#from plotly.offline import init_notebook_mode, enable_mpl_offline, iplot_mpl\n",
    "from chart_studio.offline import init_notebook_mode, enable_mpl_offline, iplot_mpl\n",
    "init_notebook_mode()\n",
    "enable_mpl_offline()\n",
    "\n",
    "date = plt.figure()\n",
    "x = [datetime.datetime(2010, 12, 1, 10, 0),\n",
    "datetime.datetime(2011, 1, 4, 9, 0),\n",
    "datetime.datetime(2011, 5, 5, 9, 0)]\n",
    "y = [4, 9, 2]\n",
    "ax = plt.subplot(111)\n",
    "ax.bar(x, y, width=10)\n",
    "ax.xaxis_date()\n",
    "\n",
    "iplot_mpl(date)"
   ]
  },
  {
   "cell_type": "code",
   "execution_count": null,
   "id": "d5c4f7d0",
   "metadata": {
    "hidden": true
   },
   "outputs": [],
   "source": []
  },
  {
   "cell_type": "code",
   "execution_count": null,
   "id": "de4b6896",
   "metadata": {
    "hidden": true
   },
   "outputs": [],
   "source": [
    "import plotly.graph_objects as go\n",
    "fig = go.Figure(\n",
    "    data=[go.Bar(y=[2, 1, 3])],\n",
    "    layout_title_text=\"A Figure Displayed with fig.show()\"\n",
    ")\n",
    "fig.show()"
   ]
  },
  {
   "cell_type": "code",
   "execution_count": null,
   "id": "13b97e56",
   "metadata": {
    "hidden": true
   },
   "outputs": [],
   "source": [
    "fig = plt.figure(1)\n",
    "ax = plt.plot([1,2,3])\n",
    "plotly.tools.mpl_to_plotly(fig)"
   ]
  },
  {
   "cell_type": "code",
   "execution_count": null,
   "id": "4ff6110c",
   "metadata": {
    "hidden": true
   },
   "outputs": [],
   "source": [
    "import matplotlib.pyplot as plt\n",
    "import plotly\n",
    "import chart_studio.plotly as py\n",
    "import plotly.tools as tls\n",
    "\n",
    "fig, ax = plt.subplots()\n",
    "ax.plot([1, 2, 3], [1, 4, 9], \"o\")\n",
    "\n",
    "plotly_fig = tls.mpl_to_plotly(fig)\n",
    "plotly.offline.plot(plotly_fig, filename=\"plotly version of an mpl figure\")"
   ]
  },
  {
   "cell_type": "code",
   "execution_count": null,
   "id": "1acf2783",
   "metadata": {
    "hidden": true
   },
   "outputs": [],
   "source": []
  },
  {
   "cell_type": "code",
   "execution_count": null,
   "id": "3534ddb6",
   "metadata": {
    "hidden": true
   },
   "outputs": [],
   "source": []
  },
  {
   "cell_type": "code",
   "execution_count": null,
   "id": "53d35fb5",
   "metadata": {
    "hidden": true
   },
   "outputs": [],
   "source": []
  }
 ],
 "metadata": {
  "hide_input": false,
  "kernelspec": {
   "display_name": "Python 3",
   "language": "python",
   "name": "python3"
  },
  "language_info": {
   "codemirror_mode": {
    "name": "ipython",
    "version": 3
   },
   "file_extension": ".py",
   "mimetype": "text/x-python",
   "name": "python",
   "nbconvert_exporter": "python",
   "pygments_lexer": "ipython3",
   "version": "3.8.8"
  },
  "toc": {
   "base_numbering": 1,
   "nav_menu": {},
   "number_sections": true,
   "sideBar": true,
   "skip_h1_title": false,
   "title_cell": "Table of Contents",
   "title_sidebar": "Contents",
   "toc_cell": false,
   "toc_position": {},
   "toc_section_display": true,
   "toc_window_display": false
  }
 },
 "nbformat": 4,
 "nbformat_minor": 5
}
