{
 "cells": [
  {
   "cell_type": "markdown",
   "id": "93257262",
   "metadata": {},
   "source": [
    "<font size=7> Easy IoT Functions"
   ]
  },
  {
   "cell_type": "markdown",
   "id": "d32d111b",
   "metadata": {},
   "source": [
    "These are functions that I imagine could be added to the [braingeneerspy.iot](https://github.com/braingeneers/braingeneerspy/blob/master/braingeneers/iot/messaging.py) package. The purpose is to make using IoT as easy as possible for simple use cases. Note, `schedule` and `time` packages would also have to be added to `braingeneerspy`. "
   ]
  },
  {
   "cell_type": "markdown",
   "id": "97bc119a",
   "metadata": {},
   "source": [
    "**Device**\n",
    "- `import braingeneers.iot as iot` - user only needs to import one thing. Would they still have to import schedule on `.py`?\n",
    "- `import schedule`\n",
    "- `iot.start( device_name, device_type, experiment)` - a single command is added to the bottom of user's `.py` file"
   ]
  },
  {
   "cell_type": "markdown",
   "id": "53c7cfac",
   "metadata": {},
   "source": [
    "**Interface- send commands**\n",
    "- `import braingeneers.iot as iot`\n",
    "- `iot.send( device_name, command)` - Sends python script that executed by the listening device."
   ]
  },
  {
   "cell_type": "markdown",
   "id": "f2678ed0",
   "metadata": {},
   "source": [
    "**Interface- get data**\n",
    "- `iot.get_schedule( device_name/experiment )` - Gets scheduled commands for a device(s) in a human readable format. I plan to add graphs.\n",
    "- `iot.get_status`"
   ]
  },
  {
   "cell_type": "markdown",
   "id": "15991437",
   "metadata": {},
   "source": [
    "**Interface- change status of device**\n",
    "- `iot.shutdown( device_name )` - Stops while loop that runs on listening device. User must us `messaging` to actually delete device. \n",
    "- `iot.pause` and `iot_run` - pauses and resumes activity on device. Imagine real world scenario where biologist briefly pauses so they can move organoids."
   ]
  },
  {
   "cell_type": "markdown",
   "id": "81457ffc",
   "metadata": {},
   "source": [
    "<font color=\"orange\">\n",
    "\n",
    "**Note:** For now, I left out the data and logging stuff. Both of these things seem device specific. I might add functions for them later. \n",
    "    \n",
    "    \n",
    "**Limitations:** Commands running at around 1 second or faster might \"skip\" tasks. This is because the `while` loop's command `mb.get_device_state` can take up to 1 second. (verified this)"
   ]
  },
  {
   "cell_type": "markdown",
   "id": "da53f384",
   "metadata": {},
   "source": [
    "<font color=\"red\">\n",
    "\n",
    "**To Do**\n",
    "* figure out topic/device hierarchy and what variables user must type in functions.\n",
    "* Add `get_schedule` functionality for all devices of same experiment\n",
    "* add assertion statements to run/pause/shutdown functions\n",
    "* ?add device type as parameter to commands? with this we can follow iot format, but add additional typing for user.\n",
    "* ?hide all warnings?\n",
    "* check that the \"send schedule\" command works with classes\n",
    "* ?get logging working?... ?perhaps jsut show last logged command?... `get_last_scheduled_run` or `get_last_ran`\n",
    "* ?optimize `mb.get_device_state`?\n",
    "* ?build a function that parses schedule from text?"
   ]
  },
  {
   "cell_type": "markdown",
   "id": "e4a2e174",
   "metadata": {},
   "source": [
    "<font color=\"red\">\n",
    "\n",
    "**Questions**\n",
    "* Is state listener code done? I could use that in `start` function instead of `get_device_state`. Is that better?\n",
    "* I'm implicitly assuming device names are unique across device types (topic==device_name). Is that acceptable?\n",
    "* there are warning messages. Is that worth hiding?\n",
    "* does user still have to import `schedule`?\n",
    "* is `mb.shutdown()` necessary in these cases? \n",
    "* is there a more appropriate way to set up the device name/ topic? Where are topics on AWS website?\n",
    "* should I used `test/` or some other iot hierarchy? This requires I add `device_type` to all functions\n",
    "* is there a smart way to handle warnings?\n",
    "* what should we do if device restarts? Should we even worry about this?\n",
    "* once a user has a `.py` file what is the exact command they should type? ?how to check `.py` is running?"
   ]
  },
  {
   "cell_type": "markdown",
   "id": "3e563e34",
   "metadata": {},
   "source": [
    "<font color=\"orange\">\n",
    "\n",
    "**Future Work**\n",
    "* Graph Schedule(s)...parse schedule from text\n",
    "* Build generalized package for data\n"
   ]
  },
  {
   "cell_type": "code",
   "execution_count": 12,
   "id": "5369b079",
   "metadata": {},
   "outputs": [],
   "source": [
    "#import braingeneers.iot as iot"
   ]
  },
  {
   "cell_type": "code",
   "execution_count": null,
   "id": "341ce9ef",
   "metadata": {},
   "outputs": [],
   "source": []
  },
  {
   "cell_type": "markdown",
   "id": "52d2c164",
   "metadata": {},
   "source": [
    "**To Do**\n",
    "* Hide warnings\n",
    "* Check experiment uuid is in the correct way\n",
    "* logging\n",
    "* indexes"
   ]
  },
  {
   "cell_type": "code",
   "execution_count": null,
   "id": "d5a9aeb3",
   "metadata": {},
   "outputs": [],
   "source": []
  },
  {
   "cell_type": "code",
   "execution_count": null,
   "id": "48e1da89",
   "metadata": {},
   "outputs": [],
   "source": []
  },
  {
   "cell_type": "code",
   "execution_count": null,
   "id": "865a69b7",
   "metadata": {},
   "outputs": [],
   "source": []
  },
  {
   "cell_type": "markdown",
   "id": "039b0bb6",
   "metadata": {},
   "source": [
    "# <font color=\"gray\">set up notebook"
   ]
  },
  {
   "cell_type": "code",
   "execution_count": 3,
   "id": "c7d19b72",
   "metadata": {},
   "outputs": [],
   "source": [
    "from braingeneers.iot import messaging\n",
    "import uuid\n",
    "import schedule\n",
    "import time\n",
    "import warnings"
   ]
  },
  {
   "cell_type": "markdown",
   "id": "3778c88c",
   "metadata": {},
   "source": [
    "# start"
   ]
  },
  {
   "cell_type": "markdown",
   "id": "09e9fdd5",
   "metadata": {},
   "source": [
    "## <font color=\"green\">with Pause and Shutdown "
   ]
  },
  {
   "cell_type": "code",
   "execution_count": null,
   "id": "522cc017",
   "metadata": {},
   "outputs": [],
   "source": [
    "\"feeding/flow_1\""
   ]
  },
  {
   "cell_type": "code",
   "execution_count": null,
   "id": "cca57564",
   "metadata": {},
   "outputs": [],
   "source": [
    "flow_1"
   ]
  },
  {
   "cell_type": "code",
   "execution_count": 4,
   "id": "9676cbfd",
   "metadata": {},
   "outputs": [],
   "source": [
    "def start(device_name, device_type, experiment):\n",
    "    \"\"\"Create a device and have it start listening for commands. This is intended for simple use cases\"\"\"\n",
    "    warnings.filterwarnings(action='once')                                         # stops same warning from appearing more than once\n",
    "    mb = messaging.MessageBroker(str(uuid.uuid4))                                  # spin up iot\n",
    "    \n",
    "    if device_name not in mb.list_devices_by_type( thingTypeName= device_type):    # check if device already exists\n",
    "        mb.create_device( device_name= device_name, device_type= device_type)      # if not, create it\n",
    "    else:                                                                          # otherwise, check device is ok and isn't still running\n",
    "        assert \"status\" in mb.get_device_state(device_name), f\"{device_name} has corrupted data! Talk to data team.\"\n",
    "        assert mb.get_device_state(device_name)[\"status\"]==\"shutdown\", f\"{device_name} already exists and isn't shutdown. Please shutdown with 'iot.shutdown({device_name})'\"\n",
    "    mb.update_device_state( device_name, {\"experiment\":experiment,\"status\":\"run\",\"schedule\":[]} )    # reset state for new run\n",
    "    \n",
    "    def respondToCommand(topic: str, message: dict):                               # build function that runs when device receives command\n",
    "        exec(message[\"command\"])                                                   # run python command that was sent\n",
    "        schedule_str= [f\"Job {i}: \"+x.__repr__() for i,x in enumerate(schedule.get_jobs())]  # turn schedule into list of strings\n",
    "        mb.update_device_state( device_name, {\"schedule\":schedule_str} )           # in case schedule changed, update state's schedule\n",
    "    mb.subscribe_message( f\"devices/{device_type}/{device_name}\", respondToCommand )   # start listening for new commands\n",
    "    \n",
    "    status = \"run\"                                                                 # keep python running so that listener can do it's job\n",
    "    while not status==\"shutdown\":                                                  # when it's time to stop, iot makes status=shutdown\n",
    "        if status==\"run\":                                                          # if the device is in run mode,\n",
    "            schedule.run_pending()                                                 # run any scheduled commands if it's their time\n",
    "        status = mb.get_device_state( device_name )[\"status\"]                      # check if we've been told to stop running\n",
    "        time.sleep(.1)                                                             # wait a little to save cpu usage\n",
    "    mb.shutdown()                                                                  # shutdown iot at the end.\n",
    "        "
   ]
  },
  {
   "cell_type": "markdown",
   "id": "2498bfab",
   "metadata": {},
   "source": [
    "## Original Working Code -- no pause or shutdown"
   ]
  },
  {
   "cell_type": "raw",
   "id": "71c95220",
   "metadata": {},
   "source": [
    "def start(device_name, device_type, experiment):\n",
    "    \"\"\"Create a device and have it start listening for commands. This is intended for simple use cases\"\"\"\n",
    "    warnings.filterwarnings(action='once')                                         # stops same warning from appearing more than once\n",
    "    mb = messaging.MessageBroker(str(uuid.uuid4))                                  # spin up iot\n",
    "    \n",
    "    if device_name not in mb.list_devices_by_type( thingTypeName= device_type):    # check if device already exists\n",
    "        mb.create_device( device_name= device_name, device_type= device_type)      # if not, create it\n",
    "    else:                                                                          # otherwise, check device is ok and isn't still running\n",
    "        assert \"is_running\" in mb.get_device_state(device_name), f\"{device_name} has corrupted data! Talk to data team.\"\n",
    "        assert not mb.get_device_state(device_name)[\"is_running\"], f\"{device_name} already exists and is currently running. To start it again, first shut it down by typing 'iot.shutdown({device_name})'\"\n",
    "    mb.update_device_state( device_name, {\"experiment\":experiment,\"is_running\":True,\"schedule\":[]} )    # reset state for new run\n",
    "    \n",
    "    def respondToCommand(topic: str, message: dict):                               # build function that runs when device receives command\n",
    "        exec(message[\"command\"])                                                   # run python command that was sent\n",
    "        schedule_str= [x.__repr__() for x in schedule.get_jobs()]                  # convert schedule to list of strings\n",
    "        mb.update_device_state( device_name, {\"schedule\":schedule_str} )           # in case schedule changed, update state's schedule\n",
    "    mb.subscribe_message( device_name, respondToCommand )                          # start listening for new commands\n",
    "    \n",
    "    running = True                                                                 # keep python running so that listener can do it's job\n",
    "    while running:                                                                 # when it's time to stop, iot makes running=False\n",
    "        schedule.run_pending()                                                     # run any scheduled commands if it's their time\n",
    "        running = mb.get_device_state( device_name )[\"is_running\"]                 # check if we've been told to stop running\n",
    "        time.sleep(.1)                                                             # wait a little to save cpu usage\n",
    "    mb.shutdown()                                                                  # shutdown iot at the end.\n",
    "        "
   ]
  },
  {
   "cell_type": "markdown",
   "id": "f796c9d0",
   "metadata": {},
   "source": [
    "### Try: Schedule reset <font color=\"red\"> -- think about this more"
   ]
  },
  {
   "cell_type": "markdown",
   "id": "defa10d6",
   "metadata": {},
   "source": [
    "how would I actually bring the schedule back onto the device?"
   ]
  },
  {
   "cell_type": "raw",
   "id": "42cd3dff",
   "metadata": {},
   "source": [
    "def start(device_name, device_type, experiment, restart_schedule=True):\n",
    "    \"\"\"Create a device and have it start listening for commands. This is intended for simple use cases\"\"\"\n",
    "    warnings.filterwarnings(action='once')                                         # stops same warning from appearing more than once\n",
    "    mb = messaging.MessageBroker(str(uuid.uuid4))                                  # spin up iot\n",
    "    \n",
    "    if device_name not in mb.list_devices_by_type( thingTypeName= device_type):    # check if device already exists\n",
    "        mb.create_device( device_name= device_name, device_type= device_type)      # if not, create it\n",
    "        mb.update_device_state( device_name, {\"schedule\":[]} )                     # add empty schedule to new experiment\n",
    "    else:                                                                          # otherwise, check device is ok and isn't still running\n",
    "        assert \"is_running\" in mb.get_device_state(device_name), f\"{device_name} has corrupted data! Talk to data team.\"\n",
    "        assert not mb.get_device_state(device_name)[\"is_running\"], f\"{device_name} already exists and is currently running. To start it again, first shut it down by typing 'iot.shutdown({device_name})'\"\n",
    "    \n",
    "    mb.update_device_state( device_name, {\"experiment\":experiment,\"is_running\":True} )    # reset state for new run\n",
    "    if restart_schedule:                                                           # if user want to reset the schedule\n",
    "        mb.update_device_state( device_name, {\"schedule\":[]} )                     # clear all jobs in the schedule\n",
    "    \n",
    "    def respondToCommand(topic: str, message: dict):                               # build function that runs when device receives command\n",
    "        exec(message[\"command\"])                                                   # run python command that was sent\n",
    "        schedule_str= [x.__repr__() for x in schedule.get_jobs()]                  # convert schedule to list of strings\n",
    "        mb.update_device_state( device_name, {\"schedule\":schedule_str} )           # in case schedule changed, update state's schedule\n",
    "    mb.subscribe_message( device_name, respondToCommand )                          # start listening for new commands\n",
    "    \n",
    "    running = True                                                                 # keep python running so that listener can do it's job\n",
    "    while running:                                                                 # when it's time to stop, iot makes running=False\n",
    "        schedule.run_pending()                                                     # run any scheduled commands if it's their time\n",
    "        running = mb.get_device_state( device_name )[\"is_running\"]                 # check if we've been told to stop running\n",
    "        time.sleep(.1)                                                             # wait a little to save cpu usage\n",
    "    mb.shutdown()    "
   ]
  },
  {
   "cell_type": "markdown",
   "id": "42779f04",
   "metadata": {},
   "source": [
    "# send"
   ]
  },
  {
   "cell_type": "code",
   "execution_count": null,
   "id": "34091be4",
   "metadata": {},
   "outputs": [],
   "source": [
    "send( 'feeding/flow_1' , \"print('hello')\")"
   ]
  },
  {
   "cell_type": "code",
   "execution_count": null,
   "id": "ea72f557",
   "metadata": {},
   "outputs": [],
   "source": [
    "devices/feeding/flow_1\n",
    "devices/feeding/flow_2"
   ]
  },
  {
   "cell_type": "code",
   "execution_count": null,
   "id": "4447f55b",
   "metadata": {},
   "outputs": [],
   "source": []
  },
  {
   "cell_type": "code",
   "execution_count": 5,
   "id": "2c2e6c2e",
   "metadata": {},
   "outputs": [],
   "source": [
    "def send( device_name_and_topic, command ):\n",
    "    \"\"\"Send a python script as a string which is then implemented by an IoT device. This is intended for simple use cases\"\"\"\n",
    "    mb = messaging.MessageBroker(str(uuid.uuid4))                             # spin up iot\n",
    "    mb.publish_message( topic=f\"devices/{device_name_and_topic}\", message={\"command\": command } )    # send command to listening device\n",
    "    mb.shutdown()                                                             # shutdown iot"
   ]
  },
  {
   "cell_type": "code",
   "execution_count": null,
   "id": "87df8947",
   "metadata": {},
   "outputs": [],
   "source": []
  },
  {
   "cell_type": "code",
   "execution_count": null,
   "id": "85addbc3",
   "metadata": {},
   "outputs": [],
   "source": [
    "mb.get_device_state(\"\")"
   ]
  },
  {
   "cell_type": "code",
   "execution_count": null,
   "id": "dd952ec7",
   "metadata": {},
   "outputs": [],
   "source": []
  },
  {
   "cell_type": "code",
   "execution_count": null,
   "id": "36c6f454",
   "metadata": {},
   "outputs": [],
   "source": []
  },
  {
   "cell_type": "code",
   "execution_count": null,
   "id": "91f78f97",
   "metadata": {},
   "outputs": [],
   "source": []
  },
  {
   "cell_type": "markdown",
   "id": "16f24340",
   "metadata": {},
   "source": [
    "# get_schedule"
   ]
  },
  {
   "cell_type": "code",
   "execution_count": null,
   "id": "82063a40",
   "metadata": {},
   "outputs": [],
   "source": []
  },
  {
   "cell_type": "code",
   "execution_count": null,
   "id": "5e5edc6c",
   "metadata": {},
   "outputs": [],
   "source": []
  },
  {
   "cell_type": "code",
   "execution_count": null,
   "id": "2a81735a",
   "metadata": {},
   "outputs": [],
   "source": []
  },
  {
   "cell_type": "code",
   "execution_count": null,
   "id": "d3e591a7",
   "metadata": {},
   "outputs": [],
   "source": []
  },
  {
   "cell_type": "code",
   "execution_count": 6,
   "id": "a075db6c",
   "metadata": {},
   "outputs": [],
   "source": [
    "def get_schedule( device_name ):\n",
    "    \"\"\"Get a list of scheduled commands from a device's shadow. This is intended for simple use cases\"\"\"\n",
    "    mb = messaging.MessageBroker(str(uuid.uuid4))                             # spin up iot\n",
    "    my_schedule = mb.get_device_state( device_name )[\"schedule\"]              # get schedule for device\n",
    "    mb.shutdown()                                                             # shutdown iot\n",
    "    return my_schedule                                                        # return schedule to user"
   ]
  },
  {
   "cell_type": "markdown",
   "id": "7ef0861c",
   "metadata": {},
   "source": [
    "# get_status"
   ]
  },
  {
   "cell_type": "code",
   "execution_count": 7,
   "id": "aa0f3811",
   "metadata": {},
   "outputs": [],
   "source": [
    "def get_status( device_name ):\n",
    "    \"\"\"Get a list of scheduled commands from a device's shadow. This is intended for simple use cases\"\"\"\n",
    "    mb = messaging.MessageBroker(str(uuid.uuid4))                        # spin up iot\n",
    "    status = mb.get_device_state( device_name )[\"status\"]                # get schedule for device\n",
    "    mb.shutdown()                                                        # shutdown iot\n",
    "    return status                                                        # return schedule to user"
   ]
  },
  {
   "cell_type": "markdown",
   "id": "47825461",
   "metadata": {},
   "source": [
    "# shutdown"
   ]
  },
  {
   "cell_type": "code",
   "execution_count": 8,
   "id": "f4c18d3a",
   "metadata": {},
   "outputs": [],
   "source": [
    "def shutdown( device_name ):\n",
    "    \"\"\"Stops iot listener on device by changing flag on shadow. This is intended for simple use cases\"\"\"\n",
    "    mb = messaging.MessageBroker(str(uuid.uuid4))                             # spin up iot\n",
    "    mb.update_device_state( device_name, {\"status\":\"shutdown\"} )              # change status flag on device state to shutdown\n",
    "    mb.shutdown()                                                             # shutdown iot"
   ]
  },
  {
   "cell_type": "markdown",
   "id": "9c4205fb",
   "metadata": {},
   "source": [
    "## Original working code - no pause or shutdown"
   ]
  },
  {
   "cell_type": "raw",
   "id": "c8cfd10e",
   "metadata": {},
   "source": [
    "def shutdown( device_name ):\n",
    "    \"\"\"Stops iot listener on device by changing flag on shadow. This is intended for simple use cases\"\"\"\n",
    "    mb = messaging.MessageBroker(str(uuid.uuid4))                             # spin up iot\n",
    "    mb.update_device_state( device_name, {\"is_running\":False} )               # change is_running flag on device state\n",
    "    mb.shutdown()        "
   ]
  },
  {
   "cell_type": "markdown",
   "id": "2b8de049",
   "metadata": {},
   "source": [
    "# pause"
   ]
  },
  {
   "cell_type": "code",
   "execution_count": 9,
   "id": "6030adfd",
   "metadata": {},
   "outputs": [],
   "source": [
    "def pause( device_name ):\n",
    "    \"\"\"Pauses iot listener on device by changing flag on shadow. This is intended for simple use cases\"\"\"\n",
    "    mb = messaging.MessageBroker(str(uuid.uuid4))                             # spin up iot\n",
    "    mb.update_device_state( device_name, {\"status\":\"pause\"} )              # change status flag on device state to pause\n",
    "    mb.shutdown()        "
   ]
  },
  {
   "cell_type": "markdown",
   "id": "93382ba5",
   "metadata": {},
   "source": [
    "# run"
   ]
  },
  {
   "cell_type": "code",
   "execution_count": 10,
   "id": "20c108ee",
   "metadata": {},
   "outputs": [],
   "source": [
    "def run( device_name ):\n",
    "    \"\"\"Resumes running of iot listener on device by changing flag on shadow. This is intended for simple use cases\"\"\"\n",
    "    mb = messaging.MessageBroker(str(uuid.uuid4))                        # spin up iot\n",
    "    mb.update_device_state( device_name, {\"status\":\"run\"} )              # change status flag on device state to run\n",
    "    mb.shutdown()   "
   ]
  },
  {
   "cell_type": "code",
   "execution_count": null,
   "id": "ff41d982",
   "metadata": {},
   "outputs": [],
   "source": []
  }
 ],
 "metadata": {
  "hide_input": false,
  "kernelspec": {
   "display_name": "Python 3",
   "language": "python",
   "name": "python3"
  },
  "language_info": {
   "codemirror_mode": {
    "name": "ipython",
    "version": 3
   },
   "file_extension": ".py",
   "mimetype": "text/x-python",
   "name": "python",
   "nbconvert_exporter": "python",
   "pygments_lexer": "ipython3",
   "version": "3.8.8"
  },
  "toc": {
   "base_numbering": 1,
   "nav_menu": {},
   "number_sections": true,
   "sideBar": true,
   "skip_h1_title": false,
   "title_cell": "Table of Contents",
   "title_sidebar": "Contents",
   "toc_cell": false,
   "toc_position": {},
   "toc_section_display": true,
   "toc_window_display": false
  }
 },
 "nbformat": 4,
 "nbformat_minor": 5
}
