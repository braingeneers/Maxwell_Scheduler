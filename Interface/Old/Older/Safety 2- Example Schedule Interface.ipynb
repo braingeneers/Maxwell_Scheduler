{
 "cells": [
  {
   "cell_type": "markdown",
   "id": "bc832bf9",
   "metadata": {},
   "source": [
    "<font size=7>Scheduler Interface Test"
   ]
  },
  {
   "cell_type": "markdown",
   "id": "3e9583ad",
   "metadata": {},
   "source": [
    "In this notebook I'm testing out ideas for scheduling events. The purpose of this is to eventually build a scheduler for controlling integrated lab devices."
   ]
  },
  {
   "cell_type": "markdown",
   "id": "ae0695ee",
   "metadata": {},
   "source": [
    "use `test/` when debugging topics"
   ]
  },
  {
   "cell_type": "markdown",
   "id": "f551f486",
   "metadata": {},
   "source": [
    "Import iot package"
   ]
  },
  {
   "cell_type": "code",
   "execution_count": 1,
   "id": "660e1adb",
   "metadata": {},
   "outputs": [],
   "source": [
    "from braingeneers.iot import messaging\n",
    "import uuid"
   ]
  },
  {
   "cell_type": "markdown",
   "id": "a657e1a3",
   "metadata": {},
   "source": [
    "set up iot"
   ]
  },
  {
   "cell_type": "code",
   "execution_count": 2,
   "id": "63d6ed50",
   "metadata": {},
   "outputs": [],
   "source": [
    "mb = messaging.MessageBroker(str(uuid.uuid4))"
   ]
  },
  {
   "cell_type": "markdown",
   "id": "8a33110d",
   "metadata": {},
   "source": [
    "Try running a command that's not on a schedule"
   ]
  },
  {
   "cell_type": "code",
   "execution_count": 3,
   "id": "b691d784",
   "metadata": {},
   "outputs": [],
   "source": [
    "command = \"deviceFunction('ROGUE')\"\n",
    "mb.publish_message(topic=\"microfluidics_test\", message={\"command\": command })"
   ]
  },
  {
   "cell_type": "markdown",
   "id": "e3559b0f",
   "metadata": {},
   "source": [
    "schedule some command to be run"
   ]
  },
  {
   "cell_type": "code",
   "execution_count": 4,
   "id": "eb763984",
   "metadata": {},
   "outputs": [],
   "source": [
    "command = \"schedule.every(3).seconds.do( deviceFunction, name='Alice')\"\n",
    "mb.publish_message(topic=\"microfluidics_test\", message={\"command\": command })"
   ]
  },
  {
   "cell_type": "markdown",
   "id": "d79d37a6",
   "metadata": {},
   "source": [
    "Schedule some other command to be run"
   ]
  },
  {
   "cell_type": "code",
   "execution_count": 5,
   "id": "0d5e9b7d",
   "metadata": {},
   "outputs": [],
   "source": [
    "command = \"schedule.every().second.do( deviceFunction, name='Bob')\"\n",
    "mb.publish_message(topic=\"microfluidics_test\", message={\"command\": command })"
   ]
  },
  {
   "cell_type": "code",
   "execution_count": null,
   "id": "934831ec",
   "metadata": {},
   "outputs": [],
   "source": []
  },
  {
   "cell_type": "code",
   "execution_count": null,
   "id": "5b2be8c9",
   "metadata": {},
   "outputs": [],
   "source": []
  },
  {
   "cell_type": "code",
   "execution_count": null,
   "id": "da641ee5",
   "metadata": {},
   "outputs": [],
   "source": []
  },
  {
   "cell_type": "code",
   "execution_count": null,
   "id": "a382385f",
   "metadata": {},
   "outputs": [],
   "source": []
  },
  {
   "cell_type": "code",
   "execution_count": null,
   "id": "ea39efb0",
   "metadata": {},
   "outputs": [],
   "source": []
  }
 ],
 "metadata": {
  "hide_input": false,
  "kernelspec": {
   "display_name": "Python 3",
   "language": "python",
   "name": "python3"
  },
  "language_info": {
   "codemirror_mode": {
    "name": "ipython",
    "version": 3
   },
   "file_extension": ".py",
   "mimetype": "text/x-python",
   "name": "python",
   "nbconvert_exporter": "python",
   "pygments_lexer": "ipython3",
   "version": "3.8.8"
  },
  "toc": {
   "base_numbering": 1,
   "nav_menu": {},
   "number_sections": true,
   "sideBar": true,
   "skip_h1_title": false,
   "title_cell": "Table of Contents",
   "title_sidebar": "Contents",
   "toc_cell": false,
   "toc_position": {},
   "toc_section_display": true,
   "toc_window_display": false
  }
 },
 "nbformat": 4,
 "nbformat_minor": 5
}
