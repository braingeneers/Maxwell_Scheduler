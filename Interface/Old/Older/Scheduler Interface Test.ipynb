{
 "cells": [
  {
   "cell_type": "markdown",
   "id": "bc832bf9",
   "metadata": {},
   "source": [
    "<font size=7>Scheduler Interface Test"
   ]
  },
  {
   "cell_type": "markdown",
   "id": "3e9583ad",
   "metadata": {},
   "source": [
    "In this notebook I'm testing out ideas for scheduling events. The purpose of this is to eventually build a scheduler for controlling integrated lab devices."
   ]
  },
  {
   "cell_type": "markdown",
   "id": "f551f486",
   "metadata": {},
   "source": [
    "Import iot package"
   ]
  },
  {
   "cell_type": "code",
   "execution_count": 3,
   "id": "660e1adb",
   "metadata": {},
   "outputs": [],
   "source": [
    "from braingeneers.iot import messaging\n",
    "import uuid"
   ]
  },
  {
   "cell_type": "markdown",
   "id": "a657e1a3",
   "metadata": {},
   "source": [
    "set up iot"
   ]
  },
  {
   "cell_type": "code",
   "execution_count": 4,
   "id": "63d6ed50",
   "metadata": {},
   "outputs": [],
   "source": [
    "mb = messaging.MessageBroker(str(uuid.uuid4))"
   ]
  },
  {
   "cell_type": "markdown",
   "id": "8a33110d",
   "metadata": {},
   "source": [
    "Try running a command that's not on a schedule"
   ]
  },
  {
   "cell_type": "code",
   "execution_count": 8,
   "id": "b691d784",
   "metadata": {},
   "outputs": [],
   "source": [
    "command = \"deviceFunction('ROGUE')\"\n",
    "mb.publish_message(topic=\"microfluidics_test\", message={\"command\": command })"
   ]
  },
  {
   "cell_type": "markdown",
   "id": "e3559b0f",
   "metadata": {},
   "source": [
    "schedule some command to be run"
   ]
  },
  {
   "cell_type": "code",
   "execution_count": 5,
   "id": "eb763984",
   "metadata": {},
   "outputs": [],
   "source": [
    "command = \"schedule.every(3).seconds.do( deviceFunction, name='Alice')\"\n",
    "mb.publish_message(topic=\"microfluidics_test\", message={\"command\": command })"
   ]
  },
  {
   "cell_type": "markdown",
   "id": "d79d37a6",
   "metadata": {},
   "source": [
    "Schedule some other command to be run"
   ]
  },
  {
   "cell_type": "code",
   "execution_count": 6,
   "id": "0d5e9b7d",
   "metadata": {},
   "outputs": [],
   "source": [
    "command = \"schedule.every().second.do( deviceFunction, name='Bob')\"\n",
    "mb.publish_message(topic=\"microfluidics_test\", message={\"command\": command })"
   ]
  },
  {
   "cell_type": "markdown",
   "id": "37af745d",
   "metadata": {},
   "source": [
    "# Pseudocode <font color=\"red\">TO DO"
   ]
  },
  {
   "cell_type": "markdown",
   "id": "3ba00f90",
   "metadata": {},
   "source": [
    "## <font color=\"blue\">Main"
   ]
  },
  {
   "cell_type": "code",
   "execution_count": null,
   "id": "2cfb4f27",
   "metadata": {},
   "outputs": [],
   "source": []
  },
  {
   "cell_type": "code",
   "execution_count": null,
   "id": "45c90ca5",
   "metadata": {},
   "outputs": [],
   "source": []
  },
  {
   "cell_type": "markdown",
   "id": "85e78a75",
   "metadata": {},
   "source": [
    "## <font color=\"blue\">setSchedule"
   ]
  },
  {
   "cell_type": "code",
   "execution_count": null,
   "id": "3f95266b",
   "metadata": {},
   "outputs": [],
   "source": []
  },
  {
   "cell_type": "code",
   "execution_count": null,
   "id": "a65ebe04",
   "metadata": {},
   "outputs": [],
   "source": []
  },
  {
   "cell_type": "markdown",
   "id": "a4a70191",
   "metadata": {},
   "source": [
    "## <font color=\"blue\">task"
   ]
  },
  {
   "cell_type": "code",
   "execution_count": null,
   "id": "55066a66",
   "metadata": {},
   "outputs": [],
   "source": []
  },
  {
   "cell_type": "code",
   "execution_count": null,
   "id": "367076f8",
   "metadata": {},
   "outputs": [],
   "source": []
  },
  {
   "cell_type": "markdown",
   "id": "a4708ddf",
   "metadata": {},
   "source": [
    "## <font color=\"green\">updateSchedule"
   ]
  },
  {
   "cell_type": "markdown",
   "id": "75d47709",
   "metadata": {},
   "source": [
    "<font color=\"brown\"> This dummy codes checks to see if  a mesage is works with the scheduler"
   ]
  },
  {
   "cell_type": "code",
   "execution_count": null,
   "id": "1a01826e",
   "metadata": {},
   "outputs": [],
   "source": []
  },
  {
   "cell_type": "code",
   "execution_count": null,
   "id": "737e1e29",
   "metadata": {},
   "outputs": [],
   "source": []
  },
  {
   "cell_type": "code",
   "execution_count": null,
   "id": "4a451aaf",
   "metadata": {},
   "outputs": [],
   "source": []
  },
  {
   "cell_type": "code",
   "execution_count": null,
   "id": "d807555e",
   "metadata": {},
   "outputs": [],
   "source": []
  },
  {
   "cell_type": "markdown",
   "id": "ac41e28a",
   "metadata": {},
   "source": [
    "# <font color=\"brown\">Playground"
   ]
  },
  {
   "cell_type": "markdown",
   "id": "c5af38ab",
   "metadata": {},
   "source": [
    "## <font color=\"brown\">Main"
   ]
  },
  {
   "cell_type": "code",
   "execution_count": null,
   "id": "706b5486",
   "metadata": {},
   "outputs": [],
   "source": [
    "import braingeneers\n",
    "import functools"
   ]
  },
  {
   "cell_type": "code",
   "execution_count": null,
   "id": "8026b340",
   "metadata": {},
   "outputs": [],
   "source": [
    "dummy = type('test', (), {})()\n",
    "dummy.x = 1"
   ]
  },
  {
   "cell_type": "code",
   "execution_count": null,
   "id": "579ef0fc",
   "metadata": {},
   "outputs": [],
   "source": [
    "#functools.partial()"
   ]
  },
  {
   "cell_type": "code",
   "execution_count": null,
   "id": "7455ae37",
   "metadata": {},
   "outputs": [],
   "source": [
    "command = \"schedule.every(2).seconds.do( hello, name='Alice')\""
   ]
  },
  {
   "cell_type": "code",
   "execution_count": null,
   "id": "46d7659a",
   "metadata": {},
   "outputs": [],
   "source": [
    "mb = messaging.MessageBroker(str(uuid.uuid4))\n",
    "mb.publish_message(topic=\"microfluidics_test\", message={\"command\": command })"
   ]
  },
  {
   "cell_type": "code",
   "execution_count": null,
   "id": "934831ec",
   "metadata": {},
   "outputs": [],
   "source": []
  },
  {
   "cell_type": "code",
   "execution_count": null,
   "id": "a382385f",
   "metadata": {},
   "outputs": [],
   "source": []
  },
  {
   "cell_type": "code",
   "execution_count": null,
   "id": "ea39efb0",
   "metadata": {},
   "outputs": [],
   "source": []
  }
 ],
 "metadata": {
  "hide_input": false,
  "kernelspec": {
   "display_name": "Python 3",
   "language": "python",
   "name": "python3"
  },
  "language_info": {
   "codemirror_mode": {
    "name": "ipython",
    "version": 3
   },
   "file_extension": ".py",
   "mimetype": "text/x-python",
   "name": "python",
   "nbconvert_exporter": "python",
   "pygments_lexer": "ipython3",
   "version": "3.8.8"
  },
  "toc": {
   "base_numbering": 1,
   "nav_menu": {},
   "number_sections": true,
   "sideBar": true,
   "skip_h1_title": false,
   "title_cell": "Table of Contents",
   "title_sidebar": "Contents",
   "toc_cell": false,
   "toc_position": {},
   "toc_section_display": true,
   "toc_window_display": false
  }
 },
 "nbformat": 4,
 "nbformat_minor": 5
}
