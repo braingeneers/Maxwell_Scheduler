{
 "cells": [
  {
   "cell_type": "markdown",
   "id": "afdf0269",
   "metadata": {},
   "source": [
    "<font size=7> Lab Device Simulation"
   ]
  },
  {
   "cell_type": "markdown",
   "id": "197cf68d",
   "metadata": {},
   "source": [
    "This notebooks pretends to be a lab device that follows the labs schedule for when to do stuff. The lab device uses the internet of things to be notified about updates in the experiments schedule."
   ]
  },
  {
   "cell_type": "markdown",
   "id": "e4e29feb",
   "metadata": {},
   "source": [
    "**To Do**\n",
    "* get create state to work\n",
    "* [schedule reference](https://schedule.readthedocs.io/en/stable/examples.html)"
   ]
  },
  {
   "cell_type": "markdown",
   "id": "a8e420f2",
   "metadata": {},
   "source": [
    "<font color=\"red\">\n",
    "    \n",
    "**Questions**\n",
    "* I'm implicitly assuming device names are unique (topic==device_name). Is that acceptable?\n",
    "* there are warning messages. Is that worth hiding?"
   ]
  },
  {
   "cell_type": "markdown",
   "id": "9bb287ee",
   "metadata": {},
   "source": [
    "# <font color=\"gray\">Set up Notebook"
   ]
  },
  {
   "cell_type": "markdown",
   "id": "d7e84906",
   "metadata": {},
   "source": [
    "import stuff"
   ]
  },
  {
   "cell_type": "code",
   "execution_count": 1,
   "id": "80e5fd83",
   "metadata": {},
   "outputs": [],
   "source": [
    "import braingeneers\n",
    "from braingeneers.iot import messaging\n",
    "import uuid\n",
    "import schedule\n",
    "import time\n",
    "import schedule"
   ]
  },
  {
   "cell_type": "markdown",
   "id": "b839c3e3",
   "metadata": {},
   "source": [
    "suppose there's some function the user wants to run on device"
   ]
  },
  {
   "cell_type": "code",
   "execution_count": 2,
   "id": "4b5488ec",
   "metadata": {},
   "outputs": [],
   "source": [
    "def deviceFunction(name):\n",
    "    print(\"hello\",name )"
   ]
  },
  {
   "cell_type": "markdown",
   "id": "4b8ff226",
   "metadata": {},
   "source": [
    "# <font color=\"green\"> Start Device"
   ]
  },
  {
   "cell_type": "markdown",
   "id": "d37aca42",
   "metadata": {},
   "source": [
    "## <font color=\"green\"> Final Function"
   ]
  },
  {
   "cell_type": "code",
   "execution_count": 52,
   "id": "d3e27fb6",
   "metadata": {},
   "outputs": [],
   "source": [
    "def start(experiment, device_name, device_type):\n",
    "    \"\"\"Creates a device and have it start listening for commands. This is intended for simple use cases\"\"\"\n",
    "    mb = messaging.MessageBroker(str(uuid.uuid4))                                  # spin up iot\n",
    "    \n",
    "    if device_name not in mb.list_devices_by_type( thingTypeName= device_type):    # check if device already exists\n",
    "        mb.create_device( device_name= device_name, device_type= device_type)      # if not, create it\n",
    "    else:                                                                          # otherwise, check device isn't still running\n",
    "        assert not mb.get_device_state(device_name)[\"is_running\"], f\"{device_name} already exists and is currently running. To start it again, first shut it down by typing 'iot.shutdown({device_name})'\"\n",
    "    mb.update_device_state( device_name, {\"is_running\":True,\"schedule\":[]} )       # reset state for new run\n",
    "    \n",
    "    def respondToCommand(topic: str, message: dict):                               # build function that runs when device receives command\n",
    "        exec(message[\"command\"])                                                   # run python command that was sent\n",
    "        mb.update_device_state( device_name, {\"schedule\":schedule.get_jobs()} )    # in case schedule changed, update state's schedule\n",
    "    mb.subscribe_message( device_name, respondToCommand )                          # start listening for new commands\n",
    "    \n",
    "    running = True                                                                 # keep python running so that listener can do it's job\n",
    "    while running:                                                                 # when it's time to stop, iot makes running=False\n",
    "        schedule.run_pending()                                                     # run any scheduled commands if it's their time\n",
    "        running = mb.get_device_state( device_name )                               # check if we've been told to stop running\n",
    "        time.sleep(.1)                                                             # wait a little so save cpu usage\n",
    "    "
   ]
  },
  {
   "cell_type": "markdown",
   "id": "c7cba311",
   "metadata": {},
   "source": [
    "## <font color=\"brown\">Playground"
   ]
  },
  {
   "cell_type": "markdown",
   "id": "3cee9065",
   "metadata": {},
   "source": [
    "Create variables for function"
   ]
  },
  {
   "cell_type": "code",
   "execution_count": 49,
   "id": "57c818e9",
   "metadata": {},
   "outputs": [],
   "source": [
    "experiment=\"my_experiment\"\n",
    "device_name=\"flow_1\"\n",
    "device_type=\"feeding\""
   ]
  },
  {
   "cell_type": "markdown",
   "id": "40f79ade",
   "metadata": {},
   "source": [
    "spin up iot"
   ]
  },
  {
   "cell_type": "code",
   "execution_count": 45,
   "id": "8ca5510f",
   "metadata": {},
   "outputs": [],
   "source": [
    "mb = messaging.MessageBroker(str(uuid.uuid4))                                      # Spin up iot"
   ]
  },
  {
   "cell_type": "markdown",
   "id": "62b39c1d",
   "metadata": {},
   "source": [
    "Check if device already exists. create new device if it doesn't. Otherwise, check that device is shutdown before continuing"
   ]
  },
  {
   "cell_type": "code",
   "execution_count": null,
   "id": "512fedf0",
   "metadata": {},
   "outputs": [],
   "source": [
    "if device_name not in mb.list_devices_by_type( thingTypeName= device_type):\n",
    "    mb.create_device( device_name= device_name, device_type= device_type)\n",
    "else:\n",
    "    assert not mb.get_device_state(device_name)[\"is_running\"], f\"{device_name} already exists and is currently running. To start it again, first shut it down by typing 'iot.shutdown({device_name})'\"\n",
    "    "
   ]
  },
  {
   "cell_type": "markdown",
   "id": "d7cc2395",
   "metadata": {},
   "source": [
    "Update device state"
   ]
  },
  {
   "cell_type": "code",
   "execution_count": 47,
   "id": "b076443c",
   "metadata": {},
   "outputs": [
    {
     "name": "stderr",
     "output_type": "stream",
     "text": [
      "/opt/conda/lib/python3.8/site-packages/urllib3/connectionpool.py:1043: InsecureRequestWarning: Unverified HTTPS request is being made to host 'data.iot.us-west-2.amazonaws.com'. Adding certificate verification is strongly advised. See: https://urllib3.readthedocs.io/en/1.26.x/advanced-usage.html#ssl-warnings\n",
      "  warnings.warn(\n"
     ]
    }
   ],
   "source": [
    "mb.update_device_state( device_name, {\"is_running\":True,\"schedule\":[]} )"
   ]
  },
  {
   "cell_type": "markdown",
   "id": "117c8eb0",
   "metadata": {},
   "source": [
    "build function that run when iot device receives commands"
   ]
  },
  {
   "cell_type": "code",
   "execution_count": null,
   "id": "60d03edd",
   "metadata": {},
   "outputs": [],
   "source": [
    "def respondToCommand(topic: str, message: dict):\n",
    "    exec(message[\"command\"])\n",
    "    mb.update_device_state( device_name, {\"schedule\":schedule.get_jobs()} )"
   ]
  },
  {
   "cell_type": "markdown",
   "id": "e059299a",
   "metadata": {},
   "source": [
    "When we the device receives a command it runs the function above"
   ]
  },
  {
   "cell_type": "raw",
   "id": "ec0ea125",
   "metadata": {},
   "source": [
    "mb.subscribe_message('microfluidics_test', respondToCommand )"
   ]
  },
  {
   "cell_type": "markdown",
   "id": "3daef0f6",
   "metadata": {},
   "source": [
    "Run through while loop"
   ]
  },
  {
   "cell_type": "raw",
   "id": "5aac33e8",
   "metadata": {},
   "source": [
    "running = True                                                                     # when it's time to stop, iot makes running=False\n",
    "while running:\n",
    "    schedule.run_pending()                                                         # we check to see if there's any commands to run on the schedule\n",
    "    running =  mb.get_device_state( device_name )[\"is_running\"]\n",
    "    time.sleep(.1)                                                                 # we wait a little so save bandwidth (is this needed?)\n",
    "    "
   ]
  },
  {
   "cell_type": "code",
   "execution_count": null,
   "id": "a1608624",
   "metadata": {},
   "outputs": [],
   "source": []
  },
  {
   "cell_type": "code",
   "execution_count": null,
   "id": "49504476",
   "metadata": {},
   "outputs": [],
   "source": []
  },
  {
   "cell_type": "code",
   "execution_count": null,
   "id": "f6ca3adf",
   "metadata": {},
   "outputs": [],
   "source": []
  },
  {
   "cell_type": "markdown",
   "id": "88df9731",
   "metadata": {},
   "source": [
    "## Run Listener loop"
   ]
  },
  {
   "cell_type": "markdown",
   "id": "0a30d06e",
   "metadata": {},
   "source": [
    "<font color=\"orange\"> lol, could be--- miot = iot.Start()"
   ]
  },
  {
   "cell_type": "code",
   "execution_count": 3,
   "id": "8a4fcc3e",
   "metadata": {},
   "outputs": [
    {
     "name": "stdout",
     "output_type": "stream",
     "text": [
      "hello ROGUE\n",
      "hello Alice\n",
      "hello Alice\n",
      "hello Alice\n",
      "hello Alice\n",
      "hello Alice\n",
      "hello Bob\n",
      "hello Bob\n",
      "hello Alice\n",
      "hello Bob\n",
      "hello Bob\n",
      "hello Bob\n",
      "hello Alice\n",
      "hello Bob\n",
      "hello Bob\n",
      "hello Bob\n",
      "hello Alice\n",
      "hello Bob\n",
      "hello Bob\n",
      "hello Bob\n",
      "hello Alice\n",
      "hello Bob\n",
      "hello Bob\n",
      "hello Bob\n",
      "hello Alice\n",
      "hello Bob\n",
      "hello Bob\n",
      "hello Bob\n",
      "hello Alice\n",
      "hello Bob\n",
      "hello Bob\n",
      "hello Bob\n",
      "hello Alice\n",
      "hello Bob\n",
      "hello Bob\n",
      "hello Bob\n",
      "hello Alice\n",
      "hello Bob\n"
     ]
    },
    {
     "ename": "KeyboardInterrupt",
     "evalue": "",
     "output_type": "error",
     "traceback": [
      "\u001b[0;31m---------------------------------------------------------------------------\u001b[0m",
      "\u001b[0;31mKeyboardInterrupt\u001b[0m                         Traceback (most recent call last)",
      "\u001b[0;32m<ipython-input-3-0cdd44b8ec32>\u001b[0m in \u001b[0;36m<module>\u001b[0;34m\u001b[0m\n\u001b[1;32m      5\u001b[0m \u001b[0;32mwhile\u001b[0m \u001b[0mrunning\u001b[0m\u001b[0;34m:\u001b[0m\u001b[0;34m\u001b[0m\u001b[0;34m\u001b[0m\u001b[0m\n\u001b[1;32m      6\u001b[0m     \u001b[0mschedule\u001b[0m\u001b[0;34m.\u001b[0m\u001b[0mrun_pending\u001b[0m\u001b[0;34m(\u001b[0m\u001b[0;34m)\u001b[0m                                                         \u001b[0;31m# we check to see if there's any commands to run on the schedule\u001b[0m\u001b[0;34m\u001b[0m\u001b[0;34m\u001b[0m\u001b[0m\n\u001b[0;32m----> 7\u001b[0;31m     \u001b[0mtime\u001b[0m\u001b[0;34m.\u001b[0m\u001b[0msleep\u001b[0m\u001b[0;34m(\u001b[0m\u001b[0;36m.1\u001b[0m\u001b[0;34m)\u001b[0m                                                                 \u001b[0;31m# we wait a little so save bandwidth (is this needed?)\u001b[0m\u001b[0;34m\u001b[0m\u001b[0;34m\u001b[0m\u001b[0m\n\u001b[0m",
      "\u001b[0;31mKeyboardInterrupt\u001b[0m: "
     ]
    }
   ],
   "source": [
    "mb = messaging.MessageBroker(str(uuid.uuid4))                                      # Spin up iot\n",
    "mb.subscribe_message('microfluidics_test', lambda t,m: exec(m[\"command\"]) )        # run any command iot sends\n",
    "\n",
    "running = True                                                                     # when it's time to stop, iot makes running=False\n",
    "while running:\n",
    "    schedule.run_pending()                                                         # we check to see if there's any commands to run on the schedule\n",
    "    time.sleep(.1)                                                                 # we wait a little so save bandwidth (is this needed?)\n",
    "    \n",
    "    "
   ]
  },
  {
   "cell_type": "markdown",
   "id": "0cda6aaa",
   "metadata": {},
   "source": [
    "## Create Device"
   ]
  },
  {
   "cell_type": "markdown",
   "id": "64ae8fcc",
   "metadata": {},
   "source": [
    "import stuff"
   ]
  },
  {
   "cell_type": "code",
   "execution_count": 11,
   "id": "debac8e2",
   "metadata": {},
   "outputs": [],
   "source": [
    "import braingeneers\n",
    "from braingeneers.iot import messaging\n",
    "import uuid\n",
    "import schedule\n",
    "import time\n",
    "import schedule"
   ]
  },
  {
   "cell_type": "markdown",
   "id": "c995fe95",
   "metadata": {},
   "source": [
    "start up iot"
   ]
  },
  {
   "cell_type": "code",
   "execution_count": 12,
   "id": "6e387d05",
   "metadata": {},
   "outputs": [],
   "source": [
    "mb = messaging.MessageBroker(str(uuid.uuid4))"
   ]
  },
  {
   "cell_type": "markdown",
   "id": "d50cf50e",
   "metadata": {},
   "source": [
    "## Check if device exists"
   ]
  },
  {
   "cell_type": "code",
   "execution_count": 30,
   "id": "ba445450",
   "metadata": {},
   "outputs": [
    {
     "data": {
      "text/plain": [
       "True"
      ]
     },
     "execution_count": 30,
     "metadata": {},
     "output_type": "execute_result"
    }
   ],
   "source": [
    "\"microfluidics_test\" in mb.list_devices_by_type(thingTypeName=\"feeding\")"
   ]
  },
  {
   "cell_type": "markdown",
   "id": "b8edf5f0",
   "metadata": {},
   "source": [
    "## If device doest NOT exist"
   ]
  },
  {
   "cell_type": "code",
   "execution_count": 24,
   "id": "b3f27f6f",
   "metadata": {},
   "outputs": [],
   "source": [
    "mb = messaging.MessageBroker(str(uuid.uuid4))"
   ]
  },
  {
   "cell_type": "markdown",
   "id": "da16a654",
   "metadata": {},
   "source": [
    "create device"
   ]
  },
  {
   "cell_type": "code",
   "execution_count": 13,
   "id": "f0b550c5",
   "metadata": {},
   "outputs": [],
   "source": [
    "mb.create_device( device_name=\"microfluidics_test\", device_type=\"feeding\")"
   ]
  },
  {
   "cell_type": "markdown",
   "id": "1ed5b6ca",
   "metadata": {},
   "source": [
    "Initialize the device's shadow"
   ]
  },
  {
   "cell_type": "code",
   "execution_count": 22,
   "id": "da6175cb",
   "metadata": {},
   "outputs": [
    {
     "name": "stderr",
     "output_type": "stream",
     "text": [
      "/opt/conda/lib/python3.8/site-packages/urllib3/connectionpool.py:1043: InsecureRequestWarning: Unverified HTTPS request is being made to host 'data.iot.us-west-2.amazonaws.com'. Adding certificate verification is strongly advised. See: https://urllib3.readthedocs.io/en/1.26.x/advanced-usage.html#ssl-warnings\n",
      "  warnings.warn(\n"
     ]
    }
   ],
   "source": [
    "mb.update_device_state( device_name=\"microfluidics_test\", device_state={\"is_running\":True,\"schedule\":[]} )"
   ]
  },
  {
   "cell_type": "markdown",
   "id": "671e5bee",
   "metadata": {},
   "source": [
    "## If device DOES exist"
   ]
  },
  {
   "cell_type": "markdown",
   "id": "4caa969d",
   "metadata": {},
   "source": [
    "Create an error message if the device exists and is currently running."
   ]
  },
  {
   "cell_type": "code",
   "execution_count": 36,
   "id": "406aabb4",
   "metadata": {},
   "outputs": [
    {
     "name": "stderr",
     "output_type": "stream",
     "text": [
      "/opt/conda/lib/python3.8/site-packages/urllib3/connectionpool.py:1043: InsecureRequestWarning: Unverified HTTPS request is being made to host 'data.iot.us-west-2.amazonaws.com'. Adding certificate verification is strongly advised. See: https://urllib3.readthedocs.io/en/1.26.x/advanced-usage.html#ssl-warnings\n",
      "  warnings.warn(\n"
     ]
    },
    {
     "ename": "AssertionError",
     "evalue": "microfluidics_test already exists and is currently running. To start it again, first shut it down by typing 'iot.shutdown(microfluidics_test)'",
     "output_type": "error",
     "traceback": [
      "\u001b[0;31m---------------------------------------------------------------------------\u001b[0m",
      "\u001b[0;31mAssertionError\u001b[0m                            Traceback (most recent call last)",
      "\u001b[0;32m<ipython-input-36-bf843b0c3492>\u001b[0m in \u001b[0;36m<module>\u001b[0;34m\u001b[0m\n\u001b[0;32m----> 1\u001b[0;31m \u001b[0;32massert\u001b[0m \u001b[0;32mnot\u001b[0m \u001b[0mmb\u001b[0m\u001b[0;34m.\u001b[0m\u001b[0mget_device_state\u001b[0m\u001b[0;34m(\u001b[0m\u001b[0;34m\"microfluidics_test\"\u001b[0m\u001b[0;34m)\u001b[0m\u001b[0;34m[\u001b[0m\u001b[0;34m\"is_running\"\u001b[0m\u001b[0;34m]\u001b[0m\u001b[0;34m,\u001b[0m \u001b[0;34mf\"microfluidics_test already exists and is currently running. To start it again, first shut it down by typing 'iot.shutdown(microfluidics_test)'\"\u001b[0m\u001b[0;34m\u001b[0m\u001b[0;34m\u001b[0m\u001b[0m\n\u001b[0m",
      "\u001b[0;31mAssertionError\u001b[0m: microfluidics_test already exists and is currently running. To start it again, first shut it down by typing 'iot.shutdown(microfluidics_test)'"
     ]
    }
   ],
   "source": [
    "assert not mb.get_device_state(\"microfluidics_test\")[\"is_running\"], f\"microfluidics_test already exists and is currently running. To start it again, first shut it down by typing 'iot.shutdown(microfluidics_test)'\"\n"
   ]
  },
  {
   "cell_type": "markdown",
   "id": "3a9ed0d3",
   "metadata": {},
   "source": [
    "otherwise, we simply reset it's state"
   ]
  },
  {
   "cell_type": "code",
   "execution_count": 37,
   "id": "c3e76370",
   "metadata": {},
   "outputs": [
    {
     "name": "stderr",
     "output_type": "stream",
     "text": [
      "/opt/conda/lib/python3.8/site-packages/urllib3/connectionpool.py:1043: InsecureRequestWarning: Unverified HTTPS request is being made to host 'data.iot.us-west-2.amazonaws.com'. Adding certificate verification is strongly advised. See: https://urllib3.readthedocs.io/en/1.26.x/advanced-usage.html#ssl-warnings\n",
      "  warnings.warn(\n"
     ]
    }
   ],
   "source": [
    "mb.update_device_state( device_name=\"microfluidics_test\", device_state={\"is_running\":True,\"schedule\":[]} )"
   ]
  },
  {
   "cell_type": "code",
   "execution_count": null,
   "id": "1c691e63",
   "metadata": {},
   "outputs": [],
   "source": []
  },
  {
   "cell_type": "code",
   "execution_count": null,
   "id": "35bb4f73",
   "metadata": {},
   "outputs": [],
   "source": []
  },
  {
   "cell_type": "markdown",
   "id": "69bccc57",
   "metadata": {},
   "source": [
    "#  schedule example"
   ]
  },
  {
   "cell_type": "markdown",
   "id": "7aa9ca70",
   "metadata": {},
   "source": [
    "See schedule"
   ]
  },
  {
   "cell_type": "code",
   "execution_count": 1,
   "id": "2f60dbbe",
   "metadata": {},
   "outputs": [
    {
     "ename": "NameError",
     "evalue": "name 'schedule' is not defined",
     "output_type": "error",
     "traceback": [
      "\u001b[0;31m---------------------------------------------------------------------------\u001b[0m",
      "\u001b[0;31mNameError\u001b[0m                                 Traceback (most recent call last)",
      "\u001b[0;32m<ipython-input-1-20c01a0270d8>\u001b[0m in \u001b[0;36m<module>\u001b[0;34m\u001b[0m\n\u001b[0;32m----> 1\u001b[0;31m \u001b[0mschedule\u001b[0m\u001b[0;34m.\u001b[0m\u001b[0mget_jobs\u001b[0m\u001b[0;34m(\u001b[0m\u001b[0;34m)\u001b[0m\u001b[0;34m\u001b[0m\u001b[0;34m\u001b[0m\u001b[0m\n\u001b[0m",
      "\u001b[0;31mNameError\u001b[0m: name 'schedule' is not defined"
     ]
    }
   ],
   "source": [
    "schedule.get_jobs()"
   ]
  },
  {
   "cell_type": "markdown",
   "id": "13703eee",
   "metadata": {},
   "source": [
    "Create jobs"
   ]
  },
  {
   "cell_type": "code",
   "execution_count": null,
   "id": "6906e486",
   "metadata": {},
   "outputs": [],
   "source": []
  },
  {
   "cell_type": "code",
   "execution_count": null,
   "id": "4e036918",
   "metadata": {},
   "outputs": [],
   "source": []
  },
  {
   "cell_type": "code",
   "execution_count": null,
   "id": "b7b48126",
   "metadata": {},
   "outputs": [],
   "source": []
  },
  {
   "cell_type": "markdown",
   "id": "2f996039",
   "metadata": {
    "heading_collapsed": true
   },
   "source": [
    "# Old Stuff"
   ]
  },
  {
   "cell_type": "code",
   "execution_count": null,
   "id": "cadc7989",
   "metadata": {
    "hidden": true
   },
   "outputs": [],
   "source": [
    "schedule.get_jobs()"
   ]
  },
  {
   "cell_type": "code",
   "execution_count": null,
   "id": "f37e6eaf",
   "metadata": {
    "hidden": true
   },
   "outputs": [],
   "source": []
  },
  {
   "cell_type": "code",
   "execution_count": null,
   "id": "7d4d1b1b",
   "metadata": {
    "hidden": true
   },
   "outputs": [],
   "source": [
    "while True:\n",
    "    schedule.run_pending()\n",
    "    time.sleep(.1)"
   ]
  },
  {
   "cell_type": "code",
   "execution_count": null,
   "id": "4874cb3f",
   "metadata": {
    "hidden": true
   },
   "outputs": [],
   "source": [
    "schedule.get_jobs()"
   ]
  },
  {
   "cell_type": "code",
   "execution_count": null,
   "id": "0703aa1e",
   "metadata": {
    "hidden": true
   },
   "outputs": [],
   "source": [
    "2 + 2"
   ]
  },
  {
   "cell_type": "code",
   "execution_count": null,
   "id": "920918f0",
   "metadata": {
    "hidden": true
   },
   "outputs": [],
   "source": []
  },
  {
   "cell_type": "code",
   "execution_count": null,
   "id": "6986b809",
   "metadata": {
    "hidden": true
   },
   "outputs": [],
   "source": [
    "schedule.get_jobs()"
   ]
  },
  {
   "cell_type": "code",
   "execution_count": null,
   "id": "5cd48bea",
   "metadata": {
    "hidden": true
   },
   "outputs": [],
   "source": []
  },
  {
   "cell_type": "code",
   "execution_count": null,
   "id": "023796f1",
   "metadata": {
    "hidden": true
   },
   "outputs": [],
   "source": [
    "#client = MqttClient('test')  # device named test\n",
    "mb.subscribe_message('microfluidics_test', my_callback)  # subscribe to all topics under test\n",
    "\n",
    "while True:\n",
    "    schedule.run_pending()\n",
    "    time.sleep(.1)"
   ]
  },
  {
   "cell_type": "code",
   "execution_count": null,
   "id": "1102fc73",
   "metadata": {
    "hidden": true
   },
   "outputs": [],
   "source": []
  },
  {
   "cell_type": "code",
   "execution_count": null,
   "id": "244cdcd8",
   "metadata": {
    "hidden": true
   },
   "outputs": [],
   "source": []
  },
  {
   "cell_type": "code",
   "execution_count": null,
   "id": "adec1d2c",
   "metadata": {
    "hidden": true
   },
   "outputs": [],
   "source": []
  },
  {
   "cell_type": "code",
   "execution_count": null,
   "id": "4964ec09",
   "metadata": {
    "hidden": true
   },
   "outputs": [],
   "source": [
    "schedule.get_jobs()"
   ]
  },
  {
   "cell_type": "markdown",
   "id": "ebd2c760",
   "metadata": {
    "hidden": true
   },
   "source": [
    "standard iot boilerplate code"
   ]
  },
  {
   "cell_type": "code",
   "execution_count": null,
   "id": "f744cead",
   "metadata": {
    "hidden": true
   },
   "outputs": [],
   "source": [
    "mb = messaging.MessageBroker(str(uuid.uuid4))\n",
    "q = messaging.CallableQueue()"
   ]
  },
  {
   "cell_type": "code",
   "execution_count": null,
   "id": "22c49163",
   "metadata": {
    "hidden": true
   },
   "outputs": [],
   "source": []
  },
  {
   "cell_type": "code",
   "execution_count": null,
   "id": "f6b9cebf",
   "metadata": {
    "hidden": true
   },
   "outputs": [],
   "source": [
    "#mb.create_device(\"microfluidics_test\",\"microfluidics\") \n",
    "mb.subscribe_message( topic=\"microfluidics_test\", callback=q )"
   ]
  },
  {
   "cell_type": "markdown",
   "id": "dccaf260",
   "metadata": {
    "heading_collapsed": true
   },
   "source": [
    "# Main"
   ]
  },
  {
   "cell_type": "markdown",
   "id": "7299d4ab",
   "metadata": {
    "hidden": true
   },
   "source": [
    "Make sure schedule is empty"
   ]
  },
  {
   "cell_type": "code",
   "execution_count": null,
   "id": "af935104",
   "metadata": {
    "hidden": true
   },
   "outputs": [],
   "source": [
    "schedule.clear()"
   ]
  },
  {
   "cell_type": "code",
   "execution_count": null,
   "id": "af9ccbc7",
   "metadata": {
    "hidden": true
   },
   "outputs": [],
   "source": [
    "def hello(name):\n",
    "    print(\"hello\",name )\n"
   ]
  },
  {
   "cell_type": "code",
   "execution_count": null,
   "id": "d74df9e7",
   "metadata": {
    "hidden": true
   },
   "outputs": [],
   "source": []
  },
  {
   "cell_type": "code",
   "execution_count": null,
   "id": "3d3f8cb3",
   "metadata": {
    "hidden": true
   },
   "outputs": [],
   "source": [
    "mb.subscribe_message(\"microfluidics_test\")"
   ]
  },
  {
   "cell_type": "code",
   "execution_count": null,
   "id": "f454384a",
   "metadata": {
    "hidden": true
   },
   "outputs": [],
   "source": [
    "    \n",
    "while True:\n",
    "    #topic_name, result_message = q.get() #storing the message and the directory name to variables\n",
    "    \n",
    "    print(topic_name, result_message)\n",
    "    #time.sleep(1)"
   ]
  },
  {
   "cell_type": "markdown",
   "id": "3209a88e",
   "metadata": {
    "heading_collapsed": true
   },
   "source": [
    "# Check it out"
   ]
  },
  {
   "cell_type": "code",
   "execution_count": null,
   "id": "b4840294",
   "metadata": {
    "hidden": true
   },
   "outputs": [],
   "source": [
    "def my_callback(topic: str, message: dict):\n",
    "    print(f'Received message {message} on topic {topic}')  # Print message\n",
    "#client = MqttClient('test')  # device named test\n",
    "mb.subscribe('microfluidics_test', my_callback)  # subscribe to all topics under test"
   ]
  },
  {
   "cell_type": "code",
   "execution_count": null,
   "id": "5237a516",
   "metadata": {
    "hidden": true
   },
   "outputs": [],
   "source": []
  },
  {
   "cell_type": "code",
   "execution_count": null,
   "id": "da3a4038",
   "metadata": {
    "hidden": true
   },
   "outputs": [],
   "source": []
  },
  {
   "cell_type": "code",
   "execution_count": null,
   "id": "ffbe4d6e",
   "metadata": {
    "hidden": true
   },
   "outputs": [],
   "source": []
  }
 ],
 "metadata": {
  "hide_input": false,
  "kernelspec": {
   "display_name": "Python 3",
   "language": "python",
   "name": "python3"
  },
  "language_info": {
   "codemirror_mode": {
    "name": "ipython",
    "version": 3
   },
   "file_extension": ".py",
   "mimetype": "text/x-python",
   "name": "python",
   "nbconvert_exporter": "python",
   "pygments_lexer": "ipython3",
   "version": "3.8.8"
  },
  "toc": {
   "base_numbering": 1,
   "nav_menu": {},
   "number_sections": true,
   "sideBar": true,
   "skip_h1_title": false,
   "title_cell": "Table of Contents",
   "title_sidebar": "Contents",
   "toc_cell": false,
   "toc_position": {},
   "toc_section_display": true,
   "toc_window_display": false
  },
  "widgets": {
   "application/vnd.jupyter.widget-state+json": {
    "state": {},
    "version_major": 2,
    "version_minor": 0
   }
  }
 },
 "nbformat": 4,
 "nbformat_minor": 5
}
