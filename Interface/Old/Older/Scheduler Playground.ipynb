{
 "cells": [
  {
   "cell_type": "markdown",
   "id": "f4177206",
   "metadata": {},
   "source": [
    "<font size=7>Scheduler Playground"
   ]
  },
  {
   "cell_type": "markdown",
   "id": "202f8569",
   "metadata": {},
   "source": [
    "Here I test out different functionalities in the python scheduler."
   ]
  },
  {
   "cell_type": "code",
   "execution_count": 1,
   "id": "9ed01c8a",
   "metadata": {},
   "outputs": [
    {
     "name": "stdout",
     "output_type": "stream",
     "text": [
      "\u001b[33mWARNING: The directory '/home/jovyan/.cache/pip' or its parent directory is not owned or is not writable by the current user. The cache has been disabled. Check the permissions and owner of that directory. If executing pip with sudo, you may want sudo's -H flag.\u001b[0m\n",
      "Collecting schedule\n",
      "  Downloading schedule-1.1.0-py2.py3-none-any.whl (10 kB)\n",
      "Installing collected packages: schedule\n",
      "Successfully installed schedule-1.1.0\n"
     ]
    }
   ],
   "source": [
    "#!pip install schedule"
   ]
  },
  {
   "cell_type": "code",
   "execution_count": 46,
   "id": "c6589069",
   "metadata": {},
   "outputs": [],
   "source": [
    "import schedule\n",
    "import time\n",
    "from braingeneers.utils import messaging\n",
    "import uuid"
   ]
  },
  {
   "cell_type": "markdown",
   "id": "0c84eb7a",
   "metadata": {
    "heading_collapsed": true
   },
   "source": [
    "# Testing out schedule"
   ]
  },
  {
   "cell_type": "code",
   "execution_count": 33,
   "id": "ced9219c",
   "metadata": {
    "hidden": true
   },
   "outputs": [],
   "source": [
    "def job():\n",
    "    print(\"I'm working...\")"
   ]
  },
  {
   "cell_type": "code",
   "execution_count": 35,
   "id": "39c720bf",
   "metadata": {
    "hidden": true
   },
   "outputs": [
    {
     "data": {
      "text/plain": [
       "Every 1 minute at 00:00:17 do job() (last run: [never], next run: 2022-06-08 19:38:17)"
      ]
     },
     "execution_count": 35,
     "metadata": {},
     "output_type": "execute_result"
    }
   ],
   "source": [
    "schedule.every(10).minutes.do(job)\n",
    "schedule.every().hour.do(job)\n",
    "schedule.every(2).days.at(\"10:30\").do(job)\n",
    "schedule.every().monday.do(job)\n",
    "schedule.every().wednesday.at(\"13:15\").do(job)\n",
    "schedule.every().minute.at(\":17\").do(job)"
   ]
  },
  {
   "cell_type": "markdown",
   "id": "ac8e56ca",
   "metadata": {
    "hidden": true
   },
   "source": [
    "`9:47`"
   ]
  },
  {
   "cell_type": "code",
   "execution_count": 36,
   "id": "db656c51",
   "metadata": {
    "hidden": true
   },
   "outputs": [],
   "source": [
    "schedule.run_pending()"
   ]
  },
  {
   "cell_type": "code",
   "execution_count": 23,
   "id": "334b7faa",
   "metadata": {
    "hidden": true
   },
   "outputs": [],
   "source": [
    "checkit = schedule.get_jobs()"
   ]
  },
  {
   "cell_type": "code",
   "execution_count": 15,
   "id": "94f104ee",
   "metadata": {
    "hidden": true
   },
   "outputs": [
    {
     "data": {
      "text/plain": [
       "'weeks'"
      ]
     },
     "execution_count": 15,
     "metadata": {},
     "output_type": "execute_result"
    }
   ],
   "source": [
    "checkit[0].at_time"
   ]
  },
  {
   "cell_type": "code",
   "execution_count": 24,
   "id": "11d87518",
   "metadata": {
    "hidden": true
   },
   "outputs": [
    {
     "data": {
      "text/plain": [
       "[Every 10 weeks do job() (last run: 2022-06-08 16:47:22, next run: 2022-08-17 16:47:22),\n",
       " Every 1 hour do job() (last run: [never], next run: 2022-06-08 17:13:15),\n",
       " Every 1 day at 10:30:00 do job() (last run: [never], next run: 2022-06-09 10:30:00),\n",
       " Every 1 week do job() (last run: [never], next run: 2022-06-13 16:13:15),\n",
       " Every 1 week at 13:15:00 do job() (last run: [never], next run: 2022-06-15 13:15:00),\n",
       " Every 1 minute at 00:00:17 do job() (last run: 2022-06-08 16:50:56, next run: 2022-06-08 16:51:17)]"
      ]
     },
     "execution_count": 24,
     "metadata": {},
     "output_type": "execute_result"
    }
   ],
   "source": [
    "checkit"
   ]
  },
  {
   "cell_type": "code",
   "execution_count": 27,
   "id": "6721478c",
   "metadata": {
    "hidden": true
   },
   "outputs": [],
   "source": [
    "schedule.cancel_job( checkit[2] )"
   ]
  },
  {
   "cell_type": "code",
   "execution_count": 28,
   "id": "7fa6b5fd",
   "metadata": {
    "hidden": true
   },
   "outputs": [
    {
     "data": {
      "text/plain": [
       "[Every 10 weeks do job() (last run: 2022-06-08 16:47:22, next run: 2022-08-17 16:47:22),\n",
       " Every 1 hour do job() (last run: [never], next run: 2022-06-08 17:13:15),\n",
       " Every 1 week do job() (last run: [never], next run: 2022-06-13 16:13:15),\n",
       " Every 1 week at 13:15:00 do job() (last run: [never], next run: 2022-06-15 13:15:00),\n",
       " Every 1 minute at 00:00:17 do job() (last run: 2022-06-08 16:50:56, next run: 2022-06-08 16:51:17)]"
      ]
     },
     "execution_count": 28,
     "metadata": {},
     "output_type": "execute_result"
    }
   ],
   "source": [
    "schedule.get_jobs()"
   ]
  },
  {
   "cell_type": "code",
   "execution_count": 29,
   "id": "0c0e7b27",
   "metadata": {
    "hidden": true
   },
   "outputs": [],
   "source": [
    "schedule.clear()"
   ]
  },
  {
   "cell_type": "code",
   "execution_count": 40,
   "id": "c157cbf2",
   "metadata": {
    "hidden": true
   },
   "outputs": [
    {
     "data": {
      "text/plain": [
       "[Every 10 minutes do job() (last run: [never], next run: 2022-06-08 19:47:21),\n",
       " Every 1 hour do job() (last run: [never], next run: 2022-06-08 20:37:21),\n",
       " Every 2 days at 10:30:00 do job() (last run: [never], next run: 2022-06-10 10:30:00),\n",
       " Every 1 week do job() (last run: [never], next run: 2022-06-13 19:37:21),\n",
       " Every 1 week at 13:15:00 do job() (last run: [never], next run: 2022-06-15 13:15:00),\n",
       " Every 1 minute at 00:00:17 do job() (last run: [never], next run: 2022-06-08 19:38:17),\n",
       " Every 2 minutes do job() (last run: [never], next run: 2022-06-08 19:47:32)]"
      ]
     },
     "execution_count": 40,
     "metadata": {},
     "output_type": "execute_result"
    }
   ],
   "source": [
    "schedule.get_jobs()"
   ]
  },
  {
   "cell_type": "code",
   "execution_count": null,
   "id": "347f358b",
   "metadata": {
    "hidden": true
   },
   "outputs": [],
   "source": []
  },
  {
   "cell_type": "code",
   "execution_count": 39,
   "id": "f5d334ad",
   "metadata": {
    "hidden": true
   },
   "outputs": [
    {
     "data": {
      "text/plain": [
       "Every 2 minutes do job() (last run: [never], next run: 2022-06-08 19:47:32)"
      ]
     },
     "execution_count": 39,
     "metadata": {},
     "output_type": "execute_result"
    }
   ],
   "source": [
    "schedule.every(2).minutes.do(job)"
   ]
  },
  {
   "cell_type": "code",
   "execution_count": null,
   "id": "f9c92b0e",
   "metadata": {
    "hidden": true
   },
   "outputs": [],
   "source": []
  },
  {
   "cell_type": "code",
   "execution_count": null,
   "id": "5a268f45",
   "metadata": {
    "hidden": true
   },
   "outputs": [],
   "source": [
    "list_devices"
   ]
  },
  {
   "cell_type": "markdown",
   "id": "ce01551b",
   "metadata": {
    "heading_collapsed": true
   },
   "source": [
    "# Test out IoT"
   ]
  },
  {
   "cell_type": "code",
   "execution_count": 47,
   "id": "19560b92",
   "metadata": {
    "hidden": true
   },
   "outputs": [],
   "source": [
    "mb = messaging.MessageBroker(str(uuid.uuid4))"
   ]
  },
  {
   "cell_type": "code",
   "execution_count": 48,
   "id": "2ff8a1be",
   "metadata": {
    "hidden": true
   },
   "outputs": [
    {
     "data": {
      "text/plain": [
       "[]"
      ]
     },
     "execution_count": 48,
     "metadata": {},
     "output_type": "execute_result"
    }
   ],
   "source": [
    "mb.list_devices()"
   ]
  },
  {
   "cell_type": "code",
   "execution_count": null,
   "id": "22d54e9b",
   "metadata": {
    "hidden": true
   },
   "outputs": [],
   "source": []
  }
 ],
 "metadata": {
  "hide_input": false,
  "kernelspec": {
   "display_name": "Python 3",
   "language": "python",
   "name": "python3"
  },
  "language_info": {
   "codemirror_mode": {
    "name": "ipython",
    "version": 3
   },
   "file_extension": ".py",
   "mimetype": "text/x-python",
   "name": "python",
   "nbconvert_exporter": "python",
   "pygments_lexer": "ipython3",
   "version": "3.8.8"
  },
  "toc": {
   "base_numbering": 1,
   "nav_menu": {},
   "number_sections": true,
   "sideBar": true,
   "skip_h1_title": false,
   "title_cell": "Table of Contents",
   "title_sidebar": "Contents",
   "toc_cell": false,
   "toc_position": {},
   "toc_section_display": true,
   "toc_window_display": false
  }
 },
 "nbformat": 4,
 "nbformat_minor": 5
}
