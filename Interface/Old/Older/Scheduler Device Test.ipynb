{
 "cells": [
  {
   "cell_type": "markdown",
   "id": "afdf0269",
   "metadata": {},
   "source": [
    "<font size=7> Lab Device Simulation"
   ]
  },
  {
   "cell_type": "markdown",
   "id": "197cf68d",
   "metadata": {},
   "source": [
    "This notebooks pretends to be a lab device that follows the labs schedule for when to do stuff. The lab device uses the internet of things to be notified about updates in the experiments schedule."
   ]
  },
  {
   "cell_type": "markdown",
   "id": "c1ed2e5f",
   "metadata": {},
   "source": [
    "**To Do**\n",
    "* get create state to work\n",
    "* [schedule reference](https://schedule.readthedocs.io/en/stable/examples.html)"
   ]
  },
  {
   "cell_type": "markdown",
   "id": "b01c4bfd",
   "metadata": {},
   "source": [
    "# <font color=\"green\">Success!"
   ]
  },
  {
   "cell_type": "markdown",
   "id": "2e375c2f",
   "metadata": {},
   "source": [
    "import braingeneers stuff, the scheduler app, and iot"
   ]
  },
  {
   "cell_type": "code",
   "execution_count": 1,
   "id": "8b200a2b",
   "metadata": {},
   "outputs": [],
   "source": [
    "import braingeneers\n",
    "from braingeneers.iot import messaging\n",
    "import uuid\n",
    "import schedule\n",
    "import time\n",
    "import schedule"
   ]
  },
  {
   "cell_type": "markdown",
   "id": "a9697e2c",
   "metadata": {},
   "source": [
    "initialize iot environment"
   ]
  },
  {
   "cell_type": "code",
   "execution_count": null,
   "id": "2fa55d83",
   "metadata": {},
   "outputs": [],
   "source": [
    "mb = messaging.MessageBroker(str(uuid.uuid4))\n",
    "#q = messaging.CallableQueue()"
   ]
  },
  {
   "cell_type": "markdown",
   "id": "571d7baa",
   "metadata": {},
   "source": [
    "Define the name of your device's function"
   ]
  },
  {
   "cell_type": "code",
   "execution_count": null,
   "id": "bf0f9138",
   "metadata": {},
   "outputs": [],
   "source": [
    "def deviceFunction(name):\n",
    "    print(\"hello\",name )"
   ]
  },
  {
   "cell_type": "markdown",
   "id": "4348f11f",
   "metadata": {},
   "source": [
    "Create the callback that"
   ]
  },
  {
   "cell_type": "code",
   "execution_count": null,
   "id": "244fb5d9",
   "metadata": {},
   "outputs": [],
   "source": []
  },
  {
   "cell_type": "code",
   "execution_count": null,
   "id": "61a5e3e8",
   "metadata": {},
   "outputs": [],
   "source": [
    "def my_callback(topic: str, message: dict):\n",
    "    exec(message[\"command\"])\n",
    "mb.subscribe_message('microfluidics_test', my_callback)  # subscribe to all topics under test\n",
    "\n",
    "while True:\n",
    "    schedule.run_pending()\n",
    "    time.sleep(.1)"
   ]
  },
  {
   "cell_type": "code",
   "execution_count": null,
   "id": "acfa2626",
   "metadata": {},
   "outputs": [],
   "source": [
    "schedule.get_jobs()"
   ]
  },
  {
   "cell_type": "markdown",
   "id": "42a5638c",
   "metadata": {},
   "source": [
    "# Try Lambda <font color=\"green\">-- WORKS!"
   ]
  },
  {
   "cell_type": "markdown",
   "id": "183a81a5",
   "metadata": {},
   "source": [
    "import stuff"
   ]
  },
  {
   "cell_type": "code",
   "execution_count": null,
   "id": "4509bc95",
   "metadata": {},
   "outputs": [],
   "source": [
    "import braingeneers\n",
    "from braingeneers.iot import messaging\n",
    "import uuid\n",
    "import schedule\n",
    "import time\n",
    "import schedule"
   ]
  },
  {
   "cell_type": "markdown",
   "id": "ad37fb74",
   "metadata": {},
   "source": [
    "suppose there's some function the user wants to run on device"
   ]
  },
  {
   "cell_type": "code",
   "execution_count": null,
   "id": "3f7dd72e",
   "metadata": {},
   "outputs": [],
   "source": [
    "def deviceFunction(name):\n",
    "    print(\"hello\",name )"
   ]
  },
  {
   "cell_type": "markdown",
   "id": "ddad91a4",
   "metadata": {},
   "source": [
    "<font color=\"orange\"> lol, could be--- miot = iot.Start()"
   ]
  },
  {
   "cell_type": "code",
   "execution_count": null,
   "id": "8e7b294d",
   "metadata": {},
   "outputs": [],
   "source": [
    "mb = messaging.MessageBroker(str(uuid.uuid4))                                      # Spin up iot\n",
    "mb.subscribe_message('microfluidics_test', lambda t,m: exec(m[\"command\"]) )        # run any command iot sends\n",
    "\n",
    "running = True                                                                     # when it's time to stop, iot makes running=False\n",
    "while running:\n",
    "    schedule.run_pending()                                                         # we check to see if there's any commands to run on the schedule\n",
    "    time.sleep(.1)                                                                 # we wait a little so save bandwidth (is this needed?)"
   ]
  },
  {
   "cell_type": "markdown",
   "id": "2af1ca65",
   "metadata": {},
   "source": [
    "# Create Device"
   ]
  },
  {
   "cell_type": "markdown",
   "id": "761e0400",
   "metadata": {},
   "source": [
    "import stuff"
   ]
  },
  {
   "cell_type": "code",
   "execution_count": 2,
   "id": "c9883da3",
   "metadata": {},
   "outputs": [],
   "source": [
    "import braingeneers\n",
    "from braingeneers.iot import messaging\n",
    "import uuid\n",
    "import schedule\n",
    "import time\n",
    "import schedule"
   ]
  },
  {
   "cell_type": "markdown",
   "id": "0e455b51",
   "metadata": {},
   "source": [
    "start up iot"
   ]
  },
  {
   "cell_type": "code",
   "execution_count": 3,
   "id": "fdef2437",
   "metadata": {},
   "outputs": [],
   "source": [
    "mb = messaging.MessageBroker(str(uuid.uuid4))"
   ]
  },
  {
   "cell_type": "markdown",
   "id": "46d6664b",
   "metadata": {},
   "source": [
    "create device"
   ]
  },
  {
   "cell_type": "code",
   "execution_count": 4,
   "id": "88e01126",
   "metadata": {},
   "outputs": [
    {
     "ename": "ResourceNotFoundException",
     "evalue": "An error occurred (ResourceNotFoundException) when calling the CreateThing operation: Thing Type 443872533066:microfluidics not found.",
     "output_type": "error",
     "traceback": [
      "\u001b[0;31m---------------------------------------------------------------------------\u001b[0m",
      "\u001b[0;31mResourceNotFoundException\u001b[0m                 Traceback (most recent call last)",
      "\u001b[0;32m<ipython-input-4-f87044a51147>\u001b[0m in \u001b[0;36m<module>\u001b[0;34m\u001b[0m\n\u001b[0;32m----> 1\u001b[0;31m \u001b[0mmb\u001b[0m\u001b[0;34m.\u001b[0m\u001b[0mcreate_device\u001b[0m\u001b[0;34m(\u001b[0m \u001b[0mdevice_name\u001b[0m\u001b[0;34m=\u001b[0m\u001b[0;34m\"microfluidics_test\"\u001b[0m\u001b[0;34m,\u001b[0m \u001b[0mdevice_type\u001b[0m\u001b[0;34m=\u001b[0m\u001b[0;34m\"microfluidics\"\u001b[0m\u001b[0;34m)\u001b[0m\u001b[0;34m\u001b[0m\u001b[0;34m\u001b[0m\u001b[0m\n\u001b[0m",
      "\u001b[0;32m/opt/conda/lib/python3.8/site-packages/braingeneers/iot/messaging.py\u001b[0m in \u001b[0;36mcreate_device\u001b[0;34m(self, device_name, device_type)\u001b[0m\n\u001b[1;32m     99\u001b[0m                 \u001b[0;34m'before publishing or subscribing messages.'\u001b[0m\u001b[0;34m\u001b[0m\u001b[0;34m\u001b[0m\u001b[0m\n\u001b[1;32m    100\u001b[0m             )\n\u001b[0;32m--> 101\u001b[0;31m         \u001b[0mself\u001b[0m\u001b[0;34m.\u001b[0m\u001b[0mboto_iot_client\u001b[0m\u001b[0;34m.\u001b[0m\u001b[0mcreate_thing\u001b[0m\u001b[0;34m(\u001b[0m\u001b[0mthingName\u001b[0m\u001b[0;34m=\u001b[0m\u001b[0mdevice_name\u001b[0m\u001b[0;34m,\u001b[0m \u001b[0mthingTypeName\u001b[0m\u001b[0;34m=\u001b[0m\u001b[0mdevice_type\u001b[0m\u001b[0;34m)\u001b[0m\u001b[0;34m\u001b[0m\u001b[0;34m\u001b[0m\u001b[0m\n\u001b[0m\u001b[1;32m    102\u001b[0m \u001b[0;34m\u001b[0m\u001b[0m\n\u001b[1;32m    103\u001b[0m     \u001b[0;32mdef\u001b[0m \u001b[0mpublish_message\u001b[0m\u001b[0;34m(\u001b[0m\u001b[0mself\u001b[0m\u001b[0;34m,\u001b[0m \u001b[0mtopic\u001b[0m\u001b[0;34m:\u001b[0m \u001b[0mstr\u001b[0m\u001b[0;34m,\u001b[0m \u001b[0mmessage\u001b[0m\u001b[0;34m:\u001b[0m \u001b[0;34m(\u001b[0m\u001b[0mdict\u001b[0m\u001b[0;34m,\u001b[0m \u001b[0mlist\u001b[0m\u001b[0;34m,\u001b[0m \u001b[0mstr\u001b[0m\u001b[0;34m)\u001b[0m\u001b[0;34m)\u001b[0m \u001b[0;34m->\u001b[0m \u001b[0;32mNone\u001b[0m\u001b[0;34m:\u001b[0m\u001b[0;34m\u001b[0m\u001b[0;34m\u001b[0m\u001b[0m\n",
      "\u001b[0;32m/opt/conda/lib/python3.8/site-packages/botocore/client.py\u001b[0m in \u001b[0;36m_api_call\u001b[0;34m(self, *args, **kwargs)\u001b[0m\n\u001b[1;32m    384\u001b[0m                     \"%s() only accepts keyword arguments.\" % py_operation_name)\n\u001b[1;32m    385\u001b[0m             \u001b[0;31m# The \"self\" in this scope is referring to the BaseClient.\u001b[0m\u001b[0;34m\u001b[0m\u001b[0;34m\u001b[0m\u001b[0;34m\u001b[0m\u001b[0m\n\u001b[0;32m--> 386\u001b[0;31m             \u001b[0;32mreturn\u001b[0m \u001b[0mself\u001b[0m\u001b[0;34m.\u001b[0m\u001b[0m_make_api_call\u001b[0m\u001b[0;34m(\u001b[0m\u001b[0moperation_name\u001b[0m\u001b[0;34m,\u001b[0m \u001b[0mkwargs\u001b[0m\u001b[0;34m)\u001b[0m\u001b[0;34m\u001b[0m\u001b[0;34m\u001b[0m\u001b[0m\n\u001b[0m\u001b[1;32m    387\u001b[0m \u001b[0;34m\u001b[0m\u001b[0m\n\u001b[1;32m    388\u001b[0m         \u001b[0m_api_call\u001b[0m\u001b[0;34m.\u001b[0m\u001b[0m__name__\u001b[0m \u001b[0;34m=\u001b[0m \u001b[0mstr\u001b[0m\u001b[0;34m(\u001b[0m\u001b[0mpy_operation_name\u001b[0m\u001b[0;34m)\u001b[0m\u001b[0;34m\u001b[0m\u001b[0;34m\u001b[0m\u001b[0m\n",
      "\u001b[0;32m/opt/conda/lib/python3.8/site-packages/botocore/client.py\u001b[0m in \u001b[0;36m_make_api_call\u001b[0;34m(self, operation_name, api_params)\u001b[0m\n\u001b[1;32m    703\u001b[0m             \u001b[0merror_code\u001b[0m \u001b[0;34m=\u001b[0m \u001b[0mparsed_response\u001b[0m\u001b[0;34m.\u001b[0m\u001b[0mget\u001b[0m\u001b[0;34m(\u001b[0m\u001b[0;34m\"Error\"\u001b[0m\u001b[0;34m,\u001b[0m \u001b[0;34m{\u001b[0m\u001b[0;34m}\u001b[0m\u001b[0;34m)\u001b[0m\u001b[0;34m.\u001b[0m\u001b[0mget\u001b[0m\u001b[0;34m(\u001b[0m\u001b[0;34m\"Code\"\u001b[0m\u001b[0;34m)\u001b[0m\u001b[0;34m\u001b[0m\u001b[0;34m\u001b[0m\u001b[0m\n\u001b[1;32m    704\u001b[0m             \u001b[0merror_class\u001b[0m \u001b[0;34m=\u001b[0m \u001b[0mself\u001b[0m\u001b[0;34m.\u001b[0m\u001b[0mexceptions\u001b[0m\u001b[0;34m.\u001b[0m\u001b[0mfrom_code\u001b[0m\u001b[0;34m(\u001b[0m\u001b[0merror_code\u001b[0m\u001b[0;34m)\u001b[0m\u001b[0;34m\u001b[0m\u001b[0;34m\u001b[0m\u001b[0m\n\u001b[0;32m--> 705\u001b[0;31m             \u001b[0;32mraise\u001b[0m \u001b[0merror_class\u001b[0m\u001b[0;34m(\u001b[0m\u001b[0mparsed_response\u001b[0m\u001b[0;34m,\u001b[0m \u001b[0moperation_name\u001b[0m\u001b[0;34m)\u001b[0m\u001b[0;34m\u001b[0m\u001b[0;34m\u001b[0m\u001b[0m\n\u001b[0m\u001b[1;32m    706\u001b[0m         \u001b[0;32melse\u001b[0m\u001b[0;34m:\u001b[0m\u001b[0;34m\u001b[0m\u001b[0;34m\u001b[0m\u001b[0m\n\u001b[1;32m    707\u001b[0m             \u001b[0;32mreturn\u001b[0m \u001b[0mparsed_response\u001b[0m\u001b[0;34m\u001b[0m\u001b[0;34m\u001b[0m\u001b[0m\n",
      "\u001b[0;31mResourceNotFoundException\u001b[0m: An error occurred (ResourceNotFoundException) when calling the CreateThing operation: Thing Type 443872533066:microfluidics not found."
     ]
    }
   ],
   "source": [
    "mb.create_device( device_name=\"microfluidics_test\", device_type=\"microfluidics\")"
   ]
  },
  {
   "cell_type": "code",
   "execution_count": 6,
   "id": "2af77166",
   "metadata": {},
   "outputs": [
    {
     "data": {
      "text/plain": [
       "[]"
      ]
     },
     "execution_count": 6,
     "metadata": {},
     "output_type": "execute_result"
    }
   ],
   "source": [
    "mb.list_devices()"
   ]
  },
  {
   "cell_type": "code",
   "execution_count": null,
   "id": "0e269825",
   "metadata": {},
   "outputs": [],
   "source": []
  },
  {
   "cell_type": "code",
   "execution_count": null,
   "id": "b3cba039",
   "metadata": {},
   "outputs": [],
   "source": []
  },
  {
   "cell_type": "code",
   "execution_count": null,
   "id": "fbd8aad0",
   "metadata": {},
   "outputs": [],
   "source": []
  },
  {
   "cell_type": "markdown",
   "id": "ca27af98",
   "metadata": {
    "heading_collapsed": true
   },
   "source": [
    "# Old Stuff"
   ]
  },
  {
   "cell_type": "code",
   "execution_count": null,
   "id": "f0b18075",
   "metadata": {
    "hidden": true
   },
   "outputs": [],
   "source": [
    "schedule.get_jobs()"
   ]
  },
  {
   "cell_type": "code",
   "execution_count": null,
   "id": "0756ee5b",
   "metadata": {
    "hidden": true
   },
   "outputs": [],
   "source": []
  },
  {
   "cell_type": "code",
   "execution_count": null,
   "id": "8211f976",
   "metadata": {
    "hidden": true
   },
   "outputs": [],
   "source": [
    "while True:\n",
    "    schedule.run_pending()\n",
    "    time.sleep(.1)"
   ]
  },
  {
   "cell_type": "code",
   "execution_count": null,
   "id": "abb8d394",
   "metadata": {
    "hidden": true
   },
   "outputs": [],
   "source": [
    "schedule.get_jobs()"
   ]
  },
  {
   "cell_type": "code",
   "execution_count": null,
   "id": "a604815b",
   "metadata": {
    "hidden": true
   },
   "outputs": [],
   "source": [
    "2 + 2"
   ]
  },
  {
   "cell_type": "code",
   "execution_count": null,
   "id": "ea0dd381",
   "metadata": {
    "hidden": true
   },
   "outputs": [],
   "source": []
  },
  {
   "cell_type": "code",
   "execution_count": null,
   "id": "2f37567a",
   "metadata": {
    "hidden": true
   },
   "outputs": [],
   "source": [
    "schedule.get_jobs()"
   ]
  },
  {
   "cell_type": "code",
   "execution_count": null,
   "id": "32f8079d",
   "metadata": {
    "hidden": true
   },
   "outputs": [],
   "source": []
  },
  {
   "cell_type": "code",
   "execution_count": null,
   "id": "275f880d",
   "metadata": {
    "hidden": true
   },
   "outputs": [],
   "source": [
    "#client = MqttClient('test')  # device named test\n",
    "mb.subscribe_message('microfluidics_test', my_callback)  # subscribe to all topics under test\n",
    "\n",
    "while True:\n",
    "    schedule.run_pending()\n",
    "    time.sleep(.1)"
   ]
  },
  {
   "cell_type": "code",
   "execution_count": null,
   "id": "0b5f1aee",
   "metadata": {
    "hidden": true
   },
   "outputs": [],
   "source": []
  },
  {
   "cell_type": "code",
   "execution_count": null,
   "id": "93fd5710",
   "metadata": {
    "hidden": true
   },
   "outputs": [],
   "source": []
  },
  {
   "cell_type": "code",
   "execution_count": null,
   "id": "05ded224",
   "metadata": {
    "hidden": true
   },
   "outputs": [],
   "source": []
  },
  {
   "cell_type": "code",
   "execution_count": null,
   "id": "8e15ce9f",
   "metadata": {
    "hidden": true
   },
   "outputs": [],
   "source": [
    "schedule.get_jobs()"
   ]
  },
  {
   "cell_type": "markdown",
   "id": "cd9e4ecf",
   "metadata": {
    "hidden": true
   },
   "source": [
    "standard iot boilerplate code"
   ]
  },
  {
   "cell_type": "code",
   "execution_count": null,
   "id": "ac947759",
   "metadata": {
    "hidden": true
   },
   "outputs": [],
   "source": [
    "mb = messaging.MessageBroker(str(uuid.uuid4))\n",
    "q = messaging.CallableQueue()"
   ]
  },
  {
   "cell_type": "code",
   "execution_count": null,
   "id": "e0b50648",
   "metadata": {
    "hidden": true
   },
   "outputs": [],
   "source": []
  },
  {
   "cell_type": "code",
   "execution_count": null,
   "id": "2d3104f1",
   "metadata": {
    "hidden": true
   },
   "outputs": [],
   "source": [
    "#mb.create_device(\"microfluidics_test\",\"microfluidics\") \n",
    "mb.subscribe_message( topic=\"microfluidics_test\", callback=q )"
   ]
  },
  {
   "cell_type": "markdown",
   "id": "dccaf260",
   "metadata": {
    "heading_collapsed": true
   },
   "source": [
    "# Main"
   ]
  },
  {
   "cell_type": "markdown",
   "id": "3844aaf9",
   "metadata": {
    "hidden": true
   },
   "source": [
    "Make sure schedule is empty"
   ]
  },
  {
   "cell_type": "code",
   "execution_count": null,
   "id": "af935104",
   "metadata": {
    "hidden": true
   },
   "outputs": [],
   "source": [
    "schedule.clear()"
   ]
  },
  {
   "cell_type": "code",
   "execution_count": null,
   "id": "fa512012",
   "metadata": {
    "hidden": true
   },
   "outputs": [],
   "source": [
    "def hello(name):\n",
    "    print(\"hello\",name )\n"
   ]
  },
  {
   "cell_type": "code",
   "execution_count": null,
   "id": "f1cfbfcb",
   "metadata": {
    "hidden": true
   },
   "outputs": [],
   "source": []
  },
  {
   "cell_type": "code",
   "execution_count": null,
   "id": "44411ef1",
   "metadata": {
    "hidden": true
   },
   "outputs": [],
   "source": [
    "mb.subscribe_message(\"microfluidics_test\")"
   ]
  },
  {
   "cell_type": "code",
   "execution_count": null,
   "id": "f454384a",
   "metadata": {
    "hidden": true
   },
   "outputs": [],
   "source": [
    "    \n",
    "while True:\n",
    "    #topic_name, result_message = q.get() #storing the message and the directory name to variables\n",
    "    \n",
    "    print(topic_name, result_message)\n",
    "    #time.sleep(1)"
   ]
  },
  {
   "cell_type": "markdown",
   "id": "372ea1d5",
   "metadata": {},
   "source": [
    "# Check it out"
   ]
  },
  {
   "cell_type": "code",
   "execution_count": null,
   "id": "b4840294",
   "metadata": {},
   "outputs": [],
   "source": [
    "def my_callback(topic: str, message: dict):\n",
    "    print(f'Received message {message} on topic {topic}')  # Print message\n",
    "#client = MqttClient('test')  # device named test\n",
    "mb.subscribe('microfluidics_test', my_callback)  # subscribe to all topics under test"
   ]
  },
  {
   "cell_type": "code",
   "execution_count": null,
   "id": "5237a516",
   "metadata": {},
   "outputs": [],
   "source": []
  },
  {
   "cell_type": "code",
   "execution_count": null,
   "id": "da3a4038",
   "metadata": {},
   "outputs": [],
   "source": []
  },
  {
   "cell_type": "code",
   "execution_count": null,
   "id": "ffbe4d6e",
   "metadata": {},
   "outputs": [],
   "source": []
  }
 ],
 "metadata": {
  "hide_input": false,
  "kernelspec": {
   "display_name": "Python 3",
   "language": "python",
   "name": "python3"
  },
  "language_info": {
   "codemirror_mode": {
    "name": "ipython",
    "version": 3
   },
   "file_extension": ".py",
   "mimetype": "text/x-python",
   "name": "python",
   "nbconvert_exporter": "python",
   "pygments_lexer": "ipython3",
   "version": "3.8.8"
  },
  "toc": {
   "base_numbering": 1,
   "nav_menu": {},
   "number_sections": true,
   "sideBar": true,
   "skip_h1_title": false,
   "title_cell": "Table of Contents",
   "title_sidebar": "Contents",
   "toc_cell": false,
   "toc_position": {},
   "toc_section_display": true,
   "toc_window_display": false
  },
  "widgets": {
   "application/vnd.jupyter.widget-state+json": {
    "state": {},
    "version_major": 2,
    "version_minor": 0
   }
  }
 },
 "nbformat": 4,
 "nbformat_minor": 5
}
