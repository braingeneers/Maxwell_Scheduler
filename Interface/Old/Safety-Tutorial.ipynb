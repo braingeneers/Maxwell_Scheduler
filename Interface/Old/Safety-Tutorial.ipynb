{
 "cells": [
  {
   "cell_type": "markdown",
   "id": "bc832bf9",
   "metadata": {},
   "source": [
    "<font size=7>Device Integration Tutorial"
   ]
  },
  {
   "cell_type": "markdown",
   "id": "3e9583ad",
   "metadata": {},
   "source": [
    "In this notebook I'm testing out ideas for scheduling events. The purpose of this is to eventually build a scheduler for controlling integrated lab devices. This is a useful [schedule reference](https://schedule.readthedocs.io/en/stable/examples.html)"
   ]
  },
  {
   "cell_type": "markdown",
   "id": "2a65b526",
   "metadata": {},
   "source": [
    "load in iot functions"
   ]
  },
  {
   "cell_type": "code",
   "execution_count": 1,
   "id": "762ef233",
   "metadata": {},
   "outputs": [],
   "source": [
    "%run ../\"IoT Functions.ipynb\" #  kinda ipynb equivalent of import"
   ]
  },
  {
   "cell_type": "code",
   "execution_count": null,
   "id": "90d24246",
   "metadata": {},
   "outputs": [],
   "source": [
    "#from braingeneers.iot import *"
   ]
  },
  {
   "cell_type": "markdown",
   "id": "5e8567ac",
   "metadata": {},
   "source": [
    "### Advanced Commands"
   ]
  },
  {
   "cell_type": "code",
   "execution_count": null,
   "id": "1d0b012f",
   "metadata": {},
   "outputs": [],
   "source": []
  },
  {
   "cell_type": "code",
   "execution_count": null,
   "id": "616f91be",
   "metadata": {},
   "outputs": [],
   "source": []
  },
  {
   "cell_type": "markdown",
   "id": "6488bee5",
   "metadata": {},
   "source": [
    "Cancelling a scheduled job"
   ]
  },
  {
   "cell_type": "code",
   "execution_count": null,
   "id": "781da74a",
   "metadata": {},
   "outputs": [],
   "source": [
    "send(\"flow_1\", \"schedule.cancel_job( schedule.get_jobs()[3] )\" )"
   ]
  },
  {
   "cell_type": "code",
   "execution_count": null,
   "id": "51826655",
   "metadata": {},
   "outputs": [],
   "source": [
    "send(\"flow_1\", \"\"\"schedule.every().day.at(\"04:30\",\"US/Pacific\").do(sayHello, name=\"good morning\")\"\"\")"
   ]
  },
  {
   "cell_type": "code",
   "execution_count": null,
   "id": "c65bae2a",
   "metadata": {},
   "outputs": [],
   "source": [
    "send(\"flow_1\", \"\"\"schedule.every().day.at(\"04:40\",\"US/Pacific\").do(sayHello, name='good morning')\"\"\" )"
   ]
  },
  {
   "cell_type": "code",
   "execution_count": null,
   "id": "fe87c1ee",
   "metadata": {},
   "outputs": [],
   "source": [
    "send(\"flow_1\", \"\"\"schedule.every().day.at(\"15:30\",\"US/Pacific\").do(sayHello, name=\"afternoon morning\")\"\"\")"
   ]
  },
  {
   "cell_type": "markdown",
   "id": "f0fc85ca",
   "metadata": {},
   "source": [
    "# IoT Functions"
   ]
  },
  {
   "cell_type": "markdown",
   "id": "043d8de7",
   "metadata": {},
   "source": [
    "## Send Basic Commands"
   ]
  },
  {
   "cell_type": "markdown",
   "id": "99f142c6",
   "metadata": {},
   "source": [
    "send command to device"
   ]
  },
  {
   "cell_type": "code",
   "execution_count": 2,
   "id": "da641ee5",
   "metadata": {},
   "outputs": [],
   "source": [
    "send(\"flow_1\", command=\"sayHello('ROGUE')\")"
   ]
  },
  {
   "cell_type": "markdown",
   "id": "e94e573b",
   "metadata": {},
   "source": [
    "send multiple commands to device"
   ]
  },
  {
   "cell_type": "code",
   "execution_count": null,
   "id": "1180aa40",
   "metadata": {},
   "outputs": [],
   "source": [
    "send(\"flow_1\", \"my_count.add_one(); print(my_count.count)\")"
   ]
  },
  {
   "cell_type": "markdown",
   "id": "96f59f56",
   "metadata": {},
   "source": [
    "use quotation marks"
   ]
  },
  {
   "cell_type": "code",
   "execution_count": null,
   "id": "a0a24dc9",
   "metadata": {},
   "outputs": [],
   "source": [
    "send(\"flow_1\", \"\"\"sayHello(\"ROGUE\")\"\"\")"
   ]
  },
  {
   "cell_type": "markdown",
   "id": "f1add7bd",
   "metadata": {},
   "source": [
    "what happens when you send bad command?"
   ]
  },
  {
   "cell_type": "code",
   "execution_count": null,
   "id": "691d7bed",
   "metadata": {},
   "outputs": [],
   "source": [
    "send(\"flow_1\", \"asdoifj oaidf oijaroi jotihjp t\")"
   ]
  },
  {
   "cell_type": "markdown",
   "id": "efc99872",
   "metadata": {},
   "source": [
    "## Use Schedule"
   ]
  },
  {
   "cell_type": "markdown",
   "id": "a24e440c",
   "metadata": {},
   "source": [
    "[Schedule Examples](https://schedule.readthedocs.io/en/stable/examples.html)"
   ]
  },
  {
   "cell_type": "markdown",
   "id": "c3514cb7",
   "metadata": {},
   "source": [
    "send command that is in schedule"
   ]
  },
  {
   "cell_type": "code",
   "execution_count": null,
   "id": "ea39efb0",
   "metadata": {},
   "outputs": [],
   "source": [
    "send(\"flow_1\", \"schedule.every(3).seconds.do( sayHello, name='Alice' )\" )"
   ]
  },
  {
   "cell_type": "markdown",
   "id": "a135dedd",
   "metadata": {},
   "source": [
    "send another scheduled command"
   ]
  },
  {
   "cell_type": "code",
   "execution_count": null,
   "id": "e9d4a561",
   "metadata": {},
   "outputs": [],
   "source": [
    "send(\"flow_1\", \"schedule.every(5).minutes.do( sayHello, name='Bob' )\" )"
   ]
  },
  {
   "cell_type": "markdown",
   "id": "abcdd8f9",
   "metadata": {},
   "source": [
    "delete something from schedule"
   ]
  },
  {
   "cell_type": "code",
   "execution_count": null,
   "id": "25b8ceb2",
   "metadata": {},
   "outputs": [],
   "source": [
    "send(\"flow_1\", \"schedule.cancel_job( schedule.get_jobs()[3] )\" )"
   ]
  },
  {
   "cell_type": "markdown",
   "id": "d6a33fd7",
   "metadata": {},
   "source": [
    "<font color=\"red\">show more complex examples"
   ]
  },
  {
   "cell_type": "markdown",
   "id": "c6fe7de5",
   "metadata": {},
   "source": [
    "do a command once a day at a certain time"
   ]
  },
  {
   "cell_type": "code",
   "execution_count": null,
   "id": "82491f0e",
   "metadata": {},
   "outputs": [],
   "source": [
    "send(\"flow_1\", \"\"\"schedule.every().day.at(\"23:15\",\"US/Pacific\").do(sayHello, name='daily')\"\"\" )"
   ]
  },
  {
   "cell_type": "markdown",
   "id": "54bb233c",
   "metadata": {},
   "source": [
    "do something every 2 hours on the hour"
   ]
  },
  {
   "cell_type": "code",
   "execution_count": null,
   "id": "e47c1204",
   "metadata": {},
   "outputs": [],
   "source": [
    "send(\"flow_1\", \"\"\"schedule.every(3).hours.at(\":00\").do(sayHello, name='3 hourly')\"\"\" )"
   ]
  },
  {
   "cell_type": "markdown",
   "id": "b8bc2795",
   "metadata": {},
   "source": [
    "do something every hour on the half hour"
   ]
  },
  {
   "cell_type": "code",
   "execution_count": null,
   "id": "05eeef19",
   "metadata": {},
   "outputs": [],
   "source": [
    "send(\"flow_1\", \"\"\"schedule.every().hour.at(\":30\").do(sayHello, name='hourly')\"\"\" )"
   ]
  },
  {
   "cell_type": "markdown",
   "id": "370af1d1",
   "metadata": {},
   "source": [
    "do something on a specific weekday"
   ]
  },
  {
   "cell_type": "code",
   "execution_count": null,
   "id": "585d94af",
   "metadata": {},
   "outputs": [],
   "source": [
    "send(\"flow_1\", \"\"\"schedule.every().monday.at('16:00','US/Pacific').do(sayHello, name='monday')\"\"\" )"
   ]
  },
  {
   "cell_type": "markdown",
   "id": "a232e5b4",
   "metadata": {},
   "source": [
    "do something until a certain time"
   ]
  },
  {
   "cell_type": "code",
   "execution_count": null,
   "id": "b322f6b6",
   "metadata": {},
   "outputs": [],
   "source": [
    "send(\"flow_1\", \"\"\"schedule.every().minute.until('6:30').do(sayHello, name='until test')\"\"\" )"
   ]
  },
  {
   "cell_type": "markdown",
   "id": "ea9db9f2",
   "metadata": {
    "heading_collapsed": true
   },
   "source": [
    "## Get device information"
   ]
  },
  {
   "cell_type": "markdown",
   "id": "f487a281",
   "metadata": {
    "hidden": true
   },
   "source": [
    "get schedule"
   ]
  },
  {
   "cell_type": "code",
   "execution_count": null,
   "id": "f332a044",
   "metadata": {
    "hidden": true
   },
   "outputs": [],
   "source": [
    "get_schedule(\"flow_1\")"
   ]
  },
  {
   "cell_type": "markdown",
   "id": "9654bd4f",
   "metadata": {
    "hidden": true
   },
   "source": [
    "get status of iot device"
   ]
  },
  {
   "cell_type": "code",
   "execution_count": null,
   "id": "4215ee9b",
   "metadata": {
    "hidden": true
   },
   "outputs": [],
   "source": [
    "get_status(\"flow_1\")"
   ]
  },
  {
   "cell_type": "markdown",
   "id": "1e23b484",
   "metadata": {
    "hidden": true
   },
   "source": [
    "get all iot info"
   ]
  },
  {
   "cell_type": "code",
   "execution_count": null,
   "id": "86e6b86a",
   "metadata": {
    "hidden": true
   },
   "outputs": [],
   "source": [
    "get_info(\"flow_1\")"
   ]
  },
  {
   "cell_type": "markdown",
   "id": "303c078d",
   "metadata": {},
   "source": [
    "## Changing Device Status"
   ]
  },
  {
   "cell_type": "markdown",
   "id": "fd8d36a6",
   "metadata": {},
   "source": [
    "pause device"
   ]
  },
  {
   "cell_type": "code",
   "execution_count": null,
   "id": "c2ef2534",
   "metadata": {},
   "outputs": [],
   "source": [
    "pause(\"flow_1\")"
   ]
  },
  {
   "cell_type": "markdown",
   "id": "66b8eb00",
   "metadata": {},
   "source": [
    "resume device"
   ]
  },
  {
   "cell_type": "code",
   "execution_count": null,
   "id": "9f6e880b",
   "metadata": {},
   "outputs": [],
   "source": [
    "run(\"flow_1\")"
   ]
  },
  {
   "cell_type": "markdown",
   "id": "c298c7c9",
   "metadata": {},
   "source": [
    "shutdown device"
   ]
  },
  {
   "cell_type": "code",
   "execution_count": null,
   "id": "c9fee4fb",
   "metadata": {},
   "outputs": [],
   "source": [
    "shutdown(\"flow_1\")"
   ]
  },
  {
   "cell_type": "markdown",
   "id": "afadb582",
   "metadata": {
    "heading_collapsed": true
   },
   "source": [
    "## draw schedule"
   ]
  },
  {
   "cell_type": "markdown",
   "id": "28932de5",
   "metadata": {
    "hidden": true
   },
   "source": [
    "Draw the schedule for a specified device"
   ]
  },
  {
   "cell_type": "code",
   "execution_count": null,
   "id": "fa77f862",
   "metadata": {
    "hidden": true
   },
   "outputs": [],
   "source": [
    "draw_schedule( \"flow_1\" )"
   ]
  },
  {
   "cell_type": "markdown",
   "id": "3b06d389",
   "metadata": {
    "heading_collapsed": true
   },
   "source": [
    "# Testing Commands"
   ]
  },
  {
   "cell_type": "markdown",
   "id": "6562847e",
   "metadata": {
    "hidden": true
   },
   "source": [
    "These commands are used for testing"
   ]
  },
  {
   "cell_type": "code",
   "execution_count": null,
   "id": "a34b9877",
   "metadata": {
    "hidden": true
   },
   "outputs": [],
   "source": [
    "from braingeneers.iot import messaging\n",
    "import uuid"
   ]
  },
  {
   "cell_type": "markdown",
   "id": "0c0d46ef",
   "metadata": {
    "hidden": true
   },
   "source": [
    "start/stop message broker"
   ]
  },
  {
   "cell_type": "code",
   "execution_count": null,
   "id": "b35d869c",
   "metadata": {
    "hidden": true
   },
   "outputs": [],
   "source": [
    "mb = messaging.MessageBroker(str(uuid.uuid4))                                  # spin up iot"
   ]
  },
  {
   "cell_type": "code",
   "execution_count": null,
   "id": "9db9cf15",
   "metadata": {
    "hidden": true
   },
   "outputs": [],
   "source": [
    "mb.shutdown()"
   ]
  },
  {
   "cell_type": "markdown",
   "id": "944ebc04",
   "metadata": {
    "hidden": true
   },
   "source": [
    "get device state"
   ]
  },
  {
   "cell_type": "code",
   "execution_count": null,
   "id": "53297ea5",
   "metadata": {
    "hidden": true
   },
   "outputs": [],
   "source": [
    "mb.get_device_state(\"flow_1\") "
   ]
  },
  {
   "cell_type": "markdown",
   "id": "5c968b00",
   "metadata": {
    "hidden": true
   },
   "source": [
    "get schedule"
   ]
  },
  {
   "cell_type": "code",
   "execution_count": null,
   "id": "ede0d590",
   "metadata": {
    "hidden": true
   },
   "outputs": [],
   "source": [
    "get_schedule(\"flow_1\")"
   ]
  },
  {
   "cell_type": "markdown",
   "id": "de5ae6e4",
   "metadata": {
    "hidden": true
   },
   "source": [
    "<font color=\"red\">delete device... only delete devices on AWS website!"
   ]
  },
  {
   "cell_type": "markdown",
   "id": "4c29e423",
   "metadata": {},
   "source": [
    "# <font color=\"brown\">Debugging"
   ]
  },
  {
   "cell_type": "markdown",
   "id": "030f0e4c",
   "metadata": {},
   "source": [
    "get all devices with experiment name"
   ]
  },
  {
   "cell_type": "code",
   "execution_count": null,
   "id": "aa46279f",
   "metadata": {},
   "outputs": [],
   "source": [
    "#mb.list_devices(experiment=\"test_experiment\")\n",
    "\n",
    "mb.list_devices(experiment=\"test_experiment\") "
   ]
  },
  {
   "cell_type": "markdown",
   "id": "e57801c4",
   "metadata": {},
   "source": [
    "change shadow"
   ]
  },
  {
   "cell_type": "code",
   "execution_count": 4,
   "id": "a7988cfe",
   "metadata": {},
   "outputs": [],
   "source": [
    "mb = messaging.MessageBroker(str(uuid.uuid4))   \n",
    "mb.update_device_state( \"flow_1\", {\"status\":\"shutdown\"} ) \n",
    "mb.shutdown()"
   ]
  },
  {
   "cell_type": "markdown",
   "id": "fb3843fa",
   "metadata": {
    "heading_collapsed": true
   },
   "source": [
    "## Test logging"
   ]
  },
  {
   "cell_type": "code",
   "execution_count": null,
   "id": "4255999d",
   "metadata": {
    "hidden": true
   },
   "outputs": [],
   "source": [
    "import schedule\n",
    "import logging\n",
    "\n",
    "logging.basicConfig()\n",
    "schedule_logger = logging.getLogger('schedule')\n",
    "schedule_logger.setLevel(level=logging.DEBUG)\n",
    "\n",
    "def job():\n",
    "    print(\"Hello, Logs\")\n",
    "\n",
    "schedule.every().second.do(job)\n",
    "\n",
    "while True:\n",
    "    schedule.run_pending()\n",
    "    #schedule.clear\n"
   ]
  },
  {
   "cell_type": "code",
   "execution_count": null,
   "id": "0d42ba9e",
   "metadata": {
    "hidden": true
   },
   "outputs": [],
   "source": []
  },
  {
   "cell_type": "code",
   "execution_count": null,
   "id": "be1020a2",
   "metadata": {
    "hidden": true
   },
   "outputs": [],
   "source": [
    "schedule_logger"
   ]
  },
  {
   "cell_type": "code",
   "execution_count": null,
   "id": "4f3b3e00",
   "metadata": {
    "hidden": true
   },
   "outputs": [],
   "source": []
  },
  {
   "cell_type": "code",
   "execution_count": null,
   "id": "b4642721",
   "metadata": {
    "hidden": true
   },
   "outputs": [],
   "source": []
  },
  {
   "cell_type": "code",
   "execution_count": null,
   "id": "90911c36",
   "metadata": {
    "hidden": true
   },
   "outputs": [],
   "source": []
  },
  {
   "cell_type": "code",
   "execution_count": null,
   "id": "4b30b42c",
   "metadata": {
    "hidden": true
   },
   "outputs": [],
   "source": []
  },
  {
   "cell_type": "code",
   "execution_count": null,
   "id": "8e045c6a",
   "metadata": {
    "hidden": true
   },
   "outputs": [],
   "source": []
  }
 ],
 "metadata": {
  "hide_input": false,
  "kernelspec": {
   "display_name": "Python 3",
   "language": "python",
   "name": "python3"
  },
  "language_info": {
   "codemirror_mode": {
    "name": "ipython",
    "version": 3
   },
   "file_extension": ".py",
   "mimetype": "text/x-python",
   "name": "python",
   "nbconvert_exporter": "python",
   "pygments_lexer": "ipython3",
   "version": "3.8.8"
  },
  "toc": {
   "base_numbering": 1,
   "nav_menu": {},
   "number_sections": true,
   "sideBar": true,
   "skip_h1_title": false,
   "title_cell": "Table of Contents",
   "title_sidebar": "Contents",
   "toc_cell": false,
   "toc_position": {},
   "toc_section_display": true,
   "toc_window_display": false
  }
 },
 "nbformat": 4,
 "nbformat_minor": 5
}
