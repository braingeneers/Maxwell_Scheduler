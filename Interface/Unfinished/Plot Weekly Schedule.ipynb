{
 "cells": [
  {
   "cell_type": "markdown",
   "id": "43853ff1",
   "metadata": {},
   "source": [
    "<font size=7>Plot Weekly Schedule"
   ]
  },
  {
   "cell_type": "markdown",
   "id": "73e1825e",
   "metadata": {},
   "source": [
    "In this notebook we attempt to build a weekly calendar of when different IoT devices are running. In this approach we get the times of events from the [scheduler](https://schedule.readthedocs.io/en/stable/) we are using to control devices. These events are then plotted by addapting the weekly calendar code [written here](https://github.com/utkuufuk/weekplot/blob/master/weekplot.py)."
   ]
  },
  {
   "cell_type": "markdown",
   "id": "2457bf58",
   "metadata": {},
   "source": [
    "**References**\n",
    "* [scheduler documentation](https://schedule.readthedocs.io/en/stable/)\n",
    "* [weekply plot github](https://github.com/utkuufuk/weekplot)"
   ]
  },
  {
   "cell_type": "markdown",
   "id": "ade46f90",
   "metadata": {},
   "source": [
    "<font color=\"red\">\n",
    "    \n",
    "**To Do**\n",
    "* Get schedule from multiple iot devices from same experiment\n",
    "* get more color names in `colors` list"
   ]
  },
  {
   "cell_type": "markdown",
   "id": "da62af64",
   "metadata": {},
   "source": [
    "# <font color=\"gray\">Set up notebook"
   ]
  },
  {
   "cell_type": "code",
   "execution_count": 3,
   "id": "cb318100",
   "metadata": {},
   "outputs": [],
   "source": [
    "%run \"IoT Functions.ipynb\""
   ]
  },
  {
   "cell_type": "markdown",
   "id": "693c45e2",
   "metadata": {},
   "source": [
    "We must install the latest version of schedule from github"
   ]
  },
  {
   "cell_type": "code",
   "execution_count": null,
   "id": "cbc52512",
   "metadata": {},
   "outputs": [],
   "source": [
    "#!python -m pip install --force-reinstall 'git+https://github.com/dbader/schedule.git'"
   ]
  },
  {
   "cell_type": "markdown",
   "id": "d80beba7",
   "metadata": {},
   "source": [
    "import the packages that were used to create the [weekly plot](https://github.com/utkuufuk/weekplot/blob/master/weekplot.py)"
   ]
  },
  {
   "cell_type": "code",
   "execution_count": null,
   "id": "a26424ca",
   "metadata": {},
   "outputs": [],
   "source": [
    "#!pip install namedlist\n",
    "# maybe not needed #!pip install --upgrade matplotlib"
   ]
  },
  {
   "cell_type": "code",
   "execution_count": 139,
   "id": "3e61274f",
   "metadata": {},
   "outputs": [],
   "source": [
    "#%run \"IoT Schedule Functions.ipynb\""
   ]
  },
  {
   "cell_type": "raw",
   "id": "11b1d46e",
   "metadata": {},
   "source": [
    "import matplotlib.pyplot as plt"
   ]
  },
  {
   "cell_type": "markdown",
   "id": "658afbce",
   "metadata": {},
   "source": [
    "import scheduling package and datetime package"
   ]
  },
  {
   "cell_type": "raw",
   "id": "874eb521",
   "metadata": {},
   "source": [
    "from braingeneers.iot import  *\n",
    "import builtins"
   ]
  },
  {
   "cell_type": "raw",
   "id": "d69452ca",
   "metadata": {},
   "source": [
    "import schedule\n",
    "import datetime\n",
    "from datetime import date, datetime, timedelta\n",
    "from dateutil import tz"
   ]
  },
  {
   "cell_type": "markdown",
   "id": "e94aa53a",
   "metadata": {},
   "source": [
    "import plotly to make schedule look fancy"
   ]
  },
  {
   "cell_type": "code",
   "execution_count": null,
   "id": "63ad472f",
   "metadata": {},
   "outputs": [],
   "source": [
    "#!pip install chart_studio"
   ]
  },
  {
   "cell_type": "code",
   "execution_count": null,
   "id": "81c419ce",
   "metadata": {},
   "outputs": [],
   "source": [
    "#import chart_studio.plotly as py"
   ]
  },
  {
   "cell_type": "markdown",
   "id": "a44e2bac",
   "metadata": {
    "heading_collapsed": true
   },
   "source": [
    "## How to use time zones"
   ]
  },
  {
   "cell_type": "raw",
   "id": "1956b253",
   "metadata": {
    "hidden": true
   },
   "source": [
    "def sayHello(name):\n",
    "    print(\"Hello \",name)"
   ]
  },
  {
   "cell_type": "raw",
   "id": "dae8b7c4",
   "metadata": {
    "hidden": true
   },
   "source": [
    "import pytz\n",
    "#pytz.all_timezones"
   ]
  },
  {
   "cell_type": "raw",
   "id": "9fefa478",
   "metadata": {
    "hidden": true
   },
   "source": [
    "import schedule"
   ]
  },
  {
   "cell_type": "raw",
   "id": "df3c220d",
   "metadata": {
    "hidden": true
   },
   "source": [
    "schedule.clear()"
   ]
  },
  {
   "cell_type": "raw",
   "id": "14bfcb5f",
   "metadata": {
    "hidden": true
   },
   "source": [
    "schedule.every().day.at(\"14:00\",'US/Pacific').do(sayHello, name='Time 2') "
   ]
  },
  {
   "cell_type": "raw",
   "id": "0cef4dc0",
   "metadata": {
    "hidden": true
   },
   "source": [
    "schedule.every().second.do(sayHello, name='Alice') "
   ]
  },
  {
   "cell_type": "raw",
   "id": "cb8c9725",
   "metadata": {
    "hidden": true
   },
   "source": [
    "schedule.get_jobs()"
   ]
  },
  {
   "cell_type": "code",
   "execution_count": null,
   "id": "e869fdf9",
   "metadata": {
    "hidden": true
   },
   "outputs": [],
   "source": []
  },
  {
   "cell_type": "raw",
   "id": "f886b845",
   "metadata": {
    "hidden": true
   },
   "source": [
    "today = datetime.combine(date.today(), datetime.min.time())"
   ]
  },
  {
   "cell_type": "raw",
   "id": "20a6867e",
   "metadata": {
    "hidden": true
   },
   "source": [
    "schedule.get_jobs() #[0].__str__()"
   ]
  },
  {
   "cell_type": "raw",
   "id": "d4f7ffd7",
   "metadata": {
    "hidden": true
   },
   "source": [
    "datetime.now()"
   ]
  },
  {
   "cell_type": "markdown",
   "id": "88f087c6",
   "metadata": {
    "heading_collapsed": true
   },
   "source": [
    "## Update public iot state's schedule"
   ]
  },
  {
   "cell_type": "markdown",
   "id": "25cd98dc",
   "metadata": {
    "hidden": true
   },
   "source": [
    "format scheduel information and then upload it."
   ]
  },
  {
   "cell_type": "raw",
   "id": "31c183b9",
   "metadata": {
    "hidden": true
   },
   "source": [
    "def _updateIot(device_name):\n",
    "    \"\"\"Updates the IoT device's publicly visible state according to the local schedule/status\"\"\"\n",
    "    \n",
    "    jobs, jobs_str = [],[]\n",
    "    for i,job in enumerate(schedule.get_jobs()):\n",
    "        jobs.append( job.__str__() )                                     # append python command that wass used to create shceduled job\n",
    "        #print(i) #print(job.__str__()) #print(job.__repr__())\n",
    "        \n",
    "        job_str = f\"Job {i}: \"+job.__repr__()\n",
    "        if job.last_run:                                                                                # if job was previously run\n",
    "            last_time = job.last_run.astimezone(tz.gettz('US/Pacific')).strftime(\"%Y-%m-%d %H:%M:%S\")   # get time of last scheduled event\n",
    "            job_str = job_str.split(\"last run: \")[0]+\"last run: \"+last_time+\", next run: \"\n",
    "        next_time = job.next_run.astimezone(tz.gettz('US/Pacific')).strftime(\"%Y-%m-%d %H:%M:%S)\")      # get time of next scheduled event     \n",
    "        jobs_str.append( job_str.split(\"next run: \")[0]+\"next run: \"+next_time )# append\n",
    "        \n",
    "    mb.update_device_state( device_name, {\"schedule\":jobs_str, \"jobs\":jobs, \"status\":iot_status} )\n"
   ]
  },
  {
   "cell_type": "code",
   "execution_count": null,
   "id": "335c1028",
   "metadata": {
    "hidden": true
   },
   "outputs": [],
   "source": []
  },
  {
   "cell_type": "markdown",
   "id": "170ba2e6",
   "metadata": {},
   "source": [
    "# <font color=\"blue\">Draw multiple Devices' Schedules"
   ]
  },
  {
   "cell_type": "markdown",
   "id": "4f692d44",
   "metadata": {},
   "source": [
    "## <font color=\"green\">Final Code"
   ]
  },
  {
   "cell_type": "code",
   "execution_count": 38,
   "id": "8c9cf94d",
   "metadata": {},
   "outputs": [],
   "source": [
    "def draw_schedule( device_list ):\n",
    "    \"\"\"Draw a weekly schedule of all events that occure for a chose device or experiment\"\"\"\n",
    "    # To Do: figure out how to find all device if given the experiment.\n",
    "    fig, ax = plt.subplots( figsize=(18, 15) )\n",
    "    plt.title('Weekly Schedule', y=1, fontsize=16)       # Give the figure a title\n",
    "    ax.grid(axis='y', linestyle='--', linewidth=0.5)     # Add horizonal grid lines to the plot\n",
    "\n",
    "    DAYS = ['Monday','Tuesday', 'Wednesday', 'Thursday', 'Friday', 'Saturday', 'Sunday']\n",
    "    ax.set_xlim(0.5, len(DAYS) + 0.5)\n",
    "    ax.set_xticks(range(1, len(DAYS) + 1))\n",
    "    ax.set_xticklabels(DAYS)\n",
    "    ax.set_ylim( 24, 0)\n",
    "    ax.set_yticks(range(0, 24))\n",
    "    ax.set_yticklabels([\"{0}:00\".format(h) for h in range(0, 24)])\n",
    "    #plt.savefig('{0}.png'.format(os.path.splitext(sys.argv[1])[0]), dpi=200, bbox_inches='tight')\n",
    "\n",
    "    # !!! This code should be able to handle experiment types as well as device lists\n",
    "    # Locally: schedule_str= [f\"Job {i}: \"+x.__repr__() for i,x in enumerate(schedule.get_jobs())]  #jobs= [job.__str__() for job in schedule.get_jobs()] \n",
    "    if type(device_list)==type(\"\"):                    # if single device was passed to the function as a string instead of list, \n",
    "        device_list = [device_list]                    # turn it into a list\n",
    "    colors= [\"cornflowerblue\",\"darkorange\",\"mediumpurple\",\"lightgreen\"]\n",
    "    legend_elements = [ Patch(colors[i],colors[i],alpha=0.3) for i in range(len(device_list)) ]\n",
    "    plt.legend(legend_elements, device_list, bbox_to_anchor=(1.1,1), loc=\"upper right\", prop={'size': 12})       # Add legend  # Show plot\n",
    "    \n",
    "    for dev_num, device in enumerate(device_list):\n",
    "        info = get_info( device )\n",
    "        jobs, schedule_str = info[\"jobs\"], info[\"schedule\"]\n",
    "\n",
    "        for i in range(len(jobs)):                             # for each job, we get it's next run time, and run interval for IoT state information\n",
    "            next_run= datetime.fromisoformat( schedule_str[i].split(\"next run: \")[1].split(\")\")[0] )\n",
    "            period = timedelta(**{ jobs[i].split(\"unit=\")[1].split(\",\")[0] : int(jobs[i].split(\"interval=\")[1].split(\",\")[0]) })\n",
    "            if \"UNTIL-\" in jobs[i]:                                                           # if there is a specified stop time, use it\n",
    "                stop_time = datetime.fromisoformat( jobs[i].split(\"UNTIL-\")[1] )\n",
    "            else:                                                                             # otherwise stop at weekly cycle\n",
    "                today = (datetime.now() - timedelta(hours=7)).replace(hour=0,minute=0,second=0,microsecond=0) # WARNING: Check Daylight savings\n",
    "                stop_time =  today + timedelta(weeks=1)   # we will consider all job events that ocure in a week\n",
    "            job_times = []                   # create a list of all event times for a job\n",
    "            while next_run < stop_time:\n",
    "                job_times.append(next_run)\n",
    "                next_run += period\n",
    "\n",
    "            for event in job_times:\n",
    "                d = event.weekday() + 0.52                                                   # get day of week for event\n",
    "                start = float(event.hour) + float(event.minute) / 60                         # get start time of event\n",
    "                end = float(event.hour) + (float(event.minute)+15) / 60                      # Ends 15 minutes after start\n",
    "                plt.fill_between([d, d + 0.96], [start, start], [end, end], color=colors[dev_num],alpha=0.3)\n",
    "                plt.text(d + 0.02, start + 0.02, '{0}:{1:0>2}'.format(event.hour, event.minute), va='top', fontsize=8)\n",
    "                plt.text(d + 0.48, start + 0.01, f\"Job {i}\", va='top', fontsize=8) #ha='center', va='center', fontsize=10)"
   ]
  },
  {
   "cell_type": "markdown",
   "id": "e74117b9",
   "metadata": {
    "heading_collapsed": true
   },
   "source": [
    "## <font color=\"gray\">Old Code"
   ]
  },
  {
   "cell_type": "code",
   "execution_count": 33,
   "id": "ae62a79d",
   "metadata": {
    "hidden": true
   },
   "outputs": [],
   "source": [
    "def draw_schedule( device_list ):\n",
    "    \"\"\"Draw a weekly schedule of all events that occure for a chose device or experiment\"\"\"\n",
    "    # To Do: figure out how to find all device if given the experiment.\n",
    "    fig, ax = plt.subplots( figsize=(18, 15) )\n",
    "    plt.title('Weekly Schedule', y=1, fontsize=16)       # Give the figure a title\n",
    "    ax.grid(axis='y', linestyle='--', linewidth=0.5)     # Add horizonal grid lines to the plot\n",
    "\n",
    "    DAYS = ['Monday','Tuesday', 'Wednesday', 'Thursday', 'Friday', 'Saturday', 'Sunday']\n",
    "    ax.set_xlim(0.5, len(DAYS) + 0.5)\n",
    "    ax.set_xticks(range(1, len(DAYS) + 1))\n",
    "    ax.set_xticklabels(DAYS)\n",
    "    ax.set_ylim( 24, 0)\n",
    "    ax.set_yticks(range(0, 24))\n",
    "    ax.set_yticklabels([\"{0}:00\".format(h) for h in range(0, 24)])\n",
    "    #plt.savefig('{0}.png'.format(os.path.splitext(sys.argv[1])[0]), dpi=200, bbox_inches='tight')\n",
    "\n",
    "    # !!! this code below should be wrapped in a for loop that allows this to be done with multiple devices\n",
    "    # Locally: schedule_str= [f\"Job {i}: \"+x.__repr__() for i,x in enumerate(schedule.get_jobs())]  #jobs= [job.__str__() for job in schedule.get_jobs()] \n",
    "    info = get_info( device_experiment )\n",
    "    jobs, schedule_str = info[\"jobs\"], info[\"schedule\"]\n",
    "\n",
    "    for i in range(len(jobs)):                             # for each job, we get it's next run time, and run interval for IoT state information\n",
    "        next_run= datetime.fromisoformat( schedule_str[i].split(\"next run: \")[1].split(\")\")[0] )\n",
    "        period = timedelta(**{ jobs[i].split(\"unit=\")[1].split(\",\")[0] : int(jobs[i].split(\"interval=\")[1].split(\",\")[0]) })\n",
    "        if \"UNTIL-\" in jobs[i]:                                                           # if there is a specified stop time, use it\n",
    "            stop_time = datetime.fromisoformat( jobs[i].split(\"UNTIL-\")[1] )\n",
    "        else:                                                                             # otherwise stop at weekly cycle\n",
    "            today = (datetime.now() - timedelta(hours=7)).replace(hour=0,minute=0,second=0,microsecond=0) # WARNING: Check Daylight savings\n",
    "            stop_time =  today + timedelta(weeks=1)   # we will consider all job events that ocure in a week\n",
    "        job_times = []                   # create a list of all event times for a job\n",
    "        while next_run < stop_time:\n",
    "            job_times.append(next_run)\n",
    "            next_run += period\n",
    "\n",
    "        for event in job_times:\n",
    "            d = event.weekday() + 0.52                                                   # get day of week for event\n",
    "            start = float(event.hour) + float(event.minute) / 60                         # get start time of event\n",
    "            end = float(event.hour) + (float(event.minute)+15) / 60                      # Ends 15 minutes after start\n",
    "            plt.fill_between([d, d + 0.96], [start, start], [end, end], color=\"cornflowerblue\",alpha=0.3)\n",
    "            plt.text(d + 0.02, start + 0.02, '{0}:{1:0>2}'.format(event.hour, event.minute), va='top', fontsize=8)\n",
    "            plt.text(d + 0.48, start + 0.01, f\"Job {i}\", va='top', fontsize=8) #ha='center', va='center', fontsize=10)"
   ]
  },
  {
   "cell_type": "markdown",
   "id": "bf35470b",
   "metadata": {},
   "source": [
    "## <font color=\"brown\">Playground"
   ]
  },
  {
   "cell_type": "markdown",
   "id": "6a5bda4f",
   "metadata": {},
   "source": [
    "### Devices Setup"
   ]
  },
  {
   "cell_type": "markdown",
   "id": "19d6a86c",
   "metadata": {},
   "source": [
    "Check that multiple devices are hooked up"
   ]
  },
  {
   "cell_type": "code",
   "execution_count": 4,
   "id": "68528002",
   "metadata": {},
   "outputs": [],
   "source": [
    "send( \"pic_1\", \"sayHello('alice')\" )"
   ]
  },
  {
   "cell_type": "code",
   "execution_count": 5,
   "id": "4ab86bf9",
   "metadata": {},
   "outputs": [],
   "source": [
    "send( \"flow_1\", \"sayHello('alice')\" )"
   ]
  },
  {
   "cell_type": "markdown",
   "id": "298aaf27",
   "metadata": {},
   "source": [
    "Create a schedueled event for each device"
   ]
  },
  {
   "cell_type": "code",
   "execution_count": 6,
   "id": "f2b85b2c",
   "metadata": {},
   "outputs": [],
   "source": [
    "send( \"pic_1\", \"\"\"schedule.every().hour.at(\":00\").do(sayHello, name='hourly,00')\"\"\" )\n",
    "send(\"flow_1\", \"\"\"schedule.every().hour.at(\":30\").do(sayHello, name='hourly,30')\"\"\" )"
   ]
  },
  {
   "cell_type": "markdown",
   "id": "0845f683",
   "metadata": {},
   "source": [
    "### draw calendar"
   ]
  },
  {
   "cell_type": "markdown",
   "id": "563d8274",
   "metadata": {},
   "source": [
    "create list of devices to view"
   ]
  },
  {
   "cell_type": "code",
   "execution_count": 10,
   "id": "abac0ac9",
   "metadata": {},
   "outputs": [],
   "source": [
    "from matplotlib.patches import Patch"
   ]
  },
  {
   "cell_type": "code",
   "execution_count": 11,
   "id": "53474628",
   "metadata": {},
   "outputs": [],
   "source": [
    "device_list = [\"flow_1\",\"pic_1\"]"
   ]
  },
  {
   "cell_type": "code",
   "execution_count": 12,
   "id": "c8a65e63",
   "metadata": {},
   "outputs": [],
   "source": [
    "colors= [\"cornflowerblue\",\"darkorange\",\"mediumpurple\",\"lightgreen\"]"
   ]
  },
  {
   "cell_type": "code",
   "execution_count": 42,
   "id": "7feeb772",
   "metadata": {},
   "outputs": [
    {
     "data": {
      "text/plain": [
       "True"
      ]
     },
     "execution_count": 42,
     "metadata": {},
     "output_type": "execute_result"
    }
   ],
   "source": [
    "type(\"asdf\")==type(\" \")"
   ]
  },
  {
   "cell_type": "code",
   "execution_count": 43,
   "id": "0653b0d2",
   "metadata": {},
   "outputs": [],
   "source": [
    "device_list = \"flow_1\""
   ]
  },
  {
   "cell_type": "code",
   "execution_count": null,
   "id": "1236c362",
   "metadata": {},
   "outputs": [],
   "source": []
  },
  {
   "cell_type": "code",
   "execution_count": null,
   "id": "4fbd49f3",
   "metadata": {},
   "outputs": [],
   "source": [
    "legend_elements = [Patch(\"r\",\"r\"), Patch(\"b\",\"b\") ]   # Create colors in legend"
   ]
  },
  {
   "cell_type": "code",
   "execution_count": null,
   "id": "9e4ef525",
   "metadata": {},
   "outputs": [],
   "source": []
  },
  {
   "cell_type": "code",
   "execution_count": null,
   "id": "a48300fa",
   "metadata": {},
   "outputs": [],
   "source": []
  },
  {
   "cell_type": "code",
   "execution_count": 39,
   "id": "cbeb712b",
   "metadata": {},
   "outputs": [
    {
     "data": {
      "image/png": "[encoded data removed]",
      "text/plain": [
       "<Figure size 1296x1080 with 1 Axes>"
      ]
     },
     "metadata": {
      "needs_background": "light"
     },
     "output_type": "display_data"
    }
   ],
   "source": [
    "draw_schedule( device_list )"
   ]
  },
  {
   "cell_type": "code",
   "execution_count": null,
   "id": "fb9476da",
   "metadata": {},
   "outputs": [],
   "source": []
  },
  {
   "cell_type": "code",
   "execution_count": null,
   "id": "472759fd",
   "metadata": {},
   "outputs": [],
   "source": []
  },
  {
   "cell_type": "code",
   "execution_count": null,
   "id": "558ea744",
   "metadata": {},
   "outputs": [],
   "source": []
  },
  {
   "cell_type": "markdown",
   "id": "94f8f4e7",
   "metadata": {
    "heading_collapsed": true
   },
   "source": [
    "# <font color=\"purple\"> Get event times from schedule  <font color=\"red\"> - Old"
   ]
  },
  {
   "cell_type": "markdown",
   "id": "16b5398a",
   "metadata": {
    "heading_collapsed": true,
    "hidden": true
   },
   "source": [
    "## <font color=\"orange\">Assuming we have schedule object"
   ]
  },
  {
   "cell_type": "markdown",
   "id": "6f1fed7b",
   "metadata": {
    "hidden": true
   },
   "source": [
    "Create a dummy function to use for testing"
   ]
  },
  {
   "cell_type": "code",
   "execution_count": null,
   "id": "43fd519e",
   "metadata": {
    "hidden": true
   },
   "outputs": [],
   "source": [
    "def sayHello(name):\n",
    "    print(\"hello \", name)"
   ]
  },
  {
   "cell_type": "markdown",
   "id": "3b246368",
   "metadata": {
    "hidden": true
   },
   "source": [
    "Create a dummy scheduled task"
   ]
  },
  {
   "cell_type": "code",
   "execution_count": null,
   "id": "65d23f64",
   "metadata": {
    "hidden": true
   },
   "outputs": [],
   "source": [
    "#schedule.every().day.at(\"14:24\", 'US/Pacific').do(sayHello, name='Alice')   # timezones doessn't work yet"
   ]
  },
  {
   "cell_type": "code",
   "execution_count": null,
   "id": "4046eca8",
   "metadata": {
    "hidden": true
   },
   "outputs": [],
   "source": [
    "schedule.every().day.at(\"14:24\").do(sayHello, name='Alice')   # timezones doessn't work yet\n",
    "schedule.every(2).hours.at(\":00\").do(sayHello, name='Bob')\n",
    "schedule.every(34).minutes.do(sayHello, name='Zoro')\n",
    "schedule.get_jobs()"
   ]
  },
  {
   "cell_type": "code",
   "execution_count": null,
   "id": "fca4f140",
   "metadata": {
    "hidden": true
   },
   "outputs": [],
   "source": [
    "#schedule.clear()"
   ]
  },
  {
   "cell_type": "markdown",
   "id": "91855647",
   "metadata": {
    "hidden": true
   },
   "source": [
    "get the job we created and the get all the times it will runs in between last monday and this monday"
   ]
  },
  {
   "cell_type": "code",
   "execution_count": null,
   "id": "fc27b317",
   "metadata": {
    "hidden": true
   },
   "outputs": [],
   "source": [
    "jobs= schedule.get_jobs()\n",
    "job = jobs[0]"
   ]
  },
  {
   "cell_type": "markdown",
   "id": "1508fe54",
   "metadata": {
    "hidden": true
   },
   "source": [
    "Get time of last monday and next monday"
   ]
  },
  {
   "cell_type": "code",
   "execution_count": null,
   "id": "e962aec2",
   "metadata": {
    "hidden": true
   },
   "outputs": [],
   "source": [
    "today = datetime.combine(date.today(), datetime.min.time())\n",
    "last_mon = today - timedelta(days=-today.weekday(), weeks=1) #+ datetime.timedelta(days=1)\n",
    "next_mon = today + timedelta(days=-today.weekday(), weeks=1) #+ datetime.timedelta(days=1)"
   ]
  },
  {
   "cell_type": "markdown",
   "id": "1cf0ec8f",
   "metadata": {
    "hidden": true
   },
   "source": [
    "Get all time that job occures before next monday."
   ]
  },
  {
   "cell_type": "code",
   "execution_count": null,
   "id": "e4878128",
   "metadata": {
    "hidden": true
   },
   "outputs": [],
   "source": [
    "job_times = []\n",
    "next_run = job.next_run\n",
    "while next_run < next_mon:\n",
    "    job_times.append(next_run)\n",
    "    next_run += job.period"
   ]
  },
  {
   "cell_type": "markdown",
   "id": "ce77f7e3",
   "metadata": {
    "heading_collapsed": true,
    "hidden": true
   },
   "source": [
    "## <font color=\"purple\"> times from IoT state info"
   ]
  },
  {
   "cell_type": "markdown",
   "id": "b25a3ad7",
   "metadata": {
    "hidden": true
   },
   "source": [
    "The iot state info that we are able to grab are `schedule_str` and `jobs`. we must parse the info to build the schedule from these list of strings"
   ]
  },
  {
   "cell_type": "code",
   "execution_count": null,
   "id": "2f7856e1",
   "metadata": {
    "hidden": true
   },
   "outputs": [],
   "source": [
    "schedule_str= [f\"Job {i}: \"+x.__repr__() for i,x in enumerate(schedule.get_jobs())]   # After running jobs, get updated schedule info \n",
    "jobs= [job.__str__() for job in schedule.get_jobs()] "
   ]
  },
  {
   "cell_type": "markdown",
   "id": "87502b42",
   "metadata": {
    "hidden": true
   },
   "source": [
    "parse next start time from `schedule_str`"
   ]
  },
  {
   "cell_type": "code",
   "execution_count": null,
   "id": "11052913",
   "metadata": {
    "hidden": true
   },
   "outputs": [],
   "source": [
    "for i in range(len(jobs)):\n",
    "    next_run= datetime.fromisoformat( schedule_str[i].split(\"next run: \")[1].split(\")\")[0] )\n",
    "    period = timedelta(**{ jobs[i].split(\"unit=\")[1].split(\",\")[0] : int(jobs[i].split(\"interval=\")[1].split(\",\")[0]) })"
   ]
  },
  {
   "cell_type": "markdown",
   "id": "98ff71bb",
   "metadata": {
    "hidden": true
   },
   "source": [
    "get time of last monday and this monday"
   ]
  },
  {
   "cell_type": "code",
   "execution_count": null,
   "id": "d6cf7ae5",
   "metadata": {
    "hidden": true
   },
   "outputs": [],
   "source": [
    "today = datetime.combine(date.today(), datetime.min.time())\n",
    "last_mon = today - timedelta(days=-today.weekday(), weeks=1) #+ datetime.timedelta(days=1)\n",
    "next_mon = today + timedelta(days=-today.weekday(), weeks=1) #+ datetime.timedelta(days=1)"
   ]
  },
  {
   "cell_type": "markdown",
   "id": "6d36c900",
   "metadata": {
    "hidden": true
   },
   "source": [
    "Get all times that job occures before next monday."
   ]
  },
  {
   "cell_type": "code",
   "execution_count": null,
   "id": "6250d26d",
   "metadata": {
    "hidden": true
   },
   "outputs": [],
   "source": [
    "job_times = []\n",
    "while next_run < next_mon:\n",
    "    job_times.append(next_run)\n",
    "    next_run += period\n"
   ]
  },
  {
   "cell_type": "code",
   "execution_count": null,
   "id": "efb0a946",
   "metadata": {
    "hidden": true
   },
   "outputs": [],
   "source": [
    "#len(job_times)"
   ]
  },
  {
   "cell_type": "markdown",
   "id": "f01b146f",
   "metadata": {
    "heading_collapsed": true,
    "hidden": true
   },
   "source": [
    "## <font color=\"brown\"> Playing with datetime"
   ]
  },
  {
   "cell_type": "markdown",
   "id": "145ef3e4",
   "metadata": {
    "hidden": true
   },
   "source": [
    "get current time"
   ]
  },
  {
   "cell_type": "code",
   "execution_count": null,
   "id": "109ca9d8",
   "metadata": {
    "hidden": true
   },
   "outputs": [],
   "source": [
    "import datetime\n",
    "now = datetime.datetime.now()\n",
    "#datetime.datetime(2009, 1, 6, 15, 8, 24, 78915)\n",
    "print(now)\n"
   ]
  },
  {
   "cell_type": "markdown",
   "id": "c35a3fa2",
   "metadata": {
    "hidden": true
   },
   "source": [
    "get time zones"
   ]
  },
  {
   "cell_type": "code",
   "execution_count": null,
   "id": "39b4a977",
   "metadata": {
    "hidden": true
   },
   "outputs": [],
   "source": [
    "import pytz\n",
    "#pytz.all_timezones"
   ]
  },
  {
   "cell_type": "markdown",
   "id": "6f06dfec",
   "metadata": {
    "hidden": true
   },
   "source": [
    "Get last Monday"
   ]
  },
  {
   "cell_type": "code",
   "execution_count": null,
   "id": "827e6e0a",
   "metadata": {
    "hidden": true
   },
   "outputs": [],
   "source": [
    "today = datetime.date.today()\n",
    "last_mon = today - datetime.timedelta(days=-today.weekday(), weeks=1) #+ datetime.timedelta(days=1)\n"
   ]
  },
  {
   "cell_type": "markdown",
   "id": "86ab17fc",
   "metadata": {
    "hidden": true
   },
   "source": [
    "Get next monday"
   ]
  },
  {
   "cell_type": "code",
   "execution_count": null,
   "id": "0920cdf3",
   "metadata": {
    "hidden": true
   },
   "outputs": [],
   "source": [
    "today = datetime.date.today()\n",
    "next_mon = today + datetime.timedelta(days=-today.weekday(), weeks=1) #+ datetime.timedelta(days=1)\n"
   ]
  },
  {
   "cell_type": "markdown",
   "id": "e1ceb0c8",
   "metadata": {
    "hidden": true
   },
   "source": [
    "See if time is `datetime` object happens before another `datetime`"
   ]
  },
  {
   "cell_type": "code",
   "execution_count": null,
   "id": "f2fa6a0d",
   "metadata": {
    "hidden": true
   },
   "outputs": [],
   "source": [
    "next_mon < last_mon\n",
    "last_mon < next_mon\n"
   ]
  },
  {
   "cell_type": "code",
   "execution_count": null,
   "id": "4e82f01e",
   "metadata": {
    "hidden": true
   },
   "outputs": [],
   "source": []
  },
  {
   "cell_type": "markdown",
   "id": "9a6b2e24",
   "metadata": {
    "heading_collapsed": true
   },
   "source": [
    "# <font color=\"blue\"> Create weekly calendar   <font color=\"red\"> - Old"
   ]
  },
  {
   "cell_type": "markdown",
   "id": "5bce4ceb",
   "metadata": {
    "heading_collapsed": true,
    "hidden": true
   },
   "source": [
    "## <font color=\"blue\"> Adapt example <font color=\"green\"> - current function (check to make sure)"
   ]
  },
  {
   "cell_type": "code",
   "execution_count": 141,
   "id": "72bcffe7",
   "metadata": {
    "hidden": true
   },
   "outputs": [],
   "source": [
    "def draw_schedule( device_experiment ):\n",
    "    \"\"\"Draw a weekly schedule of all events that occure for a chose device or experiment\"\"\"\n",
    "    # To Do: figure out how to find all device if given the experiment.\n",
    "    fig, ax = plt.subplots( figsize=(18, 15) )\n",
    "    plt.title('Weekly Schedule', y=1, fontsize=16)       # Give the figure a title\n",
    "    ax.grid(axis='y', linestyle='--', linewidth=0.5)     # Add horizonal grid lines to the plot\n",
    "\n",
    "    DAYS = ['Monday','Tuesday', 'Wednesday', 'Thursday', 'Friday', 'Saturday', 'Sunday']\n",
    "    ax.set_xlim(0.5, len(DAYS) + 0.5)\n",
    "    ax.set_xticks(range(1, len(DAYS) + 1))\n",
    "    ax.set_xticklabels(DAYS)\n",
    "    ax.set_ylim( 24, 0)\n",
    "    ax.set_yticks(range(0, 24))\n",
    "    ax.set_yticklabels([\"{0}:00\".format(h) for h in range(0, 24)])\n",
    "    #plt.savefig('{0}.png'.format(os.path.splitext(sys.argv[1])[0]), dpi=200, bbox_inches='tight')\n",
    "\n",
    "    # !!! this code below should be wrapped in a for loop that allows this to be done with multiple devices\n",
    "    # Locally: schedule_str= [f\"Job {i}: \"+x.__repr__() for i,x in enumerate(schedule.get_jobs())]  #jobs= [job.__str__() for job in schedule.get_jobs()] \n",
    "    info = get_info( device_experiment )\n",
    "    jobs, schedule_str = info[\"jobs\"], info[\"schedule\"]\n",
    "\n",
    "    for i in range(len(jobs)):                             # for each job, we get it's next run time, and run interval for IoT state information\n",
    "        next_run= datetime.fromisoformat( schedule_str[i].split(\"next run: \")[1].split(\")\")[0] )\n",
    "        period = timedelta(**{ jobs[i].split(\"unit=\")[1].split(\",\")[0] : int(jobs[i].split(\"interval=\")[1].split(\",\")[0]) })\n",
    "        today = datetime.combine(date.today(), datetime.min.time())\n",
    "        stop_time =  today + timedelta(weeks=1)   # we will consider all job events that ocure before next monday\n",
    "        job_times = []                   # create a list of all event times for a job\n",
    "        while next_run < stop_time:\n",
    "            job_times.append(next_run)\n",
    "            next_run += period\n",
    "\n",
    "        for event in job_times:\n",
    "            d = event.weekday() + 0.52                                                   # get day of week for event\n",
    "            start = float(event.hour) + float(event.minute) / 60                         # get start time of event\n",
    "            end = float(event.hour) + (float(event.minute)+15) / 60                      # Ends 15 minutes after start\n",
    "            plt.fill_between([d, d + 0.96], [start, start], [end, end], color=\"cornflowerblue\",alpha=0.3)\n",
    "            plt.text(d + 0.02, start + 0.02, '{0}:{1:0>2}'.format(event.hour, event.minute), va='top', fontsize=8)\n",
    "            plt.text(d + 0.48, start + 0.01, f\"Job {i}\", va='top', fontsize=8) #ha='center', va='center', fontsize=10)"
   ]
  },
  {
   "cell_type": "markdown",
   "id": "d933ca1e",
   "metadata": {
    "heading_collapsed": true,
    "hidden": true
   },
   "source": [
    "## <font color=\"blue\"> Adapt example <font color=\"orange\"> -first workign function"
   ]
  },
  {
   "cell_type": "raw",
   "id": "c510f24e",
   "metadata": {
    "hidden": true
   },
   "source": [
    "fig = plt.figure(figsize=(18, 15))                    # Create figure for plotting\n",
    "plt.title('Weekly Schedule', y=1, fontsize=14)       # Give the figure a title\n",
    "ax=fig.add_subplot(1, 1, 1)                          # Create a plot in the figure \n",
    "ax.grid(axis='y', linestyle='--', linewidth=0.5)     # Add horizonal grid lines to the plot\n",
    "\n",
    "DAYS = ['Monday','Tuesday', 'Wednesday', 'Thursday', 'Friday', 'Saturday', 'Sunday']\n",
    "ax.set_xlim(0.5, len(DAYS) + 0.5)\n",
    "ax.set_xticks(range(1, len(DAYS) + 1))\n",
    "ax.set_xticklabels(DAYS)\n",
    "ax.set_ylim( 24, 0)\n",
    "ax.set_yticks(range(0, 24))\n",
    "ax.set_yticklabels([\"{0}:00\".format(h) for h in range(0, 24)])\n",
    "#plt.savefig('{0}.png'.format(os.path.splitext(sys.argv[1])[0]), dpi=200, bbox_inches='tight')\n",
    "\n",
    "# !!! this code below should be wrapped in a for loop that allows this to be done with multiple devices\n",
    "# !!! These two lines of code should be replaced by some \"iot.get_device_state\" command that get schedule's info from device state\n",
    "schedule_str= [f\"Job {i}: \"+x.__repr__() for i,x in enumerate(schedule.get_jobs())]   # After running jobs, get updated schedule info \n",
    "jobs= [job.__str__() for job in schedule.get_jobs()] \n",
    "\n",
    "for i in range(len(jobs)):                             # for each job, we get it's next run time, and run interval for IoT state information\n",
    "    next_run= datetime.fromisoformat( schedule_str[i].split(\"next run: \")[1].split(\")\")[0] )\n",
    "    period = timedelta(**{ jobs[i].split(\"unit=\")[1].split(\",\")[0] : int(jobs[i].split(\"interval=\")[1].split(\",\")[0]) })\n",
    "    next_mon =  + timedelta(days=-today.weekday(), weeks=1)   # we will consider all job events that ocure before next monday\n",
    "    today = datetime.combine(date.today(), datetime.min.time())\n",
    "    next_mon =  today + timedelta(days=-today.weekday(), weeks=1)   # we will consider all job events that ocure before next monday\n",
    "    job_times = []                   # create a list of all event times for a job\n",
    "    while next_run < next_mon:\n",
    "        job_times.append(next_run)\n",
    "        next_run += period\n",
    "    \n",
    "    for event in job_times:\n",
    "        d = event.weekday() + 0.52                                                   # get day of week for event\n",
    "        start = float(event.hour) + float(event.minute) / 60                         # get start time of event\n",
    "        end = float(event.hour) + (float(event.minute)+20) / 60                      # Ends 30 minutes after start\n",
    "        plt.fill_between([d, d + 0.96], [start, start], [end, end], color=\"cornflowerblue\")\n",
    "        plt.text(d + 0.02, start + 0.02, '{0}:{1:0>2}'.format(event.hour, event.minute), va='top', fontsize=8)\n",
    "        plt.text(d + 0.48, (start + end) * 0.502, f\"Job {i}\", ha='center', va='center', fontsize=10)\n"
   ]
  },
  {
   "cell_type": "code",
   "execution_count": null,
   "id": "0389892e",
   "metadata": {
    "hidden": true
   },
   "outputs": [],
   "source": []
  },
  {
   "cell_type": "markdown",
   "id": "d9c6859d",
   "metadata": {
    "heading_collapsed": true,
    "hidden": true
   },
   "source": [
    "## <font color=\"blue\"> Adapt example to python scheduler <font color=\"red\">- With `schedule.get_jobs()`"
   ]
  },
  {
   "cell_type": "code",
   "execution_count": null,
   "id": "2ddf6bfd",
   "metadata": {
    "hidden": true
   },
   "outputs": [],
   "source": [
    "fig = plt.figure(figsize=(18, 15))                    # Create figure for plotting\n",
    "plt.title('Weekly Schedule', y=1, fontsize=14)       # Give the figure a title\n",
    "ax=fig.add_subplot(1, 1, 1)                          # Create a plot in the figure \n",
    "ax.grid(axis='y', linestyle='--', linewidth=0.5)     # Add horizonal grid lines to the plot\n",
    "\n",
    "DAYS = ['Monday','Tuesday', 'Wednesday', 'Thursday', 'Friday', 'Saturday', 'Sunday']\n",
    "ax.set_xlim(0.5, len(DAYS) + 0.5)\n",
    "ax.set_xticks(range(1, len(DAYS) + 1))\n",
    "ax.set_xticklabels(DAYS)\n",
    "ax.set_ylim( 24, 0)\n",
    "ax.set_yticks(range(0, 24))\n",
    "ax.set_yticklabels([\"{0}:00\".format(h) for h in range(0, 24)])\n",
    "#plt.savefig('{0}.png'.format(os.path.splitext(sys.argv[1])[0]), dpi=200, bbox_inches='tight')\n",
    "\n",
    "# add job event to calendar\n",
    "for i,job in enumerate(schedule.get_jobs()):\n",
    "    job_times = []\n",
    "    next_run = job.next_run\n",
    "    while next_run < next_mon:\n",
    "        job_times.append(next_run)\n",
    "        next_run += job.period\n",
    "\n",
    "    for event in job_times:\n",
    "        d = event.weekday() + 0.52                                                   # get day of week for event\n",
    "        start = float(event.hour) + float(event.minute) / 60                         # get start time of event\n",
    "        end = float(event.hour) + (float(event.minute)+20) / 60                      # Ends 30 minutes after start\n",
    "        plt.fill_between([d, d + 0.96], [start, start], [end, end], color=\"cornflowerblue\")\n",
    "        plt.text(d + 0.02, start + 0.02, '{0}:{1:0>2}'.format(event.hour, event.minute), va='top', fontsize=8)\n",
    "        plt.text(d + 0.48, (start + end) * 0.502, f\"Job {i}\", ha='center', va='center', fontsize=10)"
   ]
  },
  {
   "cell_type": "code",
   "execution_count": null,
   "id": "77fb1f04",
   "metadata": {
    "hidden": true
   },
   "outputs": [],
   "source": [
    "for event in job_times:\n",
    "    d = event.weekday() + 0.52                                                   # get day of week for event\n",
    "    start = float(event.hour) + float(event.minute) / 60                         # get start time of event\n",
    "    end = float(event.hour) + (float(event.minute)+30) / 60                      # Ends 30 minutes after start\n",
    "    plt.fill_between([d, d + 0.96], [start, start], [end, end], color=\"cornflowerblue\")\n",
    "    plt.text(d + 0.02, start + 0.02, f'{event.hour}:{event.minute}', va='top', fontsize=8)\n",
    "    plt.text(d + 0.48, (start + end) * 0.502, e.name, ha='center', va='center', fontsize=10)"
   ]
  },
  {
   "cell_type": "markdown",
   "id": "8f7078ef",
   "metadata": {
    "heading_collapsed": true,
    "hidden": true
   },
   "source": [
    "## <font color=\"blue\"> Make plot interactive <font color=\"red\">- Not Done"
   ]
  },
  {
   "cell_type": "markdown",
   "id": "7fa7b6fd",
   "metadata": {
    "hidden": true
   },
   "source": [
    "[Tutorial](https://geo-python.github.io/2017/lessons/L7/using-plotly.html#:~:text=To%20save%20plots%20to%20plotly,use%20to%20make%20a%20plot.&text=So%20that's%20it%3F,plotly%20site%20(i.e.%2C%20py.) on how to connect matplotlib to plotly.\n",
    "\n",
    "[Another tutorial](https://towardsdatascience.com/matplotlib-to-plotly-chart-conversion-4bd260e73434)"
   ]
  },
  {
   "cell_type": "code",
   "execution_count": 142,
   "id": "0f1e314e",
   "metadata": {
    "hidden": true
   },
   "outputs": [],
   "source": [
    "def draw_schedule( device_experiment ):\n",
    "    \"\"\"Draw a weekly schedule of all events that occure for a chose device or experiment\"\"\"\n",
    "    # To Do: figure out how to find all device if given the experiment.\n",
    "    fig, ax = plt.subplots( figsize=(18, 15) )\n",
    "    plt.title('Weekly Schedule', y=1, fontsize=16)       # Give the figure a title\n",
    "    ax.grid(axis='y', linestyle='--', linewidth=0.5)     # Add horizonal grid lines to the plot\n",
    "\n",
    "    DAYS = ['Monday','Tuesday', 'Wednesday', 'Thursday', 'Friday', 'Saturday', 'Sunday']\n",
    "    ax.set_xlim(0.5, len(DAYS) + 0.5)\n",
    "    ax.set_xticks(range(1, len(DAYS) + 1))\n",
    "    ax.set_xticklabels(DAYS)\n",
    "    ax.set_ylim( 24, 0)\n",
    "    ax.set_yticks(range(0, 24))\n",
    "    ax.set_yticklabels([\"{0}:00\".format(h) for h in range(0, 24)])\n",
    "    #plt.savefig('{0}.png'.format(os.path.splitext(sys.argv[1])[0]), dpi=200, bbox_inches='tight')\n",
    "\n",
    "    # !!! this code below should be wrapped in a for loop that allows this to be done with multiple devices\n",
    "    # Locally: schedule_str= [f\"Job {i}: \"+x.__repr__() for i,x in enumerate(schedule.get_jobs())]  #jobs= [job.__str__() for job in schedule.get_jobs()] \n",
    "    info = get_info( device_experiment )\n",
    "    jobs, schedule_str = info[\"jobs\"], info[\"schedule\"]\n",
    "\n",
    "    for i in range(len(jobs)):                             # for each job, we get it's next run time, and run interval for IoT state information\n",
    "        next_run= datetime.fromisoformat( schedule_str[i].split(\"next run: \")[1].split(\")\")[0] )\n",
    "        period = timedelta(**{ jobs[i].split(\"unit=\")[1].split(\",\")[0] : int(jobs[i].split(\"interval=\")[1].split(\",\")[0]) })\n",
    "        today = datetime.combine(date.today(), datetime.min.time())\n",
    "        stop_time =  today + timedelta(weeks=1)   # we will consider all job events that ocure before next monday\n",
    "        job_times = []                   # create a list of all event times for a job\n",
    "        while next_run < stop_time:\n",
    "            job_times.append(next_run)\n",
    "            next_run += period\n",
    "\n",
    "        for event in job_times:\n",
    "            d = event.weekday() + 0.52                                                   # get day of week for event\n",
    "            start = float(event.hour) + float(event.minute) / 60                         # get start time of event\n",
    "            end = float(event.hour) + (float(event.minute)+15) / 60                      # Ends 15 minutes after start\n",
    "            plt.fill_between([d, d + 0.96], [start, start], [end, end], color=\"cornflowerblue\",alpha=0.3)\n",
    "            plt.text(d + 0.02, start + 0.02, '{0}:{1:0>2}'.format(event.hour, event.minute), va='top', fontsize=8)\n",
    "            plt.text(d + 0.48, start + 0.01, f\"Job {i}\", va='top', fontsize=8) #ha='center', va='center', fontsize=10)"
   ]
  },
  {
   "cell_type": "code",
   "execution_count": null,
   "id": "15c32217",
   "metadata": {
    "hidden": true
   },
   "outputs": [],
   "source": []
  },
  {
   "cell_type": "code",
   "execution_count": null,
   "id": "06b5f126",
   "metadata": {
    "hidden": true
   },
   "outputs": [],
   "source": []
  },
  {
   "cell_type": "code",
   "execution_count": null,
   "id": "debc3610",
   "metadata": {
    "hidden": true
   },
   "outputs": [],
   "source": [
    "#unique_url = py.plot_mpl(fig, filename=\"sin(x) test plot\")"
   ]
  },
  {
   "cell_type": "code",
   "execution_count": null,
   "id": "51db50a2",
   "metadata": {
    "hidden": true
   },
   "outputs": [],
   "source": [
    "#!pip install mpld3"
   ]
  },
  {
   "cell_type": "code",
   "execution_count": null,
   "id": "8865716a",
   "metadata": {
    "hidden": true
   },
   "outputs": [],
   "source": [
    "import mpld3"
   ]
  },
  {
   "cell_type": "code",
   "execution_count": null,
   "id": "d9b3ab62",
   "metadata": {
    "hidden": true
   },
   "outputs": [],
   "source": [
    "mpld3.display(fig)"
   ]
  }
 ],
 "metadata": {
  "hide_input": false,
  "kernelspec": {
   "display_name": "Python 3",
   "language": "python",
   "name": "python3"
  },
  "language_info": {
   "codemirror_mode": {
    "name": "ipython",
    "version": 3
   },
   "file_extension": ".py",
   "mimetype": "text/x-python",
   "name": "python",
   "nbconvert_exporter": "python",
   "pygments_lexer": "ipython3",
   "version": "3.8.8"
  },
  "toc": {
   "base_numbering": 1,
   "nav_menu": {},
   "number_sections": true,
   "sideBar": true,
   "skip_h1_title": false,
   "title_cell": "Table of Contents",
   "title_sidebar": "Contents",
   "toc_cell": false,
   "toc_position": {},
   "toc_section_display": true,
   "toc_window_display": false
  }
 },
 "nbformat": 4,
 "nbformat_minor": 5
}
