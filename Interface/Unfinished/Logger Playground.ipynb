{
 "cells": [
  {
   "cell_type": "markdown",
   "id": "1c5747a9",
   "metadata": {},
   "source": [
    "<font size=7>Logger Playground"
   ]
  },
  {
   "cell_type": "markdown",
   "id": "64c1de80",
   "metadata": {},
   "source": [
    "The goal of this notebook is to figure out how to do loggin for schedule and IoT commands."
   ]
  },
  {
   "cell_type": "markdown",
   "id": "2eec2bcd",
   "metadata": {},
   "source": [
    "# <font color=\"gray\"> Summary"
   ]
  },
  {
   "cell_type": "markdown",
   "id": "d07c4720",
   "metadata": {},
   "source": [
    "**Steps**\n",
    "\n",
    "1. Figure out logging for schedule\n",
    "2. Figure out logging for IoT commands\n",
    "3. Combine logs into final form\n",
    "4. Upload logs to IoT state"
   ]
  },
  {
   "cell_type": "markdown",
   "id": "85163bb7",
   "metadata": {},
   "source": [
    "**References**\n",
    "\n",
    "* Very userfule [tutorial](https://realpython.com/python-logging/)"
   ]
  },
  {
   "cell_type": "markdown",
   "id": "5fe3c8d8",
   "metadata": {},
   "source": [
    "# <font color=\"gray\"> Set up Notebook"
   ]
  },
  {
   "cell_type": "markdown",
   "id": "7b1caca9",
   "metadata": {},
   "source": [
    "import stuff"
   ]
  },
  {
   "cell_type": "code",
   "execution_count": null,
   "id": "cdfc6ce7",
   "metadata": {},
   "outputs": [],
   "source": [
    "import schedule\n",
    "import logging"
   ]
  },
  {
   "cell_type": "code",
   "execution_count": null,
   "id": "36190958",
   "metadata": {},
   "outputs": [],
   "source": [
    "%run \"IoT Schedule Functions.ipynb\" "
   ]
  },
  {
   "cell_type": "markdown",
   "id": "f0b437c7",
   "metadata": {},
   "source": [
    "# Logger for Schedule"
   ]
  },
  {
   "cell_type": "markdown",
   "id": "e5661dfb",
   "metadata": {},
   "source": [
    "## Examples"
   ]
  },
  {
   "cell_type": "markdown",
   "id": "9034a19b",
   "metadata": {},
   "source": [
    "Logging example [found here](https://schedule.readthedocs.io/en/stable/logging.html)."
   ]
  },
  {
   "cell_type": "markdown",
   "id": "63ff6901",
   "metadata": {},
   "source": [
    "### Example 1"
   ]
  },
  {
   "cell_type": "code",
   "execution_count": null,
   "id": "62f8d94c",
   "metadata": {},
   "outputs": [],
   "source": [
    "import schedule\n",
    "import logging\n",
    "\n",
    "logging.basicConfig()\n",
    "schedule_logger = logging.getLogger('schedule')\n",
    "schedule_logger.setLevel(level=logging.DEBUG)\n",
    "\n",
    "def job():\n",
    "    print(\"Hello, Logs\")\n",
    "\n",
    "schedule.every().second.do(job)\n",
    "\n",
    "schedule.run_all()\n",
    "\n",
    "schedule.clear()"
   ]
  },
  {
   "cell_type": "markdown",
   "id": "f414950d",
   "metadata": {},
   "source": [
    "### Example 2"
   ]
  },
  {
   "cell_type": "code",
   "execution_count": null,
   "id": "b529b2c3",
   "metadata": {},
   "outputs": [],
   "source": [
    "import functools\n",
    "import time\n",
    "import schedule\n",
    "\n",
    "# This decorator can be applied to any job function to log the elapsed time of each job\n",
    "def print_elapsed_time(func):\n",
    "    @functools.wraps(func)\n",
    "    def wrapper(*args, **kwargs):\n",
    "        start_timestamp = time.time()\n",
    "        print('LOG: Running job \"%s\"' % func.__name__)\n",
    "        result = func(*args, **kwargs)\n",
    "        print('LOG: Job \"%s\" completed in %d seconds' % (func.__name__, time.time() - start_timestamp))\n",
    "        return result\n",
    "\n",
    "    return wrapper\n",
    "\n",
    "\n",
    "@print_elapsed_time\n",
    "def job():\n",
    "    print('Hello, Logs')\n",
    "    time.sleep(5)\n",
    "\n",
    "schedule.every().second.do(job)\n",
    "\n",
    "schedule.run_all()"
   ]
  },
  {
   "cell_type": "code",
   "execution_count": null,
   "id": "6c4d8033",
   "metadata": {},
   "outputs": [],
   "source": []
  },
  {
   "cell_type": "markdown",
   "id": "25dbf522",
   "metadata": {},
   "source": [
    "# Useful commands"
   ]
  },
  {
   "cell_type": "markdown",
   "id": "fe72763e",
   "metadata": {},
   "source": [
    "Turn log file into a list of strings"
   ]
  },
  {
   "cell_type": "code",
   "execution_count": null,
   "id": "3325523d",
   "metadata": {},
   "outputs": [],
   "source": [
    "with open(\"iot.log\") as file:\n",
    "    lines = file.readlines()\n",
    "    lines = [line.rstrip() for line in lines]"
   ]
  },
  {
   "cell_type": "code",
   "execution_count": null,
   "id": "1e12514a",
   "metadata": {},
   "outputs": [],
   "source": []
  },
  {
   "cell_type": "code",
   "execution_count": null,
   "id": "72c3884a",
   "metadata": {},
   "outputs": [],
   "source": []
  },
  {
   "cell_type": "markdown",
   "id": "3ab98c59",
   "metadata": {},
   "source": [
    "## <font color=\"brown\">Playground"
   ]
  },
  {
   "cell_type": "markdown",
   "id": "6962a742",
   "metadata": {},
   "source": [
    "## Try 2"
   ]
  },
  {
   "cell_type": "code",
   "execution_count": null,
   "id": "78714c66",
   "metadata": {},
   "outputs": [],
   "source": [
    "import logging\n",
    "import schedule\n",
    "import time"
   ]
  },
  {
   "cell_type": "code",
   "execution_count": null,
   "id": "68a24573",
   "metadata": {},
   "outputs": [],
   "source": [
    "\n",
    "# Set up Log\n",
    "logging.basicConfig(level=logging.DEBUG, filename='all.log', filemode='w', format='%(asctime)s - %(message)s')\n",
    "logger = logging.getLogger('schedule')\n",
    "logger.setLevel(level=logging.DEBUG)\n",
    "f_handler = logging.FileHandler('iot.log')\n",
    "formatter = logging.Formatter(\"%(asctime)s - %(message)s\", \"%Y-%m-%d %H:%M:%S\") # %(levelname)s\n",
    "f_handler.setFormatter(formatter)\n",
    "logger.addHandler(f_handler)\n",
    "\n",
    "\n",
    "\n",
    "def job():\n",
    "    print(\"Hello, Logs\")\n",
    "\n",
    "schedule.every().second.do(job)\n",
    "time.sleep(1.5)\n",
    "schedule.run_pending()\n",
    "logger.debug(\"This is my own message\")\n",
    "\n"
   ]
  },
  {
   "cell_type": "code",
   "execution_count": null,
   "id": "08accbc6",
   "metadata": {},
   "outputs": [],
   "source": [
    "schedule.get_jobs()"
   ]
  },
  {
   "cell_type": "code",
   "execution_count": null,
   "id": "ada396f3",
   "metadata": {},
   "outputs": [],
   "source": [
    "logging.debug(\"this is wrong\")"
   ]
  },
  {
   "cell_type": "code",
   "execution_count": null,
   "id": "86d77e6a",
   "metadata": {},
   "outputs": [],
   "source": []
  },
  {
   "cell_type": "code",
   "execution_count": null,
   "id": "07b95a54",
   "metadata": {},
   "outputs": [],
   "source": []
  },
  {
   "cell_type": "markdown",
   "id": "141b5697",
   "metadata": {},
   "source": [
    "## Try 1"
   ]
  },
  {
   "cell_type": "code",
   "execution_count": null,
   "id": "95a16671",
   "metadata": {},
   "outputs": [],
   "source": [
    "import logging\n",
    "logging.basicConfig(level=logging.DEBUG, filename='app.log', filemode='w', format='%(asctime)s - %(message)s')\n"
   ]
  },
  {
   "cell_type": "code",
   "execution_count": null,
   "id": "15f1ffb5",
   "metadata": {},
   "outputs": [],
   "source": [
    "logging.warning('This will get logged to a file')"
   ]
  },
  {
   "cell_type": "code",
   "execution_count": null,
   "id": "09214a43",
   "metadata": {},
   "outputs": [],
   "source": []
  },
  {
   "cell_type": "code",
   "execution_count": null,
   "id": "fe1835ee",
   "metadata": {},
   "outputs": [],
   "source": [
    "import schedule\n",
    "import logging\n",
    "import time\n",
    "\n",
    "logging.basicConfig(level=logging.DEBUG, filename='iot.log', filemode='w', format='%(asctime)s - %(message)s')\n",
    "schedule_logger = logging.getLogger('schedule')\n",
    "schedule_logger.setLevel(level=logging.DEBUG)\n",
    "\n",
    "def job():\n",
    "    print(\"Hello, Logs\")\n",
    "\n",
    "schedule.every().second.do(job)\n",
    "time.sleep(1.5)\n",
    "schedule.run_pending()\n",
    "\n",
    "\n",
    "#schedule.run_all()\n",
    "\n",
    "#schedule.clear()\n",
    "\n",
    "logging.debug(\"This is my own message\")"
   ]
  },
  {
   "cell_type": "code",
   "execution_count": null,
   "id": "02eff40c",
   "metadata": {},
   "outputs": [],
   "source": []
  },
  {
   "cell_type": "code",
   "execution_count": null,
   "id": "60284201",
   "metadata": {},
   "outputs": [],
   "source": [
    "logging.info"
   ]
  },
  {
   "cell_type": "code",
   "execution_count": null,
   "id": "a909be68",
   "metadata": {},
   "outputs": [],
   "source": []
  },
  {
   "cell_type": "code",
   "execution_count": null,
   "id": "d6ed7c29",
   "metadata": {},
   "outputs": [],
   "source": [
    "lines"
   ]
  },
  {
   "cell_type": "markdown",
   "id": "6a47428c",
   "metadata": {
    "heading_collapsed": true
   },
   "source": [
    "# Logger or IoT Commands"
   ]
  },
  {
   "cell_type": "code",
   "execution_count": null,
   "id": "5c7b8b16",
   "metadata": {
    "hidden": true
   },
   "outputs": [],
   "source": []
  },
  {
   "cell_type": "code",
   "execution_count": null,
   "id": "3ec4d449",
   "metadata": {
    "hidden": true
   },
   "outputs": [],
   "source": []
  },
  {
   "cell_type": "code",
   "execution_count": null,
   "id": "c96b7af8",
   "metadata": {
    "hidden": true
   },
   "outputs": [],
   "source": []
  },
  {
   "cell_type": "markdown",
   "id": "3182c972",
   "metadata": {
    "heading_collapsed": true
   },
   "source": [
    "# Combining Logs"
   ]
  },
  {
   "cell_type": "code",
   "execution_count": null,
   "id": "0bbcd522",
   "metadata": {
    "hidden": true
   },
   "outputs": [],
   "source": []
  },
  {
   "cell_type": "code",
   "execution_count": null,
   "id": "5d443956",
   "metadata": {
    "hidden": true
   },
   "outputs": [],
   "source": []
  },
  {
   "cell_type": "code",
   "execution_count": null,
   "id": "3bc34ab7",
   "metadata": {
    "hidden": true
   },
   "outputs": [],
   "source": []
  },
  {
   "cell_type": "markdown",
   "id": "62542f9d",
   "metadata": {
    "heading_collapsed": true
   },
   "source": [
    "# Upload Logs"
   ]
  },
  {
   "cell_type": "code",
   "execution_count": null,
   "id": "bc332ed2",
   "metadata": {
    "hidden": true
   },
   "outputs": [],
   "source": []
  },
  {
   "cell_type": "code",
   "execution_count": null,
   "id": "5a6abbc8",
   "metadata": {
    "hidden": true
   },
   "outputs": [],
   "source": []
  },
  {
   "cell_type": "code",
   "execution_count": null,
   "id": "9b26cc34",
   "metadata": {
    "hidden": true
   },
   "outputs": [],
   "source": []
  },
  {
   "cell_type": "markdown",
   "id": "3d1cbddd",
   "metadata": {
    "heading_collapsed": true
   },
   "source": [
    "# <font color=\"brown\"> Playground"
   ]
  },
  {
   "cell_type": "code",
   "execution_count": null,
   "id": "688e570c",
   "metadata": {
    "hidden": true
   },
   "outputs": [],
   "source": []
  },
  {
   "cell_type": "code",
   "execution_count": null,
   "id": "f27b1e2c",
   "metadata": {
    "hidden": true
   },
   "outputs": [],
   "source": []
  },
  {
   "cell_type": "code",
   "execution_count": null,
   "id": "cef16ac0",
   "metadata": {
    "hidden": true
   },
   "outputs": [],
   "source": []
  }
 ],
 "metadata": {
  "hide_input": false,
  "kernelspec": {
   "display_name": "Python 3",
   "language": "python",
   "name": "python3"
  },
  "language_info": {
   "codemirror_mode": {
    "name": "ipython",
    "version": 3
   },
   "file_extension": ".py",
   "mimetype": "text/x-python",
   "name": "python",
   "nbconvert_exporter": "python",
   "pygments_lexer": "ipython3",
   "version": "3.8.8"
  },
  "toc": {
   "base_numbering": 1,
   "nav_menu": {},
   "number_sections": true,
   "sideBar": true,
   "skip_h1_title": false,
   "title_cell": "Table of Contents",
   "title_sidebar": "Contents",
   "toc_cell": false,
   "toc_position": {},
   "toc_section_display": true,
   "toc_window_display": false
  }
 },
 "nbformat": 4,
 "nbformat_minor": 5
}
