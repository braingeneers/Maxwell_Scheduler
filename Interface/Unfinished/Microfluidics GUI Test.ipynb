{
 "cells": [
  {
   "cell_type": "markdown",
   "id": "44cee88b",
   "metadata": {},
   "source": [
    "<font color=\"fuchsia\" size=7>Microfluidics GUI"
   ]
  },
  {
   "cell_type": "markdown",
   "id": "ced43c00",
   "metadata": {},
   "source": [
    "We are trying to build a GUI to control Spencer's microfluidics device. This app should display a 2D grid of 24 well plate that the user can click to select a well. The GUI should be built using HTML canvas, selection should occure in javascript, selected wells should then appear in a python code. "
   ]
  },
  {
   "cell_type": "markdown",
   "id": "2a1b64f4",
   "metadata": {},
   "source": [
    "**References**\n",
    "* [Javascript -> Python](https://stackoverflow.com/questions/37172978/how-to-pass-variables-from-javascript-to-python-in-jupyter)\n",
    "* [HTML Canvas Tutorial](https://www.w3schools.com/html/html5_canvas.asp)\n",
    "* [Canvas Mouse Clicks](https://stackoverflow.com/questions/24384368/simple-button-in-html5-canvas/24384882)"
   ]
  },
  {
   "cell_type": "markdown",
   "id": "3e6378c0",
   "metadata": {
    "heading_collapsed": true
   },
   "source": [
    "# <font color=\"gray\"> Set Up Notebook"
   ]
  },
  {
   "cell_type": "markdown",
   "id": "ff167352",
   "metadata": {
    "hidden": true
   },
   "source": [
    "Import libraries"
   ]
  },
  {
   "cell_type": "code",
   "execution_count": null,
   "id": "5a1f5828",
   "metadata": {
    "hidden": true
   },
   "outputs": [],
   "source": [
    "#from ipywidgets import interact          # Package for building GUI\n",
    "import ipywidgets as ipw\n",
    "from IPython.display import HTML, display, Javascript, clear_output"
   ]
  },
  {
   "cell_type": "markdown",
   "id": "bf0dda9c",
   "metadata": {
    "heading_collapsed": true
   },
   "source": [
    "# Create Gui Canvas"
   ]
  },
  {
   "cell_type": "markdown",
   "id": "6953b043",
   "metadata": {
    "heading_collapsed": true,
    "hidden": true
   },
   "source": [
    "## Choose number of wells for experiment"
   ]
  },
  {
   "cell_type": "code",
   "execution_count": 164,
   "id": "93bc4c35",
   "metadata": {
    "hidden": true
   },
   "outputs": [
    {
     "data": {
      "application/javascript": [
       "num_wells = 24"
      ],
      "text/plain": [
       "<IPython.core.display.Javascript object>"
      ]
     },
     "metadata": {},
     "output_type": "display_data"
    }
   ],
   "source": [
    "display(Javascript(\"num_wells = 24\"))"
   ]
  },
  {
   "cell_type": "code",
   "execution_count": 165,
   "id": "9b9b2bf4",
   "metadata": {
    "hidden": true
   },
   "outputs": [
    {
     "data": {
      "application/vnd.jupyter.widget-view+json": {
       "model_id": "f5dd44cdc47546bbac63552981096012",
       "version_major": 2,
       "version_minor": 0
      },
      "text/plain": [
       "BoundedIntText(value=24, description='Wells:', max=24, min=1)"
      ]
     },
     "metadata": {},
     "output_type": "display_data"
    }
   ],
   "source": [
    "num_wells = widgets.BoundedIntText( value=24, min=1, max=24, step=1, description='Wells:')\n",
    "num_wells"
   ]
  },
  {
   "cell_type": "markdown",
   "id": "c2b24987",
   "metadata": {
    "hidden": true
   },
   "source": [
    "function saves number of wells to javascript"
   ]
  },
  {
   "cell_type": "code",
   "execution_count": 166,
   "id": "9f550adc",
   "metadata": {
    "hidden": true
   },
   "outputs": [],
   "source": [
    "def setWellsNumber(b):\n",
    "    display(Javascript(f\"num_wells = {num_wells.value}\"))\n",
    "num_wells.observe( setWellsNumber, names=\"value\" )"
   ]
  },
  {
   "cell_type": "markdown",
   "id": "ba94f90c",
   "metadata": {
    "heading_collapsed": true,
    "hidden": true
   },
   "source": [
    "## <font color=\"green\">Create HTML for canvas"
   ]
  },
  {
   "cell_type": "markdown",
   "id": "792970c7",
   "metadata": {
    "hidden": true
   },
   "source": [
    "[Example here](https://github.com/pupster90/mind-reader/blob/master/website/freunds-mind-reader/staticFiles/script/RaceTrack.js) of how to code width and height dynamically."
   ]
  },
  {
   "cell_type": "code",
   "execution_count": 167,
   "id": "5233955c",
   "metadata": {
    "hidden": true
   },
   "outputs": [
    {
     "data": {
      "application/vnd.jupyter.widget-view+json": {
       "model_id": "1e22128a76004e8f97c23fd2bf0d37fe",
       "version_major": 2,
       "version_minor": 0
      },
      "text/plain": [
       "HTML(value='\\n    <div class=\"row\">\\n        <!-- canvas that shows racetrack -->\\n        <div id=\"canvasBox\"…"
      ]
     },
     "metadata": {},
     "output_type": "display_data"
    }
   ],
   "source": [
    "canvas=ipw.HTML(\"\"\"\n",
    "    <div class=\"row\">\n",
    "        <!-- canvas that shows racetrack -->\n",
    "        <div id=\"canvasBox\" class=\"col-xs-12 col-md-offset-2 col-md-8\">\n",
    "            <canvas  id=\"myCanvas\" width=\"950\"height=\"500\" style=\" width:100%; height:auto;border:1px solid #000000;\"></canvas>\n",
    "        </div>\n",
    "    </div>\n",
    "\"\"\")\n",
    "canvas"
   ]
  },
  {
   "cell_type": "markdown",
   "id": "12c2dc93",
   "metadata": {
    "heading_collapsed": true,
    "hidden": true
   },
   "source": [
    "## <font color=\"orange\">Initialize Canvas "
   ]
  },
  {
   "cell_type": "markdown",
   "id": "e75cd609",
   "metadata": {
    "hidden": true
   },
   "source": [
    "Get x's and y's for circles"
   ]
  },
  {
   "cell_type": "code",
   "execution_count": 168,
   "id": "78b6d103",
   "metadata": {
    "hidden": true
   },
   "outputs": [
    {
     "data": {
      "text/html": [
       "<script>\n",
       "var canvas = document.getElementById(\"myCanvas\");  // create elements for drawing on canvas\n",
       "var ctx = canvas.getContext(\"2d\");                 // Create array of circle center points to represent wells\n",
       "var circles = [ [100,75],[250,75],[400,75],[550,75],[700,75],[850,75],[100,195],[250,195],[400,195],[550,195],[700,195],[850,195],\n",
       "                [100,315],[250,315],[400,315],[550,315],[700,315],[850,315],[100,435],[250,435],[400,435],[550,435],[700,435],[850,435] ]\n",
       "circles = circles.slice( 0, num_wells )\n",
       "\n",
       "for(let i = 0; i < circles.length; i++){          // for each well, draw a circle on the canvas\n",
       "    ctx.beginPath();\n",
       "    ctx.arc( circles[i][0], circles[i][1], 50, 0, 2 * Math.PI);\n",
       "    ctx.stroke();\n",
       "}\n",
       "\n",
       "function colorWell( x, y, color ){                // Helper function creates circles with filled in color\n",
       "    ctx.fillStyle = color;                    \n",
       "    ctx.beginPath();\n",
       "    ctx.arc( x, y, 49, 0, Math.PI * 2, true);\n",
       "    ctx.closePath();\n",
       "    ctx.fill();       \n",
       "}\n",
       "\n",
       "var my_well= 0;                                   // Set the first well as teh selected well\n",
       "colorWell( 100, 75, \"#c82124\" );\n",
       "</script>"
      ],
      "text/plain": [
       "<IPython.core.display.HTML object>"
      ]
     },
     "execution_count": 168,
     "metadata": {},
     "output_type": "execute_result"
    }
   ],
   "source": [
    "HTML(\"\"\"<script>\n",
    "var canvas = document.getElementById(\"myCanvas\");  // create elements for drawing on canvas\n",
    "var ctx = canvas.getContext(\"2d\");                 // Create array of circle center points to represent wells\n",
    "var circles = [ [100,75],[250,75],[400,75],[550,75],[700,75],[850,75],[100,195],[250,195],[400,195],[550,195],[700,195],[850,195],\n",
    "                [100,315],[250,315],[400,315],[550,315],[700,315],[850,315],[100,435],[250,435],[400,435],[550,435],[700,435],[850,435] ]\n",
    "circles = circles.slice( 0, num_wells )\n",
    "\n",
    "for(let i = 0; i < circles.length; i++){          // for each well, draw a circle on the canvas\n",
    "    ctx.beginPath();\n",
    "    ctx.arc( circles[i][0], circles[i][1], 50, 0, 2 * Math.PI);\n",
    "    ctx.stroke();\n",
    "}\n",
    "\n",
    "function colorWell( x, y, color ){                // Helper function creates circles with filled in color\n",
    "    ctx.fillStyle = color;                    \n",
    "    ctx.beginPath();\n",
    "    ctx.arc( x, y, 49, 0, Math.PI * 2, true);\n",
    "    ctx.closePath();\n",
    "    ctx.fill();       \n",
    "}\n",
    "\n",
    "var my_well= 0;                                   // Set the first well as teh selected well\n",
    "colorWell( 100, 75, \"#c82124\" );\n",
    "</script>\"\"\")"
   ]
  },
  {
   "cell_type": "code",
   "execution_count": 169,
   "id": "18cc98ac",
   "metadata": {
    "hidden": true
   },
   "outputs": [],
   "source": [
    "my_well= 0 # Make selected well in python same as javascript"
   ]
  },
  {
   "cell_type": "markdown",
   "id": "bfdb83bb",
   "metadata": {
    "heading_collapsed": true,
    "hidden": true
   },
   "source": [
    "## <font color=\"orange\"> Canvas Updater"
   ]
  },
  {
   "cell_type": "code",
   "execution_count": 170,
   "id": "dcd3cc49",
   "metadata": {
    "hidden": true
   },
   "outputs": [
    {
     "data": {
      "text/html": [
       "<script>\n",
       "canvas.addEventListener('click', function(event){                           // Create a function that runs every time the user clicks the canvas\n",
       "    var adjust = canvas.getBoundingClientRect();                            // Get the x,y positions of the where the user clicked the canvas\n",
       "    x= event.clientX - adjust.left;\n",
       "    y= event.clientY - adjust.top;\n",
       "\n",
       "    for(let i = 0; i < circles.length; i++) {                               // for each circle in our circles list\n",
       "        circ_x=circles[i][0]; circ_y=circles[i][1];                         //If x,y is inside the circle's region\n",
       "        if(  x < circ_x+50 && x > circ_x-50 && y < circ_y+50 && y > circ_y-50  ){  \n",
       "\n",
       "            colorWell( circles[my_well][0], circles[my_well][1], \"#fff\" );  // Make previously selected well white  \n",
       "            colorWell( circ_x, circ_y, \"#c82124\" );                         // Make currently selected well red  \n",
       "            my_well = i;                                                    // Set my_well to current well\n",
       "            // TO DO: Write code that set's some python variable here as well\n",
       "        }      \n",
       "    }      //alert([x,y]) // How to print message for debugging mouseclicks\n",
       "}, false);\n",
       "</script>"
      ],
      "text/plain": [
       "<IPython.core.display.HTML object>"
      ]
     },
     "execution_count": 170,
     "metadata": {},
     "output_type": "execute_result"
    }
   ],
   "source": [
    "HTML(\"\"\"<script>\n",
    "canvas.addEventListener('click', function(event){                           // Create a function that runs every time the user clicks the canvas\n",
    "    var adjust = canvas.getBoundingClientRect();                            // Get the x,y positions of the where the user clicked the canvas\n",
    "    x= event.clientX - adjust.left;\n",
    "    y= event.clientY - adjust.top;\n",
    "\n",
    "    for(let i = 0; i < circles.length; i++) {                               // for each circle in our circles list\n",
    "        circ_x=circles[i][0]; circ_y=circles[i][1];                         //If x,y is inside the circle's region\n",
    "        if(  x < circ_x+50 && x > circ_x-50 && y < circ_y+50 && y > circ_y-50  ){  \n",
    "\n",
    "            colorWell( circles[my_well][0], circles[my_well][1], \"#fff\" );  // Make previously selected well white  \n",
    "            colorWell( circ_x, circ_y, \"#c82124\" );                         // Make currently selected well red  \n",
    "            my_well = i;                                                    // Set my_well to current well\n",
    "            // TO DO: Write code that set's some python variable here as well\n",
    "        }      \n",
    "    }      //alert([x,y]) // How to print message for debugging mouseclicks\n",
    "}, false);\n",
    "</script>\"\"\")"
   ]
  },
  {
   "cell_type": "markdown",
   "id": "7bd3e139",
   "metadata": {
    "heading_collapsed": true
   },
   "source": [
    "# <font color=\"brown\">Scratch Paper"
   ]
  },
  {
   "cell_type": "markdown",
   "id": "94238b80",
   "metadata": {
    "heading_collapsed": true,
    "hidden": true
   },
   "source": [
    "## <font color=\"brown\">Different Plates Widget"
   ]
  },
  {
   "cell_type": "raw",
   "id": "71ea3cd0",
   "metadata": {
    "hidden": true
   },
   "source": [
    "tab_contents = ['P0', 'P1']\n",
    "tab = ipw.Tab( children=[canvas, canvas], titles=[\"Plate 1\", \"Plate 2\"] )\n",
    "tab.set_title(0,\"Plate 1\")\n",
    "tab.set_title(1,\"Plate 2\")\n",
    "#tab.titles = \n",
    "tab"
   ]
  },
  {
   "cell_type": "markdown",
   "id": "5c195256",
   "metadata": {
    "heading_collapsed": true,
    "hidden": true
   },
   "source": [
    "## Button for Iot"
   ]
  },
  {
   "cell_type": "code",
   "execution_count": null,
   "id": "3c183912",
   "metadata": {
    "hidden": true
   },
   "outputs": [],
   "source": [
    "import ipywidgets as widgets"
   ]
  },
  {
   "cell_type": "code",
   "execution_count": null,
   "id": "51cd7e46",
   "metadata": {
    "hidden": true
   },
   "outputs": [],
   "source": [
    "iot_button = widgets.Button(description=\"Add Liquid\")"
   ]
  },
  {
   "cell_type": "code",
   "execution_count": null,
   "id": "b4da0eac",
   "metadata": {
    "hidden": true
   },
   "outputs": [],
   "source": [
    "iot_button"
   ]
  },
  {
   "cell_type": "code",
   "execution_count": null,
   "id": "66ab6936",
   "metadata": {
    "hidden": true
   },
   "outputs": [],
   "source": [
    "def myFunc(b):\n",
    "    print(\"adding liquid to well: \"+str(selected_well))\n",
    "\n",
    "iot_button.on_click(myFunc)"
   ]
  },
  {
   "cell_type": "markdown",
   "id": "ee4f0f2c",
   "metadata": {
    "heading_collapsed": true
   },
   "source": [
    "# <font color=\"brown\">Scratch Paper - Javascript Examples"
   ]
  },
  {
   "cell_type": "markdown",
   "id": "212d8b8b",
   "metadata": {
    "heading_collapsed": true,
    "hidden": true
   },
   "source": [
    "## <font color=\"brown\">Mouse Clicks"
   ]
  },
  {
   "cell_type": "markdown",
   "id": "30c4796e",
   "metadata": {
    "hidden": true
   },
   "source": [
    "Controls what happens when mouse clicks canvas"
   ]
  },
  {
   "cell_type": "markdown",
   "id": "2afc8ce2",
   "metadata": {
    "hidden": true
   },
   "source": [
    "Solution taken [from here](https://stackoverflow.com/questions/24384368/simple-button-in-html5-canvas/24384882)"
   ]
  },
  {
   "cell_type": "raw",
   "id": "b2514183",
   "metadata": {
    "hidden": true
   },
   "source": [
    "%%javascript\n",
    "//Function to get the mouse position\n",
    "function getMousePos(canvas, event) {\n",
    "    var rect = canvas.getBoundingClientRect();\n",
    "    return {\n",
    "        x: event.clientX - rect.left,\n",
    "        y: event.clientY - rect.top\n",
    "    };\n",
    "}\n",
    "\n",
    "canvas.addEventListener('click', function(evt) {\n",
    "    var mousePos = getMousePos(canvas, evt);\n",
    " \n",
    "    alert([ mousePos.x, mousePos.y ])\n",
    "}, false);"
   ]
  },
  {
   "cell_type": "markdown",
   "id": "d2154f61",
   "metadata": {
    "heading_collapsed": true,
    "hidden": true
   },
   "source": [
    "## <font color=\"brown\"> Draw Circle"
   ]
  },
  {
   "cell_type": "markdown",
   "id": "1c526e13",
   "metadata": {
    "hidden": true
   },
   "source": [
    "[How to draw circles](https://www.w3schools.com/tags/canvas_arc.asp)"
   ]
  },
  {
   "cell_type": "raw",
   "id": "e6fdf1b2",
   "metadata": {
    "hidden": true
   },
   "source": [
    "%%javascript\n",
    "var c = document.getElementById(\"myCanvas\");\n",
    "var ctx = c.getContext(\"2d\");\n",
    "ctx.beginPath();\n",
    "ctx.arc(250, 75, 50, 0, 2 * Math.PI);\n",
    "ctx.stroke();"
   ]
  },
  {
   "cell_type": "markdown",
   "id": "0f9fec21",
   "metadata": {
    "heading_collapsed": true,
    "hidden": true
   },
   "source": [
    "## <font color=\"brown\">Fill a Circle"
   ]
  },
  {
   "cell_type": "raw",
   "id": "3203b548",
   "metadata": {
    "hidden": true
   },
   "source": [
    "Javascript(\"\"\"\n",
    "    var c = document.getElementById(\"myCanvas\");\n",
    "    var ctx = c.getContext(\"2d\");\n",
    "    ctx.fillStyle = \"#c82124\"; //red\n",
    "    ctx.beginPath();\n",
    "    ctx.arc(100, 75, 50, 0, Math.PI * 2, true);\n",
    "    ctx.closePath();\n",
    "    ctx.fill();\n",
    "\"\"\")"
   ]
  },
  {
   "cell_type": "markdown",
   "id": "f99be512",
   "metadata": {
    "heading_collapsed": true,
    "hidden": true
   },
   "source": [
    "## <font color=\"brown\">Add Square Canvas"
   ]
  },
  {
   "cell_type": "markdown",
   "id": "7de55909",
   "metadata": {
    "hidden": true
   },
   "source": [
    "Solution taken [from here](https://www.w3schools.com/html/html5_canvas.asp)"
   ]
  },
  {
   "cell_type": "raw",
   "id": "a2a1c4be",
   "metadata": {
    "hidden": true
   },
   "source": [
    "%%javascript\n",
    "var c = document.getElementById(\"myCanvas\");\n",
    "var ctx = c.getContext(\"2d\");\n",
    "ctx.beginPath();\n",
    "ctx.rect(1, 1, 990, 490);\n",
    "ctx.stroke();"
   ]
  },
  {
   "cell_type": "markdown",
   "id": "fe0e07c8",
   "metadata": {
    "heading_collapsed": true,
    "hidden": true
   },
   "source": [
    "## <font color=\"brown\">Add Object to Python"
   ]
  },
  {
   "cell_type": "markdown",
   "id": "6c7f06e8",
   "metadata": {
    "hidden": true
   },
   "source": [
    "Solution taken [from here](https://stackoverflow.com/questions/37172978/how-to-pass-variables-from-javascript-to-python-in-jupyter)"
   ]
  },
  {
   "cell_type": "raw",
   "id": "39213016",
   "metadata": {
    "hidden": true
   },
   "source": [
    "%%javascript\n",
    "IPython.notebook.kernel.execute(\"selected_well=3\")"
   ]
  },
  {
   "cell_type": "raw",
   "id": "6b80e25b",
   "metadata": {
    "hidden": true
   },
   "source": [
    "selected_well"
   ]
  }
 ],
 "metadata": {
  "hide_input": false,
  "kernelspec": {
   "display_name": "Python 3",
   "language": "python",
   "name": "python3"
  },
  "language_info": {
   "codemirror_mode": {
    "name": "ipython",
    "version": 3
   },
   "file_extension": ".py",
   "mimetype": "text/x-python",
   "name": "python",
   "nbconvert_exporter": "python",
   "pygments_lexer": "ipython3",
   "version": "3.8.8"
  },
  "toc": {
   "base_numbering": 1,
   "nav_menu": {},
   "number_sections": true,
   "sideBar": true,
   "skip_h1_title": false,
   "title_cell": "Table of Contents",
   "title_sidebar": "Contents",
   "toc_cell": false,
   "toc_position": {},
   "toc_section_display": true,
   "toc_window_display": false
  },
  "widgets": {
   "application/vnd.jupyter.widget-state+json": {
    "state": {
     "00aa5720897343fb8ddb08d3882c4eed": {
      "model_module": "@jupyter-widgets/base",
      "model_module_version": "1.2.0",
      "model_name": "LayoutModel",
      "state": {}
     },
     "575f8c5c6a354b4fb8065b2d0353798d": {
      "model_module": "@jupyter-widgets/controls",
      "model_module_version": "1.5.0",
      "model_name": "HTMLModel",
      "state": {
       "layout": "IPY_MODEL_d064e3c81d4e477eb2598b91690e82a9",
       "style": "IPY_MODEL_7ddb22a542a24482b71ede0bba8664e9",
       "value": "\n    <div class=\"row\">\n        <!-- canvas that shows racetrack -->\n        <div id=\"canvasBox\" class=\"col-xs-12 col-md-offset-2 col-md-8\">\n            <canvas  id=\"myCanvas\" width=\"950\"height=\"500\" style=\" width:100%; height:auto;border:1px solid #000000;\"></canvas>\n        </div>\n    </div>\n"
      }
     },
     "7ddb22a542a24482b71ede0bba8664e9": {
      "model_module": "@jupyter-widgets/controls",
      "model_module_version": "1.5.0",
      "model_name": "DescriptionStyleModel",
      "state": {
       "description_width": ""
      }
     },
     "86ece6ce20ea47ca82571a8033e89dc4": {
      "model_module": "@jupyter-widgets/controls",
      "model_module_version": "1.5.0",
      "model_name": "DescriptionStyleModel",
      "state": {
       "description_width": ""
      }
     },
     "d064e3c81d4e477eb2598b91690e82a9": {
      "model_module": "@jupyter-widgets/base",
      "model_module_version": "1.2.0",
      "model_name": "LayoutModel",
      "state": {}
     },
     "fc28685b797d4125bf7d5de07d032ae0": {
      "model_module": "@jupyter-widgets/controls",
      "model_module_version": "1.5.0",
      "model_name": "HTMLModel",
      "state": {
       "layout": "IPY_MODEL_00aa5720897343fb8ddb08d3882c4eed",
       "style": "IPY_MODEL_86ece6ce20ea47ca82571a8033e89dc4",
       "value": "\n    <div class=\"row\">\n        <!-- canvas that shows racetrack -->\n        <div id=\"canvasBox\" class=\"col-xs-12 col-md-offset-2 col-md-8\">\n            <canvas  id=\"myCanvas\" width=\"950\"height=\"500\" style=\" width:100%; height:auto;border:1px solid #000000;\"></canvas>\n        </div>\n    </div>\n"
      }
     }
    },
    "version_major": 2,
    "version_minor": 0
   }
  }
 },
 "nbformat": 4,
 "nbformat_minor": 5
}
