{
 "cells": [
  {
   "cell_type": "markdown",
   "id": "93257262",
   "metadata": {},
   "source": [
    "<font size=7> Easy IoT Functions"
   ]
  },
  {
   "cell_type": "markdown",
   "id": "d32d111b",
   "metadata": {},
   "source": [
    "These are functions that I imagine could be added to the [braingeneerspy.iot](https://github.com/braingeneers/braingeneerspy/blob/master/braingeneers/iot/messaging.py) package. The purpose is to make using IoT as easy as possible for simple use cases. Note, `schedule` and `time` packages would also have to be added to `braingeneerspy`. "
   ]
  },
  {
   "cell_type": "markdown",
   "id": "47f51ab7",
   "metadata": {
    "heading_collapsed": true
   },
   "source": [
    "# <font color=\"gray\">Summary"
   ]
  },
  {
   "cell_type": "markdown",
   "id": "97bc119a",
   "metadata": {
    "hidden": true
   },
   "source": [
    "**Device**\n",
    "- `import braingeneers.iot as *` - user only needs to import one thing. Would they still have to import schedule on `.py`?\n",
    "- `import schedule`\n",
    "- `start_iot( device_name, device_type, experiment)` - a single command is added to the bottom of user's `.py` file\n",
    "- `_updateIot` - a helper function used by `start`. It updates the schedule/status info on the public IoT state\n",
    "- `ready_iot` - Used to properly run the `start_iot` function inside of the users `.py` file. See the example device `.py`"
   ]
  },
  {
   "cell_type": "markdown",
   "id": "53c7cfac",
   "metadata": {
    "hidden": true
   },
   "source": [
    "**Interface- send commands**\n",
    "- `import braingeneers.iot as *`\n",
    "- `send( device_name, command)` - Sends python script that executed by the listening device."
   ]
  },
  {
   "cell_type": "markdown",
   "id": "f2678ed0",
   "metadata": {
    "hidden": true
   },
   "source": [
    "**Interface- get data**\n",
    "- `get_schedule( device_name/experiment )` - Gets scheduled commands for a device(s) in a human readable format. I plan to add graphs.\n",
    "- `get_status`"
   ]
  },
  {
   "cell_type": "markdown",
   "id": "15991437",
   "metadata": {
    "hidden": true
   },
   "source": [
    "**Interface- change status of device**\n",
    "- `shutdown( device_name )` - Stops while loop that runs on listening device. User must us `messaging` to actually delete device. \n",
    "- `pause` and `run` - pauses and resumes activity on device. Imagine real world scenario where biologist briefly pauses so they can move organoids."
   ]
  },
  {
   "cell_type": "markdown",
   "id": "81457ffc",
   "metadata": {
    "hidden": true
   },
   "source": [
    "<font color=\"orange\">\n",
    "\n",
    "**Note:** For now, I left out the data and logging stuff. Both of these things seem device specific. I might add functions for them later. \n",
    "    \n",
    "    \n",
    "**Limitations:** Commands running at around 1 second or faster might \"skip\" tasks. This is because the `while` loop's command `mb.get_device_state` can take up to 1 second. (verified this)"
   ]
  },
  {
   "cell_type": "markdown",
   "id": "75457338",
   "metadata": {
    "hidden": true
   },
   "source": [
    "**Reference**\n",
    "\n",
    "* Create Weekly Schedule from Jobs\n",
    "    * [weekly schedule on github](https://github.com/utkuufuk/weekplot)- has this [source code](https://github.com/utkuufuk/weekplot/blob/master/weekplot.py). Looks like good starter code.\n",
    "    * When creating list of future runs for a job consider lines 715/716 in [this code](https://github.com/dbader/schedule/blob/master/schedule/__init__.py)\n",
    "* Gettin multiple scheduels by experiment \n",
    "    * [update indexing](https://docs.aws.amazon.com/iot/latest/developerguide/managing-index.html)\n",
    "    * [indexing examples](https://docs.aws.amazon.com/iot/latest/developerguide/example-queries.html)\n",
    "    * [mqtt wildcards](https://www.hivemq.com/blog/mqtt-essentials-part-5-mqtt-topics-best-practices/)\n",
    "* using Regex to check experiment name\n",
    "    * [website](https://regex101.com/r/DyikiF/1) for testing\n",
    "    * command david said to use: `\\d{4}-\\d{2}-\\d{2}-[eficpx]-.*`\n",
    "    * [w3 schools regex](https://www.w3schools.com/python/python_regex.asp)\n",
    "* [builtins explained here](https://stackoverflow.com/questions/15959534/visibility-of-global-variables-in-imported-modules)"
   ]
  },
  {
   "cell_type": "markdown",
   "id": "da53f384",
   "metadata": {
    "hidden": true
   },
   "source": [
    "<font color=\"red\">\n",
    "\n",
    "**To Do**\n",
    "* as a security feature, add command checking\n",
    "* figure out topic/device hierarchy and what variables user must type in functions.\n",
    "* Add `get_schedule` functionality for all devices of same experiment\n",
    "* add assertion statements to run/pause/shutdown functions\n",
    "* ?add device type as parameter to commands? with this we can follow iot format, but add additional typing for user.\n",
    "* ?figure out what to do when devices restarts?"
   ]
  },
  {
   "cell_type": "markdown",
   "id": "e4a2e174",
   "metadata": {
    "hidden": true
   },
   "source": [
    "<font color=\"red\">\n",
    "\n",
    "**Questions**\n",
    "* Is state listener code done? I could use that in `start` function instead of `get_device_state`. Is that better?\n",
    "* I'm implicitly assuming device names are unique across device types (topic==device_name). Is that acceptable?\n",
    "* is there a more appropriate way to set up the device name/ topic? Where are topics on AWS website?\n",
    "* should I used `test/` or some other iot hierarchy? This requires I add `device_type` to all functions\n",
    "* what should we do if device restarts? Should we even worry about this?\n",
    "* once a user has a `.py` file what is the exact command they should type? ?how to check `.py` is running?"
   ]
  },
  {
   "cell_type": "markdown",
   "id": "3e563e34",
   "metadata": {
    "hidden": true
   },
   "source": [
    "<font color=\"orange\">\n",
    "\n",
    "**Future Work**\n",
    "* Build generalized package for data\n"
   ]
  },
  {
   "cell_type": "code",
   "execution_count": 28,
   "id": "5369b079",
   "metadata": {
    "hidden": true
   },
   "outputs": [],
   "source": [
    "#import braingeneers.iot as iot"
   ]
  },
  {
   "cell_type": "markdown",
   "id": "52d2c164",
   "metadata": {
    "hidden": true
   },
   "source": [
    "**To Do**\n",
    "* Hide warnings\n",
    "* Check experiment uuid is in the correct way\n",
    "* logging\n",
    "* indexes"
   ]
  },
  {
   "cell_type": "markdown",
   "id": "e4616162",
   "metadata": {},
   "source": [
    "# Device Commands"
   ]
  },
  {
   "cell_type": "markdown",
   "id": "039b0bb6",
   "metadata": {
    "heading_collapsed": true
   },
   "source": [
    "## <font color=\"gray\">set up notebook"
   ]
  },
  {
   "cell_type": "code",
   "execution_count": 29,
   "id": "c7d19b72",
   "metadata": {
    "hidden": true
   },
   "outputs": [],
   "source": [
    "from braingeneers.iot import messaging\n",
    "import uuid\n",
    "import schedule\n",
    "import time\n",
    "import warnings\n",
    "import builtins\n",
    "import inspect\n",
    "import logging\n",
    "import traceback"
   ]
  },
  {
   "cell_type": "code",
   "execution_count": 30,
   "id": "7700bc40",
   "metadata": {
    "hidden": true
   },
   "outputs": [],
   "source": [
    "from matplotlib.patches import Patch\n",
    "import matplotlib.pyplot as plt\n",
    "from datetime import date, datetime, timedelta\n",
    "from dateutil import tz"
   ]
  },
  {
   "cell_type": "markdown",
   "id": "3684a264",
   "metadata": {
    "heading_collapsed": true
   },
   "source": [
    "## <font color=\"gray\">Helper: updateIoT"
   ]
  },
  {
   "cell_type": "markdown",
   "id": "004b2f1f",
   "metadata": {
    "hidden": true
   },
   "source": [
    "This helper function updates the pblic state of the IoT device"
   ]
  },
  {
   "cell_type": "code",
   "execution_count": 31,
   "id": "fb5eb05c",
   "metadata": {
    "hidden": true
   },
   "outputs": [],
   "source": [
    "def _updateIot(device_name, mb ):\n",
    "    \"\"\"Updates the IoT device's publicly visible state according to the local schedule/status\"\"\"\n",
    "    # Update schedule\n",
    "    jobs, jobs_str = [],[]\n",
    "    for i,job in enumerate(schedule.get_jobs()):                         # debugging: print(i) #print(job.__str__()) #print(job.__repr__())\n",
    "        jobs.append( job.__str__() )                                     # append python command that wass used to create shceduled job\n",
    "        if job.cancel_after:                                             # if job must be cancelled at a certain time, add cancel time\n",
    "            jobs[i]+= job.cancel_after.astimezone(tz.gettz('US/Pacific')).strftime(\"UNTIL-%Y-%m-%d %H:%M:%S\") \n",
    "            \n",
    "        job_str = f\"Job {i}: \"+job.__repr__()\n",
    "        if job.last_run:                                                                                # if job was previously run\n",
    "            last_time = job.last_run.astimezone(tz.gettz('US/Pacific')).strftime(\"%Y-%m-%d %H:%M:%S\")   # get time of last scheduled event\n",
    "            job_str = job_str.split(\"last run: \")[0]+\"last run: \"+last_time+\", next run: \"\n",
    "        next_time = job.next_run.astimezone(tz.gettz('US/Pacific')).strftime(\"%Y-%m-%d %H:%M:%S)\")      # get time of next scheduled event     \n",
    "        jobs_str.append( job_str.split(\"next run: \")[0]+\"next run: \"+next_time )# append\n",
    "\n",
    "    # Update log\n",
    "    with open(\"iot.log\") as file:                  # Get history of iot commands and scheduel from the file iot.log\n",
    "        lines = file.readlines()\n",
    "        log = [line.rstrip() for line in lines]\n",
    "        if len(log)>35:                            # If iot log is more than 25 lines, get just the last 25 lines\n",
    "            log = log[-35:]    \n",
    "\n",
    "    mb.update_device_state( device_name, {\"status\":iot_status,\"jobs\":jobs,\"schedule\":jobs_str,\"history\":log} )\n"
   ]
  },
  {
   "cell_type": "markdown",
   "id": "3778c88c",
   "metadata": {},
   "source": [
    "## start_iot"
   ]
  },
  {
   "cell_type": "markdown",
   "id": "9e4379df",
   "metadata": {},
   "source": [
    "### <font color=\"green\">with logging print and errors"
   ]
  },
  {
   "cell_type": "code",
   "execution_count": null,
   "id": "6e9c12d7",
   "metadata": {},
   "outputs": [],
   "source": [
    "def start_iot(device_name, device_type, experiment, allowed_commands={\"pump\":{\"args\":[],{\"schedule\":[]}, \"image\":[\"func_1\",\"func_1\"]}):\n",
    "    \"\"\"Create a device and have it start listening for commands. This is intended for simple use cases\"\"\"\n",
    "    # Initialize environment\n",
    "    from braingeneers.iot import messaging; import uuid; import schedule; import time; import warnings; import logging; import traceback #requried packages\n",
    "    global iot_status                                                              # states if iot is running. Other iot functions can change it asynchronously\n",
    "    warnings.filterwarnings(action='once')                                         # stops same warning from appearing more than once\n",
    "    mb = messaging.MessageBroker(str(uuid.uuid4))                                  # spin up iot\n",
    "    \n",
    "    # Set up Logging\n",
    "    open(\"iot.log\", \"w\").close()\n",
    "    logging.basicConfig( level=logging.WARNING ) \n",
    "    logger = logging.getLogger('schedule')\n",
    "    logger.setLevel(level=logging.DEBUG)\n",
    "    f_handler = logging.FileHandler('iot.log')\n",
    "    f_handler.setFormatter( logging.Formatter(\"%(asctime)s - %(message)s\", \"%Y-%m-%d %H:%M:%S %Z\") ) # %(levelname)s\n",
    "    logger.addHandler(f_handler)\n",
    "    global print\n",
    "    print = logger.debug\n",
    "\n",
    "    # Start IoT Device\n",
    "    if device_name not in mb.list_devices_by_type( thingTypeName= device_type):    # check if device already exists\n",
    "        mb.create_device( device_name= device_name, device_type= device_type)      # if not, create it\n",
    "    else:                                                                          # otherwise, check device is ok and isn't still running\n",
    "        assert \"status\" in mb.get_device_state(device_name), f\"{device_name} has corrupted data! Talk to data team.\"\n",
    "        assert mb.get_device_state(device_name)[\"status\"]==\"shutdown\", f\"{device_name} already exists and isn't shutdown. Please shutdown with 'iot.shutdown({device_name})'\"\n",
    "    mb.update_device_state( device_name, {\"experiment\":experiment,\"status\":\"run\",\"jobs\":[],\"schedule\":[],\"history\":[]} ) # initialize iot state\n",
    "    \n",
    "    # Create function for when IoT command is received\n",
    "    def respondToCommand(topic: str, message: dict):                               # build function that runs when device receives command\n",
    "        logger.debug(f\"Run Command: {message['command']}\")\n",
    "        try:\n",
    "            if command in allowed_commands:\n",
    "                if schedule:\n",
    "                    #compose command with scheduler\n",
    "#                     args = allowed_commands[command]\n",
    "#                     new_message = \"schedule(pump\"+str(args[0]... etc)\n",
    "                else:\n",
    "                    #compose command without scheduler\n",
    "#                     args = allowed_commands[command]\n",
    "#                     new_message = \"pump(\"+str(args[0]... etc)                                                                  \n",
    "            # allowed commands\n",
    "            #if allowed_commands[0] in message[\"command\"]:\n",
    "            exec(message[\"command\"])                                                   # run python command that was sent\n",
    "        except Exception as e:\n",
    "            logger.error(\"\\n\"+traceback.format_exc())\n",
    "        _updateIot(device_name, mb )                                               # update iot state, in case schedule/status changed\n",
    "    mb.subscribe_message( f\"devices/+/{device_name}\", respondToCommand )           # start listening for new commands\n",
    "    #mb.subscribe_message(f\"devices/{device_type}/{device_name}\",respondToCommand) \n",
    "    \n",
    "    # Perpetually listen for IoT commands\n",
    "    iot_status = \"run\"                                                             # keep python running so that listener can do it's job\n",
    "    while not iot_status==\"shutdown\":                                              # when it's time to stop, iot makes iot_status='shutdown'{}\n",
    "        if iot_status==\"run\":                                                      # if the device is in run mode,\n",
    "            is_pending = sum([job.should_run for job in schedule.jobs])            # Get the number of pending jobs that should be run now\n",
    "            if is_pending:                                                         # if there are any pending jobs to run\n",
    "                schedule.run_pending()                                             # run the pending jobs\n",
    "                _updateIot(device_name, mb )                                       # schedule info has changed, so update IoT state\n",
    "        time.sleep(.1)                                                             # wait a little to save cpu usage\n",
    "    mb.shutdown()                                                                  # shutdown iot at the end.\n",
    "    "
   ]
  },
  {
   "cell_type": "markdown",
   "id": "f88fc8cc",
   "metadata": {
    "heading_collapsed": true
   },
   "source": [
    "### <font color=\"orange\"> Correct logging, but too many messy comments"
   ]
  },
  {
   "cell_type": "raw",
   "id": "02f8ec9c",
   "metadata": {
    "hidden": true,
    "slideshow": {
     "slide_type": "fragment"
    }
   },
   "source": [
    "def start_iot(device_name, device_type, experiment):\n",
    "    \"\"\"Create a device and have it start listening for commands. This is intended for simple use cases\"\"\"\n",
    "    # Initialize environment\n",
    "    from braingeneers.iot import messaging; import uuid; import schedule; import time; import warnings; import logging; import traceback #requried packages\n",
    "    global iot_status                                                              # states if iot is running. Other iot functions can change it asynchronously\n",
    "    warnings.filterwarnings(action='once')                                         # stops same warning from appearing more than once\n",
    "    mb = messaging.MessageBroker(str(uuid.uuid4))                                  # spin up iot\n",
    "    \n",
    "    # Set up Logging\n",
    "    open(\"iot.log\", \"w\").close()\n",
    "    #open(\"output.log\", \"w\").close()\n",
    "    logging.basicConfig( level=logging.WARNING ) #, format=\"%(asctime)s - %(message)s\"  )\n",
    "    #logger2 = logging.getLogger()\n",
    "    #logger2.addHandler( logging.FileHandler('output.log', 'a'))  #logger2.addHandler( logging.StreamHandler(sys.stdout) )    \n",
    "    #open(\"all.log\", \"w\").close() #logging.basicConfig(level=logging.WARNING, filename='all.log', filemode='w', format='%(asctime)s - %(message)s')\n",
    "    #logging.basicConfig( level=logging.INFO, format=\"%(asctime)s - %(message)s\", \"%Y-%m-%d %H:%M:%S %Z\"  )\n",
    "    logger = logging.getLogger('schedule')\n",
    "    logger.setLevel(level=logging.DEBUG)\n",
    "    f_handler = logging.FileHandler('iot.log')\n",
    "    f_handler.setFormatter( logging.Formatter(\"%(asctime)s - %(message)s\", \"%Y-%m-%d %H:%M:%S %Z\") ) # %(levelname)s\n",
    "    logger.addHandler(f_handler)\n",
    "    global print\n",
    "    print = logger.debug\n",
    "    \n",
    "    #all_out = open(\"output.log\", \"w\")\n",
    "    #sys.stdout = all_out\n",
    "    #open(\"output.log\", \"w\").close()\n",
    "    #output = logging.getLogger('output')\n",
    "    #output = logging.getLogger()\n",
    "    #output.setLevel(logging.INFO)\n",
    "    #stdout_handler = logging.StreamHandler(sys.stdout)\n",
    "    #stdout_handler.setLevel(logging.DEBUG)\n",
    "    #stdout_handler.setFormatter( logging.Formatter(\"%(asctime)s - %(message)s\", \"%Y-%m-%d %H:%M:%S %Z\") )\n",
    "    #file_handler = logging.FileHandler('output.log')\n",
    "    #file_handler.setLevel(logging.DEBUG)\n",
    "    #file_handler.setFormatter( logging.Formatter(\"%(asctime)s - %(message)s\", \"%Y-%m-%d %H:%M:%S %Z\") )\n",
    "    #output.addHandler(file_handler)\n",
    "    #output.addHandler(stdout_handler)\n",
    "\n",
    "    # Start IoT Device\n",
    "    if device_name not in mb.list_devices_by_type( thingTypeName= device_type):    # check if device already exists\n",
    "        mb.create_device( device_name= device_name, device_type= device_type)      # if not, create it\n",
    "    else:                                                                          # otherwise, check device is ok and isn't still running\n",
    "        assert \"status\" in mb.get_device_state(device_name), f\"{device_name} has corrupted data! Talk to data team.\"\n",
    "        assert mb.get_device_state(device_name)[\"status\"]==\"shutdown\", f\"{device_name} already exists and isn't shutdown. Please shutdown with 'iot.shutdown({device_name})'\"\n",
    "    mb.update_device_state( device_name, {\"experiment\":experiment,\"status\":\"run\",\"jobs\":[],\"schedule\":[],\"history\":[]} ) # initialize iot state\n",
    "    \n",
    "    # Create function for when IoT command is received\n",
    "    def respondToCommand(topic: str, message: dict):                               # build function that runs when device receives command\n",
    "        logger.debug(f\"Run Command: {message['command']}\")\n",
    "        try:\n",
    "            exec(message[\"command\"])                                                   # run python command that was sent\n",
    "        except Exception as e:\n",
    "            logger.error(\"\\n\"+traceback.format_exc())\n",
    "        _updateIot(device_name, mb )                                               # update iot state, in case schedule/status changed\n",
    "    mb.subscribe_message( f\"devices/+/{device_name}\", respondToCommand )           # start listening for new commands\n",
    "    #mb.subscribe_message(f\"devices/{device_type}/{device_name}\",respondToCommand) \n",
    "    \n",
    "    # Perpetually listen for IoT commands\n",
    "    iot_status = \"run\"                                                             # keep python running so that listener can do it's job\n",
    "    while not iot_status==\"shutdown\":                                              # when it's time to stop, iot makes iot_status='shutdown'{}\n",
    "        if iot_status==\"run\":                                                      # if the device is in run mode,\n",
    "            is_pending = sum([job.should_run for job in schedule.jobs])            # Get the number of pending jobs that should be run now\n",
    "            if is_pending:                                                         # if there are any pending jobs to run\n",
    "                schedule.run_pending()                                             # run the pending jobs\n",
    "                _updateIot(device_name, mb )                                       # schedule info has changed, so update IoT state\n",
    "        time.sleep(.1)                                                             # wait a little to save cpu usage\n",
    "    mb.shutdown()                                                                  # shutdown iot at the end.\n",
    "    "
   ]
  },
  {
   "cell_type": "markdown",
   "id": "b216db70",
   "metadata": {
    "heading_collapsed": true
   },
   "source": [
    "### <font color=\"orange\">with updateIoT helper function"
   ]
  },
  {
   "cell_type": "raw",
   "id": "e8ed14e8",
   "metadata": {
    "hidden": true
   },
   "source": [
    "def start_iot(device_name, device_type, experiment):\n",
    "    \"\"\"Create a device and have it start listening for commands. This is intended for simple use cases\"\"\"\n",
    "    # Initialize environment\n",
    "    from braingeneers.iot import messaging; import uuid; import schedule; import time; import warnings; import logging #requried packages\n",
    "    global iot_status                                                              # states if iot is running. Other iot functions can change it asynchronously\n",
    "    warnings.filterwarnings(action='once')                                         # stops same warning from appearing more than once\n",
    "    mb = messaging.MessageBroker(str(uuid.uuid4))                                  # spin up iot\n",
    "    \n",
    "    # Set up Logging\n",
    "    open(\"iot.log\", \"w\").close()\n",
    "    #open(\"all.log\", \"w\").close() #logging.basicConfig(level=logging.WARNING, filename='all.log', filemode='w', format='%(asctime)s - %(message)s')\n",
    "    logging.basicConfig()\n",
    "    logger = logging.getLogger('schedule')\n",
    "    logger.setLevel(level=logging.DEBUG)\n",
    "    f_handler = logging.FileHandler('iot.log')\n",
    "    f_handler.setFormatter( logging.Formatter(\"%(asctime)s - %(message)s\", \"%Y-%m-%d %H:%M:%S %Z\") ) # %(levelname)s\n",
    "    logger.addHandler(f_handler)\n",
    "    \n",
    "    # Start IoT Device\n",
    "    if device_name not in mb.list_devices_by_type( thingTypeName= device_type):    # check if device already exists\n",
    "        mb.create_device( device_name= device_name, device_type= device_type)      # if not, create it\n",
    "    else:                                                                          # otherwise, check device is ok and isn't still running\n",
    "        assert \"status\" in mb.get_device_state(device_name), f\"{device_name} has corrupted data! Talk to data team.\"\n",
    "        assert mb.get_device_state(device_name)[\"status\"]==\"shutdown\", f\"{device_name} already exists and isn't shutdown. Please shutdown with 'iot.shutdown({device_name})'\"\n",
    "    mb.update_device_state( device_name, {\"experiment\":experiment,\"status\":\"run\",\"jobs\":[],\"schedule\":[],\"history\":[]} ) # initialize iot state\n",
    "    \n",
    "    # Create function for when IoT command is received\n",
    "    def respondToCommand(topic: str, message: dict):                               # build function that runs when device receives command\n",
    "        logger.debug(f\"Run Command: {message['command']}\")\n",
    "        exec(message[\"command\"])                                                   # run python command that was sent\n",
    "        _updateIot(device_name, mb )                                               # update iot state, in case schedule/status changed\n",
    "    mb.subscribe_message( f\"devices/+/{device_name}\", respondToCommand )           # start listening for new commands\n",
    "    #mb.subscribe_message(f\"devices/{device_type}/{device_name}\",respondToCommand) \n",
    "    \n",
    "    # Perpetually listen for IoT commands\n",
    "    iot_status = \"run\"                                                             # keep python running so that listener can do it's job\n",
    "    while not iot_status==\"shutdown\":                                              # when it's time to stop, iot makes iot_status='shutdown'{}\n",
    "        if iot_status==\"run\":                                                      # if the device is in run mode,\n",
    "            is_pending = sum([job.should_run for job in schedule.jobs])            # Get the number of pending jobs that should be run now\n",
    "            if is_pending:                                                         # if there are any pending jobs to run\n",
    "                schedule.run_pending()                                             # run the pending jobs\n",
    "                _updateIot(device_name, mb )                                       # schedule info has changed, so update IoT state\n",
    "        time.sleep(.1)                                                             # wait a little to save cpu usage\n",
    "    mb.shutdown()                                                                  # shutdown iot at the end.\n",
    "    "
   ]
  },
  {
   "cell_type": "markdown",
   "id": "09e9fdd5",
   "metadata": {
    "heading_collapsed": true
   },
   "source": [
    "### <font color=\"orange\">with Pause and Shutdown "
   ]
  },
  {
   "cell_type": "code",
   "execution_count": 18,
   "id": "522cc017",
   "metadata": {
    "hidden": true
   },
   "outputs": [],
   "source": [
    "#\"feeding/flow_1\""
   ]
  },
  {
   "cell_type": "raw",
   "id": "ccbcd2d7",
   "metadata": {
    "hidden": true
   },
   "source": [
    "def start(device_name, device_type, experiment):\n",
    "    \"\"\"Create a device and have it start listening for commands. This is intended for simple use cases\"\"\"\n",
    "    global iot_status                                                              # states if iot is running. Other iot functions can change it asynchronously\n",
    "    warnings.filterwarnings(action='once')                                         # stops same warning from appearing more than once\n",
    "    mb = messaging.MessageBroker(str(uuid.uuid4))                                  # spin up iot\n",
    "    \n",
    "    if device_name not in mb.list_devices_by_type( thingTypeName= device_type):    # check if device already exists\n",
    "        mb.create_device( device_name= device_name, device_type= device_type)      # if not, create it\n",
    "    else:                                                                          # otherwise, check device is ok and isn't still running\n",
    "        assert \"status\" in mb.get_device_state(device_name), f\"{device_name} has corrupted data! Talk to data team.\"\n",
    "        assert mb.get_device_state(device_name)[\"status\"]==\"shutdown\", f\"{device_name} already exists and isn't shutdown. Please shutdown with 'iot.shutdown({device_name})'\"\n",
    "    mb.update_device_state( device_name, {\"experiment\":experiment,\"status\":\"run\",\"schedule\":[], \"jobs\":[]} )    # reset state for new run\n",
    "    \n",
    "    def respondToCommand(topic: str, message: dict):                               # build function that runs when device receives command\n",
    "        exec(message[\"command\"])                                                   # run python command that was sent\n",
    "        \n",
    "        \n",
    "        schedule_str= [f\"Job {i}: \"+x.__repr__() for i,x in enumerate(schedule.get_jobs())]  # turn schedule into list of strings\n",
    "        \n",
    "        \n",
    "        jobs= [job.__str__() for job in schedule.get_jobs()]                       # get python command used to create each job\n",
    "        mb.update_device_state( device_name, {\"schedule\":schedule_str, \"status\":iot_status, \"jobs\":jobs} ) # in case there's changed, update IoT state's info\n",
    "    mb.subscribe_message( f\"devices/+/{device_name}\", respondToCommand )           # start listening for new commands\n",
    "    #mb.subscribe_message(f\"devices/{device_type}/{device_name}\",respondToCommand) # start listening for new commands\n",
    "    \n",
    "    iot_status = \"run\"                                                             # keep python running so that listener can do it's job\n",
    "    while not iot_status==\"shutdown\":                                              # when it's time to stop, iot makes iot_status='shutdown'{}\n",
    "        if iot_status==\"run\":                                                      # if the device is in run mode,\n",
    "            is_pending = sum([job.should_run for job in schedule.jobs])            # Get the number of pending jobs that should be run now\n",
    "            if is_pending:                                                         # if there are any pending jobs to run\n",
    "                schedule.run_pending()                                             # run the pending jobs\n",
    "                schedule_str= [f\"Job {i}: \"+x.__repr__() for i,x in enumerate(schedule.get_jobs())]   # After running jobs, get updated schedule info \n",
    "                jobs= [job.__str__() for job in schedule.get_jobs()] \n",
    "                mb.update_device_state( device_name, {\"schedule\":schedule_str, \"jobs\":jobs} )   # send updated schedule info to publicly visible IoT state\n",
    "        time.sleep(.1)                                                             # wait a little to save cpu usage\n",
    "    mb.shutdown()                                                                  # shutdown iot at the end.\n",
    "        "
   ]
  },
  {
   "cell_type": "markdown",
   "id": "cfd14964",
   "metadata": {
    "heading_collapsed": true
   },
   "source": [
    "## <font color=\"gray\">Helper: ready_iot"
   ]
  },
  {
   "cell_type": "code",
   "execution_count": 19,
   "id": "4abe4375",
   "metadata": {
    "hidden": true
   },
   "outputs": [],
   "source": [
    "def ready_iot():\n",
    "    \"\"\"Save source code for start_iot function to a place where it can be executed by the user\"\"\"\n",
    "    builtins.ready_iot = inspect.getsource(start_iot)"
   ]
  },
  {
   "cell_type": "markdown",
   "id": "1112fc36",
   "metadata": {},
   "source": [
    "# Interface Commands"
   ]
  },
  {
   "cell_type": "markdown",
   "id": "42779f04",
   "metadata": {
    "heading_collapsed": true
   },
   "source": [
    "## send"
   ]
  },
  {
   "cell_type": "code",
   "execution_count": 20,
   "id": "fddaa2fc",
   "metadata": {
    "hidden": true
   },
   "outputs": [],
   "source": [
    "def send( device_name, command ):\n",
    "    \"\"\"Send a python script as a string which is then implemented by an IoT device. This is intended for simple use cases\"\"\"\n",
    "    warnings.filterwarnings(\"ignore\")\n",
    "    mb = messaging.MessageBroker(str(uuid.uuid4))                             # spin up iot\n",
    "    mb.publish_message( topic=f\"devices/dummy/{device_name}\", message={\"command\": command } )    # send command to listening device\n",
    "    mb.shutdown()                                                             # shutdown iot"
   ]
  },
  {
   "cell_type": "markdown",
   "id": "16f24340",
   "metadata": {
    "heading_collapsed": true
   },
   "source": [
    "## get_schedule"
   ]
  },
  {
   "cell_type": "code",
   "execution_count": 21,
   "id": "a075db6c",
   "metadata": {
    "hidden": true
   },
   "outputs": [],
   "source": [
    "def get_schedule( device_name ):\n",
    "    \"\"\"Get a list of scheduled commands from a device's shadow. This is intended for simple use cases\"\"\"\n",
    "    warnings.filterwarnings(\"ignore\")\n",
    "    mb = messaging.MessageBroker(str(uuid.uuid4))                             # spin up iot\n",
    "    my_schedule = mb.get_device_state( device_name )[\"schedule\"]              # get schedule for device\n",
    "    mb.shutdown()                                                             # shutdown iot\n",
    "    return my_schedule                                                        # return schedule to user"
   ]
  },
  {
   "cell_type": "markdown",
   "id": "7ef0861c",
   "metadata": {
    "heading_collapsed": true
   },
   "source": [
    "## get_status"
   ]
  },
  {
   "cell_type": "code",
   "execution_count": 22,
   "id": "aa0f3811",
   "metadata": {
    "hidden": true
   },
   "outputs": [],
   "source": [
    "def get_status( device_name ):\n",
    "    \"\"\"Get a list of scheduled commands from a device's shadow. This is intended for simple use cases\"\"\"\n",
    "    warnings.filterwarnings(\"ignore\")\n",
    "    mb = messaging.MessageBroker(str(uuid.uuid4))                        # spin up iot\n",
    "    status = mb.get_device_state( device_name )[\"status\"]                # get schedule for device\n",
    "    mb.shutdown()                                                        # shutdown iot\n",
    "    return status                                                        # return schedule to user"
   ]
  },
  {
   "cell_type": "markdown",
   "id": "28a3dd4d",
   "metadata": {
    "heading_collapsed": true
   },
   "source": [
    "## get_history"
   ]
  },
  {
   "cell_type": "code",
   "execution_count": null,
   "id": "dc0eb00e",
   "metadata": {
    "hidden": true
   },
   "outputs": [],
   "source": [
    "def get_history( device_name ):\n",
    "    \"\"\"Get a list of scheduled commands from a device's shadow. This is intended for simple use cases\"\"\"\n",
    "    warnings.filterwarnings(\"ignore\")\n",
    "    mb = messaging.MessageBroker(str(uuid.uuid4))                        # spin up iot\n",
    "    status = mb.get_device_state( device_name )[\"history\"]                # get schedule for device\n",
    "    mb.shutdown()                                                        # shutdown iot\n",
    "    return status                                                        # return schedule to user"
   ]
  },
  {
   "cell_type": "markdown",
   "id": "bffb6426",
   "metadata": {
    "heading_collapsed": true
   },
   "source": [
    "## get_info"
   ]
  },
  {
   "cell_type": "code",
   "execution_count": 23,
   "id": "83f909d9",
   "metadata": {
    "hidden": true
   },
   "outputs": [],
   "source": [
    "def get_info( device_name ): \n",
    "    \"\"\"Get public device info from its shadow. This is intended for simple use cases\"\"\"\n",
    "    warnings.filterwarnings(\"ignore\")\n",
    "    mb = messaging.MessageBroker(str(uuid.uuid4))                             # spin up iot\n",
    "    info = mb.get_device_state( device_name )                                 # get all info\n",
    "    mb.shutdown()                                                             # shutdown iot\n",
    "    return info                                                               # return info to user"
   ]
  },
  {
   "cell_type": "markdown",
   "id": "d159e6ea",
   "metadata": {},
   "source": [
    "## draw_schedule "
   ]
  },
  {
   "cell_type": "markdown",
   "id": "deb3cd78",
   "metadata": {},
   "source": [
    "### <font color=\"green\">Added red line for current time."
   ]
  },
  {
   "cell_type": "code",
   "execution_count": 76,
   "id": "1eb39505",
   "metadata": {},
   "outputs": [],
   "source": [
    "def draw_schedule( device_list ):\n",
    "    \"\"\"Draw a weekly schedule of all events that occure for a chose device or experiment\"\"\"\n",
    "    # To Do: figure out how to find all device if given the experiment.\n",
    "    fig, ax = plt.subplots( figsize=(18, 15) )\n",
    "    plt.title('Weekly Schedule', y=1, fontsize=16)       # Give the figure a title\n",
    "    ax.grid(axis='y', linestyle='--', linewidth=0.5)     # Add horizonal grid lines to the plot\n",
    "\n",
    "    DAYS = ['Monday','Tuesday', 'Wednesday', 'Thursday', 'Friday', 'Saturday', 'Sunday']\n",
    "    ax.set_xlim(0.5, len(DAYS) + 0.5)\n",
    "    ax.set_xticks(range(1, len(DAYS) + 1))\n",
    "    ax.set_xticklabels(DAYS)\n",
    "    ax.set_ylim( 24, 0)\n",
    "    ax.set_yticks(range(0, 24))\n",
    "    ax.set_yticklabels([\"{0}:00\".format(h) for h in range(0, 24)])\n",
    "\n",
    "    # !!! This code should be able to handle experiment types \n",
    "    # Locally: schedule_str= [f\"Job {i}: \"+x.__repr__() for i,x in enumerate(schedule.get_jobs())]  #jobs= [job.__str__() for job in schedule.get_jobs()] \n",
    "    if type(device_list)==type(\"\"):                    # if single device was passed to the function as a string instead of list, \n",
    "        device_list = [device_list]                    # turn it into a list\n",
    "    colors= [\"cornflowerblue\",\"darkorange\",\"mediumpurple\",\"lightgreen\"]\n",
    "    legend_elements = [ Patch(colors[i],colors[i],alpha=0.3) for i in range(len(device_list)) ]\n",
    "    plt.legend(legend_elements, device_list, bbox_to_anchor=(1.1,1), loc=\"upper right\", prop={'size': 12})       # Add legend  # Show plot\n",
    "    \n",
    "    for dev_num, device in enumerate(device_list):\n",
    "        info = get_info( device )\n",
    "        jobs, schedule_str = info[\"jobs\"], info[\"schedule\"]\n",
    "\n",
    "        for i in range(len(jobs)):                             # for each job, we get it's next run time, and run interval for IoT state information\n",
    "            next_run= datetime.fromisoformat( schedule_str[i].split(\"next run: \")[1].split(\")\")[0] )\n",
    "            period = timedelta(**{ jobs[i].split(\"unit=\")[1].split(\",\")[0] : int(jobs[i].split(\"interval=\")[1].split(\",\")[0]) })\n",
    "            if \"UNTIL-\" in jobs[i]:                                                           # if there is a specified stop time, use it\n",
    "                stop_time = datetime.fromisoformat( jobs[i].split(\"UNTIL-\")[1] )\n",
    "            else:                                                                             # otherwise stop at weekly cycle\n",
    "                stop_time =  datetime.now() - timedelta(hours=7) + timedelta(weeks=1)     # Consider jobs that occur up to a week from now\n",
    "            job_times = []                                                                 # create a list of all event times for a job\n",
    "            while next_run < stop_time:\n",
    "                job_times.append(next_run)\n",
    "                next_run += period\n",
    "\n",
    "            for event in job_times:\n",
    "                d = event.weekday() + 0.52                                                   # get day of week for event\n",
    "                start = float(event.hour) + float(event.minute) / 60                         # get start time of event\n",
    "                end = float(event.hour) + (float(event.minute)+15) / 60                      # Ends 15 minutes after start\n",
    "                plt.fill_between([d, d + 0.96], [start, start], [end, end], color=colors[dev_num],alpha=0.3)\n",
    "                plt.text(d + 0.02, start + 0.02, '{0}:{1:0>2}'.format(event.hour, event.minute), va='top', fontsize=8)\n",
    "                plt.text(d + 0.48, start + 0.01, f\"Job {i}\", va='top', fontsize=8) #ha='center', va='center', fontsize=10)\n",
    "                \n",
    "    # Add a red line for when right now is\n",
    "    now =  datetime.now() - timedelta(hours=7) \n",
    "    d = now.weekday() + 0.52                                                   # get day of week for event\n",
    "    start = float(now.hour) + float(now.minute) / 60                         # get start time of event\n",
    "    end = float(now.hour) + (float(now.minute)+5) / 60                      # Ends 15 minutes after start\n",
    "    plt.fill_between([d, d + 0.96 ], [start, start], [end, end], color='red' )\n",
    "    plt.show()"
   ]
  },
  {
   "cell_type": "markdown",
   "id": "31765ef5",
   "metadata": {
    "heading_collapsed": true
   },
   "source": [
    "### <font color=\"orange\">Schedule for Multiple Device"
   ]
  },
  {
   "cell_type": "raw",
   "id": "7d63b282",
   "metadata": {
    "hidden": true
   },
   "source": [
    "def draw_schedule( device_list ):\n",
    "    \"\"\"Draw a weekly schedule of all events that occure for a chose device or experiment\"\"\"\n",
    "    # To Do: figure out how to find all device if given the experiment.\n",
    "    fig, ax = plt.subplots( figsize=(18, 15) )\n",
    "    plt.title('Weekly Schedule', y=1, fontsize=16)       # Give the figure a title\n",
    "    ax.grid(axis='y', linestyle='--', linewidth=0.5)     # Add horizonal grid lines to the plot\n",
    "\n",
    "    DAYS = ['Monday','Tuesday', 'Wednesday', 'Thursday', 'Friday', 'Saturday', 'Sunday']\n",
    "    ax.set_xlim(0.5, len(DAYS) + 0.5)\n",
    "    ax.set_xticks(range(1, len(DAYS) + 1))\n",
    "    ax.set_xticklabels(DAYS)\n",
    "    ax.set_ylim( 24, 0)\n",
    "    ax.set_yticks(range(0, 24))\n",
    "    ax.set_yticklabels([\"{0}:00\".format(h) for h in range(0, 24)])\n",
    "    #plt.savefig('{0}.png'.format(os.path.splitext(sys.argv[1])[0]), dpi=200, bbox_inches='tight')\n",
    "\n",
    "    # !!! This code should be able to handle experiment types as well as device lists\n",
    "    # Locally: schedule_str= [f\"Job {i}: \"+x.__repr__() for i,x in enumerate(schedule.get_jobs())]  #jobs= [job.__str__() for job in schedule.get_jobs()] \n",
    "    if type(device_list)==type(\"\"):                    # if single device was passed to the function as a string instead of list, \n",
    "        device_list = [device_list]                    # turn it into a list\n",
    "    colors= [\"cornflowerblue\",\"darkorange\",\"mediumpurple\",\"lightgreen\"]\n",
    "    legend_elements = [ Patch(colors[i],colors[i],alpha=0.3) for i in range(len(device_list)) ]\n",
    "    plt.legend(legend_elements, device_list, bbox_to_anchor=(1.1,1), loc=\"upper right\", prop={'size': 12})       # Add legend  # Show plot\n",
    "    \n",
    "    for dev_num, device in enumerate(device_list):\n",
    "        info = get_info( device )\n",
    "        jobs, schedule_str = info[\"jobs\"], info[\"schedule\"]\n",
    "\n",
    "        for i in range(len(jobs)):                             # for each job, we get it's next run time, and run interval for IoT state information\n",
    "            next_run= datetime.fromisoformat( schedule_str[i].split(\"next run: \")[1].split(\")\")[0] )\n",
    "            period = timedelta(**{ jobs[i].split(\"unit=\")[1].split(\",\")[0] : int(jobs[i].split(\"interval=\")[1].split(\",\")[0]) })\n",
    "            if \"UNTIL-\" in jobs[i]:                                                           # if there is a specified stop time, use it\n",
    "                stop_time = datetime.fromisoformat( jobs[i].split(\"UNTIL-\")[1] )\n",
    "            else:                                                                             # otherwise stop at weekly cycle\n",
    "                today = (datetime.now() - timedelta(hours=7)).replace(hour=0,minute=0,second=0,microsecond=0) # WARNING: Check Daylight savings\n",
    "                stop_time =  today + timedelta(weeks=1)   # we will consider all job events that ocure in a week\n",
    "            job_times = []                   # create a list of all event times for a job\n",
    "            while next_run < stop_time:\n",
    "                job_times.append(next_run)\n",
    "                next_run += period\n",
    "\n",
    "            for event in job_times:\n",
    "                d = event.weekday() + 0.52                                                   # get day of week for event\n",
    "                start = float(event.hour) + float(event.minute) / 60                         # get start time of event\n",
    "                end = float(event.hour) + (float(event.minute)+15) / 60                      # Ends 15 minutes after start\n",
    "                plt.fill_between([d, d + 0.96], [start, start], [end, end], color=colors[dev_num],alpha=0.3)\n",
    "                plt.text(d + 0.02, start + 0.02, '{0}:{1:0>2}'.format(event.hour, event.minute), va='top', fontsize=8)\n",
    "                plt.text(d + 0.48, start + 0.01, f\"Job {i}\", va='top', fontsize=8) #ha='center', va='center', fontsize=10)\n",
    "    plt.show()"
   ]
  },
  {
   "cell_type": "markdown",
   "id": "64617d97",
   "metadata": {
    "heading_collapsed": true
   },
   "source": [
    "### <font color=\"orange\"> Shows scheduel from today until 7 days from now"
   ]
  },
  {
   "cell_type": "raw",
   "id": "5b64bd0d",
   "metadata": {
    "code_folding": [],
    "hidden": true
   },
   "source": [
    "def draw_schedule( device_experiment ):\n",
    "    \"\"\"Draw a weekly schedule of all events that occure for a chose device or experiment\"\"\"\n",
    "    # To Do: figure out how to find all device if given the experiment.\n",
    "    fig, ax = plt.subplots( figsize=(18, 15) )\n",
    "    plt.title('Weekly Schedule', y=1, fontsize=16)       # Give the figure a title\n",
    "    ax.grid(axis='y', linestyle='--', linewidth=0.5)     # Add horizonal grid lines to the plot\n",
    "\n",
    "    DAYS = ['Monday','Tuesday', 'Wednesday', 'Thursday', 'Friday', 'Saturday', 'Sunday']\n",
    "    ax.set_xlim(0.5, len(DAYS) + 0.5)\n",
    "    ax.set_xticks(range(1, len(DAYS) + 1))\n",
    "    ax.set_xticklabels(DAYS)\n",
    "    ax.set_ylim( 24, 0)\n",
    "    ax.set_yticks(range(0, 24))\n",
    "    ax.set_yticklabels([\"{0}:00\".format(h) for h in range(0, 24)])\n",
    "    #plt.savefig('{0}.png'.format(os.path.splitext(sys.argv[1])[0]), dpi=200, bbox_inches='tight')\n",
    "\n",
    "    # !!! this code below should be wrapped in a for loop that allows this to be done with multiple devices\n",
    "    # Locally: schedule_str= [f\"Job {i}: \"+x.__repr__() for i,x in enumerate(schedule.get_jobs())]  #jobs= [job.__str__() for job in schedule.get_jobs()] \n",
    "    info = get_info( device_experiment )\n",
    "    jobs, schedule_str = info[\"jobs\"], info[\"schedule\"]\n",
    "\n",
    "    for i in range(len(jobs)):                             # for each job, we get it's next run time, and run interval for IoT state information\n",
    "        next_run= datetime.fromisoformat( schedule_str[i].split(\"next run: \")[1].split(\")\")[0] )\n",
    "        period = timedelta(**{ jobs[i].split(\"unit=\")[1].split(\",\")[0] : int(jobs[i].split(\"interval=\")[1].split(\",\")[0]) })\n",
    "        if \"UNTIL-\" in jobs[i]:                                                           # if there is a specified stop time, use it\n",
    "            stop_time = datetime.fromisoformat( jobs[i].split(\"UNTIL-\")[1] )\n",
    "        else:                                                                             # otherwise stop at weekly cycle\n",
    "            today = (datetime.now() - timedelta(hours=7)).replace(hour=0,minute=0,second=0,microsecond=0) # WARNING: Check Daylight savings\n",
    "            stop_time =  today + timedelta(weeks=1)   # we will consider all job events that ocure in a week\n",
    "        job_times = []                   # create a list of all event times for a job\n",
    "        while next_run < stop_time:\n",
    "            job_times.append(next_run)\n",
    "            next_run += period\n",
    "\n",
    "        for event in job_times:\n",
    "            d = event.weekday() + 0.52                                                   # get day of week for event\n",
    "            start = float(event.hour) + float(event.minute) / 60                         # get start time of event\n",
    "            end = float(event.hour) + (float(event.minute)+15) / 60                      # Ends 15 minutes after start\n",
    "            plt.fill_between([d, d + 0.96], [start, start], [end, end], color=\"cornflowerblue\",alpha=0.3)\n",
    "            plt.text(d + 0.02, start + 0.02, '{0}:{1:0>2}'.format(event.hour, event.minute), va='top', fontsize=8)\n",
    "            plt.text(d + 0.48, start + 0.01, f\"Job {i}\", va='top', fontsize=8) #ha='center', va='center', fontsize=10)"
   ]
  },
  {
   "cell_type": "markdown",
   "id": "0233e92e",
   "metadata": {
    "heading_collapsed": true
   },
   "source": [
    "### <font color=\"orange\">Only shows rest of week after today"
   ]
  },
  {
   "cell_type": "raw",
   "id": "0431e8d8",
   "metadata": {
    "hidden": true
   },
   "source": [
    "def draw_schedule( device_experiment ):\n",
    "    \"\"\"Draw a weekly schedule of all events that occure for a chose device or experiment\"\"\"\n",
    "    # To Do: figure out how to find all device if given the experiment.\n",
    "    \n",
    "    fig = plt.figure(figsize=(18, 15))                    # Create figure for plotting\n",
    "    plt.title('Weekly Schedule', y=1, fontsize=14)       # Give the figure a title\n",
    "    ax=fig.add_subplot(1, 1, 1)                          # Create a plot in the figure \n",
    "    ax.grid(axis='y', linestyle='--', linewidth=0.5)     # Add horizonal grid lines to the plot\n",
    "\n",
    "    DAYS = ['Monday','Tuesday', 'Wednesday', 'Thursday', 'Friday', 'Saturday', 'Sunday']\n",
    "    ax.set_xlim(0.5, len(DAYS) + 0.5)\n",
    "    ax.set_xticks(range(1, len(DAYS) + 1))\n",
    "    ax.set_xticklabels(DAYS)\n",
    "    ax.set_ylim( 24, 0)\n",
    "    ax.set_yticks(range(0, 24))\n",
    "    ax.set_yticklabels([\"{0}:00\".format(h) for h in range(0, 24)])\n",
    "    #plt.savefig('{0}.png'.format(os.path.splitext(sys.argv[1])[0]), dpi=200, bbox_inches='tight')\n",
    "\n",
    "    # !!! this code below should be wrapped in a for loop that allows this to be done with multiple devices\n",
    "    # !!! These two lines of code should be replaced by some \"iot.get_device_state\" command that get schedule's info from device state\n",
    "    #schedule_str= [f\"Job {i}: \"+x.__repr__() for i,x in enumerate(schedule.get_jobs())]   # After running jobs, get updated schedule info \n",
    "    #jobs= [job.__str__() for job in schedule.get_jobs()] \n",
    "    info = get_info( device_experiment )\n",
    "    jobs, schedule_str = info[\"jobs\"], info[\"schedule\"]\n",
    "\n",
    "    for i in range(len(jobs)):                             # for each job, we get it's next run time, and run interval for IoT state information\n",
    "        next_run= datetime.fromisoformat( schedule_str[i].split(\"next run: \")[1].split(\")\")[0] )\n",
    "        period = timedelta(**{ jobs[i].split(\"unit=\")[1].split(\",\")[0] : int(jobs[i].split(\"interval=\")[1].split(\",\")[0]) })\n",
    "        today = datetime.combine(date.today(), datetime.min.time())\n",
    "        next_mon =  today + timedelta(days=-today.weekday(), weeks=1)   # we will consider all job events that ocure before next monday\n",
    "        job_times = []                   # create a list of all event times for a job\n",
    "        while next_run < next_mon:\n",
    "            job_times.append(next_run)\n",
    "            next_run += period\n",
    "\n",
    "        for event in job_times:\n",
    "            d = event.weekday() + 0.52                                                   # get day of week for event\n",
    "            start = float(event.hour) + float(event.minute) / 60                         # get start time of event\n",
    "            end = float(event.hour) + (float(event.minute)+20) / 60                      # Ends 30 minutes after start\n",
    "            plt.fill_between([d, d + 0.96], [start, start], [end, end], color=\"cornflowerblue\")\n",
    "            plt.text(d + 0.02, start + 0.02, '{0}:{1:0>2}'.format(event.hour, event.minute), va='top', fontsize=8)\n",
    "            plt.text(d + 0.48, (start + end) * 0.502, f\"Job {i}\", ha='center', va='center', fontsize=10)\n"
   ]
  },
  {
   "cell_type": "markdown",
   "id": "47825461",
   "metadata": {
    "heading_collapsed": true
   },
   "source": [
    "## shutdown"
   ]
  },
  {
   "cell_type": "code",
   "execution_count": 25,
   "id": "f4c18d3a",
   "metadata": {
    "hidden": true
   },
   "outputs": [],
   "source": [
    "def shutdown( device_name, hard=False ):\n",
    "    \"\"\"Stops iot listener on device by changing flag on shadow. This is intended for simple use cases\"\"\"\n",
    "    send(device_name, \"global iot_status; iot_status='shutdown'\")\n",
    "    if hard == True:\n",
    "        mb = messaging.MessageBroker(str(uuid.uuid4))               # spin up iot\n",
    "        mb.update_device_state( device_name, {\"status\":\"shutdown\"} )              # change status flag on device state to run\n",
    "        mb.shutdown()   \n"
   ]
  },
  {
   "cell_type": "markdown",
   "id": "2b8de049",
   "metadata": {
    "heading_collapsed": true
   },
   "source": [
    "## pause"
   ]
  },
  {
   "cell_type": "code",
   "execution_count": 26,
   "id": "6030adfd",
   "metadata": {
    "hidden": true
   },
   "outputs": [],
   "source": [
    "def pause( device_name ):\n",
    "    \"\"\"Pauses iot listener on device by changing flag on shadow. This is intended for simple use cases\"\"\"\n",
    "    send(device_name, \"global iot_status; iot_status='pause'\")    "
   ]
  },
  {
   "cell_type": "markdown",
   "id": "93382ba5",
   "metadata": {
    "heading_collapsed": true
   },
   "source": [
    "## run"
   ]
  },
  {
   "cell_type": "code",
   "execution_count": 27,
   "id": "20c108ee",
   "metadata": {
    "hidden": true
   },
   "outputs": [],
   "source": [
    "def run( device_name ):\n",
    "    \"\"\"Resumes running of iot listener on device by changing flag on shadow. This is intended for simple use cases\"\"\"\n",
    "    send(device_name, \"global iot_status; iot_status='run'\")"
   ]
  },
  {
   "cell_type": "code",
   "execution_count": null,
   "id": "f19879ae",
   "metadata": {
    "hidden": true
   },
   "outputs": [],
   "source": []
  }
 ],
 "metadata": {
  "hide_input": false,
  "kernelspec": {
   "display_name": "Python 3",
   "language": "python",
   "name": "python3"
  },
  "language_info": {
   "codemirror_mode": {
    "name": "ipython",
    "version": 3
   },
   "file_extension": ".py",
   "mimetype": "text/x-python",
   "name": "python",
   "nbconvert_exporter": "python",
   "pygments_lexer": "ipython3",
   "version": "3.8.8"
  },
  "toc": {
   "base_numbering": 1,
   "nav_menu": {},
   "number_sections": true,
   "sideBar": true,
   "skip_h1_title": false,
   "title_cell": "Table of Contents",
   "title_sidebar": "Contents",
   "toc_cell": false,
   "toc_position": {},
   "toc_section_display": true,
   "toc_window_display": false
  }
 },
 "nbformat": 4,
 "nbformat_minor": 5
}
